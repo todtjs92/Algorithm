{
  "nbformat": 4,
  "nbformat_minor": 0,
  "metadata": {
    "colab": {
      "name": "순위검색.ipynb",
      "provenance": [],
      "collapsed_sections": []
    },
    "kernelspec": {
      "name": "python3",
      "display_name": "Python 3"
    },
    "language_info": {
      "name": "python"
    }
  },
  "cells": [
    {
      "cell_type": "code",
      "execution_count": null,
      "metadata": {
        "id": "aeDXG4ipCDr8"
      },
      "outputs": [],
      "source": [
        "import re"
      ]
    },
    {
      "cell_type": "code",
      "source": [
        "from collections import defaultdict\n",
        "from itertools import combinations"
      ],
      "metadata": {
        "id": "wlddDJcxwAH8"
      },
      "execution_count": null,
      "outputs": []
    },
    {
      "cell_type": "code",
      "source": [
        "info = [\"java backend junior pizza 150\",\"python frontend senior chicken 210\",\"python frontend senior chicken 150\",\"cpp backend senior pizza 260\",\"java backend junior chicken 80\",\"python backend senior chicken 50\"]"
      ],
      "metadata": {
        "id": "M9Cal-4jCf3H"
      },
      "execution_count": null,
      "outputs": []
    },
    {
      "cell_type": "code",
      "source": [
        "query=[\"java and backend and junior and pizza 100\",\"python and frontend and senior and chicken 200\",\"cpp and - and senior and pizza 250\",\"- and backend and senior and - 150\",\"- and - and - and chicken 100\",\"- and - and - and - 150\"]"
      ],
      "metadata": {
        "id": "fE0517UGFB-e"
      },
      "execution_count": null,
      "outputs": []
    },
    {
      "cell_type": "code",
      "source": [
        "answer = []\n",
        "infos = defaultdict(list)\n",
        "for i in info:\n",
        "  conditions = i.split()[:-1]\n",
        "  score = int(i.split()[-1])\n",
        "  for r in range(5):\n",
        "    combis = list(combinations(range(4) ,r ))\n",
        "    print(combis)\n",
        "    for c in combis:\n",
        "     test_cases = conditions[:]\n",
        "     for v in c:\n",
        "       test_cases[v] = '-'\n",
        "     \n",
        "     infos['_'.join(test_cases)].append(score)\n",
        "  \n",
        "for item in infos:\n",
        "  infos[item].sort()        # 여기까지 info 만드는 과정 사전으로 만들어서. 탐색쉬움. \n",
        "  \n",
        "for q in  query:                    # query 전처리하고 점수 가져오는과정\n",
        "  q = q.replace('and','').split()\n",
        "  conditions = '_'.join(q[:-1])\n",
        "  score = int(q[-1])\n",
        "\n",
        "  if conditions in list(infos): # 여기에 이진탐색\n",
        "    data = infos[conditions]\n",
        "    if len(data) > 0:\n",
        "      start, end = 0, len(data)\n",
        "\n",
        "      while start != end and start != len(data):\n",
        "        if data[(start+end) // 2 ]  >= score:\n",
        "          end = (start+end) //2\n",
        "\n",
        "        else:\n",
        "          start = (start+end) //2 +1\n",
        "      \n",
        "      answer.append(len(data)-start)\n",
        "  \n",
        "  else:\n",
        "    answer.append(0)\n",
        "  \n",
        "  \n",
        "  \n",
        "    \n"
      ],
      "metadata": {
        "colab": {
          "base_uri": "https://localhost:8080/"
        },
        "id": "pzTFof10wMoV",
        "outputId": "684636e3-3d20-4b51-edc7-10ec9107d5ca"
      },
      "execution_count": null,
      "outputs": [
        {
          "output_type": "stream",
          "name": "stdout",
          "text": [
            "[()]\n",
            "[(0,), (1,), (2,), (3,)]\n",
            "[(0, 1), (0, 2), (0, 3), (1, 2), (1, 3), (2, 3)]\n",
            "[(0, 1, 2), (0, 1, 3), (0, 2, 3), (1, 2, 3)]\n",
            "[(0, 1, 2, 3)]\n",
            "[()]\n",
            "[(0,), (1,), (2,), (3,)]\n",
            "[(0, 1), (0, 2), (0, 3), (1, 2), (1, 3), (2, 3)]\n",
            "[(0, 1, 2), (0, 1, 3), (0, 2, 3), (1, 2, 3)]\n",
            "[(0, 1, 2, 3)]\n",
            "[()]\n",
            "[(0,), (1,), (2,), (3,)]\n",
            "[(0, 1), (0, 2), (0, 3), (1, 2), (1, 3), (2, 3)]\n",
            "[(0, 1, 2), (0, 1, 3), (0, 2, 3), (1, 2, 3)]\n",
            "[(0, 1, 2, 3)]\n",
            "[()]\n",
            "[(0,), (1,), (2,), (3,)]\n",
            "[(0, 1), (0, 2), (0, 3), (1, 2), (1, 3), (2, 3)]\n",
            "[(0, 1, 2), (0, 1, 3), (0, 2, 3), (1, 2, 3)]\n",
            "[(0, 1, 2, 3)]\n",
            "[()]\n",
            "[(0,), (1,), (2,), (3,)]\n",
            "[(0, 1), (0, 2), (0, 3), (1, 2), (1, 3), (2, 3)]\n",
            "[(0, 1, 2), (0, 1, 3), (0, 2, 3), (1, 2, 3)]\n",
            "[(0, 1, 2, 3)]\n",
            "[()]\n",
            "[(0,), (1,), (2,), (3,)]\n",
            "[(0, 1), (0, 2), (0, 3), (1, 2), (1, 3), (2, 3)]\n",
            "[(0, 1, 2), (0, 1, 3), (0, 2, 3), (1, 2, 3)]\n",
            "[(0, 1, 2, 3)]\n"
          ]
        }
      ]
    },
    {
      "cell_type": "code",
      "source": [
        "answer"
      ],
      "metadata": {
        "colab": {
          "base_uri": "https://localhost:8080/"
        },
        "id": "mi3V02Eh1USQ",
        "outputId": "0a87f675-40ea-4e4f-abb0-79dc08eaa412"
      },
      "execution_count": null,
      "outputs": [
        {
          "output_type": "execute_result",
          "data": {
            "text/plain": [
              "[1, 1, 1, 1, 2, 4]"
            ]
          },
          "metadata": {},
          "execution_count": 16
        }
      ]
    },
    {
      "cell_type": "code",
      "source": [
        "for item in infos:\n",
        "  print(item)"
      ],
      "metadata": {
        "colab": {
          "base_uri": "https://localhost:8080/"
        },
        "id": "fGGHC3NYyCcY",
        "outputId": "ef838992-0781-4f2e-e425-84515bcce979"
      },
      "execution_count": null,
      "outputs": [
        {
          "output_type": "stream",
          "name": "stdout",
          "text": [
            "java_backend_junior_pizza\n",
            "-_backend_junior_pizza\n",
            "java_-_junior_pizza\n",
            "java_backend_-_pizza\n",
            "java_backend_junior_-\n",
            "-_-_junior_pizza\n",
            "-_backend_-_pizza\n",
            "-_backend_junior_-\n",
            "java_-_-_pizza\n",
            "java_-_junior_-\n",
            "java_backend_-_-\n",
            "-_-_-_pizza\n",
            "-_-_junior_-\n",
            "-_backend_-_-\n",
            "java_-_-_-\n",
            "-_-_-_-\n",
            "python_frontend_senior_chicken\n",
            "-_frontend_senior_chicken\n",
            "python_-_senior_chicken\n",
            "python_frontend_-_chicken\n",
            "python_frontend_senior_-\n",
            "-_-_senior_chicken\n",
            "-_frontend_-_chicken\n",
            "-_frontend_senior_-\n",
            "python_-_-_chicken\n",
            "python_-_senior_-\n",
            "python_frontend_-_-\n",
            "-_-_-_chicken\n",
            "-_-_senior_-\n",
            "-_frontend_-_-\n",
            "python_-_-_-\n",
            "cpp_backend_senior_pizza\n",
            "-_backend_senior_pizza\n",
            "cpp_-_senior_pizza\n",
            "cpp_backend_-_pizza\n",
            "cpp_backend_senior_-\n",
            "-_-_senior_pizza\n",
            "-_backend_senior_-\n",
            "cpp_-_-_pizza\n",
            "cpp_-_senior_-\n",
            "cpp_backend_-_-\n",
            "cpp_-_-_-\n",
            "java_backend_junior_chicken\n",
            "-_backend_junior_chicken\n",
            "java_-_junior_chicken\n",
            "java_backend_-_chicken\n",
            "-_-_junior_chicken\n",
            "-_backend_-_chicken\n",
            "java_-_-_chicken\n",
            "python_backend_senior_chicken\n",
            "-_backend_senior_chicken\n",
            "python_backend_-_chicken\n",
            "python_backend_senior_-\n",
            "python_backend_-_-\n"
          ]
        }
      ]
    },
    {
      "cell_type": "code",
      "source": [
        "infos"
      ],
      "metadata": {
        "colab": {
          "base_uri": "https://localhost:8080/"
        },
        "id": "SFbr1yyEwMVl",
        "outputId": "a45f51a0-74aa-4806-c340-abbbd7858d68"
      },
      "execution_count": null,
      "outputs": [
        {
          "output_type": "execute_result",
          "data": {
            "text/plain": [
              "defaultdict(list,\n",
              "            {'-_-_-_-': [50, 80, 150, 150, 210, 260],\n",
              "             '-_-_-_chicken': [50, 80, 150, 210],\n",
              "             '-_-_-_pizza': [150, 260],\n",
              "             '-_-_junior_-': [80, 150],\n",
              "             '-_-_junior_chicken': [80],\n",
              "             '-_-_junior_pizza': [150],\n",
              "             '-_-_senior_-': [50, 150, 210, 260],\n",
              "             '-_-_senior_chicken': [50, 150, 210],\n",
              "             '-_-_senior_pizza': [260],\n",
              "             '-_backend_-_-': [50, 80, 150, 260],\n",
              "             '-_backend_-_chicken': [50, 80],\n",
              "             '-_backend_-_pizza': [150, 260],\n",
              "             '-_backend_junior_-': [80, 150],\n",
              "             '-_backend_junior_chicken': [80],\n",
              "             '-_backend_junior_pizza': [150],\n",
              "             '-_backend_senior_-': [50, 260],\n",
              "             '-_backend_senior_chicken': [50],\n",
              "             '-_backend_senior_pizza': [260],\n",
              "             '-_frontend_-_-': [150, 210],\n",
              "             '-_frontend_-_chicken': [150, 210],\n",
              "             '-_frontend_senior_-': [150, 210],\n",
              "             '-_frontend_senior_chicken': [150, 210],\n",
              "             'cpp_-_-_-': [260],\n",
              "             'cpp_-_-_pizza': [260],\n",
              "             'cpp_-_senior_-': [260],\n",
              "             'cpp_-_senior_pizza': [260],\n",
              "             'cpp_backend_-_-': [260],\n",
              "             'cpp_backend_-_pizza': [260],\n",
              "             'cpp_backend_senior_-': [260],\n",
              "             'cpp_backend_senior_pizza': [260],\n",
              "             'java_-_-_-': [80, 150],\n",
              "             'java_-_-_chicken': [80],\n",
              "             'java_-_-_pizza': [150],\n",
              "             'java_-_junior_-': [80, 150],\n",
              "             'java_-_junior_chicken': [80],\n",
              "             'java_-_junior_pizza': [150],\n",
              "             'java_backend_-_-': [80, 150],\n",
              "             'java_backend_-_chicken': [80],\n",
              "             'java_backend_-_pizza': [150],\n",
              "             'java_backend_junior_-': [80, 150],\n",
              "             'java_backend_junior_chicken': [80],\n",
              "             'java_backend_junior_pizza': [150],\n",
              "             'python_-_-_-': [50, 150, 210],\n",
              "             'python_-_-_chicken': [50, 150, 210],\n",
              "             'python_-_senior_-': [50, 150, 210],\n",
              "             'python_-_senior_chicken': [50, 150, 210],\n",
              "             'python_backend_-_-': [50],\n",
              "             'python_backend_-_chicken': [50],\n",
              "             'python_backend_senior_-': [50],\n",
              "             'python_backend_senior_chicken': [50],\n",
              "             'python_frontend_-_-': [150, 210],\n",
              "             'python_frontend_-_chicken': [150, 210],\n",
              "             'python_frontend_senior_-': [150, 210],\n",
              "             'python_frontend_senior_chicken': [150, 210]})"
            ]
          },
          "metadata": {},
          "execution_count": 7
        }
      ]
    },
    {
      "cell_type": "code",
      "source": [
        ""
      ],
      "metadata": {
        "id": "YTTCt-nkv_qw"
      },
      "execution_count": null,
      "outputs": []
    },
    {
      "cell_type": "code",
      "source": [
        "lang = []\n",
        "pos = []\n",
        "level = []\n",
        "food = []\n",
        "score = []\n",
        "empty = []\n",
        "for i in range(len(info)):\n",
        "  empty.append( info[i].split(' ') )\n",
        "for i in range(len(info)):\n",
        "  lang.append(empty[i][0])\n",
        "for i in range(len(info)):\n",
        "  pos.append(empty[i][1])\n",
        "for i in range(len(info)):\n",
        "  level.append(empty[i][2])\n",
        "for i in range(len(info)):\n",
        "  food.append(empty[i][3])\n",
        "for i in range(len(info)):\n",
        "  score.append(empty[i][4])\n",
        "query_split= [[] for x in range(len(query))]\n",
        "for i in range(len(query)):\n",
        "  query_split[i]+=re.findall('[0-9]+',query[i])\n",
        "for i in range(len(query)):\n",
        "  query_split[i]+=re.sub('[0-9]+','',query[i]).replace(' ','').split('and')\n",
        "answer =[]\n",
        "for que in range(len(query_split)):\n",
        "  result = list(range(len(info)))\n",
        "  if query_split[que][4] == '-':\n",
        "    pass\n",
        "  else:\n",
        "    for user in list( range(len(result)) )[::-1]:\n",
        "      if food[result[user]] != query_split[que][4]:\n",
        "        result.pop(user)\n",
        "  if query_split[que][3] == '-':\n",
        "    pass\n",
        "  else:\n",
        "    for user in list( range(len(result)) )[::-1]:\n",
        "      if level[result[user]] != query_split[que][3]:\n",
        "        result.pop(user)\n",
        "  if query_split[que][2] == '-':\n",
        "    pass\n",
        "  else:\n",
        "    for user in list( range(len(result)) )[::-1]:\n",
        "      if pos[result[user]] != query_split[que][2]:\n",
        "        result.pop(user)\n",
        "  if query_split[que][1] == '-':\n",
        "    pass\n",
        "  else:\n",
        "    for user in list( range(len(result)) )[::-1]:\n",
        "      if lang[result[user]] != query_split[que][1]:\n",
        "        result.pop(user)\n",
        "  for user in list( range(len(result)) )[::-1]:\n",
        "      if int( score[result[user]] ) < int(query_split[que][0]):\n",
        "        result.pop(user)\n",
        "  answer.append(len(result))  "
      ],
      "metadata": {
        "id": "q2-ZHygEDUCk"
      },
      "execution_count": null,
      "outputs": []
    },
    {
      "cell_type": "code",
      "source": [
        ""
      ],
      "metadata": {
        "id": "GUHzjfwovg-D"
      },
      "execution_count": null,
      "outputs": []
    },
    {
      "cell_type": "code",
      "source": [
        "from collec"
      ],
      "metadata": {
        "id": "C83xdZzXvgnT"
      },
      "execution_count": null,
      "outputs": []
    }
  ]
}