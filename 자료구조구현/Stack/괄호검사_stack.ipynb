{
 "cells": [
  {
   "cell_type": "code",
   "execution_count": 3,
   "id": "d6466048",
   "metadata": {},
   "outputs": [],
   "source": [
    "class Stack:\n",
    "    def __init__(self):\n",
    "        self.top = []\n",
    "    \n",
    "    def isEmpty(self):\n",
    "        return len(self.top) ==0\n",
    "    \n",
    "    def size(self):\n",
    "        return len(self.top)\n",
    "    \n",
    "    def clear(self):\n",
    "        self.top=[]\n",
    "    \n",
    "    def push(self,item):\n",
    "        self.top.append(item)\n",
    "    \n",
    "    def pop(self):\n",
    "        if not self.isEmpty():\n",
    "            return self.top.pop(-1)\n",
    "    \n",
    "    def peek(self):  \n",
    "        if not self.isEmpty():\n",
    "            return self.top[-1]\n"
   ]
  },
  {
   "cell_type": "code",
   "execution_count": 25,
   "id": "f2e9f0a2",
   "metadata": {},
   "outputs": [
    {
     "name": "stdout",
     "output_type": "stream",
     "text": [
      "Enter equation: (3+40*(2+(30-7)*2133)\n",
      "Wrong_5\n",
      "Enter equation: 3*{4+(2-792)/1} + [3*{4-2* (100 -7)}] \n",
      "OK_10\n",
      "Enter equation: 301*{4+(2101-7)/1} + 9*{4-2* (10108-7)}}\n",
      "Wrong_9\n",
      "Enter equation: (3*{4001+(2-7)/1} + [3*{4-2* (1-7)}]) \n",
      "OK_12\n"
     ]
    }
   ],
   "source": [
    "def checkBrackets(statement):\n",
    "    stack = Stack()\n",
    "    size = 0\n",
    "    flag = \"Wrong\"\n",
    "    for ch in statement:\n",
    "        if ch in ('{','[','('):\n",
    "            size +=1\n",
    "            stack.push(ch)\n",
    "        \n",
    "        elif ch in ('}',']',')'):\n",
    "            size +=1\n",
    "            if stack.isEmpty():\n",
    "                return flag+'_'+str(size)\n",
    "            \n",
    "            else:\n",
    "                left = stack.pop()\n",
    "            \n",
    "            if (ch ==\"}\" and left != \"{\") or \\\n",
    "                (ch ==\"]\" and left != \"[\") or \\\n",
    "                (ch == \")\" and left != \"(\"):\n",
    "                \n",
    "                return flag+'_'+str(size)\n",
    "            \n",
    "            \n",
    "    if stack.isEmpty():\n",
    "        flag = \"OK\"\n",
    "        \n",
    "        return flag+'_'+str(size)\n",
    "    else:\n",
    "        return flag+'_'+str(size)\n",
    "    \n",
    "for i in range(4):\n",
    "    input_string = input(\"Enter equation: \")\n",
    "    print(checkBrackets(input_string))\n",
    "    "
   ]
  },
  {
   "cell_type": "code",
   "execution_count": null,
   "id": "d398e16f",
   "metadata": {},
   "outputs": [],
   "source": []
  },
  {
   "cell_type": "code",
   "execution_count": null,
   "id": "55945878",
   "metadata": {},
   "outputs": [],
   "source": []
  },
  {
   "cell_type": "code",
   "execution_count": null,
   "id": "b035f954",
   "metadata": {},
   "outputs": [],
   "source": []
  },
  {
   "cell_type": "code",
   "execution_count": null,
   "id": "edfa0a1f",
   "metadata": {},
   "outputs": [],
   "source": []
  }
 ],
 "metadata": {
  "kernelspec": {
   "display_name": "Python 3 (ipykernel)",
   "language": "python",
   "name": "python3"
  },
  "language_info": {
   "codemirror_mode": {
    "name": "ipython",
    "version": 3
   },
   "file_extension": ".py",
   "mimetype": "text/x-python",
   "name": "python",
   "nbconvert_exporter": "python",
   "pygments_lexer": "ipython3",
   "version": "3.9.7"
  }
 },
 "nbformat": 4,
 "nbformat_minor": 5
}
