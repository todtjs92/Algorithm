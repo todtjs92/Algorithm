{
 "cells": [
  {
   "cell_type": "code",
   "execution_count": null,
   "id": "ef10b290",
   "metadata": {},
   "outputs": [],
   "source": [
    "class PriorityQueue:\n",
    "    def __init__(self):\n",
    "        self.items = [] # 이게 큐 역할\n",
    "        \n",
    "    def isEmpty(self):\n",
    "        return len(self.items) == 0\n",
    "    \n",
    "    def size(self):\n",
    "        return len(self.items)\n",
    "    \n",
    "    def clear(self):\n",
    "        self.items = []\n",
    "        \n",
    "    def enqueue(self, item):\n",
    "        self.items.append(item)\n",
    "        \n",
    "    def findMaxIndex(self):      # 맥스인덱스를 게속 구하는 방식이었구나 넣을때는 대충 넣고 \n",
    "        if self.isEmpty():\n",
    "            return None\n",
    "        \n",
    "        else:\n",
    "            highest= 0 \n",
    "            for i in range(1,self.size()):\n",
    "                if self.items[i] > self.items[highest]:\n",
    "                    highest = i\n",
    "            \n",
    "            return highest\n",
    "    \n",
    "    def dequeue(self):\n",
    "        highest = self.findMaxIndex()\n",
    "        if highest is not None:\n",
    "            return self.items.pop(highest)\n",
    "        \n",
    "    def peek(self):\n",
    "        \n",
    "        highest = findMaxIndex()\n",
    "        if highest is not None:\n",
    "            return self.items[highest]\n",
    "            "
   ]
  },
  {
   "cell_type": "code",
   "execution_count": null,
   "id": "248cd9c1",
   "metadata": {},
   "outputs": [],
   "source": []
  }
 ],
 "metadata": {
  "kernelspec": {
   "display_name": "Python 3 (ipykernel)",
   "language": "python",
   "name": "python3"
  },
  "language_info": {
   "codemirror_mode": {
    "name": "ipython",
    "version": 3
   },
   "file_extension": ".py",
   "mimetype": "text/x-python",
   "name": "python",
   "nbconvert_exporter": "python",
   "pygments_lexer": "ipython3",
   "version": "3.8.13"
  }
 },
 "nbformat": 4,
 "nbformat_minor": 5
}
