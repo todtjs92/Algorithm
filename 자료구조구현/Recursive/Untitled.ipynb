{
 "cells": [
  {
   "cell_type": "markdown",
   "id": "5ee5fdbc",
   "metadata": {},
   "source": [
    "1. 같은형태 찾기"
   ]
  },
  {
   "cell_type": "markdown",
   "id": "8cc6abb2",
   "metadata": {},
   "source": [
    "2. 끝내는 부분 생각하기"
   ]
  },
  {
   "cell_type": "markdown",
   "id": "c03254ce",
   "metadata": {},
   "source": [
    "# Factorial"
   ]
  },
  {
   "cell_type": "markdown",
   "id": "3ab18693",
   "metadata": {},
   "source": [
    "n! = n * (n-1)!"
   ]
  },
  {
   "cell_type": "code",
   "execution_count": 2,
   "id": "f70ad6c7",
   "metadata": {},
   "outputs": [],
   "source": [
    "def factorial(n):\n",
    "    if n == 1:\n",
    "        return 1\n",
    "    \n",
    "    return  n * factorial(n-1)\n",
    "        "
   ]
  },
  {
   "cell_type": "code",
   "execution_count": 3,
   "id": "35fca8df",
   "metadata": {},
   "outputs": [
    {
     "data": {
      "text/plain": [
       "120"
      ]
     },
     "execution_count": 3,
     "metadata": {},
     "output_type": "execute_result"
    }
   ],
   "source": [
    "factorial(5)"
   ]
  },
  {
   "cell_type": "markdown",
   "id": "20e022fd",
   "metadata": {},
   "source": [
    "# Fibonacci"
   ]
  },
  {
   "cell_type": "code",
   "execution_count": 6,
   "id": "8195b7ee",
   "metadata": {},
   "outputs": [],
   "source": [
    "def fibonacci(n):\n",
    "    if n ==1 or n==2:\n",
    "        return 1\n",
    "    \n",
    "    \n",
    "    return fibonacci(n-1) + fibonacci(n-2)"
   ]
  },
  {
   "cell_type": "code",
   "execution_count": 11,
   "id": "0b2c4186",
   "metadata": {},
   "outputs": [
    {
     "data": {
      "text/plain": [
       "8"
      ]
     },
     "execution_count": 11,
     "metadata": {},
     "output_type": "execute_result"
    }
   ],
   "source": [
    "fibonacci(6)"
   ]
  },
  {
   "cell_type": "markdown",
   "id": "3dd754c9",
   "metadata": {},
   "source": [
    "# 백준 1003"
   ]
  },
  {
   "cell_type": "code",
   "execution_count": 2,
   "id": "d5dd2749",
   "metadata": {},
   "outputs": [],
   "source": [
    "def fibonacci(n):\n",
    "    if n==0:\n",
    "        return 0\n",
    "    elif n==1:\n",
    "        return 1\n",
    "    \n",
    "    else:\n",
    "        return fibonacci(n-1) + fibonacci(n-2)"
   ]
  },
  {
   "cell_type": "code",
   "execution_count": null,
   "id": "20c55ae9",
   "metadata": {},
   "outputs": [],
   "source": [
    "fibonacci(0) => 0호출\n",
    "fibonacci(1) =>1호출\n",
    "fibonacci(2) =>1 호출 0호출\n",
    "fibonacci(3) =>2호출1호출"
   ]
  },
  {
   "cell_type": "code",
   "execution_count": null,
   "id": "8de2b728",
   "metadata": {},
   "outputs": [],
   "source": []
  },
  {
   "cell_type": "code",
   "execution_count": null,
   "id": "99844cde",
   "metadata": {},
   "outputs": [],
   "source": []
  },
  {
   "cell_type": "code",
   "execution_count": null,
   "id": "a6a92462",
   "metadata": {},
   "outputs": [],
   "source": []
  }
 ],
 "metadata": {
  "kernelspec": {
   "display_name": "Python 3 (ipykernel)",
   "language": "python",
   "name": "python3"
  },
  "language_info": {
   "codemirror_mode": {
    "name": "ipython",
    "version": 3
   },
   "file_extension": ".py",
   "mimetype": "text/x-python",
   "name": "python",
   "nbconvert_exporter": "python",
   "pygments_lexer": "ipython3",
   "version": "3.9.7"
  }
 },
 "nbformat": 4,
 "nbformat_minor": 5
}
