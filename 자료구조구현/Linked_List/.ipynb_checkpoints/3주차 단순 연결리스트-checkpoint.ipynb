{
 "cells": [
  {
   "cell_type": "markdown",
   "id": "fb37e15f",
   "metadata": {},
   "source": [
    "### 내가짠다 연결리스트"
   ]
  },
  {
   "cell_type": "code",
   "execution_count": 2,
   "id": "7ffd4f3e",
   "metadata": {},
   "outputs": [],
   "source": [
    "class Node:\n",
    "    def __init__(self, item , next_item):\n",
    "        self.item = item\n",
    "        self.next = next_item"
   ]
  },
  {
   "cell_type": "code",
   "execution_count": 4,
   "id": "dfb75bab",
   "metadata": {},
   "outputs": [],
   "source": [
    "class LinkedList:\n",
    "    \n",
    "    def __init__(self):\n",
    "        \n",
    "        self.size = 0\n",
    "        self.header = None \n",
    "        \n",
    "    \n",
    "    def size(self):\n",
    "        return self.size\n",
    "    \n",
    "    def push(self,item):\n",
    "        if self.isEmpty():\n",
    "            self.header = Node(item, None)\n",
    "        else:\n",
    "            self.header = Node(item,self.header)\n",
    "    \n",
    "    def Pop(self): # 앞에꺼 팝 . \n",
    "        if self.isEmpty():\n",
    "            raise exception\n",
    "            \n",
    "        else:\n",
    "            self.head = self.head.next # 요렇게하면 되겠따\n",
    "    \n",
    "    def isEmpty(self):\n",
    "        \n",
    "        return self.size == 0\n",
    "        "
   ]
  },
  {
   "cell_type": "code",
   "execution_count": 5,
   "id": "c7788389",
   "metadata": {},
   "outputs": [],
   "source": [
    "s= LinkedList()"
   ]
  },
  {
   "cell_type": "code",
   "execution_count": 6,
   "id": "93c2e33f",
   "metadata": {},
   "outputs": [],
   "source": [
    "s.push(3)"
   ]
  },
  {
   "cell_type": "code",
   "execution_count": 10,
   "id": "941ef624",
   "metadata": {},
   "outputs": [],
   "source": [
    "s.header.next"
   ]
  },
  {
   "cell_type": "code",
   "execution_count": null,
   "id": "cf5faa37",
   "metadata": {},
   "outputs": [],
   "source": []
  },
  {
   "cell_type": "markdown",
   "id": "d4658f69",
   "metadata": {},
   "source": [
    "# Simple List"
   ]
  },
  {
   "cell_type": "code",
   "execution_count": 6,
   "id": "ec428400",
   "metadata": {},
   "outputs": [],
   "source": [
    "class SList:\n",
    "    class Node:\n",
    "        def __init__(self,item,link):\n",
    "            self.item = item\n",
    "            self.next = link\n",
    "    \n",
    "    def __init__(self):\n",
    "        self.head = None\n",
    "        self.size = 0 \n",
    "    \n",
    "    def size(self):\n",
    "        return self.size\n",
    "    \n",
    "    def is_empty(self):\n",
    "        return self.size == 0\n",
    "    \n",
    "    def insert_front(self,item):\n",
    "        \n",
    "        if self.is_empty():\n",
    "            self.head = self.Node(item,None)\n",
    "        \n",
    "        else:\n",
    "            \n",
    "            self.head = self.Node(item,self.head)\n",
    "            \n",
    "        self.size +=1\n",
    "    \n",
    "    def insert_after(self, item,p):\n",
    "        p.next = SList.Node(item,p.next)\n",
    "        \n",
    "        self.size +=1\n",
    "        \n",
    "    \n",
    "    \n",
    "    def delete_front(self):\n",
    "        \n",
    "        if self.is_empty():\n",
    "            raise EmptyError('Underflow')\n",
    "        \n",
    "        else:\n",
    "            self.head = self.head.next\n",
    "            self.size -=1\n",
    "            \n",
    "    \n",
    "    def delete_after(self,p):\n",
    "        if self.is_empty():\n",
    "            raise EmptyError('Underflow')\n",
    "        \n",
    "        t = p.next\n",
    "        p.next = t.next\n",
    "        self.size -= 1\n",
    "        \n",
    "        \n",
    "    def search(self,target):\n",
    "        p = self.head\n",
    "        \n",
    "        for k in range(self.size):\n",
    "            if target == p.item:\n",
    "                return k\n",
    "            p= p.next\n",
    "            \n",
    "        return None\n",
    "    \n",
    "    def print_list(self):\n",
    "        p= self.head\n",
    "        \n",
    "        while p:\n",
    "            if p.next != None:\n",
    "                \n",
    "                print(p.item , ' -> ', end='')\n",
    "            \n",
    "            else:\n",
    "                print(p.item)\n",
    "            \n",
    "            p = p.next\n",
    "            \n",
    "class EmptyError(Exception):\n",
    "    pass\n",
    "        \n",
    "        "
   ]
  },
  {
   "cell_type": "code",
   "execution_count": null,
   "id": "42e99dcc",
   "metadata": {},
   "outputs": [],
   "source": []
  },
  {
   "cell_type": "code",
   "execution_count": 30,
   "id": "107df9c1",
   "metadata": {},
   "outputs": [],
   "source": [
    "class SimpleList:\n",
    "    \n",
    "    # 객체가 생성되게 해주는 역할 해주려고 클래스로 넣은거\n",
    "    \n",
    "    class Node:\n",
    "        def __init__(self,item,link):\n",
    "            self.item = item\n",
    "            self.next = link  # 다음 node\n",
    "            \n",
    "            \n",
    "    def __init__(self):      # 시작 head 가 데이터 들어오는 부분\n",
    "        self.head  =  None\n",
    "        self.size  =  0\n",
    "        \n",
    "    def size(self):          # size 이거 앞에 size랑 네임 겹침\n",
    "        return self.size\n",
    "    \n",
    "    def is_empty(self):      # 0인지 체크 \n",
    "        return self.size == 0\n",
    "    \n",
    "    def insert_front(self,item): #  head부분에 넣는 함수 \n",
    "        \n",
    "        if  self.is_empty() :\n",
    "            self.head = self.Node(item,None) # head에 item , next에 전 none\n",
    "        else:\n",
    "            \n",
    "            self.head = self.Node(item,self.head)\n",
    "        \n",
    "        self.size +=1\n",
    "    \n",
    "    def insert_after(self, item,p):\n",
    "        \n",
    "#         if self.is_empty():\n",
    "#             self.item = self.Node(item,None) # 이렇게 안해도 되나?\n",
    "            \n",
    "        p.next = SList.Node(item,p.next)\n",
    "        \n",
    "        self.size +=1\n",
    "            \n",
    "    def delete_front(self):\n",
    "        \n",
    "        if self.is_empty():\n",
    "            raise EmptyError('Underflow')\n",
    "            \n",
    "        \n",
    "        else:\n",
    "            self.head = self.head.next\n",
    "            self.size -=1\n",
    "            \n",
    "    def delete_after(self,p):\n",
    "        \n",
    "        if self.is_empty():\n",
    "            raise EmptyError('Underflow')\n",
    "        \n",
    "        t = p.next\n",
    "        p.next = t.next\n",
    "        self.size -= 1\n",
    "        \n",
    "    def search(self,target):\n",
    "        p =head\n",
    "        \n",
    "        for k in range(self.size):\n",
    "            if target == p.item:\n",
    "                return k\n",
    "            p= p.next\n",
    "            \n",
    "        return None\n",
    "    \n",
    "    \n",
    "    def print_list(self):\n",
    "        p= self.head\n",
    "        \n",
    "        while p:\n",
    "            if p.next != None:\n",
    "                \n",
    "                print(p.item , ' -> ', end='')\n",
    "            \n",
    "            else:\n",
    "                print(p.item)\n",
    "            \n",
    "            p = p.next\n",
    "            \n",
    "        "
   ]
  },
  {
   "cell_type": "code",
   "execution_count": 41,
   "id": "e7152162",
   "metadata": {},
   "outputs": [],
   "source": [
    "a = SimpleList()"
   ]
  },
  {
   "cell_type": "code",
   "execution_count": 42,
   "id": "47f83858",
   "metadata": {},
   "outputs": [],
   "source": [
    "a.insert_front('apple')\n",
    "a.insert_front('banana')\n",
    "a.insert_front('grape')"
   ]
  },
  {
   "cell_type": "code",
   "execution_count": 43,
   "id": "b679cf18",
   "metadata": {},
   "outputs": [
    {
     "name": "stdout",
     "output_type": "stream",
     "text": [
      "grape  -> banana  -> apple\n"
     ]
    }
   ],
   "source": [
    "a.print_list()"
   ]
  },
  {
   "cell_type": "code",
   "execution_count": null,
   "id": "a4b34942",
   "metadata": {},
   "outputs": [],
   "source": []
  }
 ],
 "metadata": {
  "kernelspec": {
   "display_name": "Python 3 (ipykernel)",
   "language": "python",
   "name": "python3"
  },
  "language_info": {
   "codemirror_mode": {
    "name": "ipython",
    "version": 3
   },
   "file_extension": ".py",
   "mimetype": "text/x-python",
   "name": "python",
   "nbconvert_exporter": "python",
   "pygments_lexer": "ipython3",
   "version": "3.8.13"
  }
 },
 "nbformat": 4,
 "nbformat_minor": 5
}
