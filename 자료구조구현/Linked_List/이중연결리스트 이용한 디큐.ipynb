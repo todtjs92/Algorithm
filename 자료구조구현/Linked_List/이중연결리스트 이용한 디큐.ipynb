{
 "cells": [
  {
   "cell_type": "code",
   "execution_count": 124,
   "id": "e530df0c",
   "metadata": {},
   "outputs": [],
   "source": [
    "class DNode:\n",
    "    def __init__(self, elem, prev = None ,next = None):\n",
    "        self.data  = elem\n",
    "        self.prev  = prev\n",
    "        self.next  = next"
   ]
  },
  {
   "cell_type": "code",
   "execution_count": 149,
   "id": "a93ebd5f",
   "metadata": {},
   "outputs": [],
   "source": [
    "## front ----------- rear ##\n",
    "class Deque:\n",
    "    def __init__(self):\n",
    "        self.front = None\n",
    "        self.rear  = None\n",
    "    \n",
    "    def isEmpty(self):\n",
    "        \n",
    "        return self.front  ==None\n",
    "    \n",
    "    def clear(self):\n",
    "        self.front = None\n",
    "        self.rear  = None\n",
    "    \n",
    "    \n",
    "    \n",
    "    def add_front(self,item):\n",
    "        node = DNode(item,None ,self.front)\n",
    "        \n",
    "        if self.isEmpty():\n",
    "            self.front = self.rear = node\n",
    "        \n",
    "        else:\n",
    "            self.front.prev = node\n",
    "            self.front = node\n",
    "    \n",
    "    def add_rear(self, item):\n",
    "        node = DNode(item,self.rear ,None)\n",
    "        \n",
    "        if self.isEmpty():\n",
    "            self.front =self.rear = node\n",
    "    \n",
    "        else:\n",
    "            self.rear.next = node\n",
    "            self.rear =node\n",
    "\n",
    "    \n",
    "    def delete_front(self):\n",
    "        if self.isEmpty():\n",
    "            print('underflow')\n",
    "            raise Exception('underflow')\n",
    "            \n",
    "            \n",
    "        if not self.isEmpty():\n",
    "            data = self.front.data\n",
    "            self.front = self.front.next\n",
    "            \n",
    "            if self.front == None:\n",
    "                self.rear = None\n",
    "            \n",
    "            else:\n",
    "                self.front.prev = None\n",
    "            \n",
    "            return data\n",
    "      \n",
    "        \n",
    "    \n",
    "    def delete_rear(self):\n",
    "        if self.isEmpty():\n",
    "            print('underflow')\n",
    "            raise Exception('underflow')\n",
    "        \n",
    "        if not self.isEmpty():\n",
    "            data = self.rear.data\n",
    "            self.rear = self.rear.prev\n",
    "            if  self.rear == None:\n",
    "                self.front = None\n",
    "            \n",
    "            else:\n",
    "                self.rear.next = None\n",
    "            \n",
    "            return data \n",
    "        \n",
    "  \n",
    "        \n",
    "        \n",
    "        \n",
    "        \n",
    "    def print(self):\n",
    "        if self.isEmpty():\n",
    "            print('리스트 비어있음')\n",
    "        else:\n",
    "            p = self.front\n",
    "            \n",
    "            while p.next != None:\n",
    "                print(p.data, end = \" \")\n",
    "                p = p.next\n",
    "            \n",
    "            print(p.data)"
   ]
  },
  {
   "cell_type": "code",
   "execution_count": 122,
   "id": "cd40439a",
   "metadata": {},
   "outputs": [
    {
     "name": "stdout",
     "output_type": "stream",
     "text": [
      "7\n",
      "AF 10\n",
      "AF 20\n",
      "AR 30\n",
      "P\n",
      "20 10 30\n",
      "DF\n",
      "DR\n",
      "P\n",
      "10\n"
     ]
    }
   ],
   "source": [
    "if __name__ == \"__main__\":\n",
    "    N = int(input())\n",
    "    d = Deque()\n",
    "    \n",
    "    for n in range(N):\n",
    "        command = input()\n",
    "        command_split  = command.split(\" \")\n",
    "        \n",
    "        if command_split[0] == \"AF\":\n",
    "            d.add_front(command_split[1])\n",
    "        \n",
    "        elif command_split[0] == \"AR\":\n",
    "            d.add_rear(command_split[1])\n",
    "            \n",
    "        elif command_split[0] == \"DF\":\n",
    "            d.delete_front()\n",
    "        \n",
    "        elif command_split[0] ==  \"DR\":\n",
    "            d.delete_rear()\n",
    "        \n",
    "        else:\n",
    "            d.print()\n",
    "        \n",
    "            \n",
    "            \n",
    "        \n",
    "        \n",
    "    "
   ]
  },
  {
   "cell_type": "code",
   "execution_count": 150,
   "id": "54188d2b",
   "metadata": {},
   "outputs": [
    {
     "name": "stdout",
     "output_type": "stream",
     "text": [
      "15\n",
      "AF 10\n",
      "AF 20\n",
      "AF 30\n",
      "AR 40\n",
      "AR 50\n",
      "P\n",
      "30 20 10 40 50\n",
      "DF\n",
      "DF\n",
      "DR\n",
      "P\n",
      "10 40\n",
      "DF\n",
      "DR\n",
      "DR\n",
      "underflow\n"
     ]
    },
    {
     "ename": "Exception",
     "evalue": "underflow",
     "output_type": "error",
     "traceback": [
      "\u001b[0;31m---------------------------------------------------------------------------\u001b[0m",
      "\u001b[0;31mException\u001b[0m                                 Traceback (most recent call last)",
      "\u001b[0;32m/var/folders/kr/z0vkrxjj5bq7lqpnzwpy9s_c0000gn/T/ipykernel_2662/1410841260.py\u001b[0m in \u001b[0;36m<module>\u001b[0;34m\u001b[0m\n\u001b[1;32m     17\u001b[0m \u001b[0;34m\u001b[0m\u001b[0m\n\u001b[1;32m     18\u001b[0m         \u001b[0;32melif\u001b[0m \u001b[0mcommand_split\u001b[0m\u001b[0;34m[\u001b[0m\u001b[0;36m0\u001b[0m\u001b[0;34m]\u001b[0m \u001b[0;34m==\u001b[0m  \u001b[0;34m\"DR\"\u001b[0m\u001b[0;34m:\u001b[0m\u001b[0;34m\u001b[0m\u001b[0;34m\u001b[0m\u001b[0m\n\u001b[0;32m---> 19\u001b[0;31m             \u001b[0md\u001b[0m\u001b[0;34m.\u001b[0m\u001b[0mdelete_rear\u001b[0m\u001b[0;34m(\u001b[0m\u001b[0;34m)\u001b[0m\u001b[0;34m\u001b[0m\u001b[0;34m\u001b[0m\u001b[0m\n\u001b[0m\u001b[1;32m     20\u001b[0m \u001b[0;34m\u001b[0m\u001b[0m\n\u001b[1;32m     21\u001b[0m         \u001b[0;32melse\u001b[0m\u001b[0;34m:\u001b[0m\u001b[0;34m\u001b[0m\u001b[0;34m\u001b[0m\u001b[0m\n",
      "\u001b[0;32m/var/folders/kr/z0vkrxjj5bq7lqpnzwpy9s_c0000gn/T/ipykernel_2662/4003791106.py\u001b[0m in \u001b[0;36mdelete_rear\u001b[0;34m(self)\u001b[0m\n\u001b[1;32m     59\u001b[0m         \u001b[0;32mif\u001b[0m \u001b[0mself\u001b[0m\u001b[0;34m.\u001b[0m\u001b[0misEmpty\u001b[0m\u001b[0;34m(\u001b[0m\u001b[0;34m)\u001b[0m\u001b[0;34m:\u001b[0m\u001b[0;34m\u001b[0m\u001b[0;34m\u001b[0m\u001b[0m\n\u001b[1;32m     60\u001b[0m             \u001b[0mprint\u001b[0m\u001b[0;34m(\u001b[0m\u001b[0;34m'underflow'\u001b[0m\u001b[0;34m)\u001b[0m\u001b[0;34m\u001b[0m\u001b[0;34m\u001b[0m\u001b[0m\n\u001b[0;32m---> 61\u001b[0;31m             \u001b[0;32mraise\u001b[0m \u001b[0mException\u001b[0m\u001b[0;34m(\u001b[0m\u001b[0;34m'underflow'\u001b[0m\u001b[0;34m)\u001b[0m\u001b[0;34m\u001b[0m\u001b[0;34m\u001b[0m\u001b[0m\n\u001b[0m\u001b[1;32m     62\u001b[0m \u001b[0;34m\u001b[0m\u001b[0m\n\u001b[1;32m     63\u001b[0m         \u001b[0;32mif\u001b[0m \u001b[0;32mnot\u001b[0m \u001b[0mself\u001b[0m\u001b[0;34m.\u001b[0m\u001b[0misEmpty\u001b[0m\u001b[0;34m(\u001b[0m\u001b[0;34m)\u001b[0m\u001b[0;34m:\u001b[0m\u001b[0;34m\u001b[0m\u001b[0;34m\u001b[0m\u001b[0m\n",
      "\u001b[0;31mException\u001b[0m: underflow"
     ]
    }
   ],
   "source": [
    "if __name__ == \"__main__\":\n",
    "    N = int(input())\n",
    "    d = Deque()\n",
    "    \n",
    "    for n in range(N):\n",
    "        command = input()\n",
    "        command_split  = command.split(\" \")\n",
    "        \n",
    "        if command_split[0] == \"AF\":\n",
    "            d.add_front(command_split[1])\n",
    "        \n",
    "        elif command_split[0] == \"AR\":\n",
    "            d.add_rear(command_split[1])\n",
    "            \n",
    "        elif command_split[0] == \"DF\":\n",
    "            d.delete_front()\n",
    "        \n",
    "        elif command_split[0] ==  \"DR\":\n",
    "            d.delete_rear()\n",
    "        \n",
    "        else:\n",
    "            d.print()"
   ]
  },
  {
   "cell_type": "code",
   "execution_count": null,
   "id": "20e1f85b",
   "metadata": {},
   "outputs": [],
   "source": []
  },
  {
   "cell_type": "code",
   "execution_count": 151,
   "id": "0796bbfa",
   "metadata": {},
   "outputs": [],
   "source": [
    "import itertools\n",
    "a,b = map(int,input().split())\n",
    "numbers =  list(map(int,input().split()))\n",
    "pos_list =[]\n",
    "for i in range(1,a+1):\n",
    "    temp = list(itertools.combinations(numbers,i))\n",
    "    pos_list += temp\n",
    "count  = 0\n",
    "for  i in pos_list:\n",
    "    temp_list = list(i)\n",
    "    if sum(temp_list) == b:\n",
    "        count+=1"
   ]
  },
  {
   "cell_type": "code",
   "execution_count": 152,
   "id": "f6a7d605",
   "metadata": {},
   "outputs": [
    {
     "name": "stdout",
     "output_type": "stream",
     "text": [
      "5 0\n"
     ]
    }
   ],
   "source": [
    "a,b = map(int,input().split())"
   ]
  },
  {
   "cell_type": "code",
   "execution_count": 153,
   "id": "585dc6f5",
   "metadata": {},
   "outputs": [
    {
     "name": "stdout",
     "output_type": "stream",
     "text": [
      "-7 -3 -2 5 8\n"
     ]
    }
   ],
   "source": [
    "numbers =  list(map(int,input().split()))"
   ]
  },
  {
   "cell_type": "code",
   "execution_count": 154,
   "id": "fc7d314c",
   "metadata": {},
   "outputs": [
    {
     "data": {
      "text/plain": [
       "[-7, -3, -2, 5, 8]"
      ]
     },
     "execution_count": 154,
     "metadata": {},
     "output_type": "execute_result"
    }
   ],
   "source": [
    "numbers"
   ]
  },
  {
   "cell_type": "code",
   "execution_count": 155,
   "id": "e58f3f03",
   "metadata": {},
   "outputs": [],
   "source": [
    "pos_list =[]"
   ]
  },
  {
   "cell_type": "code",
   "execution_count": 156,
   "id": "687a4e56",
   "metadata": {},
   "outputs": [],
   "source": [
    "for i in range(1,a+1):\n",
    "    temp = list(itertools.combinations(numbers,i))\n",
    "    pos_list += temp\n",
    "    "
   ]
  },
  {
   "cell_type": "code",
   "execution_count": 161,
   "id": "61579546",
   "metadata": {},
   "outputs": [],
   "source": [
    "count  = 0\n",
    "for  i in pos_list:\n",
    "    temp_list = list(i)\n",
    "    if sum(temp_list) == b:\n",
    "        count+=1"
   ]
  },
  {
   "cell_type": "code",
   "execution_count": 162,
   "id": "4ebd5091",
   "metadata": {},
   "outputs": [
    {
     "data": {
      "text/plain": [
       "1"
      ]
     },
     "execution_count": 162,
     "metadata": {},
     "output_type": "execute_result"
    }
   ],
   "source": [
    "count"
   ]
  },
  {
   "cell_type": "code",
   "execution_count": 157,
   "id": "75c61d6a",
   "metadata": {},
   "outputs": [
    {
     "data": {
      "text/plain": [
       "[(-7,),\n",
       " (-3,),\n",
       " (-2,),\n",
       " (5,),\n",
       " (8,),\n",
       " (-7, -3),\n",
       " (-7, -2),\n",
       " (-7, 5),\n",
       " (-7, 8),\n",
       " (-3, -2),\n",
       " (-3, 5),\n",
       " (-3, 8),\n",
       " (-2, 5),\n",
       " (-2, 8),\n",
       " (5, 8),\n",
       " (-7, -3, -2),\n",
       " (-7, -3, 5),\n",
       " (-7, -3, 8),\n",
       " (-7, -2, 5),\n",
       " (-7, -2, 8),\n",
       " (-7, 5, 8),\n",
       " (-3, -2, 5),\n",
       " (-3, -2, 8),\n",
       " (-3, 5, 8),\n",
       " (-2, 5, 8),\n",
       " (-7, -3, -2, 5),\n",
       " (-7, -3, -2, 8),\n",
       " (-7, -3, 5, 8),\n",
       " (-7, -2, 5, 8),\n",
       " (-3, -2, 5, 8),\n",
       " (-7, -3, -2, 5, 8)]"
      ]
     },
     "execution_count": 157,
     "metadata": {},
     "output_type": "execute_result"
    }
   ],
   "source": [
    "pos_list"
   ]
  },
  {
   "cell_type": "code",
   "execution_count": null,
   "id": "f610ab1e",
   "metadata": {},
   "outputs": [],
   "source": []
  }
 ],
 "metadata": {
  "kernelspec": {
   "display_name": "Python 3 (ipykernel)",
   "language": "python",
   "name": "python3"
  },
  "language_info": {
   "codemirror_mode": {
    "name": "ipython",
    "version": 3
   },
   "file_extension": ".py",
   "mimetype": "text/x-python",
   "name": "python",
   "nbconvert_exporter": "python",
   "pygments_lexer": "ipython3",
   "version": "3.9.7"
  }
 },
 "nbformat": 4,
 "nbformat_minor": 5
}
