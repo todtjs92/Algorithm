{
 "cells": [
  {
   "cell_type": "markdown",
   "id": "c923238b",
   "metadata": {},
   "source": [
    "## prev, next 2개를 같이들고있으면 걍 이중연결리스트"
   ]
  },
  {
   "cell_type": "markdown",
   "id": "e8e5138a",
   "metadata": {},
   "source": [
    "### P라는 아이템 찾을때까지 while 돌아서 찾음 . "
   ]
  },
  {
   "cell_type": "code",
   "execution_count": 3,
   "id": "036f1d81",
   "metadata": {},
   "outputs": [],
   "source": [
    "class Node:\n",
    "    def __init__(self,item,prev,link):\n",
    "        self.item = item\n",
    "        self.prev = prev\n",
    "        self.next = link"
   ]
  },
  {
   "cell_type": "code",
   "execution_count": null,
   "id": "612b457a",
   "metadata": {},
   "outputs": [],
   "source": [
    "class DList:\n",
    "    def __init__(self):\n",
    "        self.head = self.Node(None,None,None)\n",
    "        self.tail = self.Node(None,self.head ,  None)\n",
    "        self.head.next = self.tail\n",
    "        self.size = 0\n",
    "        \n",
    "    def size(self):\n",
    "        return self.size\n",
    "    \n",
    "    def is_empty(self):\n",
    "        return  self.size  ==0\n",
    "    \n",
    "    def insert_before(self,p,item):\n",
    "        \n",
    "        t= p.prev\n",
    "        n = self.Node(item,t,p)\n",
    "        p.prev  = n\n",
    "        t.next = n\n",
    "        self.size +=1\n",
    "    \n",
    "    def insert_after(self,p,item):\n",
    "        t= p.next\n",
    "        \n",
    "        n= self.Node(item,p,t)\n",
    "        \n",
    "        t.prev  = n\n",
    "        \n",
    "        p.next  = n\n",
    "        self.size  +=  1\n",
    "        \n",
    "    def delete(self,x):\n",
    "        f= x.prev\n",
    "        r= x.next\n",
    "        f.next = r\n",
    "        r.prev = f\n",
    "        self.size -=1\n",
    "        return x.item\n",
    "    \n",
    "    def print_list(self):\n",
    "        if self.is_empty():\n",
    "            print('리스트 비어있음')\n",
    "        else:\n",
    "            p=self.head.next\n",
    "            while p!=  self.tail:\n",
    "                if p.next != self.tail:\n",
    "                    print(p.item, ' <=> ' , end =' ')\n",
    "                \n",
    "                else:\n",
    "                    print(p.item)\n",
    "                \n",
    "                p = p.next\n",
    "                \n",
    "class EmptyError(Exception):\n",
    "    pass"
   ]
  },
  {
   "cell_type": "code",
   "execution_count": null,
   "id": "c3e749e7",
   "metadata": {},
   "outputs": [],
   "source": []
  },
  {
   "cell_type": "code",
   "execution_count": null,
   "id": "868d365a",
   "metadata": {},
   "outputs": [],
   "source": []
  },
  {
   "cell_type": "code",
   "execution_count": null,
   "id": "a1fcb635",
   "metadata": {},
   "outputs": [],
   "source": [
    "class DList:\n",
    "    class Node:\n",
    "        def __init__(self,item,prev,link):\n",
    "            self.item = item\n",
    "            self.prev = prev\n",
    "            self.next = link\n",
    "            \n",
    "    def __init__(self):\n",
    "        self.head = self.Node(None,None,None)\n",
    "        self.tail = self.Node(None,self.head ,  None)\n",
    "        self.head.next = self.tail\n",
    "        self.size = 0\n",
    "        \n",
    "    def size(self):\n",
    "        return self.size\n",
    "    \n",
    "    def is_empty(self):\n",
    "        return  self.size  ==0\n",
    "    \n",
    "    def insert_before(self,p,item):\n",
    "        \n",
    "        t= p.prev\n",
    "        n = self.Node(item,t,p)\n",
    "        p.prev  = n\n",
    "        t.next = n\n",
    "        self.size +=1\n",
    "    \n",
    "    def insert_after(self,p,item):\n",
    "        t= p.next\n",
    "        \n",
    "        n= self.Node(item,p,t)\n",
    "        \n",
    "        t.prev  = n\n",
    "        \n",
    "        p.next  = n\n",
    "        self.size  +=  1\n",
    "        \n",
    "    def delete(self,x):\n",
    "        f= x.prev\n",
    "        r= x.next\n",
    "        f.next = r\n",
    "        r.prev = f\n",
    "        self.size -=1\n",
    "        return x.item\n",
    "    \n",
    "    def print_list(self):\n",
    "        if self.is_empty():\n",
    "            print('리스트 비어있음')\n",
    "        else:\n",
    "            p=self.head.next\n",
    "            while p!=  self.tail:\n",
    "                if p.next != self.tail:\n",
    "                    print(p.item, ' <=> ' , end =' ')\n",
    "                \n",
    "                else:\n",
    "                    print(p.item)\n",
    "                \n",
    "                p = p.next\n",
    "                \n",
    "class EmptyError(Exception):\n",
    "    pass\n",
    "    "
   ]
  },
  {
   "cell_type": "code",
   "execution_count": 21,
   "id": "5b217595",
   "metadata": {},
   "outputs": [],
   "source": [
    "a = DList()"
   ]
  },
  {
   "cell_type": "code",
   "execution_count": 22,
   "id": "3180f9fb",
   "metadata": {},
   "outputs": [],
   "source": [
    "a.insert_before(a.tail,'apple')\n",
    "a.insert_after(a.head,'banana')\n",
    "# a.insert_before('carrot')"
   ]
  },
  {
   "cell_type": "code",
   "execution_count": 23,
   "id": "3c544ad7",
   "metadata": {},
   "outputs": [
    {
     "name": "stdout",
     "output_type": "stream",
     "text": [
      "banana  <=>  apple\n"
     ]
    }
   ],
   "source": [
    "a.print_list()"
   ]
  },
  {
   "cell_type": "code",
   "execution_count": null,
   "id": "d45dae5c",
   "metadata": {},
   "outputs": [],
   "source": []
  }
 ],
 "metadata": {
  "kernelspec": {
   "display_name": "Python 3 (ipykernel)",
   "language": "python",
   "name": "python3"
  },
  "language_info": {
   "codemirror_mode": {
    "name": "ipython",
    "version": 3
   },
   "file_extension": ".py",
   "mimetype": "text/x-python",
   "name": "python",
   "nbconvert_exporter": "python",
   "pygments_lexer": "ipython3",
   "version": "3.8.13"
  }
 },
 "nbformat": 4,
 "nbformat_minor": 5
}
