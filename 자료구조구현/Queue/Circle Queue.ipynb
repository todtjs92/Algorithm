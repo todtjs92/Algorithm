{
 "cells": [
  {
   "cell_type": "markdown",
   "id": "88896b34",
   "metadata": {},
   "source": [
    "# STACK"
   ]
  },
  {
   "cell_type": "code",
   "execution_count": 10,
   "id": "f5f6d96b",
   "metadata": {},
   "outputs": [],
   "source": [
    "class Stack:\n",
    "    def __init__(self):\n",
    "        self.stack = []\n",
    "    \n",
    "    def push(self, item):\n",
    "        self.stack.append(item)\n",
    "        \n",
    "    def isEmpty(self):\n",
    "        return len(self.stack)==0\n",
    "    \n",
    "    def size(self):\n",
    "        return len(self.stack)\n",
    "    \n",
    "    def peek(self):\n",
    "        if self.isEmpty():\n",
    "            print(\"Stack is Empty\")\n",
    "        else:\n",
    "            print( self.stack[-1] )\n",
    "        \n",
    "    def pop(self):\n",
    "        if self.isEmpty():\n",
    "            print(\"Stack Empty\")\n",
    "        else:\n",
    "            return self.stack.pop(-1)\n",
    "    \n",
    "    def duplicate(self):\n",
    "        top = self.pop() # 스택에서 하나뺀다음 2개넣기??\n",
    "        for i in range(2):\n",
    "            self.push(top)\n",
    "        \n",
    "    def upRotate(self, num):\n",
    "        if num > self.size():\n",
    "            return\n",
    "        else:\n",
    "            remain  = self.size() - num\n",
    "            temp    = self.stack[remain: ]\n",
    "            top     = temp[-1]\n",
    "            for i in range(num-1,0,-1):\n",
    "                temp[i] =temp[i-1]\n",
    "            temp[0] = top\n",
    "            self.stack = self.stack[:remain]+ temp\n",
    "    \n",
    "    def downRotate(self , num):\n",
    "        if num > self.size():\n",
    "            return\n",
    "        \n",
    "        else:\n",
    "            remain  = self.size() - num\n",
    "            temp    = self.stack[remain:]\n",
    "            bottom  =   temp[0]\n",
    "            \n",
    "            for i in range(0,num-1):\n",
    "                temp[i] = temp[i+1]\n",
    "            temp[-1] = bottom\n",
    "            self.stack = self.stack[:remain]  + temp\n",
    "    \n",
    "    def print(self):\n",
    "        len  =self.size()\n",
    "        for i  in range(len-1, -1 , -1):\n",
    "            print(self.stack[i],end=\"\")\n",
    "        print()"
   ]
  },
  {
   "cell_type": "code",
   "execution_count": 7,
   "id": "7c977c8c",
   "metadata": {},
   "outputs": [
    {
     "name": "stdout",
     "output_type": "stream",
     "text": [
      "Input : POP\n",
      "Stack Empty\n",
      "Input : PUSH s\n",
      "Input : PUSH t\n",
      "Input : PUSH a\n",
      "Input : PUSH r\n",
      "Input : PRINT\n",
      "rats\n",
      "Input : UpR 3\n",
      "Input : PRINT\n",
      "atrs\n",
      "Input : PEEK\n",
      "a\n",
      "Input : -1\n",
      "프로그램 종료\n"
     ]
    }
   ],
   "source": [
    "if __name__ == \"__main__\":\n",
    "    stack = Stack()\n",
    "    while True:\n",
    "        input_string = input(\"Input : \")\n",
    "        if input_string == \"-1\":\n",
    "            print(\"프로그램 종료\")\n",
    "            break\n",
    "        \n",
    "        operation = input_string.split(\" \")\n",
    "        \n",
    "        if len(operation) ==1:\n",
    "            if operation[0] == \"POP\":\n",
    "                stack.pop()\n",
    "            elif operation[0] == \"PEEK\":\n",
    "                stack.peek()\n",
    "            elif operation[0] == \"DUP\":\n",
    "                stack.duplicate()\n",
    "            elif operation[0] == \"PRINT\":\n",
    "                stack.print()\n",
    "        \n",
    "        elif len(operation)==2:\n",
    "            if operation[0] == \"PUSH\":\n",
    "                stack.push(operation[1])\n",
    "            \n",
    "            elif operation[0] == \"UpR\":\n",
    "                stack.upRotate(int(operation[1]))\n",
    "            \n",
    "            elif operation[0] == \"DownR\":\n",
    "                stack.downRotate(int(operation[1]))"
   ]
  },
  {
   "cell_type": "code",
   "execution_count": 11,
   "id": "7ea47977",
   "metadata": {},
   "outputs": [
    {
     "name": "stdout",
     "output_type": "stream",
     "text": [
      "Input : PUSH s\n",
      "Input : PUSH r\n",
      "Input : PUSH a\n",
      "Input : PUSH t\n",
      "Input : PUSH s\n",
      "Input : PRINT\n",
      "stars\n",
      "Input : DownR 4\n",
      "Input : PRINT\n",
      "rstas\n",
      "Input : POP\n",
      "Input : POP\n",
      "Input : PRINT\n",
      "tas\n",
      "Input : -1\n",
      "프로그램 종료\n"
     ]
    }
   ],
   "source": [
    "if __name__ == \"__main__\":\n",
    "    stack = Stack()\n",
    "    while True:\n",
    "        input_string = input(\"Input : \")\n",
    "        if input_string == \"-1\":\n",
    "            print(\"프로그램 종료\")\n",
    "            break\n",
    "        \n",
    "        operation = input_string.split(\" \")\n",
    "        \n",
    "        if len(operation) ==1:\n",
    "            if operation[0] == \"POP\":\n",
    "                stack.pop()\n",
    "            elif operation[0] == \"PEEK\":\n",
    "                stack.peek()\n",
    "            elif operation[0] == \"DUP\":\n",
    "                stack.duplicate()\n",
    "            elif operation[0] == \"PRINT\":\n",
    "                stack.print()\n",
    "        \n",
    "        elif len(operation)==2:\n",
    "            if operation[0] == \"PUSH\":\n",
    "                stack.push(operation[1])\n",
    "            \n",
    "            elif operation[0] == \"UpR\":\n",
    "                stack.upRotate(int(operation[1]))\n",
    "            \n",
    "            elif operation[0] == \"DownR\":\n",
    "                stack.downRotate(int(operation[1]))"
   ]
  },
  {
   "cell_type": "code",
   "execution_count": 12,
   "id": "3df4cb5d",
   "metadata": {},
   "outputs": [
    {
     "name": "stdout",
     "output_type": "stream",
     "text": [
      "Input : PUSH d\n",
      "Input : DUP\n",
      "Input : PUSH a\n",
      "Input : PRINT\n",
      "add\n",
      "Input : -1\n",
      "프로그램 종료\n"
     ]
    }
   ],
   "source": [
    "if __name__ == \"__main__\":\n",
    "    stack = Stack()\n",
    "    while True:\n",
    "        input_string = input(\"Input : \")\n",
    "        if input_string == \"-1\":\n",
    "            print(\"프로그램 종료\")\n",
    "            break\n",
    "        \n",
    "        operation = input_string.split(\" \")\n",
    "        \n",
    "        if len(operation) ==1:\n",
    "            if operation[0] == \"POP\":\n",
    "                stack.pop()\n",
    "            elif operation[0] == \"PEEK\":\n",
    "                stack.peek()\n",
    "            elif operation[0] == \"DUP\":\n",
    "                stack.duplicate()\n",
    "            elif operation[0] == \"PRINT\":\n",
    "                stack.print()\n",
    "        \n",
    "        elif len(operation)==2:\n",
    "            if operation[0] == \"PUSH\":\n",
    "                stack.push(operation[1])\n",
    "            \n",
    "            elif operation[0] == \"UpR\":\n",
    "                stack.upRotate(int(operation[1]))\n",
    "            \n",
    "            elif operation[0] == \"DownR\":\n",
    "                stack.downRotate(int(operation[1]))"
   ]
  },
  {
   "cell_type": "markdown",
   "id": "7a37f69a",
   "metadata": {},
   "source": [
    "# CIRCULAR QUEUE"
   ]
  },
  {
   "cell_type": "code",
   "execution_count": 49,
   "id": "1525b698",
   "metadata": {},
   "outputs": [],
   "source": [
    "MAX_QSIZE = 10\n",
    "class CircularQueue:\n",
    "    def __init__(self ,MAX_QSIZE ):\n",
    "        # front , rear pointer\n",
    "        self.front  = 0\n",
    "        self.rear   = 0\n",
    "        self.MAX_QSIZE= MAX_QSIZE\n",
    "        self.items  = [0] * self.MAX_QSIZE\n",
    "        \n",
    "    def isEmpty(self):     # why?\n",
    "        return self.front == self.rear\n",
    "\n",
    "    def  isFull(self):\n",
    "        return self.front == (self.rear+1) % self.MAX_QSIZE\n",
    "    \n",
    "    \n",
    "    def enqueue(self, item):\n",
    "        if not self.isFull():\n",
    "            self.rear = (self.rear  +1) % self.MAX_QSIZE\n",
    "            self.items[self.rear] = item\n",
    "        else:\n",
    "            print(\"overflow\",end=\"\")\n",
    "            self.display()\n",
    "            raise Exception(\"Overflow\")\n",
    "        \n",
    "    def dequeue(self):\n",
    "        if not self.isEmpty():\n",
    "            self.front = (self.front+1)% self.MAX_QSIZE\n",
    "            \n",
    "            return self.items[self.front]\n",
    "    \n",
    "    def delete(self):\n",
    "        if not self.isEmpty():\n",
    "            self.front = (self.front+1)% self.MAX_QSIZE\n",
    "            self.items[self.front] = 0\n",
    "        else:\n",
    "            print(\"underflow\",end=\"\")\n",
    "            raise Exception(\"Underflow\")\n",
    "            \n",
    "            \n",
    "        \n",
    "        \n",
    "    def peek(self):\n",
    "        if  not self.isEmpty():\n",
    "            return self.items[(self.front +1) % self.MAX_QSIZE]\n",
    "    \n",
    "    def size(self):\n",
    "        return (self.rear - self.front + self.MAX_QSIZE) % self.MAX_QSIZE\n",
    "    \n",
    "    def display(self):\n",
    "        print(\"□\",end  = \"\")\n",
    "        temp = list(map(str,self.items))\n",
    "        result = ' '.join(temp)\n",
    "        print(result)"
   ]
  },
  {
   "cell_type": "code",
   "execution_count": null,
   "id": "1e776b5a",
   "metadata": {},
   "outputs": [],
   "source": [
    "if __name__ == \"__main__\":\n",
    "    q = int( input() ) # size of the queue\n",
    "    n = int( input()) # the number of commands \n",
    "    cqueue = CircularQueue(q)\n",
    "    for _ in range(n):\n",
    "        command = input()\n",
    "        if command == \"D\":\n",
    "            cqueue.delete()\n",
    "        \n",
    "        elif command == \"P\":\n",
    "            cqueue.display()\n",
    "        \n",
    "        else:\n",
    "            cmm , itm = command.split(\" \")\n",
    "            itm = int(itm)\n",
    "            cqueue.enqueue(itm)\n",
    "            \n",
    "            "
   ]
  },
  {
   "cell_type": "markdown",
   "id": "dfa1a5ca",
   "metadata": {},
   "source": [
    "### 구현방법은 포인터를 프론트랑 ,백 2개 만들고 백에다가 원소 넣으면 됨 . 아이템 넣을때는 프론트 에다가 ."
   ]
  },
  {
   "cell_type": "markdown",
   "id": "68e39ae1",
   "metadata": {},
   "source": [
    "### 뺄때는 프론트꺼 뻄 아마 포인터도 한칸식 옮기게 해야될거야  ."
   ]
  },
  {
   "cell_type": "markdown",
   "id": "7fcd2f04",
   "metadata": {},
   "source": [
    "### 1. 0 같아지는 부분때문에 한칸 더 많게 구현해놀것."
   ]
  },
  {
   "cell_type": "code",
   "execution_count": 72,
   "id": "51849bad",
   "metadata": {},
   "outputs": [],
   "source": [
    "class circle_queue:\n",
    "    def __init__(self, length):\n",
    "        self.length = length\n",
    "        self.queue = [None for x in range(length)]\n",
    "        self.front = 0\n",
    "        self.rear = 0 \n",
    "        \n",
    "    def enque(self, item):\n",
    "        \n",
    "        if not self.isFull() :\n",
    "        \n",
    "            self.queue[self.rear] = item\n",
    "            self.rear = ( self.rear + 1 ) % self.length\n",
    "        \n",
    "    \n",
    "    def deque(self):\n",
    "        if not self.isEmpty():\n",
    "            self.queue[self.front] = None\n",
    "            self.front = (self.front + 1) % self.length\n",
    "        \n",
    "    def isFull(self):\n",
    "        if self.front == ( ( self.rear + 1 ) % self.length  ) :\n",
    "            return True\n",
    "        else:\n",
    "            return False\n",
    "        \n",
    "    def isEmpty(self):\n",
    "        if self.front == self.rear:\n",
    "            return True\n",
    "        else:\n",
    "            return False"
   ]
  },
  {
   "cell_type": "code",
   "execution_count": 73,
   "id": "8f74daa6",
   "metadata": {},
   "outputs": [],
   "source": [
    "cl = circle_queue(5)"
   ]
  },
  {
   "cell_type": "code",
   "execution_count": 94,
   "id": "b13ed6f6",
   "metadata": {},
   "outputs": [],
   "source": [
    "cl.enque(4)"
   ]
  },
  {
   "cell_type": "code",
   "execution_count": 95,
   "id": "f795cbe3",
   "metadata": {},
   "outputs": [
    {
     "data": {
      "text/plain": [
       "[4, None, None, 3, 4]"
      ]
     },
     "execution_count": 95,
     "metadata": {},
     "output_type": "execute_result"
    }
   ],
   "source": [
    "cl.queue"
   ]
  },
  {
   "cell_type": "code",
   "execution_count": 92,
   "id": "f7e5accd",
   "metadata": {},
   "outputs": [],
   "source": [
    "cl.deque()"
   ]
  },
  {
   "cell_type": "code",
   "execution_count": 93,
   "id": "9b2b0026",
   "metadata": {},
   "outputs": [
    {
     "data": {
      "text/plain": [
       "0"
      ]
     },
     "execution_count": 93,
     "metadata": {},
     "output_type": "execute_result"
    }
   ],
   "source": [
    "cl.rear"
   ]
  },
  {
   "cell_type": "markdown",
   "id": "a752daf8",
   "metadata": {},
   "source": [
    "### deque라면 . ..? 그냥 rear에도 똑같이 넣고 가능하게 구현하면될듯. "
   ]
  },
  {
   "cell_type": "markdown",
   "id": "d7a77a5c",
   "metadata": {},
   "source": [
    "예를 들어 , 리어에도 느면 한칸이동하도록 같이 ."
   ]
  },
  {
   "cell_type": "code",
   "execution_count": null,
   "id": "a09d9d2d",
   "metadata": {},
   "outputs": [],
   "source": [
    "def addFront(self, item):\n",
    "    if not self.isFull():\n",
    "        self.items[self.front] = item\n",
    "        self.front = (self.front - 1 + MAX_QSIZE) % MAX_QSIZE\n",
    "\n",
    "def deleteRear(self):\n",
    "    if not self.isEmpty():\n",
    "        item = self.items[self.rear]\n",
    "        self.rear = (self.rear - 1 + MAX_QSIZE) % MAX_QSIZE\n",
    "        return item"
   ]
  }
 ],
 "metadata": {
  "kernelspec": {
   "display_name": "Python 3 (ipykernel)",
   "language": "python",
   "name": "python3"
  },
  "language_info": {
   "codemirror_mode": {
    "name": "ipython",
    "version": 3
   },
   "file_extension": ".py",
   "mimetype": "text/x-python",
   "name": "python",
   "nbconvert_exporter": "python",
   "pygments_lexer": "ipython3",
   "version": "3.8.13"
  }
 },
 "nbformat": 4,
 "nbformat_minor": 5
}
