{
 "cells": [
  {
   "cell_type": "code",
   "execution_count": null,
   "id": "589824b2",
   "metadata": {},
   "outputs": [],
   "source": [
    "def merge_sort(arr):\n",
    "    def sort(low, high):\n",
    "        if high - low < 2:\n",
    "            return\n",
    "        mid = (low + high) // 2          # 함수가 시작될때 에초에 다 쪼갬. \n",
    "        sort(low, mid)          \n",
    "        sort(mid, high)\n",
    "        merge(low, mid, high)\n",
    "\n",
    "    def merge(low, mid, high):\n",
    "        temp = []\n",
    "        l, h = low, mid\n",
    "\n",
    "        while l < mid and h < high:   # merge과정에서 맞는순서라면 temp에 더해줌. \n",
    "            if arr[l] < arr[h]:\n",
    "                temp.append(arr[l])\n",
    "                l += 1\n",
    "            else:\n",
    "                temp.append(arr[h])\n",
    "                h += 1\n",
    "\n",
    "        while l < mid:              # 나머지를 다 템프에 그대로 더함. \n",
    "            temp.append(arr[l])\n",
    "            l += 1\n",
    "        while h < high:\n",
    "            temp.append(arr[h])\n",
    "            h += 1\n",
    "\n",
    "        for i in range(low, high): # arr temp로 교체 . 인덱스로 접근.  \n",
    "            arr[i] = temp[i - low]\n",
    "\n",
    "    return sort(0, len(arr))"
   ]
  },
  {
   "cell_type": "code",
   "execution_count": null,
   "id": "2d8cb71d",
   "metadata": {},
   "outputs": [],
   "source": []
  }
 ],
 "metadata": {
  "kernelspec": {
   "display_name": "Python 3 (ipykernel)",
   "language": "python",
   "name": "python3"
  },
  "language_info": {
   "codemirror_mode": {
    "name": "ipython",
    "version": 3
   },
   "file_extension": ".py",
   "mimetype": "text/x-python",
   "name": "python",
   "nbconvert_exporter": "python",
   "pygments_lexer": "ipython3",
   "version": "3.8.13"
  }
 },
 "nbformat": 4,
 "nbformat_minor": 5
}
