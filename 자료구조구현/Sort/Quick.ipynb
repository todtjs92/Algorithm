{
 "cells": [
  {
   "cell_type": "code",
   "execution_count": 23,
   "id": "7974e466",
   "metadata": {},
   "outputs": [],
   "source": [
    "def quick_sort(arr):\n",
    "    def split(low,high):\n",
    "        if high <= low:\n",
    "            return\n",
    "        \n",
    "        mid = swap(low,high)\n",
    "        split(low, mid - 1)\n",
    "        split(mid, high)\n",
    "    \n",
    "    def swap(low,high):\n",
    "        pivot = arr[(low + high) // 2]\n",
    "        \n",
    "        while low <= high:\n",
    "            while arr[low] < pivot:        # 그래야만함  low < pivot < high\n",
    "                low +=1\n",
    "            \n",
    "            while arr[high] > pivot:\n",
    "                high -= 1\n",
    "                \n",
    "            \n",
    "            # while 이 깨져버린경우지 이러면 .    low < pivot < high 이게 안통하는 케이스가 생겼을때 \n",
    "            \n",
    "            if low <= high:\n",
    "                arr[low] , arr[high] = arr[high] , arr[low] # 바꿔보리고\n",
    "                low ,high = low + 1 , high -1               # 인덱스 이동하고 \n",
    "        \n",
    "        return low\n",
    "    return split(0, len(arr) - 1)"
   ]
  },
  {
   "cell_type": "code",
   "execution_count": 24,
   "id": "d45334bb",
   "metadata": {},
   "outputs": [],
   "source": [
    "quick_sort(arr)"
   ]
  },
  {
   "cell_type": "code",
   "execution_count": 25,
   "id": "3d9aa260",
   "metadata": {},
   "outputs": [
    {
     "data": {
      "text/plain": [
       "[1, 2, 3, 4, 5, 6, 7, 9, 10, 12, 14]"
      ]
     },
     "execution_count": 25,
     "metadata": {},
     "output_type": "execute_result"
    }
   ],
   "source": [
    "arr"
   ]
  },
  {
   "cell_type": "code",
   "execution_count": 9,
   "id": "bbbe4949",
   "metadata": {},
   "outputs": [],
   "source": [
    "# 1. 임의의 pivot을 정하고  low < pivot < high 이 관계 유지 되면 게속 포인터 이동\n",
    "# 2. 만일 깨질경우  low랑 high를 바꿈 .\n",
    "# 3. 바꾸고 포인터한개씩 이동 .\n",
    "# 4. pivot보다 작은값은 모두 왼쪽으로 큰값은 오른쪽으로 가게됨.\n",
    "# 5. 다시 1,2,3,4를 반복 길이가 1짜리 나올떄까지"
   ]
  }
 ],
 "metadata": {
  "kernelspec": {
   "display_name": "Python 3 (ipykernel)",
   "language": "python",
   "name": "python3"
  },
  "language_info": {
   "codemirror_mode": {
    "name": "ipython",
    "version": 3
   },
   "file_extension": ".py",
   "mimetype": "text/x-python",
   "name": "python",
   "nbconvert_exporter": "python",
   "pygments_lexer": "ipython3",
   "version": "3.8.13"
  }
 },
 "nbformat": 4,
 "nbformat_minor": 5
}
