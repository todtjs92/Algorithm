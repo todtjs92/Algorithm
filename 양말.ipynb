{
  "nbformat": 4,
  "nbformat_minor": 0,
  "metadata": {
    "colab": {
      "name": "양말.ipynb",
      "provenance": [],
      "collapsed_sections": []
    },
    "kernelspec": {
      "name": "python3",
      "display_name": "Python 3"
    },
    "language_info": {
      "name": "python"
    }
  },
  "cells": [
    {
      "cell_type": "code",
      "source": [
        ""
      ],
      "metadata": {
        "id": "1JIsR5uMIy4x"
      },
      "execution_count": null,
      "outputs": []
    },
    {
      "cell_type": "code",
      "execution_count": null,
      "metadata": {
        "id": "LLfSZAvti_yg"
      },
      "outputs": [],
      "source": [
        "k= 3\n",
        "c = [1,1]\n",
        "d = [1,4,3,2,4]"
      ]
    },
    {
      "cell_type": "code",
      "source": [
        "import collections"
      ],
      "metadata": {
        "id": "f0hyA1V6jdwW"
      },
      "execution_count": null,
      "outputs": []
    },
    {
      "cell_type": "code",
      "source": [
        "counter = collections.Counter(c)"
      ],
      "metadata": {
        "id": "tq1WzlpZNXmW"
      },
      "execution_count": null,
      "outputs": []
    },
    {
      "cell_type": "code",
      "source": [
        "test_set = list(zip(*counter.most_common(len(counter))))"
      ],
      "metadata": {
        "id": "V9j8UwVcJhjH"
      },
      "execution_count": null,
      "outputs": []
    },
    {
      "cell_type": "code",
      "source": [
        "count = 0\n",
        "left = []\n",
        "for  number, socks in zip(test_set[1],test_set[0]):\n",
        "  if number %2 ==1:\n",
        "    left.append(socks)\n",
        "  count += number//2\n",
        "\n",
        "\n",
        "\n",
        "  # if socks <= 1:\n",
        "  #   continue\n",
        "  # else:\n",
        "  #  ileft.append(socks % 2)"
      ],
      "metadata": {
        "colab": {
          "base_uri": "https://localhost:8080/"
        },
        "id": "WuHeW6A_JoFG",
        "outputId": "4a1828cd-225e-4d59-b747-d4886b29b37f"
      },
      "execution_count": null,
      "outputs": [
        {
          "output_type": "stream",
          "name": "stdout",
          "text": [
            "2 1\n",
            "1 1\n"
          ]
        }
      ]
    },
    {
      "cell_type": "code",
      "source": [
        "l=k\n",
        "for i in range(k):\n",
        "  if len(left)!= 0:\n",
        "    val = left[0]\n",
        "    if val in d:\n",
        "      count+=1\n",
        "    left.pop(0)\n",
        "    d.pop(d.index(val))\n",
        "    l-=1\n",
        "  else:\n",
        "    break\n",
        "if l >=2:\n",
        "  counter1 = collections.Counter(d)\n",
        "  test_set1 = list(zip(*counter1.most_common(len(counter1))))\n",
        "  while l >=2:\n",
        "    for  number, socks in zip(test_set1[1],test_set1[0]):\n",
        "      if l > number:\n",
        "        l = l- number\n",
        "        count += number//2\n",
        "      else:\n",
        "        count += l//2"
      ],
      "metadata": {
        "id": "UGN4eeg7OySf"
      },
      "execution_count": null,
      "outputs": []
    },
    {
      "cell_type": "code",
      "source": [
        "count"
      ],
      "metadata": {
        "colab": {
          "base_uri": "https://localhost:8080/"
        },
        "id": "mLy-hnxaWK09",
        "outputId": "6eae1e1a-336c-4190-91eb-e7d641a7c175"
      },
      "execution_count": null,
      "outputs": [
        {
          "output_type": "execute_result",
          "data": {
            "text/plain": [
              "2"
            ]
          },
          "metadata": {},
          "execution_count": 142
        }
      ]
    },
    {
      "cell_type": "code",
      "source": [
        "counter1 = collections.Counter(d)\n",
        "test_set1 = list(zip(*counter1.most_common(len(counter1))))"
      ],
      "metadata": {
        "id": "66xVFAvESmic"
      },
      "execution_count": null,
      "outputs": []
    },
    {
      "cell_type": "code",
      "source": [
        "while l >=2:\n",
        "  for  number, socks in zip(test_set1[1],test_set1[0]):\n",
        "    if l > number:\n",
        "      l = l- number\n",
        "      count += number//2\n",
        "    else:\n",
        "      count += l//2\n"
      ],
      "metadata": {
        "id": "_f8PTbrDSjFi"
      },
      "execution_count": null,
      "outputs": []
    },
    {
      "cell_type": "code",
      "source": [
        "count"
      ],
      "metadata": {
        "colab": {
          "base_uri": "https://localhost:8080/"
        },
        "id": "_BgT4zvLVNjG",
        "outputId": "ca869e27-0eeb-4512-b592-1c0dad4ab8da"
      },
      "execution_count": null,
      "outputs": [
        {
          "output_type": "execute_result",
          "data": {
            "text/plain": [
              "4"
            ]
          },
          "metadata": {},
          "execution_count": 94
        }
      ]
    },
    {
      "cell_type": "code",
      "source": [
        "d."
      ],
      "metadata": {
        "id": "AySe1t-cSWMR"
      },
      "execution_count": null,
      "outputs": []
    },
    {
      "cell_type": "code",
      "source": [
        "counter1 = collections.Counter(new)\n",
        "test_set1 = list(zip(*counter1.most_common(len(counter1))))"
      ],
      "metadata": {
        "id": "hknwnVVAN7n9"
      },
      "execution_count": null,
      "outputs": []
    },
    {
      "cell_type": "code",
      "source": [
        "for  number, socks in zip(test_set1[1],test_set1[0]):\n",
        "  count += number//2\n",
        "\n",
        "  print(socks , numbers)\n"
      ],
      "metadata": {
        "colab": {
          "base_uri": "https://localhost:8080/"
        },
        "id": "wcUdohJJN1VK",
        "outputId": "c59cac0b-445d-4a54-d5e4-fb735475a789"
      },
      "execution_count": null,
      "outputs": [
        {
          "output_type": "stream",
          "name": "stdout",
          "text": [
            "1 1\n",
            "4 1\n",
            "2 1\n",
            "3 1\n"
          ]
        }
      ]
    },
    {
      "cell_type": "code",
      "source": [
        "count"
      ],
      "metadata": {
        "colab": {
          "base_uri": "https://localhost:8080/"
        },
        "id": "lr4kMk-1OQ0A",
        "outputId": "d81a24a6-8bb7-494c-c769-4b2c209c6230"
      },
      "execution_count": null,
      "outputs": [
        {
          "output_type": "execute_result",
          "data": {
            "text/plain": [
              "4"
            ]
          },
          "metadata": {},
          "execution_count": 61
        }
      ]
    },
    {
      "cell_type": "code",
      "source": [
        "5//3"
      ],
      "metadata": {
        "colab": {
          "base_uri": "https://localhost:8080/"
        },
        "id": "IIP7uMKWKq5X",
        "outputId": "c3d7ec7d-4412-4e26-ad6d-16763b3d678b"
      },
      "execution_count": null,
      "outputs": [
        {
          "output_type": "execute_result",
          "data": {
            "text/plain": [
              "1"
            ]
          },
          "metadata": {},
          "execution_count": 23
        }
      ]
    },
    {
      "cell_type": "code",
      "source": [
        ""
      ],
      "metadata": {
        "id": "Q3_56V2nKbSx"
      },
      "execution_count": null,
      "outputs": []
    },
    {
      "cell_type": "code",
      "source": [
        "print( list(zip(*collections.Counter(nums).most_common(3)))) "
      ],
      "metadata": {
        "id": "olIYqpvyJaKN"
      },
      "execution_count": null,
      "outputs": []
    },
    {
      "cell_type": "code",
      "source": [
        "counter.keys()"
      ],
      "metadata": {
        "id": "QRtqN2TWjucl",
        "outputId": "f32597f0-e70b-43a6-b9e2-1dc00307380e",
        "colab": {
          "base_uri": "https://localhost:8080/"
        }
      },
      "execution_count": null,
      "outputs": [
        {
          "output_type": "execute_result",
          "data": {
            "text/plain": [
              "dict_keys([1, 2])"
            ]
          },
          "metadata": {},
          "execution_count": 7
        }
      ]
    },
    {
      "cell_type": "code",
      "source": [
        "counter.values()"
      ],
      "metadata": {
        "colab": {
          "base_uri": "https://localhost:8080/"
        },
        "id": "YC5ugwkxjiWb",
        "outputId": "2b11b55c-00b1-4b52-92b4-b96952fa0e2e"
      },
      "execution_count": null,
      "outputs": [
        {
          "output_type": "execute_result",
          "data": {
            "text/plain": [
              "dict_values([3, 1])"
            ]
          },
          "metadata": {},
          "execution_count": 8
        }
      ]
    },
    {
      "cell_type": "code",
      "source": [
        "print( list(zip(*collections.Counter(nums).most_common(3)))) "
      ],
      "metadata": {
        "id": "--j2tol5jlgR"
      },
      "execution_count": null,
      "outputs": []
    }
  ]
}