{
  "nbformat": 4,
  "nbformat_minor": 0,
  "metadata": {
    "colab": {
      "name": "프렌즈4블록.ipynb",
      "provenance": [],
      "collapsed_sections": []
    },
    "kernelspec": {
      "name": "python3",
      "display_name": "Python 3"
    },
    "language_info": {
      "name": "python"
    }
  },
  "cells": [
    {
      "cell_type": "code",
      "source": [
        "import copy"
      ],
      "metadata": {
        "id": "wj1hEcUZU561"
      },
      "execution_count": null,
      "outputs": []
    },
    {
      "cell_type": "code",
      "execution_count": null,
      "metadata": {
        "id": "MB4yc2Iwqjru"
      },
      "outputs": [],
      "source": [
        "m, n = 6,6"
      ]
    },
    {
      "cell_type": "code",
      "source": [
        "board = [\"TTTANT\", \"RRFACC\", \"RRRFCC\", \"TRRRAA\", \"TTMMMF\", \"TMMTTJ\"]"
      ],
      "metadata": {
        "id": "FTjRNKBfrEy6"
      },
      "execution_count": null,
      "outputs": []
    },
    {
      "cell_type": "code",
      "source": [
        "m,  n = 4,5"
      ],
      "metadata": {
        "id": "5_MtRbP0W8G2"
      },
      "execution_count": null,
      "outputs": []
    },
    {
      "cell_type": "code",
      "source": [
        "board = [\"CCBDE\", \"AAADE\", \"AAABF\", \"CCBBF\"]"
      ],
      "metadata": {
        "id": "tN0-BlW8W-Sn"
      },
      "execution_count": null,
      "outputs": []
    },
    {
      "cell_type": "code",
      "source": [
        "map = ['' for x in range(n)]"
      ],
      "metadata": {
        "id": "C5zk-rMtMTyr"
      },
      "execution_count": null,
      "outputs": []
    },
    {
      "cell_type": "code",
      "source": [
        "for nn in range(n):\n",
        "  for mm in range(m):\n",
        "    map[nn] += board[mm][nn]\n",
        "m = len(map)\n",
        "n = len(map[0])\n",
        "    \n",
        "    \n",
        "    \n",
        "    "
      ],
      "metadata": {
        "id": "ZU73P8HAvRi6"
      },
      "execution_count": null,
      "outputs": []
    },
    {
      "cell_type": "code",
      "source": [
        "empty=[]\n",
        "map_compare = []"
      ],
      "metadata": {
        "id": "VLGEaDnagXGH"
      },
      "execution_count": null,
      "outputs": []
    },
    {
      "cell_type": "code",
      "source": [
        "map_compare"
      ],
      "metadata": {
        "colab": {
          "base_uri": "https://localhost:8080/"
        },
        "id": "Q1_j1hLTVUNO",
        "outputId": "32b9cf33-4eb2-4b11-d6c6-5f9c151f41a1"
      },
      "execution_count": null,
      "outputs": [
        {
          "output_type": "execute_result",
          "data": {
            "text/plain": [
              "[]"
            ]
          },
          "metadata": {},
          "execution_count": 35
        }
      ]
    },
    {
      "cell_type": "code",
      "source": [
        "def find4(mm,nn):\n",
        "\n",
        "  character =map[mm][nn]\n",
        "  \n",
        "  if character == 'O':\n",
        "    pass\n",
        "  else:\n",
        "    if mm-1 <0 or nn-1 < 0 :\n",
        "      pass\n",
        "    else:\n",
        "      \n",
        "      if map[mm-1][nn-1] ==character and map[mm-1][nn] == character and map[mm][nn-1] == character :\n",
        "        empty.extend([[mm-1, nn-1], [mm,nn-1], [mm-1,nn], [mm,nn]] )\n",
        "\n",
        "    if mm+1 >=m or nn+1 >= n :\n",
        "      pass\n",
        "    else:\n",
        "      if map[mm+1][nn+1] ==character and map[mm+1][nn] == character and map[mm][nn+1] == character :\n",
        "        empty.extend( [[mm+1, nn+1], [mm,nn+1], [mm+1,nn], [mm,nn]] ) \n",
        "\n",
        "    if mm-1 <0 or nn+1 >= n :\n",
        "      pass\n",
        "    else:\n",
        "      if map[mm-1][nn+1] ==character and map[mm-1][nn] == character and map[mm][nn+1] == character :\n",
        "        empty.extend([[mm-1, nn+1], [mm,nn+1], [mm-1,nn], [mm,nn]] )\n",
        "\n",
        "    if mm+1 >=m or nn-1 < 0 :\n",
        "      pass\n",
        "    else:\n",
        "      if map[mm+1][nn-1] ==character and map[mm+1][nn] == character and map[mm][nn-1] == character :\n",
        "        empty.extend([[mm+1, nn-1], [mm,nn-1], [mm+1,nn], [mm,nn]] )\n"
      ],
      "metadata": {
        "id": "LznCgR88WV1d"
      },
      "execution_count": null,
      "outputs": []
    },
    {
      "cell_type": "code",
      "source": [
        "while map != map_compare:\n",
        "  empty=[]\n",
        "  map_compare = copy.copy(map)\n",
        "  for i in range(len(map)):\n",
        "    for j in range(len(map[0])):\n",
        "      find4(i,j)\n",
        "  empty_set = [] \n",
        "  for value in empty:\n",
        "    if value not in empty_set:\n",
        "      empty_set.append(value)\n",
        "  rm_list = sorted(empty_set)\n",
        "  for i in rm_list:\n",
        "    string = map[i[0]]\n",
        "    string_list = list(string)\n",
        "    string_list[i[1]] = ' '\n",
        "    string = ''.join(string_list)\n",
        "    map[i[0]] = string   \n",
        "  for i in map:\n",
        "    print(i)\n",
        "    i.replace(' ','')\n",
        "    i = (n-len(i)) * 'O' + i\n",
        "    print(i)\n",
        "\n",
        "  for i in range(m):\n",
        "    transform = map[i].replace(' ','')\n",
        "    full = (n-len(transform)) * 'O' + transform\n",
        "    map[i] =full\n",
        "answer= 0\n",
        "for i in range(len(map)):\n",
        "  for j in range(len(map[0])):\n",
        "    if map[i][j] == 'O':\n",
        "      answer+=1\n"
      ],
      "metadata": {
        "id": "iXHLlFJhIgir",
        "colab": {
          "base_uri": "https://localhost:8080/"
        },
        "outputId": "4397b890-e16a-4b5c-dc0e-3e5d0ed28861"
      },
      "execution_count": null,
      "outputs": [
        {
          "output_type": "stream",
          "name": "stdout",
          "text": [
            "T  TTT\n",
            "T  TTT\n",
            "T   TM\n",
            "T   TM\n",
            "TF  MM\n",
            "TF  MM\n",
            "AAFRMT\n",
            "AAFRMT\n",
            "N  AMT\n",
            "N  AMT\n",
            "T  AFJ\n",
            "T  AFJ\n",
            "OOT  T\n",
            "OOT  T\n",
            "OOO  M\n",
            "OOO  M\n",
            "OOTFMM\n",
            "OOTFMM\n",
            "AAFRMT\n",
            "AAFRMT\n",
            "OONAMT\n",
            "OONAMT\n",
            "OOTAFJ\n",
            "OOTAFJ\n",
            "OOOOTT\n",
            "OOOOTT\n",
            "OOOOOM\n",
            "OOOOOM\n",
            "OOTFMM\n",
            "OOTFMM\n",
            "AAFRMT\n",
            "AAFRMT\n",
            "OONAMT\n",
            "OONAMT\n",
            "OOTAFJ\n",
            "OOTAFJ\n"
          ]
        }
      ]
    },
    {
      "cell_type": "code",
      "source": [
        "answer"
      ],
      "metadata": {
        "colab": {
          "base_uri": "https://localhost:8080/"
        },
        "id": "McAa8Hj2WYPh",
        "outputId": "b95b4327-f5b9-4137-bb4d-94bb1a779cc0"
      },
      "execution_count": null,
      "outputs": [
        {
          "output_type": "execute_result",
          "data": {
            "text/plain": [
              "15"
            ]
          },
          "metadata": {},
          "execution_count": 28
        }
      ]
    },
    {
      "cell_type": "code",
      "source": [
        ""
      ],
      "metadata": {
        "id": "1XQTjKYDidaT"
      },
      "execution_count": null,
      "outputs": []
    },
    {
      "cell_type": "code",
      "source": [
        "import copy        \n",
        "\n",
        "def solution(m, n, board):\n",
        "    mapp = ['' for x in range(n)]\n",
        "    \n",
        "    for nn in range(n):\n",
        "        for mm in range(m):\n",
        "            mapp[nn] += board[mm][nn]\n",
        "    \n",
        "    m = len(mapp)\n",
        "    n = len(mapp[0])\n",
        "    \n",
        "    empty=[]\n",
        "    map_compare=[]\n",
        "    \n",
        "    def find4(mm,nn):\n",
        "        character = mapp[mm][nn]\n",
        "\n",
        "        if character =='O':\n",
        "            pass\n",
        "        else:\n",
        "            if mm-1 < 0 or nn-1 < 0:\n",
        "                pass\n",
        "\n",
        "            else:\n",
        "                if mapp[mm-1][nn-1] == character and mapp[mm-1][nn]  == character and mapp[mm][nn-1] == character:\n",
        "                    empty.extend([[mm-1,nn-1],[mm,nn-1],[mm-1,nn],[mm,nn]])\n",
        "\n",
        "            if mm+1 >=m or nn+1 >= n:\n",
        "                pass\n",
        "            else:\n",
        "                if mapp[mm+1][nn+1] == character and mapp[mm+1][nn] == character and mapp[mm][nn+1] == character:\n",
        "                    empty.extend([[mm+1,nn+1],[mm,nn+1],[mm+1,nn],[mm,nn]])\n",
        "\n",
        "            if mm-1 < 0 or nn+1 >= n:\n",
        "                pass\n",
        "            else:\n",
        "                if mapp[mm-1][nn+1] == character and mapp[mm-1][nn] == character and mapp[mm][nn+1] == character:\n",
        "                    empty.extend([[mm-1,nn+1],[mm,nn+1],[mm-1,nn],[mm,nn] ])\n",
        "\n",
        "            if mm+1 >=m or nn-1 <=0:\n",
        "                pass\n",
        "            else:\n",
        "                if mapp[mm+1][nn-1] == character and mapp[mm+1][nn] == character and mapp[mm][nn-1] == character:\n",
        "                    empty.extend([[mm+1,nn-1],[mm,nn-1],[mm+1,nn],[mm,nn]])\n",
        "    \n",
        "    \n",
        "    while mapp !=  map_compare:\n",
        "        empty = []\n",
        "        map_compare = copy.copy(mapp)\n",
        "        for i in range(len(mapp)):\n",
        "            for j in range(len(mapp[0])):\n",
        "                find4(i,j)\n",
        "        \n",
        "        empty_set = []\n",
        "        for value in empty:\n",
        "            if value not in empty_set:\n",
        "                empty_set.append(value)\n",
        "        \n",
        "        rm_list = sorted(empty_set)\n",
        "        for i in rm_list:\n",
        "            string = mapp[i[0]]\n",
        "            string_list = list(string)\n",
        "            string_list[i[1]]  = ' '\n",
        "            string = ''.join(string_list)\n",
        "            mapp[i[0]]= string\n",
        "        \n",
        "        for i in mapp:\n",
        "            i.replace(' ','')\n",
        "            i = (n-len(i)) * 'O' + i\n",
        "            \n",
        "        for i in range(m):\n",
        "            transform = mapp[i].replace(' ','')\n",
        "            full = (n - len(transform)) * 'O' + transform\n",
        "            mapp[i] = full\n",
        "    answer = 0\n",
        "    for i in range(len(mapp)):\n",
        "        for j in range(len(mapp[0])):\n",
        "            if mapp[i][j] == 'O':\n",
        "                answer+=1\n",
        "        \n",
        "    return answer"
      ],
      "metadata": {
        "id": "ePu2QpiCidMN"
      },
      "execution_count": null,
      "outputs": []
    },
    {
      "cell_type": "code",
      "source": [
        "solution(m,n,board)"
      ],
      "metadata": {
        "colab": {
          "base_uri": "https://localhost:8080/"
        },
        "id": "FU9RlAhRiK8z",
        "outputId": "1bda5c7d-3495-4e9f-8d6a-76c0a40c8a12"
      },
      "execution_count": null,
      "outputs": [
        {
          "output_type": "execute_result",
          "data": {
            "text/plain": [
              "24"
            ]
          },
          "metadata": {},
          "execution_count": 12
        }
      ]
    },
    {
      "cell_type": "code",
      "source": [
        "board = [\"AAAAAA\", \"BBAATB\", \"BBAATB\", \"JJJTAA\", \"JJJTAA\"]"
      ],
      "metadata": {
        "id": "zgR2Xbh8ic84"
      },
      "execution_count": null,
      "outputs": []
    },
    {
      "cell_type": "code",
      "source": [
        "m,n= 5,6"
      ],
      "metadata": {
        "id": "oJybb0y9iPw2"
      },
      "execution_count": null,
      "outputs": []
    },
    {
      "cell_type": "code",
      "source": [
        "A A A A A A\n",
        "B B A A T B\n",
        "B B A A T B\n",
        "J J J T A A\n",
        "J J J T A A"
      ],
      "metadata": {
        "id": "dhh3exVhiQwq"
      },
      "execution_count": null,
      "outputs": []
    },
    {
      "cell_type": "code",
      "source": [
        "AAOOAA\n",
        "OOOOTB\n",
        "OOOOTB\n",
        "OOOTOO\n",
        "OOOTOO "
      ],
      "metadata": {
        "id": "N84spDazktt1"
      },
      "execution_count": null,
      "outputs": []
    },
    {
      "cell_type": "code",
      "source": [
        "OOOOOO\n",
        "OOOOOO\n",
        "OOOOAA\n",
        "OOOTTA\n",
        "AAOTTB"
      ],
      "metadata": {
        "id": "YBU79AUSk-jb"
      },
      "execution_count": null,
      "outputs": []
    },
    {
      "cell_type": "code",
      "source": [
        "OOOOOO\n",
        "OOOOOO\n",
        "OOOOOA\n",
        "OOOOOA\n",
        "AAOOAB"
      ],
      "metadata": {
        "id": "K54JPBZKlUqk"
      },
      "execution_count": null,
      "outputs": []
    },
    {
      "cell_type": "code",
      "source": [
        "empty_set = [] \n",
        "for value in empty:\n",
        "  if value not in empty_set:\n",
        "    empty_set.append(value)\n"
      ],
      "metadata": {
        "id": "yc0vycyjjUie"
      },
      "execution_count": null,
      "outputs": []
    },
    {
      "cell_type": "code",
      "source": [
        "rm_list = sorted(empty_set)"
      ],
      "metadata": {
        "id": "muEA6ArQjfpm"
      },
      "execution_count": null,
      "outputs": []
    },
    {
      "cell_type": "code",
      "source": [
        "map"
      ],
      "metadata": {
        "colab": {
          "base_uri": "https://localhost:8080/"
        },
        "id": "5tQplKahPzyg",
        "outputId": "b57cbad9-454d-4cc6-d258-59002011c9c4"
      },
      "execution_count": null,
      "outputs": [
        {
          "output_type": "execute_result",
          "data": {
            "text/plain": [
              "['TRRTTT', 'TRRRTM', 'TFRRMM', 'AAFRMT', 'NCCAMT', 'TCCAFJ']"
            ]
          },
          "metadata": {},
          "execution_count": 159
        }
      ]
    },
    {
      "cell_type": "code",
      "source": [
        "for i in rm_list:\n",
        "  string = map[i[0]]\n",
        "  string_list = list(string)\n",
        "  string_list[i[1]] = ' '\n",
        "  string = ''.join(string_list)\n",
        "  map[i[0]] = string   "
      ],
      "metadata": {
        "id": "CZi_FrkHLbsG"
      },
      "execution_count": null,
      "outputs": []
    },
    {
      "cell_type": "code",
      "source": [
        "for i in map:\n",
        "  i.replace(' ','')\n",
        "  i = (n-len(i)) * 'O' + i"
      ],
      "metadata": {
        "colab": {
          "base_uri": "https://localhost:8080/"
        },
        "id": "-6WIkjRYOxk8",
        "outputId": "dd7af15d-7641-4508-fdc6-44e9845bcb9b"
      },
      "execution_count": null,
      "outputs": [
        {
          "output_type": "execute_result",
          "data": {
            "text/plain": [
              "['T  TTT', 'T   TM', 'TF  MM', 'AAFRMT', 'N  AMT', 'T  AFJ']"
            ]
          },
          "metadata": {},
          "execution_count": 163
        }
      ]
    },
    {
      "cell_type": "code",
      "source": [
        "for i in range(m):\n",
        "  transform = map[i].replace(' ','')\n",
        "  full = (n-len(transform)) * 'O' + transform\n",
        "  map[i] =full"
      ],
      "metadata": {
        "id": "q53ohjcqOxRT"
      },
      "execution_count": null,
      "outputs": []
    },
    {
      "cell_type": "code",
      "source": [
        "map"
      ],
      "metadata": {
        "colab": {
          "base_uri": "https://localhost:8080/"
        },
        "id": "mp6Ck0E-SlqY",
        "outputId": "9f21e6cd-ecd6-44de-8243-dbb9631f116f"
      },
      "execution_count": null,
      "outputs": [
        {
          "output_type": "execute_result",
          "data": {
            "text/plain": [
              "['OOTTTT', 'OOOTTM', 'OOTFMM', 'AAFRMT', 'OONAMT', 'OOTAFJ']"
            ]
          },
          "metadata": {},
          "execution_count": 175
        }
      ]
    },
    {
      "cell_type": "code",
      "source": [
        "for i in range(len(map)):\n",
        "  for j in range(len(map[0])):\n",
        "    find4(i,j)"
      ],
      "metadata": {
        "colab": {
          "base_uri": "https://localhost:8080/"
        },
        "id": "Xl-sCrSUTmt4",
        "outputId": "e877b453-cf17-4f52-da60-e189304bd048"
      },
      "execution_count": null,
      "outputs": [
        {
          "output_type": "stream",
          "name": "stdout",
          "text": [
            "0 0 O\n",
            "0 1 O\n",
            "0 2 T\n",
            "0 3 T\n",
            "0 4 T\n",
            "0 5 T\n",
            "1 0 O\n",
            "1 1 O\n",
            "1 2 O\n",
            "1 3 T\n",
            "1 4 T\n",
            "1 5 M\n",
            "2 0 O\n",
            "2 1 O\n",
            "2 2 T\n",
            "2 3 F\n",
            "2 4 M\n",
            "2 5 M\n",
            "3 0 A\n",
            "3 1 A\n",
            "3 2 F\n",
            "3 3 R\n",
            "3 4 M\n",
            "3 5 T\n",
            "4 0 O\n",
            "4 1 O\n",
            "4 2 N\n",
            "4 3 A\n",
            "4 4 M\n",
            "4 5 T\n",
            "5 0 O\n",
            "5 1 O\n",
            "5 2 T\n",
            "5 3 A\n",
            "5 4 F\n",
            "5 5 J\n"
          ]
        }
      ]
    },
    {
      "cell_type": "code",
      "source": [
        "map"
      ],
      "metadata": {
        "colab": {
          "base_uri": "https://localhost:8080/"
        },
        "id": "1nl1wiBxTrgb",
        "outputId": "4ce6883e-f60c-47fe-f896-ad9e689c0d20"
      },
      "execution_count": null,
      "outputs": [
        {
          "output_type": "execute_result",
          "data": {
            "text/plain": [
              "['OOTTTT', 'OOOTTM', 'OOTFMM', 'AAFRMT', 'OONAMT', 'OOTAFJ']"
            ]
          },
          "metadata": {},
          "execution_count": 177
        }
      ]
    },
    {
      "cell_type": "code",
      "source": [
        "'TRRTTT'\n",
        "'TRRRTM'\n",
        "'TFRRMM'\n",
        "'AAFRMT'\n",
        "'NCCAMT'\n",
        "'TCCAFJ'"
      ],
      "metadata": {
        "colab": {
          "base_uri": "https://localhost:8080/",
          "height": 35
        },
        "id": "GDijIIiqjw0y",
        "outputId": "a4a57013-5ad2-44c7-fe95-bb8d89715575"
      },
      "execution_count": null,
      "outputs": [
        {
          "output_type": "execute_result",
          "data": {
            "application/vnd.google.colaboratory.intrinsic+json": {
              "type": "string"
            },
            "text/plain": [
              "'TCCAFJ'"
            ]
          },
          "metadata": {},
          "execution_count": 126
        }
      ]
    },
    {
      "cell_type": "code",
      "source": [
        "mm nn 이 뒤집어진거 생각해줘야함"
      ],
      "metadata": {
        "id": "EJ_RsUj2kIGM",
        "outputId": "8e0ad65e-9b7f-4f25-d555-5e785dd68878",
        "colab": {
          "base_uri": "https://localhost:8080/",
          "height": 131
        }
      },
      "execution_count": null,
      "outputs": [
        {
          "output_type": "error",
          "ename": "SyntaxError",
          "evalue": "ignored",
          "traceback": [
            "\u001b[0;36m  File \u001b[0;32m\"<ipython-input-127-721d98f9b3ae>\"\u001b[0;36m, line \u001b[0;32m1\u001b[0m\n\u001b[0;31m    mm nn 이 뒤집어진거 생각해줘야함\u001b[0m\n\u001b[0m        ^\u001b[0m\n\u001b[0;31mSyntaxError\u001b[0m\u001b[0;31m:\u001b[0m invalid syntax\n"
          ]
        }
      ]
    },
    {
      "cell_type": "code",
      "source": [
        "def find4(mm,nn):\n",
        "\n",
        "  character =map[mm][nn]\n",
        "  print(mm,nn, character)\n",
        "  if character == 'O':\n",
        "    pass\n",
        "  else:\n",
        "    if mm-1 <0 or nn-1 < 0 :\n",
        "      pass\n",
        "    else:\n",
        "      \n",
        "      if map[mm-1][nn-1] ==character and map[mm-1][nn] == character and map[mm][nn-1] == character :\n",
        "        empty.extend([[mm-1, nn-1], [mm,nn-1], [mm-1,nn], [mm,nn]] )\n",
        "\n",
        "    if mm+1 >=m or nn+1 >= n :\n",
        "      pass\n",
        "    else:\n",
        "      if map[mm+1][nn+1] ==character and map[mm+1][nn] == character and map[mm][nn+1] == character :\n",
        "        empty.extend( [[mm+1, nn+1], [mm,nn+1], [mm+1,nn], [mm,nn]] ) \n",
        "\n",
        "    if mm-1 <0 or nn+1 >= n :\n",
        "      pass\n",
        "    else:\n",
        "      if map[mm-1][nn+1] ==character and map[mm-1][nn] == character and map[mm][nn+1] == character :\n",
        "        empty.extend([[mm-1, nn+1], [mm,nn+1], [mm-1,nn], [mm,nn]] )\n",
        "\n",
        "    if mm+1 >=m or nn-1 < 0 :\n",
        "      pass\n",
        "    else:\n",
        "      if map[mm+1][nn-1] ==character and map[mm+1][nn] == character and map[mm][nn-1] == character :\n",
        "        empty.extend([[mm+1, nn-1], [mm,nn-1], [mm+1,nn], [mm,nn]] )\n",
        "\n",
        "       \n",
        "  \n",
        "\n",
        "\n",
        "\n",
        "      \n",
        "\n",
        "    \n",
        "    "
      ],
      "metadata": {
        "id": "X0dYbOgPvRAo"
      },
      "execution_count": null,
      "outputs": []
    },
    {
      "cell_type": "code",
      "source": [
        "x = []"
      ],
      "metadata": {
        "id": "B8TLky8OQnXe"
      },
      "execution_count": null,
      "outputs": []
    },
    {
      "cell_type": "code",
      "source": [
        "def test():\n",
        "  x.append('a')"
      ],
      "metadata": {
        "id": "kAzDfocxQoCc"
      },
      "execution_count": null,
      "outputs": []
    },
    {
      "cell_type": "code",
      "source": [
        "test()"
      ],
      "metadata": {
        "id": "n72Y-oEtQqzI"
      },
      "execution_count": null,
      "outputs": []
    },
    {
      "cell_type": "code",
      "source": [
        "x"
      ],
      "metadata": {
        "colab": {
          "base_uri": "https://localhost:8080/"
        },
        "id": "RZTPh30_QrV6",
        "outputId": "ea3f793d-ccf8-4eca-bd15-3bce8d9c9fb7"
      },
      "execution_count": null,
      "outputs": [
        {
          "output_type": "execute_result",
          "data": {
            "text/plain": [
              "['a']"
            ]
          },
          "metadata": {},
          "execution_count": 53
        }
      ]
    },
    {
      "cell_type": "code",
      "source": [
        "import copy\n",
        "\n",
        "def find4(mm,nn):\n",
        "\n",
        "    character =map[mm][nn]\n",
        "    if character == 'O':\n",
        "        pass\n",
        "    else:\n",
        "        \n",
        "        if mm-1 <0 or nn-1 < 0 :\n",
        "            pass\n",
        "        else:\n",
        "      \n",
        "            if map[mm-1][nn-1] ==character and map[mm-1][nn] == character and map[mm][nn-1] == character :\n",
        "                empty.extend([[mm-1, nn-1], [mm,nn-1], [mm-1,nn], [mm,nn]] )\n",
        "\n",
        "        if mm+1 >=m or nn+1 >= n :\n",
        "            pass\n",
        "        else:\n",
        "            if map[mm+1][nn+1] ==character and map[mm+1][nn] == character and map[mm][nn+1] == character :\n",
        "                empty.extend( [[mm+1, nn+1], [mm,nn+1], [mm+1,nn], [mm,nn]] ) \n",
        "\n",
        "        if mm-1 <0 or nn+1 >= n :\n",
        "            pass\n",
        "        else:\n",
        "            if map[mm-1][nn+1] ==character and map[mm-1][nn] == character and map[mm][nn+1] == character :\n",
        "                empty.extend([[mm-1, nn+1], [mm,nn+1], [mm-1,nn], [mm,nn]] )\n",
        "\n",
        "        if mm+1 >=m or nn-1 < 0 :\n",
        "            pass\n",
        "        else:\n",
        "            if map[mm+1][nn-1] ==character and map[mm+1][nn] == character and map[mm][nn-1] == character :\n",
        "                empty.extend([[mm+1, nn-1], [mm,nn-1], [mm+1,nn], [mm,nn]] )\n",
        "\n",
        "\n",
        "\n",
        "\n",
        "\n",
        "def solution(m, n, board):\n",
        "    \n",
        "    \n",
        "    \n",
        "    map = ['' for x in range(n)]\n",
        "    for nn in range(n):\n",
        "      for mm in range(m):\n",
        "        map[nn] += board[mm][nn]\n",
        "    m = len(map)\n",
        "    n = len(map[0])\n",
        "    empty=[]\n",
        "    map_compare = []\n",
        "    \n",
        "    while map != map_compare:\n",
        "        empty=[]\n",
        "    map_compare = copy.copy(map)\n",
        "    for i in range(len(map)):\n",
        "        for j in range(len(map[0])):\n",
        "            find4(i,j)\n",
        "    empty_set = [] \n",
        "    for value in empty:\n",
        "        if value not in empty_set:\n",
        "            empty_set.append(value)\n",
        "    rm_list = sorted(empty_set)\n",
        "    for i in rm_list:\n",
        "        string = map[i[0]]\n",
        "        string_list = list(string)\n",
        "        string_list[i[1]] = ' '\n",
        "        string = ''.join(string_list)\n",
        "        map[i[0]] = string   \n",
        "    for i in map:\n",
        "        i.replace(' ','')\n",
        "        i = (n-len(i)) * 'O' + i\n",
        "    for i in range(m):\n",
        "        transform = map[i].replace(' ','')\n",
        "        full = (n-len(transform)) * 'O' + transform\n",
        "        map[i] =full\n",
        "    answer= 0\n",
        "    for i in range(len(map)):\n",
        "        for j in range(len(map[0])):\n",
        "            if map[i][j] == 'O':\n",
        "                answer+=1\n",
        "    \n",
        "    return answer"
      ],
      "metadata": {
        "id": "6I-V6M-UQrwD"
      },
      "execution_count": null,
      "outputs": []
    },
    {
      "cell_type": "code",
      "source": [
        "board = [\"TTTANT\", \"RRFACC\", \"RRRFCC\", \"TRRRAA\", \"TTMMMF\", \"TMMTTJ\"]"
      ],
      "metadata": {
        "id": "YmsBPs4Vbl2c"
      },
      "execution_count": null,
      "outputs": []
    },
    {
      "cell_type": "code",
      "source": [
        "m, n = 6,6"
      ],
      "metadata": {
        "id": "LlBuF4WlbotJ"
      },
      "execution_count": null,
      "outputs": []
    },
    {
      "cell_type": "code",
      "source": [
        "solution(m,n,board)"
      ],
      "metadata": {
        "colab": {
          "base_uri": "https://localhost:8080/",
          "height": 398
        },
        "id": "ior1kxvpbqt1",
        "outputId": "417658f6-c080-4ded-f8df-d004780aafa9"
      },
      "execution_count": null,
      "outputs": [
        {
          "output_type": "stream",
          "name": "stdout",
          "text": [
            "0 0\n",
            "0 1\n",
            "0 2\n",
            "0 3\n",
            "0 4\n"
          ]
        },
        {
          "output_type": "error",
          "ename": "IndexError",
          "evalue": "ignored",
          "traceback": [
            "\u001b[0;31m---------------------------------------------------------------------------\u001b[0m",
            "\u001b[0;31mIndexError\u001b[0m                                Traceback (most recent call last)",
            "\u001b[0;32m<ipython-input-243-5a4234bbb0da>\u001b[0m in \u001b[0;36m<module>\u001b[0;34m()\u001b[0m\n\u001b[0;32m----> 1\u001b[0;31m \u001b[0msolution\u001b[0m\u001b[0;34m(\u001b[0m\u001b[0mm\u001b[0m\u001b[0;34m,\u001b[0m\u001b[0mn\u001b[0m\u001b[0;34m,\u001b[0m\u001b[0mboard\u001b[0m\u001b[0;34m)\u001b[0m\u001b[0;34m\u001b[0m\u001b[0;34m\u001b[0m\u001b[0m\n\u001b[0m",
            "\u001b[0;32m<ipython-input-242-b61a8e26df8c>\u001b[0m in \u001b[0;36msolution\u001b[0;34m(m, n, board)\u001b[0m\n\u001b[1;32m     46\u001b[0m         \u001b[0;32mfor\u001b[0m \u001b[0mi\u001b[0m \u001b[0;32min\u001b[0m \u001b[0mrange\u001b[0m\u001b[0;34m(\u001b[0m\u001b[0mlen\u001b[0m\u001b[0;34m(\u001b[0m\u001b[0mmap\u001b[0m\u001b[0;34m)\u001b[0m\u001b[0;34m)\u001b[0m\u001b[0;34m:\u001b[0m\u001b[0;34m\u001b[0m\u001b[0;34m\u001b[0m\u001b[0m\n\u001b[1;32m     47\u001b[0m             \u001b[0;32mfor\u001b[0m \u001b[0mj\u001b[0m \u001b[0;32min\u001b[0m \u001b[0mrange\u001b[0m\u001b[0;34m(\u001b[0m\u001b[0mlen\u001b[0m\u001b[0;34m(\u001b[0m\u001b[0mmap\u001b[0m\u001b[0;34m[\u001b[0m\u001b[0;36m0\u001b[0m\u001b[0;34m]\u001b[0m\u001b[0;34m)\u001b[0m\u001b[0;34m)\u001b[0m\u001b[0;34m:\u001b[0m\u001b[0;34m\u001b[0m\u001b[0;34m\u001b[0m\u001b[0m\n\u001b[0;32m---> 48\u001b[0;31m                 \u001b[0mfind4\u001b[0m\u001b[0;34m(\u001b[0m\u001b[0mi\u001b[0m\u001b[0;34m,\u001b[0m\u001b[0mj\u001b[0m\u001b[0;34m)\u001b[0m\u001b[0;34m\u001b[0m\u001b[0;34m\u001b[0m\u001b[0m\n\u001b[0m\u001b[1;32m     49\u001b[0m         \u001b[0mempty_set\u001b[0m \u001b[0;34m=\u001b[0m \u001b[0;34m[\u001b[0m\u001b[0;34m]\u001b[0m\u001b[0;34m\u001b[0m\u001b[0;34m\u001b[0m\u001b[0m\n\u001b[1;32m     50\u001b[0m         \u001b[0;32mfor\u001b[0m \u001b[0mvalue\u001b[0m \u001b[0;32min\u001b[0m \u001b[0mempty\u001b[0m\u001b[0;34m:\u001b[0m\u001b[0;34m\u001b[0m\u001b[0;34m\u001b[0m\u001b[0m\n",
            "\u001b[0;32m<ipython-input-242-b61a8e26df8c>\u001b[0m in \u001b[0;36mfind4\u001b[0;34m(mm, nn)\u001b[0m\n\u001b[1;32m      2\u001b[0m \u001b[0;32mdef\u001b[0m \u001b[0mfind4\u001b[0m\u001b[0;34m(\u001b[0m\u001b[0mmm\u001b[0m\u001b[0;34m,\u001b[0m\u001b[0mnn\u001b[0m\u001b[0;34m)\u001b[0m\u001b[0;34m:\u001b[0m\u001b[0;34m\u001b[0m\u001b[0;34m\u001b[0m\u001b[0m\n\u001b[1;32m      3\u001b[0m     \u001b[0mprint\u001b[0m\u001b[0;34m(\u001b[0m\u001b[0mmm\u001b[0m\u001b[0;34m,\u001b[0m\u001b[0mnn\u001b[0m\u001b[0;34m)\u001b[0m\u001b[0;34m\u001b[0m\u001b[0;34m\u001b[0m\u001b[0m\n\u001b[0;32m----> 4\u001b[0;31m     \u001b[0mcharacter\u001b[0m \u001b[0;34m=\u001b[0m\u001b[0mmap\u001b[0m\u001b[0;34m[\u001b[0m\u001b[0mmm\u001b[0m\u001b[0;34m]\u001b[0m\u001b[0;34m[\u001b[0m\u001b[0mnn\u001b[0m\u001b[0;34m]\u001b[0m\u001b[0;34m\u001b[0m\u001b[0;34m\u001b[0m\u001b[0m\n\u001b[0m\u001b[1;32m      5\u001b[0m \u001b[0;34m\u001b[0m\u001b[0m\n\u001b[1;32m      6\u001b[0m     \u001b[0;32mif\u001b[0m \u001b[0mcharacter\u001b[0m \u001b[0;34m==\u001b[0m \u001b[0;34m'O'\u001b[0m\u001b[0;34m:\u001b[0m\u001b[0;34m\u001b[0m\u001b[0;34m\u001b[0m\u001b[0m\n",
            "\u001b[0;31mIndexError\u001b[0m: string index out of range"
          ]
        }
      ]
    },
    {
      "cell_type": "code",
      "source": [
        "import copy\n",
        "def find4(mm,nn):\n",
        "    print(mm,nn)\n",
        "    character =map[mm][nn]\n",
        "  \n",
        "    if character == 'O':\n",
        "        pass\n",
        "    else:\n",
        "        if mm-1 <0 or nn-1 < 0 :\n",
        "            pass\n",
        "        else:\n",
        "            if map[mm-1][nn-1] ==character and map[mm-1][nn] == character and map[mm][nn-1] == character :\n",
        "                empty.extend([[mm-1, nn-1], [mm,nn-1], [mm-1,nn], [mm,nn]] )\n",
        "\n",
        "        if mm+1 >=m or nn+1 >= n :\n",
        "            pass\n",
        "        else:\n",
        "            if map[mm+1][nn+1] ==character and map[mm+1][nn] == character and map[mm][nn+1] == character :\n",
        "                empty.extend( [[mm+1, nn+1], [mm,nn+1], [mm+1,nn], [mm,nn]] ) \n",
        "\n",
        "        if mm-1 <0 or nn+1 >= n :\n",
        "            pass\n",
        "        else:\n",
        "            if map[mm-1][nn+1] ==character and map[mm-1][nn] == character and map[mm][nn+1] == character :\n",
        "                empty.extend([[mm-1, nn+1], [mm,nn+1], [mm-1,nn], [mm,nn]] )\n",
        "\n",
        "        if mm+1 >=m or nn-1 < 0 :\n",
        "            pass\n",
        "        else:\n",
        "            if map[mm+1][nn-1] ==character and map[mm+1][nn] == character and map[mm][nn-1] == character :\n",
        "                empty.extend([[mm+1, nn-1], [mm,nn-1], [mm+1,nn], [mm,nn]] )\n",
        "                \n",
        "def solution(m,n,board):\n",
        "    map = ['' for x in range(n)]\n",
        "    for nn in range(n):\n",
        "        for mm in range(m):\n",
        "            map[nn] += board[mm][nn]\n",
        "    m = len(map)\n",
        "    n = len(map[0])\n",
        "    empty=[]\n",
        "    map_compare = []\n",
        "    \n",
        "    while map != map_compare:\n",
        "        empty=[]\n",
        "        map_compare = copy.copy(map)\n",
        "        for i in range(len(map)):\n",
        "            for j in range(len(map[0])):\n",
        "                find4(i,j)\n",
        "        empty_set = [] \n",
        "        for value in empty:\n",
        "            if value not in empty_set:\n",
        "                empty_set.append(value)\n",
        "        rm_list = sorted(empty_set)\n",
        "        for i in rm_list:\n",
        "            string = map[i[0]]\n",
        "            string_list = list(string)\n",
        "            string_list[i[1]] = ' '\n",
        "            string = ''.join(string_list)\n",
        "            map[i[0]] = string   \n",
        "        for i in map:\n",
        "            i.replace(' ','')\n",
        "            i = (n-len(i)) * 'O' + i\n",
        "        for i in range(m):\n",
        "            transform = map[i].replace(' ','')\n",
        "            full = (n-len(transform)) * 'O' + transform\n",
        "            map[i] =full\n",
        "    answer= 0\n",
        "    for i in range(len(map)):\n",
        "        for j in range(len(map[0])):\n",
        "            if map[i][j] == 'O':\n",
        "                answer+=1\n",
        "    \n",
        "    return answer"
      ],
      "metadata": {
        "id": "6pd7iaZLbswo"
      },
      "execution_count": null,
      "outputs": []
    },
    {
      "cell_type": "code",
      "source": [
        "price = '100,200,300,100,,,,400,500,600,'"
      ],
      "metadata": {
        "id": "AplF5UhMh35s"
      },
      "execution_count": null,
      "outputs": []
    },
    {
      "cell_type": "code",
      "source": [
        "price_array = price.split(',')"
      ],
      "metadata": {
        "id": "tuY9rwFRz3Ef"
      },
      "execution_count": null,
      "outputs": []
    },
    {
      "cell_type": "code",
      "source": [
        "price_array"
      ],
      "metadata": {
        "colab": {
          "base_uri": "https://localhost:8080/"
        },
        "id": "biXhAvgC0pr7",
        "outputId": "3612e18e-780c-4d4c-b318-3f2d889ab8a5"
      },
      "execution_count": null,
      "outputs": [
        {
          "output_type": "execute_result",
          "data": {
            "text/plain": [
              "['100', '200', '300', '100', '', '', '', '400', '500', '600', '']"
            ]
          },
          "metadata": {},
          "execution_count": 288
        }
      ]
    },
    {
      "cell_type": "code",
      "source": [
        "present = price_array.pop(-2)"
      ],
      "metadata": {
        "id": "HmnBbXwaz6b6"
      },
      "execution_count": null,
      "outputs": []
    },
    {
      "cell_type": "code",
      "source": [
        "present"
      ],
      "metadata": {
        "colab": {
          "base_uri": "https://localhost:8080/",
          "height": 35
        },
        "id": "v95M8Wec0va4",
        "outputId": "a93b823f-9ba1-4d4d-871e-55fd12da1f12"
      },
      "execution_count": null,
      "outputs": [
        {
          "output_type": "execute_result",
          "data": {
            "application/vnd.google.colaboratory.intrinsic+json": {
              "type": "string"
            },
            "text/plain": [
              "'600'"
            ]
          },
          "metadata": {},
          "execution_count": 290
        }
      ]
    },
    {
      "cell_type": "code",
      "source": [
        "price_array"
      ],
      "metadata": {
        "colab": {
          "base_uri": "https://localhost:8080/"
        },
        "id": "ohgB_5ql0wFn",
        "outputId": "8e43ecf5-871a-4003-e73f-d802a40db3f9"
      },
      "execution_count": null,
      "outputs": [
        {
          "output_type": "execute_result",
          "data": {
            "text/plain": [
              "['100', '200', '300', '100', '', '', '', '400', '500', '']"
            ]
          },
          "metadata": {},
          "execution_count": 291
        }
      ]
    },
    {
      "cell_type": "code",
      "source": [
        "price_array=np.array(price_array)"
      ],
      "metadata": {
        "id": "1jCogZNb0ynx"
      },
      "execution_count": null,
      "outputs": []
    },
    {
      "cell_type": "code",
      "source": [
        "ss =np.delete(price_array,np.where(price_array==''))"
      ],
      "metadata": {
        "id": "I5ZAArdZz_Yv"
      },
      "execution_count": null,
      "outputs": []
    },
    {
      "cell_type": "code",
      "source": [
        "ss"
      ],
      "metadata": {
        "colab": {
          "base_uri": "https://localhost:8080/"
        },
        "id": "CGQoSBsM0TAO",
        "outputId": "dafca270-37ad-44b4-ec1e-cbec27cbe777"
      },
      "execution_count": null,
      "outputs": [
        {
          "output_type": "execute_result",
          "data": {
            "text/plain": [
              "array(['100', '200', '300', '100', '400', '500'], dtype='<U3')"
            ]
          },
          "metadata": {},
          "execution_count": 294
        }
      ]
    },
    {
      "cell_type": "code",
      "source": [
        "sorted(ss)\n"
      ],
      "metadata": {
        "id": "BsyzlnVW2lxB"
      },
      "execution_count": null,
      "outputs": []
    },
    {
      "cell_type": "code",
      "source": [
        "g = list(ss)"
      ],
      "metadata": {
        "id": "NA96PwMx3M9g"
      },
      "execution_count": null,
      "outputs": []
    },
    {
      "cell_type": "code",
      "source": [
        "g"
      ],
      "metadata": {
        "colab": {
          "base_uri": "https://localhost:8080/"
        },
        "id": "JlUVGojn3PtN",
        "outputId": "d1379ee0-d871-4dc9-a396-ab9611a0e3d8"
      },
      "execution_count": null,
      "outputs": [
        {
          "output_type": "execute_result",
          "data": {
            "text/plain": [
              "['100', '200', '300', '100', '400', '500']"
            ]
          },
          "metadata": {},
          "execution_count": 305
        }
      ]
    },
    {
      "cell_type": "code",
      "source": [
        "a = [1.2, 2.5, 3.7, 4.6]"
      ],
      "metadata": {
        "id": "HBVHIqXt3rcj"
      },
      "execution_count": null,
      "outputs": []
    },
    {
      "cell_type": "code",
      "source": [
        "del map"
      ],
      "metadata": {
        "id": "PLwwMvhf3zrL"
      },
      "execution_count": null,
      "outputs": []
    },
    {
      "cell_type": "code",
      "source": [
        "a = [1.2, 2.5, 3.7, 4.6]\n",
        "a = list(map(int, a))"
      ],
      "metadata": {
        "id": "qgySQdC63lOB"
      },
      "execution_count": null,
      "outputs": []
    },
    {
      "cell_type": "code",
      "source": [
        "map(int, g)"
      ],
      "metadata": {
        "colab": {
          "base_uri": "https://localhost:8080/",
          "height": 166
        },
        "id": "7sG-z4s93Ali",
        "outputId": "e928113e-3570-4d58-ccec-9a6640061b58"
      },
      "execution_count": null,
      "outputs": [
        {
          "output_type": "error",
          "ename": "TypeError",
          "evalue": "ignored",
          "traceback": [
            "\u001b[0;31m---------------------------------------------------------------------------\u001b[0m",
            "\u001b[0;31mTypeError\u001b[0m                                 Traceback (most recent call last)",
            "\u001b[0;32m<ipython-input-309-50a62e08c441>\u001b[0m in \u001b[0;36m<module>\u001b[0;34m()\u001b[0m\n\u001b[0;32m----> 1\u001b[0;31m \u001b[0mlist\u001b[0m\u001b[0;34m(\u001b[0m\u001b[0mmap\u001b[0m\u001b[0;34m(\u001b[0m\u001b[0mint\u001b[0m\u001b[0;34m,\u001b[0m \u001b[0mg\u001b[0m\u001b[0;34m)\u001b[0m\u001b[0;34m)\u001b[0m\u001b[0;34m\u001b[0m\u001b[0;34m\u001b[0m\u001b[0m\n\u001b[0m",
            "\u001b[0;31mTypeError\u001b[0m: 'list' object is not callable"
          ]
        }
      ]
    },
    {
      "cell_type": "code",
      "source": [
        "value =np.array(list(map(int, list(ss))))"
      ],
      "metadata": {
        "id": "kgsZz_bX35bD"
      },
      "execution_count": null,
      "outputs": []
    },
    {
      "cell_type": "code",
      "source": [
        "value"
      ],
      "metadata": {
        "colab": {
          "base_uri": "https://localhost:8080/"
        },
        "id": "oBT0FsUW6qFM",
        "outputId": "66cad4cc-b44e-4424-e6bf-7a5c5b9c28fb"
      },
      "execution_count": null,
      "outputs": [
        {
          "output_type": "execute_result",
          "data": {
            "text/plain": [
              "array([100, 200, 300, 100, 400, 500])"
            ]
          },
          "metadata": {},
          "execution_count": 325
        }
      ]
    },
    {
      "cell_type": "code",
      "source": [
        "np.median(value )"
      ],
      "metadata": {
        "colab": {
          "base_uri": "https://localhost:8080/"
        },
        "id": "WivgLV6r14-j",
        "outputId": "40dbae77-541d-4cfc-bf2e-b2c62abf75a9"
      },
      "execution_count": null,
      "outputs": [
        {
          "output_type": "execute_result",
          "data": {
            "text/plain": [
              "250.0"
            ]
          },
          "metadata": {},
          "execution_count": 326
        }
      ]
    },
    {
      "cell_type": "code",
      "source": [
        ""
      ],
      "metadata": {
        "colab": {
          "base_uri": "https://localhost:8080/",
          "height": 35
        },
        "id": "ET65m5nAzF6b",
        "outputId": "50e22da1-45ef-46a9-fed7-4c11d1550216"
      },
      "execution_count": null,
      "outputs": [
        {
          "output_type": "execute_result",
          "data": {
            "application/vnd.google.colaboratory.intrinsic+json": {
              "type": "string"
            },
            "text/plain": [
              "'600'"
            ]
          },
          "metadata": {},
          "execution_count": 258
        }
      ]
    },
    {
      "cell_type": "code",
      "source": [
        "import numpy as np"
      ],
      "metadata": {
        "id": "ErXobz9_zIQj"
      },
      "execution_count": null,
      "outputs": []
    },
    {
      "cell_type": "code",
      "source": [
        "np.median(np.array([]))"
      ],
      "metadata": {
        "colab": {
          "base_uri": "https://localhost:8080/"
        },
        "id": "W0nLx_U-zx-7",
        "outputId": "189f3286-0da9-4051-c71f-58d14d1dad45"
      },
      "execution_count": null,
      "outputs": [
        {
          "output_type": "stream",
          "name": "stderr",
          "text": [
            "/usr/local/lib/python3.7/dist-packages/numpy/core/fromnumeric.py:3441: RuntimeWarning: Mean of empty slice.\n",
            "  out=out, **kwargs)\n",
            "/usr/local/lib/python3.7/dist-packages/numpy/core/_methods.py:189: RuntimeWarning: invalid value encountered in double_scalars\n",
            "  ret = ret.dtype.type(ret / rcount)\n"
          ]
        },
        {
          "output_type": "execute_result",
          "data": {
            "text/plain": [
              "nan"
            ]
          },
          "metadata": {},
          "execution_count": 322
        }
      ]
    },
    {
      "cell_type": "code",
      "source": [
        "s =[12050 ,12050 ,12050 ,12050 ,12050 ,12050, 12050, 12050, 12050, 12050,\n",
        " 12050, 12050, 12050, 12650, 12820, 12820, 12820, 12200, 12200, 12200,\n",
        " 12200, 12200, 12200, 12200, 12200, 12200, 12200, 12200, 12200, 12200]"
      ],
      "metadata": {
        "id": "KL1uArAo5OS9"
      },
      "execution_count": null,
      "outputs": []
    },
    {
      "cell_type": "code",
      "source": [
        "np.median(np.array(s))"
      ],
      "metadata": {
        "colab": {
          "base_uri": "https://localhost:8080/"
        },
        "id": "fOipsbaT-jW6",
        "outputId": "8ce54cc4-ae48-4f79-ad5e-3602faf7b14c"
      },
      "execution_count": null,
      "outputs": [
        {
          "output_type": "execute_result",
          "data": {
            "text/plain": [
              "12200.0"
            ]
          },
          "metadata": {},
          "execution_count": 331
        }
      ]
    },
    {
      "cell_type": "code",
      "source": [
        "np.median(np.array([])) / 30"
      ],
      "metadata": {
        "colab": {
          "base_uri": "https://localhost:8080/"
        },
        "id": "48AOLWye_Au6",
        "outputId": "74584684-e4ed-4de4-f647-335002c4a5fd"
      },
      "execution_count": null,
      "outputs": [
        {
          "output_type": "stream",
          "name": "stderr",
          "text": [
            "/usr/local/lib/python3.7/dist-packages/numpy/core/fromnumeric.py:3441: RuntimeWarning: Mean of empty slice.\n",
            "  out=out, **kwargs)\n",
            "/usr/local/lib/python3.7/dist-packages/numpy/core/_methods.py:189: RuntimeWarning: invalid value encountered in double_scalars\n",
            "  ret = ret.dtype.type(ret / rcount)\n"
          ]
        },
        {
          "output_type": "execute_result",
          "data": {
            "text/plain": [
              "nan"
            ]
          },
          "metadata": {},
          "execution_count": 333
        }
      ]
    },
    {
      "cell_type": "code",
      "source": [
        ""
      ],
      "metadata": {
        "id": "j2Eg9i4WAsOx"
      },
      "execution_count": null,
      "outputs": []
    }
  ]
}