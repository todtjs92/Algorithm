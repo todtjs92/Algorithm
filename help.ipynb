{
  "nbformat": 4,
  "nbformat_minor": 0,
  "metadata": {
    "colab": {
      "name": "help.ipynb",
      "provenance": [],
      "collapsed_sections": []
    },
    "kernelspec": {
      "name": "python3",
      "display_name": "Python 3"
    },
    "language_info": {
      "name": "python"
    }
  },
  "cells": [
    {
      "cell_type": "code",
      "execution_count": null,
      "metadata": {
        "id": "CxBEvTXKcYkP"
      },
      "outputs": [],
      "source": [
        "import collections\n",
        "import itertools"
      ]
    },
    {
      "cell_type": "code",
      "source": [
        "test_list = [1,5,4,2,3,6,5,10,12,13]\n",
        "nested_list = [[1,5,4],[2,6,9],[3,1,3]]"
      ],
      "metadata": {
        "id": "bINcW4dkddi_"
      },
      "execution_count": null,
      "outputs": []
    },
    {
      "cell_type": "code",
      "source": [
        "# 리스트 거꾸로\n",
        "print(test_list[:-1])\n",
        "print(test_list[::-1])\n",
        "print(test_list[-1])"
      ],
      "metadata": {
        "colab": {
          "base_uri": "https://localhost:8080/"
        },
        "id": "xqDC6ZfzhLJe",
        "outputId": "685fe5e4-287c-42ee-c500-40a728061c71"
      },
      "execution_count": null,
      "outputs": [
        {
          "output_type": "stream",
          "name": "stdout",
          "text": [
            "[1, 5, 4, 2, 3, 6, 5, 10, 12]\n",
            "[13, 12, 10, 5, 6, 3, 2, 4, 5, 1]\n",
            "13\n"
          ]
        }
      ]
    },
    {
      "cell_type": "code",
      "source": [
        "# 리스트 [::2] 2칸씩 세기 , 3칸씩 세기"
      ],
      "metadata": {
        "id": "UVjE9AWLgSiq"
      },
      "execution_count": null,
      "outputs": []
    },
    {
      "cell_type": "code",
      "source": [
        "print(test_list[::2])\n",
        "print(test_list[::3])"
      ],
      "metadata": {
        "colab": {
          "base_uri": "https://localhost:8080/"
        },
        "id": "FngAIt8OgVBl",
        "outputId": "c6b4dfbc-1128-43b0-bd49-dfe5b88dd109"
      },
      "execution_count": null,
      "outputs": [
        {
          "output_type": "stream",
          "name": "stdout",
          "text": [
            "[1, 4, 3, 5, 12]\n",
            "[1, 2, 5, 13]\n"
          ]
        }
      ]
    },
    {
      "cell_type": "code",
      "source": [
        "# pop"
      ],
      "metadata": {
        "id": "nr5X1ILEsGmq"
      },
      "execution_count": null,
      "outputs": []
    },
    {
      "cell_type": "code",
      "source": [
        "a=[1,5,4]"
      ],
      "metadata": {
        "id": "MulAQSigsHsW"
      },
      "execution_count": null,
      "outputs": []
    },
    {
      "cell_type": "code",
      "source": [
        "# 튀어나온게 담기게 된당"
      ],
      "metadata": {
        "id": "U6TfZTL1sUs_"
      },
      "execution_count": null,
      "outputs": []
    },
    {
      "cell_type": "code",
      "source": [
        "pops = a.pop()\n",
        "print(pops)\n",
        "print(a)"
      ],
      "metadata": {
        "colab": {
          "base_uri": "https://localhost:8080/"
        },
        "id": "6dkUqzdzsJhi",
        "outputId": "9408ca15-5419-4f5f-fb85-583160993569"
      },
      "execution_count": null,
      "outputs": [
        {
          "output_type": "stream",
          "name": "stdout",
          "text": [
            "4\n",
            "[1, 5]\n"
          ]
        }
      ]
    },
    {
      "cell_type": "code",
      "source": [
        "# list 합치기"
      ],
      "metadata": {
        "id": "G8b6vAMmhcpV"
      },
      "execution_count": null,
      "outputs": []
    },
    {
      "cell_type": "code",
      "source": [
        "a"
      ],
      "metadata": {
        "colab": {
          "base_uri": "https://localhost:8080/"
        },
        "id": "5cEF1-LssMqC",
        "outputId": "6923e5cc-00a4-4ee8-96ce-cf297ddb5494"
      },
      "execution_count": null,
      "outputs": [
        {
          "output_type": "execute_result",
          "data": {
            "text/plain": [
              "[1, 5]"
            ]
          },
          "metadata": {},
          "execution_count": 9
        }
      ]
    },
    {
      "cell_type": "code",
      "source": [
        "nested_list"
      ],
      "metadata": {
        "colab": {
          "base_uri": "https://localhost:8080/"
        },
        "id": "wsigWHchsklw",
        "outputId": "4e13d424-c86c-4ed3-fc97-b944669ae89e"
      },
      "execution_count": null,
      "outputs": [
        {
          "output_type": "execute_result",
          "data": {
            "text/plain": [
              "[[1, 5, 4], [2, 6, 9], [3, 1, 3]]"
            ]
          },
          "metadata": {},
          "execution_count": 10
        }
      ]
    },
    {
      "cell_type": "code",
      "source": [
        "sum(nested_list,[])"
      ],
      "metadata": {
        "colab": {
          "base_uri": "https://localhost:8080/"
        },
        "id": "3wtJrAZFdfwO",
        "outputId": "8aa42108-d768-460e-a38e-7d0de1246727"
      },
      "execution_count": null,
      "outputs": [
        {
          "output_type": "execute_result",
          "data": {
            "text/plain": [
              "[1, 5, 4, 2, 6, 9, 3, 1, 3]"
            ]
          },
          "metadata": {},
          "execution_count": 11
        }
      ]
    },
    {
      "cell_type": "code",
      "source": [
        "# tuple에도 적용이 된당"
      ],
      "metadata": {
        "id": "3tK3D25Sdrlx"
      },
      "execution_count": null,
      "outputs": []
    },
    {
      "cell_type": "code",
      "source": [
        "nested_tuple = [(1,5,3),(2,4,6)]\n",
        "nested_tuple1 = ((1,5,3),(2,4,6))"
      ],
      "metadata": {
        "id": "h99_Jfi9dzfA"
      },
      "execution_count": null,
      "outputs": []
    },
    {
      "cell_type": "code",
      "source": [
        "# list에도 적용이 된당"
      ],
      "metadata": {
        "id": "3HmvuA6ad_q5"
      },
      "execution_count": null,
      "outputs": []
    },
    {
      "cell_type": "code",
      "source": [
        "sum(nested_tuple , ())"
      ],
      "metadata": {
        "colab": {
          "base_uri": "https://localhost:8080/"
        },
        "id": "K-oe9pGBduiZ",
        "outputId": "344ab47d-bea3-4b62-8b75-d376222cba65"
      },
      "execution_count": null,
      "outputs": [
        {
          "output_type": "execute_result",
          "data": {
            "text/plain": [
              "(1, 5, 3, 2, 4, 6)"
            ]
          },
          "metadata": {},
          "execution_count": 15
        }
      ]
    },
    {
      "cell_type": "code",
      "source": [
        "sum(nested_tuple1 , ())"
      ],
      "metadata": {
        "colab": {
          "base_uri": "https://localhost:8080/"
        },
        "id": "JCyjGuNdd3dv",
        "outputId": "286aa852-93c9-4b8d-8f5a-1b72f003d1b2"
      },
      "execution_count": null,
      "outputs": [
        {
          "output_type": "execute_result",
          "data": {
            "text/plain": [
              "(1, 5, 3, 2, 4, 6)"
            ]
          },
          "metadata": {},
          "execution_count": 16
        }
      ]
    },
    {
      "cell_type": "code",
      "source": [
        "# 리스트 합치기 , + 나 extend 둘 중 아무거나 쓰면 됨"
      ],
      "metadata": {
        "id": "z6Qm2vyTtJ2j"
      },
      "execution_count": null,
      "outputs": []
    },
    {
      "cell_type": "code",
      "source": [
        "a= [1,3]\n",
        "b=[[4,5]]\n",
        "print(a+b)\n",
        "a.extend(b)\n",
        "print(a)"
      ],
      "metadata": {
        "colab": {
          "base_uri": "https://localhost:8080/"
        },
        "id": "gWHsodf9tL_3",
        "outputId": "5cced221-935c-47b7-8e77-9c47ae10b20a"
      },
      "execution_count": null,
      "outputs": [
        {
          "output_type": "stream",
          "name": "stdout",
          "text": [
            "[1, 3, [4, 5]]\n",
            "[1, 3, [4, 5]]\n"
          ]
        }
      ]
    },
    {
      "cell_type": "code",
      "source": [
        "# while , for"
      ],
      "metadata": {
        "id": "dqTeb15hd-ns"
      },
      "execution_count": null,
      "outputs": []
    },
    {
      "cell_type": "code",
      "source": [
        "a=0\n",
        "while a <=3:\n",
        "  for i in range(a):\n",
        "    print(i)\n",
        "  a+=1"
      ],
      "metadata": {
        "colab": {
          "base_uri": "https://localhost:8080/"
        },
        "id": "ITHlzvFEeHEl",
        "outputId": "68f960a6-1688-4963-f900-5ff43ed589d0"
      },
      "execution_count": null,
      "outputs": [
        {
          "output_type": "stream",
          "name": "stdout",
          "text": [
            "0\n",
            "0\n",
            "1\n",
            "0\n",
            "1\n",
            "2\n"
          ]
        }
      ]
    },
    {
      "cell_type": "code",
      "source": [
        "# index 함수"
      ],
      "metadata": {
        "id": "ZJGcFL_peN47"
      },
      "execution_count": null,
      "outputs": []
    },
    {
      "cell_type": "code",
      "source": [
        "nested_list = [[1,5,4],[2,6,9],[3,1,3]]"
      ],
      "metadata": {
        "id": "UOxfgoLFe7mn"
      },
      "execution_count": null,
      "outputs": []
    },
    {
      "cell_type": "code",
      "source": [
        "# 리스트도 찾아진다. 없으면 근데 오류가 남"
      ],
      "metadata": {
        "id": "ocdEAw6dfAoH"
      },
      "execution_count": null,
      "outputs": []
    },
    {
      "cell_type": "code",
      "source": [
        "nested_list.index([1,5,4])"
      ],
      "metadata": {
        "colab": {
          "base_uri": "https://localhost:8080/"
        },
        "id": "oq0KCyaGezTZ",
        "outputId": "e00f0395-f316-412d-dac1-1539fd3131fb"
      },
      "execution_count": null,
      "outputs": [
        {
          "output_type": "execute_result",
          "data": {
            "text/plain": [
              "0"
            ]
          },
          "metadata": {},
          "execution_count": 24
        }
      ]
    },
    {
      "cell_type": "code",
      "source": [
        "test_list = [1,5,4,9,7]"
      ],
      "metadata": {
        "id": "fZTLu7lffO4b"
      },
      "execution_count": null,
      "outputs": []
    },
    {
      "cell_type": "code",
      "source": [
        "# 2번쨰, 3번째에 start , stop 위치 넣을수 있음 , 근데 찾았을 경우 무조건 원래의 위치 기준으로 셈"
      ],
      "metadata": {
        "id": "tPMxAcY1f8bc"
      },
      "execution_count": null,
      "outputs": []
    },
    {
      "cell_type": "code",
      "source": [
        "a = [11,10,12,13,20,31,11,10,10,11]\n",
        "print(a.index(10,2,9))    # index(value, start, end)"
      ],
      "metadata": {
        "colab": {
          "base_uri": "https://localhost:8080/"
        },
        "id": "QIm2qY7Pe3hJ",
        "outputId": "1840dc11-084d-48c6-f191-e5f75e22ceca"
      },
      "execution_count": null,
      "outputs": [
        {
          "output_type": "stream",
          "name": "stdout",
          "text": [
            "7\n"
          ]
        }
      ]
    },
    {
      "cell_type": "code",
      "source": [
        "# 심지어 문자열에도 가능하다"
      ],
      "metadata": {
        "id": "eANvYhePfVDx"
      },
      "execution_count": null,
      "outputs": []
    },
    {
      "cell_type": "code",
      "source": [
        "a='15234325'\n",
        "a.index('4')"
      ],
      "metadata": {
        "colab": {
          "base_uri": "https://localhost:8080/"
        },
        "id": "3cz8W40_gfRC",
        "outputId": "5582f855-2606-4251-a6ec-e6821ede8a58"
      },
      "execution_count": null,
      "outputs": [
        {
          "output_type": "execute_result",
          "data": {
            "text/plain": [
              "4"
            ]
          },
          "metadata": {},
          "execution_count": 29
        }
      ]
    },
    {
      "cell_type": "code",
      "source": [
        "# find는 문자열에만 사용 대신 오류가 안나고 -1 로 출력되는게 개꿀이다옹"
      ],
      "metadata": {
        "id": "1x8s05-aiqMQ"
      },
      "execution_count": null,
      "outputs": []
    },
    {
      "cell_type": "code",
      "source": [
        "a.find('5')"
      ],
      "metadata": {
        "colab": {
          "base_uri": "https://localhost:8080/"
        },
        "id": "BrxxjIBigiCi",
        "outputId": "7eb53f8d-68d0-4d55-85a9-ce661bcd4963"
      },
      "execution_count": null,
      "outputs": [
        {
          "output_type": "execute_result",
          "data": {
            "text/plain": [
              "1"
            ]
          },
          "metadata": {},
          "execution_count": 31
        }
      ]
    },
    {
      "cell_type": "code",
      "source": [
        "# enumerate"
      ],
      "metadata": {
        "id": "rcga3ok6j2me"
      },
      "execution_count": null,
      "outputs": []
    },
    {
      "cell_type": "code",
      "source": [
        "for a,b in enumerate(range(1,10,2)):\n",
        "  print(a,b)"
      ],
      "metadata": {
        "colab": {
          "base_uri": "https://localhost:8080/"
        },
        "id": "1CtnuuKAhkJB",
        "outputId": "bf2dba6d-f8d7-4e1c-ba41-f1f0bab9cddd"
      },
      "execution_count": null,
      "outputs": [
        {
          "output_type": "stream",
          "name": "stdout",
          "text": [
            "0 1\n",
            "1 3\n",
            "2 5\n",
            "3 7\n",
            "4 9\n"
          ]
        }
      ]
    },
    {
      "cell_type": "code",
      "source": [
        "# zip"
      ],
      "metadata": {
        "id": "u1gUW-Frj1eX"
      },
      "execution_count": null,
      "outputs": []
    },
    {
      "cell_type": "code",
      "source": [
        "a= [1,5,4,6]\n",
        "b= [7,9,10,11]\n",
        "for c,d in zip(a,b):\n",
        "  print(c,d)"
      ],
      "metadata": {
        "colab": {
          "base_uri": "https://localhost:8080/"
        },
        "id": "AMA-Bl4NkFRV",
        "outputId": "a0755064-8444-4e17-8e8c-3ce8849dbc63"
      },
      "execution_count": null,
      "outputs": [
        {
          "output_type": "stream",
          "name": "stdout",
          "text": [
            "1 7\n",
            "5 9\n",
            "4 10\n",
            "6 11\n"
          ]
        }
      ]
    },
    {
      "cell_type": "code",
      "source": [
        "# 리스트도 가능하다옹"
      ],
      "metadata": {
        "id": "6kVonMOfkg0Z"
      },
      "execution_count": null,
      "outputs": []
    },
    {
      "cell_type": "code",
      "source": [
        "a=[[1,5,4],[2,4,6],[3,8,9],[11,13,15]]\n",
        "b = [[24,22,20],[10,15,18], [12,19,21],[22,34,50]]"
      ],
      "metadata": {
        "id": "qkLmF-DZkaCn"
      },
      "execution_count": null,
      "outputs": []
    },
    {
      "cell_type": "code",
      "source": [
        "for c,d in zip(a,b):\n",
        "  print(c,d)"
      ],
      "metadata": {
        "colab": {
          "base_uri": "https://localhost:8080/"
        },
        "id": "GPpttuwpl9Cx",
        "outputId": "67312f4d-b8f6-417f-8e97-efdfc2c37796"
      },
      "execution_count": null,
      "outputs": [
        {
          "output_type": "stream",
          "name": "stdout",
          "text": [
            "[1, 5, 4] [24, 22, 20]\n",
            "[2, 4, 6] [10, 15, 18]\n",
            "[3, 8, 9] [12, 19, 21]\n",
            "[11, 13, 15] [22, 34, 50]\n"
          ]
        }
      ]
    },
    {
      "cell_type": "code",
      "source": [
        "# 백준 인풋용"
      ],
      "metadata": {
        "id": "1_fySy_smAef"
      },
      "execution_count": null,
      "outputs": []
    },
    {
      "cell_type": "code",
      "source": [
        "list(map(int,input().split(' ')))"
      ],
      "metadata": {
        "colab": {
          "base_uri": "https://localhost:8080/"
        },
        "id": "l0YmHKZym5xM",
        "outputId": "0f930542-1696-4acd-b21d-91665ca97a2c"
      },
      "execution_count": null,
      "outputs": [
        {
          "name": "stdout",
          "output_type": "stream",
          "text": [
            "4 5\n"
          ]
        },
        {
          "output_type": "execute_result",
          "data": {
            "text/plain": [
              "[4, 5]"
            ]
          },
          "metadata": {},
          "execution_count": 43
        }
      ]
    },
    {
      "cell_type": "code",
      "source": [
        "# 조합 수작업 구현"
      ],
      "metadata": {
        "id": "Q0Y4maxcnyxo"
      },
      "execution_count": null,
      "outputs": []
    },
    {
      "cell_type": "code",
      "source": [
        "length = 5"
      ],
      "metadata": {
        "id": "TAaXiMc2n_fN"
      },
      "execution_count": null,
      "outputs": []
    },
    {
      "cell_type": "code",
      "source": [
        "for i in range(0 , length):\n",
        "  for j in range(i+1 , length):\n",
        "    for k in range(j+1, length):\n",
        "      print(i,j,k)"
      ],
      "metadata": {
        "colab": {
          "base_uri": "https://localhost:8080/"
        },
        "id": "TYljv1yJnFdo",
        "outputId": "b3c7ca29-824c-47ce-eda2-965cd86d9cad"
      },
      "execution_count": null,
      "outputs": [
        {
          "output_type": "stream",
          "name": "stdout",
          "text": [
            "0 1 2\n",
            "0 1 3\n",
            "0 1 4\n",
            "0 2 3\n",
            "0 2 4\n",
            "0 3 4\n",
            "1 2 3\n",
            "1 2 4\n",
            "1 3 4\n",
            "2 3 4\n"
          ]
        }
      ]
    },
    {
      "cell_type": "code",
      "source": [
        "import itertools"
      ],
      "metadata": {
        "id": "KUxpxkbtoMKj"
      },
      "execution_count": null,
      "outputs": []
    },
    {
      "cell_type": "code",
      "source": [
        "a= [1,2,3,4]"
      ],
      "metadata": {
        "id": "1r9Eo9qYob8h"
      },
      "execution_count": null,
      "outputs": []
    },
    {
      "cell_type": "code",
      "source": [
        "list(itertools.combinations(a,2))"
      ],
      "metadata": {
        "colab": {
          "base_uri": "https://localhost:8080/"
        },
        "id": "BSJKH0PKoYyb",
        "outputId": "12c01818-ad63-47d2-df95-1275f1d84611"
      },
      "execution_count": null,
      "outputs": [
        {
          "output_type": "execute_result",
          "data": {
            "text/plain": [
              "[(1, 2), (1, 3), (1, 4), (2, 3), (2, 4), (3, 4)]"
            ]
          },
          "metadata": {},
          "execution_count": 49
        }
      ]
    },
    {
      "cell_type": "code",
      "source": [
        ""
      ],
      "metadata": {
        "id": "XR68RlMfw12X"
      },
      "execution_count": null,
      "outputs": []
    },
    {
      "cell_type": "code",
      "source": [
        "# BFS"
      ],
      "metadata": {
        "id": "4-w6QmlZonKQ"
      },
      "execution_count": null,
      "outputs": []
    },
    {
      "cell_type": "code",
      "source": [
        "graph = collections.defaultdict(list)"
      ],
      "metadata": {
        "id": "1VnPJ1aTupN4"
      },
      "execution_count": null,
      "outputs": []
    },
    {
      "cell_type": "code",
      "source": [
        "graph['A'] = ['B','C']\n",
        "graph['B'] = ['A','D']\n",
        "graph['C'] = ['A','G','H','I']\n",
        "graph['D'] = ['B','E','F']\n",
        "graph['E'] = ['D']\n",
        "graph['F'] = [ 'D']\n",
        "graph ['G'] = ['C']\n",
        "graph ['H'] = ['C']\n",
        "graph['I'] = ['C','J']\n",
        "graph['J'] = ['I']"
      ],
      "metadata": {
        "id": "R21n5A5Xu7TI"
      },
      "execution_count": null,
      "outputs": []
    },
    {
      "cell_type": "code",
      "source": [
        "graph"
      ],
      "metadata": {
        "colab": {
          "base_uri": "https://localhost:8080/"
        },
        "id": "OKsjrv5suv5h",
        "outputId": "34ec9c2a-8281-417b-943c-5b8a7a1a643c"
      },
      "execution_count": null,
      "outputs": [
        {
          "output_type": "execute_result",
          "data": {
            "text/plain": [
              "defaultdict(list,\n",
              "            {'A': ['B', 'C'],\n",
              "             'B': ['A', 'D'],\n",
              "             'C': ['A', 'G', 'H', 'I'],\n",
              "             'D': ['B', 'E', 'F'],\n",
              "             'E': ['D'],\n",
              "             'F': ['D'],\n",
              "             'G': ['C'],\n",
              "             'H': ['C'],\n",
              "             'I': ['C', 'J'],\n",
              "             'J': ['I']})"
            ]
          },
          "metadata": {},
          "execution_count": 53
        }
      ]
    },
    {
      "cell_type": "code",
      "source": [
        "def BFS(graph,start_node):\n",
        "  visited=list() # 방문할 노드\n",
        "  need_visit = list() # 갈 노드\n",
        "  \n",
        "  need_visit.append(start_node) # 시작 노드 넣어주고\n",
        "  while need_visit: # need_visit이 빈칸 될동안.\n",
        "    node = need_visit.pop(0)\n",
        "    \n",
        "    if node not in visited:\n",
        "      visited.append(node)\n",
        "      need_visit+=graph[node]\n",
        "    \n",
        "  return visited\n",
        "\n"
      ],
      "metadata": {
        "id": "Kt7z0VbDu47y"
      },
      "execution_count": null,
      "outputs": []
    },
    {
      "cell_type": "code",
      "source": [
        "BFS(graph,'J')"
      ],
      "metadata": {
        "colab": {
          "base_uri": "https://localhost:8080/"
        },
        "id": "VzS2mMMoxZCW",
        "outputId": "0c5c0138-107c-494e-8055-e903d5112a84"
      },
      "execution_count": null,
      "outputs": [
        {
          "output_type": "execute_result",
          "data": {
            "text/plain": [
              "['J', 'I', 'C', 'A', 'G', 'H', 'B', 'D', 'E', 'F']"
            ]
          },
          "metadata": {},
          "execution_count": 55
        }
      ]
    },
    {
      "cell_type": "code",
      "source": [
        "def DFS(graph,start_node):\n",
        "  visited = list()\n",
        "  need_visit  = list()\n",
        "  need_visit.append(start_node)\n",
        "  while need_visit:\n",
        "    node = need_visit.pop() # BFS 랑 딲 이차이임 마지막이냐 처음이냐\n",
        "    if node not in visited:\n",
        "      visited.append(node)\n",
        "      need_visit.extend(graph[node])\n",
        "  return visited"
      ],
      "metadata": {
        "id": "eom8hY3AxeaN"
      },
      "execution_count": null,
      "outputs": []
    },
    {
      "cell_type": "code",
      "source": [
        "# default dict 사용법"
      ],
      "metadata": {
        "id": "PewaMkxQw3Gq"
      },
      "execution_count": null,
      "outputs": []
    },
    {
      "cell_type": "code",
      "source": [
        "a= collections.defaultdict(dict)\n",
        "b= collections.defaultdict(list)\n",
        "c= collections.defaultdict(int)"
      ],
      "metadata": {
        "id": "wIskYmKDw5N6"
      },
      "execution_count": null,
      "outputs": []
    },
    {
      "cell_type": "code",
      "source": [
        "# default dict 왜쓰나요? 이런게 가능하다 코테풀때 깨꿀"
      ],
      "metadata": {
        "id": "TExFkmGXxW3O"
      },
      "execution_count": null,
      "outputs": []
    },
    {
      "cell_type": "code",
      "source": [
        "a['b']\n",
        "a"
      ],
      "metadata": {
        "colab": {
          "base_uri": "https://localhost:8080/"
        },
        "id": "xJCBlFpqw9Y2",
        "outputId": "c1c7939d-1a64-4e7f-815d-0cf451931312"
      },
      "execution_count": null,
      "outputs": [
        {
          "output_type": "execute_result",
          "data": {
            "text/plain": [
              "defaultdict(dict, {'b': {}})"
            ]
          },
          "metadata": {},
          "execution_count": 76
        }
      ]
    },
    {
      "cell_type": "code",
      "source": [
        "# 사전에 추가하는법 , 중복이 발새애혿 오류가 안생겨서 좋네"
      ],
      "metadata": {
        "id": "uYyzpx5Axuq0"
      },
      "execution_count": null,
      "outputs": []
    },
    {
      "cell_type": "code",
      "source": [
        "key = 'key'\n",
        "value = 'value'\n",
        "value1 = 'value1'"
      ],
      "metadata": {
        "id": "bx5ad-1Mxxzb"
      },
      "execution_count": null,
      "outputs": []
    },
    {
      "cell_type": "code",
      "source": [
        "# 저런식으로 되있으면 추가못함 게다가 "
      ],
      "metadata": {
        "id": "mhnWm-CYyo4K"
      },
      "execution_count": null,
      "outputs": []
    },
    {
      "cell_type": "code",
      "source": [
        "test_dict[key] = value\n",
        "test_dict[key] = value1\n",
        "test_dict"
      ],
      "metadata": {
        "colab": {
          "base_uri": "https://localhost:8080/"
        },
        "id": "8mUwnpZEx7xs",
        "outputId": "ce0c3cd2-404f-49fc-bd69-a7f014c3d0ee"
      },
      "execution_count": null,
      "outputs": [
        {
          "output_type": "execute_result",
          "data": {
            "text/plain": [
              "{'key': 'value1'}"
            ]
          },
          "metadata": {},
          "execution_count": 85
        }
      ]
    },
    {
      "cell_type": "code",
      "source": [
        "# 그래서 defaultdict를 써주면. 요렇게 append 가 먹힌다. "
      ],
      "metadata": {
        "id": "xhGzwgDOyFZk"
      },
      "execution_count": null,
      "outputs": []
    },
    {
      "cell_type": "code",
      "source": [
        "default_dict = collections.defaultdict(list)"
      ],
      "metadata": {
        "id": "1sVVgu1pytLK"
      },
      "execution_count": null,
      "outputs": []
    },
    {
      "cell_type": "code",
      "source": [
        "default_dict['key'].append('a')\n"
      ],
      "metadata": {
        "id": "wG_Ixhxy0J5I"
      },
      "execution_count": null,
      "outputs": []
    },
    {
      "cell_type": "code",
      "source": [
        "default_dict"
      ],
      "metadata": {
        "colab": {
          "base_uri": "https://localhost:8080/"
        },
        "id": "3ROZpZi40Ma2",
        "outputId": "0741eaee-4a90-45d8-c9cf-38f1d8a4fc8f"
      },
      "execution_count": null,
      "outputs": [
        {
          "output_type": "execute_result",
          "data": {
            "text/plain": [
              "defaultdict(list, {'key': ['a', 'a']})"
            ]
          },
          "metadata": {},
          "execution_count": 103
        }
      ]
    },
    {
      "cell_type": "code",
      "source": [
        "# heapq 사용법 리스트를 힙처럼 사용할수 있게 해주는거임!!"
      ],
      "metadata": {
        "id": "eT0nS-Fmwy-h"
      },
      "execution_count": null,
      "outputs": []
    },
    {
      "cell_type": "code",
      "source": [
        "import heapq"
      ],
      "metadata": {
        "id": "P4yW6R1o1trG"
      },
      "execution_count": null,
      "outputs": []
    },
    {
      "cell_type": "code",
      "source": [
        "queue = []"
      ],
      "metadata": {
        "id": "SdLJSf2S1vX1"
      },
      "execution_count": null,
      "outputs": []
    },
    {
      "cell_type": "code",
      "source": [
        "heapq.heappush(queue,[2,'A'])\n",
        "heapq.heappush(queue,[4,'B'])\n",
        "heapq.heappush(queue,[1,'C'])\n",
        "heapq.heappush(queue,[6,'D'])"
      ],
      "metadata": {
        "id": "IslHa2Ay10On"
      },
      "execution_count": null,
      "outputs": []
    },
    {
      "cell_type": "code",
      "source": [
        "# 요렇게 트리형태로"
      ],
      "metadata": {
        "id": "J37sFIh55DhS"
      },
      "execution_count": null,
      "outputs": []
    },
    {
      "cell_type": "code",
      "source": [
        "queue"
      ],
      "metadata": {
        "colab": {
          "base_uri": "https://localhost:8080/"
        },
        "id": "8IK7oGxa13Bl",
        "outputId": "5c185f48-8505-4a92-b0c0-8dfc0fef1500"
      },
      "execution_count": null,
      "outputs": [
        {
          "output_type": "execute_result",
          "data": {
            "text/plain": [
              "[[1, 'C'], [4, 'B'], [2, 'A'], [6, 'D']]"
            ]
          },
          "metadata": {},
          "execution_count": 113
        }
      ]
    },
    {
      "cell_type": "code",
      "source": [
        "# heap pop을 하면 다시 트리가 재정렬된다옹"
      ],
      "metadata": {
        "id": "LiH9yGSs5OJD"
      },
      "execution_count": null,
      "outputs": []
    },
    {
      "cell_type": "code",
      "source": [
        "heapq.heappop(queue)\n",
        "queue"
      ],
      "metadata": {
        "colab": {
          "base_uri": "https://localhost:8080/"
        },
        "id": "TqKOx1uV5GRL",
        "outputId": "106907d6-473d-4fd3-ba05-dc1dec6672be"
      },
      "execution_count": null,
      "outputs": [
        {
          "output_type": "execute_result",
          "data": {
            "text/plain": [
              "[[2, 'A'], [4, 'B'], [6, 'D']]"
            ]
          },
          "metadata": {},
          "execution_count": 115
        }
      ]
    },
    {
      "cell_type": "code",
      "source": [
        "# 이런식으로 항상 최소값을 얻을 수 있는게 장점이라고 한다."
      ],
      "metadata": {
        "id": "PXvLqVxs5nPg"
      },
      "execution_count": null,
      "outputs": []
    },
    {
      "cell_type": "code",
      "source": [
        "queue[0]"
      ],
      "metadata": {
        "colab": {
          "base_uri": "https://localhost:8080/"
        },
        "id": "fv7InWgy5l-e",
        "outputId": "af9ab12d-9292-4a48-c882-3dea2423d42e"
      },
      "execution_count": null,
      "outputs": [
        {
          "output_type": "execute_result",
          "data": {
            "text/plain": [
              "[2, 'A']"
            ]
          },
          "metadata": {},
          "execution_count": 117
        }
      ]
    },
    {
      "cell_type": "code",
      "source": [
        "# 다익스트라 알고리즘 , 거리 측정 "
      ],
      "metadata": {
        "id": "CQnW5VM2wt61"
      },
      "execution_count": null,
      "outputs": []
    },
    {
      "cell_type": "code",
      "source": [
        "mygraph = collections.defaultdict(dict)"
      ],
      "metadata": {
        "id": "31C8G3abwvGf"
      },
      "execution_count": null,
      "outputs": []
    },
    {
      "cell_type": "code",
      "source": [
        "mygraph['A'] = {'B':8 , 'C':1 , 'D':2}\n",
        "mygraph['B'] = {}\n",
        "mygraph['C'] = {'B':5 ,'D':2}\n",
        "mygraph['D'] = {'E':3 , 'F':5 }\n",
        "mygraph['E'] = {'F':1 }\n",
        "mygraph['F'] = {'A':5 }"
      ],
      "metadata": {
        "id": "yGUsl7zqWxrk"
      },
      "execution_count": null,
      "outputs": []
    },
    {
      "cell_type": "code",
      "source": [
        "mygraph"
      ],
      "metadata": {
        "id": "lsDQxovFwx0B",
        "colab": {
          "base_uri": "https://localhost:8080/"
        },
        "outputId": "a7892447-83cf-4f4d-fc64-5e12cde0663c"
      },
      "execution_count": null,
      "outputs": [
        {
          "output_type": "execute_result",
          "data": {
            "text/plain": [
              "defaultdict(dict,\n",
              "            {'A': {'B': 8, 'C': 1, 'D': 2},\n",
              "             'B': {},\n",
              "             'C': {'B': 5, 'D': 2},\n",
              "             'D': {'E': 3, 'F': 5},\n",
              "             'E': {'F': 1},\n",
              "             'F': {'A': 5}})"
            ]
          },
          "metadata": {},
          "execution_count": 7
        }
      ]
    },
    {
      "cell_type": "code",
      "source": [
        "def hamsu(graph, start):\n",
        "  distances = {node: float('inf') for node in graph}\n",
        "  distances[start] = 0\n",
        "  queue = []\n",
        "  heapq.heappush(queue, [distances[start],start])\n",
        "\n",
        "  while queue:\n",
        "    current_distance , current_node  = heapq.heappop(queue)\n",
        "\n",
        "    if distances[current_node] < current_distance:\n",
        "      continue\n",
        "    for adjacent , weight in graph[current_node].items():\n",
        "      distance = current_distance + weight\n",
        "\n",
        "      if distance < distances[adjacent]:\n",
        "        distances[adjacent] = distance\n",
        "        heapq.heappush(queue,[distance , adjacent])\n",
        "        \n",
        "    return distances"
      ],
      "metadata": {
        "id": "3mRhhENoXeEI"
      },
      "execution_count": null,
      "outputs": []
    },
    {
      "cell_type": "code",
      "source": [
        "hamsu(mygraph,'A')"
      ],
      "metadata": {
        "colab": {
          "base_uri": "https://localhost:8080/"
        },
        "id": "Wrjb98W1Zghy",
        "outputId": "4c1ab18b-c16b-42a7-f2e4-69e9211c1a19"
      },
      "execution_count": null,
      "outputs": [
        {
          "output_type": "execute_result",
          "data": {
            "text/plain": [
              "{'A': 0, 'B': 8, 'C': 1, 'D': 2, 'E': inf, 'F': inf}"
            ]
          },
          "metadata": {},
          "execution_count": 10
        }
      ]
    },
    {
      "cell_type": "code",
      "source": [
        "# 동서남북 이동하기"
      ],
      "metadata": {
        "id": "rvCilMnHqqNv"
      },
      "execution_count": null,
      "outputs": []
    },
    {
      "cell_type": "code",
      "source": [
        " grid = [[ 0 for a in range(5) ] for x in range(5)]"
      ],
      "metadata": {
        "id": "dXqTzUDjsgR9"
      },
      "execution_count": null,
      "outputs": []
    },
    {
      "cell_type": "code",
      "source": [
        "grid[0][0]=1\n",
        "grid[0][1]=1\n",
        "grid[0][2]=1\n",
        "grid[1][0]=1\n",
        "grid[1][0]=1\n",
        "grid[2][0]=1 \n",
        "grid[2][2] =1\n",
        "grid[4][2]=1\n",
        "print(grid)"
      ],
      "metadata": {
        "id": "uVFpM8LGtp3t"
      },
      "execution_count": null,
      "outputs": []
    },
    {
      "cell_type": "code",
      "source": [
        "def numislands(grid):\n",
        "  def dfs(i,j):\n",
        "    if i < 0 or i >= len(grid) or j < 0 or j >= len(grid[0]) or grid[i][j] != 1:\n",
        "      return\n",
        "    \n",
        "    grid[i][j] = 0 \n",
        "    print(grid)\n",
        "    dfs(i-1 ,  j )\n",
        "    dfs(i+1 , j  )\n",
        "    dfs(i   , j-1)\n",
        "    dfs(i   , j+1)\n",
        "  \n",
        "  count = 0\n",
        "  for i in range(len(grid)):\n",
        "    for j in range(len(grid[0])):\n",
        "      if grid[i][j] ==1:\n",
        "        dfs(i,j)\n",
        "        count+=1\n",
        "  return count"
      ],
      "metadata": {
        "id": "Sl_DZetuq3YE"
      },
      "execution_count": null,
      "outputs": []
    },
    {
      "cell_type": "code",
      "source": [
        " # 나이트 이동"
      ],
      "metadata": {
        "id": "8cb-CiAAH5Qf"
      },
      "execution_count": null,
      "outputs": []
    },
    {
      "cell_type": "code",
      "source": [
        "from collections import deque # 힙큐가 아니라 디큐\n",
        "\n",
        "def solution(n, startRow, startCol, endRow, endCol):\n",
        "    dx = [-1, -2, -2, -1, 1, 2, 2, 1]\n",
        "    dy = [2, 1, -1, -2, -2, -1, 1, 2]\n",
        "    \n",
        "    def bfs(startRow, startCol, endRow, endCol):\n",
        "        q = deque() # deque가 더빠름\n",
        "        q.append([startRow, startCol])\n",
        "        chess[startRow][startCol] = 1\n",
        "        while q:\n",
        "            a, b = q.popleft()\n",
        "            if a == endRow and b == endCol:\n",
        "                return(chess[endRow][endCol] -1)\n",
        "            \n",
        "            for i in range(8):\n",
        "                x = a + dx[i]\n",
        "                y = b + dy[i]\n",
        "                if 0 <= x < n and 0 <= y < n and chess[x][y] == 0:\n",
        "                    q.append([x, y])\n",
        "                    chess[x][y] = chess[a][b] + 1\n",
        "    chess = [[0] * n for i in range(n)]\n",
        "    \n",
        "    return bfs(startRow, startCol, endRow, endCol)"
      ],
      "metadata": {
        "id": "zOJsSvLwuumz"
      },
      "execution_count": null,
      "outputs": []
    },
    {
      "cell_type": "code",
      "source": [
        "from collections import deque\n",
        "\n",
        "dx = [-1, -2, -2, -1, 1, 2, 2, 1]\n",
        "dy = [2, 1, -1, -2, -2, -1, 1, 2]\n",
        "\n",
        "for _ in range(int(input())):\n",
        "  size = int(input())\n",
        "  startRow, startCol = map(int,input().split())\n",
        "  endRow , endCol = map(int,input().split())\n",
        "  chess = [[0] * size for i in range(size)]\n",
        "\n",
        "  def bfs(startRow, startCol, endRow, endCol):\n",
        "        q = deque()\n",
        "        q.append([startRow, startCol])\n",
        "        chess[startRow][startCol] = 1\n",
        "        \n",
        "        while q:\n",
        "\n",
        "            print(q,'START')\n",
        "\n",
        "            a, b = q.popleft()\n",
        "            if a == endRow and b == endCol:\n",
        "                return(chess[endRow][endCol] -1)\n",
        "            \n",
        "            for i in range(8):\n",
        "                x = a + dx[i]\n",
        "                y = b + dy[i]\n",
        "                if 0 <= x < size and 0 <= y < size and chess[x][y] == 0:\n",
        "                    q.append([x, y])\n",
        "                    print(q)\n",
        "                    chess[x][y] = chess[a][b] + 1\n",
        "          \n",
        "  \n",
        "  print(bfs(startRow, startCol, endRow, endCol))\n"
      ],
      "metadata": {
        "id": "6nUoZ1B_H7JH"
      },
      "execution_count": null,
      "outputs": []
    },
    {
      "cell_type": "code",
      "source": [
        "# lambda 이용한 정렬"
      ],
      "metadata": {
        "id": "97dcjtyevjLs"
      },
      "execution_count": null,
      "outputs": []
    },
    {
      "cell_type": "code",
      "source": [
        "test_list = [[6,4],[7,2],[9,7],[8,2],[1,4]]"
      ],
      "metadata": {
        "id": "yJs80jVSv-g2"
      },
      "execution_count": null,
      "outputs": []
    },
    {
      "cell_type": "code",
      "source": [
        "# 비율순 정렬 "
      ],
      "metadata": {
        "id": "XPYqq1i6wXq6"
      },
      "execution_count": null,
      "outputs": []
    },
    {
      "cell_type": "code",
      "source": [
        "data_list = sorted(test_list , key = lambda x: x[0]/x[1] )\n",
        "print(data_list)"
      ],
      "metadata": {
        "colab": {
          "base_uri": "https://localhost:8080/"
        },
        "id": "N5CDVR9hvxaP",
        "outputId": "68da1156-5c6e-41ee-b36f-d4a5304042df"
      },
      "execution_count": null,
      "outputs": [
        {
          "output_type": "stream",
          "name": "stdout",
          "text": [
            "[[1, 4], [9, 7], [6, 4], [7, 2], [8, 2]]\n"
          ]
        }
      ]
    },
    {
      "cell_type": "code",
      "source": [
        "# 요런거도 가능"
      ],
      "metadata": {
        "id": "OoF150p4kXWr"
      },
      "execution_count": null,
      "outputs": []
    },
    {
      "cell_type": "code",
      "source": [
        "letters = ['a d', 'c b' , 'z s']\n",
        "letters.sort(key=lambda x : (x.split()[1:], x.split()[0] ))\n",
        "letters"
      ],
      "metadata": {
        "colab": {
          "base_uri": "https://localhost:8080/"
        },
        "id": "N5JwsfqhkYjJ",
        "outputId": "cb4508e4-dbb7-43e6-e24a-35fc56eaa71b"
      },
      "execution_count": null,
      "outputs": [
        {
          "output_type": "execute_result",
          "data": {
            "text/plain": [
              "['c b', 'a d', 'z s']"
            ]
          },
          "metadata": {},
          "execution_count": 54
        }
      ]
    },
    {
      "cell_type": "code",
      "source": [
        "# 리스트에서 숫자세기 , Counter"
      ],
      "metadata": {
        "id": "mOfx7AavWVzF"
      },
      "execution_count": null,
      "outputs": []
    },
    {
      "cell_type": "code",
      "source": [
        "import collections"
      ],
      "metadata": {
        "id": "qIOdbLRXWVlp"
      },
      "execution_count": null,
      "outputs": []
    },
    {
      "cell_type": "code",
      "source": [
        "a= [2,5,4,6,9,10,35,2,3,3,3]\n",
        "b = collections.Counter(a)\n",
        "b"
      ],
      "metadata": {
        "colab": {
          "base_uri": "https://localhost:8080/"
        },
        "id": "Depsv4pAdXIW",
        "outputId": "89e02b94-0914-4f84-bed0-82195b9adc4c"
      },
      "execution_count": null,
      "outputs": [
        {
          "output_type": "execute_result",
          "data": {
            "text/plain": [
              "Counter({2: 2, 3: 3, 4: 1, 5: 1, 6: 1, 9: 1, 10: 1, 35: 1})"
            ]
          },
          "metadata": {},
          "execution_count": 30
        }
      ]
    },
    {
      "cell_type": "code",
      "source": [
        "# 이렇게 접근 가능"
      ],
      "metadata": {
        "id": "9wkPvNP_egi6"
      },
      "execution_count": null,
      "outputs": []
    },
    {
      "cell_type": "code",
      "source": [
        "b[2]"
      ],
      "metadata": {
        "id": "7VpfYA3gwVss",
        "colab": {
          "base_uri": "https://localhost:8080/"
        },
        "outputId": "fe2d733d-356c-4671-87af-87c63da2d16d"
      },
      "execution_count": null,
      "outputs": [
        {
          "output_type": "execute_result",
          "data": {
            "text/plain": [
              "2"
            ]
          },
          "metadata": {},
          "execution_count": 32
        }
      ]
    },
    {
      "cell_type": "code",
      "source": [
        "# 2개 까지 "
      ],
      "metadata": {
        "id": "G4_VVDIXfjag"
      },
      "execution_count": null,
      "outputs": []
    },
    {
      "cell_type": "code",
      "source": [
        "print(b.most_common(1))\n",
        "print(b.most_common(2))"
      ],
      "metadata": {
        "colab": {
          "base_uri": "https://localhost:8080/"
        },
        "id": "u4fzFKGHdhVB",
        "outputId": "d697328f-21d7-40fd-e66c-1772487f60de"
      },
      "execution_count": null,
      "outputs": [
        {
          "output_type": "stream",
          "name": "stdout",
          "text": [
            "[(3, 3)]\n",
            "[(3, 3), (2, 2)]\n"
          ]
        }
      ]
    },
    {
      "cell_type": "code",
      "source": [
        "letters = ['a d', 'c b' , 'z s']\n",
        "letters.sort(key=lambda x : (x.split()[1:], x.split()[0] ))\n",
        "letters"
      ],
      "metadata": {
        "id": "1Er6BCcbjIUa"
      },
      "execution_count": null,
      "outputs": []
    },
    {
      "cell_type": "code",
      "source": [
        "# 2f리스트에서 겹치는 것들 세기"
      ],
      "metadata": {
        "id": "uojeSne5mSSs"
      },
      "execution_count": null,
      "outputs": []
    },
    {
      "cell_type": "code",
      "source": [
        "S = [1,4,5,6]\n",
        "J = [2,4,10,11]\n",
        "sum ( s in J for s in S )"
      ],
      "metadata": {
        "colab": {
          "base_uri": "https://localhost:8080/"
        },
        "id": "3gli9nLZjU65",
        "outputId": "6af1e141-b2d3-4fe9-c88e-8b77acc1404e"
      },
      "execution_count": null,
      "outputs": [
        {
          "output_type": "execute_result",
          "data": {
            "text/plain": [
              "1"
            ]
          },
          "metadata": {},
          "execution_count": 58
        }
      ]
    },
    {
      "cell_type": "code",
      "source": [
        "# "
      ],
      "metadata": {
        "id": "PU3BQ-VToGIW"
      },
      "execution_count": null,
      "outputs": []
    },
    {
      "cell_type": "code",
      "source": [
        "nums = [1,5,4,6,1,2,2,3,9,10,3,2,7,1]\n",
        "nested_list = [[1,5],[2,4],[3,6]]"
      ],
      "metadata": {
        "id": "UCfXcbHboFSb"
      },
      "execution_count": null,
      "outputs": []
    },
    {
      "cell_type": "code",
      "source": [
        "collections.Counter(nums).most_common(3)"
      ],
      "metadata": {
        "colab": {
          "base_uri": "https://localhost:8080/"
        },
        "id": "hPlXocESmWnn",
        "outputId": "2537eaf7-5069-4623-c8e8-d1cbfc4b3b47"
      },
      "execution_count": null,
      "outputs": [
        {
          "output_type": "execute_result",
          "data": {
            "text/plain": [
              "[(1, 3), (2, 3), (3, 2)]"
            ]
          },
          "metadata": {},
          "execution_count": 64
        }
      ]
    },
    {
      "cell_type": "code",
      "source": [
        "print( list(zip(*nested_list)) )\n",
        "print( list(zip(*collections.Counter(nums).most_common(3)))) "
      ],
      "metadata": {
        "colab": {
          "base_uri": "https://localhost:8080/"
        },
        "id": "ePmalxQZpM6r",
        "outputId": "46973ae5-708a-487f-83ae-e34ba4d3c531"
      },
      "execution_count": null,
      "outputs": [
        {
          "output_type": "stream",
          "name": "stdout",
          "text": [
            "[(1, 2, 3), (5, 4, 6)]\n",
            "[(1, 2, 3), (3, 3, 2)]\n"
          ]
        }
      ]
    },
    {
      "cell_type": "code",
      "source": [
        ""
      ],
      "metadata": {
        "id": "vv-KnAatpEWm"
      },
      "execution_count": null,
      "outputs": []
    }
  ]
}