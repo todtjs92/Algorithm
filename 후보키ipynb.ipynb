{
  "nbformat": 4,
  "nbformat_minor": 0,
  "metadata": {
    "colab": {
      "name": "후보키ipynb",
      "provenance": [],
      "collapsed_sections": []
    },
    "kernelspec": {
      "name": "python3",
      "display_name": "Python 3"
    },
    "language_info": {
      "name": "python"
    }
  },
  "cells": [
    {
      "cell_type": "code",
      "source": [
        "relation = [[\"100\",\"ryan\",\"music\",\"2\"],\n",
        "            [\"200\",\"apeach\",\"math\",\"2\"],\n",
        "            [\"300\",\"tube\",\"computer\",\"3\"],\n",
        "            [\"400\",\"con\",\"computer\",\"4\"],\n",
        "            [\"500\",\"muzi\",\"music\",\"3\"],\n",
        "            [\"600\",\"apeach\",\"music\",\"2\"]]"
      ],
      "metadata": {
        "id": "xsEcmeWYP-k1"
      },
      "execution_count": null,
      "outputs": []
    },
    {
      "cell_type": "code",
      "source": [
        "# 후보 키를 발견하면 그 후보키를 포함한 조합은 제외할 수 있또록 하기."
      ],
      "metadata": {
        "id": "8NtHRibcQPsq"
      },
      "execution_count": null,
      "outputs": []
    },
    {
      "cell_type": "code",
      "source": [
        "import collections\n",
        "import itertools"
      ],
      "metadata": {
        "id": "_sRS92ZuS1UJ"
      },
      "execution_count": null,
      "outputs": []
    },
    {
      "cell_type": "code",
      "source": [
        "list( itertools.combinations( range(len( relation[0]))  ,0) )"
      ],
      "metadata": {
        "colab": {
          "base_uri": "https://localhost:8080/"
        },
        "id": "Id8moe-LUhkI",
        "outputId": "7f0fe521-c88a-43df-9351-f7cef504c155"
      },
      "execution_count": null,
      "outputs": [
        {
          "output_type": "execute_result",
          "data": {
            "text/plain": [
              "[()]"
            ]
          },
          "metadata": {},
          "execution_count": 4
        }
      ]
    },
    {
      "cell_type": "code",
      "source": [
        "result_key=[]\n",
        "possible=[]\n",
        "for i in range(0,len(relation[0])+1):\n",
        "  if i ==0:\n",
        "    continue\n",
        "  possible+= list( itertools.combinations( range(len( relation[0]) )  ,i) )\n",
        "  # empty_list = []\n",
        "  # for j in range(len(relation)):\n",
        "  #   empty_list.append(relation[j][i])"
      ],
      "metadata": {
        "id": "RZbn-xvMRPFN"
      },
      "execution_count": null,
      "outputs": []
    },
    {
      "cell_type": "code",
      "source": [
        "possible"
      ],
      "metadata": {
        "colab": {
          "base_uri": "https://localhost:8080/"
        },
        "id": "rHF1LkjOZ9Qw",
        "outputId": "76a18126-5def-479e-b24f-390dd2f3beba"
      },
      "execution_count": null,
      "outputs": [
        {
          "output_type": "execute_result",
          "data": {
            "text/plain": [
              "[(0,),\n",
              " (1,),\n",
              " (2,),\n",
              " (3,),\n",
              " (0, 1),\n",
              " (0, 2),\n",
              " (0, 3),\n",
              " (1, 2),\n",
              " (1, 3),\n",
              " (2, 3),\n",
              " (0, 1, 2),\n",
              " (0, 1, 3),\n",
              " (0, 2, 3),\n",
              " (1, 2, 3),\n",
              " (0, 1, 2, 3)]"
            ]
          },
          "metadata": {},
          "execution_count": 14
        }
      ]
    },
    {
      "cell_type": "code",
      "source": [
        "count = 0\n",
        "while count != len(possible):\n",
        "  for i in range(len(possible)):\n",
        "    \n"
      ],
      "metadata": {
        "id": "1lctrDBibNK6"
      },
      "execution_count": null,
      "outputs": []
    },
    {
      "cell_type": "code",
      "source": [
        "possible[0] in possible[4]"
      ],
      "metadata": {
        "colab": {
          "base_uri": "https://localhost:8080/"
        },
        "id": "DYko7-AMcYPr",
        "outputId": "f2da256a-93e5-4655-aa02-be5f6f3f6532"
      },
      "execution_count": null,
      "outputs": [
        {
          "output_type": "execute_result",
          "data": {
            "text/plain": [
              "False"
            ]
          },
          "metadata": {},
          "execution_count": 18
        }
      ]
    },
    {
      "cell_type": "code",
      "source": [
        "[0] in [0,2]"
      ],
      "metadata": {
        "colab": {
          "base_uri": "https://localhost:8080/"
        },
        "id": "1bqTEEFOcips",
        "outputId": "7dbf45f0-7652-4837-dc31-ecfabc50c82b"
      },
      "execution_count": null,
      "outputs": [
        {
          "output_type": "execute_result",
          "data": {
            "text/plain": [
              "False"
            ]
          },
          "metadata": {},
          "execution_count": 19
        }
      ]
    },
    {
      "cell_type": "code",
      "source": [
        "empty_list = []\n",
        "  for j in range(len(relation)):\n",
        "    empty_list.append(relation[j][i])\n",
        "  \n",
        "  if len(set(empty_list))== len(relation):\n",
        "    "
      ],
      "metadata": {
        "id": "teIkZojDZ8-W"
      },
      "execution_count": null,
      "outputs": []
    },
    {
      "cell_type": "code",
      "source": [
        "from itertools import combinations as C\n",
        "r, c = len(relation), len(relation[0])\n",
        "columnIndex = [i for i in range(c)]\n",
        "candidateKey = []\n",
        "\n",
        "# 가능한 모든 키 조합에 대해\n",
        "for i in range(1, c+1):\n",
        "  for keyComb in list(C(columnIndex, i)):\n",
        "      uniqueness = True\n",
        "      chk = []\n",
        "\n",
        "      # 릴레이션에서 해당 키의 튜플만 저장\n",
        "      for rel in relation:\n",
        "          temp = []\n",
        "          for key in keyComb:\n",
        "              temp.append(rel[key])\n",
        "\n",
        "          # 유일성 체크\n",
        "          if temp in chk:\n",
        "              uniqueness = False\n",
        "              break\n",
        "          else:\n",
        "              chk.append(temp)"
      ],
      "metadata": {
        "id": "3YPrhs62c6yH"
      },
      "execution_count": null,
      "outputs": []
    },
    {
      "cell_type": "code",
      "source": [
        "chk"
      ],
      "metadata": {
        "colab": {
          "base_uri": "https://localhost:8080/"
        },
        "id": "WU8piKaac-x2",
        "outputId": "83cee43d-c3fd-407e-f7ee-ec03a4502f67"
      },
      "execution_count": null,
      "outputs": [
        {
          "output_type": "execute_result",
          "data": {
            "text/plain": [
              "[['100', 'ryan', 'music', '2'],\n",
              " ['200', 'apeach', 'math', '2'],\n",
              " ['300', 'tube', 'computer', '3'],\n",
              " ['400', 'con', 'computer', '4'],\n",
              " ['500', 'muzi', 'music', '3'],\n",
              " ['600', 'apeach', 'music', '2']]"
            ]
          },
          "metadata": {},
          "execution_count": 12
        }
      ]
    },
    {
      "cell_type": "code",
      "source": [
        ""
      ],
      "metadata": {
        "id": "mlgUSnfadJHl"
      },
      "execution_count": null,
      "outputs": []
    },
    {
      "cell_type": "code",
      "source": [
        "empty_list"
      ],
      "metadata": {
        "colab": {
          "base_uri": "https://localhost:8080/"
        },
        "id": "8yqlEHJMbDYQ",
        "outputId": "8d205e51-ff4f-4133-efea-9cf1b8e62998"
      },
      "execution_count": null,
      "outputs": [
        {
          "output_type": "execute_result",
          "data": {
            "text/plain": [
              "['ryan', 'apeach', 'tube', 'con', 'muzi', 'apeach']"
            ]
          },
          "metadata": {},
          "execution_count": 36
        }
      ]
    },
    {
      "cell_type": "code",
      "source": [
        "relation[:]"
      ],
      "metadata": {
        "colab": {
          "base_uri": "https://localhost:8080/"
        },
        "id": "5d_-lSgZYLAL",
        "outputId": "447990a0-7b4e-4ad8-8e87-603e6f86d95a"
      },
      "execution_count": null,
      "outputs": [
        {
          "output_type": "execute_result",
          "data": {
            "text/plain": [
              "[['100', 'ryan', 'music', '2'],\n",
              " ['200', 'apeach', 'math', '2'],\n",
              " ['300', 'tube', 'computer', '3'],\n",
              " ['400', 'con', 'computer', '4'],\n",
              " ['500', 'muzi', 'music', '3'],\n",
              " ['600', 'apeach', 'music', '2']]"
            ]
          },
          "metadata": {},
          "execution_count": 31
        }
      ]
    },
    {
      "cell_type": "code",
      "source": [
        "relation[:][2]"
      ],
      "metadata": {
        "colab": {
          "base_uri": "https://localhost:8080/"
        },
        "id": "t4TUGBZtWl8V",
        "outputId": "ec17f8e7-ff46-4f54-fb7e-a73c8450dfb9"
      },
      "execution_count": null,
      "outputs": [
        {
          "output_type": "execute_result",
          "data": {
            "text/plain": [
              "['300', 'tube', 'computer', '3']"
            ]
          },
          "metadata": {},
          "execution_count": 30
        }
      ]
    },
    {
      "cell_type": "code",
      "source": [
        "possible"
      ],
      "metadata": {
        "colab": {
          "base_uri": "https://localhost:8080/"
        },
        "id": "fotRQNAFShef",
        "outputId": "80b6aeca-0d64-445c-b573-567cf2080cef"
      },
      "execution_count": null,
      "outputs": [
        {
          "output_type": "execute_result",
          "data": {
            "text/plain": [
              "[(0,),\n",
              " (1,),\n",
              " (2,),\n",
              " (3,),\n",
              " (0, 1),\n",
              " (0, 2),\n",
              " (0, 3),\n",
              " (1, 2),\n",
              " (1, 3),\n",
              " (2, 3),\n",
              " (0, 1, 2),\n",
              " (0, 1, 3),\n",
              " (0, 2, 3),\n",
              " (1, 2, 3)]"
            ]
          },
          "metadata": {},
          "execution_count": 23
        }
      ]
    },
    {
      "cell_type": "code",
      "source": [
        "from itertools import combinations def solution(relation): # 컬럼의 개수, 행의 개수, 컬럼 리스트(인덱스로 표현함) n_col = len(relation[0]) n_row = len(relation) list_col = [i for i in range(n_col)] # 컬럼 리스트로 후보키 조합 만들기 # 주의사항 : list를 [] 없이 추가하고 싶을 때는 append 대신 extend 사용! combs_col = [] for i in range(1,n_col+1): combs_col.extend(list(combinations(list_col,i))) # print(combs_col) # 유일성 : 유일하게 식별되어야 함 => 해당 컬럼 안에 중복된 값이 없어야 한다. uniques = [] for i in combs_col: key =set() # key : {} 주의 : append 대신 add를 이용 for j in range(n_row): key.add(tuple(relation[j][k] for k in i)) # set을 이용하므로 tuple 사용 # print(key) if len(key) == n_row: uniques.append(i) # print(uniques)\n",
        "출처: https://codingspooning.tistory.com/entry/Programmers-2019-카카오-후보키 [코딩하는 금융인]"
      ],
      "metadata": {
        "id": "GKWM3nQ-TMjh"
      },
      "execution_count": null,
      "outputs": []
    },
    {
      "cell_type": "code",
      "source": [
        "relation = [[\"100\",\"ryan\",\"music\",\"2\"],\n",
        "            [\"200\",\"apeach\",\"math\",\"2\"],\n",
        "            [\"300\",\"tube\",\"computer\",\"3\"],\n",
        "            [\"400\",\"con\",\"computer\",\"4\"],\n",
        "            [\"500\",\"muzi\",\"music\",\"3\"],\n",
        "            [\"600\",\"apeach\",\"music\",\"2\"]]"
      ],
      "metadata": {
        "id": "HAbFSPOieaCW"
      },
      "execution_count": null,
      "outputs": []
    },
    {
      "cell_type": "code",
      "source": [
        "from itertools import combinations\n",
        "\n",
        "def solution(relation):\n",
        "    answer = 0\n",
        "    all = []\n",
        "    unique_list = []\n",
        "    for i in range(1, len(relation[0]) + 1):                                                # 가능한 조합 구하는 부분. [\"100\",\"ryan\",\"music\",\"2\"]  대신 인덱스를 사용했음. [0,1,2,3]  --->  이생각을 못해서 못풀었네 ㅠㅠ\n",
        "        all.extend([set(k) for k in combinations([j for j in range(len(relation[0]))], i)]) # all에 가능한 조합 다들어가게 됨. \n",
        "    for subset in all:   # {0}. \n",
        "        unique = True\n",
        "        row_set = set()\n",
        "        for i in range(len(relation)): # relation 에. 들어있는 애들을 탐색하는데 가능한. subset에 대해서 subset -> [0,1]\n",
        "            row = ''\n",
        "            for j in subset:\n",
        "                print(i,j,'ij')\n",
        "                row += relation[i][j]\n",
        "                print(row)\n",
        "            if row in row_set:\n",
        "                unique = False\n",
        "                break\n",
        "            row_set.add(row)\n",
        "        if unique:\n",
        "            unique_list.append(subset)\n",
        "    unique_list = sorted(unique_list, key=lambda x: len(x))\n",
        "    print(unique_list)\n",
        "    answer_list = []\n",
        "    for subset in unique_list:\n",
        "        subset = set(subset)\n",
        "        check = True\n",
        "        for j in answer_list:\n",
        "            if j.issubset(subset):\n",
        "                check = False\n",
        "        if check:\n",
        "            answer_list.append(subset)\n",
        "\n",
        "    print(answer_list)\n",
        "    return len(answer_list)"
      ],
      "metadata": {
        "id": "Arc8wYYJeIGN"
      },
      "execution_count": null,
      "outputs": []
    },
    {
      "cell_type": "code",
      "source": [
        "all"
      ],
      "metadata": {
        "colab": {
          "base_uri": "https://localhost:8080/"
        },
        "id": "QCTaKmwwejCy",
        "outputId": "b1878de8-9329-4e65-c8f1-fc09b0c69c21"
      },
      "execution_count": null,
      "outputs": [
        {
          "output_type": "execute_result",
          "data": {
            "text/plain": [
              "[{0},\n",
              " {1},\n",
              " {2},\n",
              " {3},\n",
              " {0, 1},\n",
              " {0, 2},\n",
              " {0, 3},\n",
              " {1, 2},\n",
              " {1, 3},\n",
              " {2, 3},\n",
              " {0, 1, 2},\n",
              " {0, 1, 3},\n",
              " {0, 2, 3},\n",
              " {1, 2, 3},\n",
              " {0, 1, 2, 3}]"
            ]
          },
          "metadata": {},
          "execution_count": 22
        }
      ]
    },
    {
      "cell_type": "code",
      "source": [
        "solution(relation)"
      ],
      "metadata": {
        "colab": {
          "base_uri": "https://localhost:8080/"
        },
        "id": "iUJ2TunHejUp",
        "outputId": "400b2563-0a48-4822-8006-ee85d746597a"
      },
      "execution_count": null,
      "outputs": [
        {
          "output_type": "stream",
          "name": "stdout",
          "text": [
            "0 0 ij\n",
            "100\n",
            "1 0 ij\n",
            "200\n",
            "2 0 ij\n",
            "300\n",
            "3 0 ij\n",
            "400\n",
            "4 0 ij\n",
            "500\n",
            "5 0 ij\n",
            "600\n",
            "0 1 ij\n",
            "ryan\n",
            "1 1 ij\n",
            "apeach\n",
            "2 1 ij\n",
            "tube\n",
            "3 1 ij\n",
            "con\n",
            "4 1 ij\n",
            "muzi\n",
            "5 1 ij\n",
            "apeach\n",
            "0 2 ij\n",
            "music\n",
            "1 2 ij\n",
            "math\n",
            "2 2 ij\n",
            "computer\n",
            "3 2 ij\n",
            "computer\n",
            "0 3 ij\n",
            "2\n",
            "1 3 ij\n",
            "2\n",
            "0 0 ij\n",
            "100\n",
            "0 1 ij\n",
            "100ryan\n",
            "1 0 ij\n",
            "200\n",
            "1 1 ij\n",
            "200apeach\n",
            "2 0 ij\n",
            "300\n",
            "2 1 ij\n",
            "300tube\n",
            "3 0 ij\n",
            "400\n",
            "3 1 ij\n",
            "400con\n",
            "4 0 ij\n",
            "500\n",
            "4 1 ij\n",
            "500muzi\n",
            "5 0 ij\n",
            "600\n",
            "5 1 ij\n",
            "600apeach\n",
            "0 0 ij\n",
            "100\n",
            "0 2 ij\n",
            "100music\n",
            "1 0 ij\n",
            "200\n",
            "1 2 ij\n",
            "200math\n",
            "2 0 ij\n",
            "300\n",
            "2 2 ij\n",
            "300computer\n",
            "3 0 ij\n",
            "400\n",
            "3 2 ij\n",
            "400computer\n",
            "4 0 ij\n",
            "500\n",
            "4 2 ij\n",
            "500music\n",
            "5 0 ij\n",
            "600\n",
            "5 2 ij\n",
            "600music\n",
            "0 0 ij\n",
            "100\n",
            "0 3 ij\n",
            "1002\n",
            "1 0 ij\n",
            "200\n",
            "1 3 ij\n",
            "2002\n",
            "2 0 ij\n",
            "300\n",
            "2 3 ij\n",
            "3003\n",
            "3 0 ij\n",
            "400\n",
            "3 3 ij\n",
            "4004\n",
            "4 0 ij\n",
            "500\n",
            "4 3 ij\n",
            "5003\n",
            "5 0 ij\n",
            "600\n",
            "5 3 ij\n",
            "6002\n",
            "0 1 ij\n",
            "ryan\n",
            "0 2 ij\n",
            "ryanmusic\n",
            "1 1 ij\n",
            "apeach\n",
            "1 2 ij\n",
            "apeachmath\n",
            "2 1 ij\n",
            "tube\n",
            "2 2 ij\n",
            "tubecomputer\n",
            "3 1 ij\n",
            "con\n",
            "3 2 ij\n",
            "concomputer\n",
            "4 1 ij\n",
            "muzi\n",
            "4 2 ij\n",
            "muzimusic\n",
            "5 1 ij\n",
            "apeach\n",
            "5 2 ij\n",
            "apeachmusic\n",
            "0 1 ij\n",
            "ryan\n",
            "0 3 ij\n",
            "ryan2\n",
            "1 1 ij\n",
            "apeach\n",
            "1 3 ij\n",
            "apeach2\n",
            "2 1 ij\n",
            "tube\n",
            "2 3 ij\n",
            "tube3\n",
            "3 1 ij\n",
            "con\n",
            "3 3 ij\n",
            "con4\n",
            "4 1 ij\n",
            "muzi\n",
            "4 3 ij\n",
            "muzi3\n",
            "5 1 ij\n",
            "apeach\n",
            "5 3 ij\n",
            "apeach2\n",
            "0 2 ij\n",
            "music\n",
            "0 3 ij\n",
            "music2\n",
            "1 2 ij\n",
            "math\n",
            "1 3 ij\n",
            "math2\n",
            "2 2 ij\n",
            "computer\n",
            "2 3 ij\n",
            "computer3\n",
            "3 2 ij\n",
            "computer\n",
            "3 3 ij\n",
            "computer4\n",
            "4 2 ij\n",
            "music\n",
            "4 3 ij\n",
            "music3\n",
            "5 2 ij\n",
            "music\n",
            "5 3 ij\n",
            "music2\n",
            "0 0 ij\n",
            "100\n",
            "0 1 ij\n",
            "100ryan\n",
            "0 2 ij\n",
            "100ryanmusic\n",
            "1 0 ij\n",
            "200\n",
            "1 1 ij\n",
            "200apeach\n",
            "1 2 ij\n",
            "200apeachmath\n",
            "2 0 ij\n",
            "300\n",
            "2 1 ij\n",
            "300tube\n",
            "2 2 ij\n",
            "300tubecomputer\n",
            "3 0 ij\n",
            "400\n",
            "3 1 ij\n",
            "400con\n",
            "3 2 ij\n",
            "400concomputer\n",
            "4 0 ij\n",
            "500\n",
            "4 1 ij\n",
            "500muzi\n",
            "4 2 ij\n",
            "500muzimusic\n",
            "5 0 ij\n",
            "600\n",
            "5 1 ij\n",
            "600apeach\n",
            "5 2 ij\n",
            "600apeachmusic\n",
            "0 0 ij\n",
            "100\n",
            "0 1 ij\n",
            "100ryan\n",
            "0 3 ij\n",
            "100ryan2\n",
            "1 0 ij\n",
            "200\n",
            "1 1 ij\n",
            "200apeach\n",
            "1 3 ij\n",
            "200apeach2\n",
            "2 0 ij\n",
            "300\n",
            "2 1 ij\n",
            "300tube\n",
            "2 3 ij\n",
            "300tube3\n",
            "3 0 ij\n",
            "400\n",
            "3 1 ij\n",
            "400con\n",
            "3 3 ij\n",
            "400con4\n",
            "4 0 ij\n",
            "500\n",
            "4 1 ij\n",
            "500muzi\n",
            "4 3 ij\n",
            "500muzi3\n",
            "5 0 ij\n",
            "600\n",
            "5 1 ij\n",
            "600apeach\n",
            "5 3 ij\n",
            "600apeach2\n",
            "0 0 ij\n",
            "100\n",
            "0 2 ij\n",
            "100music\n",
            "0 3 ij\n",
            "100music2\n",
            "1 0 ij\n",
            "200\n",
            "1 2 ij\n",
            "200math\n",
            "1 3 ij\n",
            "200math2\n",
            "2 0 ij\n",
            "300\n",
            "2 2 ij\n",
            "300computer\n",
            "2 3 ij\n",
            "300computer3\n",
            "3 0 ij\n",
            "400\n",
            "3 2 ij\n",
            "400computer\n",
            "3 3 ij\n",
            "400computer4\n",
            "4 0 ij\n",
            "500\n",
            "4 2 ij\n",
            "500music\n",
            "4 3 ij\n",
            "500music3\n",
            "5 0 ij\n",
            "600\n",
            "5 2 ij\n",
            "600music\n",
            "5 3 ij\n",
            "600music2\n",
            "0 1 ij\n",
            "ryan\n",
            "0 2 ij\n",
            "ryanmusic\n",
            "0 3 ij\n",
            "ryanmusic2\n",
            "1 1 ij\n",
            "apeach\n",
            "1 2 ij\n",
            "apeachmath\n",
            "1 3 ij\n",
            "apeachmath2\n",
            "2 1 ij\n",
            "tube\n",
            "2 2 ij\n",
            "tubecomputer\n",
            "2 3 ij\n",
            "tubecomputer3\n",
            "3 1 ij\n",
            "con\n",
            "3 2 ij\n",
            "concomputer\n",
            "3 3 ij\n",
            "concomputer4\n",
            "4 1 ij\n",
            "muzi\n",
            "4 2 ij\n",
            "muzimusic\n",
            "4 3 ij\n",
            "muzimusic3\n",
            "5 1 ij\n",
            "apeach\n",
            "5 2 ij\n",
            "apeachmusic\n",
            "5 3 ij\n",
            "apeachmusic2\n",
            "0 0 ij\n",
            "100\n",
            "0 1 ij\n",
            "100ryan\n",
            "0 2 ij\n",
            "100ryanmusic\n",
            "0 3 ij\n",
            "100ryanmusic2\n",
            "1 0 ij\n",
            "200\n",
            "1 1 ij\n",
            "200apeach\n",
            "1 2 ij\n",
            "200apeachmath\n",
            "1 3 ij\n",
            "200apeachmath2\n",
            "2 0 ij\n",
            "300\n",
            "2 1 ij\n",
            "300tube\n",
            "2 2 ij\n",
            "300tubecomputer\n",
            "2 3 ij\n",
            "300tubecomputer3\n",
            "3 0 ij\n",
            "400\n",
            "3 1 ij\n",
            "400con\n",
            "3 2 ij\n",
            "400concomputer\n",
            "3 3 ij\n",
            "400concomputer4\n",
            "4 0 ij\n",
            "500\n",
            "4 1 ij\n",
            "500muzi\n",
            "4 2 ij\n",
            "500muzimusic\n",
            "4 3 ij\n",
            "500muzimusic3\n",
            "5 0 ij\n",
            "600\n",
            "5 1 ij\n",
            "600apeach\n",
            "5 2 ij\n",
            "600apeachmusic\n",
            "5 3 ij\n",
            "600apeachmusic2\n",
            "[{0}, {0, 1}, {0, 2}, {0, 3}, {1, 2}, {0, 1, 2}, {0, 1, 3}, {0, 2, 3}, {1, 2, 3}, {0, 1, 2, 3}]\n",
            "[{0}, {1, 2}]\n"
          ]
        },
        {
          "output_type": "execute_result",
          "data": {
            "text/plain": [
              "2"
            ]
          },
          "metadata": {},
          "execution_count": 23
        }
      ]
    },
    {
      "cell_type": "code",
      "source": [
        ""
      ],
      "metadata": {
        "id": "O2EeejHrkj5I"
      },
      "execution_count": null,
      "outputs": []
    }
  ]
}