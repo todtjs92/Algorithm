{
 "cells": [
  {
   "cell_type": "markdown",
   "id": "02602574",
   "metadata": {},
   "source": [
    "#### 비트연산자"
   ]
  },
  {
   "cell_type": "code",
   "execution_count": 2,
   "id": "c44989c7",
   "metadata": {},
   "outputs": [],
   "source": [
    "# a =  '00111100'\n",
    "# a << 1 -> '11110000' "
   ]
  },
  {
   "cell_type": "code",
   "execution_count": 10,
   "id": "46186497",
   "metadata": {},
   "outputs": [],
   "source": [
    "import heapq\n",
    "\n",
    "INF = float('inf')\n",
    "\n",
    "# 갈수있는 방향 판별 함수\n",
    "def isReverse(cur_pos, next_pos, cur_state, traps_idx):\n",
    "    is_cur_trap_on, is_next_trap_on = False, False\n",
    "    if cur_pos in traps_idx:\n",
    "        is_cur_trap_on = (cur_state & (1 << traps_idx[cur_pos])) > 0\n",
    "    if next_pos in traps_idx:\n",
    "        is_next_trap_on = (cur_state & (1 << traps_idx[next_pos])) > 0\n",
    "\n",
    "    # 함정 상태가 같으면 순방향, 다르면 역방향\n",
    "    return is_cur_trap_on != is_next_trap_on\n",
    "\n",
    "# 다음 노드를 밟은 후 상태를 반환하는 함수\n",
    "def getNextState(next_pos, cur_state, traps_idx):\n",
    "    if next_pos in traps_idx:\n",
    "        return cur_state ^ (1 << traps_idx[next_pos])\n",
    "    return cur_state\n",
    "\n",
    "def solution(n, start, end, roads, traps):\n",
    "    answer = INF\n",
    "    min_cost = [[INF for _ in range(n+1)] for _ in range(2**len(traps))]\n",
    "    traps_idx = {v: i for i, v in enumerate(traps)}\n",
    "    graph = [[] for _ in range(n+1)]  # end, cost, isReverse\n",
    "    # graph 생성\n",
    "    for _start, _end, _cost in roads:\n",
    "        graph[_start].append([_end, _cost, False])\n",
    "        graph[_end].append([_start, _cost, True])\n",
    "\n",
    "    hq = []  # [[sum, cur_pos, trap_state]]\n",
    "    heapq.heappush(hq, [0, start, 0])\n",
    "    min_cost[0][start] = 0  # 첫 시작점\n",
    "\n",
    "    while hq:\n",
    "        cur_sum, cur_pos, cur_state = heapq.heappop(hq)\n",
    "        if cur_pos == end:\n",
    "            answer = min(answer, cur_sum)\n",
    "            continue\n",
    "        if cur_sum > min_cost[cur_state][cur_pos]:\n",
    "            continue\n",
    "        for next_pos, next_cost, is_reverse in graph[cur_pos]:\n",
    "            # 못 가는 방향이면 pass\n",
    "            if is_reverse != isReverse(cur_pos, next_pos, cur_state, traps_idx):\n",
    "                continue\n",
    "\n",
    "            next_state = getNextState(next_pos, cur_state, traps_idx)\n",
    "            next_sum = next_cost+cur_sum\n",
    "            # 다음 상태의 비용이 이미 더 작으면 pass\n",
    "            if next_sum >= min_cost[next_state][next_pos]:\n",
    "                continue\n",
    "\n",
    "            min_cost[next_state][next_pos] = next_sum\n",
    "            heapq.heappush(hq, [next_sum, next_pos, next_state])\n",
    "\n",
    "    return answer\n",
    "            \n",
    "            \n",
    "    \n"
   ]
  },
  {
   "cell_type": "code",
   "execution_count": 16,
   "id": "e2ba3119",
   "metadata": {},
   "outputs": [],
   "source": [
    "n = 3\n",
    "start = 1\n",
    "end = 3\n",
    "roads = [[1,2,2],[3,2,3]]\n",
    "traps = [2]"
   ]
  },
  {
   "cell_type": "code",
   "execution_count": 12,
   "id": "fbccbe48",
   "metadata": {},
   "outputs": [
    {
     "data": {
      "text/plain": [
       "5"
      ]
     },
     "execution_count": 12,
     "metadata": {},
     "output_type": "execute_result"
    }
   ],
   "source": [
    "solution(n, start , end, roads, traps)"
   ]
  },
  {
   "cell_type": "code",
   "execution_count": 19,
   "id": "8651c178",
   "metadata": {},
   "outputs": [],
   "source": [
    "visited = [[False for _ in range(1<<len(traps))] for _ in range(n+1)]"
   ]
  },
  {
   "cell_type": "code",
   "execution_count": 20,
   "id": "b2019fe5",
   "metadata": {},
   "outputs": [
    {
     "data": {
      "text/plain": [
       "[[False, False], [False, False], [False, False], [False, False]]"
      ]
     },
     "execution_count": 20,
     "metadata": {},
     "output_type": "execute_result"
    }
   ],
   "source": [
    "visited"
   ]
  },
  {
   "cell_type": "code",
   "execution_count": null,
   "id": "42169837",
   "metadata": {},
   "outputs": [],
   "source": []
  },
  {
   "cell_type": "code",
   "execution_count": null,
   "id": "4c76ecaa",
   "metadata": {},
   "outputs": [],
   "source": [
    "INF = 987654321\n",
    "import queue\n",
    "\n",
    "def dijjkstra(n, garph ,src , dst, traps):\n",
    "    pq= queue.PriorityQueue()\n",
    "    visited = [[False] for _ in range(1<<len(traps))] for _ in range(n+1)  # 1<<len(traps) 이게 함정의 비트마스크 표현\n",
    "    \n",
    "\n",
    "def solution(n,start, end, roads , traps):\n",
    "    # 0뺴고씀, 트랩에 0 없는거 생각해서\n",
    "    graph = [INF for _ in range(n+1)]\n",
    "    for i in range(1,n+1):\n",
    "        graph[i][j] = 0\n",
    "    \n",
    "    for data in roads:\n",
    "        u =  data [0] # 시작\n",
    "        v = data[1] # 끝\n",
    "        w = data[2] # 가중치\n",
    "        # 인접행렬로 풀것 무조건 가장 작은값을 인접행렬에 넣어준다\n",
    "        \n",
    "        if w < graph[u][v]:\n",
    "            graph[u][v] = w\n",
    "    \n",
    "    \n",
    "    return dijjkstra(n,graph, src, dst, traps)"
   ]
  },
  {
   "cell_type": "code",
   "execution_count": null,
   "id": "f3ced29a",
   "metadata": {},
   "outputs": [],
   "source": []
  },
  {
   "cell_type": "code",
   "execution_count": 5,
   "id": "14d2efe0",
   "metadata": {},
   "outputs": [],
   "source": [
    "import collections"
   ]
  },
  {
   "cell_type": "code",
   "execution_count": 7,
   "id": "43dd2d06",
   "metadata": {},
   "outputs": [
    {
     "data": {
      "text/plain": [
       "[(4, 2)]"
      ]
     },
     "execution_count": 7,
     "metadata": {},
     "output_type": "execute_result"
    }
   ],
   "source": [
    "collections.Counter([1,4,4]).most_common(1)\n"
   ]
  },
  {
   "cell_type": "code",
   "execution_count": 10,
   "id": "c053f252",
   "metadata": {},
   "outputs": [],
   "source": [
    "nums = [1,34,12,432,4,25,23,4,32,1,1,1]"
   ]
  },
  {
   "cell_type": "code",
   "execution_count": 11,
   "id": "d9f28276",
   "metadata": {},
   "outputs": [
    {
     "data": {
      "text/plain": [
       "4"
      ]
     },
     "execution_count": 11,
     "metadata": {},
     "output_type": "execute_result"
    }
   ],
   "source": [
    "nums.count(1)"
   ]
  },
  {
   "cell_type": "code",
   "execution_count": null,
   "id": "e2fabecc",
   "metadata": {},
   "outputs": [],
   "source": []
  },
  {
   "cell_type": "code",
   "execution_count": null,
   "id": "987f0a2f",
   "metadata": {},
   "outputs": [],
   "source": []
  },
  {
   "cell_type": "code",
   "execution_count": null,
   "id": "ac59386c",
   "metadata": {},
   "outputs": [],
   "source": []
  }
 ],
 "metadata": {
  "kernelspec": {
   "display_name": "Python 3 (ipykernel)",
   "language": "python",
   "name": "python3"
  },
  "language_info": {
   "codemirror_mode": {
    "name": "ipython",
    "version": 3
   },
   "file_extension": ".py",
   "mimetype": "text/x-python",
   "name": "python",
   "nbconvert_exporter": "python",
   "pygments_lexer": "ipython3",
   "version": "3.9.7"
  }
 },
 "nbformat": 4,
 "nbformat_minor": 5
}
