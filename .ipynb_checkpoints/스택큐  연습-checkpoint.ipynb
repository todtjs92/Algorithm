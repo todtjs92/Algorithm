{
 "cells": [
  {
   "cell_type": "code",
   "execution_count": 43,
   "id": "44eaaa8c",
   "metadata": {},
   "outputs": [],
   "source": [
    "import math"
   ]
  },
  {
   "cell_type": "code",
   "execution_count": 54,
   "id": "abf58f75",
   "metadata": {},
   "outputs": [],
   "source": [
    "progresses = [93,30,55]\n",
    "speeds = [1, 30, 5]"
   ]
  },
  {
   "cell_type": "code",
   "execution_count": 45,
   "id": "f1c47bae",
   "metadata": {},
   "outputs": [],
   "source": [
    "progresses = [20, 99, 93, 30, 55, 10]\n",
    "speeds = [5, 10, 1, 1, 30, 5]\n"
   ]
  },
  {
   "cell_type": "code",
   "execution_count": 55,
   "id": "2edf30bd",
   "metadata": {},
   "outputs": [],
   "source": [
    "left = list(map(lambda x : 100 - x , progresses))"
   ]
  },
  {
   "cell_type": "code",
   "execution_count": 57,
   "id": "a691eb9f",
   "metadata": {},
   "outputs": [],
   "source": [
    "time =  []\n",
    "for i in range(len(left)):\n",
    "    time.append(math.ceil(left[i]/ speeds[i]))\n",
    "time.append(1000000)\n",
    "answer =  []\n",
    "pointer = 0\n",
    "temp =1\n",
    "max_time =time[0]\n",
    "while pointer != len(time)-1:\n",
    "    if max_time >= time[pointer+1]:\n",
    "        temp+=1\n",
    "    else:\n",
    "        answer.append(temp)\n",
    "        max_time = time[pointer+1]\n",
    "        temp=1\n",
    "    pointer+=1"
   ]
  },
  {
   "cell_type": "code",
   "execution_count": 58,
   "id": "af19fa10",
   "metadata": {},
   "outputs": [],
   "source": [
    "time.append(1000000)"
   ]
  },
  {
   "cell_type": "code",
   "execution_count": 60,
   "id": "46bc7d1d",
   "metadata": {},
   "outputs": [],
   "source": [
    "answer =  []"
   ]
  },
  {
   "cell_type": "code",
   "execution_count": 61,
   "id": "eb3a5c35",
   "metadata": {},
   "outputs": [],
   "source": [
    "pointer = 0\n",
    "temp =1\n",
    "max_time =time[0]\n",
    "while pointer != len(time)-1:\n",
    "    if max_time >= time[pointer+1]:\n",
    "        temp+=1\n",
    "    else:\n",
    "        answer.append(temp)\n",
    "        max_time = time[pointer+1]\n",
    "        temp=1\n",
    "    pointer+=1\n",
    "    \n",
    "    "
   ]
  },
  {
   "cell_type": "code",
   "execution_count": 62,
   "id": "9d0ca5a8",
   "metadata": {},
   "outputs": [
    {
     "data": {
      "text/plain": [
       "[2, 1]"
      ]
     },
     "execution_count": 62,
     "metadata": {},
     "output_type": "execute_result"
    }
   ],
   "source": [
    "answer"
   ]
  },
  {
   "cell_type": "code",
   "execution_count": null,
   "id": "25fac49b",
   "metadata": {},
   "outputs": [],
   "source": []
  },
  {
   "cell_type": "code",
   "execution_count": null,
   "id": "373d9926",
   "metadata": {},
   "outputs": [],
   "source": [
    "def solution(progresses, speeds):\n",
    "\n",
    "    answer = []\n",
    "    time = 0\n",
    "    count = 0\n",
    "    \n",
    "    while len(progresses)> 0:\n",
    "        if (progresses[0] + time*speeds[0]) >= 100: \n",
    "            progresses.pop(0)\n",
    "            speeds.pop(0)\n",
    "            count += 1\n",
    "            \n",
    "        else:\n",
    "            if count > 0:\n",
    "                answer.append(count)\n",
    "                count = 0\n",
    "            time += 1\n",
    "    answer.append(count)\n",
    "    return answer"
   ]
  }
 ],
 "metadata": {
  "kernelspec": {
   "display_name": "Python 3 (ipykernel)",
   "language": "python",
   "name": "python3"
  },
  "language_info": {
   "codemirror_mode": {
    "name": "ipython",
    "version": 3
   },
   "file_extension": ".py",
   "mimetype": "text/x-python",
   "name": "python",
   "nbconvert_exporter": "python",
   "pygments_lexer": "ipython3",
   "version": "3.9.7"
  }
 },
 "nbformat": 4,
 "nbformat_minor": 5
}
