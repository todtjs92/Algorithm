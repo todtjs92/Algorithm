{
 "cells": [
  {
   "cell_type": "markdown",
   "id": "832206af",
   "metadata": {},
   "source": [
    "#  직접구현"
   ]
  },
  {
   "cell_type": "code",
   "execution_count": 1,
   "id": "c3c74454",
   "metadata": {},
   "outputs": [],
   "source": [
    "class BinaryHeapp(object):\n",
    "    def __int__(self):\n",
    "        self.items =  [None]\n",
    "    \n",
    "    def __len__(self):\n",
    "        return len(self.items) -1\n",
    "    \n",
    "    def _percolate_up(self):\n",
    "        i = len(self)\n",
    "        parent = i//2\n",
    "        while parent > 0:\n",
    "            if self.items[i]  < self.items[parent]:\n",
    "                \n",
    "                self.items[parent] ,  self.items[i] = self.items[i] ,  self.items[parent]\n",
    "            \n",
    "            i = parent\n",
    "            parent = i//2\n",
    "            \n",
    "    \n",
    "    def insert(self,k):\n",
    "        self.items.append(k)\n",
    "        self._percolate_up()\n",
    "        \n",
    "    def _percolate_down(self,idx):\n",
    "        left = idx * 2\n",
    "        right = idx * 2 +1\n",
    "        smallest =idx\n",
    "        \n",
    "        if left <= len(self) and self.items[left] < self.items[smallest]:\n",
    "            smallest  = left\n",
    "            \n",
    "        if right <= len(self)  and  self.items[right] < self.items[smallest]:\n",
    "            smallest = right\n",
    "        \n",
    "        if smallest != idx:\n",
    "            self.items[idx] , self.items[smallest] = self.items[smallest], self.items[idx]\n",
    "        \n",
    "        self._percolate_down(smallest)\n",
    "    \n",
    "    def extract(self):\n",
    "        extracted = self.items[1]\n",
    "        self.items[1] = self.items[len(self)]\n",
    "        \n",
    "        self.items.pop()\n",
    "        self._percolate_down(1)\n",
    "        return extracted\n",
    "        \n",
    "        "
   ]
  },
  {
   "cell_type": "markdown",
   "id": "aa0b4e84",
   "metadata": {},
   "source": [
    "# 모듈 이용 heapq"
   ]
  },
  {
   "cell_type": "markdown",
   "id": "70841db3",
   "metadata": {},
   "source": [
    "#### 예제 k번째 큰 수 추출"
   ]
  },
  {
   "cell_type": "code",
   "execution_count": 3,
   "id": "a4943d54",
   "metadata": {},
   "outputs": [],
   "source": [
    "import heapq"
   ]
  },
  {
   "cell_type": "code",
   "execution_count": 2,
   "id": "3b137ef2",
   "metadata": {},
   "outputs": [],
   "source": [
    "list_ = [3,2,3,1,2,4,5,5,6]\n",
    "k = 4"
   ]
  },
  {
   "cell_type": "code",
   "execution_count": 5,
   "id": "60b2b0e8",
   "metadata": {},
   "outputs": [],
   "source": [
    "def func( nums , k):\n",
    "    heap=list()\n",
    "    \n",
    "    for n in nums:\n",
    "        heapq.heappush(heap, -n)\n",
    "    \n",
    "    for _ in  range(1,k):\n",
    "        heapq.heappop(heap)\n",
    "    \n",
    "    return -heapq.heappop(heap)"
   ]
  },
  {
   "cell_type": "code",
   "execution_count": 6,
   "id": "f78f3532",
   "metadata": {},
   "outputs": [
    {
     "data": {
      "text/plain": [
       "4"
      ]
     },
     "execution_count": 6,
     "metadata": {},
     "output_type": "execute_result"
    }
   ],
   "source": [
    "func(list_,k)"
   ]
  },
  {
   "cell_type": "markdown",
   "id": "b74734ad",
   "metadata": {},
   "source": [
    "#### heapify() 통해서 리스트를 힙 특성가지게 바꿔줄수도 있음 "
   ]
  },
  {
   "cell_type": "code",
   "execution_count": 7,
   "id": "c96ff81d",
   "metadata": {},
   "outputs": [],
   "source": [
    "def func(nums, k):\n",
    "    heapq.heapify(nums)\n",
    "    \n",
    "    for _ in range(len(nums)-k):\n",
    "        heapq.heappop(nums)\n",
    "        \n",
    "    return heapq.heappop(nums)"
   ]
  },
  {
   "cell_type": "markdown",
   "id": "b4f1ce78",
   "metadata": {},
   "source": [
    "#### 그냥 n번째 뽑는 방법도 있음"
   ]
  },
  {
   "cell_type": "code",
   "execution_count": 8,
   "id": "f4854c6a",
   "metadata": {},
   "outputs": [],
   "source": [
    "def func(nums,k):\n",
    "    return heapq.nlargest(k,nums)[-1]"
   ]
  },
  {
   "cell_type": "code",
   "execution_count": null,
   "id": "142a7b9d",
   "metadata": {},
   "outputs": [],
   "source": []
  }
 ],
 "metadata": {
  "kernelspec": {
   "display_name": "Python 3 (ipykernel)",
   "language": "python",
   "name": "python3"
  },
  "language_info": {
   "codemirror_mode": {
    "name": "ipython",
    "version": 3
   },
   "file_extension": ".py",
   "mimetype": "text/x-python",
   "name": "python",
   "nbconvert_exporter": "python",
   "pygments_lexer": "ipython3",
   "version": "3.9.7"
  }
 },
 "nbformat": 4,
 "nbformat_minor": 5
}
