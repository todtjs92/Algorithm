{
 "cells": [
  {
   "cell_type": "markdown",
   "id": "02602574",
   "metadata": {},
   "source": [
    "#### 비트연산자"
   ]
  },
  {
   "cell_type": "code",
   "execution_count": 2,
   "id": "c44989c7",
   "metadata": {},
   "outputs": [],
   "source": [
    "# a =  '00111100'\n",
    "# a << 1 -> '11110000' "
   ]
  },
  {
   "cell_type": "code",
   "execution_count": 4,
   "id": "46186497",
   "metadata": {},
   "outputs": [],
   "source": [
    "import heapq\n",
    "\n",
    "INF = float('inf')\n",
    "\n",
    "# 방향 판별함수\n",
    "\n",
    "\n",
    "def isReverse(cur_pos, next_pos, cur_state ,traps_idx):\n",
    "    is_cur_trap_on, is_next_trap_on = False, False\n",
    "    \n",
    "    if cur_pos in traps_idx:\n",
    "        is_cur_trap_on = (cur_state & (1 << traps_idx[cur_pos])) > 0\n",
    "    \n",
    "    if next_pos in traps_idx:\n",
    "        is_next_trap_on =  (cur_state & (1 << traps_idx[next_pos])) > 0\n",
    "        \n",
    "        \n",
    "    return is_cur_trap_on != is_next_trap_on\n",
    "\n",
    "def getNextState(next_pos , cur_state , traps_idx):\n",
    "    if next_pos in traps_idx:\n",
    "        return cur_state ^ (1 << traps_idx[next_pos] )\n",
    "    \n",
    "    return cur_state\n",
    "\n",
    "def solution(n, start , end, roads, traps):\n",
    "    answer = INF\n",
    "    min_cost = [[INF for _ in range(n+1)] for _ in range(2**len(traps))]\n",
    "    traps_idx = {v:i for i , v in enumerate(traps)}\n",
    "    \n",
    "    # graph 생성\n",
    "    graph = [[] for _ in range(n+1)]\n",
    "    \n",
    "    for _start, _end , _costs in roads:\n",
    "        graph[_start].append([_end, _cost,False])\n",
    "        graph[_end].append([_start,_cost , True])\n",
    "        \n",
    "    hq = []\n",
    "    heapq.heappush(hq,[0,start , 0])\n",
    "    min_cost[0][start]= 0\n",
    "    \n",
    "    while hq:\n",
    "        cur_sum, cur_pos, cur_state = heapq.heappop(hq)\n",
    "        if cur_sum ==end:\n",
    "            answer = min(answer, cur_sum)\n",
    "            continue\n",
    "        \n",
    "        \n",
    "        if cur_sum >  min_cost[cur_state][cur_pos]:\n",
    "            continue\n",
    "        \n",
    "        for next_pos , next_cost , is_reverse in graph[cur_pos]:\n",
    "            \n",
    "            if is_reverse != isReverse(cur_pos ,next_pos , cur_state , traps_idx):\n",
    "                continue\n",
    "            \n",
    "            next_state  = getNextState(next_pos, cur_state ,traps_idx)\n",
    "            next_sum = next_cost +cur_sum\n",
    "            \n",
    "            if next_sum >= min_cost[next_state][next_pos]:\n",
    "                continue\n",
    "                \n",
    "            min_cost[next_state][next_pos] = next_sum\n",
    "            heapq.heappush(hq, [next_sum , next_pos ,next_state])\n",
    "    \n",
    "    return answer\n",
    "            \n",
    "            \n",
    "    \n"
   ]
  },
  {
   "cell_type": "code",
   "execution_count": 5,
   "id": "14d2efe0",
   "metadata": {},
   "outputs": [],
   "source": [
    "import collections"
   ]
  },
  {
   "cell_type": "code",
   "execution_count": 7,
   "id": "43dd2d06",
   "metadata": {},
   "outputs": [
    {
     "data": {
      "text/plain": [
       "[(4, 2)]"
      ]
     },
     "execution_count": 7,
     "metadata": {},
     "output_type": "execute_result"
    }
   ],
   "source": [
    "collections.Counter([1,4,4]).most_common(1)\n"
   ]
  },
  {
   "cell_type": "code",
   "execution_count": null,
   "id": "8e4d7fae",
   "metadata": {},
   "outputs": [],
   "source": []
  }
 ],
 "metadata": {
  "kernelspec": {
   "display_name": "Python 3 (ipykernel)",
   "language": "python",
   "name": "python3"
  },
  "language_info": {
   "codemirror_mode": {
    "name": "ipython",
    "version": 3
   },
   "file_extension": ".py",
   "mimetype": "text/x-python",
   "name": "python",
   "nbconvert_exporter": "python",
   "pygments_lexer": "ipython3",
   "version": "3.9.7"
  }
 },
 "nbformat": 4,
 "nbformat_minor": 5
}
