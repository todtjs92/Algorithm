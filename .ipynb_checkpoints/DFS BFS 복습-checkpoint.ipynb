{
 "cells": [
  {
   "cell_type": "code",
   "execution_count": null,
   "metadata": {
    "id": "VKVi8JTkbySE"
   },
   "outputs": [],
   "source": [
    "from collections import deque"
   ]
  },
  {
   "cell_type": "code",
   "execution_count": null,
   "metadata": {
    "id": "_2sGFT9b-CVR"
   },
   "outputs": [],
   "source": [
    "from collections import defaultdict"
   ]
  },
  {
   "cell_type": "code",
   "execution_count": null,
   "metadata": {
    "id": "T6m7gVShdOEa"
   },
   "outputs": [],
   "source": [
    "4 5 1\n",
    "1 2\n",
    "1 3\n",
    "1 4\n",
    "2 4\n",
    "3 4"
   ]
  },
  {
   "cell_type": "code",
   "execution_count": null,
   "metadata": {
    "id": "5Ks8KV3jFR20"
   },
   "outputs": [],
   "source": [
    "6 8 1\n",
    "1 2\n",
    "1 4\n",
    "1 5\n",
    "2 3\n",
    "2 6\n",
    "3 4\n",
    "4 5\n",
    "5 6"
   ]
  },
  {
   "cell_type": "code",
   "execution_count": null,
   "metadata": {
    "colab": {
     "base_uri": "https://localhost:8080/"
    },
    "executionInfo": {
     "elapsed": 14386,
     "status": "ok",
     "timestamp": 1636082050486,
     "user": {
      "displayName": "김정의",
      "photoUrl": "https://lh3.googleusercontent.com/a/default-user=s64",
      "userId": "05657577236532280758"
     },
     "user_tz": -540
    },
    "id": "MnU8Tx27c1Hf",
    "outputId": "2d53ff40-23b6-42f3-a492-7110cd27f73b"
   },
   "outputs": [
    {
     "name": "stdout",
     "output_type": "stream",
     "text": [
      "6 8 1\n"
     ]
    }
   ],
   "source": [
    "n,m,v = map(int,input().split())\n",
    "adj = [[] for _ in range(n+1)]"
   ]
  },
  {
   "cell_type": "code",
   "execution_count": null,
   "metadata": {
    "colab": {
     "base_uri": "https://localhost:8080/"
    },
    "executionInfo": {
     "elapsed": 15350,
     "status": "ok",
     "timestamp": 1636082136583,
     "user": {
      "displayName": "김정의",
      "photoUrl": "https://lh3.googleusercontent.com/a/default-user=s64",
      "userId": "05657577236532280758"
     },
     "user_tz": -540
    },
    "id": "d7CWnFdFdDDb",
    "outputId": "de54830a-aaa3-4e8c-908c-19821788f7c4"
   },
   "outputs": [
    {
     "name": "stdout",
     "output_type": "stream",
     "text": [
      "1 2\n",
      "1 4\n",
      "1 5\n",
      "2 3\n",
      "2 6\n",
      "3 4\n",
      "4 5\n",
      "5 6\n"
     ]
    }
   ],
   "source": [
    "for _ in range(m):\n",
    "  x, y = map(int, input().split())\n",
    "  adj[x].append(y)\n",
    "  adj[y].append(x)"
   ]
  },
  {
   "cell_type": "code",
   "execution_count": null,
   "metadata": {
    "colab": {
     "base_uri": "https://localhost:8080/"
    },
    "executionInfo": {
     "elapsed": 400,
     "status": "ok",
     "timestamp": 1636087855031,
     "user": {
      "displayName": "김정의",
      "photoUrl": "https://lh3.googleusercontent.com/a/default-user=s64",
      "userId": "05657577236532280758"
     },
     "user_tz": -540
    },
    "id": "3zRZw_05aPb3",
    "outputId": "47820acc-8436-4544-d92e-3a4d4ff2de5a"
   },
   "outputs": [
    {
     "data": {
      "text/plain": [
       "[[], [2, 4, 5], [1, 3, 6], [2, 4], [1, 3, 5], [1, 4, 6], [2, 5]]"
      ]
     },
     "execution_count": 38,
     "metadata": {},
     "output_type": "execute_result"
    }
   ],
   "source": [
    "adj"
   ]
  },
  {
   "cell_type": "code",
   "execution_count": null,
   "metadata": {
    "id": "SJsz-QQXaRH_"
   },
   "outputs": [],
   "source": [
    "visited=[]"
   ]
  },
  {
   "cell_type": "code",
   "execution_count": null,
   "metadata": {
    "id": "W3K_amWoaPNC"
   },
   "outputs": [],
   "source": [
    "stack = [v]"
   ]
  },
  {
   "cell_type": "code",
   "execution_count": null,
   "metadata": {
    "colab": {
     "base_uri": "https://localhost:8080/"
    },
    "executionInfo": {
     "elapsed": 3,
     "status": "ok",
     "timestamp": 1636087475817,
     "user": {
      "displayName": "김정의",
      "photoUrl": "https://lh3.googleusercontent.com/a/default-user=s64",
      "userId": "05657577236532280758"
     },
     "user_tz": -540
    },
    "id": "LvgyqNg5aZtE",
    "outputId": "56108060-17ab-4110-d95e-51016eaf29f7"
   },
   "outputs": [
    {
     "data": {
      "text/plain": [
       "[1]"
      ]
     },
     "execution_count": 33,
     "metadata": {},
     "output_type": "execute_result"
    }
   ],
   "source": [
    "stack"
   ]
  },
  {
   "cell_type": "code",
   "execution_count": null,
   "metadata": {
    "id": "1C4Ay2yLabIO"
   },
   "outputs": [],
   "source": [
    "while stack:\n",
    "  n = stack.pop()\n",
    "  if n not in visited:\n",
    "    visited.append(n)\n",
    "    stack += adj[n]"
   ]
  },
  {
   "cell_type": "code",
   "execution_count": null,
   "metadata": {
    "colab": {
     "base_uri": "https://localhost:8080/"
    },
    "executionInfo": {
     "elapsed": 304,
     "status": "ok",
     "timestamp": 1636087705626,
     "user": {
      "displayName": "김정의",
      "photoUrl": "https://lh3.googleusercontent.com/a/default-user=s64",
      "userId": "05657577236532280758"
     },
     "user_tz": -540
    },
    "id": "eFTJ-f3fbSa2",
    "outputId": "e45f59bc-6c6a-4efd-d451-49be1555a3c9"
   },
   "outputs": [
    {
     "data": {
      "text/plain": [
       "[1, 5, 6, 2, 3, 4]"
      ]
     },
     "execution_count": 35,
     "metadata": {},
     "output_type": "execute_result"
    }
   ],
   "source": [
    "visited"
   ]
  },
  {
   "cell_type": "code",
   "execution_count": null,
   "metadata": {
    "id": "MozMbZjSceI3"
   },
   "outputs": [],
   "source": [
    "\n",
    "a=[1,4,5]\n",
    "b= [1]"
   ]
  },
  {
   "cell_type": "code",
   "execution_count": null,
   "metadata": {
    "colab": {
     "base_uri": "https://localhost:8080/"
    },
    "executionInfo": {
     "elapsed": 315,
     "status": "ok",
     "timestamp": 1636088028761,
     "user": {
      "displayName": "김정의",
      "photoUrl": "https://lh3.googleusercontent.com/a/default-user=s64",
      "userId": "05657577236532280758"
     },
     "user_tz": -540
    },
    "id": "e6bJTbZKcgZI",
    "outputId": "2d35c883-c551-4530-93ea-c95b57f8c7ec"
   },
   "outputs": [
    {
     "data": {
      "text/plain": [
       "[1, 4, 5, 1]"
      ]
     },
     "execution_count": 48,
     "metadata": {},
     "output_type": "execute_result"
    }
   ],
   "source": [
    "a+b"
   ]
  },
  {
   "cell_type": "code",
   "execution_count": null,
   "metadata": {
    "id": "kbeXdcNGcMff"
   },
   "outputs": [],
   "source": [
    "v=2"
   ]
  },
  {
   "cell_type": "code",
   "execution_count": null,
   "metadata": {
    "colab": {
     "base_uri": "https://localhost:8080/"
    },
    "executionInfo": {
     "elapsed": 347,
     "status": "ok",
     "timestamp": 1636088042228,
     "user": {
      "displayName": "김정의",
      "photoUrl": "https://lh3.googleusercontent.com/a/default-user=s64",
      "userId": "05657577236532280758"
     },
     "user_tz": -540
    },
    "id": "8sIaTUjxckh8",
    "outputId": "6dd35952-ca45-4253-99ba-85121fa24924"
   },
   "outputs": [
    {
     "data": {
      "text/plain": [
       "[[], [2, 4, 5], [1, 3, 6], [2, 4], [1, 3, 5], [1, 4, 6], [2, 5]]"
      ]
     },
     "execution_count": 49,
     "metadata": {},
     "output_type": "execute_result"
    }
   ],
   "source": [
    "adj"
   ]
  },
  {
   "cell_type": "code",
   "execution_count": null,
   "metadata": {
    "id": "tTCqOxxncn4z"
   },
   "outputs": [],
   "source": [
    "graph = defaultdict(set)"
   ]
  },
  {
   "cell_type": "code",
   "execution_count": null,
   "metadata": {
    "colab": {
     "base_uri": "https://localhost:8080/"
    },
    "executionInfo": {
     "elapsed": 448,
     "status": "ok",
     "timestamp": 1636088231339,
     "user": {
      "displayName": "김정의",
      "photoUrl": "https://lh3.googleusercontent.com/a/default-user=s64",
      "userId": "05657577236532280758"
     },
     "user_tz": -540
    },
    "id": "VuphD1iycq9B",
    "outputId": "8129fd51-bd1b-4552-cda2-ce13e5999e25"
   },
   "outputs": [
    {
     "data": {
      "text/plain": [
       "defaultdict(set, {})"
      ]
     },
     "execution_count": 56,
     "metadata": {},
     "output_type": "execute_result"
    }
   ],
   "source": [
    "graph"
   ]
  },
  {
   "cell_type": "code",
   "execution_count": null,
   "metadata": {
    "id": "ZZzsUjhDcwfP"
   },
   "outputs": [],
   "source": [
    "6 8 1\n",
    "1 2\n",
    "1 4\n",
    "1 5\n",
    "2 3\n",
    "2 6\n",
    "3 4\n",
    "4 5\n",
    "5 6"
   ]
  },
  {
   "cell_type": "code",
   "execution_count": null,
   "metadata": {
    "id": "-GCz-3_Xc6sn"
   },
   "outputs": [],
   "source": [
    "graph[5].add(6)"
   ]
  },
  {
   "cell_type": "code",
   "execution_count": null,
   "metadata": {
    "colab": {
     "base_uri": "https://localhost:8080/"
    },
    "executionInfo": {
     "elapsed": 285,
     "status": "ok",
     "timestamp": 1636088390048,
     "user": {
      "displayName": "김정의",
      "photoUrl": "https://lh3.googleusercontent.com/a/default-user=s64",
      "userId": "05657577236532280758"
     },
     "user_tz": -540
    },
    "id": "Pdvb_GTkdbd8",
    "outputId": "fa1dde43-ab0e-4bc5-b501-b0215ff654ff"
   },
   "outputs": [
    {
     "data": {
      "text/plain": [
       "{2, 4, 5}"
      ]
     },
     "execution_count": 75,
     "metadata": {},
     "output_type": "execute_result"
    }
   ],
   "source": [
    "graph[1]"
   ]
  },
  {
   "cell_type": "code",
   "execution_count": null,
   "metadata": {
    "colab": {
     "base_uri": "https://localhost:8080/",
     "height": 164
    },
    "executionInfo": {
     "elapsed": 323,
     "status": "error",
     "timestamp": 1636088176600,
     "user": {
      "displayName": "김정의",
      "photoUrl": "https://lh3.googleusercontent.com/a/default-user=s64",
      "userId": "05657577236532280758"
     },
     "user_tz": -540
    },
    "id": "uM3AcqMsdBaU",
    "outputId": "0ef58d9f-7e27-4266-c994-a35bf87ca435"
   },
   "outputs": [
    {
     "ename": "AttributeError",
     "evalue": "ignored",
     "output_type": "error",
     "traceback": [
      "\u001b[0;31m---------------------------------------------------------------------------\u001b[0m",
      "\u001b[0;31mAttributeError\u001b[0m                            Traceback (most recent call last)",
      "\u001b[0;32m<ipython-input-54-4e6440ecadec>\u001b[0m in \u001b[0;36m<module>\u001b[0;34m()\u001b[0m\n\u001b[0;32m----> 1\u001b[0;31m \u001b[0mgraph\u001b[0m\u001b[0;34m[\u001b[0m\u001b[0;36m1\u001b[0m\u001b[0;34m]\u001b[0m\u001b[0;34m.\u001b[0m\u001b[0madd\u001b[0m\u001b[0;34m(\u001b[0m\u001b[0;36m1\u001b[0m\u001b[0;34m)\u001b[0m\u001b[0;34m\u001b[0m\u001b[0;34m\u001b[0m\u001b[0m\n\u001b[0m",
      "\u001b[0;31mAttributeError\u001b[0m: 'int' object has no attribute 'add'"
     ]
    }
   ],
   "source": [
    "graph[1].add(1) "
   ]
  },
  {
   "cell_type": "code",
   "execution_count": null,
   "metadata": {
    "colab": {
     "base_uri": "https://localhost:8080/"
    },
    "executionInfo": {
     "elapsed": 405,
     "status": "ok",
     "timestamp": 1636088166844,
     "user": {
      "displayName": "김정의",
      "photoUrl": "https://lh3.googleusercontent.com/a/default-user=s64",
      "userId": "05657577236532280758"
     },
     "user_tz": -540
    },
    "id": "IbVyB4wDdC-C",
    "outputId": "1b9abcfd-70fa-4112-c085-8c1ead390400"
   },
   "outputs": [
    {
     "data": {
      "text/plain": [
       "defaultdict(list, {1: 4})"
      ]
     },
     "execution_count": 53,
     "metadata": {},
     "output_type": "execute_result"
    }
   ],
   "source": [
    "graph"
   ]
  },
  {
   "cell_type": "code",
   "execution_count": null,
   "metadata": {
    "colab": {
     "base_uri": "https://localhost:8080/"
    },
    "executionInfo": {
     "elapsed": 313,
     "status": "ok",
     "timestamp": 1636088442926,
     "user": {
      "displayName": "김정의",
      "photoUrl": "https://lh3.googleusercontent.com/a/default-user=s64",
      "userId": "05657577236532280758"
     },
     "user_tz": -540
    },
    "id": "byktQj0LeGXP",
    "outputId": "c39debc8-22a0-4be7-8bcf-ee228c4c24da"
   },
   "outputs": [
    {
     "data": {
      "text/plain": [
       "2"
      ]
     },
     "execution_count": 78,
     "metadata": {},
     "output_type": "execute_result"
    }
   ],
   "source": [
    "v"
   ]
  },
  {
   "cell_type": "code",
   "execution_count": null,
   "metadata": {
    "id": "Zw-6EMfPemsJ"
   },
   "outputs": [],
   "source": [
    "graph[6].add(5)"
   ]
  },
  {
   "cell_type": "code",
   "execution_count": null,
   "metadata": {
    "colab": {
     "base_uri": "https://localhost:8080/"
    },
    "executionInfo": {
     "elapsed": 318,
     "status": "ok",
     "timestamp": 1636088633198,
     "user": {
      "displayName": "김정의",
      "photoUrl": "https://lh3.googleusercontent.com/a/default-user=s64",
      "userId": "05657577236532280758"
     },
     "user_tz": -540
    },
    "id": "AQc9FpGKeYd-",
    "outputId": "61cb0dc3-a26c-4de4-cca1-c7ac9f95d04c"
   },
   "outputs": [
    {
     "data": {
      "text/plain": [
       "defaultdict(set,\n",
       "            {1: {2, 4, 5},\n",
       "             2: {1, 3, 6},\n",
       "             3: {2, 4},\n",
       "             4: {1, 3, 5},\n",
       "             5: {1, 4, 6},\n",
       "             6: {2, 5}})"
      ]
     },
     "execution_count": 89,
     "metadata": {},
     "output_type": "execute_result"
    }
   ],
   "source": [
    "graph"
   ]
  },
  {
   "cell_type": "code",
   "execution_count": null,
   "metadata": {
    "id": "acbBhNb0fRHD"
   },
   "outputs": [],
   "source": [
    "v=5"
   ]
  },
  {
   "cell_type": "code",
   "execution_count": null,
   "metadata": {
    "colab": {
     "base_uri": "https://localhost:8080/"
    },
    "executionInfo": {
     "elapsed": 396,
     "status": "ok",
     "timestamp": 1636089976587,
     "user": {
      "displayName": "김정의",
      "photoUrl": "https://lh3.googleusercontent.com/a/default-user=s64",
      "userId": "05657577236532280758"
     },
     "user_tz": -540
    },
    "id": "VOVqIb5kj8qd",
    "outputId": "50d0e2e9-43ac-434e-8bb0-36a661156bf2"
   },
   "outputs": [
    {
     "data": {
      "text/plain": [
       "defaultdict(set,\n",
       "            {1: {2, 4, 5},\n",
       "             2: {1, 3, 6},\n",
       "             3: {2, 4},\n",
       "             4: {1, 3, 5},\n",
       "             5: {1, 4, 6},\n",
       "             6: {2, 5}})"
      ]
     },
     "execution_count": 122,
     "metadata": {},
     "output_type": "execute_result"
    }
   ],
   "source": [
    "graph"
   ]
  },
  {
   "cell_type": "code",
   "execution_count": null,
   "metadata": {
    "colab": {
     "base_uri": "https://localhost:8080/"
    },
    "executionInfo": {
     "elapsed": 1036,
     "status": "ok",
     "timestamp": 1636090931172,
     "user": {
      "displayName": "김정의",
      "photoUrl": "https://lh3.googleusercontent.com/a/default-user=s64",
      "userId": "05657577236532280758"
     },
     "user_tz": -540
    },
    "id": "f7oiXsCAnk-z",
    "outputId": "a21c9116-429d-49d0-d816-9cb71a7015ef"
   },
   "outputs": [
    {
     "data": {
      "text/plain": [
       "4"
      ]
     },
     "execution_count": 123,
     "metadata": {},
     "output_type": "execute_result"
    }
   ],
   "source": [
    "visited[-1]"
   ]
  },
  {
   "cell_type": "code",
   "execution_count": null,
   "metadata": {
    "id": "8N0kqTG-bVqw"
   },
   "outputs": [],
   "source": [
    "def dfs(v):\n",
    "  visited = []\n",
    "  stack = [v]\n",
    "  while stack:\n",
    "    print(stack,'stack')\n",
    "    print(visited,'visited')\n",
    "    n = stack.pop()\n",
    "    if n not in visited :\n",
    "      visited.append(n)\n",
    "      # if n not in graph[visited[-1]]:\n",
    "      #   return 'No'\n",
    "      stack.extend(graph[n])\n",
    "  \n",
    "  return visited\n",
    "\n"
   ]
  },
  {
   "cell_type": "code",
   "execution_count": null,
   "metadata": {
    "colab": {
     "base_uri": "https://localhost:8080/"
    },
    "executionInfo": {
     "elapsed": 294,
     "status": "ok",
     "timestamp": 1636094208744,
     "user": {
      "displayName": "김정의",
      "photoUrl": "https://lh3.googleusercontent.com/a/default-user=s64",
      "userId": "05657577236532280758"
     },
     "user_tz": -540
    },
    "id": "PX_US1Cz0CuK",
    "outputId": "59e6394d-5c42-4eab-be26-43fdf71ae03d"
   },
   "outputs": [
    {
     "name": "stdout",
     "output_type": "stream",
     "text": [
      "[4] stack\n",
      "[] visited\n",
      "[1, 3, 5] stack\n",
      "[4] visited\n",
      "[1, 3, 1, 4, 6] stack\n",
      "[4, 5] visited\n",
      "[1, 3, 1, 4, 2, 5] stack\n",
      "[4, 5, 6] visited\n",
      "[1, 3, 1, 4, 2] stack\n",
      "[4, 5, 6] visited\n",
      "[1, 3, 1, 4, 1, 3, 6] stack\n",
      "[4, 5, 6, 2] visited\n",
      "[1, 3, 1, 4, 1, 3] stack\n",
      "[4, 5, 6, 2] visited\n",
      "[1, 3, 1, 4, 1, 2, 4] stack\n",
      "[4, 5, 6, 2, 3] visited\n",
      "[1, 3, 1, 4, 1, 2] stack\n",
      "[4, 5, 6, 2, 3] visited\n",
      "[1, 3, 1, 4, 1] stack\n",
      "[4, 5, 6, 2, 3] visited\n",
      "[1, 3, 1, 4, 2, 4, 5] stack\n",
      "[4, 5, 6, 2, 3, 1] visited\n",
      "[1, 3, 1, 4, 2, 4] stack\n",
      "[4, 5, 6, 2, 3, 1] visited\n",
      "[1, 3, 1, 4, 2] stack\n",
      "[4, 5, 6, 2, 3, 1] visited\n",
      "[1, 3, 1, 4] stack\n",
      "[4, 5, 6, 2, 3, 1] visited\n",
      "[1, 3, 1] stack\n",
      "[4, 5, 6, 2, 3, 1] visited\n",
      "[1, 3] stack\n",
      "[4, 5, 6, 2, 3, 1] visited\n",
      "[1] stack\n",
      "[4, 5, 6, 2, 3, 1] visited\n"
     ]
    },
    {
     "data": {
      "text/plain": [
       "[4, 5, 6, 2, 3, 1]"
      ]
     },
     "execution_count": 145,
     "metadata": {},
     "output_type": "execute_result"
    }
   ],
   "source": [
    "dfs(4)"
   ]
  },
  {
   "cell_type": "code",
   "execution_count": null,
   "metadata": {
    "id": "ngt-WFDCxWG7"
   },
   "outputs": [],
   "source": [
    "from collections import deque"
   ]
  },
  {
   "cell_type": "code",
   "execution_count": null,
   "metadata": {
    "id": "_NVIpKg5xZtZ"
   },
   "outputs": [],
   "source": [
    "visited= []"
   ]
  },
  {
   "cell_type": "code",
   "execution_count": null,
   "metadata": {
    "colab": {
     "base_uri": "https://localhost:8080/"
    },
    "executionInfo": {
     "elapsed": 411,
     "status": "ok",
     "timestamp": 1636093726457,
     "user": {
      "displayName": "김정의",
      "photoUrl": "https://lh3.googleusercontent.com/a/default-user=s64",
      "userId": "05657577236532280758"
     },
     "user_tz": -540
    },
    "id": "zwUg-4OCyQRd",
    "outputId": "f5a9c29a-e275-4af4-b92d-2d62b7638cb9"
   },
   "outputs": [
    {
     "data": {
      "text/plain": [
       "defaultdict(set,\n",
       "            {1: {2, 4, 5},\n",
       "             2: {1, 3, 6},\n",
       "             3: {2, 4},\n",
       "             4: {1, 3, 5},\n",
       "             5: {1, 4, 6},\n",
       "             6: {2, 5}})"
      ]
     },
     "execution_count": 133,
     "metadata": {},
     "output_type": "execute_result"
    }
   ],
   "source": [
    "graph"
   ]
  },
  {
   "cell_type": "code",
   "execution_count": null,
   "metadata": {
    "id": "PUModKIQyQ0q"
   },
   "outputs": [],
   "source": []
  },
  {
   "cell_type": "code",
   "execution_count": null,
   "metadata": {
    "colab": {
     "base_uri": "https://localhost:8080/"
    },
    "executionInfo": {
     "elapsed": 291,
     "status": "ok",
     "timestamp": 1636094393110,
     "user": {
      "displayName": "김정의",
      "photoUrl": "https://lh3.googleusercontent.com/a/default-user=s64",
      "userId": "05657577236532280758"
     },
     "user_tz": -540
    },
    "id": "9UE1uJN70y4j",
    "outputId": "f9942896-fc7d-402b-b852-9e48f77e4669"
   },
   "outputs": [
    {
     "data": {
      "text/plain": [
       "defaultdict(set,\n",
       "            {1: {2, 4, 5},\n",
       "             2: {1, 3, 6},\n",
       "             3: {2, 4},\n",
       "             4: {1, 3, 5},\n",
       "             5: {1, 4, 6},\n",
       "             6: {2, 5}})"
      ]
     },
     "execution_count": 150,
     "metadata": {},
     "output_type": "execute_result"
    }
   ],
   "source": [
    "graph"
   ]
  },
  {
   "cell_type": "code",
   "execution_count": null,
   "metadata": {
    "id": "NLlg-Ur4yNT_"
   },
   "outputs": [],
   "source": [
    "queue = deque([1])"
   ]
  },
  {
   "cell_type": "code",
   "execution_count": null,
   "metadata": {
    "id": "Fws7YeErysbb"
   },
   "outputs": [],
   "source": [
    "visited=[]"
   ]
  },
  {
   "cell_type": "code",
   "execution_count": null,
   "metadata": {
    "colab": {
     "base_uri": "https://localhost:8080/"
    },
    "executionInfo": {
     "elapsed": 2,
     "status": "ok",
     "timestamp": 1636094351680,
     "user": {
      "displayName": "김정의",
      "photoUrl": "https://lh3.googleusercontent.com/a/default-user=s64",
      "userId": "05657577236532280758"
     },
     "user_tz": -540
    },
    "id": "QZ4MCuSJyTVF",
    "outputId": "e281417d-2446-478f-a3fb-4e8c513bf17a"
   },
   "outputs": [
    {
     "name": "stdout",
     "output_type": "stream",
     "text": [
      "deque([1]) queue\n",
      "[] visited\n",
      "deque([2, 4, 5]) queue\n",
      "[1] visited\n",
      "deque([4, 5, 3, 6]) queue\n",
      "[1, 2] visited\n",
      "deque([5, 3, 6, 3, 5]) queue\n",
      "[1, 2, 4] visited\n",
      "deque([3, 6, 3, 5, 6]) queue\n",
      "[1, 2, 4, 5] visited\n",
      "deque([6, 3, 5, 6]) queue\n",
      "[1, 2, 4, 5, 3] visited\n",
      "deque([3, 5, 6]) queue\n",
      "[1, 2, 4, 5, 3, 6] visited\n",
      "deque([5, 6]) queue\n",
      "[1, 2, 4, 5, 3, 6] visited\n",
      "deque([6]) queue\n",
      "[1, 2, 4, 5, 3, 6] visited\n"
     ]
    }
   ],
   "source": [
    "while queue:\n",
    "  print(queue , 'queue')\n",
    "  print(visited , 'visited')\n",
    "  n = queue.popleft()\n",
    "  if n not in visited:\n",
    "    visited.append(n)\n",
    "    queue += graph[n] - set(visited)\n",
    "  "
   ]
  },
  {
   "cell_type": "code",
   "execution_count": null,
   "metadata": {
    "id": "AzIP7YB10oQH"
   },
   "outputs": [],
   "source": []
  },
  {
   "cell_type": "code",
   "execution_count": null,
   "metadata": {
    "colab": {
     "base_uri": "https://localhost:8080/"
    },
    "executionInfo": {
     "elapsed": 6,
     "status": "ok",
     "timestamp": 1636093848173,
     "user": {
      "displayName": "김정의",
      "photoUrl": "https://lh3.googleusercontent.com/a/default-user=s64",
      "userId": "05657577236532280758"
     },
     "user_tz": -540
    },
    "id": "aZKXKEBMyrfO",
    "outputId": "a2646f52-ce25-49b5-fc23-687e5c604e82"
   },
   "outputs": [
    {
     "data": {
      "text/plain": [
       "[1, 2, 4, 5, 3, 6]"
      ]
     },
     "execution_count": 141,
     "metadata": {},
     "output_type": "execute_result"
    }
   ],
   "source": [
    "visited"
   ]
  },
  {
   "cell_type": "code",
   "execution_count": null,
   "metadata": {
    "colab": {
     "base_uri": "https://localhost:8080/"
    },
    "executionInfo": {
     "elapsed": 285,
     "status": "ok",
     "timestamp": 1636093803031,
     "user": {
      "displayName": "김정의",
      "photoUrl": "https://lh3.googleusercontent.com/a/default-user=s64",
      "userId": "05657577236532280758"
     },
     "user_tz": -540
    },
    "id": "TpIVjwlxyiu8",
    "outputId": "73a0dbcb-ffc6-4506-81b7-8ae54eedf36c"
   },
   "outputs": [
    {
     "data": {
      "text/plain": [
       "[1, 2, 4, 5, 3, 6]"
      ]
     },
     "execution_count": 136,
     "metadata": {},
     "output_type": "execute_result"
    }
   ],
   "source": [
    "visited"
   ]
  },
  {
   "cell_type": "code",
   "execution_count": null,
   "metadata": {
    "id": "6yVzEsKkzkR4"
   },
   "outputs": [],
   "source": [
    "def bfs(graph, start_node):\n",
    "    sta  , visited = [], []\n",
    "    need_visited.append(start_node)\n",
    "    \n",
    "    \n",
    "    while need_visited:\n",
    "        node = need_visited[0]\n",
    "        del need_visited[0]\n",
    "        \n",
    "        if node not in visited:\n",
    "            visited.append(node)\n",
    "            need_visited.extend(graph[node])\n",
    "    return visited"
   ]
  },
  {
   "cell_type": "code",
   "execution_count": null,
   "metadata": {
    "id": "MROo1__XqbFO"
   },
   "outputs": [],
   "source": [
    "def BFS_with_adj_list(graph, root):\n",
    "    visited = []\n",
    "    queue = deque([root])\n",
    "\n",
    "    while queue:\n",
    "        n = queue.popleft()\n",
    "        if n not in visited:\n",
    "            visited.append(n)\n",
    "            queue += graph[n] - set(visited)\n",
    "    return visited\n",
    "  \n",
    "print(BFS_with_adj_list(graph_list, root_node))"
   ]
  },
  {
   "cell_type": "code",
   "execution_count": null,
   "metadata": {
    "colab": {
     "base_uri": "https://localhost:8080/"
    },
    "executionInfo": {
     "elapsed": 439,
     "status": "ok",
     "timestamp": 1636091533816,
     "user": {
      "displayName": "김정의",
      "photoUrl": "https://lh3.googleusercontent.com/a/default-user=s64",
      "userId": "05657577236532280758"
     },
     "user_tz": -540
    },
    "id": "5jv-RfNdgD7v",
    "outputId": "120d0627-8ae9-445f-fe62-9a347cc264c1"
   },
   "outputs": [
    {
     "name": "stdout",
     "output_type": "stream",
     "text": [
      "[2] stack\n",
      "[] visited\n",
      "[1, 3, 6] stack\n",
      "[2] visited\n",
      "[1, 3, 5] stack\n",
      "[2, 6] visited\n",
      "[1, 3, 1, 4] stack\n",
      "[2, 6, 5] visited\n",
      "[1, 3, 1, 1, 3] stack\n",
      "[2, 6, 5, 4] visited\n",
      "[1, 3, 1, 1] stack\n",
      "[2, 6, 5, 4, 3] visited\n",
      "[1, 3, 1] stack\n",
      "[2, 6, 5, 4, 3, 1] visited\n",
      "[1, 3] stack\n",
      "[2, 6, 5, 4, 3, 1] visited\n",
      "[1] stack\n",
      "[2, 6, 5, 4, 3, 1] visited\n"
     ]
    },
    {
     "data": {
      "text/plain": [
       "[2, 6, 5, 4, 3, 1]"
      ]
     },
     "execution_count": 130,
     "metadata": {},
     "output_type": "execute_result"
    }
   ],
   "source": [
    "dfs(2)"
   ]
  },
  {
   "cell_type": "code",
   "execution_count": null,
   "metadata": {
    "colab": {
     "base_uri": "https://localhost:8080/"
    },
    "executionInfo": {
     "elapsed": 345,
     "status": "ok",
     "timestamp": 1636088784623,
     "user": {
      "displayName": "김정의",
      "photoUrl": "https://lh3.googleusercontent.com/a/default-user=s64",
      "userId": "05657577236532280758"
     },
     "user_tz": -540
    },
    "id": "mf3hTR77eJ7z",
    "outputId": "8ccf13cb-72fd-4a11-8982-76b73aa32b6d"
   },
   "outputs": [
    {
     "data": {
      "text/plain": [
       "defaultdict(set,\n",
       "            {1: {2, 4, 5},\n",
       "             2: {1, 3, 6},\n",
       "             3: {2, 4},\n",
       "             4: {1, 3, 5},\n",
       "             5: {1, 4, 6},\n",
       "             6: {2, 5}})"
      ]
     },
     "execution_count": 106,
     "metadata": {},
     "output_type": "execute_result"
    }
   ],
   "source": [
    "graph"
   ]
  },
  {
   "cell_type": "code",
   "execution_count": null,
   "metadata": {
    "colab": {
     "base_uri": "https://localhost:8080/"
    },
    "executionInfo": {
     "elapsed": 5,
     "status": "ok",
     "timestamp": 1636088770980,
     "user": {
      "displayName": "김정의",
      "photoUrl": "https://lh3.googleusercontent.com/a/default-user=s64",
      "userId": "05657577236532280758"
     },
     "user_tz": -540
    },
    "id": "Mph06iZLbwqB",
    "outputId": "31ecd142-4bc4-42a0-f86b-a72c54bfc7f8"
   },
   "outputs": [
    {
     "data": {
      "text/plain": [
       "[4, 5, 6, 2, 3, 1]"
      ]
     },
     "execution_count": 105,
     "metadata": {},
     "output_type": "execute_result"
    }
   ],
   "source": [
    "dfs(v)"
   ]
  },
  {
   "cell_type": "code",
   "execution_count": null,
   "metadata": {
    "id": "yy8JBHbgKiIY"
   },
   "outputs": [],
   "source": [
    "4def DFS_with_adj_list(graph, root):\n",
    "    visited = []\n",
    "    stack = [root]\n",
    "\n",
    "    while stack:\n",
    "        n = stack.pop()\n",
    "        if n not in visited:\n",
    "            visited.append(n)\n",
    "            stack += graph[n] - set(visited)\n",
    "    return visited\n",
    "\n",
    "print(BFS_with_adj_list(graph_list, root_node))"
   ]
  },
  {
   "cell_type": "code",
   "execution_count": null,
   "metadata": {
    "id": "1CY0h4eJaasx"
   },
   "outputs": [],
   "source": []
  },
  {
   "cell_type": "code",
   "execution_count": null,
   "metadata": {
    "colab": {
     "base_uri": "https://localhost:8080/"
    },
    "executionInfo": {
     "elapsed": 328,
     "status": "ok",
     "timestamp": 1636082163557,
     "user": {
      "displayName": "김정의",
      "photoUrl": "https://lh3.googleusercontent.com/a/default-user=s64",
      "userId": "05657577236532280758"
     },
     "user_tz": -540
    },
    "id": "wzyqEM9bGIWw",
    "outputId": "d12ae4e1-d23d-4a68-b379-4aebee0e5935"
   },
   "outputs": [
    {
     "data": {
      "text/plain": [
       "[[], [2, 4, 5], [1, 3, 6], [2, 4], [1, 3, 5], [1, 4, 6], [2, 5]]"
      ]
     },
     "execution_count": 17,
     "metadata": {},
     "output_type": "execute_result"
    }
   ],
   "source": [
    "adj"
   ]
  },
  {
   "cell_type": "code",
   "execution_count": null,
   "metadata": {
    "id": "LiJV4E0EGQ7C"
   },
   "outputs": [],
   "source": [
    "for e in adj:\n",
    "  e.sort()"
   ]
  },
  {
   "cell_type": "code",
   "execution_count": null,
   "metadata": {
    "id": "wvuL4nouJWNu"
   },
   "outputs": [],
   "source": [
    "visited = [False] * (n+1)"
   ]
  },
  {
   "cell_type": "code",
   "execution_count": null,
   "metadata": {
    "id": "9YMigd0yGKxH"
   },
   "outputs": [],
   "source": [
    "def dfs(v):\n",
    "  print(v,end=' ')\n",
    "  visited[v] =True\n",
    "  for e in adj[v]:\n",
    "    print(e)\n",
    "    if not(visited[e]):\n",
    "      dfs(e)"
   ]
  },
  {
   "cell_type": "code",
   "execution_count": null,
   "metadata": {
    "id": "YNN4NCphKDE4"
   },
   "outputs": [],
   "source": []
  },
  {
   "cell_type": "code",
   "execution_count": null,
   "metadata": {
    "id": "X6iqGRGXJsw-"
   },
   "outputs": [],
   "source": []
  },
  {
   "cell_type": "code",
   "execution_count": null,
   "metadata": {
    "colab": {
     "base_uri": "https://localhost:8080/"
    },
    "executionInfo": {
     "elapsed": 290,
     "status": "ok",
     "timestamp": 1636083110493,
     "user": {
      "displayName": "김정의",
      "photoUrl": "https://lh3.googleusercontent.com/a/default-user=s64",
      "userId": "05657577236532280758"
     },
     "user_tz": -540
    },
    "id": "NKNeK5ftJbQo",
    "outputId": "97c6b42a-fd87-46b1-9d3f-3bd71ed2a236"
   },
   "outputs": [
    {
     "name": "stdout",
     "output_type": "stream",
     "text": [
      "1 2\n",
      "4\n",
      "5\n"
     ]
    }
   ],
   "source": [
    "dfs(v)"
   ]
  },
  {
   "cell_type": "code",
   "execution_count": null,
   "metadata": {
    "colab": {
     "base_uri": "https://localhost:8080/"
    },
    "executionInfo": {
     "elapsed": 384,
     "status": "ok",
     "timestamp": 1636080660008,
     "user": {
      "displayName": "김정의",
      "photoUrl": "https://lh3.googleusercontent.com/a/default-user=s64",
      "userId": "05657577236532280758"
     },
     "user_tz": -540
    },
    "id": "lXXjpVprAaLa",
    "outputId": "a4320c77-6aeb-41c0-ea77-397c1406c5c7"
   },
   "outputs": [
    {
     "data": {
      "text/plain": [
       "[[], [2, 3, 4], [1, 4], [1, 4], [1, 2, 3]]"
      ]
     },
     "execution_count": 10,
     "metadata": {},
     "output_type": "execute_result"
    }
   ],
   "source": [
    "adj"
   ]
  },
  {
   "cell_type": "code",
   "execution_count": null,
   "metadata": {
    "id": "60KidQ62Ab_Y"
   },
   "outputs": [],
   "source": []
  },
  {
   "cell_type": "code",
   "execution_count": null,
   "metadata": {
    "id": "U8Thd89EdeYR"
   },
   "outputs": [],
   "source": [
    "for e in adj:\n",
    "  e.sort()"
   ]
  },
  {
   "cell_type": "code",
   "execution_count": null,
   "metadata": {
    "colab": {
     "base_uri": "https://localhost:8080/"
    },
    "executionInfo": {
     "elapsed": 471,
     "status": "ok",
     "timestamp": 1636080785807,
     "user": {
      "displayName": "김정의",
      "photoUrl": "https://lh3.googleusercontent.com/a/default-user=s64",
      "userId": "05657577236532280758"
     },
     "user_tz": -540
    },
    "id": "4b54R1xvA4y0",
    "outputId": "b362b54d-8921-4563-c39a-8f59ee965522"
   },
   "outputs": [
    {
     "data": {
      "text/plain": [
       "[[], [2, 3, 4], [1, 4], [1, 4], [1, 2, 3]]"
      ]
     },
     "execution_count": 12,
     "metadata": {},
     "output_type": "execute_result"
    }
   ],
   "source": [
    "adj"
   ]
  },
  {
   "cell_type": "code",
   "execution_count": null,
   "metadata": {
    "id": "42r9eXZjA5Wo"
   },
   "outputs": [],
   "source": [
    "visited = [False] * (n+1)"
   ]
  },
  {
   "cell_type": "code",
   "execution_count": null,
   "metadata": {
    "colab": {
     "base_uri": "https://localhost:8080/"
    },
    "executionInfo": {
     "elapsed": 320,
     "status": "ok",
     "timestamp": 1636080804642,
     "user": {
      "displayName": "김정의",
      "photoUrl": "https://lh3.googleusercontent.com/a/default-user=s64",
      "userId": "05657577236532280758"
     },
     "user_tz": -540
    },
    "id": "wFr7JLsNA9ES",
    "outputId": "386bec52-054a-4d91-d19b-9b3a911d4d32"
   },
   "outputs": [
    {
     "data": {
      "text/plain": [
       "[False, False, False, False, False]"
      ]
     },
     "execution_count": 14,
     "metadata": {},
     "output_type": "execute_result"
    }
   ],
   "source": [
    "visited"
   ]
  },
  {
   "cell_type": "code",
   "execution_count": null,
   "metadata": {
    "id": "H6CAerpqDALz"
   },
   "outputs": [],
   "source": [
    "1 2\n",
    "3 4"
   ]
  },
  {
   "cell_type": "code",
   "execution_count": null,
   "metadata": {
    "id": "yAh63D1yD54R"
   },
   "outputs": [],
   "source": []
  },
  {
   "cell_type": "code",
   "execution_count": null,
   "metadata": {
    "id": "1KfNsxTWCXZk"
   },
   "outputs": [],
   "source": [
    "시작 경로입력해줬을때 가능한 경로"
   ]
  },
  {
   "cell_type": "code",
   "execution_count": null,
   "metadata": {
    "id": "r6__9akfDq8K"
   },
   "outputs": [],
   "source": []
  },
  {
   "cell_type": "code",
   "execution_count": null,
   "metadata": {
    "id": "CaWghArBA-_J"
   },
   "outputs": [],
   "source": [
    "def dfs(v):\n",
    "  print(v,end=' ')\n",
    "  visited[v] =True\n",
    "  for e in adj[v]:\n",
    "    print(e)\n",
    "    if not(visited[e]):\n",
    "      dfs(e)"
   ]
  },
  {
   "cell_type": "code",
   "execution_count": null,
   "metadata": {
    "id": "eqNoZGM1BDIK"
   },
   "outputs": [],
   "source": []
  },
  {
   "cell_type": "code",
   "execution_count": null,
   "metadata": {
    "colab": {
     "base_uri": "https://localhost:8080/"
    },
    "executionInfo": {
     "elapsed": 4,
     "status": "ok",
     "timestamp": 1636083232477,
     "user": {
      "displayName": "김정의",
      "photoUrl": "https://lh3.googleusercontent.com/a/default-user=s64",
      "userId": "05657577236532280758"
     },
     "user_tz": -540
    },
    "id": "pk0_n6ZqdpIw",
    "outputId": "01445236-e77f-45d5-b141-822bc325638f"
   },
   "outputs": [
    {
     "name": "stdout",
     "output_type": "stream",
     "text": [
      "1 2\n",
      "2 1\n",
      "3\n",
      "3 2\n",
      "4\n",
      "4 1\n",
      "3\n",
      "5\n",
      "5 1\n",
      "4\n",
      "6\n",
      "6 2\n",
      "5\n",
      "6\n",
      "4\n",
      "5\n"
     ]
    }
   ],
   "source": [
    "visited = [False]* (n+1)\n",
    "dfs(v)"
   ]
  },
  {
   "cell_type": "code",
   "execution_count": null,
   "metadata": {
    "colab": {
     "base_uri": "https://localhost:8080/"
    },
    "executionInfo": {
     "elapsed": 362,
     "status": "ok",
     "timestamp": 1635686039852,
     "user": {
      "displayName": "김정의",
      "photoUrl": "https://lh3.googleusercontent.com/a/default-user=s64",
      "userId": "05657577236532280758"
     },
     "user_tz": -540
    },
    "id": "xE4EgrSTfCi-",
    "outputId": "02a8273a-10fb-42f6-ec6c-2e98b2dd41e3"
   },
   "outputs": [
    {
     "data": {
      "text/plain": [
       "[False, True, True, True, True]"
      ]
     },
     "execution_count": 13,
     "metadata": {},
     "output_type": "execute_result"
    }
   ],
   "source": [
    "visited"
   ]
  },
  {
   "cell_type": "code",
   "execution_count": null,
   "metadata": {
    "colab": {
     "base_uri": "https://localhost:8080/"
    },
    "executionInfo": {
     "elapsed": 365,
     "status": "ok",
     "timestamp": 1635686111783,
     "user": {
      "displayName": "김정의",
      "photoUrl": "https://lh3.googleusercontent.com/a/default-user=s64",
      "userId": "05657577236532280758"
     },
     "user_tz": -540
    },
    "id": "qzm2zTHufU1A",
    "outputId": "9d6393e7-0bc0-4ef4-d5c9-997d78b7bc5b"
   },
   "outputs": [
    {
     "data": {
      "text/plain": [
       "[[], [2, 3, 4], [1, 4], [1, 4], [1, 2, 3]]"
      ]
     },
     "execution_count": 14,
     "metadata": {},
     "output_type": "execute_result"
    }
   ],
   "source": [
    "adj"
   ]
  },
  {
   "cell_type": "code",
   "execution_count": null,
   "metadata": {
    "id": "uR-4Q_VagE2C"
   },
   "outputs": [],
   "source": []
  },
  {
   "cell_type": "code",
   "execution_count": null,
   "metadata": {
    "id": "KBTwsffvdzd2"
   },
   "outputs": [],
   "source": [
    "def dfs(v):\n",
    "  print(v,end=' ')\n",
    "  visited[v] =True\n",
    "  for e in adj[v]:\n",
    "    print(e)\n",
    "    if not(visited[e]):\n",
    "      dfs(e)"
   ]
  },
  {
   "cell_type": "code",
   "execution_count": null,
   "metadata": {
    "id": "zEWc2f_yeCIE"
   },
   "outputs": [],
   "source": [
    "def bfs(v):\n",
    "  q= deque([v])\n",
    "  while q:\n",
    "    v = q.popleft()\n",
    "    if not(visited[v]):\n",
    "      visited[v] = True\n",
    "      print(v, end=' ')\n",
    "      for e in adj[v]:\n",
    "        if not visited[e]:\n",
    "          q.append(e)"
   ]
  },
  {
   "cell_type": "code",
   "execution_count": null,
   "metadata": {
    "colab": {
     "base_uri": "https://localhost:8080/"
    },
    "executionInfo": {
     "elapsed": 298,
     "status": "ok",
     "timestamp": 1635686021201,
     "user": {
      "displayName": "김정의",
      "photoUrl": "https://lh3.googleusercontent.com/a/default-user=s64",
      "userId": "05657577236532280758"
     },
     "user_tz": -540
    },
    "id": "Ya2kp_3le9_a",
    "outputId": "7b87d73b-219a-43b4-b37e-c5cc61d30a6c"
   },
   "outputs": [
    {
     "name": "stdout",
     "output_type": "stream",
     "text": [
      "1 2 3 4 "
     ]
    }
   ],
   "source": [
    "visited = [False]* (n+1)\n",
    "bfs(v)"
   ]
  },
  {
   "cell_type": "code",
   "execution_count": null,
   "metadata": {
    "id": "W80mtS_Fe_M0"
   },
   "outputs": [],
   "source": [
    "s = 'BANANA'"
   ]
  },
  {
   "cell_type": "code",
   "execution_count": null,
   "metadata": {
    "id": "7jZsAkcQ9oqF"
   },
   "outputs": [],
   "source": [
    "vowel =['A','I','O','U','E']"
   ]
  },
  {
   "cell_type": "code",
   "execution_count": null,
   "metadata": {
    "colab": {
     "base_uri": "https://localhost:8080/"
    },
    "executionInfo": {
     "elapsed": 330,
     "status": "ok",
     "timestamp": 1636096782726,
     "user": {
      "displayName": "김정의",
      "photoUrl": "https://lh3.googleusercontent.com/a/default-user=s64",
      "userId": "05657577236532280758"
     },
     "user_tz": -540
    },
    "id": "xQhpgScL950i",
    "outputId": "108bd6ae-bb5c-4905-fff8-a39e5c39d994"
   },
   "outputs": [
    {
     "data": {
      "text/plain": [
       "['A', 'I', 'O', 'U', 'E']"
      ]
     },
     "execution_count": 154,
     "metadata": {},
     "output_type": "execute_result"
    }
   ],
   "source": [
    "vowel"
   ]
  },
  {
   "cell_type": "code",
   "execution_count": null,
   "metadata": {
    "id": "AXPDeAdz-LTc"
   },
   "outputs": [],
   "source": [
    "인덱스 위치 표시한다음에 거기로부터 단어수 늘리기 "
   ]
  },
  {
   "cell_type": "code",
   "execution_count": null,
   "metadata": {
    "id": "BBW-NUMT-kZt"
   },
   "outputs": [],
   "source": [
    "# vowel case "
   ]
  },
  {
   "cell_type": "code",
   "execution_count": null,
   "metadata": {
    "id": "B1toKuds-uxD"
   },
   "outputs": [],
   "source": [
    "vowel_words = []\n",
    "conson_words = []"
   ]
  },
  {
   "cell_type": "code",
   "execution_count": null,
   "metadata": {
    "id": "zkn9fy0O-ySD"
   },
   "outputs": [],
   "source": []
  },
  {
   "cell_type": "code",
   "execution_count": null,
   "metadata": {
    "colab": {
     "base_uri": "https://localhost:8080/"
    },
    "executionInfo": {
     "elapsed": 4,
     "status": "ok",
     "timestamp": 1636097617474,
     "user": {
      "displayName": "김정의",
      "photoUrl": "https://lh3.googleusercontent.com/a/default-user=s64",
      "userId": "05657577236532280758"
     },
     "user_tz": -540
    },
    "id": "TrGV9owmAn8Z",
    "outputId": "8211f817-1cea-48c5-cf67-728755acf4ce"
   },
   "outputs": [
    {
     "name": "stdout",
     "output_type": "stream",
     "text": [
      "0\n",
      "1\n",
      "2\n",
      "3\n",
      "4\n"
     ]
    }
   ],
   "source": [
    "for i in range(0,5):\n",
    "  print(i)"
   ]
  },
  {
   "cell_type": "code",
   "execution_count": null,
   "metadata": {
    "id": "YmTf3s0w-pB0"
   },
   "outputs": [],
   "source": [
    "for i in range(len(s)):\n",
    "  if s[i] in vowel:\n",
    "    for j in range(i,len(s)):\n",
    "      temp_word = s[i:j+1]\n",
    "      vowel_words.append(temp_word)\n",
    "  else:\n",
    "    for j in range(i,len(s)):\n",
    "      temp_words = s[i:j+1]\n",
    "      conson_words.append(temp_words)\n",
    "\n",
    "Kevin = sum(Counter(vowel_words).values())\n",
    "Stuart = sum( Counter(conson_words).values() )\n",
    "\n",
    "\n"
   ]
  },
  {
   "cell_type": "code",
   "execution_count": null,
   "metadata": {
    "colab": {
     "base_uri": "https://localhost:8080/"
    },
    "executionInfo": {
     "elapsed": 281,
     "status": "ok",
     "timestamp": 1636097540006,
     "user": {
      "displayName": "김정의",
      "photoUrl": "https://lh3.googleusercontent.com/a/default-user=s64",
      "userId": "05657577236532280758"
     },
     "user_tz": -540
    },
    "id": "zjfW5w1lAzXc",
    "outputId": "6b161569-c2b3-4e9a-a252-98668be5d202"
   },
   "outputs": [
    {
     "data": {
      "text/plain": [
       "['A', 'AN', 'ANA', 'ANAN', 'ANANA', 'A', 'AN', 'ANA', 'A']"
      ]
     },
     "execution_count": 159,
     "metadata": {},
     "output_type": "execute_result"
    }
   ],
   "source": [
    "vowel_words"
   ]
  },
  {
   "cell_type": "code",
   "execution_count": null,
   "metadata": {
    "colab": {
     "base_uri": "https://localhost:8080/"
    },
    "executionInfo": {
     "elapsed": 524,
     "status": "ok",
     "timestamp": 1636097625919,
     "user": {
      "displayName": "김정의",
      "photoUrl": "https://lh3.googleusercontent.com/a/default-user=s64",
      "userId": "05657577236532280758"
     },
     "user_tz": -540
    },
    "id": "ZvSY2aYbBHN3",
    "outputId": "e6b5a7c4-a5f2-4547-c019-f288c52d8d41"
   },
   "outputs": [
    {
     "data": {
      "text/plain": [
       "['B',\n",
       " 'BA',\n",
       " 'BAN',\n",
       " 'BANA',\n",
       " 'BANAN',\n",
       " 'BANANA',\n",
       " 'N',\n",
       " 'NA',\n",
       " 'NAN',\n",
       " 'NANA',\n",
       " 'N',\n",
       " 'NA']"
      ]
     },
     "execution_count": 163,
     "metadata": {},
     "output_type": "execute_result"
    }
   ],
   "source": [
    "conson_words"
   ]
  },
  {
   "cell_type": "code",
   "execution_count": null,
   "metadata": {
    "id": "yBgPSX88BLx9"
   },
   "outputs": [],
   "source": [
    "import collections"
   ]
  },
  {
   "cell_type": "code",
   "execution_count": null,
   "metadata": {
    "id": "ViMf65MWBNSr"
   },
   "outputs": [],
   "source": [
    "from collections import Counter"
   ]
  },
  {
   "cell_type": "code",
   "execution_count": null,
   "metadata": {
    "id": "jR4xS3QuBiO9"
   },
   "outputs": [],
   "source": [
    "Kevin = sum(Counter(vowel_words).values())"
   ]
  },
  {
   "cell_type": "code",
   "execution_count": null,
   "metadata": {
    "id": "gVn65oF-BQNP"
   },
   "outputs": [],
   "source": [
    "Stuart = sum( Counter(conson_words).values() )"
   ]
  },
  {
   "cell_type": "code",
   "execution_count": null,
   "metadata": {
    "id": "7TKZZu-fBqvg"
   },
   "outputs": [],
   "source": []
  },
  {
   "cell_type": "code",
   "execution_count": null,
   "metadata": {
    "id": "0qZVtSPjBqSI"
   },
   "outputs": [],
   "source": []
  },
  {
   "cell_type": "code",
   "execution_count": null,
   "metadata": {
    "colab": {
     "base_uri": "https://localhost:8080/"
    },
    "executionInfo": {
     "elapsed": 3,
     "status": "ok",
     "timestamp": 1636097759750,
     "user": {
      "displayName": "김정의",
      "photoUrl": "https://lh3.googleusercontent.com/a/default-user=s64",
      "userId": "05657577236532280758"
     },
     "user_tz": -540
    },
    "id": "XO2gVzA7BRcH",
    "outputId": "86a9f769-29cd-47fb-fc17-3c3098665fbe"
   },
   "outputs": [
    {
     "data": {
      "text/plain": [
       "9"
      ]
     },
     "execution_count": 175,
     "metadata": {},
     "output_type": "execute_result"
    }
   ],
   "source": [
    "Kevin"
   ]
  },
  {
   "cell_type": "code",
   "execution_count": null,
   "metadata": {
    "id": "XL84UN7gBp2K"
   },
   "outputs": [],
   "source": []
  },
  {
   "cell_type": "code",
   "execution_count": null,
   "metadata": {
    "id": "sPP1pYU-EjPh"
   },
   "outputs": [],
   "source": [
    "from collections import Counter\n",
    "def minion_game(string):\n",
    "    vowel =['A','I','O','U','E'] \n",
    "    vowel_words = []\n",
    "    conson_words = []\n",
    "    for i in range(len(string)):\n",
    "        print(i)\n",
    "        if string[i] in vowel:\n",
    "            for j in range(i,len(string)):\n",
    "                temp_word = string[i:j+1]\n",
    "                vowel_words.append(temp_word)\n",
    "        else:\n",
    "            for j in range(i,len(string)):\n",
    "                temp_words = string[i:j+1]\n",
    "                conson_words.append(temp_words)\n",
    "                \n",
    "    Kevin = sum(Counter(vowel_words).values())\n",
    "    Stuart = sum( Counter(conson_words).values() )\n",
    "    \n",
    "    if Kevin > Stuart:\n",
    "        print('Kevin', Kevin ,sep=' ')\n",
    "    elif Stuart > Kevin :\n",
    "        print('Stuart', Stuart ,sep=' ')\n",
    "    else:\n",
    "        return 'Draw'"
   ]
  },
  {
   "cell_type": "code",
   "execution_count": null,
   "metadata": {
    "id": "TNDYSQZHEjho"
   },
   "outputs": [],
   "source": [
    "minion_game('2')"
   ]
  },
  {
   "cell_type": "code",
   "execution_count": null,
   "metadata": {
    "id": "N00PCgSwEn65"
   },
   "outputs": [],
   "source": [
    "import re"
   ]
  },
  {
   "cell_type": "code",
   "execution_count": null,
   "metadata": {
    "id": "1z0noTZijkXK"
   },
   "outputs": [],
   "source": []
  },
  {
   "cell_type": "code",
   "execution_count": null,
   "metadata": {
    "id": "PtRFrdh4jWbd"
   },
   "outputs": [],
   "source": [
    "s= 'abcde***fgh'"
   ]
  },
  {
   "cell_type": "code",
   "execution_count": null,
   "metadata": {
    "id": "sAdpHA72j_kv"
   },
   "outputs": [],
   "source": [
    "# 모든 알파벳과숫자에대하여"
   ]
  },
  {
   "cell_type": "code",
   "execution_count": null,
   "metadata": {
    "colab": {
     "base_uri": "https://localhost:8080/"
    },
    "executionInfo": {
     "elapsed": 278,
     "status": "ok",
     "timestamp": 1636123813337,
     "user": {
      "displayName": "김정의",
      "photoUrl": "https://lh3.googleusercontent.com/a/default-user=s64",
      "userId": "05657577236532280758"
     },
     "user_tz": -540
    },
    "id": "B1vFRkaAjtcc",
    "outputId": "c2715ef2-8ab3-4e42-b0bf-42d2d41d572b"
   },
   "outputs": [
    {
     "name": "stdout",
     "output_type": "stream",
     "text": [
      "***\n"
     ]
    }
   ],
   "source": [
    "print(re.sub(r'[a-zA-Z0-9]','',s))"
   ]
  },
  {
   "cell_type": "code",
   "execution_count": null,
   "metadata": {
    "id": "XKhUhFn_j5kN"
   },
   "outputs": [],
   "source": [
    "# ^이ㅅ아님을뜻함"
   ]
  },
  {
   "cell_type": "code",
   "execution_count": null,
   "metadata": {
    "colab": {
     "base_uri": "https://localhost:8080/"
    },
    "executionInfo": {
     "elapsed": 320,
     "status": "ok",
     "timestamp": 1636123811438,
     "user": {
      "displayName": "김정의",
      "photoUrl": "https://lh3.googleusercontent.com/a/default-user=s64",
      "userId": "05657577236532280758"
     },
     "user_tz": -540
    },
    "id": "_YsuV-Luknwk",
    "outputId": "94f5eec0-c413-45b0-ae5a-27ab47bc52f4"
   },
   "outputs": [
    {
     "name": "stdout",
     "output_type": "stream",
     "text": [
      "***\n"
     ]
    }
   ],
   "source": [
    "print(re.sub(r'[^*]','',s))"
   ]
  },
  {
   "cell_type": "code",
   "execution_count": null,
   "metadata": {
    "colab": {
     "base_uri": "https://localhost:8080/"
    },
    "executionInfo": {
     "elapsed": 355,
     "status": "ok",
     "timestamp": 1636123817336,
     "user": {
      "displayName": "김정의",
      "photoUrl": "https://lh3.googleusercontent.com/a/default-user=s64",
      "userId": "05657577236532280758"
     },
     "user_tz": -540
    },
    "id": "TEBW9bwTkp0c",
    "outputId": "dc9a17bc-ae9b-44a6-d51f-c3f3e87f2c9b"
   },
   "outputs": [
    {
     "name": "stdout",
     "output_type": "stream",
     "text": [
      "***\n"
     ]
    }
   ],
   "source": [
    "print(re.sub(r'[a-zA-Z0-9]','',s))"
   ]
  },
  {
   "cell_type": "code",
   "execution_count": null,
   "metadata": {
    "colab": {
     "base_uri": "https://localhost:8080/"
    },
    "executionInfo": {
     "elapsed": 339,
     "status": "ok",
     "timestamp": 1636123914126,
     "user": {
      "displayName": "김정의",
      "photoUrl": "https://lh3.googleusercontent.com/a/default-user=s64",
      "userId": "05657577236532280758"
     },
     "user_tz": -540
    },
    "id": "vf09Xx-YlDKc",
    "outputId": "5372dbb8-c133-4417-af62-ec21df1ab34a"
   },
   "outputs": [
    {
     "data": {
      "text/plain": [
       "<re.Match object; span=(0, 3), match='abc'>"
      ]
     },
     "execution_count": 15,
     "metadata": {},
     "output_type": "execute_result"
    }
   ],
   "source": [
    "re.search(r'abc','abcdef')"
   ]
  },
  {
   "cell_type": "code",
   "execution_count": null,
   "metadata": {
    "colab": {
     "base_uri": "https://localhost:8080/"
    },
    "executionInfo": {
     "elapsed": 282,
     "status": "ok",
     "timestamp": 1636123923524,
     "user": {
      "displayName": "김정의",
      "photoUrl": "https://lh3.googleusercontent.com/a/default-user=s64",
      "userId": "05657577236532280758"
     },
     "user_tz": -540
    },
    "id": "cmhs848clay6",
    "outputId": "746d7be6-7c69-4582-8492-92a1b499ee40"
   },
   "outputs": [
    {
     "data": {
      "text/plain": [
       "0"
      ]
     },
     "execution_count": 16,
     "metadata": {},
     "output_type": "execute_result"
    }
   ],
   "source": [
    "re.search(r'abc','abcdef').start()"
   ]
  },
  {
   "cell_type": "code",
   "execution_count": null,
   "metadata": {
    "colab": {
     "base_uri": "https://localhost:8080/"
    },
    "executionInfo": {
     "elapsed": 282,
     "status": "ok",
     "timestamp": 1636123929464,
     "user": {
      "displayName": "김정의",
      "photoUrl": "https://lh3.googleusercontent.com/a/default-user=s64",
      "userId": "05657577236532280758"
     },
     "user_tz": -540
    },
    "id": "IZ83PUVClc-D",
    "outputId": "19145df1-72aa-43d1-e07c-e0e24b8999d2"
   },
   "outputs": [
    {
     "data": {
      "text/plain": [
       "3"
      ]
     },
     "execution_count": 17,
     "metadata": {},
     "output_type": "execute_result"
    }
   ],
   "source": [
    "re.search(r'abc','abcdef').end()"
   ]
  },
  {
   "cell_type": "code",
   "execution_count": null,
   "metadata": {
    "id": "JMi6JzODmewf"
   },
   "outputs": [],
   "source": [
    "# 요것도되네"
   ]
  },
  {
   "cell_type": "code",
   "execution_count": null,
   "metadata": {
    "colab": {
     "base_uri": "https://localhost:8080/"
    },
    "executionInfo": {
     "elapsed": 406,
     "status": "ok",
     "timestamp": 1636124154252,
     "user": {
      "displayName": "김정의",
      "photoUrl": "https://lh3.googleusercontent.com/a/default-user=s64",
      "userId": "05657577236532280758"
     },
     "user_tz": -540
    },
    "id": "H2IxLuaileh1",
    "outputId": "21f19535-1d2d-48e6-8458-b909e243a61f"
   },
   "outputs": [
    {
     "data": {
      "text/plain": [
       "<re.Match object; span=(0, 3), match='112'>"
      ]
     },
     "execution_count": 18,
     "metadata": {},
     "output_type": "execute_result"
    }
   ],
   "source": [
    "re.search(r'\\d\\d\\d','112abcde119')"
   ]
  },
  {
   "cell_type": "code",
   "execution_count": null,
   "metadata": {
    "colab": {
     "base_uri": "https://localhost:8080/"
    },
    "executionInfo": {
     "elapsed": 392,
     "status": "ok",
     "timestamp": 1636124186707,
     "user": {
      "displayName": "김정의",
      "photoUrl": "https://lh3.googleusercontent.com/a/default-user=s64",
      "userId": "05657577236532280758"
     },
     "user_tz": -540
    },
    "id": "dEQOR5PbmVZg",
    "outputId": "b45167fa-1eb6-4934-a082-a5fde43233c4"
   },
   "outputs": [
    {
     "data": {
      "text/plain": [
       "<re.Match object; span=(0, 3), match='112'>"
      ]
     },
     "execution_count": 19,
     "metadata": {},
     "output_type": "execute_result"
    }
   ],
   "source": [
    "re.search(r'[0-9][0-9][0-9]','112abcde119')"
   ]
  },
  {
   "cell_type": "code",
   "execution_count": null,
   "metadata": {
    "id": "XCr4W3csmdU8"
   },
   "outputs": [],
   "source": [
    "# \\를통해서특수문자검출이 가능"
   ]
  },
  {
   "cell_type": "code",
   "execution_count": null,
   "metadata": {
    "id": "-LO3HgDFnEyF"
   },
   "outputs": [],
   "source": [
    "# 원하는문자가있다면 그냥 넣음녀 됨 요렇게 [cbm]"
   ]
  },
  {
   "cell_type": "code",
   "execution_count": null,
   "metadata": {
    "id": "5QmWXaypp9Ex"
   },
   "outputs": [],
   "source": [
    "from collections import deque"
   ]
  },
  {
   "cell_type": "code",
   "execution_count": null,
   "metadata": {
    "id": "dxJkvkmqp_S2"
   },
   "outputs": [],
   "source": [
    "dq= deque([])"
   ]
  },
  {
   "cell_type": "code",
   "execution_count": null,
   "metadata": {
    "id": "PGYoJW-iqCvZ"
   },
   "outputs": [],
   "source": [
    "dq.append(1)\n",
    "dq.append(2)"
   ]
  },
  {
   "cell_type": "code",
   "execution_count": null,
   "metadata": {
    "colab": {
     "base_uri": "https://localhost:8080/"
    },
    "executionInfo": {
     "elapsed": 347,
     "status": "ok",
     "timestamp": 1636125406569,
     "user": {
      "displayName": "김정의",
      "photoUrl": "https://lh3.googleusercontent.com/a/default-user=s64",
      "userId": "05657577236532280758"
     },
     "user_tz": -540
    },
    "id": "uOL8bORirA2U",
    "outputId": "17959395-4b82-4b77-f259-f35ddcda53c5"
   },
   "outputs": [
    {
     "data": {
      "text/plain": [
       "deque([1, 1, 2])"
      ]
     },
     "execution_count": 31,
     "metadata": {},
     "output_type": "execute_result"
    }
   ],
   "source": [
    "dq"
   ]
  },
  {
   "cell_type": "code",
   "execution_count": null,
   "metadata": {
    "colab": {
     "base_uri": "https://localhost:8080/"
    },
    "executionInfo": {
     "elapsed": 312,
     "status": "ok",
     "timestamp": 1636125410797,
     "user": {
      "displayName": "김정의",
      "photoUrl": "https://lh3.googleusercontent.com/a/default-user=s64",
      "userId": "05657577236532280758"
     },
     "user_tz": -540
    },
    "id": "a72J3tBrrBQp",
    "outputId": "f1af552f-87e4-4697-a7b1-2e9ff093f568"
   },
   "outputs": [
    {
     "data": {
      "text/plain": [
       "2"
      ]
     },
     "execution_count": 32,
     "metadata": {},
     "output_type": "execute_result"
    }
   ],
   "source": [
    "dq.pop()"
   ]
  },
  {
   "cell_type": "code",
   "execution_count": null,
   "metadata": {
    "colab": {
     "base_uri": "https://localhost:8080/"
    },
    "executionInfo": {
     "elapsed": 406,
     "status": "ok",
     "timestamp": 1636125414976,
     "user": {
      "displayName": "김정의",
      "photoUrl": "https://lh3.googleusercontent.com/a/default-user=s64",
      "userId": "05657577236532280758"
     },
     "user_tz": -540
    },
    "id": "4Pn1pFUnrIMe",
    "outputId": "d9df91a0-cca7-420c-d360-2799eca680bd"
   },
   "outputs": [
    {
     "data": {
      "text/plain": [
       "deque([1, 1])"
      ]
     },
     "execution_count": 33,
     "metadata": {},
     "output_type": "execute_result"
    }
   ],
   "source": [
    "dq"
   ]
  },
  {
   "cell_type": "code",
   "execution_count": null,
   "metadata": {
    "id": "thT86gpQrJId"
   },
   "outputs": [],
   "source": [
    "dq.appendleft(4)"
   ]
  },
  {
   "cell_type": "code",
   "execution_count": null,
   "metadata": {
    "colab": {
     "base_uri": "https://localhost:8080/",
     "height": 164
    },
    "executionInfo": {
     "elapsed": 329,
     "status": "error",
     "timestamp": 1636125450531,
     "user": {
      "displayName": "김정의",
      "photoUrl": "https://lh3.googleusercontent.com/a/default-user=s64",
      "userId": "05657577236532280758"
     },
     "user_tz": -540
    },
    "id": "U4CxvLm3rPw7",
    "outputId": "a9d6cb4d-ba32-4ea8-f347-5a2a94220070"
   },
   "outputs": [
    {
     "ename": "TypeError",
     "evalue": "ignored",
     "output_type": "error",
     "traceback": [
      "\u001b[0;31m---------------------------------------------------------------------------\u001b[0m",
      "\u001b[0;31mTypeError\u001b[0m                                 Traceback (most recent call last)",
      "\u001b[0;32m<ipython-input-36-7b355f2d4495>\u001b[0m in \u001b[0;36m<module>\u001b[0;34m()\u001b[0m\n\u001b[0;32m----> 1\u001b[0;31m \u001b[0mdq\u001b[0m\u001b[0;34m.\u001b[0m\u001b[0mpop\u001b[0m\u001b[0;34m(\u001b[0m\u001b[0;36m0\u001b[0m\u001b[0;34m)\u001b[0m\u001b[0;34m\u001b[0m\u001b[0;34m\u001b[0m\u001b[0m\n\u001b[0m",
      "\u001b[0;31mTypeError\u001b[0m: pop() takes no arguments (1 given)"
     ]
    }
   ],
   "source": [
    "dq.pop(0)"
   ]
  },
  {
   "cell_type": "code",
   "execution_count": null,
   "metadata": {
    "id": "2rsMBhhtrQ0o"
   },
   "outputs": [],
   "source": [
    "dq.reverse()"
   ]
  },
  {
   "cell_type": "code",
   "execution_count": null,
   "metadata": {
    "colab": {
     "base_uri": "https://localhost:8080/"
    },
    "executionInfo": {
     "elapsed": 327,
     "status": "ok",
     "timestamp": 1636125541258,
     "user": {
      "displayName": "김정의",
      "photoUrl": "https://lh3.googleusercontent.com/a/default-user=s64",
      "userId": "05657577236532280758"
     },
     "user_tz": -540
    },
    "id": "w8Jmc_-QrkJg",
    "outputId": "199374bd-5cc9-4f28-faf7-b3a972298ba4"
   },
   "outputs": [
    {
     "data": {
      "text/plain": [
       "1"
      ]
     },
     "execution_count": 38,
     "metadata": {},
     "output_type": "execute_result"
    }
   ],
   "source": [
    "dq.popleft()"
   ]
  },
  {
   "cell_type": "code",
   "execution_count": null,
   "metadata": {
    "colab": {
     "base_uri": "https://localhost:8080/"
    },
    "executionInfo": {
     "elapsed": 23213,
     "status": "ok",
     "timestamp": 1636172181533,
     "user": {
      "displayName": "김정의",
      "photoUrl": "https://lh3.googleusercontent.com/a/default-user=s64",
      "userId": "05657577236532280758"
     },
     "user_tz": -540
    },
    "id": "0g7h8jarrn8o",
    "outputId": "386c516f-c743-4c39-a31c-390450910a1b"
   },
   "outputs": [
    {
     "name": "stdout",
     "output_type": "stream",
     "text": [
      "7 3\n",
      "Tsi\n",
      "h%x\n",
      "asd\n",
      "sdf\n",
      "sdf\n",
      "sdf\n",
      "sdf\n",
      "Thasssss sddddixdffff\n"
     ]
    }
   ],
   "source": [
    "import re\n",
    "\n",
    "n, m = map(int, input().split())\n",
    "a, b = [], \"\"\n",
    "for _ in range(n):\n",
    "    a.append(input())\n",
    "\n",
    "for z in zip(*a):\n",
    "    b += \"\".join(z)\n",
    "\n",
    "print(re.sub(r\"(?<=\\w)([^\\w]+)(?=\\w)\", \" \", b))"
   ]
  },
  {
   "cell_type": "code",
   "execution_count": null,
   "metadata": {
    "colab": {
     "base_uri": "https://localhost:8080/"
    },
    "executionInfo": {
     "elapsed": 290,
     "status": "ok",
     "timestamp": 1636172190811,
     "user": {
      "displayName": "김정의",
      "photoUrl": "https://lh3.googleusercontent.com/a/default-user=s64",
      "userId": "05657577236532280758"
     },
     "user_tz": -540
    },
    "id": "F4CAPWDQdQtG",
    "outputId": "91387f57-6f59-4529-fa92-1a8f17914cca"
   },
   "outputs": [
    {
     "data": {
      "text/plain": [
       "('i', 'x', 'd', 'f', 'f', 'f', 'f')"
      ]
     },
     "execution_count": 4,
     "metadata": {},
     "output_type": "execute_result"
    }
   ],
   "source": [
    "z"
   ]
  },
  {
   "cell_type": "code",
   "execution_count": null,
   "metadata": {
    "colab": {
     "base_uri": "https://localhost:8080/"
    },
    "executionInfo": {
     "elapsed": 303,
     "status": "ok",
     "timestamp": 1636172198078,
     "user": {
      "displayName": "김정의",
      "photoUrl": "https://lh3.googleusercontent.com/a/default-user=s64",
      "userId": "05657577236532280758"
     },
     "user_tz": -540
    },
    "id": "DEsPIIl0dlGq",
    "outputId": "ef9ec21f-28fd-4f91-ae16-eddc16c1912f"
   },
   "outputs": [
    {
     "data": {
      "text/plain": [
       "['Tsi', 'h%x', 'asd', 'sdf', 'sdf', 'sdf', 'sdf']"
      ]
     },
     "execution_count": 5,
     "metadata": {},
     "output_type": "execute_result"
    }
   ],
   "source": [
    "a"
   ]
  },
  {
   "cell_type": "code",
   "execution_count": null,
   "metadata": {
    "id": "k1Ra1s16d3Pd"
   },
   "outputs": [],
   "source": [
    "test = ['ab','sd','cv','th']"
   ]
  },
  {
   "cell_type": "code",
   "execution_count": null,
   "metadata": {
    "colab": {
     "base_uri": "https://localhost:8080/"
    },
    "executionInfo": {
     "elapsed": 310,
     "status": "ok",
     "timestamp": 1636172300165,
     "user": {
      "displayName": "김정의",
      "photoUrl": "https://lh3.googleusercontent.com/a/default-user=s64",
      "userId": "05657577236532280758"
     },
     "user_tz": -540
    },
    "id": "MtOL4VYtd8C7",
    "outputId": "17855b19-e986-453a-966d-385bc963c454"
   },
   "outputs": [
    {
     "name": "stdout",
     "output_type": "stream",
     "text": [
      "('a', 's', 'c', 't')\n",
      "('b', 'd', 'v', 'h')\n"
     ]
    }
   ],
   "source": [
    "for i in zip(*test):\n",
    "  print(i)"
   ]
  },
  {
   "cell_type": "code",
   "execution_count": null,
   "metadata": {
    "colab": {
     "base_uri": "https://localhost:8080/"
    },
    "executionInfo": {
     "elapsed": 310,
     "status": "ok",
     "timestamp": 1636172238116,
     "user": {
      "displayName": "김정의",
      "photoUrl": "https://lh3.googleusercontent.com/a/default-user=s64",
      "userId": "05657577236532280758"
     },
     "user_tz": -540
    },
    "id": "9Kl2eAq3dmtY",
    "outputId": "52e33e54-c189-4b2d-858a-465c325b074c"
   },
   "outputs": [
    {
     "name": "stdout",
     "output_type": "stream",
     "text": [
      "('T', 'h', 'a', 's', 's', 's', 's')\n",
      "('s', '%', 's', 'd', 'd', 'd', 'd')\n",
      "('i', 'x', 'd', 'f', 'f', 'f', 'f')\n"
     ]
    }
   ],
   "source": [
    "for z in zip(*a):\n",
    "  print(z)"
   ]
  },
  {
   "cell_type": "code",
   "execution_count": null,
   "metadata": {
    "id": "sioMqxX5dwkK"
   },
   "outputs": [],
   "source": [
    "# 1번\n"
   ]
  },
  {
   "cell_type": "code",
   "execution_count": null,
   "metadata": {
    "id": "4fqtVvkHpZv3"
   },
   "outputs": [],
   "source": [
    "import math"
   ]
  },
  {
   "cell_type": "code",
   "execution_count": null,
   "metadata": {
    "id": "aJ6dOjzkmXue"
   },
   "outputs": [],
   "source": [
    "4"
   ]
  },
  {
   "cell_type": "code",
   "execution_count": null,
   "metadata": {
    "id": "r6PyxbghoFk3"
   },
   "outputs": [],
   "source": [
    "startHeight = [1,3,5,4,8]\n",
    "descentHeight = [1,2,2,1,2]"
   ]
  },
  {
   "cell_type": "code",
   "execution_count": null,
   "metadata": {
    "id": "Ae2tiiBVmPy4"
   },
   "outputs": [],
   "source": [
    "time =[]\n",
    "for i in range(len(startHeight)):\n",
    "  time.append( startHeight[i] / descentHeight[i] )\n",
    "sorted_time = sorted(time)"
   ]
  },
  {
   "cell_type": "code",
   "execution_count": null,
   "metadata": {
    "id": "kS4QtIbUmW8F"
   },
   "outputs": [],
   "source": [
    "4"
   ]
  },
  {
   "cell_type": "code",
   "execution_count": null,
   "metadata": {
    "colab": {
     "base_uri": "https://localhost:8080/"
    },
    "executionInfo": {
     "elapsed": 7,
     "status": "ok",
     "timestamp": 1636191314263,
     "user": {
      "displayName": "김정의",
      "photoUrl": "https://lh3.googleusercontent.com/a/default-user=s64",
      "userId": "05657577236532280758"
     },
     "user_tz": -540
    },
    "id": "tdLnHg1GmSho",
    "outputId": "5a20f075-2fac-4ea7-8592-b5076b9fdc65"
   },
   "outputs": [
    {
     "data": {
      "text/plain": [
       "[1.0, 1.3333333333333333, 1.5]"
      ]
     },
     "execution_count": 355,
     "metadata": {},
     "output_type": "execute_result"
    }
   ],
   "source": [
    "sorted_time = sorted(time)"
   ]
  },
  {
   "cell_type": "code",
   "execution_count": null,
   "metadata": {
    "id": "URrRW_QrmbAU"
   },
   "outputs": [],
   "source": [
    "4개"
   ]
  },
  {
   "cell_type": "code",
   "execution_count": null,
   "metadata": {
    "id": "Fbgqd4fr3qKg"
   },
   "outputs": [],
   "source": [
    "startHeight = [2,3,4,4,4,4,4,5,6]\n",
    "descentHeight = [1,2,2,2,2,2,2,2,1]"
   ]
  },
  {
   "cell_type": "code",
   "execution_count": null,
   "metadata": {
    "colab": {
     "base_uri": "https://localhost:8080/"
    },
    "executionInfo": {
     "elapsed": 287,
     "status": "ok",
     "timestamp": 1636191841495,
     "user": {
      "displayName": "김정의",
      "photoUrl": "https://lh3.googleusercontent.com/a/default-user=s64",
      "userId": "05657577236532280758"
     },
     "user_tz": -540
    },
    "id": "xSbFEC0vohIR",
    "outputId": "4c89cfd7-d91e-48ba-b0c8-e0da59ea89a2"
   },
   "outputs": [
    {
     "data": {
      "text/plain": [
       "[1.5, 2.0, 2.0, 2.0, 2.0, 2.0, 2.0, 2.5, 6.0]"
      ]
     },
     "execution_count": 358,
     "metadata": {},
     "output_type": "execute_result"
    }
   ],
   "source": [
    "sorted_time"
   ]
  },
  {
   "cell_type": "code",
   "execution_count": null,
   "metadata": {
    "id": "D4cZof3umzMr"
   },
   "outputs": [],
   "source": [
    "2"
   ]
  },
  {
   "cell_type": "code",
   "execution_count": null,
   "metadata": {
    "id": "AAfR-kEG46ho"
   },
   "outputs": [],
   "source": [
    "startHeight = [4,3,1]\n",
    "descentHeight = [3,2,1]"
   ]
  },
  {
   "cell_type": "code",
   "execution_count": null,
   "metadata": {
    "id": "HxoOB9WpogRE"
   },
   "outputs": [],
   "source": []
  },
  {
   "cell_type": "code",
   "execution_count": null,
   "metadata": {
    "colab": {
     "base_uri": "https://localhost:8080/"
    },
    "executionInfo": {
     "elapsed": 697,
     "status": "ok",
     "timestamp": 1636186727557,
     "user": {
      "displayName": "김정의",
      "photoUrl": "https://lh3.googleusercontent.com/a/default-user=s64",
      "userId": "05657577236532280758"
     },
     "user_tz": -540
    },
    "id": "ablbKcHLUrcW",
    "outputId": "b7e25950-e018-4eae-90b1-35b3c27f0bb5"
   },
   "outputs": [
    {
     "name": "stdout",
     "output_type": "stream",
     "text": [
      "(4, 3)\n",
      "(3, 2)\n",
      "(1, 1)\n"
     ]
    }
   ],
   "source": [
    "for pair in zip(startHeight, descentHeight):\n",
    "  \n",
    "  print(pair)\n",
    "  "
   ]
  },
  {
   "cell_type": "code",
   "execution_count": null,
   "metadata": {
    "id": "Bgiz2cJNVCKn"
   },
   "outputs": [],
   "source": []
  },
  {
   "cell_type": "code",
   "execution_count": null,
   "metadata": {
    "id": "rYhs1758Q0Pn"
   },
   "outputs": [],
   "source": [
    "1.333 1.5 1"
   ]
  },
  {
   "cell_type": "code",
   "execution_count": null,
   "metadata": {
    "id": "GMPltvkjQ5nn"
   },
   "outputs": [],
   "source": [
    "for i in r"
   ]
  },
  {
   "cell_type": "code",
   "execution_count": null,
   "metadata": {
    "id": "LAGA3zIE5o7b"
   },
   "outputs": [],
   "source": []
  },
  {
   "cell_type": "code",
   "execution_count": null,
   "metadata": {
    "id": "upwB4ExURUIM"
   },
   "outputs": [],
   "source": [
    "time =[]\n",
    "for i in range(len(startHeight)):\n",
    "  time.append( startHeight[i] / descentHeight[i] )\n",
    "sorted_time = sorted(time)"
   ]
  },
  {
   "cell_type": "code",
   "execution_count": null,
   "metadata": {
    "colab": {
     "base_uri": "https://localhost:8080/"
    },
    "executionInfo": {
     "elapsed": 402,
     "status": "ok",
     "timestamp": 1636186355995,
     "user": {
      "displayName": "김정의",
      "photoUrl": "https://lh3.googleusercontent.com/a/default-user=s64",
      "userId": "05657577236532280758"
     },
     "user_tz": -540
    },
    "id": "XqXEpYQQTmmp",
    "outputId": "5c63d73e-04c9-4cf1-f421-8f9967d946a3"
   },
   "outputs": [
    {
     "data": {
      "text/plain": [
       "[1.0, 1.3333333333333333, 1.5]"
      ]
     },
     "execution_count": 340,
     "metadata": {},
     "output_type": "execute_result"
    }
   ],
   "source": [
    "sorted_time"
   ]
  },
  {
   "cell_type": "code",
   "execution_count": null,
   "metadata": {
    "id": "T5v6wL9bRVW-"
   },
   "outputs": [],
   "source": [
    "sorted_time_down = list(map(lambda x: int(x),sorted_time))"
   ]
  },
  {
   "cell_type": "code",
   "execution_count": null,
   "metadata": {
    "colab": {
     "base_uri": "https://localhost:8080/"
    },
    "executionInfo": {
     "elapsed": 275,
     "status": "ok",
     "timestamp": 1636186230409,
     "user": {
      "displayName": "김정의",
      "photoUrl": "https://lh3.googleusercontent.com/a/default-user=s64",
      "userId": "05657577236532280758"
     },
     "user_tz": -540
    },
    "id": "wTbDO7QPRdMW",
    "outputId": "fc1350b2-2b88-4020-a6cf-19379b50f759"
   },
   "outputs": [
    {
     "data": {
      "text/plain": [
       "[1, 1, 1]"
      ]
     },
     "execution_count": 338,
     "metadata": {},
     "output_type": "execute_result"
    }
   ],
   "source": [
    "sorted_time_down"
   ]
  },
  {
   "cell_type": "code",
   "execution_count": null,
   "metadata": {
    "id": "J0MauLOKR-oI"
   },
   "outputs": [],
   "source": [
    "\n",
    "import copy"
   ]
  },
  {
   "cell_type": "code",
   "execution_count": null,
   "metadata": {
    "id": "wgoaKjyCUG3k"
   },
   "outputs": [],
   "source": [
    "sorted_time_set =list(set(map(lambda x: int(x),sorted_time)))"
   ]
  },
  {
   "cell_type": "code",
   "execution_count": null,
   "metadata": {
    "colab": {
     "base_uri": "https://localhost:8080/"
    },
    "executionInfo": {
     "elapsed": 440,
     "status": "ok",
     "timestamp": 1636186516723,
     "user": {
      "displayName": "김정의",
      "photoUrl": "https://lh3.googleusercontent.com/a/default-user=s64",
      "userId": "05657577236532280758"
     },
     "user_tz": -540
    },
    "id": "cq9pB1lBUOJ_",
    "outputId": "fcda9406-4657-4ade-dcf7-8e337003b05e"
   },
   "outputs": [
    {
     "data": {
      "text/plain": [
       "[1]"
      ]
     },
     "execution_count": 342,
     "metadata": {},
     "output_type": "execute_result"
    }
   ],
   "source": [
    "sorted_time_set"
   ]
  },
  {
   "cell_type": "code",
   "execution_count": null,
   "metadata": {
    "id": "Nx65QDyTUqFp"
   },
   "outputs": [],
   "source": []
  },
  {
   "cell_type": "code",
   "execution_count": null,
   "metadata": {
    "id": "a85Y61SfTT9X"
   },
   "outputs": [],
   "source": [
    "\n",
    "success=0"
   ]
  },
  {
   "cell_type": "code",
   "execution_count": null,
   "metadata": {
    "colab": {
     "base_uri": "https://localhost:8080/",
     "height": 130
    },
    "executionInfo": {
     "elapsed": 320,
     "status": "error",
     "timestamp": 1636186223466,
     "user": {
      "displayName": "김정의",
      "photoUrl": "https://lh3.googleusercontent.com/a/default-user=s64",
      "userId": "05657577236532280758"
     },
     "user_tz": -540
    },
    "id": "UtGguZNXTB-z",
    "outputId": "71245cc7-71fe-4d2a-a45c-455f7a6c87d8"
   },
   "outputs": [
    {
     "ename": "SyntaxError",
     "evalue": "ignored",
     "output_type": "error",
     "traceback": [
      "\u001b[0;36m  File \u001b[0;32m\"<ipython-input-337-71871e1d7636>\"\u001b[0;36m, line \u001b[0;32m2\u001b[0m\n\u001b[0;31m    for i in range(len(sorted_time_down)):\u001b[0m\n\u001b[0m                                          ^\u001b[0m\n\u001b[0;31mSyntaxError\u001b[0m\u001b[0;31m:\u001b[0m unexpected EOF while parsing\n"
     ]
    }
   ],
   "source": [
    "count =0\n",
    "for i in range(len(sorted_time_down)):\n",
    "  if count >=  i :\n",
    "    success+=1\n",
    "\n",
    "    \n",
    "  else:\n",
    "    success+=1\n",
    "    count+=1\n"
   ]
  },
  {
   "cell_type": "code",
   "execution_count": null,
   "metadata": {
    "id": "YwHbxUC8R_ZD"
   },
   "outputs": [],
   "source": [
    "sorted_time_down1 = copy.copy(sorted_time_down)"
   ]
  },
  {
   "cell_type": "code",
   "execution_count": null,
   "metadata": {
    "id": "38CudcTmTAuR"
   },
   "outputs": [],
   "source": [
    "sorted_time_down1"
   ]
  },
  {
   "cell_type": "code",
   "execution_count": null,
   "metadata": {
    "id": "mFlKI4ilSS9p"
   },
   "outputs": [],
   "source": [
    "sorted_time_down_str = ''\n",
    "for i in sorted_time_down:\n",
    "  sorted_time_down_str+=str(i)\n",
    "\n"
   ]
  },
  {
   "cell_type": "code",
   "execution_count": null,
   "metadata": {
    "colab": {
     "base_uri": "https://localhost:8080/",
     "height": 37
    },
    "executionInfo": {
     "elapsed": 311,
     "status": "ok",
     "timestamp": 1636186080818,
     "user": {
      "displayName": "김정의",
      "photoUrl": "https://lh3.googleusercontent.com/a/default-user=s64",
      "userId": "05657577236532280758"
     },
     "user_tz": -540
    },
    "id": "duRt4qo0SjPF",
    "outputId": "18acd506-7d06-4803-ee91-de45274ab10c"
   },
   "outputs": [
    {
     "data": {
      "application/vnd.google.colaboratory.intrinsic+json": {
       "type": "string"
      },
      "text/plain": [
       "'111'"
      ]
     },
     "execution_count": 336,
     "metadata": {},
     "output_type": "execute_result"
    }
   ],
   "source": [
    "sorted_time_down_str"
   ]
  },
  {
   "cell_type": "code",
   "execution_count": null,
   "metadata": {
    "id": "g7f8tzlJScfJ"
   },
   "outputs": [],
   "source": []
  },
  {
   "cell_type": "code",
   "execution_count": null,
   "metadata": {
    "id": "TmDQclnQRgEM"
   },
   "outputs": [],
   "source": [
    "success =''\n",
    "for std in enumerate(sorted_time_down1):\n",
    "  if time >= int(std):\n",
    "    succes.append(time)\n",
    "\n",
    "  \n",
    "  else:\n",
    "    success.append(time)\n",
    "\n",
    "\n"
   ]
  },
  {
   "cell_type": "code",
   "execution_count": null,
   "metadata": {
    "colab": {
     "base_uri": "https://localhost:8080/",
     "height": 164
    },
    "executionInfo": {
     "elapsed": 5,
     "status": "error",
     "timestamp": 1636186994094,
     "user": {
      "displayName": "김정의",
      "photoUrl": "https://lh3.googleusercontent.com/a/default-user=s64",
      "userId": "05657577236532280758"
     },
     "user_tz": -540
    },
    "id": "iWm6jmZvWBxK",
    "outputId": "db500a60-b0ae-4672-d6fd-457183c9988d"
   },
   "outputs": [
    {
     "ename": "NameError",
     "evalue": "ignored",
     "output_type": "error",
     "traceback": [
      "\u001b[0;31m---------------------------------------------------------------------------\u001b[0m",
      "\u001b[0;31mNameError\u001b[0m                                 Traceback (most recent call last)",
      "\u001b[0;32m<ipython-input-345-12dd141ae814>\u001b[0m in \u001b[0;36m<module>\u001b[0;34m()\u001b[0m\n\u001b[0;32m----> 1\u001b[0;31m \u001b[0msolution\u001b[0m\u001b[0;34m(\u001b[0m\u001b[0mstartHeight\u001b[0m\u001b[0;34m,\u001b[0m \u001b[0mdescentRate\u001b[0m\u001b[0;34m)\u001b[0m\u001b[0;34m\u001b[0m\u001b[0;34m\u001b[0m\u001b[0m\n\u001b[0m",
      "\u001b[0;31mNameError\u001b[0m: name 'descentRate' is not defined"
     ]
    }
   ],
   "source": [
    "solution(startHeight, descentRate)"
   ]
  },
  {
   "cell_type": "code",
   "execution_count": 366,
   "metadata": {
    "executionInfo": {
     "elapsed": 906,
     "status": "ok",
     "timestamp": 1636192812837,
     "user": {
      "displayName": "김정의",
      "photoUrl": "https://lh3.googleusercontent.com/a/default-user=s64",
      "userId": "05657577236532280758"
     },
     "user_tz": -540
    },
    "id": "5Z2aqjmgr61b"
   },
   "outputs": [],
   "source": [
    "descentRate = [2,\n",
    "5,\n",
    "6,\n",
    "7,\n",
    "3,\n",
    "2,\n",
    "5,\n",
    "2,\n",
    "6,\n",
    "3,\n",
    "4,\n",
    "2,\n",
    "4,\n",
    "3,\n",
    "5,\n",
    "2,\n",
    "6,\n",
    "7,\n",
    "4,\n",
    "2,\n",
    "2,\n",
    "4,\n",
    "2,\n",
    "4,\n",
    "2,\n",
    "2,\n",
    "8,\n",
    "4,\n",
    "2,\n",
    "2,\n",
    "9,\n",
    "8,\n",
    "6,\n",
    "7,\n",
    "8,\n",
    "9,\n",
    "4,\n",
    "3,\n",
    "4,\n",
    "9,\n",
    "2,\n",
    "2,\n",
    "2,\n",
    "2,\n",
    "9,\n",
    "6,\n",
    "4,\n",
    "7,\n",
    "4,\n",
    "2,\n",
    "4,\n",
    "7,\n",
    "5,\n",
    "6,\n",
    "4,  \n",
    "2,\n",
    "7,\n",
    "3,\n",
    "2,\n",
    "2,\n",
    "3,\n",
    "9,\n",
    "2,\n",
    "5,\n",
    "2,\n",
    "2,\n",
    "5,\n",
    "9,\n",
    "3,\n",
    "2,\n",
    "4,\n",
    "4,\n",
    "10,\n",
    "7,\n",
    "6,\n",
    "6,\n",
    "3,\n",
    "6,\n",
    "2,\n",
    "3,\n",
    "3,\n",
    "3,\n",
    "2,\n",
    "2,\n",
    "5]\n"
   ]
  },
  {
   "cell_type": "code",
   "execution_count": 367,
   "metadata": {
    "executionInfo": {
     "elapsed": 2,
     "status": "ok",
     "timestamp": 1636192812838,
     "user": {
      "displayName": "김정의",
      "photoUrl": "https://lh3.googleusercontent.com/a/default-user=s64",
      "userId": "05657577236532280758"
     },
     "user_tz": -540
    },
    "id": "dW7BVd17sIiL"
   },
   "outputs": [],
   "source": [
    "startHeight = [4,\n",
    "410,\n",
    "540,\n",
    "217,\n",
    "60,\n",
    "66,\n",
    "320,\n",
    "80,\n",
    "372,\n",
    "300,\n",
    "216,\n",
    "72,\n",
    "160,\n",
    "135,\n",
    "310,\n",
    "50,\n",
    "246,\n",
    "196,\n",
    "236,\n",
    "180,\n",
    "120,\n",
    "316,\n",
    "124,\n",
    "92,\n",
    "86,\n",
    "98,\n",
    "488,\n",
    "120,\n",
    "138,\n",
    "14,\n",
    "135,\n",
    "488,\n",
    "24,\n",
    "630,\n",
    "88,\n",
    "468,\n",
    "108,\n",
    "141,\n",
    "180,\n",
    "162,\n",
    "58,\n",
    "174,\n",
    "76,\n",
    "100,\n",
    "432,\n",
    "210,\n",
    "48,\n",
    "224,\n",
    "24,\n",
    "114,\n",
    "276,\n",
    "371,\n",
    "490,\n",
    "252,\n",
    "340,\n",
    "140,\n",
    "504,\n",
    "51,\n",
    "160,\n",
    "118,\n",
    "186,\n",
    "414,\n",
    "196,\n",
    "365,\n",
    "112,\n",
    "74,\n",
    "50,\n",
    "729,\n",
    "96,\n",
    "112,\n",
    "4,\n",
    "136,\n",
    "80,\n",
    "448,\n",
    "84,\n",
    "234,\n",
    "120,\n",
    "348,\n",
    "32,\n",
    "210,\n",
    "15,\n",
    "132,\n",
    "44,\n",
    "38,\n",
    "250]"
   ]
  },
  {
   "cell_type": "code",
   "execution_count": 370,
   "metadata": {
    "executionInfo": {
     "elapsed": 775,
     "status": "ok",
     "timestamp": 1636192837881,
     "user": {
      "displayName": "김정의",
      "photoUrl": "https://lh3.googleusercontent.com/a/default-user=s64",
      "userId": "05657577236532280758"
     },
     "user_tz": -540
    },
    "id": "NzY3kTbDsVQp"
   },
   "outputs": [],
   "source": [
    "time=[]"
   ]
  },
  {
   "cell_type": "code",
   "execution_count": 371,
   "metadata": {
    "executionInfo": {
     "elapsed": 3,
     "status": "ok",
     "timestamp": 1636192837882,
     "user": {
      "displayName": "김정의",
      "photoUrl": "https://lh3.googleusercontent.com/a/default-user=s64",
      "userId": "05657577236532280758"
     },
     "user_tz": -540
    },
    "id": "i9X8i0VMrflp"
   },
   "outputs": [],
   "source": [
    "for i in range(len(startHeight)):\n",
    "  time.append( startHeight[i] / descentRate[i] )\n",
    "sorted_time = sorted(time)\n",
    "count =0\n",
    "for time , down_time in enumerate(sorted_time):\n",
    "  if time >=down_time:\n",
    "    break\n",
    "  else:\n",
    "    count+=1\n"
   ]
  },
  {
   "cell_type": "code",
   "execution_count": 372,
   "metadata": {
    "colab": {
     "base_uri": "https://localhost:8080/"
    },
    "executionInfo": {
     "elapsed": 869,
     "status": "ok",
     "timestamp": 1636192840411,
     "user": {
      "displayName": "김정의",
      "photoUrl": "https://lh3.googleusercontent.com/a/default-user=s64",
      "userId": "05657577236532280758"
     },
     "user_tz": -540
    },
    "id": "nPbwxxrtr9SH",
    "outputId": "c0a763bd-14ae-400c-871d-305f6a995107"
   },
   "outputs": [
    {
     "data": {
      "text/plain": [
       "62"
      ]
     },
     "execution_count": 372,
     "metadata": {},
     "output_type": "execute_result"
    }
   ],
   "source": [
    "count"
   ]
  },
  {
   "cell_type": "code",
   "execution_count": null,
   "metadata": {
    "id": "ZKwlxWa6V_eu"
   },
   "outputs": [],
   "source": [
    "62akwdef solution(startHeight, descentRate):\n",
    "    time =[]\n",
    "    for i in range(len(startHeight)):\n",
    "        time.append( startHeight[i] / descentRate[i] )\n",
    "    sorted_time = sorted(time)\n",
    "\n",
    "    init=[]\n",
    "    for time, down_time in enumerate(sorted_time):\n",
    "        if time >= down_time:\n",
    "            break\n",
    "        else:\n",
    "            init.append(time)\n",
    "\n",
    "    after = sorted_time[len(init):]\n",
    "\n",
    "    new =[]\n",
    "    for i in after:\n",
    "        new.append(math.ceil(i))\n",
    "\n",
    "    check = []\n",
    "    for i in new:\n",
    "        if i == time:\n",
    "            check.append(i)\n",
    "    after = after[len(check):]\n",
    "\n",
    "    return(len(init) + len(set(after)))"
   ]
  },
  {
   "cell_type": "code",
   "execution_count": null,
   "metadata": {
    "colab": {
     "base_uri": "https://localhost:8080/"
    },
    "executionInfo": {
     "elapsed": 275,
     "status": "ok",
     "timestamp": 1636185660017,
     "user": {
      "displayName": "김정의",
      "photoUrl": "https://lh3.googleusercontent.com/a/default-user=s64",
      "userId": "05657577236532280758"
     },
     "user_tz": -540
    },
    "id": "65rjRmNt3nfT",
    "outputId": "1281d142-4d56-40e9-c3f9-a3a734c0ea84"
   },
   "outputs": [
    {
     "name": "stdout",
     "output_type": "stream",
     "text": [
      "[1.0, 1.3333333333333333, 1.5]\n",
      "2\n"
     ]
    }
   ],
   "source": [
    "time =[]\n",
    "for i in range(len(startHeight)):\n",
    "  time.append( startHeight[i] / descentHeight[i] )\n",
    "sorted_time = sorted(time)\n",
    "print(sorted_time)\n",
    "for \n",
    "\n",
    "\n",
    "\n",
    "init=[]\n",
    "for time, down_time in enumerate(sorted_time):\n",
    "  if time >= down_time:\n",
    "    break\n",
    "  else:\n",
    "    init.append(time)\n",
    "\n",
    "after = sorted_time[len(init):]\n",
    "\n",
    "new =[]\n",
    "for i in after:\n",
    "  new.append(math.ceil(i))\n",
    "\n",
    "check = []\n",
    "for i in new:\n",
    "  if i == time:\n",
    "    check.append(i)\n",
    "after = after[len(check):]\n",
    "\n",
    "print(len(init) + len(set(after)))"
   ]
  },
  {
   "cell_type": "code",
   "execution_count": null,
   "metadata": {
    "colab": {
     "base_uri": "https://localhost:8080/"
    },
    "executionInfo": {
     "elapsed": 278,
     "status": "ok",
     "timestamp": 1636179072307,
     "user": {
      "displayName": "김정의",
      "photoUrl": "https://lh3.googleusercontent.com/a/default-user=s64",
      "userId": "05657577236532280758"
     },
     "user_tz": -540
    },
    "id": "XMzSf46D30QD",
    "outputId": "3e368273-fdc8-410f-ec07-b0a1b0bb1905"
   },
   "outputs": [
    {
     "name": "stdout",
     "output_type": "stream",
     "text": [
      "[]\n"
     ]
    }
   ],
   "source": [
    "print(after)"
   ]
  },
  {
   "cell_type": "code",
   "execution_count": null,
   "metadata": {
    "id": "QBBeGqnooNWw"
   },
   "outputs": [],
   "source": [
    "  # 초를 미리계싼해서 정렬"
   ]
  },
  {
   "cell_type": "code",
   "execution_count": null,
   "metadata": {
    "id": "IH_VR0KCoaap"
   },
   "outputs": [],
   "source": [
    "time =[]\n",
    "for i in range(len(startHeight)):\n",
    "  time.append( startHeight[i] / descentHeight[i] )\n"
   ]
  },
  {
   "cell_type": "code",
   "execution_count": null,
   "metadata": {
    "colab": {
     "base_uri": "https://localhost:8080/"
    },
    "executionInfo": {
     "elapsed": 3,
     "status": "ok",
     "timestamp": 1636178927363,
     "user": {
      "displayName": "김정의",
      "photoUrl": "https://lh3.googleusercontent.com/a/default-user=s64",
      "userId": "05657577236532280758"
     },
     "user_tz": -540
    },
    "id": "mJGV-SNb05lI",
    "outputId": "81e06632-b1fc-43b8-9c47-e72f57b38379"
   },
   "outputs": [
    {
     "data": {
      "text/plain": [
       "[2.0, 1.5, 2.0, 2.0, 2.0, 2.0, 2.0, 2.5, 6.0]"
      ]
     },
     "execution_count": 136,
     "metadata": {},
     "output_type": "execute_result"
    }
   ],
   "source": [
    "time"
   ]
  },
  {
   "cell_type": "code",
   "execution_count": null,
   "metadata": {
    "id": "qnVWiE0hpLJ6"
   },
   "outputs": [],
   "source": [
    "sorted_time = sorted(time)"
   ]
  },
  {
   "cell_type": "code",
   "execution_count": null,
   "metadata": {
    "colab": {
     "base_uri": "https://localhost:8080/"
    },
    "executionInfo": {
     "elapsed": 1806,
     "status": "ok",
     "timestamp": 1636178929769,
     "user": {
      "displayName": "김정의",
      "photoUrl": "https://lh3.googleusercontent.com/a/default-user=s64",
      "userId": "05657577236532280758"
     },
     "user_tz": -540
    },
    "id": "11B6AHCY07NO",
    "outputId": "b66dd06c-3c9a-4cc2-bbb2-63922bf9e298"
   },
   "outputs": [
    {
     "data": {
      "text/plain": [
       "[1.5, 2.0, 2.0, 2.0, 2.0, 2.0, 2.0, 2.5, 6.0]"
      ]
     },
     "execution_count": 138,
     "metadata": {},
     "output_type": "execute_result"
    }
   ],
   "source": [
    "sorted_time"
   ]
  },
  {
   "cell_type": "code",
   "execution_count": null,
   "metadata": {
    "id": "nhu7SJF5y8PQ"
   },
   "outputs": [],
   "source": [
    "init=[]\n",
    "for time, down_time in enumerate(sorted_time):\n",
    "  if time >= down_time:\n",
    "    break\n",
    "  else:\n",
    "    init.append(time)\n",
    "\n"
   ]
  },
  {
   "cell_type": "code",
   "execution_count": null,
   "metadata": {
    "id": "9iaXBrAg2til"
   },
   "outputs": [],
   "source": []
  },
  {
   "cell_type": "code",
   "execution_count": null,
   "metadata": {
    "colab": {
     "base_uri": "https://localhost:8080/"
    },
    "executionInfo": {
     "elapsed": 3,
     "status": "ok",
     "timestamp": 1636178931229,
     "user": {
      "displayName": "김정의",
      "photoUrl": "https://lh3.googleusercontent.com/a/default-user=s64",
      "userId": "05657577236532280758"
     },
     "user_tz": -540
    },
    "id": "yoZUwmTb0jAS",
    "outputId": "e23ed1e6-6559-4c7c-903b-9d17db5dcac5"
   },
   "outputs": [
    {
     "data": {
      "text/plain": [
       "[0, 1]"
      ]
     },
     "execution_count": 140,
     "metadata": {},
     "output_type": "execute_result"
    }
   ],
   "source": [
    "init"
   ]
  },
  {
   "cell_type": "code",
   "execution_count": null,
   "metadata": {
    "id": "QTm6Y1d_1f1R"
   },
   "outputs": [],
   "source": [
    "time =[]\n",
    "for i in range(len(startHeight)):\n",
    "  time.append( startHeight[i] / descentHeight[i] )\n",
    "sorted_time = sorted(time)\n",
    "init=[]\n",
    "for time, down_time in enumerate(sorted_time):\n",
    "  if time >= down_time:\n",
    "    break\n",
    "  else:\n",
    "    init.append(time)\n",
    "after = sorted_time[len(init):]\n",
    "while after[0] == time:\n",
    "  after.pop(0)\n",
    "new = []\n",
    "for i in after:\n",
    "  upper = new.append(math.ceil(i))\n",
    "print(len(init) + len(set(new)))"
   ]
  },
  {
   "cell_type": "code",
   "execution_count": null,
   "metadata": {
    "colab": {
     "base_uri": "https://localhost:8080/"
    },
    "executionInfo": {
     "elapsed": 3,
     "status": "ok",
     "timestamp": 1636178933581,
     "user": {
      "displayName": "김정의",
      "photoUrl": "https://lh3.googleusercontent.com/a/default-user=s64",
      "userId": "05657577236532280758"
     },
     "user_tz": -540
    },
    "id": "kkimeXTF1ruU",
    "outputId": "cd9e57a5-cac1-407c-9947-c9d27c2bde73"
   },
   "outputs": [
    {
     "data": {
      "text/plain": [
       "[2.0, 2.0, 2.0, 2.0, 2.0, 2.5, 6.0]"
      ]
     },
     "execution_count": 142,
     "metadata": {},
     "output_type": "execute_result"
    }
   ],
   "source": [
    "after"
   ]
  },
  {
   "cell_type": "code",
   "execution_count": null,
   "metadata": {
    "colab": {
     "base_uri": "https://localhost:8080/"
    },
    "executionInfo": {
     "elapsed": 4,
     "status": "ok",
     "timestamp": 1636178934639,
     "user": {
      "displayName": "김정의",
      "photoUrl": "https://lh3.googleusercontent.com/a/default-user=s64",
      "userId": "05657577236532280758"
     },
     "user_tz": -540
    },
    "id": "BhNIyWQ73Eoh",
    "outputId": "b763caa2-5cf0-4fd6-e39e-4f4fd8febc16"
   },
   "outputs": [
    {
     "data": {
      "text/plain": [
       "2"
      ]
     },
     "execution_count": 143,
     "metadata": {},
     "output_type": "execute_result"
    }
   ],
   "source": [
    "time"
   ]
  },
  {
   "cell_type": "code",
   "execution_count": null,
   "metadata": {
    "colab": {
     "base_uri": "https://localhost:8080/"
    },
    "executionInfo": {
     "elapsed": 3,
     "status": "ok",
     "timestamp": 1636178935469,
     "user": {
      "displayName": "김정의",
      "photoUrl": "https://lh3.googleusercontent.com/a/default-user=s64",
      "userId": "05657577236532280758"
     },
     "user_tz": -540
    },
    "id": "fI36TrC13MPY",
    "outputId": "6f2dfac0-096d-45cf-92df-52a1cc8bef9b"
   },
   "outputs": [
    {
     "data": {
      "text/plain": [
       "2.0"
      ]
     },
     "execution_count": 144,
     "metadata": {},
     "output_type": "execute_result"
    }
   ],
   "source": [
    "after[0]"
   ]
  },
  {
   "cell_type": "code",
   "execution_count": null,
   "metadata": {
    "id": "fvIAbLGj214E"
   },
   "outputs": [],
   "source": [
    "while after[0] == time:\n",
    "  after.pop(0)"
   ]
  },
  {
   "cell_type": "code",
   "execution_count": null,
   "metadata": {
    "colab": {
     "base_uri": "https://localhost:8080/"
    },
    "executionInfo": {
     "elapsed": 4,
     "status": "ok",
     "timestamp": 1636178937165,
     "user": {
      "displayName": "김정의",
      "photoUrl": "https://lh3.googleusercontent.com/a/default-user=s64",
      "userId": "05657577236532280758"
     },
     "user_tz": -540
    },
    "id": "-sXVMDq82-4s",
    "outputId": "1f9a935e-0cfb-46d1-8537-b40e5ba05528"
   },
   "outputs": [
    {
     "data": {
      "text/plain": [
       "[2.5, 6.0]"
      ]
     },
     "execution_count": 146,
     "metadata": {},
     "output_type": "execute_result"
    }
   ],
   "source": [
    "after"
   ]
  },
  {
   "cell_type": "code",
   "execution_count": null,
   "metadata": {
    "id": "eyR3KjSa1zRz"
   },
   "outputs": [],
   "source": [
    "new = []\n",
    "for i in after:\n",
    "  upper = new.append(math.ceil(i))"
   ]
  },
  {
   "cell_type": "code",
   "execution_count": null,
   "metadata": {
    "colab": {
     "base_uri": "https://localhost:8080/"
    },
    "executionInfo": {
     "elapsed": 289,
     "status": "ok",
     "timestamp": 1636178642351,
     "user": {
      "displayName": "김정의",
      "photoUrl": "https://lh3.googleusercontent.com/a/default-user=s64",
      "userId": "05657577236532280758"
     },
     "user_tz": -540
    },
    "id": "3J7UBR7d2INN",
    "outputId": "e4358482-e8b3-4011-8433-92d98c180893"
   },
   "outputs": [
    {
     "name": "stdout",
     "output_type": "stream",
     "text": [
      "5\n"
     ]
    }
   ],
   "source": [
    "print(len(init) + len(set(new)))"
   ]
  },
  {
   "cell_type": "code",
   "execution_count": null,
   "metadata": {
    "colab": {
     "base_uri": "https://localhost:8080/"
    },
    "executionInfo": {
     "elapsed": 823,
     "status": "ok",
     "timestamp": 1636178618595,
     "user": {
      "displayName": "김정의",
      "photoUrl": "https://lh3.googleusercontent.com/a/default-user=s64",
      "userId": "05657577236532280758"
     },
     "user_tz": -540
    },
    "id": "LEg1EPUf2Frm",
    "outputId": "4f03c617-558d-40e5-8843-3ebcda4c3590"
   },
   "outputs": [
    {
     "data": {
      "text/plain": [
       "[2, 2, 2, 2, 2, 3, 6]"
      ]
     },
     "execution_count": 109,
     "metadata": {},
     "output_type": "execute_result"
    }
   ],
   "source": [
    "new"
   ]
  },
  {
   "cell_type": "code",
   "execution_count": null,
   "metadata": {
    "id": "uPm5HTy6183K"
   },
   "outputs": [],
   "source": [
    "upper"
   ]
  },
  {
   "cell_type": "code",
   "execution_count": null,
   "metadata": {
    "colab": {
     "base_uri": "https://localhost:8080/"
    },
    "executionInfo": {
     "elapsed": 4,
     "status": "ok",
     "timestamp": 1636178004739,
     "user": {
      "displayName": "김정의",
      "photoUrl": "https://lh3.googleusercontent.com/a/default-user=s64",
      "userId": "05657577236532280758"
     },
     "user_tz": -540
    },
    "id": "m1ty3xBAzjDK",
    "outputId": "21f601ea-8166-4f7a-faa8-4237e9bc33ae"
   },
   "outputs": [
    {
     "data": {
      "text/plain": [
       "4"
      ]
     },
     "execution_count": 83,
     "metadata": {},
     "output_type": "execute_result"
    }
   ],
   "source": [
    "aresult= len(startHeight)-len(crash)\n",
    "result"
   ]
  },
  {
   "cell_type": "code",
   "execution_count": null,
   "metadata": {
    "colab": {
     "base_uri": "https://localhost:8080/"
    },
    "executionInfo": {
     "elapsed": 269,
     "status": "ok",
     "timestamp": 1636176158946,
     "user": {
      "displayName": "김정의",
      "photoUrl": "https://lh3.googleusercontent.com/a/default-user=s64",
      "userId": "05657577236532280758"
     },
     "user_tz": -540
    },
    "id": "kfVBgIeJsftM",
    "outputId": "45a41dd1-62e5-43ad-c4b6-402b3d34aee7"
   },
   "outputs": [
    {
     "data": {
      "text/plain": [
       "[1.5, 1.5, 2.0]"
      ]
     },
     "execution_count": 46,
     "metadata": {},
     "output_type": "execute_result"
    }
   ],
   "source": [
    "time_sort"
   ]
  },
  {
   "cell_type": "code",
   "execution_count": null,
   "metadata": {
    "id": "AAT4P8SosVZd"
   },
   "outputs": [],
   "source": [
    "2 2 2"
   ]
  },
  {
   "cell_type": "code",
   "execution_count": null,
   "metadata": {
    "colab": {
     "base_uri": "https://localhost:8080/"
    },
    "executionInfo": {
     "elapsed": 286,
     "status": "ok",
     "timestamp": 1636175956367,
     "user": {
      "displayName": "김정의",
      "photoUrl": "https://lh3.googleusercontent.com/a/default-user=s64",
      "userId": "05657577236532280758"
     },
     "user_tz": -540
    },
    "id": "XbO2t6Mgr7vO",
    "outputId": "86ca262f-fd58-4c92-e413-09995390df3e"
   },
   "outputs": [
    {
     "data": {
      "text/plain": [
       "[2, 2]"
      ]
     },
     "execution_count": 36,
     "metadata": {},
     "output_type": "execute_result"
    }
   ],
   "source": [
    "2.5 1.5 1.5 "
   ]
  },
  {
   "cell_type": "code",
   "execution_count": null,
   "metadata": {
    "colab": {
     "base_uri": "https://localhost:8080/"
    },
    "executionInfo": {
     "elapsed": 421,
     "status": "ok",
     "timestamp": 1636175932949,
     "user": {
      "displayName": "김정의",
      "photoUrl": "https://lh3.googleusercontent.com/a/default-user=s64",
      "userId": "05657577236532280758"
     },
     "user_tz": -540
    },
    "id": "4jz8enymr2MP",
    "outputId": "4bc7c3fa-cf10-4cba-deb8-57df858291dd"
   },
   "outputs": [
    {
     "data": {
      "text/plain": [
       "[2, 2]"
      ]
     },
     "execution_count": 34,
     "metadata": {},
     "output_type": "execute_result"
    }
   ],
   "source": [
    "time"
   ]
  },
  {
   "cell_type": "code",
   "execution_count": null,
   "metadata": {
    "colab": {
     "base_uri": "https://localhost:8080/",
     "height": 164
    },
    "executionInfo": {
     "elapsed": 282,
     "status": "error",
     "timestamp": 1636175201598,
     "user": {
      "displayName": "김정의",
      "photoUrl": "https://lh3.googleusercontent.com/a/default-user=s64",
      "userId": "05657577236532280758"
     },
     "user_tz": -540
    },
    "id": "XM_1UTDuovvz",
    "outputId": "f0d61d01-a273-4e91-c64f-ddb16c89e5b5"
   },
   "outputs": [
    {
     "ename": "TypeError",
     "evalue": "ignored",
     "output_type": "error",
     "traceback": [
      "\u001b[0;31m---------------------------------------------------------------------------\u001b[0m",
      "\u001b[0;31mTypeError\u001b[0m                                 Traceback (most recent call last)",
      "\u001b[0;32m<ipython-input-17-6dfe7fb415be>\u001b[0m in \u001b[0;36m<module>\u001b[0;34m()\u001b[0m\n\u001b[0;32m----> 1\u001b[0;31m \u001b[0mtime_round\u001b[0m \u001b[0;34m=\u001b[0m \u001b[0mround\u001b[0m\u001b[0;34m(\u001b[0m\u001b[0mtime\u001b[0m\u001b[0;34m,\u001b[0m\u001b[0;36m1\u001b[0m\u001b[0;34m)\u001b[0m\u001b[0;34m\u001b[0m\u001b[0;34m\u001b[0m\u001b[0m\n\u001b[0m",
      "\u001b[0;31mTypeError\u001b[0m: type list doesn't define __round__ method"
     ]
    }
   ],
   "source": [
    "time_round = round(time,1)"
   ]
  },
  {
   "cell_type": "code",
   "execution_count": null,
   "metadata": {
    "colab": {
     "base_uri": "https://localhost:8080/"
    },
    "executionInfo": {
     "elapsed": 272,
     "status": "ok",
     "timestamp": 1636175355815,
     "user": {
      "displayName": "김정의",
      "photoUrl": "https://lh3.googleusercontent.com/a/default-user=s64",
      "userId": "05657577236532280758"
     },
     "user_tz": -540
    },
    "id": "S3rFbJK7owGk",
    "outputId": "50415a75-eb8d-47d4-9dd2-79483581b9a5"
   },
   "outputs": [
    {
     "data": {
      "text/plain": [
       "4"
      ]
     },
     "execution_count": 25,
     "metadata": {},
     "output_type": "execute_result"
    }
   ],
   "source": [
    "len(set(time))"
   ]
  },
  {
   "cell_type": "code",
   "execution_count": null,
   "metadata": {
    "id": "T9W7FwJ3podV"
   },
   "outputs": [],
   "source": [
    "# 2번"
   ]
  },
  {
   "cell_type": "code",
   "execution_count": null,
   "metadata": {
    "id": "1E50PNZ-tE1Z"
   },
   "outputs": [],
   "source": [
    "# 위치 부터 결정하고"
   ]
  },
  {
   "cell_type": "code",
   "execution_count": null,
   "metadata": {
    "id": "VscYMm4ItXlS"
   },
   "outputs": [],
   "source": [
    "시작은 쌍으로 부터 반대로 시작하고 이런것들 다 append 로 넣어줌 , 부전승 처리 "
   ]
  },
  {
   "cell_type": "code",
   "execution_count": null,
   "metadata": {
    "colab": {
     "base_uri": "https://localhost:8080/"
    },
    "executionInfo": {
     "elapsed": 288,
     "status": "ok",
     "timestamp": 1636176639924,
     "user": {
      "displayName": "김정의",
      "photoUrl": "https://lh3.googleusercontent.com/a/default-user=s64",
      "userId": "05657577236532280758"
     },
     "user_tz": -540
    },
    "id": "wkN--mgEufV4",
    "outputId": "97106202-9b01-488c-cc7c-bf2aff8e2511"
   },
   "outputs": [
    {
     "name": "stdout",
     "output_type": "stream",
     "text": [
      "1\n",
      "3\n"
     ]
    }
   ],
   "source": [
    "for i in range(1,5,2):\n",
    "  print(i)"
   ]
  },
  {
   "cell_type": "code",
   "execution_count": null,
   "metadata": {
    "id": "D_B84BcSunNa"
   },
   "outputs": [],
   "source": [
    "\n",
    "n=8\n",
    "a=3\n",
    "cards='PSSSAAG'"
   ]
  },
  {
   "cell_type": "code",
   "execution_count": null,
   "metadata": {
    "colab": {
     "base_uri": "https://localhost:8080/"
    },
    "executionInfo": {
     "elapsed": 347,
     "status": "ok",
     "timestamp": 1636177275607,
     "user": {
      "displayName": "김정의",
      "photoUrl": "https://lh3.googleusercontent.com/a/default-user=s64",
      "userId": "05657577236532280758"
     },
     "user_tz": -540
    },
    "id": "AZmy2iqwvu6V",
    "outputId": "8f3d3733-bb0d-4668-aed8-416435cbbbab"
   },
   "outputs": [
    {
     "name": "stdout",
     "output_type": "stream",
     "text": [
      "PSSRSAAG\n"
     ]
    }
   ],
   "source": [
    "if n != a+1:\n",
    "  if a %2 ==0:\n",
    "    if cards[a+1] == 'P':\n",
    "      cards = cards[0:a] +'S'+cards[a:]\n",
    "    elif cards[a+1] =='S':\n",
    "      cards = cards[0:a] + 'R' + cards[a:]\n",
    "    else:\n",
    "      cards = cards[0:a] + 'P' + cards[a:]\n",
    "  else:\n",
    "    if cards[a-1] == 'P':\n",
    "      cards = cards[0:a] +'S'+cards[a:]\n",
    "    elif cards[a-1] =='S':\n",
    "      cards = cards[0:a] + 'R' + cards[a:]\n",
    "    else:\n",
    "      cards = cards[0:a] + 'P' + cards[a:] \n",
    "elif n == a+1:\n",
    "  \n",
    "\n",
    "  print(cards)"
   ]
  },
  {
   "cell_type": "code",
   "execution_count": null,
   "metadata": {
    "id": "QaumS_6I-wxI"
   },
   "outputs": [],
   "source": [
    "\n",
    "n=8\n",
    "a=7\n",
    "cards='PSSSAAG'"
   ]
  },
  {
   "cell_type": "code",
   "execution_count": null,
   "metadata": {
    "id": "LoobnPc4-glE"
   },
   "outputs": [],
   "source": [
    "if n != a+1:\n",
    "  if a %2 ==0:\n",
    "    cards = cards[0:a] + 'X' + cards[a:]\n",
    "  else:\n",
    "    cards = cards[0:a] + 'X' + cards[a:] \n",
    "elif n == a+1:\n",
    "  cards = cards +'X'"
   ]
  },
  {
   "cell_type": "code",
   "execution_count": null,
   "metadata": {
    "colab": {
     "base_uri": "https://localhost:8080/"
    },
    "executionInfo": {
     "elapsed": 5,
     "status": "ok",
     "timestamp": 1636180910539,
     "user": {
      "displayName": "김정의",
      "photoUrl": "https://lh3.googleusercontent.com/a/default-user=s64",
      "userId": "05657577236532280758"
     },
     "user_tz": -540
    },
    "id": "jz1HANJE8iR7",
    "outputId": "a7616fd5-4dfb-46dc-ced1-303c617b6341"
   },
   "outputs": [
    {
     "name": "stdout",
     "output_type": "stream",
     "text": [
      "PSSSAAGX\n"
     ]
    }
   ],
   "source": [
    "print(cards)"
   ]
  },
  {
   "cell_type": "code",
   "execution_count": null,
   "metadata": {
    "id": "H7byHhQ4ALEA"
   },
   "outputs": [],
   "source": [
    " left =cards[0:int(len(cards)/2)]"
   ]
  },
  {
   "cell_type": "code",
   "execution_count": null,
   "metadata": {
    "id": "THqukT2dA0Ad"
   },
   "outputs": [],
   "source": [
    "left =cards[0:int(len(cards)/2)]\n",
    "  right = cards[:int(len(cards)/2)]\n",
    "  left_temp = ''\n",
    "  for i in range(0,len(left),2):\n",
    "    if 'P' in left[i:i+2] and 'R' in left[i:i+2]:\n",
    "      left_temp+='P'\n",
    "    elif 'P' in left[i:i+2] and 'S' in left[i:i+2]:\n",
    "      left_temp+='S'\n",
    "    elif 'R' in left[i:i+2] and 'S' in left[i:i+2]:\n",
    "      left_temp+='R'\n",
    "    elif 'X' in left[i:i+2]:\n",
    "      left_temp+='X'\n",
    "    else:\n",
    "      left_temp+=''\n",
    "\n",
    "  right_temp = ''\n",
    "  for i in range(0,len(right),2):\n",
    "    if 'P' in right[i:i+2] and 'R' in right[i:i+2]:\n",
    "      right_temp+='P'\n",
    "    elif 'P' in right[i:i+2] and 'S' in right[i:i+2]:\n",
    "      right_temp+='S'\n",
    "    elif 'R' in right[i:i+2] and 'S' in right[i:i+2]:\n",
    "      right_temp+='R'\n",
    "    elif 'X' in left[i:i+2]:\n",
    "      right_temp+='X'\n",
    "    else:"
   ]
  },
  {
   "cell_type": "code",
   "execution_count": null,
   "metadata": {
    "colab": {
     "base_uri": "https://localhost:8080/",
     "height": 37
    },
    "executionInfo": {
     "elapsed": 298,
     "status": "ok",
     "timestamp": 1636181546882,
     "user": {
      "displayName": "김정의",
      "photoUrl": "https://lh3.googleusercontent.com/a/default-user=s64",
      "userId": "05657577236532280758"
     },
     "user_tz": -540
    },
    "id": "qh1aqJnOA1aq",
    "outputId": "f1e47963-46a8-4a42-9ab3-4aab58d29b9b"
   },
   "outputs": [
    {
     "data": {
      "application/vnd.google.colaboratory.intrinsic+json": {
       "type": "string"
      },
      "text/plain": [
       "'S'"
      ]
     },
     "execution_count": 207,
     "metadata": {},
     "output_type": "execute_result"
    }
   ],
   "source": [
    "left_temp"
   ]
  },
  {
   "cell_type": "code",
   "execution_count": null,
   "metadata": {
    "id": "4gIKCTygBAfQ"
   },
   "outputs": [],
   "source": [
    "left= "
   ]
  },
  {
   "cell_type": "code",
   "execution_count": null,
   "metadata": {
    "colab": {
     "base_uri": "https://localhost:8080/",
     "height": 37
    },
    "executionInfo": {
     "elapsed": 278,
     "status": "ok",
     "timestamp": 1636181408132,
     "user": {
      "displayName": "김정의",
      "photoUrl": "https://lh3.googleusercontent.com/a/default-user=s64",
      "userId": "05657577236532280758"
     },
     "user_tz": -540
    },
    "id": "zckgomQ3ALe5",
    "outputId": "9f56236c-4049-4838-dad4-3ab3eaff878a"
   },
   "outputs": [
    {
     "data": {
      "application/vnd.google.colaboratory.intrinsic+json": {
       "type": "string"
      },
      "text/plain": [
       "'S'"
      ]
     },
     "execution_count": 198,
     "metadata": {},
     "output_type": "execute_result"
    }
   ],
   "source": [
    "left[1:2]"
   ]
  },
  {
   "cell_type": "code",
   "execution_count": null,
   "metadata": {
    "id": "5RZDNyN8CqAc"
   },
   "outputs": [],
   "source": [
    "\n",
    "n=8\n",
    "a=7\n",
    "cards='PSSSAAG'"
   ]
  },
  {
   "cell_type": "code",
   "execution_count": null,
   "metadata": {
    "colab": {
     "base_uri": "https://localhost:8080/"
    },
    "executionInfo": {
     "elapsed": 376,
     "status": "ok",
     "timestamp": 1636182492304,
     "user": {
      "displayName": "김정의",
      "photoUrl": "https://lh3.googleusercontent.com/a/default-user=s64",
      "userId": "05657577236532280758"
     },
     "user_tz": -540
    },
    "id": "B21esrnqE0_X",
    "outputId": "fbdf2f96-c08d-4c71-85d0-797efb35b44b"
   },
   "outputs": [
    {
     "data": {
      "text/plain": [
       "3"
      ]
     },
     "execution_count": 214,
     "metadata": {},
     "output_type": "execute_result"
    }
   ],
   "source": [
    "len(cards)//2"
   ]
  },
  {
   "cell_type": "code",
   "execution_count": null,
   "metadata": {
    "id": "_Z_VqTEvFsnv"
   },
   "outputs": [],
   "source": [
    "ggg='abcde'"
   ]
  },
  {
   "cell_type": "code",
   "execution_count": null,
   "metadata": {
    "colab": {
     "base_uri": "https://localhost:8080/"
    },
    "executionInfo": {
     "elapsed": 386,
     "status": "ok",
     "timestamp": 1636182733458,
     "user": {
      "displayName": "김정의",
      "photoUrl": "https://lh3.googleusercontent.com/a/default-user=s64",
      "userId": "05657577236532280758"
     },
     "user_tz": -540
    },
    "id": "5bXYejfKFuDK",
    "outputId": "d4d5bef7-0775-499e-d3f6-973887b18796"
   },
   "outputs": [
    {
     "name": "stdout",
     "output_type": "stream",
     "text": [
      "0\n",
      "2\n",
      "4\n"
     ]
    }
   ],
   "source": [
    "for i in range(0,len(ggg),2):\n",
    "  print(i)"
   ]
  },
  {
   "cell_type": "code",
   "execution_count": null,
   "metadata": {
    "id": "vFjlxFM-G0f3"
   },
   "outputs": [],
   "source": [
    "\n",
    "n=4\n",
    "a=1\n",
    "cards='PRS'"
   ]
  },
  {
   "cell_type": "code",
   "execution_count": null,
   "metadata": {
    "colab": {
     "base_uri": "https://localhost:8080/",
     "height": 37
    },
    "executionInfo": {
     "elapsed": 3,
     "status": "ok",
     "timestamp": 1636183609000,
     "user": {
      "displayName": "김정의",
      "photoUrl": "https://lh3.googleusercontent.com/a/default-user=s64",
      "userId": "05657577236532280758"
     },
     "user_tz": -540
    },
    "id": "q-fbWkhnGoMG",
    "outputId": "5b67a3e1-6ea8-43f7-bc68-f1ed54a97d07"
   },
   "outputs": [
    {
     "data": {
      "application/vnd.google.colaboratory.intrinsic+json": {
       "type": "string"
      },
      "text/plain": [
       "'PRS'"
      ]
     },
     "execution_count": 279,
     "metadata": {},
     "output_type": "execute_result"
    }
   ],
   "source": [
    "cards"
   ]
  },
  {
   "cell_type": "code",
   "execution_count": null,
   "metadata": {
    "id": "crARytGuGyeG"
   },
   "outputs": [],
   "source": [
    "if n != a+1:\n",
    "  if a %2 ==0:\n",
    "    cards = cards[0:a] + 'X' + cards[a:]\n",
    "  else:\n",
    "    cards = cards[0:a] + 'X' + cards[a:] \n",
    "elif n == a+1:\n",
    "  cards = cards +'X'"
   ]
  },
  {
   "cell_type": "code",
   "execution_count": null,
   "metadata": {
    "colab": {
     "base_uri": "https://localhost:8080/",
     "height": 37
    },
    "executionInfo": {
     "elapsed": 4,
     "status": "ok",
     "timestamp": 1636183610585,
     "user": {
      "displayName": "김정의",
      "photoUrl": "https://lh3.googleusercontent.com/a/default-user=s64",
      "userId": "05657577236532280758"
     },
     "user_tz": -540
    },
    "id": "V4LPlz8oHJFn",
    "outputId": "af8a42be-e09a-485b-fa52-1a6ac994e306"
   },
   "outputs": [
    {
     "data": {
      "application/vnd.google.colaboratory.intrinsic+json": {
       "type": "string"
      },
      "text/plain": [
       "'PXRS'"
      ]
     },
     "execution_count": 281,
     "metadata": {},
     "output_type": "execute_result"
    }
   ],
   "source": [
    "cards"
   ]
  },
  {
   "cell_type": "code",
   "execution_count": null,
   "metadata": {
    "colab": {
     "base_uri": "https://localhost:8080/"
    },
    "executionInfo": {
     "elapsed": 409,
     "status": "ok",
     "timestamp": 1636183612663,
     "user": {
      "displayName": "김정의",
      "photoUrl": "https://lh3.googleusercontent.com/a/default-user=s64",
      "userId": "05657577236532280758"
     },
     "user_tz": -540
    },
    "id": "IZixEMKpH-2q",
    "outputId": "0a51cc11-6433-4a7c-dd68-555b3aeaad4b"
   },
   "outputs": [
    {
     "data": {
      "text/plain": [
       "[]"
      ]
     },
     "execution_count": 282,
     "metadata": {},
     "output_type": "execute_result"
    }
   ],
   "source": [
    "sx"
   ]
  },
  {
   "cell_type": "code",
   "execution_count": null,
   "metadata": {
    "colab": {
     "base_uri": "https://localhost:8080/"
    },
    "executionInfo": {
     "elapsed": 16,
     "status": "ok",
     "timestamp": 1636183612663,
     "user": {
      "displayName": "김정의",
      "photoUrl": "https://lh3.googleusercontent.com/a/default-user=s64",
      "userId": "05657577236532280758"
     },
     "user_tz": -540
    },
    "id": "f7QcoKHXCkVw",
    "outputId": "fcb8a799-4f65-4b5e-cbf8-0e0c34bffdbb"
   },
   "outputs": [
    {
     "name": "stdout",
     "output_type": "stream",
     "text": [
      "XR\n",
      "X\n"
     ]
    }
   ],
   "source": [
    "matching=''\n",
    "while len(cards)>1:\n",
    "    card_temp = ''\n",
    "    if len(cards)%2 ==0:\n",
    "      for i in range(0,len(cards),2):\n",
    "        if 'P' in cards[i:i+2] and 'R' in cards[i:i+2]:\n",
    "          card_temp+='P'\n",
    "        elif 'P' in cards[i:i+2] and 'S' in cards[i:i+2]:\n",
    "          card_temp+='S'\n",
    "        elif 'R' in cards[i:i+2] and 'S' in cards[i:i+2]:\n",
    "          card_temp+='R'\n",
    "        elif 'X' in cards[i:i+2]:\n",
    "          card_temp+='X'\n",
    "          matching += cards[i:i+1]\n",
    "          matching += cards[i+1:i+2]\n",
    "        else:\n",
    "          card_temp+=''\n",
    "    else:\n",
    "      for i in range(0,len(cards),2):\n",
    "        if i == len(cards)-1:\n",
    "          card_temp+=cards[i:i+1]\n",
    "        else:\n",
    "          if 'P' in cards[i:i+2] and 'R' in cards[i:i+2]:\n",
    "            card_temp+='P'\n",
    "          elif 'P' in cards[i:i+2] and 'S' in cards[i:i+2]:\n",
    "            card_temp+='S'\n",
    "          elif 'R' in cards[i:i+2] and 'S' in cards[i:i+2]:\n",
    "            card_temp+='R'\n",
    "          elif 'X' in cards[i:i+2]:\n",
    "            card_temp+='X'\n",
    "            matching += cards[i:i+1]\n",
    "            matching += cards[i+1:i+2]\n",
    "          else:\n",
    "            card_temp+=''\n",
    "    cards = card_temp\n",
    "    print(cards)\n",
    "\n"
   ]
  },
  {
   "cell_type": "code",
   "execution_count": null,
   "metadata": {
    "id": "W3IeiVIHG2FV"
   },
   "outputs": [],
   "source": [
    "matching = matching.replace('X','')"
   ]
  },
  {
   "cell_type": "code",
   "execution_count": null,
   "metadata": {
    "id": "9KTe349YIg5b"
   },
   "outputs": [],
   "source": [
    "matching = matching.replace('X','')\n",
    "sum = 0\n",
    "count=0\n",
    "while count < len(matching)-1:\n",
    "  if matching[count] !=matching[count+1]:\n",
    "    sum+=1\n",
    "    count+=1\n",
    "\n"
   ]
  },
  {
   "cell_type": "code",
   "execution_count": null,
   "metadata": {
    "colab": {
     "base_uri": "https://localhost:8080/"
    },
    "executionInfo": {
     "elapsed": 5,
     "status": "ok",
     "timestamp": 1636183616101,
     "user": {
      "displayName": "김정의",
      "photoUrl": "https://lh3.googleusercontent.com/a/default-user=s64",
      "userId": "05657577236532280758"
     },
     "user_tz": -540
    },
    "id": "xEvY0z4bIyXw",
    "outputId": "dfc08945-6dda-43af-d081-620614aaafab"
   },
   "outputs": [
    {
     "data": {
      "text/plain": [
       "1"
      ]
     },
     "execution_count": 286,
     "metadata": {},
     "output_type": "execute_result"
    }
   ],
   "source": [
    "sum"
   ]
  },
  {
   "cell_type": "code",
   "execution_count": null,
   "metadata": {
    "colab": {
     "base_uri": "https://localhost:8080/",
     "height": 37
    },
    "executionInfo": {
     "elapsed": 327,
     "status": "ok",
     "timestamp": 1636183435633,
     "user": {
      "displayName": "김정의",
      "photoUrl": "https://lh3.googleusercontent.com/a/default-user=s64",
      "userId": "05657577236532280758"
     },
     "user_tz": -540
    },
    "id": "7MmT7O45IdkA",
    "outputId": "66d99a58-5598-42e1-dde7-69233fdf5654"
   },
   "outputs": [
    {
     "data": {
      "application/vnd.google.colaboratory.intrinsic+json": {
       "type": "string"
      },
      "text/plain": [
       "'RS'"
      ]
     },
     "execution_count": 266,
     "metadata": {},
     "output_type": "execute_result"
    }
   ],
   "source": [
    "matching"
   ]
  },
  {
   "cell_type": "code",
   "execution_count": null,
   "metadata": {
    "colab": {
     "base_uri": "https://localhost:8080/"
    },
    "executionInfo": {
     "elapsed": 16,
     "status": "ok",
     "timestamp": 1636183182120,
     "user": {
      "displayName": "김정의",
      "photoUrl": "https://lh3.googleusercontent.com/a/default-user=s64",
      "userId": "05657577236532280758"
     },
     "user_tz": -540
    },
    "id": "153KmAtmGs2Z",
    "outputId": "60167321-8ac6-40e5-d241-07ccf15633ef"
   },
   "outputs": [
    {
     "data": {
      "text/plain": [
       "['R', 'X', 'S', 'X']"
      ]
     },
     "execution_count": 257,
     "metadata": {},
     "output_type": "execute_result"
    }
   ],
   "source": [
    "matching"
   ]
  },
  {
   "cell_type": "code",
   "execution_count": null,
   "metadata": {
    "id": "4CpLaAzDD0sv"
   },
   "outputs": [],
   "source": [
    "import math"
   ]
  },
  {
   "cell_type": "code",
   "execution_count": null,
   "metadata": {
    "id": "OLnI7r4-Eo2j"
   },
   "outputs": [],
   "source": []
  },
  {
   "cell_type": "code",
   "execution_count": null,
   "metadata": {
    "id": "ziGfTjE8-42I"
   },
   "outputs": [],
   "source": [
    "def games(cards):\n",
    "  while len(cards)>1:\n",
    "    matching =[]\n",
    "    if len(cards) ==1:\n",
    "      return\n",
    "      0,1,2 ,3, 4\n",
    "      0   1,2\n",
    "    left =cards[0:int(len(cards)/2)]\n",
    "    right = cards[:int(len(cards)/2)]\n",
    "    left_temp = ''\n",
    "    for i in range(0,len(left),2):\n",
    "      if 'P' in left[i:i+2] and 'R' in left[i:i+2]:\n",
    "        left_temp+='P'\n",
    "      elif 'P' in left[i:i+2] and 'S' in left[i:i+2]:\n",
    "        left_temp+='S'\n",
    "      elif 'R' in left[i:i+2] and 'S' in left[i:i+2]:\n",
    "        left_temp+='R'\n",
    "      elif 'X' in left[i:i+2]:\n",
    "        left_temp+='X'\n",
    "\n",
    "      else:\n",
    "        left_temp+=''\n",
    "\n",
    "    right_temp = ''\n",
    "    for i in range(0,len(right),2):\n",
    "      if 'P' in right[i:i+2] and 'R' in right[i:i+2]:\n",
    "        right_temp+='P'\n",
    "      elif 'P' in right[i:i+2] and 'S' in right[i:i+2]:\n",
    "        right_temp+='S'\n",
    "      elif 'R' in right[i:i+2] and 'S' in right[i:i+2]:\n",
    "        right_temp+='R'\n",
    "      elif 'X' in left[i:i+2]:\n",
    "        right_temp+='X'\n",
    "      else:\n",
    "        right_temp+=''\n",
    "      \n",
    "      cards = left+right_temp\n",
    "\n",
    "    \n",
    "  \n",
    "\n",
    "\n",
    "\n"
   ]
  },
  {
   "cell_type": "code",
   "execution_count": null,
   "metadata": {
    "id": "C9sPm3fiCri1"
   },
   "outputs": [],
   "source": []
  },
  {
   "cell_type": "code",
   "execution_count": null,
   "metadata": {
    "id": "V080jHpOxbx7"
   },
   "outputs": [],
   "source": [
    "11\n",
    "2 2 2.2 2\n",
    " 2 "
   ]
  },
  {
   "cell_type": "code",
   "execution_count": null,
   "metadata": {
    "id": "BgPG4YY2xXGm"
   },
   "outputs": [],
   "source": [
    "길이가 2의 복수일떄까지 줄어듬"
   ]
  },
  {
   "cell_type": "code",
   "execution_count": null,
   "metadata": {
    "id": "hQ04Uz7xxUH7"
   },
   "outputs": [],
   "source": [
    "3"
   ]
  },
  {
   "cell_type": "code",
   "execution_count": null,
   "metadata": {
    "colab": {
     "base_uri": "https://localhost:8080/",
     "height": 37
    },
    "executionInfo": {
     "elapsed": 317,
     "status": "ok",
     "timestamp": 1636177186426,
     "user": {
      "displayName": "김정의",
      "photoUrl": "https://lh3.googleusercontent.com/a/default-user=s64",
      "userId": "05657577236532280758"
     },
     "user_tz": -540
    },
    "id": "mCaICKOzwoOH",
    "outputId": "f80b4e12-08b7-47bc-f152-2423d6cdec59"
   },
   "outputs": [
    {
     "data": {
      "application/vnd.google.colaboratory.intrinsic+json": {
       "type": "string"
      },
      "text/plain": [
       "'PSRSSAAG'"
      ]
     },
     "execution_count": 58,
     "metadata": {},
     "output_type": "execute_result"
    }
   ],
   "source": [
    "cards"
   ]
  },
  {
   "cell_type": "code",
   "execution_count": null,
   "metadata": {
    "colab": {
     "base_uri": "https://localhost:8080/",
     "height": 37
    },
    "executionInfo": {
     "elapsed": 277,
     "status": "ok",
     "timestamp": 1636176933166,
     "user": {
      "displayName": "김정의",
      "photoUrl": "https://lh3.googleusercontent.com/a/default-user=s64",
      "userId": "05657577236532280758"
     },
     "user_tz": -540
    },
    "id": "nT399QYfu7Oz",
    "outputId": "833361f5-40d2-4b8e-b3cf-55d1bf934488"
   },
   "outputs": [
    {
     "data": {
      "application/vnd.google.colaboratory.intrinsic+json": {
       "type": "string"
      },
      "text/plain": [
       "'S'"
      ]
     },
     "execution_count": 53,
     "metadata": {},
     "output_type": "execute_result"
    }
   ],
   "source": [
    "cards[a-1]"
   ]
  },
  {
   "cell_type": "code",
   "execution_count": null,
   "metadata": {
    "id": "MhyKSU5Zu2vs"
   },
   "outputs": [],
   "source": [
    "if ca"
   ]
  },
  {
   "cell_type": "code",
   "execution_count": null,
   "metadata": {
    "colab": {
     "base_uri": "https://localhost:8080/"
    },
    "executionInfo": {
     "elapsed": 4,
     "status": "ok",
     "timestamp": 1636176686699,
     "user": {
      "displayName": "김정의",
      "photoUrl": "https://lh3.googleusercontent.com/a/default-user=s64",
      "userId": "05657577236532280758"
     },
     "user_tz": -540
    },
    "id": "naZB1TSKtyCR",
    "outputId": "d947e12b-bc51-4e5b-eb7f-0cdf203fd3a2"
   },
   "outputs": [
    {
     "name": "stdout",
     "output_type": "stream",
     "text": [
      "0\n"
     ]
    }
   ],
   "source": [
    "jordi = []\n",
    "for i in range(0,len(cards),2):\n",
    "  print(i)\n",
    "\n",
    "# if a == n-1:\n",
    "#   cards\n",
    "\n"
   ]
  },
  {
   "cell_type": "code",
   "execution_count": null,
   "metadata": {
    "id": "6o1K01OautNk"
   },
   "outputs": [],
   "source": [
    "3 번"
   ]
  },
  {
   "cell_type": "code",
   "execution_count": null,
   "metadata": {
    "id": "0A4XTYrNL1QM"
   },
   "outputs": [],
   "source": [
    "from collections import deque"
   ]
  },
  {
   "cell_type": "code",
   "execution_count": null,
   "metadata": {
    "id": "2y_tQI2SNq95"
   },
   "outputs": [],
   "source": [
    "n=7\n",
    "startRow = 6\n",
    "startCol = 6\n",
    "endRow = 0\n",
    "endCol = 1"
   ]
  },
  {
   "cell_type": "code",
   "execution_count": null,
   "metadata": {
    "id": "KpoxhXYMLxjr"
   },
   "outputs": [],
   "source": [
    "from collections import deque\n",
    "\n",
    "dx = [-1, -2, -2, -1, 1, 2, 2, 1]\n",
    "dy = [2, 1, -1, -2, -2, -1, 1, 2]\n",
    "def bfs(startRow, startCol, endRow, endCol):\n",
    "    q = deque()\n",
    "    q.append([startRow, startCol])\n",
    "    chess[startRow][startCol] = 1\n",
    "    while q:\n",
    "        a, b = q.popleft()\n",
    "        if a == endRow and b == endCol:\n",
    "            return(chess[endRow][endCol] -1)\n",
    "           \n",
    "        for i in range(8):\n",
    "            x = a + dx[i]\n",
    "            y = b + dy[i]\n",
    "            if 0 <= x < n and 0 <= y < n and chess[x][y] == 0:\n",
    "                q.append([x, y])\n",
    "                chess[x][y] = chess[a][b] + 1"
   ]
  },
  {
   "cell_type": "code",
   "execution_count": null,
   "metadata": {
    "colab": {
     "base_uri": "https://localhost:8080/"
    },
    "executionInfo": {
     "elapsed": 4,
     "status": "ok",
     "timestamp": 1636185134007,
     "user": {
      "displayName": "김정의",
      "photoUrl": "https://lh3.googleusercontent.com/a/default-user=s64",
      "userId": "05657577236532280758"
     },
     "user_tz": -540
    },
    "id": "dnYmLf8HNpiy",
    "outputId": "7cff9734-b126-4491-9fb3-a5ff647d48a3"
   },
   "outputs": [
    {
     "data": {
      "text/plain": [
       "5"
      ]
     },
     "execution_count": 321,
     "metadata": {},
     "output_type": "execute_result"
    }
   ],
   "source": [
    "chess = [[0] * n for i in range(n)]\n",
    "bfs(startRow, startCol, endRow, endCol)"
   ]
  },
  {
   "cell_type": "code",
   "execution_count": null,
   "metadata": {
    "id": "LW476CLtN6Zp"
   },
   "outputs": [],
   "source": [
    "from collections import deque\n",
    "\n",
    "def solution(n, startRow, startCol, endRow, endCol):\n",
    "    dx = [-1, -2, -2, -1, 1, 2, 2, 1]\n",
    "    dy = [2, 1, -1, -2, -2, -1, 1, 2]\n",
    "    \n",
    "    def bfs(startRow, startCol, endRow, endCol):\n",
    "        q = deque()\n",
    "        q.append([startRow, startCol])\n",
    "        chess[startRow][startCol] = 1\n",
    "        while q:\n",
    "            a, b = q.popleft()\n",
    "            if a == endRow and b == endCol:\n",
    "                return(chess[endRow][endCol] -1)\n",
    "            \n",
    "            for i in range(8):\n",
    "                x = a + dx[i]\n",
    "                y = b + dy[i]\n",
    "                if 0 <= x < n and 0 <= y < n and chess[x][y] == 0:\n",
    "                    q.append([x, y])\n",
    "                    chess[x][y] = chess[a][b] + 1\n",
    "    chess = [[0] * n for i in range(n)]\n",
    "    \n",
    "    return bfs(startRow, startCol, endRow, endCol)"
   ]
  },
  {
   "cell_type": "code",
   "execution_count": null,
   "metadata": {
    "colab": {
     "base_uri": "https://localhost:8080/"
    },
    "executionInfo": {
     "elapsed": 291,
     "status": "ok",
     "timestamp": 1636185315792,
     "user": {
      "displayName": "김정의",
      "photoUrl": "https://lh3.googleusercontent.com/a/default-user=s64",
      "userId": "05657577236532280758"
     },
     "user_tz": -540
    },
    "id": "UrwGzYQpPns4",
    "outputId": "13589974-a9a0-4fa5-bdec-290181dd6298"
   },
   "outputs": [
    {
     "data": {
      "text/plain": [
       "5"
      ]
     },
     "execution_count": 323,
     "metadata": {},
     "output_type": "execute_result"
    }
   ],
   "source": [
    "solution(n, startRow, startCol, endRow, endCol)"
   ]
  },
  {
   "cell_type": "code",
   "execution_count": null,
   "metadata": {
    "id": "g6sF7bg1NfFO"
   },
   "outputs": [],
   "source": [
    "bfs()"
   ]
  },
  {
   "cell_type": "code",
   "execution_count": null,
   "metadata": {
    "colab": {
     "base_uri": "https://localhost:8080/",
     "height": 164
    },
    "executionInfo": {
     "elapsed": 414,
     "status": "error",
     "timestamp": 1636184737067,
     "user": {
      "displayName": "김정의",
      "photoUrl": "https://lh3.googleusercontent.com/a/default-user=s64",
      "userId": "05657577236532280758"
     },
     "user_tz": -540
    },
    "id": "N2HSXR4jNHuJ",
    "outputId": "c07a08f1-040b-4c9c-a0b0-9dd71d1da987"
   },
   "outputs": [
    {
     "ename": "NameError",
     "evalue": "ignored",
     "output_type": "error",
     "traceback": [
      "\u001b[0;31m---------------------------------------------------------------------------\u001b[0m",
      "\u001b[0;31mNameError\u001b[0m                                 Traceback (most recent call last)",
      "\u001b[0;32m<ipython-input-293-ded5ba42480f>\u001b[0m in \u001b[0;36m<module>\u001b[0;34m()\u001b[0m\n\u001b[0;32m----> 1\u001b[0;31m \u001b[0ms\u001b[0m\u001b[0;34m\u001b[0m\u001b[0;34m\u001b[0m\u001b[0m\n\u001b[0m",
      "\u001b[0;31mNameError\u001b[0m: name 's' is not defined"
     ]
    }
   ],
   "source": [
    "s"
   ]
  },
  {
   "cell_type": "code",
   "execution_count": null,
   "metadata": {
    "id": "SbwPQBgEMiEQ"
   },
   "outputs": [],
   "source": [
    "n=10\n",
    "startRow = 0\n",
    "startCol = 0\n",
    "endRow = 0\n",
    "endCol = 0"
   ]
  },
  {
   "cell_type": "code",
   "execution_count": null,
   "metadata": {
    "id": "-_sQPE8nMERK"
   },
   "outputs": [],
   "source": [
    "n = int(input())\n",
    "sx, sy = map(int, input().split())\n",
    "ax, ay = map(int, input().split())\n",
    "s = [[0] * n for i in range(n)]\n",
    "bfs(sx, sy, ax, ay)"
   ]
  }
 ],
 "metadata": {
  "colab": {
   "authorship_tag": "ABX9TyNuuNt+t3rLQXogRUljSzV2",
   "collapsed_sections": [],
   "machine_shape": "hm",
   "name": "DFS BFS 복습.ipynb",
   "provenance": []
  },
  "kernelspec": {
   "display_name": "Python 3 (ipykernel)",
   "language": "python",
   "name": "python3"
  },
  "language_info": {
   "codemirror_mode": {
    "name": "ipython",
    "version": 3
   },
   "file_extension": ".py",
   "mimetype": "text/x-python",
   "name": "python",
   "nbconvert_exporter": "python",
   "pygments_lexer": "ipython3",
   "version": "3.9.7"
  }
 },
 "nbformat": 4,
 "nbformat_minor": 1
}
