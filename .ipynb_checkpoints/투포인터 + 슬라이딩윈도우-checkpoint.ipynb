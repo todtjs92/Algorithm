{
 "cells": [
  {
   "cell_type": "markdown",
   "id": "2a019290",
   "metadata": {},
   "source": [
    "## 빗물양  "
   ]
  },
  {
   "cell_type": "code",
   "execution_count": 23,
   "id": "ad56bde4",
   "metadata": {},
   "outputs": [],
   "source": [
    "input_ = [0,1,0,2,1,0,1,3,2,1,2,1]"
   ]
  },
  {
   "cell_type": "markdown",
   "id": "3819b36b",
   "metadata": {},
   "source": [
    "# 문제2"
   ]
  },
  {
   "cell_type": "code",
   "execution_count": 25,
   "id": "09cdca73",
   "metadata": {},
   "outputs": [],
   "source": [
    "# 리스트를 오름차순으로 정렬한다.\n",
    "# 포인터 left는 리스트의 시작점을, 포인터 right는 리스트의 끝점을 가리킨다.\n",
    "# left와 right가 만날 때 까지(즉, 모든 경우를 확인할 때 까지) 다음을 반복한다.\n",
    "# 3-1. A[left]와 A[right]의 합이 타겟 값(S)과 같다면 조건을 만족하므로 출력하고, left를 1 증가, right를 1 감소시킨다.\n",
    "# 3-2. A[left]와 A[right]의 합이 타겟 값(S)보다 작다면 left를 1 증가시킨다.\n",
    "# 3-3. A[left]와 A[right]의 합이 타겟 값(S)보다 크다면 right를 1 감소시킨다."
   ]
  },
  {
   "cell_type": "code",
   "execution_count": 50,
   "id": "fe351fd4",
   "metadata": {},
   "outputs": [],
   "source": [
    "# Q. 정렬된 리스트 A와 타겟 값 S가 주어졌을 때, 두 수의 합이 S가 되는 순서쌍을 모두 구하여라.\n",
    "A = [1, 3, 5, 6, 9, 11, 12, 16, 17, 19, 22, 25, 28]\n",
    "S = 27 "
   ]
  },
  {
   "cell_type": "code",
   "execution_count": 51,
   "id": "4fe3a4f0",
   "metadata": {},
   "outputs": [],
   "source": [
    "left =0\n",
    "right = len(A)-1"
   ]
  },
  {
   "cell_type": "code",
   "execution_count": 52,
   "id": "4407ddfc",
   "metadata": {},
   "outputs": [
    {
     "data": {
      "text/plain": [
       "0"
      ]
     },
     "execution_count": 52,
     "metadata": {},
     "output_type": "execute_result"
    }
   ],
   "source": [
    "left"
   ]
  },
  {
   "cell_type": "code",
   "execution_count": 53,
   "id": "d899e8a6",
   "metadata": {},
   "outputs": [
    {
     "data": {
      "text/plain": [
       "12"
      ]
     },
     "execution_count": 53,
     "metadata": {},
     "output_type": "execute_result"
    }
   ],
   "source": [
    "right"
   ]
  },
  {
   "cell_type": "code",
   "execution_count": 54,
   "id": "afdaef63",
   "metadata": {},
   "outputs": [
    {
     "data": {
      "text/plain": [
       "0"
      ]
     },
     "execution_count": 54,
     "metadata": {},
     "output_type": "execute_result"
    }
   ],
   "source": [
    "left"
   ]
  },
  {
   "cell_type": "code",
   "execution_count": 55,
   "id": "36dcc897",
   "metadata": {},
   "outputs": [
    {
     "data": {
      "text/plain": [
       "12"
      ]
     },
     "execution_count": 55,
     "metadata": {},
     "output_type": "execute_result"
    }
   ],
   "source": [
    "right"
   ]
  },
  {
   "cell_type": "code",
   "execution_count": 56,
   "id": "c6954612",
   "metadata": {},
   "outputs": [],
   "source": [
    "answer =[]\n",
    "while left != right:\n",
    "    if A[left] + A[right] == S:\n",
    "        answer.append([A[left],A[right]])\n",
    "        left +=1\n",
    "        right -=1\n",
    "    elif A[left] + A[right] < S:\n",
    "        left +=1\n",
    "    elif A[left] + A[right] > S:\n",
    "        right -=1"
   ]
  },
  {
   "cell_type": "code",
   "execution_count": 57,
   "id": "b435650b",
   "metadata": {},
   "outputs": [
    {
     "data": {
      "text/plain": [
       "[[5, 22], [11, 16]]"
      ]
     },
     "execution_count": 57,
     "metadata": {},
     "output_type": "execute_result"
    }
   ],
   "source": [
    "answer"
   ]
  },
  {
   "cell_type": "code",
   "execution_count": null,
   "id": "7417c06e",
   "metadata": {},
   "outputs": [],
   "source": []
  },
  {
   "cell_type": "code",
   "execution_count": null,
   "id": "1876393a",
   "metadata": {},
   "outputs": [],
   "source": []
  },
  {
   "cell_type": "code",
   "execution_count": null,
   "id": "20d70c8e",
   "metadata": {},
   "outputs": [],
   "source": []
  },
  {
   "cell_type": "code",
   "execution_count": null,
   "id": "b23d2d14",
   "metadata": {},
   "outputs": [],
   "source": []
  },
  {
   "cell_type": "markdown",
   "id": "708e14ac",
   "metadata": {},
   "source": [
    "## 주어진 슬라이딩 윈도우에서 최대값 구하기"
   ]
  },
  {
   "cell_type": "code",
   "execution_count": 1,
   "id": "8a2d8ab1",
   "metadata": {},
   "outputs": [],
   "source": [
    "nums = [1,3,-1,-3,5,3,6,7]\n",
    "k = 3"
   ]
  },
  {
   "cell_type": "code",
   "execution_count": 2,
   "id": "8c454d66",
   "metadata": {},
   "outputs": [],
   "source": [
    "import collections"
   ]
  },
  {
   "cell_type": "markdown",
   "id": "3913ed24",
   "metadata": {},
   "source": [
    "### 이게 더빠르다고??"
   ]
  },
  {
   "cell_type": "code",
   "execution_count": null,
   "id": "4ea3041a",
   "metadata": {},
   "outputs": [],
   "source": [
    "def maxSliding(nums,k):\n",
    "    results=[]\n",
    "    window = collections.deque()\n",
    "    current_max = float('-inf')\n",
    "    \n",
    "    # window 3 안되면 넘기는 코드\n",
    "    \n",
    "    for i , v in enumerate(nums):\n",
    "        window.append(v)\n",
    "        \n",
    "        if i < k-1 :\n",
    "            continue\n",
    "            \n",
    "        \n",
    "        if current_max == float('-inf'):\n",
    "            current_max = max(window)\n",
    "        \n",
    "        elif v > current_max:\n",
    "            current_max = v\n",
    "            \n",
    "        \n",
    "    "
   ]
  },
  {
   "cell_type": "markdown",
   "id": "3334e2f4",
   "metadata": {},
   "source": [
    "# 묹제2"
   ]
  },
  {
   "cell_type": "markdown",
   "id": "0dab1a93",
   "metadata": {},
   "source": [
    "S에서 T 포함된 최소  윈도우 찾ㅈ기"
   ]
  },
  {
   "cell_type": "code",
   "execution_count": 3,
   "id": "4129f26d",
   "metadata": {},
   "outputs": [],
   "source": [
    "S = 'ADOBECODEBANC'\n",
    "T  = 'ABC'"
   ]
  },
  {
   "cell_type": "code",
   "execution_count": 4,
   "id": "df9facb0",
   "metadata": {},
   "outputs": [],
   "source": [
    "# 투포인터 , 윈도우"
   ]
  },
  {
   "cell_type": "code",
   "execution_count": 11,
   "id": "306959b3",
   "metadata": {},
   "outputs": [],
   "source": [
    "need = collections.Counter(T)"
   ]
  },
  {
   "cell_type": "code",
   "execution_count": 12,
   "id": "c32090bb",
   "metadata": {},
   "outputs": [
    {
     "data": {
      "text/plain": [
       "Counter({'A': 1, 'B': 1, 'C': 1})"
      ]
     },
     "execution_count": 12,
     "metadata": {},
     "output_type": "execute_result"
    }
   ],
   "source": [
    "need"
   ]
  },
  {
   "cell_type": "code",
   "execution_count": 19,
   "id": "275657ab",
   "metadata": {},
   "outputs": [],
   "source": [
    "def minWindow(s,t):\n",
    "    need = collections.Counter(t)\n",
    "    missing  =len(t)\n",
    "    left = start =end =  0\n",
    "    \n",
    "    # 오른쪽 포인터 이동\n",
    "    for right , char in enumerate(s,1): # 이러면 인덱스 1부터 시작이구나 1, A\n",
    "        print(missing,'앞')\n",
    "        missing -= need[char] > 0\n",
    "        print(missing,'뒤')\n",
    "        \n",
    "        need[char] -= 1\n",
    "        \n",
    "        if missing ==0:\n",
    "            while left < right and need[s[left]] < 0:\n",
    "                need[s[left]] += 1\n",
    "                left +=1\n",
    "                \n",
    "            \n",
    "            \n",
    "            if not end or right - left <= end-start:\n",
    "                start, end = left, right\n",
    "      \n",
    "            need[s[left]] +=1\n",
    "            missing +=1\n",
    "            left +=1\n",
    "    \n",
    "    return s[start:end]"
   ]
  },
  {
   "cell_type": "code",
   "execution_count": null,
   "id": "96954045",
   "metadata": {},
   "outputs": [],
   "source": []
  },
  {
   "cell_type": "code",
   "execution_count": 20,
   "id": "b27ec8b7",
   "metadata": {},
   "outputs": [
    {
     "name": "stdout",
     "output_type": "stream",
     "text": [
      "3 앞\n",
      "2 뒤\n",
      "2 앞\n",
      "2 뒤\n",
      "2 앞\n",
      "2 뒤\n",
      "2 앞\n",
      "1 뒤\n",
      "1 앞\n",
      "1 뒤\n",
      "1 앞\n",
      "0 뒤\n",
      "1 앞\n",
      "1 뒤\n",
      "1 앞\n",
      "1 뒤\n",
      "1 앞\n",
      "1 뒤\n",
      "1 앞\n",
      "1 뒤\n",
      "1 앞\n",
      "0 뒤\n",
      "1 앞\n",
      "1 뒤\n",
      "1 앞\n",
      "0 뒤\n"
     ]
    },
    {
     "data": {
      "text/plain": [
       "'BANC'"
      ]
     },
     "execution_count": 20,
     "metadata": {},
     "output_type": "execute_result"
    }
   ],
   "source": [
    "minWindow(S,T)"
   ]
  },
  {
   "cell_type": "code",
   "execution_count": null,
   "id": "e6e96cc1",
   "metadata": {},
   "outputs": [],
   "source": []
  },
  {
   "cell_type": "code",
   "execution_count": 9,
   "id": "6e392508",
   "metadata": {},
   "outputs": [
    {
     "name": "stdout",
     "output_type": "stream",
     "text": [
      "1 A\n",
      "2 D\n",
      "3 O\n",
      "4 B\n",
      "5 E\n",
      "6 C\n",
      "7 O\n",
      "8 D\n",
      "9 E\n",
      "10 B\n",
      "11 A\n",
      "12 N\n",
      "13 C\n"
     ]
    }
   ],
   "source": [
    "for x,y in enumerate(S,1):\n",
    "    print(x,y)"
   ]
  },
  {
   "cell_type": "markdown",
   "id": "3a06e2bf",
   "metadata": {},
   "source": [
    "## 백준 게으른 백곰"
   ]
  },
  {
   "cell_type": "code",
   "execution_count": 5,
   "id": "0de38c6c",
   "metadata": {},
   "outputs": [
    {
     "name": "stdout",
     "output_type": "stream",
     "text": [
      "4 3\n"
     ]
    }
   ],
   "source": [
    "N , K = map(int,  input().split(' ') )"
   ]
  },
  {
   "cell_type": "code",
   "execution_count": 6,
   "id": "1ca7e3c3",
   "metadata": {},
   "outputs": [
    {
     "name": "stdout",
     "output_type": "stream",
     "text": [
      "4 7\n",
      "10 15\n",
      "2 2\n",
      "5 1\n"
     ]
    }
   ],
   "source": [
    "map_ = [0 for x in range(100001)]\n",
    "for _ in range(N):\n",
    "    a,b  = map(int,  input().split(' ') )\n",
    "    map_[b] = a\n",
    "    \n",
    "    "
   ]
  },
  {
   "cell_type": "code",
   "execution_count": 32,
   "id": "ef479107",
   "metadata": {},
   "outputs": [],
   "source": [
    "window_width = 2*K +1"
   ]
  },
  {
   "cell_type": "code",
   "execution_count": 33,
   "id": "a323ad9c",
   "metadata": {},
   "outputs": [],
   "source": [
    "window_sum = sum(map_[0:window_width])\n",
    "    "
   ]
  },
  {
   "cell_type": "code",
   "execution_count": 34,
   "id": "c126b5ed",
   "metadata": {},
   "outputs": [
    {
     "data": {
      "text/plain": [
       "7"
      ]
     },
     "execution_count": 34,
     "metadata": {},
     "output_type": "execute_result"
    }
   ],
   "source": [
    "window_sum"
   ]
  },
  {
   "cell_type": "code",
   "execution_count": 35,
   "id": "f1bc3bdc",
   "metadata": {},
   "outputs": [],
   "source": [
    "answer = window_sum"
   ]
  },
  {
   "cell_type": "code",
   "execution_count": null,
   "id": "34b6f458",
   "metadata": {},
   "outputs": [],
   "source": [
    "N , K = map(int,  input().split(' ') )\n",
    "map_ = [0 for x in range(100001)]\n",
    "for _ in range(N):\n",
    "    a,b  = map(int,  input().split(' ') )\n",
    "    map_[b] = a\n",
    "window_width = 2*K +1\n",
    "window_sum = sum(map_[0:window_width])\n",
    "answer = window_sum\n",
    "for j in range(100001 - window_width):\n",
    "    window_sum =window_sum - map_[j] + map_[j+window_width]\n",
    "    answer = max(answer , window_sum)\n",
    "print(answer)"
   ]
  },
  {
   "cell_type": "code",
   "execution_count": 36,
   "id": "d75b4c25",
   "metadata": {},
   "outputs": [
    {
     "data": {
      "text/plain": [
       "7"
      ]
     },
     "execution_count": 36,
     "metadata": {},
     "output_type": "execute_result"
    }
   ],
   "source": [
    "answer\n"
   ]
  },
  {
   "cell_type": "code",
   "execution_count": 37,
   "id": "2714b2c6",
   "metadata": {},
   "outputs": [],
   "source": [
    "for j in range(100001 - window_width):\n",
    "    window_sum =window_sum - map_[j] + map_[j+window_width]\n",
    "    answer = max(answer , window_sum)\n",
    "    \n",
    "    "
   ]
  },
  {
   "cell_type": "code",
   "execution_count": 38,
   "id": "51f882b9",
   "metadata": {},
   "outputs": [
    {
     "data": {
      "text/plain": [
       "11"
      ]
     },
     "execution_count": 38,
     "metadata": {},
     "output_type": "execute_result"
    }
   ],
   "source": [
    "answer"
   ]
  },
  {
   "cell_type": "code",
   "execution_count": null,
   "id": "e7f6edb8",
   "metadata": {},
   "outputs": [],
   "source": []
  },
  {
   "cell_type": "code",
   "execution_count": 17,
   "id": "55226218",
   "metadata": {},
   "outputs": [
    {
     "data": {
      "text/plain": [
       "7"
      ]
     },
     "execution_count": 17,
     "metadata": {},
     "output_type": "execute_result"
    }
   ],
   "source": [
    "max_val"
   ]
  },
  {
   "cell_type": "code",
   "execution_count": null,
   "id": "e239b5c1",
   "metadata": {},
   "outputs": [],
   "source": [
    "4 3\n",
    "4 7\n",
    "10 15\n",
    "2 2\n",
    "5 1"
   ]
  }
 ],
 "metadata": {
  "kernelspec": {
   "display_name": "Python 3 (ipykernel)",
   "language": "python",
   "name": "python3"
  },
  "language_info": {
   "codemirror_mode": {
    "name": "ipython",
    "version": 3
   },
   "file_extension": ".py",
   "mimetype": "text/x-python",
   "name": "python",
   "nbconvert_exporter": "python",
   "pygments_lexer": "ipython3",
   "version": "3.9.7"
  }
 },
 "nbformat": 4,
 "nbformat_minor": 5
}
