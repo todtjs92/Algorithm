{
 "cells": [
  {
   "cell_type": "code",
   "execution_count": 1,
   "id": "5472a48a",
   "metadata": {},
   "outputs": [],
   "source": [
    "import heapq"
   ]
  },
  {
   "cell_type": "code",
   "execution_count": 13,
   "id": "80f1c7fa",
   "metadata": {},
   "outputs": [],
   "source": [
    "INF = float(1e10)"
   ]
  },
  {
   "cell_type": "code",
   "execution_count": 14,
   "id": "9a33988a",
   "metadata": {},
   "outputs": [
    {
     "name": "stdout",
     "output_type": "stream",
     "text": [
      "4 8 2\n"
     ]
    }
   ],
   "source": [
    "student , edge , target=  map(int,input().split(' '))\n",
    "    "
   ]
  },
  {
   "cell_type": "code",
   "execution_count": 15,
   "id": "efd8f829",
   "metadata": {},
   "outputs": [],
   "source": [
    "graph = [[] for x in range(student+1)]"
   ]
  },
  {
   "cell_type": "code",
   "execution_count": 23,
   "id": "e3116635",
   "metadata": {},
   "outputs": [],
   "source": [
    "# graph 인덱스가 노드 위치가 되게 짜는게 국룰 ."
   ]
  },
  {
   "cell_type": "code",
   "execution_count": 16,
   "id": "c4c015f6",
   "metadata": {},
   "outputs": [
    {
     "data": {
      "text/plain": [
       "[[], [], [], [], []]"
      ]
     },
     "execution_count": 16,
     "metadata": {},
     "output_type": "execute_result"
    }
   ],
   "source": [
    "graph"
   ]
  },
  {
   "cell_type": "code",
   "execution_count": 21,
   "id": "f665f2e0",
   "metadata": {},
   "outputs": [],
   "source": [
    "cost = [INF] * (student+1)"
   ]
  },
  {
   "cell_type": "code",
   "execution_count": 22,
   "id": "3ebf98d4",
   "metadata": {},
   "outputs": [
    {
     "data": {
      "text/plain": [
       "[10000000000.0, 10000000000.0, 10000000000.0, 10000000000.0, 10000000000.0]"
      ]
     },
     "execution_count": 22,
     "metadata": {},
     "output_type": "execute_result"
    }
   ],
   "source": [
    "cost"
   ]
  },
  {
   "cell_type": "code",
   "execution_count": 25,
   "id": "cc5921b9",
   "metadata": {},
   "outputs": [
    {
     "name": "stdout",
     "output_type": "stream",
     "text": [
      "1 2 4\n",
      "1 3 2\n",
      "1 4 7\n",
      "2 1 1\n",
      "2 3 5\n",
      "3 1 2\n",
      "3 4 4\n",
      "4 2 3\n"
     ]
    }
   ],
   "source": [
    "for _ in range(edge):\n",
    "    a,b,c = map(int, input().split(' '))\n",
    "    graph[a].append([b,c])"
   ]
  },
  {
   "cell_type": "code",
   "execution_count": 26,
   "id": "870a874b",
   "metadata": {},
   "outputs": [
    {
     "data": {
      "text/plain": [
       "[[], [[2, 4], [3, 2], [4, 7]], [[1, 1], [3, 5]], [[1, 2], [4, 4]], [[2, 3]]]"
      ]
     },
     "execution_count": 26,
     "metadata": {},
     "output_type": "execute_result"
    }
   ],
   "source": [
    "graph"
   ]
  },
  {
   "cell_type": "code",
   "execution_count": null,
   "id": "704e80f0",
   "metadata": {},
   "outputs": [],
   "source": [
    "def dijkstra(start):\n",
    "    q = []\n",
    "    heapq.heappush(q,(0,start))\n",
    "    cost[start] = 0\n",
    "    while q:\n",
    "        cost_, now = heapq.heappop(q)\n",
    "        # cost[now] = 0 , cosst_ 0\n",
    "        if cost[now] < cost_:\n",
    "            continue\n",
    "        \n",
    "        for i in graph[now]:\n",
    "            cost = \n",
    "            \n",
    "    "
   ]
  }
 ],
 "metadata": {
  "kernelspec": {
   "display_name": "Python 3 (ipykernel)",
   "language": "python",
   "name": "python3"
  },
  "language_info": {
   "codemirror_mode": {
    "name": "ipython",
    "version": 3
   },
   "file_extension": ".py",
   "mimetype": "text/x-python",
   "name": "python",
   "nbconvert_exporter": "python",
   "pygments_lexer": "ipython3",
   "version": "3.9.7"
  }
 },
 "nbformat": 4,
 "nbformat_minor": 5
}
