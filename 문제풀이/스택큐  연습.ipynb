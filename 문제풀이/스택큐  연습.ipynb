{
 "cells": [
  {
   "cell_type": "code",
   "execution_count": 43,
   "id": "deb6524a",
   "metadata": {},
   "outputs": [],
   "source": [
    "import math"
   ]
  },
  {
   "cell_type": "code",
   "execution_count": 54,
   "id": "be283f1a",
   "metadata": {},
   "outputs": [],
   "source": [
    "progresses = [93,30,55]\n",
    "speeds = [1, 30, 5]"
   ]
  },
  {
   "cell_type": "code",
   "execution_count": 45,
   "id": "f1f50454",
   "metadata": {},
   "outputs": [],
   "source": [
    "progresses = [20, 99, 93, 30, 55, 10]\n",
    "speeds = [5, 10, 1, 1, 30, 5]\n"
   ]
  },
  {
   "cell_type": "markdown",
   "id": "1bcf689a",
   "metadata": {},
   "source": [
    "# 내풀이"
   ]
  },
  {
   "cell_type": "code",
   "execution_count": 57,
   "id": "58bebfbb",
   "metadata": {},
   "outputs": [],
   "source": [
    "left = list(map(lambda x : 100 - x , progresses))\n",
    "time =  []\n",
    "for i in range(len(left)):\n",
    "    time.append(math.ceil(left[i]/ speeds[i]))\n",
    "time.append(1000000)\n",
    "answer =  []\n",
    "pointer = 0\n",
    "temp =1\n",
    "max_time =time[0]\n",
    "while pointer != len(time)-1:\n",
    "    if max_time >= time[pointer+1]:\n",
    "        temp+=1\n",
    "    else:\n",
    "        answer.append(temp)\n",
    "        max_time = time[pointer+1]\n",
    "        temp=1\n",
    "    pointer+=1\n"
   ]
  },
  {
   "cell_type": "markdown",
   "id": "002cf119",
   "metadata": {},
   "source": [
    "# 단사람  풀이"
   ]
  },
  {
   "cell_type": "code",
   "execution_count": 63,
   "id": "ca9e91de",
   "metadata": {},
   "outputs": [],
   "source": [
    "progresses = [20, 99, 93, 30, 55, 10]\n",
    "speeds = [5, 10, 1, 1, 30, 5]"
   ]
  },
  {
   "cell_type": "code",
   "execution_count": 64,
   "id": "f0e060f3",
   "metadata": {},
   "outputs": [],
   "source": [
    "def solution(progresses, speeds):\n",
    "\n",
    "    answer = []\n",
    "    time = 0\n",
    "    count = 0\n",
    "    \n",
    "    while len(progresses)> 0:\n",
    "        if (progresses[0] + time*speeds[0]) >= 100: \n",
    "            progresses.pop(0)\n",
    "            speeds.pop(0)\n",
    "            count += 1\n",
    "            \n",
    "        else:\n",
    "            if count > 0:\n",
    "                answer.append(count)\n",
    "                count = 0\n",
    "            time += 1\n",
    "    answer.append(count)\n",
    "    return answer"
   ]
  },
  {
   "cell_type": "code",
   "execution_count": null,
   "id": "cb562ad1",
   "metadata": {},
   "outputs": [],
   "source": []
  }
 ],
 "metadata": {
  "kernelspec": {
   "display_name": "Python 3 (ipykernel)",
   "language": "python",
   "name": "python3"
  },
  "language_info": {
   "codemirror_mode": {
    "name": "ipython",
    "version": 3
   },
   "file_extension": ".py",
   "mimetype": "text/x-python",
   "name": "python",
   "nbconvert_exporter": "python",
   "pygments_lexer": "ipython3",
   "version": "3.9.7"
  }
 },
 "nbformat": 4,
 "nbformat_minor": 5
}
