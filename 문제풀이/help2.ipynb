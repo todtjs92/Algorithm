{
 "cells": [
  {
   "cell_type": "markdown",
   "id": "9435d0f8",
   "metadata": {},
   "source": [
    "##  dfs"
   ]
  },
  {
   "cell_type": "markdown",
   "id": "9e9f9e20",
   "metadata": {},
   "source": [
    "네트워크"
   ]
  },
  {
   "cell_type": "markdown",
   "id": "098010c5",
   "metadata": {},
   "source": [
    "visited를 잘 쓰는게 핵심"
   ]
  },
  {
   "cell_type": "markdown",
   "id": "7a368056",
   "metadata": {},
   "source": [
    "이 문제 같은 경우에는 visited를 갱신할필요가 없이 visited false인부분  탐색하면서 리커시브하게 돌면도 ㅣㅅ음"
   ]
  },
  {
   "cell_type": "code",
   "execution_count": null,
   "id": "6464b2a0",
   "metadata": {},
   "outputs": [],
   "source": [
    "visited = [False for i in range(n+1)]"
   ]
  },
  {
   "cell_type": "markdown",
   "id": "9dcae657",
   "metadata": {},
   "source": [
    "N Queen"
   ]
  },
  {
   "cell_type": "markdown",
   "id": "e572d931",
   "metadata": {},
   "source": [
    "board에 말을 두면서 규칙벗어나는지 체크  visited 라는 리스트가  있어서 방문 체크 가능"
   ]
  },
  {
   "cell_type": "code",
   "execution_count": 3,
   "id": "78c6cb6f",
   "metadata": {},
   "outputs": [],
   "source": [
    "# 리커시브 이런식\n",
    "def logic(n):\n",
    "    for i in range(N):\n",
    "        pass\n",
    "        if  check:\n",
    "            logic(n+1) # 이런식으로 하나 더크게 ㅎ ㅐ서 logic이 돌아가게 만드는 , 가장 밑바닥까지 체크하고 넘어가게됨 그래서 dfs"
   ]
  },
  {
   "cell_type": "markdown",
   "id": "df4d183b",
   "metadata": {},
   "source": [
    "가로가 그냥 iter 역할을 하고 세로가 다체크되는지를 visited 로 체크하는거구나"
   ]
  },
  {
   "cell_type": "code",
   "execution_count": null,
   "id": "5b0c3046",
   "metadata": {},
   "outputs": [],
   "source": [
    "if check(n):\n",
    "    visited[i] =True\n",
    "    logic(n+1)\n",
    "    visited[i] =  False # visited가 다체크되면 이걸 이렇게 풀어버리구나 , 왜? 작동"
   ]
  },
  {
   "cell_type": "markdown",
   "id": "c1c1735f",
   "metadata": {},
   "source": [
    "### BFS"
   ]
  },
  {
   "cell_type": "markdown",
   "id": "460004ac",
   "metadata": {},
   "source": [
    "나이트"
   ]
  },
  {
   "cell_type": "markdown",
   "id": "ec74f204",
   "metadata": {},
   "source": [
    "시작 1로 , "
   ]
  },
  {
   "cell_type": "markdown",
   "id": "1c0ab7a0",
   "metadata": {},
   "source": [
    "#### 요렇게 초기화부분"
   ]
  },
  {
   "cell_type": "code",
   "execution_count": null,
   "id": "9b698dad",
   "metadata": {},
   "outputs": [],
   "source": [
    "q.append([startRow, startCol])\n",
    "chess[startRow][startCol] = 1"
   ]
  },
  {
   "cell_type": "markdown",
   "id": "713f58c5",
   "metadata": {},
   "source": [
    "### 다익스트라는 다익스트라연습보셈"
   ]
  },
  {
   "cell_type": "markdown",
   "id": "f9989a61",
   "metadata": {},
   "source": [
    "## 콤비네이션 푸는거"
   ]
  },
  {
   "cell_type": "code",
   "execution_count": 3,
   "id": "fb37728e",
   "metadata": {},
   "outputs": [],
   "source": [
    "from itertools import combinations"
   ]
  },
  {
   "cell_type": "code",
   "execution_count": 16,
   "id": "69cede15",
   "metadata": {},
   "outputs": [],
   "source": [
    "li_ = [1,2,3]"
   ]
  },
  {
   "cell_type": "code",
   "execution_count": 17,
   "id": "766dc543",
   "metadata": {},
   "outputs": [],
   "source": [
    "combi_list = list(combinations(li_ , 2))"
   ]
  },
  {
   "cell_type": "code",
   "execution_count": 18,
   "id": "d489eaaa",
   "metadata": {},
   "outputs": [
    {
     "data": {
      "text/plain": [
       "[(1, 2), (1, 3), (2, 3)]"
      ]
     },
     "execution_count": 18,
     "metadata": {},
     "output_type": "execute_result"
    }
   ],
   "source": [
    "# 안에 튜플있어서 불편 map 써야할듯\n",
    "combi_list"
   ]
  },
  {
   "cell_type": "code",
   "execution_count": 19,
   "id": "5a5d3f62",
   "metadata": {},
   "outputs": [
    {
     "data": {
      "text/plain": [
       "[[1, 2], [1, 3], [2, 3]]"
      ]
     },
     "execution_count": 19,
     "metadata": {},
     "output_type": "execute_result"
    }
   ],
   "source": [
    "list(map(lambda x: list(x) , combi_list)) # []로하면 안되고 list() 로감싸주셈"
   ]
  },
  {
   "cell_type": "markdown",
   "id": "5180ab8a",
   "metadata": {},
   "source": [
    "## 모든 인덱스 찾기"
   ]
  },
  {
   "cell_type": "code",
   "execution_count": null,
   "id": "a815e741",
   "metadata": {},
   "outputs": [],
   "source": [
    "rest_list = list(filter(lambda x: test_list[x] == 3, range(len(test_list))))"
   ]
  }
 ],
 "metadata": {
  "kernelspec": {
   "display_name": "Python 3 (ipykernel)",
   "language": "python",
   "name": "python3"
  },
  "language_info": {
   "codemirror_mode": {
    "name": "ipython",
    "version": 3
   },
   "file_extension": ".py",
   "mimetype": "text/x-python",
   "name": "python",
   "nbconvert_exporter": "python",
   "pygments_lexer": "ipython3",
   "version": "3.8.13"
  }
 },
 "nbformat": 4,
 "nbformat_minor": 5
}
