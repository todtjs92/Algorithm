{
 "cells": [
  {
   "cell_type": "code",
   "execution_count": 98,
   "id": "92908990",
   "metadata": {},
   "outputs": [],
   "source": [
    "n = 3 \n",
    "computers = [[1, 1, 0], [1, 1, 0], [0, 0, 1]]"
   ]
  },
  {
   "cell_type": "code",
   "execution_count": 95,
   "id": "cb5db296",
   "metadata": {},
   "outputs": [],
   "source": [
    "n=3\n",
    "computers = [[1, 1, 0], [1, 1, 1], [0, 1, 1]]"
   ]
  },
  {
   "cell_type": "code",
   "execution_count": 99,
   "id": "502f4de3",
   "metadata": {},
   "outputs": [
    {
     "data": {
      "text/plain": [
       "2"
      ]
     },
     "execution_count": 99,
     "metadata": {},
     "output_type": "execute_result"
    }
   ],
   "source": [
    "graph = [[] for  x in range(n+1)]\n",
    "for _ in range(len(computers)):\n",
    "    for com in range(len(computers[0])):\n",
    "        \n",
    "        if computers[_][com] == 0:\n",
    "            continue\n",
    "        else:\n",
    "            if _ != com :\n",
    "                graph[_+1].append(com+1)\n",
    "                \n",
    "                \n",
    "visited = [False for i in range(n+1)]\n",
    "def dfs(node,visited):\n",
    "    #print(visited,'3')\n",
    "    visited[node] = True\n",
    "    #print(visited,'4')\n",
    "    for graph_item in graph[node]:\n",
    "    #    print(graph_item ,'graph_item')\n",
    "        if visited[graph_item] == False:\n",
    "    #        print(visited,'5')\n",
    "            visited = dfs(graph_item,visited)\n",
    "    #        print(visited,'6')\n",
    "    return visited\n",
    "answer= 0\n",
    "for node in range(1,n+1):\n",
    "    #print(visited,'1')\n",
    "    if visited[node]== False:\n",
    "        visited = dfs(node,visited)\n",
    "        answer +=1\n",
    "    #    print(visited,'2')\n",
    "        \n",
    "answer"
   ]
  },
  {
   "cell_type": "code",
   "execution_count": null,
   "id": "1ef5a2c6",
   "metadata": {},
   "outputs": [],
   "source": []
  },
  {
   "cell_type": "code",
   "execution_count": 92,
   "id": "7fcfed87",
   "metadata": {},
   "outputs": [],
   "source": [
    "graph = [[] for  x in range(n+1)]\n",
    "for _ in range(len(computers)):\n",
    "    for com in range(len(computers[0])):\n",
    "        \n",
    "        if computers[_][com] == 0:\n",
    "            continue\n",
    "        else:\n",
    "            if _ != com :\n",
    "                graph[_+1].append(com+1)\n",
    "                \n",
    "            "
   ]
  },
  {
   "cell_type": "code",
   "execution_count": 93,
   "id": "a4a84c34",
   "metadata": {},
   "outputs": [
    {
     "data": {
      "text/plain": [
       "[[], [2], [1], []]"
      ]
     },
     "execution_count": 93,
     "metadata": {},
     "output_type": "execute_result"
    }
   ],
   "source": [
    "graph"
   ]
  },
  {
   "cell_type": "code",
   "execution_count": null,
   "id": "4daddf28",
   "metadata": {},
   "outputs": [],
   "source": []
  },
  {
   "cell_type": "code",
   "execution_count": null,
   "id": "54636e79",
   "metadata": {},
   "outputs": [],
   "source": []
  },
  {
   "cell_type": "code",
   "execution_count": null,
   "id": "9c7705aa",
   "metadata": {},
   "outputs": [],
   "source": []
  },
  {
   "cell_type": "code",
   "execution_count": 94,
   "id": "fc24a7f8",
   "metadata": {
    "scrolled": true
   },
   "outputs": [
    {
     "name": "stdout",
     "output_type": "stream",
     "text": [
      "[False, False, False, False] 1\n",
      "[False, False, False, False] 3\n",
      "[False, True, False, False] 4\n",
      "2 graph_item\n",
      "[False, True, False, False] 5\n",
      "[False, True, False, False] 3\n",
      "[False, True, True, False] 4\n",
      "1 graph_item\n",
      "[False, True, True, False] 6\n",
      "[False, True, True, False] 2\n",
      "[False, True, True, False] 1\n",
      "[False, True, True, False] 1\n",
      "[False, True, True, False] 3\n",
      "[False, True, True, True] 4\n",
      "[False, True, True, True] 2\n"
     ]
    },
    {
     "data": {
      "text/plain": [
       "2"
      ]
     },
     "execution_count": 94,
     "metadata": {},
     "output_type": "execute_result"
    }
   ],
   "source": [
    "graph = [[] for  x in range(n+1)]\n",
    "for _ in range(len(computers)):\n",
    "    for com in range(len(computers[0])):\n",
    "        \n",
    "        if computers[_][com] == 0:\n",
    "            continue\n",
    "        else:\n",
    "            if _ != com :\n",
    "                graph[_+1].append(com+1)\n",
    "                \n",
    "                \n",
    "visited = [False for i in range(n+1)]\n",
    "def dfs(node,visited):\n",
    "    print(visited,'3')\n",
    "    visited[node] = True\n",
    "    print(visited,'4')\n",
    "    for graph_item in graph[node]:\n",
    "        print(graph_item ,'graph_item')\n",
    "        if visited[graph_item] == False:\n",
    "            print(visited,'5')\n",
    "            visited = dfs(graph_item,visited)\n",
    "            print(visited,'6')\n",
    "    return visited\n",
    "answer= 0\n",
    "for node in range(1,n+1):\n",
    "    print(visited,'1')\n",
    "    if visited[node]== False:\n",
    "        visited = dfs(node,visited)\n",
    "        answer +=1\n",
    "        print(visited,'2')\n",
    "        \n",
    "answer"
   ]
  },
  {
   "cell_type": "code",
   "execution_count": 83,
   "id": "2d9eb309",
   "metadata": {},
   "outputs": [
    {
     "data": {
      "text/plain": [
       "[[], [2], [1, 3], [2]]"
      ]
     },
     "execution_count": 83,
     "metadata": {},
     "output_type": "execute_result"
    }
   ],
   "source": [
    "graph"
   ]
  },
  {
   "cell_type": "code",
   "execution_count": null,
   "id": "1c20c5bd",
   "metadata": {},
   "outputs": [],
   "source": []
  },
  {
   "cell_type": "code",
   "execution_count": null,
   "id": "1c7da8f7",
   "metadata": {},
   "outputs": [],
   "source": []
  },
  {
   "cell_type": "code",
   "execution_count": null,
   "id": "6991e6cb",
   "metadata": {},
   "outputs": [],
   "source": []
  },
  {
   "cell_type": "code",
   "execution_count": null,
   "id": "7b74cc26",
   "metadata": {},
   "outputs": [],
   "source": []
  },
  {
   "cell_type": "code",
   "execution_count": 64,
   "id": "e260ee90",
   "metadata": {},
   "outputs": [
    {
     "name": "stdout",
     "output_type": "stream",
     "text": [
      "1\n",
      "2\n",
      "3\n"
     ]
    }
   ],
   "source": [
    "answer= 0\n",
    "for node in range(1,n+1):\n",
    "    print(node)\n",
    "    \n",
    "    if visited[node]== False:\n",
    "        visited = dfs(node,visited)\n",
    "        answer +=1\n",
    "        \n",
    "    "
   ]
  },
  {
   "cell_type": "code",
   "execution_count": 65,
   "id": "d94b1680",
   "metadata": {},
   "outputs": [
    {
     "data": {
      "text/plain": [
       "2"
      ]
     },
     "execution_count": 65,
     "metadata": {},
     "output_type": "execute_result"
    }
   ],
   "source": [
    "answer"
   ]
  },
  {
   "cell_type": "code",
   "execution_count": null,
   "id": "5865fc79",
   "metadata": {},
   "outputs": [],
   "source": []
  },
  {
   "cell_type": "code",
   "execution_count": null,
   "id": "b83b35a7",
   "metadata": {},
   "outputs": [],
   "source": []
  },
  {
   "cell_type": "code",
   "execution_count": null,
   "id": "55fbbb8a",
   "metadata": {},
   "outputs": [],
   "source": []
  },
  {
   "cell_type": "code",
   "execution_count": null,
   "id": "4bf7b781",
   "metadata": {},
   "outputs": [],
   "source": []
  },
  {
   "cell_type": "code",
   "execution_count": 30,
   "id": "38d62d04",
   "metadata": {},
   "outputs": [],
   "source": [
    "answer = 0"
   ]
  },
  {
   "cell_type": "code",
   "execution_count": 31,
   "id": "bb1f853b",
   "metadata": {},
   "outputs": [],
   "source": [
    "visited = [False for i in range(n)]"
   ]
  },
  {
   "cell_type": "code",
   "execution_count": 32,
   "id": "982af1fa",
   "metadata": {},
   "outputs": [
    {
     "data": {
      "text/plain": [
       "[False, False, False]"
      ]
     },
     "execution_count": 32,
     "metadata": {},
     "output_type": "execute_result"
    }
   ],
   "source": [
    "visited"
   ]
  },
  {
   "cell_type": "code",
   "execution_count": null,
   "id": "33653b12",
   "metadata": {},
   "outputs": [],
   "source": [
    "for com in range(n):\n",
    "    "
   ]
  },
  {
   "cell_type": "code",
   "execution_count": null,
   "id": "a5000b1e",
   "metadata": {},
   "outputs": [],
   "source": []
  },
  {
   "cell_type": "code",
   "execution_count": null,
   "id": "c6ee982d",
   "metadata": {},
   "outputs": [],
   "source": []
  },
  {
   "cell_type": "code",
   "execution_count": null,
   "id": "61a9c0c4",
   "metadata": {},
   "outputs": [],
   "source": []
  },
  {
   "cell_type": "code",
   "execution_count": 34,
   "id": "e87542db",
   "metadata": {},
   "outputs": [],
   "source": [
    "def dfs(n,computers,start ,visited):\n",
    "    visited[start]= True\n",
    "    \n",
    "    for i in range(n):\n",
    "        if visited[i] == False:\n",
    "            if computers[start][i]==1:\n",
    "                visited = dfs(n ,computers , i , visited)\n",
    "    return visited\n",
    "\n",
    "\n",
    "def solution(n , computers):\n",
    "    visited =  [False] * n\n",
    "    answer = 0\n",
    "    \n",
    "    for start in range(0,n):\n",
    "        if visited[start] == False:\n",
    "            dfs(n,computers,start, visited)\n",
    "            answer +=1\n",
    "    \n",
    "    return answer\n",
    "    "
   ]
  },
  {
   "cell_type": "code",
   "execution_count": 41,
   "id": "8b9987fe",
   "metadata": {},
   "outputs": [
    {
     "data": {
      "text/plain": [
       "[False, False, False]"
      ]
     },
     "execution_count": 41,
     "metadata": {},
     "output_type": "execute_result"
    }
   ],
   "source": [
    "visited =  [False] * n\n",
    "visited"
   ]
  },
  {
   "cell_type": "code",
   "execution_count": 42,
   "id": "43f1be4d",
   "metadata": {},
   "outputs": [],
   "source": [
    "answer = 0"
   ]
  },
  {
   "cell_type": "code",
   "execution_count": null,
   "id": "fd8b78d1",
   "metadata": {},
   "outputs": [],
   "source": [
    "def dfs(n,computers,start ,visited):\n",
    "    visited[start] = True\n",
    "    \n",
    "    for i in range(n):\n",
    "        if visited[i]==False:\n",
    "            "
   ]
  },
  {
   "cell_type": "code",
   "execution_count": null,
   "id": "709beb4e",
   "metadata": {},
   "outputs": [],
   "source": [
    "for start in range(0,n):\n",
    "    if visited[start] == False: # 방문 하지 않았으면 dfs\n",
    "        dfs(n,computers,start, visited) # n 전체개수 computer 맵  start 0 visited 방문여부 리스ㅡㅌ\n",
    "        answer +=1"
   ]
  }
 ],
 "metadata": {
  "kernelspec": {
   "display_name": "Python 3 (ipykernel)",
   "language": "python",
   "name": "python3"
  },
  "language_info": {
   "codemirror_mode": {
    "name": "ipython",
    "version": 3
   },
   "file_extension": ".py",
   "mimetype": "text/x-python",
   "name": "python",
   "nbconvert_exporter": "python",
   "pygments_lexer": "ipython3",
   "version": "3.9.7"
  }
 },
 "nbformat": 4,
 "nbformat_minor": 5
}
