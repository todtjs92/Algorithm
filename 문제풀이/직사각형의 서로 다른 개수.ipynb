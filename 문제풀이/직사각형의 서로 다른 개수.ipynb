{
 "cells": [
  {
   "cell_type": "code",
   "execution_count": 2,
   "id": "0f3b046b",
   "metadata": {},
   "outputs": [
    {
     "name": "stdout",
     "output_type": "stream",
     "text": [
      "3 3 3\n",
      "1 2 3\n",
      "4 5 6\n",
      "7 8 9\n"
     ]
    }
   ],
   "source": [
    "map_ = []\n",
    "i,j ,query = list(map(int,input().split()))\n",
    "for _ in range(i):\n",
    "    map_.append(list(map(int,input().split())))\n"
   ]
  },
  {
   "cell_type": "code",
   "execution_count": 87,
   "id": "af9c4d11",
   "metadata": {},
   "outputs": [],
   "source": [
    "one.update(g)"
   ]
  },
  {
   "cell_type": "code",
   "execution_count": 88,
   "id": "17b180cf",
   "metadata": {},
   "outputs": [],
   "source": [
    "one"
   ]
  },
  {
   "cell_type": "code",
   "execution_count": 85,
   "id": "fbbc4f5e",
   "metadata": {},
   "outputs": [],
   "source": [
    "g = map_set[end_i][end_j-1] - (map_set[start_i][start_j] &  map_set[end_i][end_j-1] )"
   ]
  },
  {
   "cell_type": "code",
   "execution_count": 86,
   "id": "5a47f865",
   "metadata": {},
   "outputs": [
    {
     "data": {
      "text/plain": [
       "{1, 2, 7, 9, 10}"
      ]
     },
     "execution_count": 86,
     "metadata": {},
     "output_type": "execute_result"
    }
   ],
   "source": [
    "one"
   ]
  },
  {
   "cell_type": "code",
   "execution_count": 81,
   "id": "1a0e61ab",
   "metadata": {},
   "outputs": [
    {
     "data": {
      "text/plain": [
       "{1, 2, 7, 10}"
      ]
     },
     "execution_count": 81,
     "metadata": {},
     "output_type": "execute_result"
    }
   ],
   "source": [
    "g"
   ]
  },
  {
   "cell_type": "code",
   "execution_count": 90,
   "id": "f3a92691",
   "metadata": {},
   "outputs": [
    {
     "name": "stdout",
     "output_type": "stream",
     "text": [
      "3\n",
      "3 2 10\n",
      "3 7 1\n",
      "1 10 9\n",
      "5\n",
      "1 1 3 3\n",
      "5\n",
      "2 2 3 3\n",
      "3\n",
      "1 1 2 2\n",
      "2\n",
      "2 1 3 2\n",
      "4\n",
      "3 2 3 2\n",
      "5\n"
     ]
    }
   ],
   "source": [
    "map_ = []\n",
    "length = int(input())\n",
    "for _ in range(length):\n",
    "    map_.append(list(map(int,input().split())))\n",
    "query = int(input())\n",
    "map_set = []\n",
    "for i in range(length):\n",
    "    temp = []\n",
    "    temp_set = {map_[i][0]}\n",
    "    temp.append(temp_set)\n",
    "    for j in range(1,length):\n",
    "        temp_set = copy.copy(temp_set)\n",
    "        temp_set.add(map_[i][j])\n",
    "        temp.append(temp_set)\n",
    "    map_set.append(temp)\n",
    "for j in range(length):\n",
    "    temp_set = map_set[0][j]\n",
    "    \n",
    "    for i in range(1,length):\n",
    "        temp_set = copy.copy(temp_set)\n",
    "        temp_set.update(map_set[i][j])\n",
    "        map_set[i][j] = temp_set\n",
    "        \n",
    "for _ in range(query):\n",
    "    start_i , start_j , end_i , end_j = map(lambda x : int(x) - 1,input().split())\n",
    "    if start_i == end_i:\n",
    "        if start_j == end_j:\n",
    "            print(len(map_set[start_i][start_j]))\n",
    "        else:\n",
    "            print(len(map_set[end_i][end_j] - (map_set[start_i][start_j] & map_set[end_i][end_j])) )\n",
    "    elif start_j == end_j:\n",
    "        if start_i == end_i:\n",
    "            print(len(map_set[start_i][start_j]))\n",
    "        else:\n",
    "            print(len(map_set[end_i][end_j] - (map_set[start_i][start_j] & map_set[end_i][end_j])) )\n",
    "    else:\n",
    "        one = map_set[end_i][end_j] - (map_set[start_i][start_j] & map_set[end_i][end_j])\n",
    "\n",
    "        one.update( map_set[end_i][end_j-1] - (map_set[start_i][start_j] &  map_set[end_i][end_j-1] )  )\n",
    "\n",
    "        one.update(map_set[end_i-1][end_j] - (map_set[start_i][start_j] &  map_set[end_i-1][end_j] ))\n",
    "\n",
    "        print(len(one))"
   ]
  },
  {
   "cell_type": "code",
   "execution_count": null,
   "id": "363af530",
   "metadata": {},
   "outputs": [],
   "source": [
    "3\n",
    "3 2 10 \n",
    "3 7 1 \n",
    "1 10 9 \n",
    "5\n",
    "1 1 3 3\n",
    "2 2 3 3\n",
    "1 1 2 2\n",
    "2 1 3 2\n",
    "3 2 3 2"
   ]
  },
  {
   "cell_type": "code",
   "execution_count": 68,
   "id": "bfa5f4bc",
   "metadata": {},
   "outputs": [
    {
     "data": {
      "text/plain": [
       "{1, 2, 3, 4}"
      ]
     },
     "execution_count": 68,
     "metadata": {},
     "output_type": "execute_result"
    }
   ],
   "source": [
    "a"
   ]
  },
  {
   "cell_type": "code",
   "execution_count": 69,
   "id": "d8b7f3cb",
   "metadata": {},
   "outputs": [
    {
     "data": {
      "text/plain": [
       "{3, 4}"
      ]
     },
     "execution_count": 69,
     "metadata": {},
     "output_type": "execute_result"
    }
   ],
   "source": [
    "b"
   ]
  },
  {
   "cell_type": "code",
   "execution_count": 72,
   "id": "c70e8a02",
   "metadata": {},
   "outputs": [
    {
     "ename": "TypeError",
     "evalue": "unsupported operand type(s) for +: 'set' and 'set'",
     "output_type": "error",
     "traceback": [
      "\u001b[0;31m---------------------------------------------------------------------------\u001b[0m",
      "\u001b[0;31mTypeError\u001b[0m                                 Traceback (most recent call last)",
      "Input \u001b[0;32mIn [72]\u001b[0m, in \u001b[0;36m<cell line: 1>\u001b[0;34m()\u001b[0m\n\u001b[0;32m----> 1\u001b[0m \u001b[43ma\u001b[49m\u001b[43m \u001b[49m\u001b[38;5;241;43m-\u001b[39;49m\u001b[43m \u001b[49m\u001b[43m(\u001b[49m\u001b[43ma\u001b[49m\u001b[43m \u001b[49m\u001b[38;5;241;43m&\u001b[39;49m\u001b[43m \u001b[49m\u001b[43mb\u001b[49m\u001b[43m)\u001b[49m\u001b[43m \u001b[49m\u001b[38;5;241;43m+\u001b[39;49m\u001b[43m \u001b[49m\u001b[43m{\u001b[49m\u001b[38;5;241;43m3\u001b[39;49m\u001b[43m}\u001b[49m\n",
      "\u001b[0;31mTypeError\u001b[0m: unsupported operand type(s) for +: 'set' and 'set'"
     ]
    }
   ],
   "source": [
    "a - (a & b) "
   ]
  },
  {
   "cell_type": "code",
   "execution_count": null,
   "id": "7176fd0c",
   "metadata": {},
   "outputs": [],
   "source": []
  },
  {
   "cell_type": "code",
   "execution_count": 74,
   "id": "6da6beaf",
   "metadata": {},
   "outputs": [
    {
     "name": "stdout",
     "output_type": "stream",
     "text": [
      "5\n"
     ]
    }
   ],
   "source": [
    "if start_i == end_i:\n",
    "    if start_j == end_j:\n",
    "        print(len(map_set[start_i][start_j]))\n",
    "    else:\n",
    "        print(len(map_set[end_i][end_j] - (map_set[start_i][start_j] & map_set[end_i][end_j])) )\n",
    "elif start_j == end_j:\n",
    "    if start_i == end_i:\n",
    "        print(len(map_set[start_i][start_j]))\n",
    "    else:\n",
    "        print(len(map_set[end_i][end_j] - (map_set[start_i][start_j] & map_set[end_i][end_j])) )\n",
    "else:\n",
    "    one = map_set[end_i][end_j] - (map_set[start_i][start_j] & map_set[end_i][end_j])\n",
    "    two = one.update( map_set[end_i][end_j] - map_set[end_i][end_j - 1 ] )\n",
    "    result = two.update(map_set[end_i][end_j] - map_set[end_i -1 ][end_j])\n",
    "    \n",
    "    print(len(result))"
   ]
  },
  {
   "cell_type": "code",
   "execution_count": 62,
   "id": "b1b0ed48",
   "metadata": {},
   "outputs": [
    {
     "data": {
      "text/plain": [
       "[[{3}, {2, 3}, {2, 3, 10}],\n",
       " [{3}, {2, 3, 7}, {1, 2, 3, 7, 10}],\n",
       " [{1, 3}, {1, 2, 3, 7, 10}, {1, 2, 3, 7, 9, 10}]]"
      ]
     },
     "execution_count": 62,
     "metadata": {},
     "output_type": "execute_result"
    }
   ],
   "source": [
    "map_set"
   ]
  },
  {
   "cell_type": "code",
   "execution_count": 61,
   "id": "3c305334",
   "metadata": {},
   "outputs": [
    {
     "data": {
      "text/plain": [
       "1"
      ]
     },
     "execution_count": 61,
     "metadata": {},
     "output_type": "execute_result"
    }
   ],
   "source": [
    "start_j"
   ]
  },
  {
   "cell_type": "code",
   "execution_count": 33,
   "id": "fb22e821",
   "metadata": {},
   "outputs": [
    {
     "data": {
      "text/plain": [
       "[[3, 2, 10], [3, 7, 1], [1, 10, 9]]"
      ]
     },
     "execution_count": 33,
     "metadata": {},
     "output_type": "execute_result"
    }
   ],
   "source": [
    "map_"
   ]
  },
  {
   "cell_type": "code",
   "execution_count": 34,
   "id": "16036488",
   "metadata": {},
   "outputs": [],
   "source": [
    "map_set = []"
   ]
  },
  {
   "cell_type": "code",
   "execution_count": 35,
   "id": "6c94e839",
   "metadata": {},
   "outputs": [],
   "source": [
    "import copy"
   ]
  },
  {
   "cell_type": "code",
   "execution_count": 36,
   "id": "9d1e35af",
   "metadata": {},
   "outputs": [],
   "source": [
    "map_set = []"
   ]
  },
  {
   "cell_type": "code",
   "execution_count": 54,
   "id": "881c1e74",
   "metadata": {},
   "outputs": [],
   "source": [
    "map_set = []\n",
    "for i in range(length):\n",
    "    temp = []\n",
    "    temp_set = {map_[i][0]}\n",
    "    temp.append(temp_set)\n",
    "    for j in range(1,length):\n",
    "        temp_set = copy.copy(temp_set)\n",
    "        temp_set.add(map_[i][j])\n",
    "        temp.append(temp_set)\n",
    "    map_set.append(temp)\n",
    "for j in range(length):\n",
    "    temp_set = map_set[0][j]\n",
    "    \n",
    "    for i in range(1,length):\n",
    "        temp_set = copy.copy(temp_set)\n",
    "        temp_set.update(map_set[i][j])\n",
    "        map_set[i][j] = temp_set"
   ]
  },
  {
   "cell_type": "code",
   "execution_count": 55,
   "id": "5912678f",
   "metadata": {},
   "outputs": [
    {
     "data": {
      "text/plain": [
       "[[{3}, {2, 3}, {2, 3, 10}],\n",
       " [{3}, {3, 7}, {1, 3, 7}],\n",
       " [{1}, {1, 10}, {1, 9, 10}]]"
      ]
     },
     "execution_count": 55,
     "metadata": {},
     "output_type": "execute_result"
    }
   ],
   "source": [
    "map_set"
   ]
  },
  {
   "cell_type": "code",
   "execution_count": 56,
   "id": "3602a5a3",
   "metadata": {},
   "outputs": [],
   "source": [
    "for j in range(length):\n",
    "    temp_set = map_set[0][j]\n",
    "    \n",
    "    for i in range(1,length):\n",
    "        temp_set = copy.copy(temp_set)\n",
    "        temp_set.update(map_set[i][j])\n",
    "        map_set[i][j] = temp_set\n",
    "        "
   ]
  },
  {
   "cell_type": "code",
   "execution_count": 57,
   "id": "9d1cbbab",
   "metadata": {},
   "outputs": [
    {
     "data": {
      "text/plain": [
       "[[{3}, {2, 3}, {2, 3, 10}],\n",
       " [{3}, {2, 3, 7}, {1, 2, 3, 7, 10}],\n",
       " [{1, 3}, {1, 2, 3, 7, 10}, {1, 2, 3, 7, 9, 10}]]"
      ]
     },
     "execution_count": 57,
     "metadata": {},
     "output_type": "execute_result"
    }
   ],
   "source": [
    "map_set"
   ]
  },
  {
   "cell_type": "code",
   "execution_count": null,
   "id": "60288e73",
   "metadata": {},
   "outputs": [],
   "source": [
    "1 7 10 9 "
   ]
  },
  {
   "cell_type": "code",
   "execution_count": null,
   "id": "6e279a33",
   "metadata": {},
   "outputs": [],
   "source": []
  },
  {
   "cell_type": "code",
   "execution_count": null,
   "id": "614f6209",
   "metadata": {},
   "outputs": [],
   "source": []
  },
  {
   "cell_type": "code",
   "execution_count": null,
   "id": "a62c8112",
   "metadata": {},
   "outputs": [],
   "source": []
  }
 ],
 "metadata": {
  "kernelspec": {
   "display_name": "Python 3 (ipykernel)",
   "language": "python",
   "name": "python3"
  },
  "language_info": {
   "codemirror_mode": {
    "name": "ipython",
    "version": 3
   },
   "file_extension": ".py",
   "mimetype": "text/x-python",
   "name": "python",
   "nbconvert_exporter": "python",
   "pygments_lexer": "ipython3",
   "version": "3.8.13"
  }
 },
 "nbformat": 4,
 "nbformat_minor": 5
}
