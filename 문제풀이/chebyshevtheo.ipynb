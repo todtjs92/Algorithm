{
 "cells": [
  {
   "cell_type": "code",
   "execution_count": null,
   "id": "f58fe609",
   "metadata": {},
   "outputs": [],
   "source": [
    "import math \n",
    "\n",
    "temp = [False for x in range(123456*2)]\n",
    "def check_sosu(n):\n",
    "   \n",
    "    if n == 1:\n",
    "        return \n",
    "    if n == 2 or n== 3:\n",
    "        temp[n]= True\n",
    "        return\n",
    "    middle = int(math.sqrt(n))\n",
    "    for m in range(2,middle+1):\n",
    "        if n % m != 0:\n",
    "            continue\n",
    "        else:\n",
    "            return\n",
    "  \n",
    "    temp[n] = True\n",
    "def get_num(n,max_num):\n",
    "    # n 부터 2n 근데 max_num이 \n",
    "    # n보다 작음, \n",
    "    if max_num < n:\n",
    "        for i in range(n,2*n+1):\n",
    "            check_sosu(i)\n",
    "    \n",
    "    # n < < 2n , \n",
    "    elif n<= max_num or max_num < 2*n :\n",
    "        for i in range(max_num, 2*n + 1):\n",
    "            check_sosu(i)\n",
    "    else:\n",
    "        return\n",
    "def solution():\n",
    "    max_num = 0\n",
    "   \n",
    "    while True:\n",
    "        n = int(input())\n",
    "        if n == 0:\n",
    "            return\n",
    "        \n",
    "        get_num(n,max_num)\n",
    "        max_num = max(max_num,2*n)\n",
    "        print(sum(temp[n+1:(2*n+1)]))"
   ]
  }
 ],
 "metadata": {
  "kernelspec": {
   "display_name": "Python 3 (ipykernel)",
   "language": "python",
   "name": "python3"
  },
  "language_info": {
   "codemirror_mode": {
    "name": "ipython",
    "version": 3
   },
   "file_extension": ".py",
   "mimetype": "text/x-python",
   "name": "python",
   "nbconvert_exporter": "python",
   "pygments_lexer": "ipython3",
   "version": "3.8.13"
  }
 },
 "nbformat": 4,
 "nbformat_minor": 5
}
