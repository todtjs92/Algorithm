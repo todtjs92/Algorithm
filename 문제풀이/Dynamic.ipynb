{
 "cells": [
  {
   "cell_type": "markdown",
   "id": "e8516ecf",
   "metadata": {},
   "source": [
    "## 피보나치"
   ]
  },
  {
   "cell_type": "code",
   "execution_count": null,
   "id": "a49a5eb4",
   "metadata": {},
   "outputs": [],
   "source": [
    "1 1 2 3 5 8 13 21 34 55"
   ]
  },
  {
   "cell_type": "code",
   "execution_count": 1,
   "id": "2bebbf9f",
   "metadata": {},
   "outputs": [],
   "source": [
    "def fibo(x):\n",
    "    if x == 1 or x == 2:\n",
    "        return 1 \n",
    "    \n",
    "    return fibo(x-1) + fibo(x-2)"
   ]
  },
  {
   "cell_type": "code",
   "execution_count": 5,
   "id": "725ee901",
   "metadata": {},
   "outputs": [
    {
     "data": {
      "text/plain": [
       "55"
      ]
     },
     "execution_count": 5,
     "metadata": {},
     "output_type": "execute_result"
    }
   ],
   "source": [
    "fibo(10)"
   ]
  },
  {
   "cell_type": "markdown",
   "id": "dc72cb42",
   "metadata": {},
   "source": [
    "### dp 적용"
   ]
  },
  {
   "cell_type": "code",
   "execution_count": 17,
   "id": "203500fa",
   "metadata": {},
   "outputs": [],
   "source": [
    "dp = [None for x in range(100)]"
   ]
  },
  {
   "cell_type": "code",
   "execution_count": 18,
   "id": "db1a0625",
   "metadata": {},
   "outputs": [],
   "source": [
    "dp[1] = 1\n",
    "dp[2] = 1"
   ]
  },
  {
   "cell_type": "code",
   "execution_count": 19,
   "id": "17900aaf",
   "metadata": {},
   "outputs": [],
   "source": [
    "def fibo(x):\n",
    "    \n",
    "    answer = dp[x]\n",
    "    if answer == None:\n",
    "        answer = fibo(x-1) + fibo(x-2)\n",
    "        dp[x] = answer\n",
    "    return answer"
   ]
  },
  {
   "cell_type": "markdown",
   "id": "57d5cc2b",
   "metadata": {},
   "source": [
    "## 배낭 문제"
   ]
  },
  {
   "cell_type": "code",
   "execution_count": 24,
   "id": "5b3d7a56",
   "metadata": {},
   "outputs": [],
   "source": [
    "cargo = [(4,12),(2,1),(10,4),(1,1),(2,2)]"
   ]
  },
  {
   "cell_type": "code",
   "execution_count": 29,
   "id": "5d112ba5",
   "metadata": {},
   "outputs": [],
   "source": [
    "def zero_one_knapsack(cargo):\n",
    "    capacity = 15\n",
    "    pack = []\n",
    "    \n",
    "    for i in range(len(cargo)+1):\n",
    "        pack.append([])\n",
    "        for c in range(capacity + 1):\n",
    "            if i ==0 or c == 0:\n",
    "                pack[i].append(0)\n",
    "            \n",
    "            elif cargo[i-1][1] <= c:\n",
    "                pack[i].append(\n",
    "                max(\n",
    "                    cargo[i-1][0] + pack[i-1][c-cargo[i-1][1]], \n",
    "                    pack[i-1][c]\n",
    "                )\n",
    "                )\n",
    "            else:\n",
    "                pack[i].append(pack[i-1][c])\n",
    "    \n",
    "    return pack"
   ]
  },
  {
   "cell_type": "code",
   "execution_count": 30,
   "id": "1d33f7b7",
   "metadata": {},
   "outputs": [],
   "source": [
    "r = zero_one_knapsack(cargo)"
   ]
  },
  {
   "cell_type": "code",
   "execution_count": 31,
   "id": "69a916b8",
   "metadata": {},
   "outputs": [
    {
     "data": {
      "text/plain": [
       "[[0, 0, 0, 0, 0, 0, 0, 0, 0, 0, 0, 0, 0, 0, 0, 0],\n",
       " [0, 0, 0, 0, 0, 0, 0, 0, 0, 0, 0, 0, 4, 4, 4, 4],\n",
       " [0, 2, 2, 2, 2, 2, 2, 2, 2, 2, 2, 2, 4, 6, 6, 6],\n",
       " [0, 2, 2, 2, 10, 12, 12, 12, 12, 12, 12, 12, 12, 12, 12, 12],\n",
       " [0, 2, 3, 3, 10, 12, 13, 13, 13, 13, 13, 13, 13, 13, 13, 13],\n",
       " [0, 2, 3, 4, 10, 12, 13, 14, 15, 15, 15, 15, 15, 15, 15, 15]]"
      ]
     },
     "execution_count": 31,
     "metadata": {},
     "output_type": "execute_result"
    }
   ],
   "source": [
    "r"
   ]
  },
  {
   "cell_type": "markdown",
   "id": "7d50b2d1",
   "metadata": {},
   "source": [
    "### 최대 서브배열"
   ]
  },
  {
   "cell_type": "code",
   "execution_count": 33,
   "id": "78a4bd0c",
   "metadata": {},
   "outputs": [],
   "source": [
    "s = [-2,1,-3,4,-1,2,1,-5,4]"
   ]
  },
  {
   "cell_type": "code",
   "execution_count": 42,
   "id": "6ba7549f",
   "metadata": {},
   "outputs": [],
   "source": [
    "s = [1,-1,-2,-3,-4,10,-5,-6,-7,2]"
   ]
  },
  {
   "cell_type": "code",
   "execution_count": 43,
   "id": "616d4ec2",
   "metadata": {},
   "outputs": [],
   "source": [
    "def maxsub(nums):\n",
    "    for i in range(1,len(nums)):\n",
    "        nums[i] += nums[i-1] if nums[i-1] > 0 else 0 \n",
    "        print(nums)\n",
    "    \n",
    "    return max(nums)"
   ]
  },
  {
   "cell_type": "code",
   "execution_count": 44,
   "id": "40a3b6b5",
   "metadata": {},
   "outputs": [
    {
     "name": "stdout",
     "output_type": "stream",
     "text": [
      "[1, 0, -2, -3, -4, 10, -5, -6, -7, 2]\n",
      "[1, 0, -2, -3, -4, 10, -5, -6, -7, 2]\n",
      "[1, 0, -2, -3, -4, 10, -5, -6, -7, 2]\n",
      "[1, 0, -2, -3, -4, 10, -5, -6, -7, 2]\n",
      "[1, 0, -2, -3, -4, 10, -5, -6, -7, 2]\n",
      "[1, 0, -2, -3, -4, 10, 5, -6, -7, 2]\n",
      "[1, 0, -2, -3, -4, 10, 5, -1, -7, 2]\n",
      "[1, 0, -2, -3, -4, 10, 5, -1, -7, 2]\n",
      "[1, 0, -2, -3, -4, 10, 5, -1, -7, 2]\n"
     ]
    },
    {
     "data": {
      "text/plain": [
       "10"
      ]
     },
     "execution_count": 44,
     "metadata": {},
     "output_type": "execute_result"
    }
   ],
   "source": [
    "maxsub(s)"
   ]
  },
  {
   "cell_type": "markdown",
   "id": "d4cceb2f",
   "metadata": {},
   "source": [
    "## 계단오르기 "
   ]
  },
  {
   "cell_type": "code",
   "execution_count": 68,
   "id": "900de617",
   "metadata": {},
   "outputs": [],
   "source": [
    "possible = [None for x in range(10000)]"
   ]
  },
  {
   "cell_type": "code",
   "execution_count": 69,
   "id": "00d4ab04",
   "metadata": {},
   "outputs": [],
   "source": [
    "possible[1] = 1\n",
    "possible[2] = 2"
   ]
  },
  {
   "cell_type": "code",
   "execution_count": 70,
   "id": "5c1139d6",
   "metadata": {},
   "outputs": [],
   "source": [
    "def hike(n):\n",
    "    \n",
    "    answer = possible[n]\n",
    "    if answer == None:\n",
    "        answer = hike(n-2) + hike(n-1)\n",
    "        possible[n] = answer\n",
    "    return answer"
   ]
  },
  {
   "cell_type": "code",
   "execution_count": 71,
   "id": "9261ed3b",
   "metadata": {},
   "outputs": [
    {
     "data": {
      "text/plain": [
       "5"
      ]
     },
     "execution_count": 71,
     "metadata": {},
     "output_type": "execute_result"
    }
   ],
   "source": [
    "hike(4)"
   ]
  },
  {
   "cell_type": "markdown",
   "id": "7a23b4f6",
   "metadata": {},
   "source": [
    "## 전문털이범"
   ]
  },
  {
   "cell_type": "code",
   "execution_count": 73,
   "id": "62a4d841",
   "metadata": {},
   "outputs": [],
   "source": [
    "def rob(nums):\n",
    "    if not nums:\n",
    "        return 0 \n",
    "    if len(nums ) <= 2:\n",
    "        return max(nums)\n",
    "    \n",
    "    dp =  dict()\n",
    "    dp[0] , dp[1] = nums[0], max(nums[0], nums[1])\n",
    "    \n",
    "    for i in range(2,len(nums)):\n",
    "        dp[i] = max(dp[i-1],dp[i-2] + nums[i])\n",
    "    \n",
    "    return dp.popitem()[1]"
   ]
  },
  {
   "cell_type": "code",
   "execution_count": null,
   "id": "39c7eed4",
   "metadata": {},
   "outputs": [],
   "source": []
  }
 ],
 "metadata": {
  "kernelspec": {
   "display_name": "Python 3 (ipykernel)",
   "language": "python",
   "name": "python3"
  },
  "language_info": {
   "codemirror_mode": {
    "name": "ipython",
    "version": 3
   },
   "file_extension": ".py",
   "mimetype": "text/x-python",
   "name": "python",
   "nbconvert_exporter": "python",
   "pygments_lexer": "ipython3",
   "version": "3.8.13"
  }
 },
 "nbformat": 4,
 "nbformat_minor": 5
}
