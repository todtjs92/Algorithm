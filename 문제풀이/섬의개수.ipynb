{
 "cells": [
  {
   "cell_type": "code",
   "execution_count": 31,
   "id": "5abeb6ae",
   "metadata": {},
   "outputs": [],
   "source": [
    "grid = [\n",
    "  [\"1\",\"1\",\"0\",\"0\",\"0\"],\n",
    "  [\"1\",\"1\",\"0\",\"0\",\"0\"],\n",
    "  [\"0\",\"0\",\"1\",\"0\",\"0\"],\n",
    "  [\"0\",\"0\",\"0\",\"1\",\"1\"]\n",
    "]"
   ]
  },
  {
   "cell_type": "code",
   "execution_count": 32,
   "id": "0030ccb1",
   "metadata": {},
   "outputs": [],
   "source": [
    "# 1 . 1찾으면 dfs돔 . \n",
    "# 2. dfs 단건 머없고 색칠해야는데 . count +=1 하고 그 수로 샐칠하면 될듯. "
   ]
  },
  {
   "cell_type": "code",
   "execution_count": 33,
   "id": "e043287e",
   "metadata": {},
   "outputs": [],
   "source": [
    "garo = len(grid)\n",
    "sero = len(grid[0])"
   ]
  },
  {
   "cell_type": "code",
   "execution_count": 34,
   "id": "569b0101",
   "metadata": {},
   "outputs": [
    {
     "name": "stdout",
     "output_type": "stream",
     "text": [
      "0 1\n",
      "0 -1\n",
      "-1 0\n",
      "1 0\n",
      "0 2\n",
      "0 0\n",
      "-1 1\n",
      "1 1\n",
      "1 1\n",
      "1 -1\n",
      "0 0\n",
      "2 0\n",
      "1 2\n",
      "1 0\n",
      "0 1\n",
      "2 1\n",
      "2 3\n",
      "2 1\n",
      "1 2\n",
      "3 2\n",
      "3 4\n",
      "3 2\n",
      "2 3\n",
      "4 3\n",
      "3 5\n",
      "3 3\n",
      "2 4\n",
      "4 4\n"
     ]
    }
   ],
   "source": [
    "count = 0 \n",
    "for i in range( garo ):\n",
    "    for j in range( sero ):\n",
    "        if grid[i][j] == '1':\n",
    "            count += 1\n",
    "            grid[i][j] = count\n",
    "            bfs(i,j)\n",
    "        "
   ]
  },
  {
   "cell_type": "code",
   "execution_count": 24,
   "id": "b5422bd1",
   "metadata": {},
   "outputs": [
    {
     "data": {
      "text/plain": [
       "3"
      ]
     },
     "execution_count": 24,
     "metadata": {},
     "output_type": "execute_result"
    }
   ],
   "source": [
    "count"
   ]
  },
  {
   "cell_type": "code",
   "execution_count": 35,
   "id": "5f5adff5",
   "metadata": {},
   "outputs": [],
   "source": [
    "def bfs(i,j):\n",
    "    \n",
    "    dx = [0,0,-1,1]\n",
    "    dy = [1,-1,0,0]\n",
    "    \n",
    "    queue = []\n",
    "    queue = [[i,j]]\n",
    "    while queue:\n",
    "        loc_i, loc_j = queue.pop(0)\n",
    "        for d in range(4):\n",
    "            next_i = loc_i + dx[d]\n",
    "            next_j = loc_j + dy[d]\n",
    "            \n",
    "            if next_i >=0 and next_i < garo and next_j >= 0 and next_j < sero and grid[next_i][next_j] == '1':\n",
    "                grid[next_i][next_j] = count\n",
    "                queue.append([next_i,next_j])\n",
    "        "
   ]
  },
  {
   "cell_type": "code",
   "execution_count": null,
   "id": "55b2a8ae",
   "metadata": {},
   "outputs": [],
   "source": []
  },
  {
   "cell_type": "code",
   "execution_count": null,
   "id": "2e32d765",
   "metadata": {},
   "outputs": [],
   "source": []
  },
  {
   "cell_type": "code",
   "execution_count": null,
   "id": "a2a66202",
   "metadata": {},
   "outputs": [],
   "source": []
  }
 ],
 "metadata": {
  "kernelspec": {
   "display_name": "Python 3 (ipykernel)",
   "language": "python",
   "name": "python3"
  },
  "language_info": {
   "codemirror_mode": {
    "name": "ipython",
    "version": 3
   },
   "file_extension": ".py",
   "mimetype": "text/x-python",
   "name": "python",
   "nbconvert_exporter": "python",
   "pygments_lexer": "ipython3",
   "version": "3.8.13"
  }
 },
 "nbformat": 4,
 "nbformat_minor": 5
}
