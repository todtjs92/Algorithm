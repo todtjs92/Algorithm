{
 "cells": [
  {
   "cell_type": "code",
   "execution_count": 1,
   "metadata": {
    "id": "xsEcmeWYP-k1"
   },
   "outputs": [],
   "source": [
    "relation = [[\"100\",\"ryan\",\"music\",\"2\"],\n",
    "            [\"200\",\"apeach\",\"math\",\"2\"],\n",
    "            [\"300\",\"tube\",\"computer\",\"3\"],\n",
    "            [\"400\",\"con\",\"computer\",\"4\"],\n",
    "            [\"500\",\"muzi\",\"music\",\"3\"],\n",
    "            [\"600\",\"apeach\",\"music\",\"2\"]]"
   ]
  },
  {
   "cell_type": "code",
   "execution_count": 2,
   "metadata": {
    "id": "8NtHRibcQPsq"
   },
   "outputs": [],
   "source": [
    "# 후보 키를 발견하면 그 후보키를 포함한 조합은 제외할 수 있또록 하기."
   ]
  },
  {
   "cell_type": "code",
   "execution_count": 3,
   "metadata": {
    "id": "_sRS92ZuS1UJ"
   },
   "outputs": [],
   "source": [
    "import collections\n",
    "import itertools"
   ]
  },
  {
   "cell_type": "code",
   "execution_count": 4,
   "metadata": {
    "colab": {
     "base_uri": "https://localhost:8080/"
    },
    "id": "Id8moe-LUhkI",
    "outputId": "7f0fe521-c88a-43df-9351-f7cef504c155"
   },
   "outputs": [
    {
     "data": {
      "text/plain": [
       "[()]"
      ]
     },
     "execution_count": 4,
     "metadata": {},
     "output_type": "execute_result"
    }
   ],
   "source": [
    "list( itertools.combinations( range(len( relation[0]))  ,0) )"
   ]
  },
  {
   "cell_type": "code",
   "execution_count": 14,
   "metadata": {},
   "outputs": [],
   "source": [
    "all_count = len(relation)"
   ]
  },
  {
   "cell_type": "code",
   "execution_count": 9,
   "metadata": {},
   "outputs": [],
   "source": [
    "garo = len(relation[0])\n",
    "possible_index=[]\n",
    "for i in range(1,garo+1):\n",
    "    possible_index += list( itertools.combinations(range( garo ) ,i ) )"
   ]
  },
  {
   "cell_type": "code",
   "execution_count": 10,
   "metadata": {},
   "outputs": [
    {
     "data": {
      "text/plain": [
       "[(0,),\n",
       " (1,),\n",
       " (2,),\n",
       " (3,),\n",
       " (0, 1),\n",
       " (0, 2),\n",
       " (0, 3),\n",
       " (1, 2),\n",
       " (1, 3),\n",
       " (2, 3),\n",
       " (0, 1, 2),\n",
       " (0, 1, 3),\n",
       " (0, 2, 3),\n",
       " (1, 2, 3),\n",
       " (0, 1, 2, 3)]"
      ]
     },
     "execution_count": 10,
     "metadata": {},
     "output_type": "execute_result"
    }
   ],
   "source": [
    "possible_index"
   ]
  },
  {
   "cell_type": "code",
   "execution_count": 66,
   "metadata": {},
   "outputs": [],
   "source": [
    "true_index = [True for x in range(len(possible_index))]"
   ]
  },
  {
   "cell_type": "code",
   "execution_count": 42,
   "metadata": {},
   "outputs": [],
   "source": [
    "answer = ["
   ]
  },
  {
   "cell_type": "code",
   "execution_count": 43,
   "metadata": {},
   "outputs": [],
   "source": [
    "empty_i=[]\n",
    "for i , k in zip(possible_index, true_index) :\n",
    "    if k == False:\n",
    "        continue\n",
    "    for sero in range(all_count):\n",
    "        empty_j = []\n",
    "        for j in i:\n",
    "            empty_j.append(relation[sero][j])\n",
    "        empty_i.append(tuple(empty_j))\n",
    "            \n",
    "    if len(set(empty_i)) == all_count:\n",
    "        answer.append(i)\n",
    "    \n",
    "    for a in i:\n",
    "        for b in \n",
    "        \n",
    "    \n",
    "        \n",
    "        \n",
    "        \n",
    "    \n",
    "    break"
   ]
  },
  {
   "cell_type": "code",
   "execution_count": 44,
   "metadata": {},
   "outputs": [
    {
     "data": {
      "text/plain": [
       "[('100',), ('200',), ('300',), ('400',), ('500',), ('600',)]"
      ]
     },
     "execution_count": 44,
     "metadata": {},
     "output_type": "execute_result"
    }
   ],
   "source": [
    "empty_i"
   ]
  },
  {
   "cell_type": "code",
   "execution_count": 45,
   "metadata": {},
   "outputs": [
    {
     "data": {
      "text/plain": [
       "[(0,)]"
      ]
     },
     "execution_count": 45,
     "metadata": {},
     "output_type": "execute_result"
    }
   ],
   "source": [
    "answer"
   ]
  },
  {
   "cell_type": "code",
   "execution_count": 63,
   "metadata": {},
   "outputs": [],
   "source": [
    "s = list(range(5))"
   ]
  },
  {
   "cell_type": "code",
   "execution_count": 64,
   "metadata": {},
   "outputs": [
    {
     "data": {
      "text/plain": [
       "[0, 1, 2, 3, 4]"
      ]
     },
     "execution_count": 64,
     "metadata": {},
     "output_type": "execute_result"
    }
   ],
   "source": [
    "s"
   ]
  },
  {
   "cell_type": "code",
   "execution_count": 65,
   "metadata": {},
   "outputs": [
    {
     "name": "stdout",
     "output_type": "stream",
     "text": [
      "0 i\n",
      "0 ind\n",
      "[1, 2, 3, 4]\n",
      "2 i\n",
      "1 ind\n",
      "[1, 3, 4]\n",
      "4 i\n",
      "2 ind\n",
      "[1, 3]\n"
     ]
    }
   ],
   "source": [
    "for i in s:\n",
    "    print(i,'i')\n",
    "    if i %2 ==0:\n",
    "        ind = s.index(i)\n",
    "        print(ind,'ind')\n",
    "        s.pop(ind)\n",
    "        print(s)"
   ]
  },
  {
   "cell_type": "code",
   "execution_count": null,
   "metadata": {},
   "outputs": [],
   "source": []
  },
  {
   "cell_type": "code",
   "execution_count": null,
   "metadata": {},
   "outputs": [],
   "source": []
  },
  {
   "cell_type": "code",
   "execution_count": null,
   "metadata": {},
   "outputs": [],
   "source": []
  },
  {
   "cell_type": "code",
   "execution_count": 37,
   "metadata": {},
   "outputs": [],
   "source": [
    "sss = [(1,2),(3,4),(1,2)]"
   ]
  },
  {
   "cell_type": "code",
   "execution_count": 39,
   "metadata": {},
   "outputs": [
    {
     "data": {
      "text/plain": [
       "[(1, 2), (3, 4)]"
      ]
     },
     "execution_count": 39,
     "metadata": {},
     "output_type": "execute_result"
    }
   ],
   "source": [
    "list(set(sss))"
   ]
  },
  {
   "cell_type": "code",
   "execution_count": 36,
   "metadata": {},
   "outputs": [
    {
     "ename": "TypeError",
     "evalue": "unhashable type: 'list'",
     "output_type": "error",
     "traceback": [
      "\u001b[0;31m---------------------------------------------------------------------------\u001b[0m",
      "\u001b[0;31mTypeError\u001b[0m                                 Traceback (most recent call last)",
      "\u001b[0;32m/var/folders/kr/z0vkrxjj5bq7lqpnzwpy9s_c0000gn/T/ipykernel_5572/3426752540.py\u001b[0m in \u001b[0;36m<module>\u001b[0;34m\u001b[0m\n\u001b[0;32m----> 1\u001b[0;31m \u001b[0mset\u001b[0m\u001b[0;34m(\u001b[0m\u001b[0mempty_i\u001b[0m\u001b[0;34m)\u001b[0m\u001b[0;34m\u001b[0m\u001b[0;34m\u001b[0m\u001b[0m\n\u001b[0m",
      "\u001b[0;31mTypeError\u001b[0m: unhashable type: 'list'"
     ]
    }
   ],
   "source": [
    "set(empty_i)"
   ]
  },
  {
   "cell_type": "code",
   "execution_count": null,
   "metadata": {},
   "outputs": [],
   "source": []
  },
  {
   "cell_type": "code",
   "execution_count": null,
   "metadata": {},
   "outputs": [],
   "source": []
  },
  {
   "cell_type": "code",
   "execution_count": null,
   "metadata": {},
   "outputs": [],
   "source": []
  },
  {
   "cell_type": "code",
   "execution_count": null,
   "metadata": {},
   "outputs": [],
   "source": []
  },
  {
   "cell_type": "code",
   "execution_count": 32,
   "metadata": {},
   "outputs": [
    {
     "data": {
      "text/plain": [
       "['600']"
      ]
     },
     "execution_count": 32,
     "metadata": {},
     "output_type": "execute_result"
    }
   ],
   "source": [
    "empty_j"
   ]
  },
  {
   "cell_type": "code",
   "execution_count": 33,
   "metadata": {},
   "outputs": [
    {
     "data": {
      "text/plain": [
       "['600']"
      ]
     },
     "execution_count": 33,
     "metadata": {},
     "output_type": "execute_result"
    }
   ],
   "source": [
    "empty_j"
   ]
  },
  {
   "cell_type": "code",
   "execution_count": 29,
   "metadata": {},
   "outputs": [
    {
     "data": {
      "text/plain": [
       "[]"
      ]
     },
     "execution_count": 29,
     "metadata": {},
     "output_type": "execute_result"
    }
   ],
   "source": [
    "empty_i"
   ]
  },
  {
   "cell_type": "code",
   "execution_count": null,
   "metadata": {},
   "outputs": [],
   "source": []
  },
  {
   "cell_type": "code",
   "execution_count": null,
   "metadata": {},
   "outputs": [],
   "source": []
  },
  {
   "cell_type": "code",
   "execution_count": 18,
   "metadata": {},
   "outputs": [
    {
     "data": {
      "text/plain": [
       "(0,)"
      ]
     },
     "execution_count": 18,
     "metadata": {},
     "output_type": "execute_result"
    }
   ],
   "source": [
    "i"
   ]
  },
  {
   "cell_type": "code",
   "execution_count": 19,
   "metadata": {},
   "outputs": [
    {
     "name": "stdout",
     "output_type": "stream",
     "text": [
      "0\n"
     ]
    }
   ],
   "source": [
    "for j in  i:\n",
    "    print(j)"
   ]
  },
  {
   "cell_type": "code",
   "execution_count": 17,
   "metadata": {},
   "outputs": [
    {
     "data": {
      "text/plain": [
       "1"
      ]
     },
     "execution_count": 17,
     "metadata": {},
     "output_type": "execute_result"
    }
   ],
   "source": [
    "i_length"
   ]
  },
  {
   "cell_type": "code",
   "execution_count": null,
   "metadata": {},
   "outputs": [],
   "source": []
  },
  {
   "cell_type": "code",
   "execution_count": null,
   "metadata": {},
   "outputs": [],
   "source": []
  },
  {
   "cell_type": "code",
   "execution_count": null,
   "metadata": {},
   "outputs": [],
   "source": []
  },
  {
   "cell_type": "code",
   "execution_count": null,
   "metadata": {},
   "outputs": [],
   "source": []
  },
  {
   "cell_type": "code",
   "execution_count": null,
   "metadata": {
    "id": "RZbn-xvMRPFN"
   },
   "outputs": [],
   "source": [
    "result_key=[]\n",
    "possible=[]\n",
    "for i in range(0,len(relation[0])+1):\n",
    "  if i ==0:\n",
    "    continue\n",
    "  possible+= list( itertools.combinations( range(len( relation[0]) )  ,i) )\n",
    "  # empty_list = []\n",
    "  # for j in range(len(relation)):\n",
    "  #   empty_list.append(relation[j][i])"
   ]
  },
  {
   "cell_type": "code",
   "execution_count": null,
   "metadata": {
    "colab": {
     "base_uri": "https://localhost:8080/"
    },
    "id": "rHF1LkjOZ9Qw",
    "outputId": "76a18126-5def-479e-b24f-390dd2f3beba"
   },
   "outputs": [
    {
     "data": {
      "text/plain": [
       "[(0,),\n",
       " (1,),\n",
       " (2,),\n",
       " (3,),\n",
       " (0, 1),\n",
       " (0, 2),\n",
       " (0, 3),\n",
       " (1, 2),\n",
       " (1, 3),\n",
       " (2, 3),\n",
       " (0, 1, 2),\n",
       " (0, 1, 3),\n",
       " (0, 2, 3),\n",
       " (1, 2, 3),\n",
       " (0, 1, 2, 3)]"
      ]
     },
     "execution_count": 14,
     "metadata": {},
     "output_type": "execute_result"
    }
   ],
   "source": [
    "possible"
   ]
  },
  {
   "cell_type": "code",
   "execution_count": null,
   "metadata": {
    "id": "1lctrDBibNK6"
   },
   "outputs": [],
   "source": [
    "count = 0\n",
    "while count != len(possible):\n",
    "  for i in range(len(possible)):\n",
    "    \n"
   ]
  },
  {
   "cell_type": "code",
   "execution_count": null,
   "metadata": {
    "colab": {
     "base_uri": "https://localhost:8080/"
    },
    "id": "DYko7-AMcYPr",
    "outputId": "f2da256a-93e5-4655-aa02-be5f6f3f6532"
   },
   "outputs": [
    {
     "data": {
      "text/plain": [
       "False"
      ]
     },
     "execution_count": 18,
     "metadata": {},
     "output_type": "execute_result"
    }
   ],
   "source": [
    "possible[0] in possible[4]"
   ]
  },
  {
   "cell_type": "code",
   "execution_count": null,
   "metadata": {
    "colab": {
     "base_uri": "https://localhost:8080/"
    },
    "id": "1bqTEEFOcips",
    "outputId": "7dbf45f0-7652-4837-dc31-ecfabc50c82b"
   },
   "outputs": [
    {
     "data": {
      "text/plain": [
       "False"
      ]
     },
     "execution_count": 19,
     "metadata": {},
     "output_type": "execute_result"
    }
   ],
   "source": [
    "[0] in [0,2]"
   ]
  },
  {
   "cell_type": "code",
   "execution_count": null,
   "metadata": {
    "id": "teIkZojDZ8-W"
   },
   "outputs": [],
   "source": [
    "empty_list = []\n",
    "  for j in range(len(relation)):\n",
    "    empty_list.append(relation[j][i])\n",
    "  \n",
    "  if len(set(empty_list))== len(relation):\n",
    "    "
   ]
  },
  {
   "cell_type": "code",
   "execution_count": 74,
   "metadata": {},
   "outputs": [],
   "source": [
    "from itertools import combinations as C\n",
    "r, c = len(relation), len(relation[0])\n",
    "columnIndex = [i for i in range(c)]\n",
    "candidateKey = []"
   ]
  },
  {
   "cell_type": "code",
   "execution_count": 76,
   "metadata": {},
   "outputs": [],
   "source": [
    "\n",
    "# 가능한 모든 키 조합에 대해\n",
    "for i in range(1, c+1):\n",
    "  for keyComb in list(C(columnIndex, i)):\n",
    "      uniqueness = True\n",
    "      chk = []"
   ]
  },
  {
   "cell_type": "code",
   "execution_count": 77,
   "metadata": {},
   "outputs": [
    {
     "data": {
      "text/plain": [
       "[]"
      ]
     },
     "execution_count": 77,
     "metadata": {},
     "output_type": "execute_result"
    }
   ],
   "source": [
    "chk"
   ]
  },
  {
   "cell_type": "code",
   "execution_count": null,
   "metadata": {},
   "outputs": [],
   "source": []
  },
  {
   "cell_type": "code",
   "execution_count": 78,
   "metadata": {
    "id": "3YPrhs62c6yH"
   },
   "outputs": [],
   "source": [
    "from itertools import combinations as C\n",
    "r, c = len(relation), len(relation[0])\n",
    "columnIndex = [i for i in range(c)]\n",
    "candidateKey = []\n",
    "\n",
    "# 가능한 모든 키 조합에 대해\n",
    "for i in range(1, c+1):\n",
    "    for keyComb in list(C(columnIndex, i)):\n",
    "      uniqueness = True\n",
    "      chk = []\n",
    "\n",
    "      # 릴레이션에서 해당 키의 튜플만 저장\n",
    "      for rel in relation:\n",
    "          temp = []\n",
    "          for key in keyComb:\n",
    "              temp.append(rel[key])\n",
    "\n",
    "          # 유일성 체크\n",
    "          if temp in chk:\n",
    "              uniqueness = False\n",
    "              break\n",
    "          else:\n",
    "              chk.append(temp)\n",
    "    break\n",
    "    "
   ]
  },
  {
   "cell_type": "code",
   "execution_count": 79,
   "metadata": {},
   "outputs": [
    {
     "data": {
      "text/plain": [
       "[['2']]"
      ]
     },
     "execution_count": 79,
     "metadata": {},
     "output_type": "execute_result"
    }
   ],
   "source": [
    "chk"
   ]
  },
  {
   "cell_type": "code",
   "execution_count": null,
   "metadata": {},
   "outputs": [],
   "source": []
  },
  {
   "cell_type": "code",
   "execution_count": null,
   "metadata": {},
   "outputs": [],
   "source": []
  },
  {
   "cell_type": "code",
   "execution_count": null,
   "metadata": {},
   "outputs": [],
   "source": []
  },
  {
   "cell_type": "code",
   "execution_count": 73,
   "metadata": {},
   "outputs": [
    {
     "data": {
      "text/plain": [
       "[0, 1, 2, 3]"
      ]
     },
     "execution_count": 73,
     "metadata": {},
     "output_type": "execute_result"
    }
   ],
   "source": [
    "columnIndex"
   ]
  },
  {
   "cell_type": "code",
   "execution_count": 71,
   "metadata": {},
   "outputs": [
    {
     "data": {
      "text/plain": [
       "['600', 'apeach', 'music', '2']"
      ]
     },
     "execution_count": 71,
     "metadata": {},
     "output_type": "execute_result"
    }
   ],
   "source": [
    "rel"
   ]
  },
  {
   "cell_type": "code",
   "execution_count": 72,
   "metadata": {},
   "outputs": [
    {
     "data": {
      "text/plain": [
       "['600', 'apeach', 'music', '2']"
      ]
     },
     "execution_count": 72,
     "metadata": {},
     "output_type": "execute_result"
    }
   ],
   "source": [
    "temp"
   ]
  },
  {
   "cell_type": "code",
   "execution_count": null,
   "metadata": {},
   "outputs": [],
   "source": []
  },
  {
   "cell_type": "code",
   "execution_count": null,
   "metadata": {},
   "outputs": [],
   "source": []
  },
  {
   "cell_type": "code",
   "execution_count": null,
   "metadata": {},
   "outputs": [],
   "source": []
  },
  {
   "cell_type": "code",
   "execution_count": 69,
   "metadata": {
    "colab": {
     "base_uri": "https://localhost:8080/"
    },
    "id": "WU8piKaac-x2",
    "outputId": "83cee43d-c3fd-407e-f7ee-ec03a4502f67"
   },
   "outputs": [
    {
     "data": {
      "text/plain": [
       "[['100', 'ryan', 'music', '2'],\n",
       " ['200', 'apeach', 'math', '2'],\n",
       " ['300', 'tube', 'computer', '3'],\n",
       " ['400', 'con', 'computer', '4'],\n",
       " ['500', 'muzi', 'music', '3'],\n",
       " ['600', 'apeach', 'music', '2']]"
      ]
     },
     "execution_count": 69,
     "metadata": {},
     "output_type": "execute_result"
    }
   ],
   "source": [
    "chk"
   ]
  },
  {
   "cell_type": "code",
   "execution_count": null,
   "metadata": {
    "id": "mlgUSnfadJHl"
   },
   "outputs": [],
   "source": []
  },
  {
   "cell_type": "code",
   "execution_count": null,
   "metadata": {
    "colab": {
     "base_uri": "https://localhost:8080/"
    },
    "id": "8yqlEHJMbDYQ",
    "outputId": "8d205e51-ff4f-4133-efea-9cf1b8e62998"
   },
   "outputs": [
    {
     "data": {
      "text/plain": [
       "['ryan', 'apeach', 'tube', 'con', 'muzi', 'apeach']"
      ]
     },
     "execution_count": 36,
     "metadata": {},
     "output_type": "execute_result"
    }
   ],
   "source": [
    "empty_list"
   ]
  },
  {
   "cell_type": "code",
   "execution_count": null,
   "metadata": {
    "colab": {
     "base_uri": "https://localhost:8080/"
    },
    "id": "5d_-lSgZYLAL",
    "outputId": "447990a0-7b4e-4ad8-8e87-603e6f86d95a"
   },
   "outputs": [
    {
     "data": {
      "text/plain": [
       "[['100', 'ryan', 'music', '2'],\n",
       " ['200', 'apeach', 'math', '2'],\n",
       " ['300', 'tube', 'computer', '3'],\n",
       " ['400', 'con', 'computer', '4'],\n",
       " ['500', 'muzi', 'music', '3'],\n",
       " ['600', 'apeach', 'music', '2']]"
      ]
     },
     "execution_count": 31,
     "metadata": {},
     "output_type": "execute_result"
    }
   ],
   "source": [
    "relation[:]"
   ]
  },
  {
   "cell_type": "code",
   "execution_count": null,
   "metadata": {
    "colab": {
     "base_uri": "https://localhost:8080/"
    },
    "id": "t4TUGBZtWl8V",
    "outputId": "ec17f8e7-ff46-4f54-fb7e-a73c8450dfb9"
   },
   "outputs": [
    {
     "data": {
      "text/plain": [
       "['300', 'tube', 'computer', '3']"
      ]
     },
     "execution_count": 30,
     "metadata": {},
     "output_type": "execute_result"
    }
   ],
   "source": [
    "relation[:][2]"
   ]
  },
  {
   "cell_type": "code",
   "execution_count": null,
   "metadata": {
    "colab": {
     "base_uri": "https://localhost:8080/"
    },
    "id": "fotRQNAFShef",
    "outputId": "80b6aeca-0d64-445c-b573-567cf2080cef"
   },
   "outputs": [
    {
     "data": {
      "text/plain": [
       "[(0,),\n",
       " (1,),\n",
       " (2,),\n",
       " (3,),\n",
       " (0, 1),\n",
       " (0, 2),\n",
       " (0, 3),\n",
       " (1, 2),\n",
       " (1, 3),\n",
       " (2, 3),\n",
       " (0, 1, 2),\n",
       " (0, 1, 3),\n",
       " (0, 2, 3),\n",
       " (1, 2, 3)]"
      ]
     },
     "execution_count": 23,
     "metadata": {},
     "output_type": "execute_result"
    }
   ],
   "source": [
    "possible"
   ]
  },
  {
   "cell_type": "code",
   "execution_count": null,
   "metadata": {
    "id": "GKWM3nQ-TMjh"
   },
   "outputs": [],
   "source": [
    "from itertools import combinations def solution(relation): # 컬럼의 개수, 행의 개수, 컬럼 리스트(인덱스로 표현함) n_col = len(relation[0]) n_row = len(relation) list_col = [i for i in range(n_col)] # 컬럼 리스트로 후보키 조합 만들기 # 주의사항 : list를 [] 없이 추가하고 싶을 때는 append 대신 extend 사용! combs_col = [] for i in range(1,n_col+1): combs_col.extend(list(combinations(list_col,i))) # print(combs_col) # 유일성 : 유일하게 식별되어야 함 => 해당 컬럼 안에 중복된 값이 없어야 한다. uniques = [] for i in combs_col: key =set() # key : {} 주의 : append 대신 add를 이용 for j in range(n_row): key.add(tuple(relation[j][k] for k in i)) # set을 이용하므로 tuple 사용 # print(key) if len(key) == n_row: uniques.append(i) # print(uniques)\n",
    "출처: https://codingspooning.tistory.com/entry/Programmers-2019-카카오-후보키 [코딩하는 금융인]"
   ]
  },
  {
   "cell_type": "code",
   "execution_count": null,
   "metadata": {
    "id": "HAbFSPOieaCW"
   },
   "outputs": [],
   "source": [
    "relation = [[\"100\",\"ryan\",\"music\",\"2\"],\n",
    "            [\"200\",\"apeach\",\"math\",\"2\"],\n",
    "            [\"300\",\"tube\",\"computer\",\"3\"],\n",
    "            [\"400\",\"con\",\"computer\",\"4\"],\n",
    "            [\"500\",\"muzi\",\"music\",\"3\"],\n",
    "            [\"600\",\"apeach\",\"music\",\"2\"]]"
   ]
  },
  {
   "cell_type": "code",
   "execution_count": null,
   "metadata": {
    "id": "Arc8wYYJeIGN"
   },
   "outputs": [],
   "source": [
    "from itertools import combinations\n",
    "\n",
    "def solution(relation):\n",
    "    answer = 0\n",
    "    all = []\n",
    "    unique_list = []\n",
    "    for i in range(1, len(relation[0]) + 1):                                                # 가능한 조합 구하는 부분. [\"100\",\"ryan\",\"music\",\"2\"]  대신 인덱스를 사용했음. [0,1,2,3]  --->  이생각을 못해서 못풀었네 ㅠㅠ\n",
    "        all.extend([set(k) for k in combinations([j for j in range(len(relation[0]))], i)]) # all에 가능한 조합 다들어가게 됨. \n",
    "    for subset in all:   # {0}. \n",
    "        unique = True\n",
    "        row_set = set()\n",
    "        for i in range(len(relation)): # relation 에. 들어있는 애들을 탐색하는데 가능한. subset에 대해서 subset -> [0,1]\n",
    "            row = ''\n",
    "            for j in subset:\n",
    "                print(i,j,'ij')\n",
    "                row += relation[i][j]\n",
    "                print(row)\n",
    "            if row in row_set:\n",
    "                unique = False\n",
    "                break\n",
    "            row_set.add(row)\n",
    "        if unique:\n",
    "            unique_list.append(subset)\n",
    "    unique_list = sorted(unique_list, key=lambda x: len(x))\n",
    "    print(unique_list)\n",
    "    answer_list = []\n",
    "    for subset in unique_list:\n",
    "        subset = set(subset)\n",
    "        check = True\n",
    "        for j in answer_list:\n",
    "            if j.issubset(subset):\n",
    "                check = False\n",
    "        if check:\n",
    "            answer_list.append(subset)\n",
    "\n",
    "    print(answer_list)\n",
    "    return len(answer_list)"
   ]
  },
  {
   "cell_type": "code",
   "execution_count": null,
   "metadata": {
    "colab": {
     "base_uri": "https://localhost:8080/"
    },
    "id": "QCTaKmwwejCy",
    "outputId": "b1878de8-9329-4e65-c8f1-fc09b0c69c21"
   },
   "outputs": [
    {
     "data": {
      "text/plain": [
       "[{0},\n",
       " {1},\n",
       " {2},\n",
       " {3},\n",
       " {0, 1},\n",
       " {0, 2},\n",
       " {0, 3},\n",
       " {1, 2},\n",
       " {1, 3},\n",
       " {2, 3},\n",
       " {0, 1, 2},\n",
       " {0, 1, 3},\n",
       " {0, 2, 3},\n",
       " {1, 2, 3},\n",
       " {0, 1, 2, 3}]"
      ]
     },
     "execution_count": 22,
     "metadata": {},
     "output_type": "execute_result"
    }
   ],
   "source": [
    "all"
   ]
  },
  {
   "cell_type": "code",
   "execution_count": null,
   "metadata": {
    "colab": {
     "base_uri": "https://localhost:8080/"
    },
    "id": "iUJ2TunHejUp",
    "outputId": "400b2563-0a48-4822-8006-ee85d746597a"
   },
   "outputs": [
    {
     "name": "stdout",
     "output_type": "stream",
     "text": [
      "0 0 ij\n",
      "100\n",
      "1 0 ij\n",
      "200\n",
      "2 0 ij\n",
      "300\n",
      "3 0 ij\n",
      "400\n",
      "4 0 ij\n",
      "500\n",
      "5 0 ij\n",
      "600\n",
      "0 1 ij\n",
      "ryan\n",
      "1 1 ij\n",
      "apeach\n",
      "2 1 ij\n",
      "tube\n",
      "3 1 ij\n",
      "con\n",
      "4 1 ij\n",
      "muzi\n",
      "5 1 ij\n",
      "apeach\n",
      "0 2 ij\n",
      "music\n",
      "1 2 ij\n",
      "math\n",
      "2 2 ij\n",
      "computer\n",
      "3 2 ij\n",
      "computer\n",
      "0 3 ij\n",
      "2\n",
      "1 3 ij\n",
      "2\n",
      "0 0 ij\n",
      "100\n",
      "0 1 ij\n",
      "100ryan\n",
      "1 0 ij\n",
      "200\n",
      "1 1 ij\n",
      "200apeach\n",
      "2 0 ij\n",
      "300\n",
      "2 1 ij\n",
      "300tube\n",
      "3 0 ij\n",
      "400\n",
      "3 1 ij\n",
      "400con\n",
      "4 0 ij\n",
      "500\n",
      "4 1 ij\n",
      "500muzi\n",
      "5 0 ij\n",
      "600\n",
      "5 1 ij\n",
      "600apeach\n",
      "0 0 ij\n",
      "100\n",
      "0 2 ij\n",
      "100music\n",
      "1 0 ij\n",
      "200\n",
      "1 2 ij\n",
      "200math\n",
      "2 0 ij\n",
      "300\n",
      "2 2 ij\n",
      "300computer\n",
      "3 0 ij\n",
      "400\n",
      "3 2 ij\n",
      "400computer\n",
      "4 0 ij\n",
      "500\n",
      "4 2 ij\n",
      "500music\n",
      "5 0 ij\n",
      "600\n",
      "5 2 ij\n",
      "600music\n",
      "0 0 ij\n",
      "100\n",
      "0 3 ij\n",
      "1002\n",
      "1 0 ij\n",
      "200\n",
      "1 3 ij\n",
      "2002\n",
      "2 0 ij\n",
      "300\n",
      "2 3 ij\n",
      "3003\n",
      "3 0 ij\n",
      "400\n",
      "3 3 ij\n",
      "4004\n",
      "4 0 ij\n",
      "500\n",
      "4 3 ij\n",
      "5003\n",
      "5 0 ij\n",
      "600\n",
      "5 3 ij\n",
      "6002\n",
      "0 1 ij\n",
      "ryan\n",
      "0 2 ij\n",
      "ryanmusic\n",
      "1 1 ij\n",
      "apeach\n",
      "1 2 ij\n",
      "apeachmath\n",
      "2 1 ij\n",
      "tube\n",
      "2 2 ij\n",
      "tubecomputer\n",
      "3 1 ij\n",
      "con\n",
      "3 2 ij\n",
      "concomputer\n",
      "4 1 ij\n",
      "muzi\n",
      "4 2 ij\n",
      "muzimusic\n",
      "5 1 ij\n",
      "apeach\n",
      "5 2 ij\n",
      "apeachmusic\n",
      "0 1 ij\n",
      "ryan\n",
      "0 3 ij\n",
      "ryan2\n",
      "1 1 ij\n",
      "apeach\n",
      "1 3 ij\n",
      "apeach2\n",
      "2 1 ij\n",
      "tube\n",
      "2 3 ij\n",
      "tube3\n",
      "3 1 ij\n",
      "con\n",
      "3 3 ij\n",
      "con4\n",
      "4 1 ij\n",
      "muzi\n",
      "4 3 ij\n",
      "muzi3\n",
      "5 1 ij\n",
      "apeach\n",
      "5 3 ij\n",
      "apeach2\n",
      "0 2 ij\n",
      "music\n",
      "0 3 ij\n",
      "music2\n",
      "1 2 ij\n",
      "math\n",
      "1 3 ij\n",
      "math2\n",
      "2 2 ij\n",
      "computer\n",
      "2 3 ij\n",
      "computer3\n",
      "3 2 ij\n",
      "computer\n",
      "3 3 ij\n",
      "computer4\n",
      "4 2 ij\n",
      "music\n",
      "4 3 ij\n",
      "music3\n",
      "5 2 ij\n",
      "music\n",
      "5 3 ij\n",
      "music2\n",
      "0 0 ij\n",
      "100\n",
      "0 1 ij\n",
      "100ryan\n",
      "0 2 ij\n",
      "100ryanmusic\n",
      "1 0 ij\n",
      "200\n",
      "1 1 ij\n",
      "200apeach\n",
      "1 2 ij\n",
      "200apeachmath\n",
      "2 0 ij\n",
      "300\n",
      "2 1 ij\n",
      "300tube\n",
      "2 2 ij\n",
      "300tubecomputer\n",
      "3 0 ij\n",
      "400\n",
      "3 1 ij\n",
      "400con\n",
      "3 2 ij\n",
      "400concomputer\n",
      "4 0 ij\n",
      "500\n",
      "4 1 ij\n",
      "500muzi\n",
      "4 2 ij\n",
      "500muzimusic\n",
      "5 0 ij\n",
      "600\n",
      "5 1 ij\n",
      "600apeach\n",
      "5 2 ij\n",
      "600apeachmusic\n",
      "0 0 ij\n",
      "100\n",
      "0 1 ij\n",
      "100ryan\n",
      "0 3 ij\n",
      "100ryan2\n",
      "1 0 ij\n",
      "200\n",
      "1 1 ij\n",
      "200apeach\n",
      "1 3 ij\n",
      "200apeach2\n",
      "2 0 ij\n",
      "300\n",
      "2 1 ij\n",
      "300tube\n",
      "2 3 ij\n",
      "300tube3\n",
      "3 0 ij\n",
      "400\n",
      "3 1 ij\n",
      "400con\n",
      "3 3 ij\n",
      "400con4\n",
      "4 0 ij\n",
      "500\n",
      "4 1 ij\n",
      "500muzi\n",
      "4 3 ij\n",
      "500muzi3\n",
      "5 0 ij\n",
      "600\n",
      "5 1 ij\n",
      "600apeach\n",
      "5 3 ij\n",
      "600apeach2\n",
      "0 0 ij\n",
      "100\n",
      "0 2 ij\n",
      "100music\n",
      "0 3 ij\n",
      "100music2\n",
      "1 0 ij\n",
      "200\n",
      "1 2 ij\n",
      "200math\n",
      "1 3 ij\n",
      "200math2\n",
      "2 0 ij\n",
      "300\n",
      "2 2 ij\n",
      "300computer\n",
      "2 3 ij\n",
      "300computer3\n",
      "3 0 ij\n",
      "400\n",
      "3 2 ij\n",
      "400computer\n",
      "3 3 ij\n",
      "400computer4\n",
      "4 0 ij\n",
      "500\n",
      "4 2 ij\n",
      "500music\n",
      "4 3 ij\n",
      "500music3\n",
      "5 0 ij\n",
      "600\n",
      "5 2 ij\n",
      "600music\n",
      "5 3 ij\n",
      "600music2\n",
      "0 1 ij\n",
      "ryan\n",
      "0 2 ij\n",
      "ryanmusic\n",
      "0 3 ij\n",
      "ryanmusic2\n",
      "1 1 ij\n",
      "apeach\n",
      "1 2 ij\n",
      "apeachmath\n",
      "1 3 ij\n",
      "apeachmath2\n",
      "2 1 ij\n",
      "tube\n",
      "2 2 ij\n",
      "tubecomputer\n",
      "2 3 ij\n",
      "tubecomputer3\n",
      "3 1 ij\n",
      "con\n",
      "3 2 ij\n",
      "concomputer\n",
      "3 3 ij\n",
      "concomputer4\n",
      "4 1 ij\n",
      "muzi\n",
      "4 2 ij\n",
      "muzimusic\n",
      "4 3 ij\n",
      "muzimusic3\n",
      "5 1 ij\n",
      "apeach\n",
      "5 2 ij\n",
      "apeachmusic\n",
      "5 3 ij\n",
      "apeachmusic2\n",
      "0 0 ij\n",
      "100\n",
      "0 1 ij\n",
      "100ryan\n",
      "0 2 ij\n",
      "100ryanmusic\n",
      "0 3 ij\n",
      "100ryanmusic2\n",
      "1 0 ij\n",
      "200\n",
      "1 1 ij\n",
      "200apeach\n",
      "1 2 ij\n",
      "200apeachmath\n",
      "1 3 ij\n",
      "200apeachmath2\n",
      "2 0 ij\n",
      "300\n",
      "2 1 ij\n",
      "300tube\n",
      "2 2 ij\n",
      "300tubecomputer\n",
      "2 3 ij\n",
      "300tubecomputer3\n",
      "3 0 ij\n",
      "400\n",
      "3 1 ij\n",
      "400con\n",
      "3 2 ij\n",
      "400concomputer\n",
      "3 3 ij\n",
      "400concomputer4\n",
      "4 0 ij\n",
      "500\n",
      "4 1 ij\n",
      "500muzi\n",
      "4 2 ij\n",
      "500muzimusic\n",
      "4 3 ij\n",
      "500muzimusic3\n",
      "5 0 ij\n",
      "600\n",
      "5 1 ij\n",
      "600apeach\n",
      "5 2 ij\n",
      "600apeachmusic\n",
      "5 3 ij\n",
      "600apeachmusic2\n",
      "[{0}, {0, 1}, {0, 2}, {0, 3}, {1, 2}, {0, 1, 2}, {0, 1, 3}, {0, 2, 3}, {1, 2, 3}, {0, 1, 2, 3}]\n",
      "[{0}, {1, 2}]\n"
     ]
    },
    {
     "data": {
      "text/plain": [
       "2"
      ]
     },
     "execution_count": 23,
     "metadata": {},
     "output_type": "execute_result"
    }
   ],
   "source": [
    "solution(relation)"
   ]
  },
  {
   "cell_type": "code",
   "execution_count": null,
   "metadata": {
    "id": "O2EeejHrkj5I"
   },
   "outputs": [],
   "source": []
  }
 ],
 "metadata": {
  "colab": {
   "collapsed_sections": [],
   "name": "후보키ipynb",
   "provenance": []
  },
  "kernelspec": {
   "display_name": "Python 3 (ipykernel)",
   "language": "python",
   "name": "python3"
  },
  "language_info": {
   "codemirror_mode": {
    "name": "ipython",
    "version": 3
   },
   "file_extension": ".py",
   "mimetype": "text/x-python",
   "name": "python",
   "nbconvert_exporter": "python",
   "pygments_lexer": "ipython3",
   "version": "3.9.7"
  }
 },
 "nbformat": 4,
 "nbformat_minor": 1
}
