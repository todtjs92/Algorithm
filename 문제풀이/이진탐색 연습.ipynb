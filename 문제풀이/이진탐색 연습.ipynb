{
 "cells": [
  {
   "cell_type": "markdown",
   "id": "cf9d6727",
   "metadata": {},
   "source": [
    "#### 예제"
   ]
  },
  {
   "cell_type": "markdown",
   "id": "02b3cb1e",
   "metadata": {},
   "source": [
    "#### 두 배열의 교집합 구하기"
   ]
  },
  {
   "cell_type": "code",
   "execution_count": 44,
   "id": "e64999a2",
   "metadata": {},
   "outputs": [],
   "source": [
    "nums = [1,2,2,1,3,4,5,10,48,24,3,9,7]\n",
    "nums2 = [2,2,4,6,5,9,10,25,7,66]"
   ]
  },
  {
   "cell_type": "markdown",
   "id": "2fc4648a",
   "metadata": {},
   "source": [
    "\n",
    "#### 방법 1"
   ]
  },
  {
   "cell_type": "code",
   "execution_count": 45,
   "id": "124217b3",
   "metadata": {},
   "outputs": [
    {
     "data": {
      "text/plain": [
       "{2, 4, 5, 7, 9, 10}"
      ]
     },
     "execution_count": 45,
     "metadata": {},
     "output_type": "execute_result"
    }
   ],
   "source": [
    "set(nums1) & set(nums2) "
   ]
  },
  {
   "cell_type": "markdown",
   "id": "53a667f8",
   "metadata": {},
   "source": [
    "#### 방법 2"
   ]
  },
  {
   "cell_type": "code",
   "execution_count": 46,
   "id": "86b7ed4a",
   "metadata": {},
   "outputs": [],
   "source": [
    "nums2 = sorted(nums2)"
   ]
  },
  {
   "cell_type": "code",
   "execution_count": 47,
   "id": "ffeb892e",
   "metadata": {},
   "outputs": [],
   "source": [
    "result= []"
   ]
  },
  {
   "cell_type": "code",
   "execution_count": 48,
   "id": "624ff228",
   "metadata": {},
   "outputs": [],
   "source": [
    "def binary_search(left,right):\n",
    "    if left <= right:\n",
    "        mid = (left+right)//2\n",
    "        \n",
    "        if nums2[mid] < target:\n",
    "            return binary_search(mid+1,right)\n",
    "        \n",
    "        elif nums2[mid] > target:\n",
    "            return binary_search(left,mid-1)\n",
    "        \n",
    "        else:\n",
    "            return mid\n",
    "        \n",
    "    else:\n",
    "        return -1\n",
    "\n",
    "    "
   ]
  },
  {
   "cell_type": "code",
   "execution_count": 50,
   "id": "89d58fea",
   "metadata": {},
   "outputs": [
    {
     "name": "stdout",
     "output_type": "stream",
     "text": [
      "0\n",
      "0\n",
      "0\n",
      "0\n",
      "2\n",
      "2\n",
      "3\n",
      "7\n",
      "9\n",
      "8\n",
      "2\n",
      "6\n",
      "5\n"
     ]
    }
   ],
   "source": [
    "for n1 in nums:\n",
    "    target= n1\n",
    "    index =bisect.bisect_left(nums2 ,target)\n",
    "    print(index)\n",
    "    \n",
    "    "
   ]
  },
  {
   "cell_type": "markdown",
   "id": "6e49a2e9",
   "metadata": {},
   "source": [
    "#### 모듈 이용 풀이"
   ]
  },
  {
   "cell_type": "code",
   "execution_count": 42,
   "id": "7e08a42e",
   "metadata": {},
   "outputs": [],
   "source": [
    "import bisect"
   ]
  },
  {
   "cell_type": "code",
   "execution_count": null,
   "id": "b7c48ab9",
   "metadata": {},
   "outputs": [],
   "source": [
    "index =bisect.bisect_left(nums2 ,target)"
   ]
  },
  {
   "cell_type": "markdown",
   "id": "f289a995",
   "metadata": {},
   "source": [
    "#### 이런식으로 삽입도 가능하다"
   ]
  },
  {
   "cell_type": "code",
   "execution_count": null,
   "id": "c8df0992",
   "metadata": {},
   "outputs": [],
   "source": [
    "https://bip.weizmann.ac.il/course/python/PyMOTW/PyMOTW/docs/bisect/index.html"
   ]
  }
 ],
 "metadata": {
  "kernelspec": {
   "display_name": "Python 3 (ipykernel)",
   "language": "python",
   "name": "python3"
  },
  "language_info": {
   "codemirror_mode": {
    "name": "ipython",
    "version": 3
   },
   "file_extension": ".py",
   "mimetype": "text/x-python",
   "name": "python",
   "nbconvert_exporter": "python",
   "pygments_lexer": "ipython3",
   "version": "3.9.7"
  }
 },
 "nbformat": 4,
 "nbformat_minor": 5
}
