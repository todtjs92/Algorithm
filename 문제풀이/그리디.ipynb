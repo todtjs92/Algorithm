{
 "cells": [
  {
   "cell_type": "markdown",
   "id": "96067398",
   "metadata": {},
   "source": [
    "### 뭐부터 빼야할지 모를떄 이렇게해야할삘"
   ]
  },
  {
   "cell_type": "markdown",
   "id": "e629a650",
   "metadata": {},
   "source": [
    "# 키에대한 정렬"
   ]
  },
  {
   "cell_type": "code",
   "execution_count": 1,
   "id": "72921dfb",
   "metadata": {},
   "outputs": [],
   "source": [
    "people = [[7,0],[4,4],[7,1],[5,0],[6,1],[5,2]]"
   ]
  },
  {
   "cell_type": "code",
   "execution_count": 7,
   "id": "7561d583",
   "metadata": {},
   "outputs": [],
   "source": [
    "answer = [people[0]]"
   ]
  },
  {
   "cell_type": "code",
   "execution_count": null,
   "id": "c6e273fd",
   "metadata": {},
   "outputs": [],
   "source": [
    "# 1. people 에 대해 for 돌면서  ok\n",
    "# 2. 아무것도 없으면 우선 넣고   ok \n",
    "# 3. 키 비교해서 넣고 ,  \n",
    "# 4. 키체크하고 뒤에 순위 체크확인하기 어케?? 4를 넘으면 안됨 예를 들어 . \n",
    "# 5. 이런식으로 for문돌면서 완료\n",
    "# 6. 예외 처리 . 처음 부분만 하면 될듯.  ok "
   ]
  },
  {
   "cell_type": "code",
   "execution_count": null,
   "id": "31e2c246",
   "metadata": {},
   "outputs": [],
   "source": [
    "def solution(people):\n",
    "    if len(people)== 1:\n",
    "        return people\n",
    "    answer = [people[0]]\n",
    "    for p in range(1,len(people)):\n",
    "        height_p = people[p][0]\n",
    "        rank_p = people[p][1]\n",
    "        \n",
    "        # 키 비교\n",
    "        for a in range(len(answer)):\n",
    "            height_a = answer[a][0] \n",
    "            rank_a   = answer[a][1\n",
    "                                 \n",
    "            if height_a  < height_p\n",
    "        \n",
    "        \n",
    "        # 순위 체크 < "
   ]
  },
  {
   "cell_type": "markdown",
   "id": "68f5a900",
   "metadata": {},
   "source": [
    "### 망함 ㅡㅡ"
   ]
  },
  {
   "cell_type": "markdown",
   "id": "e274e737",
   "metadata": {},
   "source": [
    "힙으로 풀어야한다고?"
   ]
  },
  {
   "cell_type": "code",
   "execution_count": 19,
   "id": "d1c57440",
   "metadata": {},
   "outputs": [],
   "source": [
    "import heapq"
   ]
  },
  {
   "cell_type": "code",
   "execution_count": 22,
   "id": "0bb30ee5",
   "metadata": {},
   "outputs": [],
   "source": [
    "def reconstructQueue(people):\n",
    "    heap = []\n",
    "    for person in people:\n",
    "        heapq.heappush(heap,(-person[0], person[1]))\n",
    "    \n",
    "    result = []\n",
    "    while heap:\n",
    "        person = heapq.heappop(heap)\n",
    "        result.insert(person[1],[-person[0],person[1]])\n",
    "        print(result)\n",
    "    return result"
   ]
  },
  {
   "cell_type": "code",
   "execution_count": 23,
   "id": "cdd14cd3",
   "metadata": {},
   "outputs": [
    {
     "name": "stdout",
     "output_type": "stream",
     "text": [
      "[[7, 0]]\n",
      "[[7, 0], [7, 1]]\n",
      "[[7, 0], [6, 1], [7, 1]]\n",
      "[[5, 0], [7, 0], [6, 1], [7, 1]]\n",
      "[[5, 0], [7, 0], [5, 2], [6, 1], [7, 1]]\n",
      "[[5, 0], [7, 0], [5, 2], [6, 1], [4, 4], [7, 1]]\n"
     ]
    },
    {
     "data": {
      "text/plain": [
       "[[5, 0], [7, 0], [5, 2], [6, 1], [4, 4], [7, 1]]"
      ]
     },
     "execution_count": 23,
     "metadata": {},
     "output_type": "execute_result"
    }
   ],
   "source": [
    "reconstructQueue(people)"
   ]
  },
  {
   "cell_type": "markdown",
   "id": "b15032f5",
   "metadata": {},
   "source": [
    "# 태스크 스케줄러"
   ]
  },
  {
   "cell_type": "code",
   "execution_count": 25,
   "id": "aa05cc23",
   "metadata": {},
   "outputs": [],
   "source": [
    "from collections import Counter"
   ]
  },
  {
   "cell_type": "code",
   "execution_count": 47,
   "id": "b5acecb6",
   "metadata": {},
   "outputs": [],
   "source": [
    "import collections"
   ]
  },
  {
   "cell_type": "code",
   "execution_count": 48,
   "id": "1e71d446",
   "metadata": {},
   "outputs": [],
   "source": [
    "def solution(tasks,n):\n",
    "    counter= collections.Counter(tasks)\n",
    "    result = 0\n",
    "    print(counter)\n",
    "    print(counter.most_common(4))\n",
    "    while True:\n",
    "        sub_count = 0\n",
    "        for task , _ in counter.most_common(n+1): # n커도 오류 안나는구나 \n",
    "            \n",
    "            sub_count += 1\n",
    "            result += 1\n",
    "            \n",
    "            counter.subtract(task)\n",
    "            print(counter)\n",
    "            \n",
    "            counter += collections.Counter() # 0인값들 제거하는 거래 참... 이걸어케암\n",
    "            \n",
    "            print(counter)\n",
    "            \n",
    "        if not counter:\n",
    "            break\n",
    "        \n",
    "        result += n - sub_count + 1\n",
    "    \n",
    "    return result"
   ]
  },
  {
   "cell_type": "code",
   "execution_count": 49,
   "id": "4f73bf84",
   "metadata": {},
   "outputs": [],
   "source": [
    "tasks = [\"A\",\"A\",\"A\",\"B\",\"B\",\"B\"]\n",
    "n = 2"
   ]
  },
  {
   "cell_type": "code",
   "execution_count": 50,
   "id": "dcc71a54",
   "metadata": {},
   "outputs": [
    {
     "name": "stdout",
     "output_type": "stream",
     "text": [
      "Counter({'A': 3, 'B': 3})\n",
      "[('A', 3), ('B', 3)]\n",
      "Counter({'B': 3, 'A': 2})\n",
      "Counter({'B': 3, 'A': 2})\n",
      "Counter({'A': 2, 'B': 2})\n",
      "Counter({'A': 2, 'B': 2})\n",
      "Counter({'B': 2, 'A': 1})\n",
      "Counter({'B': 2, 'A': 1})\n",
      "Counter({'A': 1, 'B': 1})\n",
      "Counter({'A': 1, 'B': 1})\n",
      "Counter({'B': 1, 'A': 0})\n",
      "Counter({'B': 1})\n",
      "Counter({'B': 0})\n",
      "Counter()\n"
     ]
    },
    {
     "data": {
      "text/plain": [
       "8"
      ]
     },
     "execution_count": 50,
     "metadata": {},
     "output_type": "execute_result"
    }
   ],
   "source": [
    "solution(tasks, n)"
   ]
  },
  {
   "cell_type": "markdown",
   "id": "a604160b",
   "metadata": {},
   "source": [
    "## 주유소"
   ]
  },
  {
   "cell_type": "code",
   "execution_count": 41,
   "id": "b6073e46",
   "metadata": {},
   "outputs": [],
   "source": [
    "gas = [1,2,3,4,5]\n",
    "cost = [3,4,5,1,2]"
   ]
  },
  {
   "cell_type": "code",
   "execution_count": 44,
   "id": "854a4646",
   "metadata": {},
   "outputs": [],
   "source": [
    "gas = [2,3,4]\n",
    "cost = [3,4,3]"
   ]
  },
  {
   "cell_type": "code",
   "execution_count": 45,
   "id": "f27d79c1",
   "metadata": {},
   "outputs": [],
   "source": [
    "def solution(gas,cost):\n",
    "    for g in range(len(gas)):\n",
    "        pointer = g \n",
    "        start_point = pointer\n",
    "        left_gas = 0\n",
    "\n",
    "        while True:\n",
    "           \n",
    "            left_gas += gas[pointer]\n",
    "            left_gas = left_gas - cost[pointer]\n",
    "    \n",
    "            if left_gas < 0:\n",
    "                break\n",
    "            pointer = ( pointer + 1 ) % len(gas)\n",
    "            \n",
    "            if pointer == start_point:\n",
    "                return pointer\n",
    "    return -1\n"
   ]
  },
  {
   "cell_type": "code",
   "execution_count": 46,
   "id": "ce84119f",
   "metadata": {},
   "outputs": [
    {
     "data": {
      "text/plain": [
       "-1"
      ]
     },
     "execution_count": 46,
     "metadata": {},
     "output_type": "execute_result"
    }
   ],
   "source": [
    "solution(gas,cost)"
   ]
  },
  {
   "cell_type": "markdown",
   "id": "7f6adb0f",
   "metadata": {},
   "source": [
    "## 역시나 시간초과 ㅠ"
   ]
  },
  {
   "cell_type": "markdown",
   "id": "5c707128",
   "metadata": {},
   "source": [
    "# 쿠키"
   ]
  },
  {
   "cell_type": "code",
   "execution_count": 73,
   "id": "166596b9",
   "metadata": {},
   "outputs": [],
   "source": [
    "g = [1,2,3]\n",
    "s = [1,1]"
   ]
  },
  {
   "cell_type": "code",
   "execution_count": 76,
   "id": "53793126",
   "metadata": {},
   "outputs": [],
   "source": [
    "g= [1,2,3]\n",
    "s= [3]"
   ]
  },
  {
   "cell_type": "code",
   "execution_count": 77,
   "id": "7a3194ef",
   "metadata": {},
   "outputs": [],
   "source": [
    "import heapq\n",
    "class Solution:\n",
    "    def findContentChildren(self, g: List[int], s: List[int]) -> int:\n",
    "        if len(g) == 0:\n",
    "            return 0\n",
    "        if len(s) == 0:\n",
    "            return 0\n",
    "        children = []\n",
    "        cookie = []\n",
    "        for _ in g:\n",
    "            heapq.heappush(children,-1*_)\n",
    "\n",
    "        for _ in s:\n",
    "            heapq.heappush(cookie, -1*_)\n",
    "        count = 0\n",
    "        for child in range(len(g)):\n",
    "            max_child = heapq.heappop(children)\n",
    "            max_cookie = min(cookie)\n",
    "            if max_cookie <= max_child:\n",
    "                count +=1\n",
    "                heapq.heappop(cookie)\n",
    "                \n",
    "\n",
    "            if len(children) ==0 or len(cookie)== 0:\n",
    "                break\n",
    "\n",
    "        return count\n"
   ]
  },
  {
   "cell_type": "code",
   "execution_count": null,
   "id": "2df3ac99",
   "metadata": {},
   "outputs": [],
   "source": [
    "# 1 while 돌면서 True 아니면 방문\n",
    "#2 만일 방문한 노드가 temp_sum 보다 작으면 템프섬에 더하고\n",
    "# 3 체크에다가 표시를하고 \n",
    "# 4만일 방문한노드가 템프섬보다 크면 앤설 + 1 해주고 템프섬을 0으로 다시 초기화. 따로 마킹하지않음.\n",
    "# 5  , for문을 다 순회했다면 앤썰에 강제로 더해줘야함 .\n",
    "# 6 그렇게해서 만일 더이상 방문할 노드가 없거나"
   ]
  },
  {
   "cell_type": "code",
   "execution_count": 43,
   "id": "7b3f91ea",
   "metadata": {},
   "outputs": [],
   "source": [
    "from collections import deque"
   ]
  },
  {
   "cell_type": "code",
   "execution_count": 38,
   "id": "05522b0d",
   "metadata": {},
   "outputs": [],
   "source": [
    "def solution(people, limit):\n",
    "    people = sorted(people,  reverse=True)\n",
    "    queue = deque(people)\n",
    "    length = len(people)\n",
    "    check = [False for x in range(len(people))]\n",
    "    \n",
    "    answer = 0\n",
    "    \n",
    "    while sum(check) != length:\n",
    "        temp_sum = 0\n",
    "        count= 0 \n",
    "        for person in range(length):\n",
    "            \n",
    "            if check[person] == False:\n",
    "                temp_sum_ = temp_sum + people[person]\n",
    "                if temp_sum_ <= limit:\n",
    "                    temp_sum += temp_sum_\n",
    "                    check[person] = True\n",
    "                    count +=1\n",
    "            \n",
    "            if count == 2:\n",
    "                \n",
    "                break\n",
    "            \n",
    "        answer +=1\n",
    "        \n",
    "       \n",
    "    return answer"
   ]
  },
  {
   "cell_type": "code",
   "execution_count": null,
   "id": "9b4a755a",
   "metadata": {},
   "outputs": [],
   "source": [
    "from collections import deque\n",
    "def solution(people,limit):\n",
    "    answer = 0 \n",
    "    people = deque(sorted(people, reverse=True))\n",
    "    \n",
    "    while len(people) > 1:\n",
    "        \n",
    "        if people[0] + people[-1] <= limit :\n",
    "            answer += 1\n",
    "            people.pop()\n",
    "            people.popleft()\n",
    "        else:\n",
    "            answer += 1\n",
    "            people.popleft()\n",
    "    \n",
    "    if people:\n",
    "        answer += 1\n",
    "    return answer"
   ]
  },
  {
   "cell_type": "code",
   "execution_count": 44,
   "id": "4494c1fe",
   "metadata": {},
   "outputs": [
    {
     "data": {
      "text/plain": [
       "[40, 40, 30, 30, 30, 20, 10]"
      ]
     },
     "execution_count": 44,
     "metadata": {},
     "output_type": "execute_result"
    }
   ],
   "source": [
    "sorted([10,20,30,40,30,30,40],reverse=True)"
   ]
  },
  {
   "cell_type": "code",
   "execution_count": 45,
   "id": "4127454e",
   "metadata": {},
   "outputs": [
    {
     "data": {
      "text/plain": [
       "4"
      ]
     },
     "execution_count": 45,
     "metadata": {},
     "output_type": "execute_result"
    }
   ],
   "source": [
    "solution([10,20,30,40,30,30,40], 100)"
   ]
  },
  {
   "cell_type": "code",
   "execution_count": 46,
   "id": "be9a4f22",
   "metadata": {},
   "outputs": [
    {
     "data": {
      "text/plain": [
       "3"
      ]
     },
     "execution_count": 46,
     "metadata": {},
     "output_type": "execute_result"
    }
   ],
   "source": [
    "solution([10,20,30,40,100], 100)"
   ]
  },
  {
   "cell_type": "code",
   "execution_count": 47,
   "id": "c645141c",
   "metadata": {},
   "outputs": [
    {
     "data": {
      "text/plain": [
       "2"
      ]
     },
     "execution_count": 47,
     "metadata": {},
     "output_type": "execute_result"
    }
   ],
   "source": [
    "solution([80,70,20], 90)"
   ]
  },
  {
   "cell_type": "markdown",
   "id": "f5b7f96f",
   "metadata": {},
   "source": [
    "### "
   ]
  },
  {
   "cell_type": "code",
   "execution_count": null,
   "id": "3fea8ff0",
   "metadata": {},
   "outputs": [],
   "source": []
  }
 ],
 "metadata": {
  "kernelspec": {
   "display_name": "Python 3 (ipykernel)",
   "language": "python",
   "name": "python3"
  },
  "language_info": {
   "codemirror_mode": {
    "name": "ipython",
    "version": 3
   },
   "file_extension": ".py",
   "mimetype": "text/x-python",
   "name": "python",
   "nbconvert_exporter": "python",
   "pygments_lexer": "ipython3",
   "version": "3.8.13"
  }
 },
 "nbformat": 4,
 "nbformat_minor": 5
}
