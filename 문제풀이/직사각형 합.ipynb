{
 "cells": [
  {
   "cell_type": "code",
   "execution_count": null,
   "id": "b93d25d5",
   "metadata": {},
   "outputs": [],
   "source": [
    "5 5 3\n",
    " 1 -2 3 2 8\n",
    "-8 -9 3 4 5\n",
    " 2 4 7 8 2\n",
    " 1 4 3 1 4\n",
    "-1 2 5 -6 3\n",
    "1 2 3 4\n",
    "0 0 1 1\n",
    "2 0 2 1"
   ]
  },
  {
   "cell_type": "code",
   "execution_count": 21,
   "id": "d1c9d4c6",
   "metadata": {},
   "outputs": [],
   "source": [
    "map_ = []\n",
    "i,j ,query = list(map(int,input().split()))\n",
    "for _ in range(i):\n",
    "    map_.append(list(map(int,input().split())))\n",
    "for ii in range(i):\n",
    "    for jj in range(j-1):\n",
    "        map_[ii][jj+1] += map_[ii][jj]\n",
    "for jj in range(j):\n",
    "    for ii in range(i-1):\n",
    "        map_[ii+1][jj] += map_[ii][jj]\n",
    "for _ in range(query):\n",
    "    i_1 ,j_1 , i_2 , j_2 = list(map(int,input().split()))\n",
    "\n",
    "    answer =0 \n",
    "    if i_1 > 0 and j_1 > 0 :\n",
    "        answer = map_[i_2][j_2] - map_[i_1-1][j_2] - map_[i_2][j_1-1] + map_[i_1-1][j_1-1]\n",
    "        \n",
    "    elif i_1 > 0 :\n",
    "        answer = map_[i_2][j_2] - map_[i_1-1][j_2]\n",
    "    \n",
    "    elif j_1 > 0 :\n",
    "        \n",
    "        answer = map_[i_2][j_2] - map_[i_2][j_1 -1]\n",
    "    \n",
    "    else:\n",
    "        answer = map_[i_2][j_2]\n",
    "    print(answer)"
   ]
  },
  {
   "cell_type": "code",
   "execution_count": null,
   "id": "9d383f82",
   "metadata": {},
   "outputs": [],
   "source": []
  }
 ],
 "metadata": {
  "kernelspec": {
   "display_name": "Python 3 (ipykernel)",
   "language": "python",
   "name": "python3"
  },
  "language_info": {
   "codemirror_mode": {
    "name": "ipython",
    "version": 3
   },
   "file_extension": ".py",
   "mimetype": "text/x-python",
   "name": "python",
   "nbconvert_exporter": "python",
   "pygments_lexer": "ipython3",
   "version": "3.8.13"
  }
 },
 "nbformat": 4,
 "nbformat_minor": 5
}
