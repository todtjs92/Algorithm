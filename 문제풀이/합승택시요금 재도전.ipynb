{
 "cells": [
  {
   "cell_type": "code",
   "execution_count": 66,
   "id": "a8abf150",
   "metadata": {},
   "outputs": [],
   "source": [
    "import heapq"
   ]
  },
  {
   "cell_type": "code",
   "execution_count": 67,
   "id": "998503e4",
   "metadata": {},
   "outputs": [],
   "source": [
    "n = 6  #  node\n",
    "s = 4 # start\n",
    "a = 6 # a 도착지\n",
    "b = 2 # b 도착지"
   ]
  },
  {
   "cell_type": "code",
   "execution_count": 68,
   "id": "df178579",
   "metadata": {},
   "outputs": [],
   "source": [
    "fares = [[4, 1, 10], [3, 5, 24], [5, 6, 2], [3, 1, 41], [5, 1, 24], [4, 6, 50], [2, 4, 66], [2, 3, 22], [1, 6, 25]]"
   ]
  },
  {
   "cell_type": "code",
   "execution_count": 69,
   "id": "31429aaa",
   "metadata": {},
   "outputs": [],
   "source": [
    "INF = int(1e9)"
   ]
  },
  {
   "cell_type": "code",
   "execution_count": 70,
   "id": "b3e31c0f",
   "metadata": {},
   "outputs": [],
   "source": [
    "graph = [[] for x  in range(n+1)]"
   ]
  },
  {
   "cell_type": "code",
   "execution_count": 71,
   "id": "865661f9",
   "metadata": {},
   "outputs": [],
   "source": [
    "for fare in fares:\n",
    "    graph[fare[0]].append([fare[1],fare[2]])\n",
    "    graph[fare[1]].append([fare[0],fare[2]])"
   ]
  },
  {
   "cell_type": "code",
   "execution_count": 72,
   "id": "6c8f8f15",
   "metadata": {},
   "outputs": [
    {
     "data": {
      "text/plain": [
       "[[],\n",
       " [[4, 10], [3, 41], [5, 24], [6, 25]],\n",
       " [[4, 66], [3, 22]],\n",
       " [[5, 24], [1, 41], [2, 22]],\n",
       " [[1, 10], [6, 50], [2, 66]],\n",
       " [[3, 24], [6, 2], [1, 24]],\n",
       " [[5, 2], [4, 50], [1, 25]]]"
      ]
     },
     "execution_count": 72,
     "metadata": {},
     "output_type": "execute_result"
    }
   ],
   "source": [
    "graph"
   ]
  },
  {
   "cell_type": "code",
   "execution_count": 80,
   "id": "7691e550",
   "metadata": {},
   "outputs": [],
   "source": [
    "def daik(start):\n",
    "    distance =  [INF for x in range(n+1)]\n",
    "    hq = []\n",
    "    heapq.heappush(hq ,(0,start)) # 가중치,시작지\n",
    "    distance[start] = 0\n",
    "    \n",
    "    while hq:\n",
    "        dist , now = heapq.heappop(hq)\n",
    "        \n",
    "        if distance[now] <  dist:\n",
    "            continue\n",
    "        \n",
    "        for graph_val in graph[now]:\n",
    "            cost = dist  + graph_val[1]\n",
    "            \n",
    "            if cost < distance[graph_val[0]]:\n",
    "                distance[graph_val[0]] = cost\n",
    "                heapq.heappush(hq,(cost ,graph_val[0]))\n",
    "    \n",
    "    return distance\n",
    "                \n",
    "            "
   ]
  },
  {
   "cell_type": "code",
   "execution_count": 85,
   "id": "81bb9f12",
   "metadata": {},
   "outputs": [],
   "source": [
    "without_hop = daik(s)[a] + daik(s)[b]"
   ]
  },
  {
   "cell_type": "code",
   "execution_count": 86,
   "id": "96c349e4",
   "metadata": {},
   "outputs": [
    {
     "data": {
      "text/plain": [
       "101"
      ]
     },
     "execution_count": 86,
     "metadata": {},
     "output_type": "execute_result"
    }
   ],
   "source": [
    "without_hop"
   ]
  },
  {
   "cell_type": "code",
   "execution_count": 87,
   "id": "6c5674ae",
   "metadata": {},
   "outputs": [],
   "source": [
    "# 합승 "
   ]
  },
  {
   "cell_type": "code",
   "execution_count": 88,
   "id": "51114010",
   "metadata": {},
   "outputs": [],
   "source": [
    "list_hop = daik(s)"
   ]
  },
  {
   "cell_type": "code",
   "execution_count": 89,
   "id": "80b43dba",
   "metadata": {},
   "outputs": [
    {
     "data": {
      "text/plain": [
       "[1000000000, 10, 66, 51, 0, 34, 35]"
      ]
     },
     "execution_count": 89,
     "metadata": {},
     "output_type": "execute_result"
    }
   ],
   "source": [
    "list_hop"
   ]
  },
  {
   "cell_type": "code",
   "execution_count": 94,
   "id": "32239286",
   "metadata": {},
   "outputs": [],
   "source": [
    "total = [INF]\n",
    "for i in range(1,n+1):\n",
    "    sum_ = list_hop[i] + daik(i)[a] + daik(i)[b]\n",
    "    total.append(sum_)\n",
    "total.append(without_hop)    \n"
   ]
  },
  {
   "cell_type": "code",
   "execution_count": 95,
   "id": "74091f06",
   "metadata": {},
   "outputs": [
    {
     "data": {
      "text/plain": [
       "[1000000000, 98, 114, 99, 101, 82, 83, 101]"
      ]
     },
     "execution_count": 95,
     "metadata": {},
     "output_type": "execute_result"
    }
   ],
   "source": [
    "total"
   ]
  },
  {
   "cell_type": "code",
   "execution_count": 96,
   "id": "c702f120",
   "metadata": {},
   "outputs": [],
   "source": [
    "result=min(total)"
   ]
  },
  {
   "cell_type": "code",
   "execution_count": 97,
   "id": "f43e73cf",
   "metadata": {},
   "outputs": [
    {
     "data": {
      "text/plain": [
       "82"
      ]
     },
     "execution_count": 97,
     "metadata": {},
     "output_type": "execute_result"
    }
   ],
   "source": [
    "result"
   ]
  },
  {
   "cell_type": "code",
   "execution_count": null,
   "id": "210e377f",
   "metadata": {},
   "outputs": [],
   "source": []
  },
  {
   "cell_type": "code",
   "execution_count": null,
   "id": "d1cad161",
   "metadata": {},
   "outputs": [],
   "source": [
    "def solution(n, s, a, b, fares):\n",
    "\n",
    "  # 그래프 세팅 하는 부분\n",
    "  INF = int(1e9)                                  #무한을 의미하는 값 10억 설정\n",
    "  graph = [[INF] * n for _ in range(n)]\t\t\t\n",
    "  for i in range(n):                              #자기 자신으로 가는 비용 0\n",
    "    graph[i][i] = 0\n",
    "  for i in fares:\n",
    "    graph[i[0] - 1][i[1] - 1] = i[2]            #이동 방향에 따라 비용이 달라지지 않으므로\n",
    "    graph[i[1] - 1][i[0] - 1] = i[2]\t\t\t\n",
    "\n",
    "\n",
    "  # \n",
    "\n",
    "  for t in range(n):\n",
    "    for i in range(n):\n",
    "      for j in range(i, n): # 0 - 0,1,2,3,4,5 /  1- 1,2,3,4,5,/ 2,3,4,5 / 3,4,5                  \n",
    "        if i != j:                          #최소 비용 계산\n",
    "          temp = min(graph[i][j], graph[i][t] + graph[t][j])  # i-j 바로 연결과 어느 곳을 경유 했을 경우를 비교해서 작은 값을 넣는 과정이군.\n",
    "          graph[i][j] = graph[j][i] = temp\n",
    "\n",
    "\n",
    "  # S-T , T-A , T-B 로 구분하기\n",
    "  answer = INF\n",
    "  for t in range(n):                              #경유점에 따라 최소 합승 비용 탐색\n",
    "    temp = graph[s - 1][t] + graph[t][b - 1] + graph[t][a - 1]      \n",
    "    answer = min(answer, temp)\n",
    "  return answer"
   ]
  },
  {
   "cell_type": "code",
   "execution_count": null,
   "id": "bb8440c9",
   "metadata": {},
   "outputs": [],
   "source": []
  },
  {
   "cell_type": "code",
   "execution_count": null,
   "id": "93e319fa",
   "metadata": {},
   "outputs": [],
   "source": []
  },
  {
   "cell_type": "code",
   "execution_count": null,
   "id": "41fe86a7",
   "metadata": {},
   "outputs": [],
   "source": []
  },
  {
   "cell_type": "code",
   "execution_count": null,
   "id": "94056ca7",
   "metadata": {},
   "outputs": [],
   "source": [
    "s까지 거리"
   ]
  },
  {
   "cell_type": "code",
   "execution_count": 77,
   "id": "c5a1c1e3",
   "metadata": {},
   "outputs": [
    {
     "ename": "SyntaxError",
     "evalue": "invalid syntax (2805757285.py, line 1)",
     "output_type": "error",
     "traceback": [
      "\u001b[0;36m  File \u001b[0;32m\"/var/folders/kr/z0vkrxjj5bq7lqpnzwpy9s_c0000gn/T/ipykernel_9873/2805757285.py\"\u001b[0;36m, line \u001b[0;32m1\u001b[0m\n\u001b[0;31m    s에서 a\u001b[0m\n\u001b[0m        ^\u001b[0m\n\u001b[0;31mSyntaxError\u001b[0m\u001b[0;31m:\u001b[0m invalid syntax\n"
     ]
    }
   ],
   "source": [
    "s에서 a\n",
    "s에서 b"
   ]
  },
  {
   "cell_type": "code",
   "execution_count": null,
   "id": "4c580008",
   "metadata": {},
   "outputs": [],
   "source": []
  }
 ],
 "metadata": {
  "kernelspec": {
   "display_name": "Python 3 (ipykernel)",
   "language": "python",
   "name": "python3"
  },
  "language_info": {
   "codemirror_mode": {
    "name": "ipython",
    "version": 3
   },
   "file_extension": ".py",
   "mimetype": "text/x-python",
   "name": "python",
   "nbconvert_exporter": "python",
   "pygments_lexer": "ipython3",
   "version": "3.9.7"
  }
 },
 "nbformat": 4,
 "nbformat_minor": 5
}
