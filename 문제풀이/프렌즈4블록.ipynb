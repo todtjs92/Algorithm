{
 "cells": [
  {
   "cell_type": "code",
   "execution_count": null,
   "metadata": {
    "id": "wj1hEcUZU561"
   },
   "outputs": [],
   "source": [
    "import copy"
   ]
  },
  {
   "cell_type": "code",
   "execution_count": null,
   "metadata": {
    "id": "MB4yc2Iwqjru"
   },
   "outputs": [],
   "source": [
    "m, n = 6,6"
   ]
  },
  {
   "cell_type": "code",
   "execution_count": null,
   "metadata": {
    "id": "FTjRNKBfrEy6"
   },
   "outputs": [],
   "source": [
    "board = [\"TTTANT\", \"RRFACC\", \"RRRFCC\", \"TRRRAA\", \"TTMMMF\", \"TMMTTJ\"]"
   ]
  },
  {
   "cell_type": "code",
   "execution_count": null,
   "metadata": {
    "id": "5_MtRbP0W8G2"
   },
   "outputs": [],
   "source": [
    "m,  n = 4,5"
   ]
  },
  {
   "cell_type": "code",
   "execution_count": null,
   "metadata": {
    "id": "tN0-BlW8W-Sn"
   },
   "outputs": [],
   "source": [
    "board = [\"CCBDE\", \"AAADE\", \"AAABF\", \"CCBBF\"]"
   ]
  },
  {
   "cell_type": "code",
   "execution_count": null,
   "metadata": {
    "id": "C5zk-rMtMTyr"
   },
   "outputs": [],
   "source": [
    "map = ['' for x in range(n)]"
   ]
  },
  {
   "cell_type": "code",
   "execution_count": null,
   "metadata": {
    "id": "ZU73P8HAvRi6"
   },
   "outputs": [],
   "source": [
    "for nn in range(n):\n",
    "  for mm in range(m):\n",
    "    map[nn] += board[mm][nn]\n",
    "m = len(map)\n",
    "n = len(map[0])\n",
    "    \n",
    "    \n",
    "    \n",
    "    "
   ]
  },
  {
   "cell_type": "code",
   "execution_count": null,
   "metadata": {
    "id": "VLGEaDnagXGH"
   },
   "outputs": [],
   "source": [
    "empty=[]\n",
    "map_compare = []"
   ]
  },
  {
   "cell_type": "code",
   "execution_count": null,
   "metadata": {
    "colab": {
     "base_uri": "https://localhost:8080/"
    },
    "id": "Q1_j1hLTVUNO",
    "outputId": "32b9cf33-4eb2-4b11-d6c6-5f9c151f41a1"
   },
   "outputs": [
    {
     "data": {
      "text/plain": [
       "[]"
      ]
     },
     "execution_count": 35,
     "metadata": {},
     "output_type": "execute_result"
    }
   ],
   "source": [
    "map_compare"
   ]
  },
  {
   "cell_type": "code",
   "execution_count": null,
   "metadata": {
    "id": "LznCgR88WV1d"
   },
   "outputs": [],
   "source": [
    "def find4(mm,nn):\n",
    "\n",
    "  character =map[mm][nn]\n",
    "  \n",
    "  if character == 'O':\n",
    "    pass\n",
    "  else:\n",
    "    if mm-1 <0 or nn-1 < 0 :\n",
    "      pass\n",
    "    else:\n",
    "      \n",
    "      if map[mm-1][nn-1] ==character and map[mm-1][nn] == character and map[mm][nn-1] == character :\n",
    "        empty.extend([[mm-1, nn-1], [mm,nn-1], [mm-1,nn], [mm,nn]] )\n",
    "\n",
    "    if mm+1 >=m or nn+1 >= n :\n",
    "      pass\n",
    "    else:\n",
    "      if map[mm+1][nn+1] ==character and map[mm+1][nn] == character and map[mm][nn+1] == character :\n",
    "        empty.extend( [[mm+1, nn+1], [mm,nn+1], [mm+1,nn], [mm,nn]] ) \n",
    "\n",
    "    if mm-1 <0 or nn+1 >= n :\n",
    "      pass\n",
    "    else:\n",
    "      if map[mm-1][nn+1] ==character and map[mm-1][nn] == character and map[mm][nn+1] == character :\n",
    "        empty.extend([[mm-1, nn+1], [mm,nn+1], [mm-1,nn], [mm,nn]] )\n",
    "\n",
    "    if mm+1 >=m or nn-1 < 0 :\n",
    "      pass\n",
    "    else:\n",
    "      if map[mm+1][nn-1] ==character and map[mm+1][nn] == character and map[mm][nn-1] == character :\n",
    "        empty.extend([[mm+1, nn-1], [mm,nn-1], [mm+1,nn], [mm,nn]] )\n"
   ]
  },
  {
   "cell_type": "code",
   "execution_count": null,
   "metadata": {
    "colab": {
     "base_uri": "https://localhost:8080/"
    },
    "id": "iXHLlFJhIgir",
    "outputId": "4397b890-e16a-4b5c-dc0e-3e5d0ed28861"
   },
   "outputs": [
    {
     "name": "stdout",
     "output_type": "stream",
     "text": [
      "T  TTT\n",
      "T  TTT\n",
      "T   TM\n",
      "T   TM\n",
      "TF  MM\n",
      "TF  MM\n",
      "AAFRMT\n",
      "AAFRMT\n",
      "N  AMT\n",
      "N  AMT\n",
      "T  AFJ\n",
      "T  AFJ\n",
      "OOT  T\n",
      "OOT  T\n",
      "OOO  M\n",
      "OOO  M\n",
      "OOTFMM\n",
      "OOTFMM\n",
      "AAFRMT\n",
      "AAFRMT\n",
      "OONAMT\n",
      "OONAMT\n",
      "OOTAFJ\n",
      "OOTAFJ\n",
      "OOOOTT\n",
      "OOOOTT\n",
      "OOOOOM\n",
      "OOOOOM\n",
      "OOTFMM\n",
      "OOTFMM\n",
      "AAFRMT\n",
      "AAFRMT\n",
      "OONAMT\n",
      "OONAMT\n",
      "OOTAFJ\n",
      "OOTAFJ\n"
     ]
    }
   ],
   "source": [
    "while map != map_compare:\n",
    "  empty=[]\n",
    "  map_compare = copy.copy(map)\n",
    "  for i in range(len(map)):\n",
    "    for j in range(len(map[0])):\n",
    "      find4(i,j)\n",
    "  empty_set = [] \n",
    "  for value in empty:\n",
    "    if value not in empty_set:\n",
    "      empty_set.append(value)\n",
    "  rm_list = sorted(empty_set)\n",
    "  for i in rm_list:\n",
    "    string = map[i[0]]\n",
    "    string_list = list(string)\n",
    "    string_list[i[1]] = ' '\n",
    "    string = ''.join(string_list)\n",
    "    map[i[0]] = string   \n",
    "  for i in map:\n",
    "    print(i)\n",
    "    i.replace(' ','')\n",
    "    i = (n-len(i)) * 'O' + i\n",
    "    print(i)\n",
    "\n",
    "  for i in range(m):\n",
    "    transform = map[i].replace(' ','')\n",
    "    full = (n-len(transform)) * 'O' + transform\n",
    "    map[i] =full\n",
    "answer= 0\n",
    "for i in range(len(map)):\n",
    "  for j in range(len(map[0])):\n",
    "    if map[i][j] == 'O':\n",
    "      answer+=1\n"
   ]
  },
  {
   "cell_type": "code",
   "execution_count": null,
   "metadata": {
    "colab": {
     "base_uri": "https://localhost:8080/"
    },
    "id": "McAa8Hj2WYPh",
    "outputId": "b95b4327-f5b9-4137-bb4d-94bb1a779cc0"
   },
   "outputs": [
    {
     "data": {
      "text/plain": [
       "15"
      ]
     },
     "execution_count": 28,
     "metadata": {},
     "output_type": "execute_result"
    }
   ],
   "source": [
    "answer"
   ]
  },
  {
   "cell_type": "code",
   "execution_count": null,
   "metadata": {
    "id": "1XQTjKYDidaT"
   },
   "outputs": [],
   "source": []
  },
  {
   "cell_type": "code",
   "execution_count": null,
   "metadata": {
    "id": "ePu2QpiCidMN"
   },
   "outputs": [],
   "source": [
    "import copy        \n",
    "\n",
    "def solution(m, n, board):\n",
    "    mapp = ['' for x in range(n)]\n",
    "    \n",
    "    for nn in range(n):\n",
    "        for mm in range(m):\n",
    "            mapp[nn] += board[mm][nn]\n",
    "    \n",
    "    m = len(mapp)\n",
    "    n = len(mapp[0])\n",
    "    \n",
    "    empty=[]\n",
    "    map_compare=[]\n",
    "    \n",
    "    def find4(mm,nn):\n",
    "        character = mapp[mm][nn]\n",
    "\n",
    "        if character =='O':\n",
    "            pass\n",
    "        else:\n",
    "            if mm-1 < 0 or nn-1 < 0:\n",
    "                pass\n",
    "\n",
    "            else:\n",
    "                if mapp[mm-1][nn-1] == character and mapp[mm-1][nn]  == character and mapp[mm][nn-1] == character:\n",
    "                    empty.extend([[mm-1,nn-1],[mm,nn-1],[mm-1,nn],[mm,nn]])\n",
    "\n",
    "            if mm+1 >=m or nn+1 >= n:\n",
    "                pass\n",
    "            else:\n",
    "                if mapp[mm+1][nn+1] == character and mapp[mm+1][nn] == character and mapp[mm][nn+1] == character:\n",
    "                    empty.extend([[mm+1,nn+1],[mm,nn+1],[mm+1,nn],[mm,nn]])\n",
    "\n",
    "            if mm-1 < 0 or nn+1 >= n:\n",
    "                pass\n",
    "            else:\n",
    "                if mapp[mm-1][nn+1] == character and mapp[mm-1][nn] == character and mapp[mm][nn+1] == character:\n",
    "                    empty.extend([[mm-1,nn+1],[mm,nn+1],[mm-1,nn],[mm,nn] ])\n",
    "\n",
    "            if mm+1 >=m or nn-1 <=0:\n",
    "                pass\n",
    "            else:\n",
    "                if mapp[mm+1][nn-1] == character and mapp[mm+1][nn] == character and mapp[mm][nn-1] == character:\n",
    "                    empty.extend([[mm+1,nn-1],[mm,nn-1],[mm+1,nn],[mm,nn]])\n",
    "    \n",
    "    \n",
    "    while mapp !=  map_compare:\n",
    "        empty = []\n",
    "        map_compare = copy.copy(mapp)\n",
    "        for i in range(len(mapp)):\n",
    "            for j in range(len(mapp[0])):\n",
    "                find4(i,j)\n",
    "        \n",
    "        empty_set = []\n",
    "        for value in empty:\n",
    "            if value not in empty_set:\n",
    "                empty_set.append(value)\n",
    "        \n",
    "        rm_list = sorted(empty_set)\n",
    "        for i in rm_list:\n",
    "            string = mapp[i[0]]\n",
    "            string_list = list(string)\n",
    "            string_list[i[1]]  = ' '\n",
    "            string = ''.join(string_list)\n",
    "            mapp[i[0]]= string\n",
    "        \n",
    "        for i in mapp:\n",
    "            i.replace(' ','')\n",
    "            i = (n-len(i)) * 'O' + i\n",
    "            \n",
    "        for i in range(m):\n",
    "            transform = mapp[i].replace(' ','')\n",
    "            full = (n - len(transform)) * 'O' + transform\n",
    "            mapp[i] = full\n",
    "    answer = 0\n",
    "    for i in range(len(mapp)):\n",
    "        for j in range(len(mapp[0])):\n",
    "            if mapp[i][j] == 'O':\n",
    "                answer+=1\n",
    "        \n",
    "    return answer"
   ]
  },
  {
   "cell_type": "code",
   "execution_count": null,
   "metadata": {
    "colab": {
     "base_uri": "https://localhost:8080/"
    },
    "id": "FU9RlAhRiK8z",
    "outputId": "1bda5c7d-3495-4e9f-8d6a-76c0a40c8a12"
   },
   "outputs": [
    {
     "data": {
      "text/plain": [
       "24"
      ]
     },
     "execution_count": 12,
     "metadata": {},
     "output_type": "execute_result"
    }
   ],
   "source": [
    "solution(m,n,board)"
   ]
  },
  {
   "cell_type": "code",
   "execution_count": null,
   "metadata": {
    "id": "zgR2Xbh8ic84"
   },
   "outputs": [],
   "source": [
    "board = [\"AAAAAA\", \"BBAATB\", \"BBAATB\", \"JJJTAA\", \"JJJTAA\"]"
   ]
  },
  {
   "cell_type": "code",
   "execution_count": null,
   "metadata": {
    "id": "oJybb0y9iPw2"
   },
   "outputs": [],
   "source": [
    "m,n= 5,6"
   ]
  },
  {
   "cell_type": "code",
   "execution_count": null,
   "metadata": {
    "id": "dhh3exVhiQwq"
   },
   "outputs": [],
   "source": [
    "A A A A A A\n",
    "B B A A T B\n",
    "B B A A T B\n",
    "J J J T A A\n",
    "J J J T A A"
   ]
  },
  {
   "cell_type": "code",
   "execution_count": null,
   "metadata": {
    "id": "N84spDazktt1"
   },
   "outputs": [],
   "source": [
    "AAOOAA\n",
    "OOOOTB\n",
    "OOOOTB\n",
    "OOOTOO\n",
    "OOOTOO "
   ]
  },
  {
   "cell_type": "code",
   "execution_count": null,
   "metadata": {
    "id": "YBU79AUSk-jb"
   },
   "outputs": [],
   "source": [
    "OOOOOO\n",
    "OOOOOO\n",
    "OOOOAA\n",
    "OOOTTA\n",
    "AAOTTB"
   ]
  },
  {
   "cell_type": "code",
   "execution_count": null,
   "metadata": {
    "id": "K54JPBZKlUqk"
   },
   "outputs": [],
   "source": [
    "OOOOOO\n",
    "OOOOOO\n",
    "OOOOOA\n",
    "OOOOOA\n",
    "AAOOAB"
   ]
  },
  {
   "cell_type": "code",
   "execution_count": null,
   "metadata": {
    "id": "yc0vycyjjUie"
   },
   "outputs": [],
   "source": [
    "empty_set = [] \n",
    "for value in empty:\n",
    "  if value not in empty_set:\n",
    "    empty_set.append(value)\n"
   ]
  },
  {
   "cell_type": "code",
   "execution_count": null,
   "metadata": {
    "id": "muEA6ArQjfpm"
   },
   "outputs": [],
   "source": [
    "rm_list = sorted(empty_set)"
   ]
  },
  {
   "cell_type": "code",
   "execution_count": null,
   "metadata": {
    "colab": {
     "base_uri": "https://localhost:8080/"
    },
    "id": "5tQplKahPzyg",
    "outputId": "b57cbad9-454d-4cc6-d258-59002011c9c4"
   },
   "outputs": [
    {
     "data": {
      "text/plain": [
       "['TRRTTT', 'TRRRTM', 'TFRRMM', 'AAFRMT', 'NCCAMT', 'TCCAFJ']"
      ]
     },
     "execution_count": 159,
     "metadata": {},
     "output_type": "execute_result"
    }
   ],
   "source": [
    "map"
   ]
  },
  {
   "cell_type": "code",
   "execution_count": null,
   "metadata": {
    "id": "CZi_FrkHLbsG"
   },
   "outputs": [],
   "source": [
    "for i in rm_list:\n",
    "  string = map[i[0]]\n",
    "  string_list = list(string)\n",
    "  string_list[i[1]] = ' '\n",
    "  string = ''.join(string_list)\n",
    "  map[i[0]] = string   "
   ]
  },
  {
   "cell_type": "code",
   "execution_count": null,
   "metadata": {
    "colab": {
     "base_uri": "https://localhost:8080/"
    },
    "id": "-6WIkjRYOxk8",
    "outputId": "dd7af15d-7641-4508-fdc6-44e9845bcb9b"
   },
   "outputs": [
    {
     "data": {
      "text/plain": [
       "['T  TTT', 'T   TM', 'TF  MM', 'AAFRMT', 'N  AMT', 'T  AFJ']"
      ]
     },
     "execution_count": 163,
     "metadata": {},
     "output_type": "execute_result"
    }
   ],
   "source": [
    "for i in map:\n",
    "  i.replace(' ','')\n",
    "  i = (n-len(i)) * 'O' + i"
   ]
  },
  {
   "cell_type": "code",
   "execution_count": null,
   "metadata": {
    "id": "q53ohjcqOxRT"
   },
   "outputs": [],
   "source": [
    "for i in range(m):\n",
    "  transform = map[i].replace(' ','')\n",
    "  full = (n-len(transform)) * 'O' + transform\n",
    "  map[i] =full"
   ]
  },
  {
   "cell_type": "code",
   "execution_count": null,
   "metadata": {
    "colab": {
     "base_uri": "https://localhost:8080/"
    },
    "id": "mp6Ck0E-SlqY",
    "outputId": "9f21e6cd-ecd6-44de-8243-dbb9631f116f"
   },
   "outputs": [
    {
     "data": {
      "text/plain": [
       "['OOTTTT', 'OOOTTM', 'OOTFMM', 'AAFRMT', 'OONAMT', 'OOTAFJ']"
      ]
     },
     "execution_count": 175,
     "metadata": {},
     "output_type": "execute_result"
    }
   ],
   "source": [
    "map"
   ]
  },
  {
   "cell_type": "code",
   "execution_count": null,
   "metadata": {
    "colab": {
     "base_uri": "https://localhost:8080/"
    },
    "id": "Xl-sCrSUTmt4",
    "outputId": "e877b453-cf17-4f52-da60-e189304bd048"
   },
   "outputs": [
    {
     "name": "stdout",
     "output_type": "stream",
     "text": [
      "0 0 O\n",
      "0 1 O\n",
      "0 2 T\n",
      "0 3 T\n",
      "0 4 T\n",
      "0 5 T\n",
      "1 0 O\n",
      "1 1 O\n",
      "1 2 O\n",
      "1 3 T\n",
      "1 4 T\n",
      "1 5 M\n",
      "2 0 O\n",
      "2 1 O\n",
      "2 2 T\n",
      "2 3 F\n",
      "2 4 M\n",
      "2 5 M\n",
      "3 0 A\n",
      "3 1 A\n",
      "3 2 F\n",
      "3 3 R\n",
      "3 4 M\n",
      "3 5 T\n",
      "4 0 O\n",
      "4 1 O\n",
      "4 2 N\n",
      "4 3 A\n",
      "4 4 M\n",
      "4 5 T\n",
      "5 0 O\n",
      "5 1 O\n",
      "5 2 T\n",
      "5 3 A\n",
      "5 4 F\n",
      "5 5 J\n"
     ]
    }
   ],
   "source": [
    "for i in range(len(map)):\n",
    "  for j in range(len(map[0])):\n",
    "    find4(i,j)"
   ]
  },
  {
   "cell_type": "code",
   "execution_count": null,
   "metadata": {
    "colab": {
     "base_uri": "https://localhost:8080/"
    },
    "id": "1nl1wiBxTrgb",
    "outputId": "4ce6883e-f60c-47fe-f896-ad9e689c0d20"
   },
   "outputs": [
    {
     "data": {
      "text/plain": [
       "['OOTTTT', 'OOOTTM', 'OOTFMM', 'AAFRMT', 'OONAMT', 'OOTAFJ']"
      ]
     },
     "execution_count": 177,
     "metadata": {},
     "output_type": "execute_result"
    }
   ],
   "source": [
    "map"
   ]
  },
  {
   "cell_type": "code",
   "execution_count": null,
   "metadata": {
    "colab": {
     "base_uri": "https://localhost:8080/",
     "height": 35
    },
    "id": "GDijIIiqjw0y",
    "outputId": "a4a57013-5ad2-44c7-fe95-bb8d89715575"
   },
   "outputs": [
    {
     "data": {
      "application/vnd.google.colaboratory.intrinsic+json": {
       "type": "string"
      },
      "text/plain": [
       "'TCCAFJ'"
      ]
     },
     "execution_count": 126,
     "metadata": {},
     "output_type": "execute_result"
    }
   ],
   "source": [
    "'TRRTTT'\n",
    "'TRRRTM'\n",
    "'TFRRMM'\n",
    "'AAFRMT'\n",
    "'NCCAMT'\n",
    "'TCCAFJ'"
   ]
  },
  {
   "cell_type": "code",
   "execution_count": null,
   "metadata": {
    "colab": {
     "base_uri": "https://localhost:8080/",
     "height": 131
    },
    "id": "EJ_RsUj2kIGM",
    "outputId": "8e0ad65e-9b7f-4f25-d555-5e785dd68878"
   },
   "outputs": [
    {
     "ename": "SyntaxError",
     "evalue": "ignored",
     "output_type": "error",
     "traceback": [
      "\u001b[0;36m  File \u001b[0;32m\"<ipython-input-127-721d98f9b3ae>\"\u001b[0;36m, line \u001b[0;32m1\u001b[0m\n\u001b[0;31m    mm nn 이 뒤집어진거 생각해줘야함\u001b[0m\n\u001b[0m        ^\u001b[0m\n\u001b[0;31mSyntaxError\u001b[0m\u001b[0;31m:\u001b[0m invalid syntax\n"
     ]
    }
   ],
   "source": [
    "mm nn 이 뒤집어진거 생각해줘야함"
   ]
  },
  {
   "cell_type": "code",
   "execution_count": null,
   "metadata": {
    "id": "X0dYbOgPvRAo"
   },
   "outputs": [],
   "source": [
    "def find4(mm,nn):\n",
    "\n",
    "  character =map[mm][nn]\n",
    "  print(mm,nn, character)\n",
    "  if character == 'O':\n",
    "    pass\n",
    "  else:\n",
    "    if mm-1 <0 or nn-1 < 0 :\n",
    "      pass\n",
    "    else:\n",
    "      \n",
    "      if map[mm-1][nn-1] ==character and map[mm-1][nn] == character and map[mm][nn-1] == character :\n",
    "        empty.extend([[mm-1, nn-1], [mm,nn-1], [mm-1,nn], [mm,nn]] )\n",
    "\n",
    "    if mm+1 >=m or nn+1 >= n :\n",
    "      pass\n",
    "    else:\n",
    "      if map[mm+1][nn+1] ==character and map[mm+1][nn] == character and map[mm][nn+1] == character :\n",
    "        empty.extend( [[mm+1, nn+1], [mm,nn+1], [mm+1,nn], [mm,nn]] ) \n",
    "\n",
    "    if mm-1 <0 or nn+1 >= n :\n",
    "      pass\n",
    "    else:\n",
    "      if map[mm-1][nn+1] ==character and map[mm-1][nn] == character and map[mm][nn+1] == character :\n",
    "        empty.extend([[mm-1, nn+1], [mm,nn+1], [mm-1,nn], [mm,nn]] )\n",
    "\n",
    "    if mm+1 >=m or nn-1 < 0 :\n",
    "      pass\n",
    "    else:\n",
    "      if map[mm+1][nn-1] ==character and map[mm+1][nn] == character and map[mm][nn-1] == character :\n",
    "        empty.extend([[mm+1, nn-1], [mm,nn-1], [mm+1,nn], [mm,nn]] )\n",
    "\n",
    "       \n",
    "  \n",
    "\n",
    "\n",
    "\n",
    "      \n",
    "\n",
    "    \n",
    "    "
   ]
  },
  {
   "cell_type": "code",
   "execution_count": null,
   "metadata": {
    "id": "B8TLky8OQnXe"
   },
   "outputs": [],
   "source": [
    "x = []"
   ]
  },
  {
   "cell_type": "code",
   "execution_count": null,
   "metadata": {
    "id": "kAzDfocxQoCc"
   },
   "outputs": [],
   "source": [
    "def test():\n",
    "  x.append('a')"
   ]
  },
  {
   "cell_type": "code",
   "execution_count": null,
   "metadata": {
    "id": "n72Y-oEtQqzI"
   },
   "outputs": [],
   "source": [
    "test()"
   ]
  },
  {
   "cell_type": "code",
   "execution_count": null,
   "metadata": {
    "colab": {
     "base_uri": "https://localhost:8080/"
    },
    "id": "RZTPh30_QrV6",
    "outputId": "ea3f793d-ccf8-4eca-bd15-3bce8d9c9fb7"
   },
   "outputs": [
    {
     "data": {
      "text/plain": [
       "['a']"
      ]
     },
     "execution_count": 53,
     "metadata": {},
     "output_type": "execute_result"
    }
   ],
   "source": [
    "x"
   ]
  },
  {
   "cell_type": "code",
   "execution_count": null,
   "metadata": {
    "id": "6I-V6M-UQrwD"
   },
   "outputs": [],
   "source": [
    "import copy\n",
    "\n",
    "def find4(mm,nn):\n",
    "\n",
    "    character =map[mm][nn]\n",
    "    if character == 'O':\n",
    "        pass\n",
    "    else:\n",
    "        \n",
    "        if mm-1 <0 or nn-1 < 0 :\n",
    "            pass\n",
    "        else:\n",
    "      \n",
    "            if map[mm-1][nn-1] ==character and map[mm-1][nn] == character and map[mm][nn-1] == character :\n",
    "                empty.extend([[mm-1, nn-1], [mm,nn-1], [mm-1,nn], [mm,nn]] )\n",
    "\n",
    "        if mm+1 >=m or nn+1 >= n :\n",
    "            pass\n",
    "        else:\n",
    "            if map[mm+1][nn+1] ==character and map[mm+1][nn] == character and map[mm][nn+1] == character :\n",
    "                empty.extend( [[mm+1, nn+1], [mm,nn+1], [mm+1,nn], [mm,nn]] ) \n",
    "\n",
    "        if mm-1 <0 or nn+1 >= n :\n",
    "            pass\n",
    "        else:\n",
    "            if map[mm-1][nn+1] ==character and map[mm-1][nn] == character and map[mm][nn+1] == character :\n",
    "                empty.extend([[mm-1, nn+1], [mm,nn+1], [mm-1,nn], [mm,nn]] )\n",
    "\n",
    "        if mm+1 >=m or nn-1 < 0 :\n",
    "            pass\n",
    "        else:\n",
    "            if map[mm+1][nn-1] ==character and map[mm+1][nn] == character and map[mm][nn-1] == character :\n",
    "                empty.extend([[mm+1, nn-1], [mm,nn-1], [mm+1,nn], [mm,nn]] )\n",
    "\n",
    "\n",
    "\n",
    "\n",
    "\n",
    "def solution(m, n, board):\n",
    "    \n",
    "    \n",
    "    \n",
    "    map = ['' for x in range(n)]\n",
    "    for nn in range(n):\n",
    "      for mm in range(m):\n",
    "        map[nn] += board[mm][nn]\n",
    "    m = len(map)\n",
    "    n = len(map[0])\n",
    "    empty=[]\n",
    "    map_compare = []\n",
    "    \n",
    "    while map != map_compare:\n",
    "        empty=[]\n",
    "    map_compare = copy.copy(map)\n",
    "    for i in range(len(map)):\n",
    "        for j in range(len(map[0])):\n",
    "            find4(i,j)\n",
    "    empty_set = [] \n",
    "    for value in empty:\n",
    "        if value not in empty_set:\n",
    "            empty_set.append(value)\n",
    "    rm_list = sorted(empty_set)\n",
    "    for i in rm_list:\n",
    "        string = map[i[0]]\n",
    "        string_list = list(string)\n",
    "        string_list[i[1]] = ' '\n",
    "        string = ''.join(string_list)\n",
    "        map[i[0]] = string   \n",
    "    for i in map:\n",
    "        i.replace(' ','')\n",
    "        i = (n-len(i)) * 'O' + i\n",
    "    for i in range(m):\n",
    "        transform = map[i].replace(' ','')\n",
    "        full = (n-len(transform)) * 'O' + transform\n",
    "        map[i] =full\n",
    "    answer= 0\n",
    "    for i in range(len(map)):\n",
    "        for j in range(len(map[0])):\n",
    "            if map[i][j] == 'O':\n",
    "                answer+=1\n",
    "    \n",
    "    return answer"
   ]
  },
  {
   "cell_type": "code",
   "execution_count": null,
   "metadata": {
    "id": "YmsBPs4Vbl2c"
   },
   "outputs": [],
   "source": [
    "board = [\"TTTANT\", \"RRFACC\", \"RRRFCC\", \"TRRRAA\", \"TTMMMF\", \"TMMTTJ\"]"
   ]
  },
  {
   "cell_type": "code",
   "execution_count": null,
   "metadata": {
    "id": "LlBuF4WlbotJ"
   },
   "outputs": [],
   "source": [
    "m, n = 6,6"
   ]
  },
  {
   "cell_type": "code",
   "execution_count": null,
   "metadata": {
    "colab": {
     "base_uri": "https://localhost:8080/",
     "height": 398
    },
    "id": "ior1kxvpbqt1",
    "outputId": "417658f6-c080-4ded-f8df-d004780aafa9"
   },
   "outputs": [
    {
     "name": "stdout",
     "output_type": "stream",
     "text": [
      "0 0\n",
      "0 1\n",
      "0 2\n",
      "0 3\n",
      "0 4\n"
     ]
    },
    {
     "ename": "IndexError",
     "evalue": "ignored",
     "output_type": "error",
     "traceback": [
      "\u001b[0;31m---------------------------------------------------------------------------\u001b[0m",
      "\u001b[0;31mIndexError\u001b[0m                                Traceback (most recent call last)",
      "\u001b[0;32m<ipython-input-243-5a4234bbb0da>\u001b[0m in \u001b[0;36m<module>\u001b[0;34m()\u001b[0m\n\u001b[0;32m----> 1\u001b[0;31m \u001b[0msolution\u001b[0m\u001b[0;34m(\u001b[0m\u001b[0mm\u001b[0m\u001b[0;34m,\u001b[0m\u001b[0mn\u001b[0m\u001b[0;34m,\u001b[0m\u001b[0mboard\u001b[0m\u001b[0;34m)\u001b[0m\u001b[0;34m\u001b[0m\u001b[0;34m\u001b[0m\u001b[0m\n\u001b[0m",
      "\u001b[0;32m<ipython-input-242-b61a8e26df8c>\u001b[0m in \u001b[0;36msolution\u001b[0;34m(m, n, board)\u001b[0m\n\u001b[1;32m     46\u001b[0m         \u001b[0;32mfor\u001b[0m \u001b[0mi\u001b[0m \u001b[0;32min\u001b[0m \u001b[0mrange\u001b[0m\u001b[0;34m(\u001b[0m\u001b[0mlen\u001b[0m\u001b[0;34m(\u001b[0m\u001b[0mmap\u001b[0m\u001b[0;34m)\u001b[0m\u001b[0;34m)\u001b[0m\u001b[0;34m:\u001b[0m\u001b[0;34m\u001b[0m\u001b[0;34m\u001b[0m\u001b[0m\n\u001b[1;32m     47\u001b[0m             \u001b[0;32mfor\u001b[0m \u001b[0mj\u001b[0m \u001b[0;32min\u001b[0m \u001b[0mrange\u001b[0m\u001b[0;34m(\u001b[0m\u001b[0mlen\u001b[0m\u001b[0;34m(\u001b[0m\u001b[0mmap\u001b[0m\u001b[0;34m[\u001b[0m\u001b[0;36m0\u001b[0m\u001b[0;34m]\u001b[0m\u001b[0;34m)\u001b[0m\u001b[0;34m)\u001b[0m\u001b[0;34m:\u001b[0m\u001b[0;34m\u001b[0m\u001b[0;34m\u001b[0m\u001b[0m\n\u001b[0;32m---> 48\u001b[0;31m                 \u001b[0mfind4\u001b[0m\u001b[0;34m(\u001b[0m\u001b[0mi\u001b[0m\u001b[0;34m,\u001b[0m\u001b[0mj\u001b[0m\u001b[0;34m)\u001b[0m\u001b[0;34m\u001b[0m\u001b[0;34m\u001b[0m\u001b[0m\n\u001b[0m\u001b[1;32m     49\u001b[0m         \u001b[0mempty_set\u001b[0m \u001b[0;34m=\u001b[0m \u001b[0;34m[\u001b[0m\u001b[0;34m]\u001b[0m\u001b[0;34m\u001b[0m\u001b[0;34m\u001b[0m\u001b[0m\n\u001b[1;32m     50\u001b[0m         \u001b[0;32mfor\u001b[0m \u001b[0mvalue\u001b[0m \u001b[0;32min\u001b[0m \u001b[0mempty\u001b[0m\u001b[0;34m:\u001b[0m\u001b[0;34m\u001b[0m\u001b[0;34m\u001b[0m\u001b[0m\n",
      "\u001b[0;32m<ipython-input-242-b61a8e26df8c>\u001b[0m in \u001b[0;36mfind4\u001b[0;34m(mm, nn)\u001b[0m\n\u001b[1;32m      2\u001b[0m \u001b[0;32mdef\u001b[0m \u001b[0mfind4\u001b[0m\u001b[0;34m(\u001b[0m\u001b[0mmm\u001b[0m\u001b[0;34m,\u001b[0m\u001b[0mnn\u001b[0m\u001b[0;34m)\u001b[0m\u001b[0;34m:\u001b[0m\u001b[0;34m\u001b[0m\u001b[0;34m\u001b[0m\u001b[0m\n\u001b[1;32m      3\u001b[0m     \u001b[0mprint\u001b[0m\u001b[0;34m(\u001b[0m\u001b[0mmm\u001b[0m\u001b[0;34m,\u001b[0m\u001b[0mnn\u001b[0m\u001b[0;34m)\u001b[0m\u001b[0;34m\u001b[0m\u001b[0;34m\u001b[0m\u001b[0m\n\u001b[0;32m----> 4\u001b[0;31m     \u001b[0mcharacter\u001b[0m \u001b[0;34m=\u001b[0m\u001b[0mmap\u001b[0m\u001b[0;34m[\u001b[0m\u001b[0mmm\u001b[0m\u001b[0;34m]\u001b[0m\u001b[0;34m[\u001b[0m\u001b[0mnn\u001b[0m\u001b[0;34m]\u001b[0m\u001b[0;34m\u001b[0m\u001b[0;34m\u001b[0m\u001b[0m\n\u001b[0m\u001b[1;32m      5\u001b[0m \u001b[0;34m\u001b[0m\u001b[0m\n\u001b[1;32m      6\u001b[0m     \u001b[0;32mif\u001b[0m \u001b[0mcharacter\u001b[0m \u001b[0;34m==\u001b[0m \u001b[0;34m'O'\u001b[0m\u001b[0;34m:\u001b[0m\u001b[0;34m\u001b[0m\u001b[0;34m\u001b[0m\u001b[0m\n",
      "\u001b[0;31mIndexError\u001b[0m: string index out of range"
     ]
    }
   ],
   "source": [
    "solution(m,n,board)"
   ]
  },
  {
   "cell_type": "code",
   "execution_count": null,
   "metadata": {
    "id": "6pd7iaZLbswo"
   },
   "outputs": [],
   "source": [
    "import copy\n",
    "def find4(mm,nn):\n",
    "    print(mm,nn)\n",
    "    character =map[mm][nn]\n",
    "  \n",
    "    if character == 'O':\n",
    "        pass\n",
    "    else:\n",
    "        if mm-1 <0 or nn-1 < 0 :\n",
    "            pass\n",
    "        else:\n",
    "            if map[mm-1][nn-1] ==character and map[mm-1][nn] == character and map[mm][nn-1] == character :\n",
    "                empty.extend([[mm-1, nn-1], [mm,nn-1], [mm-1,nn], [mm,nn]] )\n",
    "\n",
    "        if mm+1 >=m or nn+1 >= n :\n",
    "            pass\n",
    "        else:\n",
    "            if map[mm+1][nn+1] ==character and map[mm+1][nn] == character and map[mm][nn+1] == character :\n",
    "                empty.extend( [[mm+1, nn+1], [mm,nn+1], [mm+1,nn], [mm,nn]] ) \n",
    "\n",
    "        if mm-1 <0 or nn+1 >= n :\n",
    "            pass\n",
    "        else:\n",
    "            if map[mm-1][nn+1] ==character and map[mm-1][nn] == character and map[mm][nn+1] == character :\n",
    "                empty.extend([[mm-1, nn+1], [mm,nn+1], [mm-1,nn], [mm,nn]] )\n",
    "\n",
    "        if mm+1 >=m or nn-1 < 0 :\n",
    "            pass\n",
    "        else:\n",
    "            if map[mm+1][nn-1] ==character and map[mm+1][nn] == character and map[mm][nn-1] == character :\n",
    "                empty.extend([[mm+1, nn-1], [mm,nn-1], [mm+1,nn], [mm,nn]] )\n",
    "                \n",
    "def solution(m,n,board):\n",
    "    map = ['' for x in range(n)]\n",
    "    for nn in range(n):\n",
    "        for mm in range(m):\n",
    "            map[nn] += board[mm][nn]\n",
    "    m = len(map)\n",
    "    n = len(map[0])\n",
    "    empty=[]\n",
    "    map_compare = []\n",
    "    \n",
    "    while map != map_compare:\n",
    "        empty=[]\n",
    "        map_compare = copy.copy(map)\n",
    "        for i in range(len(map)):\n",
    "            for j in range(len(map[0])):\n",
    "                find4(i,j)\n",
    "        empty_set = [] \n",
    "        for value in empty:\n",
    "            if value not in empty_set:\n",
    "                empty_set.append(value)\n",
    "        rm_list = sorted(empty_set)\n",
    "        for i in rm_list:\n",
    "            string = map[i[0]]\n",
    "            string_list = list(string)\n",
    "            string_list[i[1]] = ' '\n",
    "            string = ''.join(string_list)\n",
    "            map[i[0]] = string   \n",
    "        for i in map:\n",
    "            i.replace(' ','')\n",
    "            i = (n-len(i)) * 'O' + i\n",
    "        for i in range(m):\n",
    "            transform = map[i].replace(' ','')\n",
    "            full = (n-len(transform)) * 'O' + transform\n",
    "            map[i] =full\n",
    "    answer= 0\n",
    "    for i in range(len(map)):\n",
    "        for j in range(len(map[0])):\n",
    "            if map[i][j] == 'O':\n",
    "                answer+=1\n",
    "    \n",
    "    return answer"
   ]
  },
  {
   "cell_type": "code",
   "execution_count": null,
   "metadata": {
    "id": "AplF5UhMh35s"
   },
   "outputs": [],
   "source": [
    "price = '100,200,300,100,,,,400,500,600,'"
   ]
  },
  {
   "cell_type": "code",
   "execution_count": null,
   "metadata": {
    "id": "tuY9rwFRz3Ef"
   },
   "outputs": [],
   "source": [
    "price_array = price.split(',')"
   ]
  },
  {
   "cell_type": "code",
   "execution_count": null,
   "metadata": {
    "colab": {
     "base_uri": "https://localhost:8080/"
    },
    "id": "biXhAvgC0pr7",
    "outputId": "3612e18e-780c-4d4c-b318-3f2d889ab8a5"
   },
   "outputs": [
    {
     "data": {
      "text/plain": [
       "['100', '200', '300', '100', '', '', '', '400', '500', '600', '']"
      ]
     },
     "execution_count": 288,
     "metadata": {},
     "output_type": "execute_result"
    }
   ],
   "source": [
    "price_array"
   ]
  },
  {
   "cell_type": "code",
   "execution_count": null,
   "metadata": {
    "id": "HmnBbXwaz6b6"
   },
   "outputs": [],
   "source": [
    "present = price_array.pop(-2)"
   ]
  },
  {
   "cell_type": "code",
   "execution_count": null,
   "metadata": {
    "colab": {
     "base_uri": "https://localhost:8080/",
     "height": 35
    },
    "id": "v95M8Wec0va4",
    "outputId": "a93b823f-9ba1-4d4d-871e-55fd12da1f12"
   },
   "outputs": [
    {
     "data": {
      "application/vnd.google.colaboratory.intrinsic+json": {
       "type": "string"
      },
      "text/plain": [
       "'600'"
      ]
     },
     "execution_count": 290,
     "metadata": {},
     "output_type": "execute_result"
    }
   ],
   "source": [
    "present"
   ]
  },
  {
   "cell_type": "code",
   "execution_count": null,
   "metadata": {
    "colab": {
     "base_uri": "https://localhost:8080/"
    },
    "id": "ohgB_5ql0wFn",
    "outputId": "8e43ecf5-871a-4003-e73f-d802a40db3f9"
   },
   "outputs": [
    {
     "data": {
      "text/plain": [
       "['100', '200', '300', '100', '', '', '', '400', '500', '']"
      ]
     },
     "execution_count": 291,
     "metadata": {},
     "output_type": "execute_result"
    }
   ],
   "source": [
    "price_array"
   ]
  },
  {
   "cell_type": "code",
   "execution_count": null,
   "metadata": {
    "id": "1jCogZNb0ynx"
   },
   "outputs": [],
   "source": [
    "price_array=np.array(price_array)"
   ]
  },
  {
   "cell_type": "code",
   "execution_count": null,
   "metadata": {
    "id": "I5ZAArdZz_Yv"
   },
   "outputs": [],
   "source": [
    "ss =np.delete(price_array,np.where(price_array==''))"
   ]
  },
  {
   "cell_type": "code",
   "execution_count": null,
   "metadata": {
    "colab": {
     "base_uri": "https://localhost:8080/"
    },
    "id": "CGQoSBsM0TAO",
    "outputId": "dafca270-37ad-44b4-ec1e-cbec27cbe777"
   },
   "outputs": [
    {
     "data": {
      "text/plain": [
       "array(['100', '200', '300', '100', '400', '500'], dtype='<U3')"
      ]
     },
     "execution_count": 294,
     "metadata": {},
     "output_type": "execute_result"
    }
   ],
   "source": [
    "ss"
   ]
  },
  {
   "cell_type": "code",
   "execution_count": null,
   "metadata": {
    "id": "BsyzlnVW2lxB"
   },
   "outputs": [],
   "source": [
    "sorted(ss)\n"
   ]
  },
  {
   "cell_type": "code",
   "execution_count": null,
   "metadata": {
    "id": "NA96PwMx3M9g"
   },
   "outputs": [],
   "source": [
    "g = list(ss)"
   ]
  },
  {
   "cell_type": "code",
   "execution_count": null,
   "metadata": {
    "colab": {
     "base_uri": "https://localhost:8080/"
    },
    "id": "JlUVGojn3PtN",
    "outputId": "d1379ee0-d871-4dc9-a396-ab9611a0e3d8"
   },
   "outputs": [
    {
     "data": {
      "text/plain": [
       "['100', '200', '300', '100', '400', '500']"
      ]
     },
     "execution_count": 305,
     "metadata": {},
     "output_type": "execute_result"
    }
   ],
   "source": [
    "g"
   ]
  },
  {
   "cell_type": "code",
   "execution_count": null,
   "metadata": {
    "id": "HBVHIqXt3rcj"
   },
   "outputs": [],
   "source": [
    "a = [1.2, 2.5, 3.7, 4.6]"
   ]
  },
  {
   "cell_type": "code",
   "execution_count": null,
   "metadata": {
    "id": "PLwwMvhf3zrL"
   },
   "outputs": [],
   "source": [
    "del map"
   ]
  },
  {
   "cell_type": "code",
   "execution_count": null,
   "metadata": {
    "id": "qgySQdC63lOB"
   },
   "outputs": [],
   "source": [
    "a = [1.2, 2.5, 3.7, 4.6]\n",
    "a = list(map(int, a))"
   ]
  },
  {
   "cell_type": "code",
   "execution_count": null,
   "metadata": {
    "colab": {
     "base_uri": "https://localhost:8080/",
     "height": 166
    },
    "id": "7sG-z4s93Ali",
    "outputId": "e928113e-3570-4d58-ccec-9a6640061b58"
   },
   "outputs": [
    {
     "ename": "TypeError",
     "evalue": "ignored",
     "output_type": "error",
     "traceback": [
      "\u001b[0;31m---------------------------------------------------------------------------\u001b[0m",
      "\u001b[0;31mTypeError\u001b[0m                                 Traceback (most recent call last)",
      "\u001b[0;32m<ipython-input-309-50a62e08c441>\u001b[0m in \u001b[0;36m<module>\u001b[0;34m()\u001b[0m\n\u001b[0;32m----> 1\u001b[0;31m \u001b[0mlist\u001b[0m\u001b[0;34m(\u001b[0m\u001b[0mmap\u001b[0m\u001b[0;34m(\u001b[0m\u001b[0mint\u001b[0m\u001b[0;34m,\u001b[0m \u001b[0mg\u001b[0m\u001b[0;34m)\u001b[0m\u001b[0;34m)\u001b[0m\u001b[0;34m\u001b[0m\u001b[0;34m\u001b[0m\u001b[0m\n\u001b[0m",
      "\u001b[0;31mTypeError\u001b[0m: 'list' object is not callable"
     ]
    }
   ],
   "source": [
    "map(int, g)"
   ]
  },
  {
   "cell_type": "code",
   "execution_count": null,
   "metadata": {
    "id": "kgsZz_bX35bD"
   },
   "outputs": [],
   "source": [
    "value =np.array(list(map(int, list(ss))))"
   ]
  },
  {
   "cell_type": "code",
   "execution_count": null,
   "metadata": {
    "colab": {
     "base_uri": "https://localhost:8080/"
    },
    "id": "oBT0FsUW6qFM",
    "outputId": "66cad4cc-b44e-4424-e6bf-7a5c5b9c28fb"
   },
   "outputs": [
    {
     "data": {
      "text/plain": [
       "array([100, 200, 300, 100, 400, 500])"
      ]
     },
     "execution_count": 325,
     "metadata": {},
     "output_type": "execute_result"
    }
   ],
   "source": [
    "value"
   ]
  },
  {
   "cell_type": "code",
   "execution_count": null,
   "metadata": {
    "colab": {
     "base_uri": "https://localhost:8080/"
    },
    "id": "WivgLV6r14-j",
    "outputId": "40dbae77-541d-4cfc-bf2e-b2c62abf75a9"
   },
   "outputs": [
    {
     "data": {
      "text/plain": [
       "250.0"
      ]
     },
     "execution_count": 326,
     "metadata": {},
     "output_type": "execute_result"
    }
   ],
   "source": [
    "np.median(value )"
   ]
  },
  {
   "cell_type": "code",
   "execution_count": null,
   "metadata": {
    "colab": {
     "base_uri": "https://localhost:8080/",
     "height": 35
    },
    "id": "ET65m5nAzF6b",
    "outputId": "50e22da1-45ef-46a9-fed7-4c11d1550216"
   },
   "outputs": [
    {
     "data": {
      "application/vnd.google.colaboratory.intrinsic+json": {
       "type": "string"
      },
      "text/plain": [
       "'600'"
      ]
     },
     "execution_count": 258,
     "metadata": {},
     "output_type": "execute_result"
    }
   ],
   "source": []
  },
  {
   "cell_type": "code",
   "execution_count": null,
   "metadata": {
    "id": "ErXobz9_zIQj"
   },
   "outputs": [],
   "source": [
    "import numpy as np"
   ]
  },
  {
   "cell_type": "code",
   "execution_count": null,
   "metadata": {
    "colab": {
     "base_uri": "https://localhost:8080/"
    },
    "id": "W0nLx_U-zx-7",
    "outputId": "189f3286-0da9-4051-c71f-58d14d1dad45"
   },
   "outputs": [
    {
     "name": "stderr",
     "output_type": "stream",
     "text": [
      "/usr/local/lib/python3.7/dist-packages/numpy/core/fromnumeric.py:3441: RuntimeWarning: Mean of empty slice.\n",
      "  out=out, **kwargs)\n",
      "/usr/local/lib/python3.7/dist-packages/numpy/core/_methods.py:189: RuntimeWarning: invalid value encountered in double_scalars\n",
      "  ret = ret.dtype.type(ret / rcount)\n"
     ]
    },
    {
     "data": {
      "text/plain": [
       "nan"
      ]
     },
     "execution_count": 322,
     "metadata": {},
     "output_type": "execute_result"
    }
   ],
   "source": [
    "np.median(np.array([]))"
   ]
  },
  {
   "cell_type": "code",
   "execution_count": null,
   "metadata": {
    "id": "KL1uArAo5OS9"
   },
   "outputs": [],
   "source": [
    "s =[12050 ,12050 ,12050 ,12050 ,12050 ,12050, 12050, 12050, 12050, 12050,\n",
    " 12050, 12050, 12050, 12650, 12820, 12820, 12820, 12200, 12200, 12200,\n",
    " 12200, 12200, 12200, 12200, 12200, 12200, 12200, 12200, 12200, 12200]"
   ]
  },
  {
   "cell_type": "code",
   "execution_count": null,
   "metadata": {
    "colab": {
     "base_uri": "https://localhost:8080/"
    },
    "id": "fOipsbaT-jW6",
    "outputId": "8ce54cc4-ae48-4f79-ad5e-3602faf7b14c"
   },
   "outputs": [
    {
     "data": {
      "text/plain": [
       "12200.0"
      ]
     },
     "execution_count": 331,
     "metadata": {},
     "output_type": "execute_result"
    }
   ],
   "source": [
    "np.median(np.array(s))"
   ]
  },
  {
   "cell_type": "code",
   "execution_count": null,
   "metadata": {
    "colab": {
     "base_uri": "https://localhost:8080/"
    },
    "id": "48AOLWye_Au6",
    "outputId": "74584684-e4ed-4de4-f647-335002c4a5fd"
   },
   "outputs": [
    {
     "name": "stderr",
     "output_type": "stream",
     "text": [
      "/usr/local/lib/python3.7/dist-packages/numpy/core/fromnumeric.py:3441: RuntimeWarning: Mean of empty slice.\n",
      "  out=out, **kwargs)\n",
      "/usr/local/lib/python3.7/dist-packages/numpy/core/_methods.py:189: RuntimeWarning: invalid value encountered in double_scalars\n",
      "  ret = ret.dtype.type(ret / rcount)\n"
     ]
    },
    {
     "data": {
      "text/plain": [
       "nan"
      ]
     },
     "execution_count": 333,
     "metadata": {},
     "output_type": "execute_result"
    }
   ],
   "source": [
    "np.median(np.array([])) / 30"
   ]
  },
  {
   "cell_type": "code",
   "execution_count": null,
   "metadata": {
    "id": "j2Eg9i4WAsOx"
   },
   "outputs": [],
   "source": []
  }
 ],
 "metadata": {
  "colab": {
   "collapsed_sections": [],
   "name": "프렌즈4블록.ipynb",
   "provenance": []
  },
  "kernelspec": {
   "display_name": "Python 3 (ipykernel)",
   "language": "python",
   "name": "python3"
  },
  "language_info": {
   "codemirror_mode": {
    "name": "ipython",
    "version": 3
   },
   "file_extension": ".py",
   "mimetype": "text/x-python",
   "name": "python",
   "nbconvert_exporter": "python",
   "pygments_lexer": "ipython3",
   "version": "3.9.7"
  }
 },
 "nbformat": 4,
 "nbformat_minor": 1
}
