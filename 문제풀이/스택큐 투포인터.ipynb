{
 "cells": [
  {
   "cell_type": "markdown",
   "id": "8b1bf6d5",
   "metadata": {},
   "source": [
    "### daily-temperature"
   ]
  },
  {
   "cell_type": "code",
   "execution_count": 87,
   "id": "e2748bbe",
   "metadata": {},
   "outputs": [],
   "source": [
    "temperatures = [73,74,75,71,69,72,76,73]"
   ]
  },
  {
   "cell_type": "code",
   "execution_count": null,
   "id": "f3a17d3b",
   "metadata": {},
   "outputs": [],
   "source": [
    "[1,1,4,2,1,1,0,0]"
   ]
  },
  {
   "cell_type": "code",
   "execution_count": null,
   "id": "ab0e6e08",
   "metadata": {},
   "outputs": [],
   "source": [
    "# 1. for t  in temperatures\n",
    "# 2. t가 stack에 있는애랑 비교해서 더큰지 확인함 # 만약 없으면? 그냥 그대로 Index append\n",
    "# 3. stack에 있는애랑 비교해서 더크면 뺴뻐림. 빼고 인데스 차이만큼을 답에 더함 . \n",
    "# 4. 만일 stack에 있는애랑 비교해서 더 작다 . 못뺌 나 자신을 다시 넣음. \n",
    "# 5. 마지막에 stack에 남아있으면 다 append"
   ]
  },
  {
   "cell_type": "code",
   "execution_count": 7,
   "id": "f97018ee",
   "metadata": {},
   "outputs": [],
   "source": [
    "temperatures = [73,74,75,71,69,72,76,73]"
   ]
  },
  {
   "cell_type": "code",
   "execution_count": 8,
   "id": "cee888c6",
   "metadata": {},
   "outputs": [],
   "source": [
    "#1. 이터돌면서 더 높아지지않으면 스택에다 넣을거임.\n",
    "# 2. 높아졌따면? 스택안에 애들을 팝하면서 비교 현재 인덱스 - 팝한 인덱스를 미리 만들어둔 리절트에 둘거임. \n",
    "# stack에 있을때만 비교 \n",
    "# 마지막 조심 하나일떄 "
   ]
  },
  {
   "cell_type": "code",
   "execution_count": null,
   "id": "7bba34a7",
   "metadata": {},
   "outputs": [],
   "source": [
    "stack = []\n",
    "result= [0 for x in range(len(temperatures))]\n",
    "for i in range(len(temperatures)):\n",
    "    while stack:\n",
    "        end_index = stack[-1]\n",
    "        if temperatures[i] > temperatures[end_index] :\n",
    "            stack.pop(-1)\n",
    "            result[end_index] = i - end_index\n",
    "        else:\n",
    "            break\n",
    "    stack.append(i)"
   ]
  },
  {
   "cell_type": "code",
   "execution_count": 9,
   "id": "6b4b3299",
   "metadata": {},
   "outputs": [],
   "source": [
    "stack = []"
   ]
  },
  {
   "cell_type": "code",
   "execution_count": 10,
   "id": "09a07098",
   "metadata": {},
   "outputs": [],
   "source": [
    "result= [0 for x in range(len(temperatures))]"
   ]
  },
  {
   "cell_type": "code",
   "execution_count": 11,
   "id": "a24baff3",
   "metadata": {},
   "outputs": [],
   "source": [
    "for i in range(len(temperatures)):\n",
    "    while stack:\n",
    "        end_index = stack[-1]\n",
    "        if temperatures[i] > temperatures[end_index] :\n",
    "            stack.pop(-1)\n",
    "            result[end_index] = i - end_index\n",
    "        else:\n",
    "            break\n",
    "    stack.append(i)\n",
    "            "
   ]
  },
  {
   "cell_type": "code",
   "execution_count": 12,
   "id": "f15b4e8e",
   "metadata": {},
   "outputs": [
    {
     "data": {
      "text/plain": [
       "[1, 1, 4, 2, 1, 1, 0, 0]"
      ]
     },
     "execution_count": 12,
     "metadata": {},
     "output_type": "execute_result"
    }
   ],
   "source": [
    "result"
   ]
  },
  {
   "cell_type": "code",
   "execution_count": null,
   "id": "2d58e1ce",
   "metadata": {},
   "outputs": [],
   "source": []
  },
  {
   "cell_type": "code",
   "execution_count": null,
   "id": "1673ea5f",
   "metadata": {},
   "outputs": [],
   "source": []
  },
  {
   "cell_type": "code",
   "execution_count": null,
   "id": "b542e050",
   "metadata": {},
   "outputs": [],
   "source": [
    "stack = []\n",
    "length =len(temperatures)\n",
    "result = [0 for x in range(length)]\n",
    "for t in range(length):\n",
    "    while stack:\n",
    "        \n",
    "        if temperatures[t] > temperatures[stack[-1]]:\n",
    "            stack_index = stack.pop(-1)\n",
    "            result[stack_index] = t - stack_index\n",
    "        else:\n",
    "            break\n",
    "    \n",
    "    stack.append(t)\n",
    "return result"
   ]
  },
  {
   "cell_type": "code",
   "execution_count": 93,
   "id": "53596673",
   "metadata": {},
   "outputs": [],
   "source": [
    "stack = []"
   ]
  },
  {
   "cell_type": "code",
   "execution_count": 94,
   "id": "26617605",
   "metadata": {},
   "outputs": [],
   "source": [
    "length =len(temperatures)"
   ]
  },
  {
   "cell_type": "code",
   "execution_count": 95,
   "id": "e51e7881",
   "metadata": {},
   "outputs": [],
   "source": [
    "result = [0 for x in range(length)]"
   ]
  },
  {
   "cell_type": "code",
   "execution_count": 96,
   "id": "527e11a0",
   "metadata": {},
   "outputs": [],
   "source": [
    "for t in range(length):\n",
    "    while stack:\n",
    "        \n",
    "        if temperatures[t] > temperatures[stack[-1]]:\n",
    "            stack_index = stack.pop(-1)\n",
    "            result[stack_index] = t - stack_index\n",
    "        else:\n",
    "            break\n",
    "    \n",
    "    stack.append(t)\n",
    "    \n",
    "    \n",
    "            \n",
    "    \n",
    "    "
   ]
  },
  {
   "cell_type": "code",
   "execution_count": 98,
   "id": "bea86c78",
   "metadata": {},
   "outputs": [
    {
     "data": {
      "text/plain": [
       "[1, 1, 4, 2, 1, 1, 0, 0]"
      ]
     },
     "execution_count": 98,
     "metadata": {},
     "output_type": "execute_result"
    }
   ],
   "source": [
    "result"
   ]
  },
  {
   "cell_type": "markdown",
   "id": "c637ecdf",
   "metadata": {},
   "source": [
    "### 주식사고팔기"
   ]
  },
  {
   "cell_type": "code",
   "execution_count": null,
   "id": "c7ce9405",
   "metadata": {},
   "outputs": [],
   "source": [
    "https://leetcode.com/problems/best-time-to-buy-and-sell-stock/submissions/947819540/"
   ]
  },
  {
   "cell_type": "code",
   "execution_count": 107,
   "id": "56d397e0",
   "metadata": {},
   "outputs": [],
   "source": [
    "maxProfit = [7,6,4,3,1]\n",
    "output = 5 "
   ]
  },
  {
   "cell_type": "code",
   "execution_count": 108,
   "id": "e6ec4486",
   "metadata": {},
   "outputs": [],
   "source": [
    "# 1 for i maxprofit\n",
    "# 2 한포인터 움직였을떄 min값이랑 비교 . min값보다 이값이 작다면 업데이트\n",
    "# 3 . 만일 min값보다 이값이 더 크다면 가격 구해봄. output도 맥스비교해야함 . "
   ]
  },
  {
   "cell_type": "code",
   "execution_count": 109,
   "id": "691b3e55",
   "metadata": {},
   "outputs": [],
   "source": [
    "min_ = 100000"
   ]
  },
  {
   "cell_type": "code",
   "execution_count": 110,
   "id": "3bdd4fb6",
   "metadata": {},
   "outputs": [],
   "source": [
    "min_ = 100000\n",
    "output = 0 \n",
    "length = len(maxProfit)\n",
    "for i in range(length):\n",
    "    if maxProfit[i] < min_:\n",
    "        min_ = maxProfit[i]\n",
    "    else:\n",
    "        output = max(output , maxProfit[i]  - min_ )\n",
    "        \n",
    "        "
   ]
  },
  {
   "cell_type": "code",
   "execution_count": 111,
   "id": "39899c8a",
   "metadata": {},
   "outputs": [
    {
     "data": {
      "text/plain": [
       "0"
      ]
     },
     "execution_count": 111,
     "metadata": {},
     "output_type": "execute_result"
    }
   ],
   "source": [
    "output"
   ]
  },
  {
   "cell_type": "markdown",
   "id": "4389055c",
   "metadata": {},
   "source": [
    "### 3sum"
   ]
  },
  {
   "cell_type": "code",
   "execution_count": 112,
   "id": "4b7173f6",
   "metadata": {},
   "outputs": [],
   "source": [
    "nums = [-1,0,1,2,-1,-4]"
   ]
  },
  {
   "cell_type": "code",
   "execution_count": 114,
   "id": "bff70642",
   "metadata": {},
   "outputs": [],
   "source": [
    "nums = sorted(nums)"
   ]
  },
  {
   "cell_type": "code",
   "execution_count": 115,
   "id": "c280f0c0",
   "metadata": {},
   "outputs": [
    {
     "data": {
      "text/plain": [
       "[-4, -1, -1, 0, 1, 2]"
      ]
     },
     "execution_count": 115,
     "metadata": {},
     "output_type": "execute_result"
    }
   ],
   "source": [
    "nums"
   ]
  },
  {
   "cell_type": "code",
   "execution_count": 113,
   "id": "d2922c97",
   "metadata": {},
   "outputs": [],
   "source": [
    "result = [[-1,-1,2],[-1,0,1]]"
   ]
  },
  {
   "cell_type": "code",
   "execution_count": null,
   "id": "f0a62f94",
   "metadata": {},
   "outputs": [],
   "source": [
    "# 1. 맨왼쪽 에다 -한거를 목표로함\n",
    "# 2 .바로옆부터 끝지정하고 2포인터가 돔 . \n",
    "# 3 .2포인터는 어케도는데? 1값보다 크면 오른쪽포인터 옮김 . 1값보다 작으면 왼쪽 포인터 오른쪽으로 옮김. 같으면 그떄 값담기.\n",
    "# 4. 더이상 탐색 x조건 = 가장큰값이랑 목표값그거랑 부호가 같아버리면 탐색중단"
   ]
  },
  {
   "cell_type": "code",
   "execution_count": 163,
   "id": "bc2c400a",
   "metadata": {},
   "outputs": [],
   "source": [
    "nums = [-1,0,1,2,-1,-4]\n",
    "nums = sorted(nums)"
   ]
  },
  {
   "cell_type": "code",
   "execution_count": 189,
   "id": "b1104607",
   "metadata": {},
   "outputs": [],
   "source": [
    "nums =[0,1,1]\n",
    "nums = sorted(nums)"
   ]
  },
  {
   "cell_type": "code",
   "execution_count": 198,
   "id": "d0bfc9c6",
   "metadata": {},
   "outputs": [],
   "source": [
    "nums =[0,0,0]\n",
    "nums = sorted(nums)"
   ]
  },
  {
   "cell_type": "code",
   "execution_count": 199,
   "id": "ba6b7d6d",
   "metadata": {},
   "outputs": [],
   "source": [
    "result = []"
   ]
  },
  {
   "cell_type": "code",
   "execution_count": 200,
   "id": "ba848daf",
   "metadata": {},
   "outputs": [],
   "source": [
    "length = len(nums)"
   ]
  },
  {
   "cell_type": "code",
   "execution_count": 201,
   "id": "332f130f",
   "metadata": {},
   "outputs": [
    {
     "data": {
      "text/plain": [
       "[0, 0, 0]"
      ]
     },
     "execution_count": 201,
     "metadata": {},
     "output_type": "execute_result"
    }
   ],
   "source": [
    "nums"
   ]
  },
  {
   "cell_type": "code",
   "execution_count": 202,
   "id": "f21addd7",
   "metadata": {},
   "outputs": [
    {
     "data": {
      "text/plain": [
       "3"
      ]
     },
     "execution_count": 202,
     "metadata": {},
     "output_type": "execute_result"
    }
   ],
   "source": [
    "length"
   ]
  },
  {
   "cell_type": "code",
   "execution_count": 203,
   "id": "fc97a743",
   "metadata": {},
   "outputs": [],
   "source": [
    "result= []"
   ]
  },
  {
   "cell_type": "code",
   "execution_count": 204,
   "id": "27fad724",
   "metadata": {},
   "outputs": [
    {
     "name": "stdout",
     "output_type": "stream",
     "text": [
      "1 2 0\n"
     ]
    }
   ],
   "source": [
    "for target_idx in range(length-2):\n",
    "    target = nums[target_idx]\n",
    "    target_ = - target\n",
    "    left_idx = target_idx +1 \n",
    "    right_idx = length - 1 \n",
    "    \n",
    "    while left_idx != right_idx:\n",
    "        \n",
    "        left_element = nums[left_idx]\n",
    "        right_element = nums[right_idx]\n",
    "        \n",
    "        if target * right_element >= 0:\n",
    "            if target + left_element + right_element == 0:\n",
    "                result.append([target , left_element , right_element])\n",
    "                left_idx += 1\n",
    "                continue\n",
    "            else:\n",
    "                break\n",
    "        if left_element + right_element == target_ :\n",
    "            \n",
    "            result.append([target , left_element , right_element])\n",
    "            left_idx += 1\n",
    "            \n",
    "        elif left_element + right_element > target_ :\n",
    "            right_idx -= 1\n",
    "        \n",
    "        elif left_element + right_element < target_ :\n",
    "            left_idx += 1\n",
    "answer = [tuple(x) for x in result] \n",
    "answer = [list(x) for x in set(answer)]     "
   ]
  },
  {
   "cell_type": "code",
   "execution_count": 205,
   "id": "84ac54f9",
   "metadata": {},
   "outputs": [
    {
     "data": {
      "text/plain": [
       "[[0, 0, 0]]"
      ]
     },
     "execution_count": 205,
     "metadata": {},
     "output_type": "execute_result"
    }
   ],
   "source": [
    "answer"
   ]
  },
  {
   "cell_type": "code",
   "execution_count": null,
   "id": "fd7040a2",
   "metadata": {},
   "outputs": [],
   "source": []
  },
  {
   "cell_type": "code",
   "execution_count": 174,
   "id": "217fa34e",
   "metadata": {},
   "outputs": [
    {
     "data": {
      "text/plain": [
       "[[-1, -1, 2], [-1, 0, 1], [-1, 0, 1]]"
      ]
     },
     "execution_count": 174,
     "metadata": {},
     "output_type": "execute_result"
    }
   ],
   "source": [
    "result"
   ]
  },
  {
   "cell_type": "code",
   "execution_count": 179,
   "id": "7526376c",
   "metadata": {},
   "outputs": [],
   "source": [
    "s = [tuple(x) for x in result]  # Convert each sublist to a tuple\n",
    "s = [list(x) for x in set(s)]"
   ]
  },
  {
   "cell_type": "code",
   "execution_count": 180,
   "id": "952e92c2",
   "metadata": {},
   "outputs": [
    {
     "data": {
      "text/plain": [
       "[[-1, 0, 1], [-1, -1, 2]]"
      ]
     },
     "execution_count": 180,
     "metadata": {},
     "output_type": "execute_result"
    }
   ],
   "source": [
    "s"
   ]
  },
  {
   "cell_type": "code",
   "execution_count": 172,
   "id": "544eff70",
   "metadata": {},
   "outputs": [
    {
     "ename": "TypeError",
     "evalue": "unhashable type: 'list'",
     "output_type": "error",
     "traceback": [
      "\u001b[0;31m---------------------------------------------------------------------------\u001b[0m",
      "\u001b[0;31mTypeError\u001b[0m                                 Traceback (most recent call last)",
      "Input \u001b[0;32mIn [172]\u001b[0m, in \u001b[0;36m<cell line: 1>\u001b[0;34m()\u001b[0m\n\u001b[0;32m----> 1\u001b[0m result \u001b[38;5;241m=\u001b[39m \u001b[38;5;28;43mset\u001b[39;49m\u001b[43m(\u001b[49m\u001b[43mresult\u001b[49m\u001b[43m)\u001b[49m\n",
      "\u001b[0;31mTypeError\u001b[0m: unhashable type: 'list'"
     ]
    }
   ],
   "source": [
    "result = set(result)"
   ]
  },
  {
   "cell_type": "markdown",
   "id": "56401b85",
   "metadata": {},
   "source": [
    "## https://leetcode.com/problems/trapping-rain-water/"
   ]
  },
  {
   "cell_type": "code",
   "execution_count": 74,
   "id": "16bfae41",
   "metadata": {},
   "outputs": [],
   "source": [
    "height = [0,1,0,2,1,0,1,3,2,1,2,1]"
   ]
  },
  {
   "cell_type": "code",
   "execution_count": 79,
   "id": "b147fe18",
   "metadata": {},
   "outputs": [],
   "source": [
    "height = [4,2,0,3,2,5]"
   ]
  },
  {
   "cell_type": "code",
   "execution_count": 56,
   "id": "c7bc8c20",
   "metadata": {},
   "outputs": [],
   "source": [
    "# 1. 밑에층부터 양끝찾음 0이아닌것 다음은 1이 아닌것 와 같이 . \n",
    "# 2. 양쪽을 포인터로 물들어갈수잇는부분 카운ㅣㅇ해서 더함.  끝까지 반복,"
   ]
  },
  {
   "cell_type": "code",
   "execution_count": 84,
   "id": "03d2d9a5",
   "metadata": {},
   "outputs": [],
   "source": [
    "height= [2,0,2]"
   ]
  },
  {
   "cell_type": "code",
   "execution_count": 85,
   "id": "935dabe3",
   "metadata": {},
   "outputs": [],
   "source": [
    "max_h = max(height)"
   ]
  },
  {
   "cell_type": "code",
   "execution_count": 86,
   "id": "5a502103",
   "metadata": {},
   "outputs": [],
   "source": [
    "max_h = max(height)\n",
    "length = len(height)"
   ]
  },
  {
   "cell_type": "code",
   "execution_count": 89,
   "id": "ac34f91b",
   "metadata": {},
   "outputs": [],
   "source": [
    "## nm하면 초과 뜸 ㅠ"
   ]
  },
  {
   "cell_type": "code",
   "execution_count": 87,
   "id": "6d577256",
   "metadata": {},
   "outputs": [
    {
     "name": "stdout",
     "output_type": "stream",
     "text": [
      "1\n",
      "2\n"
     ]
    }
   ],
   "source": [
    "water = 0 \n",
    "for h in range(1,max_h+1) :\n",
    "    print(h)\n",
    "    for i in range(length):\n",
    "        if height[i] >= h :\n",
    "            left_pointer = i\n",
    "            break\n",
    "    \n",
    "    for j in range(length-1,-1,-1):\n",
    "        if height[j] >= h:\n",
    "            right_pointer = j \n",
    "            break\n",
    "    \n",
    "    if left_pointer == right_pointer :\n",
    "        break\n",
    "    \n",
    "    for pointer in range(left_pointer + 1 , right_pointer  ):\n",
    "        \n",
    "        if height[pointer] < h :\n",
    "            water += 1\n",
    "\n",
    "        "
   ]
  },
  {
   "cell_type": "code",
   "execution_count": null,
   "id": "3ea4c6ff",
   "metadata": {},
   "outputs": [],
   "source": [
    "height = [0,1,0,2,1,0,1,3,2,1,2,1]"
   ]
  },
  {
   "cell_type": "code",
   "execution_count": null,
   "id": "d46d1971",
   "metadata": {},
   "outputs": [],
   "source": [
    "# pointer 3개로 두고 쭉 흘자\n",
    "# 왼쪽 오른쪽꺼중에 minimum이랑 가운데꺼 값 뺸게 물양임 . \n",
    "# 왼쪽 오른쪽이 기둥임녀 위와같이 .기둥을 기록해둬야구나 .  근데 둘다 물이면 ? 가운데가 더 높으면 지나가면 됨 .  # 한쪽만 물임 . 이거는 채워야지 . # 물이냐를 가운데꺼랑 비교해야알수있구나\n",
    "# 3개 안되는경우 에는 그냥 return 0 \n",
    "# "
   ]
  },
  {
   "cell_type": "code",
   "execution_count": 90,
   "id": "1fd68eb2",
   "metadata": {},
   "outputs": [],
   "source": [
    "length = len(height)"
   ]
  },
  {
   "cell_type": "code",
   "execution_count": null,
   "id": "61466c55",
   "metadata": {},
   "outputs": [],
   "source": [
    "if length< 3:\n",
    "    return 0 "
   ]
  },
  {
   "cell_type": "code",
   "execution_count": null,
   "id": "445efafb",
   "metadata": {},
   "outputs": [],
   "source": [
    "water = 0 \n",
    "for h in range(length-2):\n",
    "    left ,mid , right = h, h+1 ,h + 2\n",
    "    \n",
    "    \n",
    "    # 양쪽 기둥 # 4 0 4 # 둘다 가운데보다 높음 .\n",
    "    \n",
    "    \n",
    "    # 한쪽만 기둥 # 4 2 2 한쪽이 가운데보다 같거나 내려갔으면 무시 . \n",
    "    \n",
    "    # 둘다 물임 .  # 2 2 2 \n",
    "    "
   ]
  },
  {
   "cell_type": "code",
   "execution_count": 91,
   "id": "91d6d1a4",
   "metadata": {},
   "outputs": [],
   "source": [
    "height = [0,1,0,2,1,0,1,3,2,1,2,1]"
   ]
  },
  {
   "cell_type": "code",
   "execution_count": 92,
   "id": "8795ec60",
   "metadata": {},
   "outputs": [],
   "source": [
    "# 1. 왼쪽부터 포인터시작.\n",
    "# 2. 가장 높았떤 값 저장해둔 . \n",
    "# 3. 왼쪽에 가장 높았던 값보다 같거나 높았떤 애들 만날떄까지 게속 포인터움직임.# 연속으로 2번있으면? \n",
    "## 3-4 . 못만났으면 그동안 레프트 탑이랑 라이트 탑 temp쌓인거에서 보내버림. \n",
    "# 4. 그전 값들은 높이를 어떤 리스트에다 저장해두면 될듯. 만약 만낫다 =  ( 더 낮은애 - 그동안 값들 ) * 개수 만큼 물 더함 . \n",
    "# 5. 이전 높았떤애가 방금애로 갈아쳐지고 다시 쭉 포인터움직임 \n",
    "# 6. 맨마지막 처리 잘하기 .마지막 까지 갔는데 없을시 . \n",
    "# 예외 \n",
    "# 4 5 이면 -? 이건 예외가 아니라 그냥 세면 될듯. ? "
   ]
  },
  {
   "cell_type": "code",
   "execution_count": null,
   "id": "b2f5ae6b",
   "metadata": {},
   "outputs": [],
   "source": [
    "5 4 3 2 1 3 4 "
   ]
  },
  {
   "cell_type": "code",
   "execution_count": 93,
   "id": "0b74fd3a",
   "metadata": {},
   "outputs": [],
   "source": [
    "height = [0,1,0,2,1,0,1,3,2,1,2,1]"
   ]
  },
  {
   "cell_type": "code",
   "execution_count": 97,
   "id": "be0ca631",
   "metadata": {},
   "outputs": [],
   "source": [
    "for h in range(len(height)):\n",
    "    if height[h] != 0:\n",
    "        break\n",
    "temp_list = []\n",
    "water = 0\n",
    "\n",
    "height= height[h:]\n",
    "left_top = height[0]\n",
    "right_top = 1\n",
    "\n",
    "for idx in range(len(height)):\n",
    "    \n",
    "    if not temp_list : # 왼쪽 부터 체크 없으면\n",
    "        \n",
    "        if height[idx] >= left_top:\n",
    "            left_top  = height[idx]\n",
    "        else: # 묾넣음 \n",
    "            temp_list.append(height[idx])\n",
    "    else: # 물 차있음. 541\n",
    "        if height[idx] >= left_top:\n",
    "            right_top = height[idx]\n",
    "            max_height = min(left_top , right_top)\n",
    "            # 로직\n",
    "            water += sum([max_height - x for x in temp_list])\n",
    "            left_top = right_top\n",
    "            temp_list = []\n",
    "        else:\n",
    "            temp_list.append(height[idx])\n",
    "    "
   ]
  },
  {
   "cell_type": "code",
   "execution_count": null,
   "id": "9b284187",
   "metadata": {},
   "outputs": [],
   "source": []
  },
  {
   "cell_type": "code",
   "execution_count": 95,
   "id": "5cc605e3",
   "metadata": {},
   "outputs": [
    {
     "data": {
      "text/plain": [
       "5"
      ]
     },
     "execution_count": 95,
     "metadata": {},
     "output_type": "execute_result"
    }
   ],
   "source": [
    "water"
   ]
  },
  {
   "cell_type": "code",
   "execution_count": 1,
   "id": "bedfe147",
   "metadata": {},
   "outputs": [
    {
     "ename": "SyntaxError",
     "evalue": "invalid syntax (3554358903.py, line 1)",
     "output_type": "error",
     "traceback": [
      "\u001b[0;36m  Input \u001b[0;32mIn [1]\u001b[0;36m\u001b[0m\n\u001b[0;31m    1. 1,2이면 물못담음\u001b[0m\n\u001b[0m       ^\u001b[0m\n\u001b[0;31mSyntaxError\u001b[0m\u001b[0;31m:\u001b[0m invalid syntax\n"
     ]
    }
   ],
   "source": [
    "# 0. 구냥 포인터 쭉 오른쪽까지 오른쪽 포인터가 흝으면서 같거나 크면 포인터가 멈춤  , 왼포랑 오른포랑 사이에서 체크함  \n",
    "# 다시 왼쪽 오른쪽으로 포인터 맞춤 .\n",
    "# 왼쪽 포인터가 0 혹은 오른쪽 포인터가 length-1 이면 그거는 물 못담는 곳임 . \n",
    "\n",
    "1. 1,2이면 물못담음\n",
    "2. 물이 한쪽이 아에 안닫아있는 경우 체크할것\n",
    "3. 한쪽 기둥보다 높아지면 물이제 못담고 체크\n",
    "   기둥이 높아지다 다시 낮아지기 시작하면 체크 \n",
    "    -> \n",
    "4. 이떄 만야겡 끝나는 부분이 끝에 걸려버리면 거기는 물 못담는 부분임   "
   ]
  },
  {
   "cell_type": "code",
   "execution_count": 5,
   "id": "cfe714c4",
   "metadata": {},
   "outputs": [],
   "source": [
    "height = [0,1,0,2,1,0,1,3,2,1,2,1]"
   ]
  },
  {
   "cell_type": "code",
   "execution_count": 3,
   "id": "aa63baa2",
   "metadata": {},
   "outputs": [],
   "source": [
    "length= len(height)"
   ]
  },
  {
   "cell_type": "markdown",
   "id": "cd3c4498",
   "metadata": {},
   "source": [
    "### 이방식이면 더블유 형태일떄가 커버안되구나"
   ]
  },
  {
   "cell_type": "code",
   "execution_count": 13,
   "id": "f69ccb8d",
   "metadata": {},
   "outputs": [],
   "source": [
    "def trap(height):\n",
    "    length= len(height)\n",
    "    if length <= 2:\n",
    "        return 0 \n",
    "    \n",
    "    left_p , right_p = 0,0 \n",
    "    height_pv = - 1 \n",
    "    \n",
    "    temp_water = []\n",
    "    left_height =height[0]\n",
    "    right_height = height[0]\n",
    "    \n",
    "    while right_p < length:\n",
    "        height_now = height[right_p]\n",
    "        \n",
    "        if height_now >=  height_pv :\n",
    "            temp_water.append(height_now)\n",
    "        else:\n",
    "            # 여기서 물 비워주고 포인터 재정리 해줘야함 \n",
    "            min_height = min(left_height ,right_height )\n",
    "            \n",
    "            if left_p == 0 or right_p == ( length -1 ):\n",
    "                temp_water =[]\n",
    "                right_p -= 1\n",
    "                left_p = right_p\n",
    "                print(left_p,right_p )\n",
    "            else:\n",
    "                waters = sum([min_height - x for x in height])\n",
    "                temp_water =[]\n",
    "                right_p -= 1\n",
    "                left_p = right_p\n",
    "                print(left_p,right_p )\n",
    "        \n",
    "        right_p += 1\n",
    "        print('1')\n",
    "    if temp_water:\n",
    "        min_height = min(left_height ,right_height )\n",
    "        waters = sum([min_height - x for x in height])\n",
    "        \n",
    "                \n",
    "            "
   ]
  },
  {
   "cell_type": "code",
   "execution_count": 14,
   "id": "82c258b2",
   "metadata": {},
   "outputs": [
    {
     "name": "stdout",
     "output_type": "stream",
     "text": [
      "1\n",
      "1\n",
      "1\n",
      "1\n",
      "1\n",
      "1\n",
      "1\n",
      "1\n",
      "1\n",
      "1\n",
      "1\n",
      "1\n"
     ]
    }
   ],
   "source": [
    "trap(height)"
   ]
  },
  {
   "cell_type": "code",
   "execution_count": null,
   "id": "89964dfc",
   "metadata": {},
   "outputs": [],
   "source": []
  },
  {
   "cell_type": "code",
   "execution_count": null,
   "id": "fbff51c0",
   "metadata": {},
   "outputs": [],
   "source": [
    "if length<= 2 :\n",
    "    "
   ]
  },
  {
   "cell_type": "code",
   "execution_count": null,
   "id": "580957f4",
   "metadata": {},
   "outputs": [],
   "source": []
  },
  {
   "cell_type": "code",
   "execution_count": null,
   "id": "64d3a82f",
   "metadata": {},
   "outputs": [],
   "source": []
  },
  {
   "cell_type": "code",
   "execution_count": null,
   "id": "993644ae",
   "metadata": {},
   "outputs": [],
   "source": []
  },
  {
   "cell_type": "code",
   "execution_count": null,
   "id": "42a9ac50",
   "metadata": {},
   "outputs": [],
   "source": []
  },
  {
   "cell_type": "code",
   "execution_count": null,
   "id": "a62f5684",
   "metadata": {},
   "outputs": [],
   "source": []
  }
 ],
 "metadata": {
  "kernelspec": {
   "display_name": "Python 3 (ipykernel)",
   "language": "python",
   "name": "python3"
  },
  "language_info": {
   "codemirror_mode": {
    "name": "ipython",
    "version": 3
   },
   "file_extension": ".py",
   "mimetype": "text/x-python",
   "name": "python",
   "nbconvert_exporter": "python",
   "pygments_lexer": "ipython3",
   "version": "3.8.13"
  }
 },
 "nbformat": 4,
 "nbformat_minor": 5
}
