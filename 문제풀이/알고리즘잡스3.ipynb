{
 "cells": [
  {
   "cell_type": "markdown",
   "id": "2a2c92c4",
   "metadata": {},
   "source": [
    "# 문자열 압축"
   ]
  },
  {
   "cell_type": "code",
   "execution_count": null,
   "id": "22db7543",
   "metadata": {},
   "outputs": [],
   "source": [
    "AAABBBBBCCCCDDDDEFFF"
   ]
  },
  {
   "cell_type": "code",
   "execution_count": 35,
   "id": "d4357bb6",
   "metadata": {},
   "outputs": [
    {
     "name": "stdout",
     "output_type": "stream",
     "text": [
      "AAABBBBBCCCCDDDDEFFF\n"
     ]
    }
   ],
   "source": [
    "string = input()\n",
    "temp = ''\n",
    "previous = None\n",
    "now = string[0]\n",
    "result = ''\n",
    "\n",
    "for s in range(len(string)):\n",
    "    now = string[s]\n",
    "    if previous ==None or previous == now:\n",
    "        temp+= now\n",
    "    else:\n",
    "        #  result 에 temp 더하기\n",
    "        if len(temp)== 1:\n",
    "            result += temp\n",
    "        else:\n",
    "            result = result + str(len(temp)) + temp[0]\n",
    "        \n",
    "        \n",
    "        temp = now\n",
    "    previous =now\n",
    "\n",
    "if len(temp)== 1:\n",
    "    result += temp\n",
    "else:\n",
    "    result = result + str(len(temp)) + temp[0]\n",
    "    \n",
    "    "
   ]
  },
  {
   "cell_type": "code",
   "execution_count": 36,
   "id": "ab55b81c",
   "metadata": {},
   "outputs": [
    {
     "data": {
      "text/plain": [
       "'3A5B4C4DE3F'"
      ]
     },
     "execution_count": 36,
     "metadata": {},
     "output_type": "execute_result"
    }
   ],
   "source": [
    "result"
   ]
  },
  {
   "cell_type": "markdown",
   "id": "9fc238d9",
   "metadata": {},
   "source": [
    "# 순열 생성 재귀로"
   ]
  },
  {
   "cell_type": "code",
   "execution_count": 108,
   "id": "07df2145",
   "metadata": {},
   "outputs": [],
   "source": [
    "N =3\n",
    "numbers = [1,2,3,4,5,6,7,8,9]\n",
    "result = [None  for x in range(N)]"
   ]
  },
  {
   "cell_type": "code",
   "execution_count": 109,
   "id": "d1539feb",
   "metadata": {},
   "outputs": [
    {
     "data": {
      "text/plain": [
       "[None, None, None]"
      ]
     },
     "execution_count": 109,
     "metadata": {},
     "output_type": "execute_result"
    }
   ],
   "source": [
    "result"
   ]
  },
  {
   "cell_type": "code",
   "execution_count": 110,
   "id": "2e5c95cf",
   "metadata": {},
   "outputs": [],
   "source": [
    "def Recursive(current ,N,result):\n",
    "    if current >= N:\n",
    "        print(result)\n",
    "        return\n",
    "    else:\n",
    "        for i in numbers:\n",
    "            if i not in result:\n",
    "                result[current] = i\n",
    "                Recursive(current+1,N, result)\n",
    "                "
   ]
  },
  {
   "cell_type": "markdown",
   "id": "d86b7d1e",
   "metadata": {},
   "source": [
    "# 팩토리얼"
   ]
  },
  {
   "cell_type": "code",
   "execution_count": 114,
   "id": "e1946ae4",
   "metadata": {},
   "outputs": [
    {
     "name": "stdout",
     "output_type": "stream",
     "text": [
      "4\n"
     ]
    }
   ],
   "source": [
    "n= int(input())"
   ]
  },
  {
   "cell_type": "code",
   "execution_count": 116,
   "id": "cbcd8c5b",
   "metadata": {},
   "outputs": [],
   "source": [
    "n= int(input())\n",
    "def recursive(x):\n",
    "    if x ==1:\n",
    "        return 1\n",
    "    \n",
    "    result = x * recursive(x-1)\n",
    "    return result"
   ]
  },
  {
   "cell_type": "code",
   "execution_count": 117,
   "id": "c3ac579a",
   "metadata": {},
   "outputs": [
    {
     "data": {
      "text/plain": [
       "24"
      ]
     },
     "execution_count": 117,
     "metadata": {},
     "output_type": "execute_result"
    }
   ],
   "source": [
    "recursive(n)"
   ]
  },
  {
   "cell_type": "markdown",
   "id": "bc6c50eb",
   "metadata": {},
   "source": [
    "# 순열 구하기"
   ]
  },
  {
   "cell_type": "code",
   "execution_count": 121,
   "id": "833d5cb5",
   "metadata": {},
   "outputs": [
    {
     "name": "stdout",
     "output_type": "stream",
     "text": [
      "4 2\n"
     ]
    }
   ],
   "source": [
    "a,b = list(map(int,input().split()))"
   ]
  },
  {
   "cell_type": "code",
   "execution_count": 123,
   "id": "d440da5e",
   "metadata": {},
   "outputs": [],
   "source": [
    "words = []\n",
    "for i in range(a):\n",
    "    words.append(chr(97+i))\n",
    "    "
   ]
  },
  {
   "cell_type": "code",
   "execution_count": 124,
   "id": "5e9f9934",
   "metadata": {},
   "outputs": [
    {
     "data": {
      "text/plain": [
       "['a', 'b', 'c', 'd']"
      ]
     },
     "execution_count": 124,
     "metadata": {},
     "output_type": "execute_result"
    }
   ],
   "source": [
    "words"
   ]
  },
  {
   "cell_type": "code",
   "execution_count": 125,
   "id": "1c4b666f",
   "metadata": {},
   "outputs": [],
   "source": [
    "temp = [None for x in range(b)]"
   ]
  },
  {
   "cell_type": "code",
   "execution_count": 126,
   "id": "65ae2000",
   "metadata": {},
   "outputs": [
    {
     "data": {
      "text/plain": [
       "[None, None]"
      ]
     },
     "execution_count": 126,
     "metadata": {},
     "output_type": "execute_result"
    }
   ],
   "source": [
    "temp"
   ]
  },
  {
   "cell_type": "code",
   "execution_count": 127,
   "id": "4e6e44ab",
   "metadata": {},
   "outputs": [],
   "source": [
    "N =2"
   ]
  },
  {
   "cell_type": "code",
   "execution_count": 129,
   "id": "037969fa",
   "metadata": {},
   "outputs": [],
   "source": [
    "def recursive(current ,temp , N ):\n",
    "    \n",
    "    if current >= N:\n",
    "        result = ''.join(temp)\n",
    "        print(result)\n",
    "        return\n",
    "\n",
    "    else:\n",
    "        for i in words:\n",
    "            if i not in temp:\n",
    "                temp[current] =  i\n",
    "                recursive(current+1,temp,N)"
   ]
  },
  {
   "cell_type": "code",
   "execution_count": 130,
   "id": "207813b4",
   "metadata": {},
   "outputs": [
    {
     "name": "stdout",
     "output_type": "stream",
     "text": [
      "ab\n",
      "ac\n",
      "ad\n",
      "ba\n",
      "bc\n",
      "bd\n",
      "ca\n",
      "cb\n",
      "cd\n"
     ]
    }
   ],
   "source": [
    "recursive(0,temp,N)"
   ]
  },
  {
   "cell_type": "markdown",
   "id": "2795bab4",
   "metadata": {},
   "source": [
    "#  binary"
   ]
  },
  {
   "cell_type": "code",
   "execution_count": 1,
   "id": "d5969110",
   "metadata": {},
   "outputs": [
    {
     "name": "stdout",
     "output_type": "stream",
     "text": [
      "14\n"
     ]
    }
   ],
   "source": [
    "N = int(input())"
   ]
  },
  {
   "cell_type": "code",
   "execution_count": null,
   "id": "845e41f9",
   "metadata": {},
   "outputs": [],
   "source": [
    "25\n",
    "11001\n",
    "25 1\n",
    "12 0\n",
    "6  0\n",
    "3  1\n",
    "1  1\n"
   ]
  },
  {
   "cell_type": "code",
   "execution_count": null,
   "id": "30e24f6f",
   "metadata": {},
   "outputs": [],
   "source": [
    "1110\n",
    "2 14 0\n",
    "2  7 1 \n",
    "2  3 1\n",
    "2  1 1\n",
    "   0"
   ]
  },
  {
   "cell_type": "code",
   "execution_count": 5,
   "id": "898b50ca",
   "metadata": {},
   "outputs": [],
   "source": [
    "temp= ''\n",
    "def recursive(x,temp):\n",
    "    if x  ==0:\n",
    "        print(temp[::-1])\n",
    "        return\n",
    "    \n",
    "    mok  = x//2\n",
    "    namuji =  x%2\n",
    "    temp += str(namuji)\n",
    "    \n",
    "    return recursive(mok,temp)\n",
    "    "
   ]
  },
  {
   "cell_type": "code",
   "execution_count": 6,
   "id": "b245ca1a",
   "metadata": {},
   "outputs": [
    {
     "name": "stdout",
     "output_type": "stream",
     "text": [
      "11001\n"
     ]
    }
   ],
   "source": [
    "recursive(25,'')"
   ]
  },
  {
   "cell_type": "markdown",
   "id": "6fd80e5e",
   "metadata": {},
   "source": [
    "# division"
   ]
  },
  {
   "cell_type": "code",
   "execution_count": 1,
   "id": "4e3af3c6",
   "metadata": {},
   "outputs": [
    {
     "name": "stdout",
     "output_type": "stream",
     "text": [
      "5\n"
     ]
    }
   ],
   "source": [
    "N = int(input())"
   ]
  },
  {
   "cell_type": "code",
   "execution_count": 10,
   "id": "3ed520f3",
   "metadata": {},
   "outputs": [],
   "source": []
  },
  {
   "cell_type": "code",
   "execution_count": null,
   "id": "d2a47887",
   "metadata": {},
   "outputs": [],
   "source": [
    "# 1. 누적합이 같으면 멈추도록\n",
    "# 2. for문이 1깢지 다돌도록\n",
    "# 3. 기저조건은 누적합이 N\n",
    "# 4. 필요변수 , 누적합 , string 출력"
   ]
  },
  {
   "cell_type": "code",
   "execution_count": null,
   "id": "12d60c4b",
   "metadata": {},
   "outputs": [],
   "source": []
  },
  {
   "cell_type": "code",
   "execution_count": null,
   "id": "807fbaff",
   "metadata": {},
   "outputs": [],
   "source": [
    "4+1\n",
    "3+2\n",
    "3+1+1\n",
    "2+2+1\n",
    "2+1+1+1\n",
    "1+1+1+1+1\n",
    "6\n"
   ]
  },
  {
   "cell_type": "code",
   "execution_count": 12,
   "id": "0203f305",
   "metadata": {},
   "outputs": [
    {
     "name": "stdout",
     "output_type": "stream",
     "text": [
      "5\n"
     ]
    }
   ],
   "source": [
    "N = int(input())"
   ]
  },
  {
   "cell_type": "code",
   "execution_count": 13,
   "id": "1e841a89",
   "metadata": {},
   "outputs": [
    {
     "ename": "SyntaxError",
     "evalue": "invalid syntax (3298610676.py, line 1)",
     "output_type": "error",
     "traceback": [
      "\u001b[0;36m  File \u001b[0;32m\"/var/folders/kr/z0vkrxjj5bq7lqpnzwpy9s_c0000gn/T/ipykernel_5219/3298610676.py\"\u001b[0;36m, line \u001b[0;32m1\u001b[0m\n\u001b[0;31m    1. 4부터시작\u001b[0m\n\u001b[0m       ^\u001b[0m\n\u001b[0;31mSyntaxError\u001b[0m\u001b[0;31m:\u001b[0m invalid syntax\n"
     ]
    }
   ],
   "source": [
    "1. 4부터시작\n",
    "2. 누적합 = 4 , max_ =4 \n",
    "3. if 누적합이 4가 아니면  temp 에 4+ 로 넘김 아닐 경우 4만 더하고 return"
   ]
  },
  {
   "cell_type": "code",
   "execution_count": 33,
   "id": "a1039504",
   "metadata": {},
   "outputs": [],
   "source": [
    "def recursive(cum_sum ,max_, string,N):\n",
    "    \n",
    "    \n",
    "    for i in range(max_,0,-1):\n",
    "        print()\n",
    "        if ( cum_sum  + i ) > N:\n",
    "            continue\n",
    "        \n",
    "        \n",
    "        \n",
    "        cum_sum += i\n",
    "        max_    =  i\n",
    "        \n",
    "        if cum_sum  == N:\n",
    "            string = string + str(i)\n",
    "            print(string)\n",
    "            return\n",
    "        elif cum_sum < N:\n",
    "            string =  string + str(i) + '+'\n",
    "            \n",
    "            recursive(cum_sum, max_, string,N)\n",
    "            "
   ]
  },
  {
   "cell_type": "code",
   "execution_count": 34,
   "id": "c8eb13b6",
   "metadata": {},
   "outputs": [
    {
     "name": "stdout",
     "output_type": "stream",
     "text": [
      "4+1\n",
      "4+1\n"
     ]
    }
   ],
   "source": [
    "recursive(0,4,'',5)"
   ]
  },
  {
   "cell_type": "code",
   "execution_count": null,
   "id": "1e5d165b",
   "metadata": {},
   "outputs": [],
   "source": []
  },
  {
   "cell_type": "markdown",
   "id": "5f832c9a",
   "metadata": {},
   "source": [
    "# color paper"
   ]
  },
  {
   "cell_type": "code",
   "execution_count": null,
   "id": "b2b1baa3",
   "metadata": {},
   "outputs": [],
   "source": []
  },
  {
   "cell_type": "code",
   "execution_count": 52,
   "id": "8f2f2d1f",
   "metadata": {},
   "outputs": [
    {
     "name": "stdout",
     "output_type": "stream",
     "text": [
      "1\n",
      "0 0 101 101\n",
      "10201\n"
     ]
    }
   ],
   "source": [
    "N= int(input())\n",
    "map_ = [[-1 for y in range(101)] for x in range(101)]\n",
    "for _ in range(N):\n",
    "    i , j , d_j , d_i = list(map(int,input().split()))\n",
    "    \n",
    "    for ii in  range(i, i+d_i):\n",
    "        for jj in  range(j,j+d_j):\n",
    "            map_[ii][jj] = _\n",
    "\n",
    "for _ in range(N):\n",
    "    count =  0\n",
    "    for i in range(101):\n",
    "        for j in range(101):\n",
    "            if map_[i][j] ==  _:\n",
    "                count +=1\n",
    "    print(count)"
   ]
  },
  {
   "cell_type": "code",
   "execution_count": null,
   "id": "3d926ad6",
   "metadata": {},
   "outputs": [],
   "source": []
  }
 ],
 "metadata": {
  "kernelspec": {
   "display_name": "Python 3 (ipykernel)",
   "language": "python",
   "name": "python3"
  },
  "language_info": {
   "codemirror_mode": {
    "name": "ipython",
    "version": 3
   },
   "file_extension": ".py",
   "mimetype": "text/x-python",
   "name": "python",
   "nbconvert_exporter": "python",
   "pygments_lexer": "ipython3",
   "version": "3.9.7"
  }
 },
 "nbformat": 4,
 "nbformat_minor": 5
}
