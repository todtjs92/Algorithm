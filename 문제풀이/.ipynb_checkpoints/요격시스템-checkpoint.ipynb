{
 "cells": [
  {
   "cell_type": "code",
   "execution_count": null,
   "id": "c539d723",
   "metadata": {},
   "outputs": [],
   "source": [
    "#1. 길이는 전체 합 구한거 "
   ]
  },
  {
   "cell_type": "code",
   "execution_count": null,
   "id": "c05c0143",
   "metadata": {},
   "outputs": [],
   "source": [
    "# [1,2][2,3] 이면 두발 쏴야함 . \n",
    "# 한쪽으로 몰자 무조건 앞으로 인식 . \n"
   ]
  },
  {
   "cell_type": "code",
   "execution_count": null,
   "id": "2fdba552",
   "metadata": {},
   "outputs": [],
   "source": [
    "[1,2]는 [1,1]\n",
    "[2,3]은 [2,2]"
   ]
  },
  {
   "cell_type": "code",
   "execution_count": 6,
   "id": "6892fb10",
   "metadata": {},
   "outputs": [],
   "source": [
    "targets = [[4,5],[4,8],[10,14],[11,13],[5,12],[3,7],[1,4]]"
   ]
  },
  {
   "cell_type": "code",
   "execution_count": 3,
   "id": "2df67fa6",
   "metadata": {},
   "outputs": [],
   "source": [
    "targets.sort(key = lambda x: [x[1], x[0]])"
   ]
  },
  {
   "cell_type": "code",
   "execution_count": 4,
   "id": "4509db74",
   "metadata": {},
   "outputs": [
    {
     "data": {
      "text/plain": [
       "[[1, 4], [4, 5], [3, 7], [4, 8], [5, 12], [11, 13], [10, 14]]"
      ]
     },
     "execution_count": 4,
     "metadata": {},
     "output_type": "execute_result"
    }
   ],
   "source": [
    "targets"
   ]
  },
  {
   "cell_type": "code",
   "execution_count": null,
   "id": "24372342",
   "metadata": {},
   "outputs": [],
   "source": [
    "# 그리디는 아닌거같음 . 많이 맞춘다고 좋은게 아님 "
   ]
  },
  {
   "cell_type": "code",
   "execution_count": null,
   "id": "24389350",
   "metadata": {},
   "outputs": [],
   "source": [
    "#n으로 생가갛고 흝으면서 "
   ]
  },
  {
   "cell_type": "code",
   "execution_count": 5,
   "id": "f13e4ae4",
   "metadata": {},
   "outputs": [],
   "source": [
    "def solution(targets):\n",
    "    answer = 0\n",
    "    targets.sort(key = lambda x: [x[1], x[0]])\n",
    "    \n",
    "    s = e = 0\n",
    "    for target in targets:\n",
    "        if target[0] >= e:\n",
    "            answer += 1\n",
    "            e = target[1]\n",
    "            print(e)\n",
    "\n",
    "    return answer "
   ]
  },
  {
   "cell_type": "code",
   "execution_count": 7,
   "id": "0900162d",
   "metadata": {},
   "outputs": [
    {
     "name": "stdout",
     "output_type": "stream",
     "text": [
      "4\n",
      "5\n",
      "12\n"
     ]
    },
    {
     "data": {
      "text/plain": [
       "3"
      ]
     },
     "execution_count": 7,
     "metadata": {},
     "output_type": "execute_result"
    }
   ],
   "source": [
    "solution(targets)"
   ]
  },
  {
   "cell_type": "code",
   "execution_count": null,
   "id": "bba70f83",
   "metadata": {},
   "outputs": [],
   "source": []
  }
 ],
 "metadata": {
  "kernelspec": {
   "display_name": "Python 3 (ipykernel)",
   "language": "python",
   "name": "python3"
  },
  "language_info": {
   "codemirror_mode": {
    "name": "ipython",
    "version": 3
   },
   "file_extension": ".py",
   "mimetype": "text/x-python",
   "name": "python",
   "nbconvert_exporter": "python",
   "pygments_lexer": "ipython3",
   "version": "3.8.13"
  }
 },
 "nbformat": 4,
 "nbformat_minor": 5
}
