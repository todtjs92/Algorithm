{
 "cells": [
  {
   "cell_type": "markdown",
   "id": "1cc5fc7b",
   "metadata": {},
   "source": [
    "## 괄호삽입"
   ]
  },
  {
   "cell_type": "code",
   "execution_count": 11,
   "id": "34bb5ea4",
   "metadata": {},
   "outputs": [],
   "source": [
    "# https://leetcode.com/problems/different-ways-to-add-parentheses/"
   ]
  },
  {
   "cell_type": "code",
   "execution_count": 13,
   "id": "b0e7ff99",
   "metadata": {},
   "outputs": [],
   "source": [
    "expressions = \"2-1-1\""
   ]
  },
  {
   "cell_type": "code",
   "execution_count": null,
   "id": "d1e65b8b",
   "metadata": {},
   "outputs": [],
   "source": [
    "expression = \"2*3-4*5\""
   ]
  },
  {
   "cell_type": "markdown",
   "id": "3deaea18",
   "metadata": {},
   "source": [
    "괄호를 넣을 생각을 하는게 아니라 구별해서 계산하면 되는구나 ;;"
   ]
  },
  {
   "cell_type": "code",
   "execution_count": null,
   "id": "cac3b3d3",
   "metadata": {},
   "outputs": [],
   "source": [
    "def diffWaysToCompute(expression):\n",
    "    \n",
    "    def compute(left ,right , op):\n",
    "        results = []\n",
    "        for l in left:\n",
    "            for r in right:\n",
    "                results.append( eval(str(l) + op + str(r) ) )\n",
    "        return results\n",
    "    \n",
    "    if expression.isdigit():\n",
    "        return [int(input)]\n",
    "    \n",
    "    results = []\n",
    "    for index , value in enumerate(expression):\n",
    "        if value in \"-+*\":\n",
    "            left = diffWaysToCompute(expression[:index]) # 부호 전 까지 \n",
    "            right = diffWaysToCompute(expression[index+1:])\n",
    "            \n",
    "            results.extend(compute(left, right , value))\n",
    "    \n",
    "    return results \n",
    "        \n",
    "        \n",
    "    "
   ]
  }
 ],
 "metadata": {
  "kernelspec": {
   "display_name": "Python 3 (ipykernel)",
   "language": "python",
   "name": "python3"
  },
  "language_info": {
   "codemirror_mode": {
    "name": "ipython",
    "version": 3
   },
   "file_extension": ".py",
   "mimetype": "text/x-python",
   "name": "python",
   "nbconvert_exporter": "python",
   "pygments_lexer": "ipython3",
   "version": "3.8.13"
  }
 },
 "nbformat": 4,
 "nbformat_minor": 5
}
