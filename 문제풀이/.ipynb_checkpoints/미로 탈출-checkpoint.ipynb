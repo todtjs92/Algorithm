{
 "cells": [
  {
   "cell_type": "markdown",
   "id": "02602574",
   "metadata": {},
   "source": [
    "#### 비트연산자"
   ]
  },
  {
   "cell_type": "code",
   "execution_count": 2,
   "id": "c44989c7",
   "metadata": {},
   "outputs": [],
   "source": [
    "# a =  '00111100'\n",
    "# a << 1 -> '11110000' "
   ]
  },
  {
   "cell_type": "code",
   "execution_count": 10,
   "id": "46186497",
   "metadata": {},
   "outputs": [],
   "source": [
    "import heapq\n",
    "\n",
    "INF = float('inf')\n",
    "\n",
    "# 갈수있는 방향 판별 함수\n",
    "def isReverse(cur_pos, next_pos, cur_state, traps_idx):\n",
    "    is_cur_trap_on, is_next_trap_on = False, False\n",
    "    if cur_pos in traps_idx:\n",
    "        is_cur_trap_on = (cur_state & (1 << traps_idx[cur_pos])) > 0\n",
    "    if next_pos in traps_idx:\n",
    "        is_next_trap_on = (cur_state & (1 << traps_idx[next_pos])) > 0\n",
    "\n",
    "    # 함정 상태가 같으면 순방향, 다르면 역방향\n",
    "    return is_cur_trap_on != is_next_trap_on\n",
    "\n",
    "# 다음 노드를 밟은 후 상태를 반환하는 함수\n",
    "def getNextState(next_pos, cur_state, traps_idx):\n",
    "    if next_pos in traps_idx:\n",
    "        return cur_state ^ (1 << traps_idx[next_pos])\n",
    "    return cur_state\n",
    "\n",
    "def solution(n, start, end, roads, traps):\n",
    "    answer = INF\n",
    "    min_cost = [[INF for _ in range(n+1)] for _ in range(2**len(traps))]\n",
    "    traps_idx = {v: i for i, v in enumerate(traps)}\n",
    "    graph = [[] for _ in range(n+1)]  # end, cost, isReverse\n",
    "    # graph 생성\n",
    "    for _start, _end, _cost in roads:\n",
    "        graph[_start].append([_end, _cost, False])\n",
    "        graph[_end].append([_start, _cost, True])\n",
    "\n",
    "    hq = []  # [[sum, cur_pos, trap_state]]\n",
    "    heapq.heappush(hq, [0, start, 0])\n",
    "    min_cost[0][start] = 0  # 첫 시작점\n",
    "\n",
    "    while hq:\n",
    "        cur_sum, cur_pos, cur_state = heapq.heappop(hq)\n",
    "        if cur_pos == end:\n",
    "            answer = min(answer, cur_sum)\n",
    "            continue\n",
    "        if cur_sum > min_cost[cur_state][cur_pos]:\n",
    "            continue\n",
    "        for next_pos, next_cost, is_reverse in graph[cur_pos]:\n",
    "            # 못 가는 방향이면 pass\n",
    "            if is_reverse != isReverse(cur_pos, next_pos, cur_state, traps_idx):\n",
    "                continue\n",
    "\n",
    "            next_state = getNextState(next_pos, cur_state, traps_idx)\n",
    "            next_sum = next_cost+cur_sum\n",
    "            # 다음 상태의 비용이 이미 더 작으면 pass\n",
    "            if next_sum >= min_cost[next_state][next_pos]:\n",
    "                continue\n",
    "\n",
    "            min_cost[next_state][next_pos] = next_sum\n",
    "            heapq.heappush(hq, [next_sum, next_pos, next_state])\n",
    "\n",
    "    return answer\n",
    "            \n",
    "            \n",
    "    \n"
   ]
  },
  {
   "cell_type": "code",
   "execution_count": 16,
   "id": "e2ba3119",
   "metadata": {},
   "outputs": [],
   "source": [
    "n = 3\n",
    "start = 1\n",
    "end = 3\n",
    "roads = [[1,2,2],[3,2,3]]\n",
    "traps = [2]"
   ]
  },
  {
   "cell_type": "code",
   "execution_count": 12,
   "id": "fbccbe48",
   "metadata": {},
   "outputs": [
    {
     "data": {
      "text/plain": [
       "5"
      ]
     },
     "execution_count": 12,
     "metadata": {},
     "output_type": "execute_result"
    }
   ],
   "source": [
    "solution(n, start , end, roads, traps)"
   ]
  },
  {
   "cell_type": "code",
   "execution_count": 19,
   "id": "8651c178",
   "metadata": {},
   "outputs": [],
   "source": [
    "visited = [[False for _ in range(1<<len(traps))] for _ in range(n+1)]"
   ]
  },
  {
   "cell_type": "code",
   "execution_count": 20,
   "id": "b2019fe5",
   "metadata": {},
   "outputs": [
    {
     "data": {
      "text/plain": [
       "[[False, False], [False, False], [False, False], [False, False]]"
      ]
     },
     "execution_count": 20,
     "metadata": {},
     "output_type": "execute_result"
    }
   ],
   "source": [
    "visited"
   ]
  },
  {
   "cell_type": "code",
   "execution_count": null,
   "id": "42169837",
   "metadata": {},
   "outputs": [],
   "source": []
  },
  {
   "cell_type": "code",
   "execution_count": null,
   "id": "4c76ecaa",
   "metadata": {},
   "outputs": [],
   "source": [
    "INF = 987654321\n",
    "import queue\n",
    "\n",
    "def dijjkstra(n, garph ,src , dst, traps):\n",
    "    pq= queue.PriorityQueue()\n",
    "    visited = [[False] for _ in range(1<<len(traps))] for _ in range(n+1)  # 1<<len(traps) 이게 함정의 비트마스크 표현\n",
    "    \n",
    "\n",
    "def solution(n,start, end, roads , traps):\n",
    "    # 0뺴고씀, 트랩에 0 없는거 생각해서\n",
    "    graph = [INF for _ in range(n+1)]\n",
    "    for i in range(1,n+1):\n",
    "        graph[i][j] = 0\n",
    "    \n",
    "    for data in roads:\n",
    "        u =  data [0] # 시작\n",
    "        v = data[1] # 끝\n",
    "        w = data[2] # 가중치\n",
    "        # 인접행렬로 풀것 무조건 가장 작은값을 인접행렬에 넣어준다\n",
    "        \n",
    "        if w < graph[u][v]:\n",
    "            graph[u][v] = w\n",
    "    \n",
    "    \n",
    "    return dijjkstra(n,graph, src, dst, traps)"
   ]
  },
  {
   "cell_type": "code",
   "execution_count": null,
   "id": "f3ced29a",
   "metadata": {},
   "outputs": [],
   "source": []
  },
  {
   "cell_type": "code",
   "execution_count": 5,
   "id": "14d2efe0",
   "metadata": {},
   "outputs": [],
   "source": [
    "import collections"
   ]
  },
  {
   "cell_type": "code",
   "execution_count": 7,
   "id": "43dd2d06",
   "metadata": {},
   "outputs": [
    {
     "data": {
      "text/plain": [
       "[(4, 2)]"
      ]
     },
     "execution_count": 7,
     "metadata": {},
     "output_type": "execute_result"
    }
   ],
   "source": [
    "collections.Counter([1,4,4]).most_common(1)\n"
   ]
  },
  {
   "cell_type": "code",
   "execution_count": 10,
   "id": "c053f252",
   "metadata": {},
   "outputs": [],
   "source": [
    "nums = [1,34,12,432,4,25,23,4,32,1,1,1]"
   ]
  },
  {
   "cell_type": "code",
   "execution_count": 11,
   "id": "d9f28276",
   "metadata": {},
   "outputs": [
    {
     "data": {
      "text/plain": [
       "4"
      ]
     },
     "execution_count": 11,
     "metadata": {},
     "output_type": "execute_result"
    }
   ],
   "source": [
    "nums.count(1)"
   ]
  },
  {
   "cell_type": "markdown",
   "id": "e4141911",
   "metadata": {},
   "source": [
    "### 미로탈출"
   ]
  },
  {
   "cell_type": "code",
   "execution_count": 140,
   "id": "987f0a2f",
   "metadata": {},
   "outputs": [],
   "source": [
    "maps = [\"SOOOL\",\"XXXXO\",\"OOOOO\",\"OXXXX\",\"OOOOE\"]\n"
   ]
  },
  {
   "cell_type": "code",
   "execution_count": null,
   "id": "ac59386c",
   "metadata": {},
   "outputs": [],
   "source": [
    "maps = [\"LOOXS\",\"OOOOX\",\"OOOOO\",\"OOOOO\",\"EOOOO\"]"
   ]
  },
  {
   "cell_type": "code",
   "execution_count": null,
   "id": "480d1f0f",
   "metadata": {},
   "outputs": [],
   "source": [
    "# 1. s에서 시작하게 찾으면 됨 . \n",
    "# 2. L까지 bfs로 구하면 됨 . 거리 . \n",
    "# 3. 그 거리에서 다시 E까지 bfs 구하면 됨. \n",
    "# 4. 만일 사방이 다 막히면 -1 -> 함수 다돌앗을떄 Return -1 두면 될듯>"
   ]
  },
  {
   "cell_type": "code",
   "execution_count": 141,
   "id": "0c2cbe28",
   "metadata": {},
   "outputs": [],
   "source": [
    "from copy import deepcopy "
   ]
  },
  {
   "cell_type": "code",
   "execution_count": 142,
   "id": "ff137d6f",
   "metadata": {},
   "outputs": [],
   "source": [
    "for i in range(len(maps)):\n",
    "    for j in range(len(maps[0])):\n",
    "        if maps[i][j] =='S':\n",
    "            start_i, start_j = i,j\n",
    "        elif maps[i][j] == 'L':\n",
    "            lever_i, lever_j = i,j\n",
    "        elif maps[i][j] == 'E':\n",
    "            end_i , end_j = i,j\n",
    "            "
   ]
  },
  {
   "cell_type": "code",
   "execution_count": 143,
   "id": "67c8e44d",
   "metadata": {},
   "outputs": [],
   "source": [
    "maps = [[y for y in x] for x in maps]"
   ]
  },
  {
   "cell_type": "code",
   "execution_count": 144,
   "id": "81489536",
   "metadata": {},
   "outputs": [],
   "source": [
    "garo = len(maps)\n",
    "sero = len(maps[0])"
   ]
  },
  {
   "cell_type": "code",
   "execution_count": 154,
   "id": "63bd47be",
   "metadata": {},
   "outputs": [],
   "source": [
    "maps_ = deepcopy(maps)"
   ]
  },
  {
   "cell_type": "code",
   "execution_count": 155,
   "id": "dd9a81db",
   "metadata": {},
   "outputs": [
    {
     "data": {
      "text/plain": [
       "[['S', 'O', 'O', 'O', 'L'],\n",
       " ['X', 'X', 'X', 'X', 'O'],\n",
       " ['O', 'O', 'O', 'O', 'O'],\n",
       " ['O', 'X', 'X', 'X', 'X'],\n",
       " ['O', 'O', 'O', 'O', 'E']]"
      ]
     },
     "execution_count": 155,
     "metadata": {},
     "output_type": "execute_result"
    }
   ],
   "source": [
    "maps_"
   ]
  },
  {
   "cell_type": "code",
   "execution_count": 156,
   "id": "edbe4649",
   "metadata": {},
   "outputs": [],
   "source": [
    "def solution(maps):\n",
    "    def bfs_L(maps_,start_i,start_j):\n",
    "    \n",
    "        d_i = [0,0,-1,1]\n",
    "        d_j = [1,-1,0,0]\n",
    "\n",
    "        visit = []\n",
    "        visit.append([start_i,start_j])\n",
    "        maps_[start_i][start_j] = 0\n",
    "\n",
    "        while visit:\n",
    "            loc_i, loc_j = visit.pop(0)\n",
    "\n",
    "            for d in range(4):\n",
    "                next_i = loc_i + d_i[d]\n",
    "                next_j = loc_j + d_j[d]\n",
    "                if next_i >= 0 and next_j >=0 and next_i < garo and next_j < sero:\n",
    "                    if maps_[next_i][next_j] == 'O' or maps_[next_i][next_j] == 'L' or maps_[next_i][next_j] == 'E' :\n",
    "                        if maps_[next_i][next_j] == 'L':\n",
    "                            return maps_[loc_i][loc_j] + 1\n",
    "                        else:\n",
    "                            maps_[next_i][next_j] = maps_[loc_i][loc_j] + 1\n",
    "                            visit.append( [next_i, next_j] )\n",
    "\n",
    "\n",
    "        return -1 \n",
    "        \n",
    "    \n",
    "    \n",
    "    "
   ]
  },
  {
   "cell_type": "code",
   "execution_count": null,
   "id": "96c2cb43",
   "metadata": {},
   "outputs": [],
   "source": []
  },
  {
   "cell_type": "code",
   "execution_count": 157,
   "id": "96d4f363",
   "metadata": {},
   "outputs": [],
   "source": [
    "distance_a = bfs_L(maps_)"
   ]
  },
  {
   "cell_type": "code",
   "execution_count": 158,
   "id": "41cb2247",
   "metadata": {},
   "outputs": [
    {
     "data": {
      "text/plain": [
       "4"
      ]
     },
     "execution_count": 158,
     "metadata": {},
     "output_type": "execute_result"
    }
   ],
   "source": [
    "distance_a"
   ]
  },
  {
   "cell_type": "code",
   "execution_count": null,
   "id": "c6fb61a0",
   "metadata": {},
   "outputs": [],
   "source": []
  },
  {
   "cell_type": "code",
   "execution_count": 88,
   "id": "68f43156",
   "metadata": {},
   "outputs": [
    {
     "ename": "SyntaxError",
     "evalue": "'return' outside function (4051817114.py, line 2)",
     "output_type": "error",
     "traceback": [
      "\u001b[0;36m  Input \u001b[0;32mIn [88]\u001b[0;36m\u001b[0m\n\u001b[0;31m    return -1\u001b[0m\n\u001b[0m    ^\u001b[0m\n\u001b[0;31mSyntaxError\u001b[0m\u001b[0;31m:\u001b[0m 'return' outside function\n"
     ]
    }
   ],
   "source": [
    "if distance_a == -1:\n",
    "    return -1"
   ]
  },
  {
   "cell_type": "code",
   "execution_count": 89,
   "id": "8a1f1124",
   "metadata": {},
   "outputs": [
    {
     "data": {
      "text/plain": [
       "4"
      ]
     },
     "execution_count": 89,
     "metadata": {},
     "output_type": "execute_result"
    }
   ],
   "source": [
    "distance_a"
   ]
  },
  {
   "cell_type": "code",
   "execution_count": 103,
   "id": "c569a62f",
   "metadata": {},
   "outputs": [],
   "source": [
    "maps_ = deepcopy(maps)"
   ]
  },
  {
   "cell_type": "code",
   "execution_count": 104,
   "id": "ac3ed46d",
   "metadata": {},
   "outputs": [],
   "source": [
    "def bfs_E(maps):\n",
    "    \n",
    "    d_i = [0,0,-1,1]\n",
    "    d_j = [1,-1,0,0]\n",
    "    \n",
    "    visit = []\n",
    "    visit.append([lever_i,lever_j,0])\n",
    "    maps_[lever_i][lever_j] = 0\n",
    "    \n",
    "    while visit:\n",
    "        loc_i, loc_j, distance = visit.pop(0)\n",
    "        if maps_[loc_i][loc_j] == 'E':\n",
    "            \n",
    "            return distance \n",
    "        now_distance = distance +1 \n",
    "        maps_[loc_i][loc_j] = now_distance\n",
    "        \n",
    "        for d in range(4):\n",
    "            next_i = loc_i + d_i[d]\n",
    "            next_j = loc_j + d_j[d]\n",
    "            if next_i >= 0 and next_j >=0 and next_i < garo and next_j < sero:\n",
    "                if maps_[next_i][next_j] == 'O' or maps_[next_i][next_j] == 'L' or maps_[next_i][next_j] == 'E' : \n",
    "                    visit.append( [next_i, next_j,now_distance] )\n",
    "    \n",
    "    \n",
    "    return -1 "
   ]
  },
  {
   "cell_type": "code",
   "execution_count": 105,
   "id": "b283d236",
   "metadata": {},
   "outputs": [],
   "source": [
    "distance_b = bfs_E(maps_)"
   ]
  },
  {
   "cell_type": "code",
   "execution_count": 106,
   "id": "f705ebf7",
   "metadata": {},
   "outputs": [
    {
     "data": {
      "text/plain": [
       "12"
      ]
     },
     "execution_count": 106,
     "metadata": {},
     "output_type": "execute_result"
    }
   ],
   "source": [
    "distance_b"
   ]
  },
  {
   "cell_type": "code",
   "execution_count": 107,
   "id": "17d82708",
   "metadata": {},
   "outputs": [
    {
     "data": {
      "text/plain": [
       "[['S', 4, 3, 2, 1],\n",
       " ['X', 'X', 'X', 'X', 2],\n",
       " [7, 6, 5, 4, 3],\n",
       " [8, 'X', 'X', 'X', 'X'],\n",
       " [9, 10, 11, 12, 'E']]"
      ]
     },
     "execution_count": 107,
     "metadata": {},
     "output_type": "execute_result"
    }
   ],
   "source": [
    "maps_"
   ]
  },
  {
   "cell_type": "code",
   "execution_count": null,
   "id": "a733c118",
   "metadata": {},
   "outputs": [],
   "source": [
    "if distance_b == -1:\n",
    "    return -1"
   ]
  },
  {
   "cell_type": "code",
   "execution_count": null,
   "id": "6630f81f",
   "metadata": {},
   "outputs": [],
   "source": [
    "return distance_a + distance_b"
   ]
  },
  {
   "cell_type": "code",
   "execution_count": 187,
   "id": "cc327011",
   "metadata": {},
   "outputs": [],
   "source": [
    "from copy import deepcopy \n",
    "\n",
    "\n",
    "def solution(maps):\n",
    "    def bfs_L(maps_,start_i,start_j):\n",
    "    \n",
    "        d_i = [0,0,-1,1]\n",
    "        d_j = [1,-1,0,0]\n",
    "\n",
    "        visit = []\n",
    "        visit.append([start_i,start_j,0])\n",
    "        maps_[start_i][start_j] = 0\n",
    "\n",
    "        while visit:\n",
    "            loc_i, loc_j, distance = visit.pop(0)\n",
    "            if maps_[loc_i][loc_j] == 'L':\n",
    "\n",
    "                return distance \n",
    "            now_distance = distance +1 \n",
    "            maps_[loc_i][loc_j] = now_distance\n",
    "\n",
    "            for d in range(4):\n",
    "                next_i = loc_i + d_i[d]\n",
    "                next_j = loc_j + d_j[d]\n",
    "                if next_i >= 0 and next_j >=0 and next_i < garo and next_j < sero:\n",
    "                    if maps_[next_i][next_j] == 'O' or maps_[next_i][next_j] == 'L' or maps_[next_i][next_j] == 'E' : \n",
    "                        visit.append( [next_i, next_j,now_distance] )\n",
    "\n",
    "\n",
    "        return -1 \n",
    "    def bfs_E(maps_,lever_i,lever_j):\n",
    "\n",
    "        d_i = [0,0,-1,1]\n",
    "        d_j = [1,-1,0,0]\n",
    "\n",
    "        visit = []\n",
    "        visit.append([lever_i,lever_j,0])\n",
    "        maps_[lever_i][lever_j] = 0\n",
    "\n",
    "        while visit:\n",
    "            loc_i, loc_j, distance = visit.pop(0)\n",
    "            if maps_[loc_i][loc_j] == 'E':\n",
    "\n",
    "                return distance \n",
    "            now_distance = distance +1 \n",
    "            maps_[loc_i][loc_j] = now_distance\n",
    "\n",
    "            for d in range(4):\n",
    "                next_i = loc_i + d_i[d]\n",
    "                next_j = loc_j + d_j[d]\n",
    "                if next_i >= 0 and next_j >=0 and next_i < garo and next_j < sero:\n",
    "                    if maps_[next_i][next_j] == 'O' or maps_[next_i][next_j] == 'L' or maps_[next_i][next_j] == 'E' or maps_[next_i][next_j] == 'S' : \n",
    "                        visit.append( [next_i, next_j,now_distance] )\n",
    "\n",
    "\n",
    "        return -1 \n",
    "\n",
    "\n",
    "    for i in range(len(maps)):\n",
    "        for j in range(len(maps[0])):\n",
    "            if maps[i][j] =='S':\n",
    "                start_i, start_j = i,j\n",
    "            elif maps[i][j] == 'L':\n",
    "                lever_i, lever_j = i,j\n",
    "            elif maps[i][j] == 'E':\n",
    "                end_i , end_j = i,j\n",
    "    \n",
    "    maps = [[y for y in x] for x in maps]\n",
    "    garo = len(maps)\n",
    "    sero = len(maps[0])\n",
    "    maps_ = deepcopy(maps)\n",
    "    \n",
    "    distance_a = bfs_L(maps_,start_i,start_j)\n",
    "    if distance_a == -1:\n",
    "        return -1\n",
    "    maps_ = deepcopy(maps)\n",
    "\n",
    "    distance_b = bfs_E(maps_,lever_i,lever_j)\n",
    "    if distance_b == -1:\n",
    "        return -1\n",
    "    answer = distance_a + distance_b\n",
    "    return answer"
   ]
  },
  {
   "cell_type": "code",
   "execution_count": 213,
   "id": "17db6ab9",
   "metadata": {},
   "outputs": [],
   "source": [
    "maps = [\"SXXOX\", \"EXXXL\", \"OOXOO\", \"OXXXX\", \"OOOOO\"]"
   ]
  },
  {
   "cell_type": "code",
   "execution_count": 214,
   "id": "fb971716",
   "metadata": {},
   "outputs": [
    {
     "name": "stdout",
     "output_type": "stream",
     "text": [
      "[[0, 'X', 'X', 'O', 'X'], [1, 'X', 'X', 'X', 'L'], [2, 3, 'X', 'O', 'O'], [3, 'X', 'X', 'X', 'X'], [4, 5, 6, 7, 8]]\n"
     ]
    },
    {
     "data": {
      "text/plain": [
       "-1"
      ]
     },
     "execution_count": 214,
     "metadata": {},
     "output_type": "execute_result"
    }
   ],
   "source": [
    "solution(maps)"
   ]
  },
  {
   "cell_type": "markdown",
   "id": "ca23b8d1",
   "metadata": {},
   "source": [
    "### 제출"
   ]
  },
  {
   "cell_type": "code",
   "execution_count": null,
   "id": "7270600c",
   "metadata": {},
   "outputs": [],
   "source": [
    "from copy import deepcopy \n",
    "\n",
    "\n",
    "def solution(maps):\n",
    "    def bfs_L(maps_,start_i,start_j):\n",
    "    \n",
    "        d_i = [0,0,-1,1]\n",
    "        d_j = [1,-1,0,0]\n",
    "\n",
    "        visit = []\n",
    "        visit.append([start_i,start_j,0])\n",
    "        maps_[start_i][start_j] = 0\n",
    "\n",
    "        while visit:\n",
    "            loc_i, loc_j, distance = visit.pop(0)\n",
    "            if maps_[loc_i][loc_j] == 'L':\n",
    "\n",
    "                return distance \n",
    "            now_distance = distance +1 \n",
    "            maps_[loc_i][loc_j] = now_distance\n",
    "\n",
    "            for d in range(4):\n",
    "                next_i = loc_i + d_i[d]\n",
    "                next_j = loc_j + d_j[d]\n",
    "                if next_i >= 0 and next_j >=0 and next_i < garo and next_j < sero:\n",
    "                    if maps_[next_i][next_j] == 'O' or maps_[next_i][next_j] == 'L' or maps_[next_i][next_j] == 'E' : \n",
    "                        visit.append( [next_i, next_j,now_distance] )\n",
    "\n",
    "\n",
    "        return -1 \n",
    "    def bfs_E(maps_,lever_i,lever_j):\n",
    "\n",
    "        d_i = [0,0,-1,1]\n",
    "        d_j = [1,-1,0,0]\n",
    "\n",
    "        visit = []\n",
    "        visit.append([lever_i,lever_j,0])\n",
    "        maps_[lever_i][lever_j] = 0\n",
    "\n",
    "        while visit:\n",
    "            loc_i, loc_j, distance = visit.pop(0)\n",
    "            if maps_[loc_i][loc_j] == 'E':\n",
    "\n",
    "                return distance \n",
    "            now_distance = distance +1 \n",
    "            maps_[loc_i][loc_j] = now_distance\n",
    "\n",
    "            for d in range(4):\n",
    "                next_i = loc_i + d_i[d]\n",
    "                next_j = loc_j + d_j[d]\n",
    "                if next_i >= 0 and next_j >=0 and next_i < garo and next_j < sero:\n",
    "                    if maps_[next_i][next_j] == 'O' or maps_[next_i][next_j] == 'L' or maps_[next_i][next_j] == 'E' or maps_[next_i][next_j] == 'S' : \n",
    "                        visit.append( [next_i, next_j,now_distance] )\n",
    "\n",
    "\n",
    "        return -1 \n",
    "\n",
    "\n",
    "    for i in range(len(maps)):\n",
    "        for j in range(len(maps[0])):\n",
    "            if maps[i][j] =='S':\n",
    "                start_i, start_j = i,j\n",
    "            elif maps[i][j] == 'L':\n",
    "                lever_i, lever_j = i,j\n",
    "            elif maps[i][j] == 'E':\n",
    "                end_i , end_j = i,j\n",
    "    \n",
    "    maps = [[y for y in x] for x in maps]\n",
    "    garo = len(maps)\n",
    "    sero = len(maps[0])\n",
    "    maps_ = deepcopy(maps)\n",
    "    \n",
    "    distance_a = bfs_L(maps_,start_i,start_j)\n",
    "    print(distance_a, maps_)\n",
    "    if distance_a == -1:\n",
    "        return -1\n",
    "    maps_ = deepcopy(maps)\n",
    "\n",
    "    distance_b = bfs_E(maps_,lever_i,lever_j)\n",
    "    print(distance_b, maps_)\n",
    "    if distance_b == -1:\n",
    "        return -1\n",
    "    answer = distance_a + distance_b\n",
    "    return answer"
   ]
  },
  {
   "cell_type": "markdown",
   "id": "dbe6c180",
   "metadata": {},
   "source": [
    "## 이게 답"
   ]
  },
  {
   "cell_type": "code",
   "execution_count": 218,
   "id": "bca37bbb",
   "metadata": {},
   "outputs": [
    {
     "data": {
      "text/plain": [
       "16"
      ]
     },
     "execution_count": 218,
     "metadata": {},
     "output_type": "execute_result"
    }
   ],
   "source": [
    "maps = [\"SOOOL\",\"XXXXO\",\"OOOOO\",\"OXXXX\",\"OOOOE\"]\n",
    "solution(maps)"
   ]
  },
  {
   "cell_type": "code",
   "execution_count": null,
   "id": "8db59f98",
   "metadata": {},
   "outputs": [],
   "source": []
  },
  {
   "cell_type": "code",
   "execution_count": 217,
   "id": "036b7a80",
   "metadata": {},
   "outputs": [],
   "source": [
    "from copy import deepcopy \n",
    "def solution(maps):\n",
    "    def bfs_L(maps_,start_i,start_j):\n",
    "    \n",
    "        d_i = [0,0,-1,1]\n",
    "        d_j = [1,-1,0,0]\n",
    "\n",
    "        visit = []\n",
    "        visit.append([start_i,start_j])\n",
    "        maps_[start_i][start_j] = 0\n",
    "\n",
    "        while visit:\n",
    "            loc_i, loc_j = visit.pop(0)\n",
    "\n",
    "            for d in range(4):\n",
    "                next_i = loc_i + d_i[d]\n",
    "                next_j = loc_j + d_j[d]\n",
    "                if next_i >= 0 and next_j >=0 and next_i < garo and next_j < sero:\n",
    "                    if maps_[next_i][next_j] == 'O' or maps_[next_i][next_j] == 'L' or maps_[next_i][next_j] == 'E' :\n",
    "                        if maps_[next_i][next_j] == 'L':\n",
    "                            return maps_[loc_i][loc_j] + 1\n",
    "                        else:\n",
    "                            maps_[next_i][next_j] = maps_[loc_i][loc_j] + 1\n",
    "                            visit.append( [next_i, next_j] )\n",
    "\n",
    "\n",
    "        return -1 \n",
    "    def bfs_E(maps_,lever_i,lever_j):\n",
    "    \n",
    "        d_i = [0,0,-1,1]\n",
    "        d_j = [1,-1,0,0]\n",
    "\n",
    "        visit = []\n",
    "        visit.append([lever_i,lever_j])\n",
    "        maps_[lever_i][lever_j] = 0\n",
    "\n",
    "        while visit:\n",
    "            loc_i, loc_j = visit.pop(0)\n",
    "\n",
    "            for d in range(4):\n",
    "                next_i = loc_i + d_i[d]\n",
    "                next_j = loc_j + d_j[d]\n",
    "                if next_i >= 0 and next_j >=0 and next_i < garo and next_j < sero:\n",
    "                    if maps_[next_i][next_j] == 'O' or maps_[next_i][next_j] == 'E'  or maps_[next_i][next_j] == 'S':\n",
    "                        if maps_[next_i][next_j] == 'E':\n",
    "                            return maps_[loc_i][loc_j] + 1\n",
    "                        else:\n",
    "                            maps_[next_i][next_j] = maps_[loc_i][loc_j] + 1\n",
    "                            visit.append( [next_i, next_j] )\n",
    "\n",
    "\n",
    "        return -1 \n",
    "    \n",
    "    \n",
    "    for i in range(len(maps)):\n",
    "        for j in range(len(maps[0])):\n",
    "            if maps[i][j] =='S':\n",
    "                start_i, start_j = i,j\n",
    "            elif maps[i][j] == 'L':\n",
    "                lever_i, lever_j = i,j\n",
    "            elif maps[i][j] == 'E':\n",
    "                end_i , end_j = i,j\n",
    "    \n",
    "    maps = [[y for y in x] for x in maps]\n",
    "    garo = len(maps)\n",
    "    sero = len(maps[0])\n",
    "    maps_ = deepcopy(maps)\n",
    "    \n",
    "    distance_a = bfs_L(maps_,start_i,start_j)\n",
    "    \n",
    "    if distance_a == -1:\n",
    "        return -1\n",
    "    maps_ = deepcopy(maps)\n",
    "\n",
    "    distance_b = bfs_E(maps_,lever_i,lever_j)\n",
    "    if distance_b == -1:\n",
    "        return -1\n",
    "    answer = distance_a + distance_b\n",
    "    return answer"
   ]
  },
  {
   "cell_type": "code",
   "execution_count": null,
   "id": "7922b11c",
   "metadata": {},
   "outputs": [],
   "source": []
  }
 ],
 "metadata": {
  "kernelspec": {
   "display_name": "Python 3 (ipykernel)",
   "language": "python",
   "name": "python3"
  },
  "language_info": {
   "codemirror_mode": {
    "name": "ipython",
    "version": 3
   },
   "file_extension": ".py",
   "mimetype": "text/x-python",
   "name": "python",
   "nbconvert_exporter": "python",
   "pygments_lexer": "ipython3",
   "version": "3.8.13"
  }
 },
 "nbformat": 4,
 "nbformat_minor": 5
}
