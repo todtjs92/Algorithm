{
 "cells": [
  {
   "cell_type": "code",
   "execution_count": 17,
   "id": "5472a48a",
   "metadata": {},
   "outputs": [],
   "source": [
    "import heapq"
   ]
  },
  {
   "cell_type": "code",
   "execution_count": 18,
   "id": "80f1c7fa",
   "metadata": {},
   "outputs": [],
   "source": [
    "INF = float(1e10)"
   ]
  },
  {
   "cell_type": "code",
   "execution_count": 19,
   "id": "9a33988a",
   "metadata": {},
   "outputs": [
    {
     "name": "stdout",
     "output_type": "stream",
     "text": [
      "4 8 2\n"
     ]
    }
   ],
   "source": [
    "student , edge , target=  map(int,input().split(' '))\n",
    "    "
   ]
  },
  {
   "cell_type": "code",
   "execution_count": 20,
   "id": "efd8f829",
   "metadata": {},
   "outputs": [],
   "source": [
    "graph = [[] for x in range(student+1)]"
   ]
  },
  {
   "cell_type": "code",
   "execution_count": 21,
   "id": "e3116635",
   "metadata": {},
   "outputs": [],
   "source": [
    "# graph 인덱스가 노드 위치가 되게 짜는게 국룰 ."
   ]
  },
  {
   "cell_type": "code",
   "execution_count": 22,
   "id": "c4c015f6",
   "metadata": {},
   "outputs": [
    {
     "data": {
      "text/plain": [
       "[[], [], [], [], []]"
      ]
     },
     "execution_count": 22,
     "metadata": {},
     "output_type": "execute_result"
    }
   ],
   "source": [
    "graph"
   ]
  },
  {
   "cell_type": "code",
   "execution_count": 23,
   "id": "f665f2e0",
   "metadata": {},
   "outputs": [],
   "source": [
    "distance = [INF] * (student+1)"
   ]
  },
  {
   "cell_type": "code",
   "execution_count": 24,
   "id": "3ebf98d4",
   "metadata": {},
   "outputs": [
    {
     "data": {
      "text/plain": [
       "[10000000000.0, 10000000000.0, 10000000000.0, 10000000000.0, 10000000000.0]"
      ]
     },
     "execution_count": 24,
     "metadata": {},
     "output_type": "execute_result"
    }
   ],
   "source": [
    "distance"
   ]
  },
  {
   "cell_type": "code",
   "execution_count": 25,
   "id": "cc5921b9",
   "metadata": {},
   "outputs": [
    {
     "name": "stdout",
     "output_type": "stream",
     "text": [
      "1 2 4\n",
      "1 3 2\n",
      "1 4 7\n",
      "2 1 1\n",
      "2 3 5\n",
      "3 1 2\n",
      "3 4 4\n",
      "4 2 3\n"
     ]
    }
   ],
   "source": [
    "for _ in range(edge):\n",
    "    a,b,c = map(int, input().split(' '))\n",
    "    graph[a].append([b,c])"
   ]
  },
  {
   "cell_type": "code",
   "execution_count": 26,
   "id": "870a874b",
   "metadata": {},
   "outputs": [
    {
     "data": {
      "text/plain": [
       "[[], [[2, 4], [3, 2], [4, 7]], [[1, 1], [3, 5]], [[1, 2], [4, 4]], [[2, 3]]]"
      ]
     },
     "execution_count": 26,
     "metadata": {},
     "output_type": "execute_result"
    }
   ],
   "source": [
    "graph"
   ]
  },
  {
   "cell_type": "code",
   "execution_count": 27,
   "id": "704e80f0",
   "metadata": {},
   "outputs": [],
   "source": [
    "def dijkstra(start):\n",
    "    q = []\n",
    "    heapq.heappush(q,(0,start))\n",
    "    distance[start] = 0\n",
    "    while q:\n",
    "        dist, now = heapq.heappop(q)\n",
    "        \n",
    "        # distance에 있는 값이 더 작으면 업데이트 할필요가 없겟지?\n",
    "        if distance[now] < dist:\n",
    "            continue\n",
    "        \n",
    "        # 다음 갈 수 있는 곳\n",
    "        for i in graph[now]:\n",
    "            cost = dist+ i[1]\n",
    "            \n",
    "            if cost < distance[i[0]]:\n",
    "                distance[i[0]] = cost\n",
    "                # 거쳐가는게 더 가깝다면 가까운데를 방문해야할 곳에 넣음.\n",
    "                heapq.heappush(q, (cost, i[0]) )\n",
    "            \n",
    "    "
   ]
  },
  {
   "cell_type": "code",
   "execution_count": 12,
   "id": "143fcbad",
   "metadata": {},
   "outputs": [],
   "source": [
    "dijkstra(1)"
   ]
  },
  {
   "cell_type": "code",
   "execution_count": 13,
   "id": "0e4e9c36",
   "metadata": {},
   "outputs": [
    {
     "data": {
      "text/plain": [
       "[10000000000.0, 0, 4, 2, 6]"
      ]
     },
     "execution_count": 13,
     "metadata": {},
     "output_type": "execute_result"
    }
   ],
   "source": [
    "distance"
   ]
  },
  {
   "cell_type": "code",
   "execution_count": 28,
   "id": "b0c0b1df",
   "metadata": {},
   "outputs": [],
   "source": [
    "dijkstra(3)"
   ]
  },
  {
   "cell_type": "code",
   "execution_count": 29,
   "id": "f162a37c",
   "metadata": {},
   "outputs": [
    {
     "data": {
      "text/plain": [
       "[10000000000.0, 2, 6, 0, 4]"
      ]
     },
     "execution_count": 29,
     "metadata": {},
     "output_type": "execute_result"
    }
   ],
   "source": [
    "distance"
   ]
  },
  {
   "cell_type": "code",
   "execution_count": null,
   "id": "f8a27e1b",
   "metadata": {},
   "outputs": [],
   "source": []
  }
 ],
 "metadata": {
  "kernelspec": {
   "display_name": "Python 3 (ipykernel)",
   "language": "python",
   "name": "python3"
  },
  "language_info": {
   "codemirror_mode": {
    "name": "ipython",
    "version": 3
   },
   "file_extension": ".py",
   "mimetype": "text/x-python",
   "name": "python",
   "nbconvert_exporter": "python",
   "pygments_lexer": "ipython3",
   "version": "3.8.13"
  }
 },
 "nbformat": 4,
 "nbformat_minor": 5
}
