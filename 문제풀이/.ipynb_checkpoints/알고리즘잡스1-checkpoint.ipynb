{
 "cells": [
  {
   "cell_type": "markdown",
   "id": "e92319fd",
   "metadata": {},
   "source": [
    "## 별 출력"
   ]
  },
  {
   "cell_type": "code",
   "execution_count": 5,
   "id": "706d3749",
   "metadata": {},
   "outputs": [
    {
     "name": "stdout",
     "output_type": "stream",
     "text": [
      "3\n",
      "*\n",
      "**\n",
      "***\n"
     ]
    }
   ],
   "source": [
    "N = int(input())\n",
    "for i in range(1,N+1):\n",
    "    for _ in range(i):\n",
    "        print(\"*\",end=\"\")\n",
    "    print(\"\",end=\"\\n\")\n",
    "    \n",
    "    \n",
    "    \n",
    "    "
   ]
  },
  {
   "cell_type": "markdown",
   "id": "85ec785c",
   "metadata": {},
   "source": [
    "# 소수판별2"
   ]
  },
  {
   "cell_type": "code",
   "execution_count": 7,
   "id": "a56eecbf",
   "metadata": {},
   "outputs": [],
   "source": [
    "def is_prime_number(x):\n",
    "    if x ==1:\n",
    "        return False\n",
    "    for i in range(2, x):  \n",
    "        if x % i == 0:\n",
    "            return False \n",
    "    return True \n",
    "N,M = map(int,input().split(\" \"))\n",
    "for i in range(N,M+1):\n",
    "    if is_prime_number(i):\n",
    "        print(i,end=\" \")"
   ]
  },
  {
   "cell_type": "markdown",
   "id": "5aa62d8d",
   "metadata": {},
   "source": [
    "# card game"
   ]
  },
  {
   "cell_type": "code",
   "execution_count": 15,
   "id": "21b9f947",
   "metadata": {},
   "outputs": [
    {
     "name": "stdout",
     "output_type": "stream",
     "text": [
      "6 7 5 1 4 10 2 3 8 9\n",
      "1 10 2 9 4 8 3 7 5 6\n"
     ]
    }
   ],
   "source": [
    "for _ in range(2):\n",
    "    globals()[\"list_{}\".format(_)] = list(map(int,input().split(\" \")))\n"
   ]
  },
  {
   "cell_type": "code",
   "execution_count": 21,
   "id": "cca0f06b",
   "metadata": {},
   "outputs": [],
   "source": [
    "count_a = 0\n",
    "count_b = 0\n",
    "for A,B in zip(list_0,list_1):\n",
    "    if A > B:\n",
    "        count_a+=1\n",
    "    elif A<B:\n",
    "        count_b +=1\n",
    "\n",
    "if count_a > count_b:\n",
    "    print(\"A\")\n",
    "elif count_a < count_b:\n",
    "    print(\"B\")\n",
    "else:\n",
    "    print(\"D\")\n",
    "    "
   ]
  },
  {
   "cell_type": "code",
   "execution_count": 22,
   "id": "b1b6a752",
   "metadata": {},
   "outputs": [
    {
     "data": {
      "text/plain": [
       "5"
      ]
     },
     "execution_count": 22,
     "metadata": {},
     "output_type": "execute_result"
    }
   ],
   "source": [
    "count_a"
   ]
  },
  {
   "cell_type": "code",
   "execution_count": 23,
   "id": "a58f71cd",
   "metadata": {},
   "outputs": [
    {
     "data": {
      "text/plain": [
       "4"
      ]
     },
     "execution_count": 23,
     "metadata": {},
     "output_type": "execute_result"
    }
   ],
   "source": [
    "count_b"
   ]
  },
  {
   "cell_type": "code",
   "execution_count": 24,
   "id": "b5c40481",
   "metadata": {},
   "outputs": [
    {
     "name": "stdout",
     "output_type": "stream",
     "text": [
      "6 7 5 1 4 10 2 3 8 9\n",
      "1 10 2 9 4 8 3 7 5 6\n",
      "A\n"
     ]
    }
   ],
   "source": [
    "for _ in range(2):\n",
    "    globals()[\"list_{}\".format(_)] = list(map(int,input().split(\" \")))\n",
    "count_a = 0\n",
    "count_b = 0\n",
    "for A,B in zip(list_0,list_1):\n",
    "    if A > B:\n",
    "        count_a+=1\n",
    "    elif A<B:\n",
    "        count_b +=1\n",
    "\n",
    "if count_a > count_b:\n",
    "    print(\"A\")\n",
    "elif count_a < count_b:\n",
    "    print(\"B\")\n",
    "else:\n",
    "    print(\"D\")"
   ]
  },
  {
   "cell_type": "markdown",
   "id": "91eeed56",
   "metadata": {},
   "source": [
    "# 주사위게임"
   ]
  },
  {
   "cell_type": "code",
   "execution_count": 34,
   "id": "2f6d29fb",
   "metadata": {},
   "outputs": [
    {
     "name": "stdout",
     "output_type": "stream",
     "text": [
      "3\n"
     ]
    }
   ],
   "source": [
    "N = int(input())"
   ]
  },
  {
   "cell_type": "code",
   "execution_count": 35,
   "id": "501af9f5",
   "metadata": {},
   "outputs": [
    {
     "name": "stdout",
     "output_type": "stream",
     "text": [
      "2 2 4\n",
      "4 4 5\n",
      "4 4 6\n"
     ]
    }
   ],
   "source": [
    "value =0\n",
    "for _ in range(N):\n",
    "    a,b,c =  map(int,input().split(\" \")) \n",
    "    list_ = [a,b,c]\n",
    "    list_ = sorted(list_)\n",
    "    \n",
    "    if a == b and b== c:\n",
    "        temp = 10000 + 1000*a\n",
    "    elif a!= b and b!= c and c!= a:\n",
    "        temp =  list_[2] * 100\n",
    "    \n",
    "    else :\n",
    "        temp = 1000 + 100* list_[1]\n",
    "    value = max(value,temp)\n",
    "        "
   ]
  },
  {
   "cell_type": "code",
   "execution_count": 36,
   "id": "b3417cab",
   "metadata": {},
   "outputs": [
    {
     "data": {
      "text/plain": [
       "1008"
      ]
     },
     "execution_count": 36,
     "metadata": {},
     "output_type": "execute_result"
    }
   ],
   "source": [
    "value"
   ]
  },
  {
   "cell_type": "markdown",
   "id": "c11fd3c6",
   "metadata": {},
   "source": [
    "# 삼각형출력3"
   ]
  },
  {
   "cell_type": "code",
   "execution_count": 37,
   "id": "6a39c2cf",
   "metadata": {},
   "outputs": [
    {
     "name": "stdout",
     "output_type": "stream",
     "text": [
      "3\n"
     ]
    }
   ],
   "source": [
    "N = int(input() )"
   ]
  },
  {
   "cell_type": "code",
   "execution_count": 41,
   "id": "2e6aa3b9",
   "metadata": {},
   "outputs": [],
   "source": [
    "garo = 2*N-1"
   ]
  },
  {
   "cell_type": "code",
   "execution_count": 46,
   "id": "88375222",
   "metadata": {},
   "outputs": [
    {
     "name": "stdout",
     "output_type": "stream",
     "text": [
      "20\n",
      "                   *                   \n",
      "                  ***                  \n",
      "                 *****                 \n",
      "                *******                \n",
      "               *********               \n",
      "              ***********              \n",
      "             *************             \n",
      "            ***************            \n",
      "           *****************           \n",
      "          *******************          \n",
      "         *********************         \n",
      "        ***********************        \n",
      "       *************************       \n",
      "      ***************************      \n",
      "     *****************************     \n",
      "    *******************************    \n",
      "   *********************************   \n",
      "  ***********************************  \n",
      " ************************************* \n",
      "***************************************\n"
     ]
    }
   ],
   "source": [
    "N = int(input() )\n",
    "garo = 2*N-1\n",
    "for i in range(1,N+1):\n",
    "    star = '*'*(2*i -1)\n",
    "    if garo - len(star) ==0:\n",
    "        space_length = 0\n",
    "    else:\n",
    "        space_length = int(( garo - len(star) )/2)\n",
    "    space = \" \"*space_length\n",
    "    \n",
    "    string = space + star + space\n",
    "    print(string)\n",
    "   \n",
    "    "
   ]
  },
  {
   "cell_type": "markdown",
   "id": "7c477aa9",
   "metadata": {},
   "source": [
    "#  점수계산"
   ]
  },
  {
   "cell_type": "code",
   "execution_count": 75,
   "id": "343cf399",
   "metadata": {},
   "outputs": [
    {
     "name": "stdout",
     "output_type": "stream",
     "text": [
      "3\n",
      "1 1 1\n"
     ]
    }
   ],
   "source": [
    "N=int(input())\n",
    "score = list(map(int,input().split(' ')))\n",
    "def facorial(n):\n",
    "    if n==0 or n==1:\n",
    "        return n\n",
    "    else:\n",
    "        count = 0\n",
    "        for i in range(n+1):\n",
    "            count+=i\n",
    "    return count\n",
    "total=0\n",
    "count= 0\n",
    "for i in range(len(score)):\n",
    "    if score[i] ==1:\n",
    "        count= count+1\n",
    "    elif score[i]==0 :\n",
    "        total+=facorial(count)\n",
    "        count=0\n",
    "        \n",
    "total+= facorial(count)"
   ]
  },
  {
   "cell_type": "markdown",
   "id": "f7eb2fba",
   "metadata": {},
   "source": [
    "# array3"
   ]
  },
  {
   "cell_type": "code",
   "execution_count": 139,
   "id": "e94ff556",
   "metadata": {},
   "outputs": [
    {
     "name": "stdout",
     "output_type": "stream",
     "text": [
      "5\n"
     ]
    }
   ],
   "source": [
    "N = int(input())"
   ]
  },
  {
   "cell_type": "code",
   "execution_count": 140,
   "id": "3aba6b19",
   "metadata": {},
   "outputs": [],
   "source": [
    "def facorial(n):\n",
    "    if n==0 or n==1:\n",
    "        return n\n",
    "    else:\n",
    "        count = 0\n",
    "        for i in range(n+1):\n",
    "            count+=i\n",
    "    return count"
   ]
  },
  {
   "cell_type": "code",
   "execution_count": null,
   "id": "d081c487",
   "metadata": {},
   "outputs": [],
   "source": []
  },
  {
   "cell_type": "code",
   "execution_count": 163,
   "id": "67c1afdb",
   "metadata": {},
   "outputs": [
    {
     "name": "stdout",
     "output_type": "stream",
     "text": [
      "1 2 4 7 11\n",
      "3 5 8 12\n",
      "6 9 13\n",
      "10 14\n",
      "15\n"
     ]
    }
   ],
   "source": [
    "N = int(input())\n",
    "start=0\n",
    "increase_start=0\n",
    "for n in range(1,N+1):\n",
    "    \n",
    "    \n",
    "    increase_start+=1\n",
    "    \n",
    "    start+=increase_start\n",
    "    \n",
    "    start_num = start\n",
    "    string = str(start)\n",
    "    \n",
    "    increase =increase_start\n",
    "    \n",
    "    for i in range(N-n):\n",
    "        \n",
    "        start_num+=increase\n",
    "        increase+=1\n",
    "        string += ' '+str (start_num)\n",
    "    print(string)\n",
    "    \n",
    "       "
   ]
  },
  {
   "cell_type": "markdown",
   "id": "1a540d75",
   "metadata": {},
   "source": [
    "### 재풀이"
   ]
  },
  {
   "cell_type": "code",
   "execution_count": 2,
   "id": "04164d39",
   "metadata": {},
   "outputs": [
    {
     "ename": "SyntaxError",
     "evalue": "invalid syntax (1667631136.py, line 1)",
     "output_type": "error",
     "traceback": [
      "\u001b[0;36m  Input \u001b[0;32mIn [2]\u001b[0;36m\u001b[0m\n\u001b[0;31m    1. 배열을 N* N 크기로 생성함\u001b[0m\n\u001b[0m       ^\u001b[0m\n\u001b[0;31mSyntaxError\u001b[0m\u001b[0;31m:\u001b[0m invalid syntax\n"
     ]
    }
   ],
   "source": [
    "1. 배열을 N* N 크기로 생성함\n",
    "2. 첫째줄 부터 다 입력함\n",
    "3. 어떻게 입력하냐면 1부터 1,2,3순서로 더한 상태로\n",
    "4. 거기서 아래, 왼쪽으로 탐색하면서 채움\n",
    "5. 0을 만나거나 밖으로 나가면 아웃\n",
    "6. 이 배열 전체 프린트 , ' ' 기준으로 프린트"
   ]
  },
  {
   "cell_type": "code",
   "execution_count": 73,
   "id": "fa9f5997",
   "metadata": {},
   "outputs": [
    {
     "name": "stdout",
     "output_type": "stream",
     "text": [
      "5\n"
     ]
    }
   ],
   "source": [
    "N = int(input())"
   ]
  },
  {
   "cell_type": "code",
   "execution_count": 74,
   "id": "72e35e5b",
   "metadata": {},
   "outputs": [
    {
     "data": {
      "text/plain": [
       "1027"
      ]
     },
     "execution_count": 74,
     "metadata": {},
     "output_type": "execute_result"
    }
   ],
   "source": [
    "1027"
   ]
  },
  {
   "cell_type": "code",
   "execution_count": 75,
   "id": "86b1b200",
   "metadata": {},
   "outputs": [],
   "source": [
    "map_ = [['' for y in range(N)] for x in range(N)]"
   ]
  },
  {
   "cell_type": "code",
   "execution_count": 76,
   "id": "bcb6d23a",
   "metadata": {},
   "outputs": [],
   "source": [
    "start = 1\n",
    "plus = 0\n",
    "incr = 0\n",
    "for _ in range(N):\n",
    "    map_[0][_] = start + plus \n",
    "    incr = incr+1\n",
    "    plus = plus + incr\n",
    "    "
   ]
  },
  {
   "cell_type": "code",
   "execution_count": 77,
   "id": "8e484e51",
   "metadata": {},
   "outputs": [
    {
     "data": {
      "text/plain": [
       "[[1, 2, 4, 7, 11],\n",
       " ['', '', '', '', ''],\n",
       " ['', '', '', '', ''],\n",
       " ['', '', '', '', ''],\n",
       " ['', '', '', '', '']]"
      ]
     },
     "execution_count": 77,
     "metadata": {},
     "output_type": "execute_result"
    }
   ],
   "source": [
    "map_"
   ]
  },
  {
   "cell_type": "code",
   "execution_count": 78,
   "id": "98e0f843",
   "metadata": {},
   "outputs": [
    {
     "name": "stdout",
     "output_type": "stream",
     "text": [
      "0 1\n",
      "0 2\n",
      "1 1\n",
      "0 3\n",
      "1 2\n",
      "2 1\n",
      "0 4\n",
      "1 3\n",
      "2 2\n",
      "3 1\n"
     ]
    }
   ],
   "source": [
    "i = 0\n",
    "for j in range(N):\n",
    "    i = 0\n",
    "    jj = j\n",
    "    while i+1 < N and jj-1 >= 0 :\n",
    "        print(i,jj)\n",
    "        next_i = i+1\n",
    "        next_j = jj -1\n",
    "        map_[next_i][next_j] =  map_[i][jj]+1\n",
    "        i = next_i\n",
    "        jj = next_j\n",
    "        "
   ]
  },
  {
   "cell_type": "code",
   "execution_count": 79,
   "id": "82c2bef7",
   "metadata": {},
   "outputs": [],
   "source": [
    "# and 조건\n",
    "# 하나 기입하는거 이거 대충하는 습관 때문에 개 헤멤\n",
    "# 작게 하나만들고 확실히 해서 가자"
   ]
  },
  {
   "cell_type": "code",
   "execution_count": 80,
   "id": "5873206f",
   "metadata": {},
   "outputs": [
    {
     "data": {
      "text/plain": [
       "[[1, 2, 4, 7, 11],\n",
       " [3, 5, 8, 12, ''],\n",
       " [6, 9, 13, '', ''],\n",
       " [10, 14, '', '', ''],\n",
       " [15, '', '', '', '']]"
      ]
     },
     "execution_count": 80,
     "metadata": {},
     "output_type": "execute_result"
    }
   ],
   "source": [
    "map_"
   ]
  },
  {
   "cell_type": "code",
   "execution_count": 81,
   "id": "ffc278f4",
   "metadata": {},
   "outputs": [
    {
     "name": "stdout",
     "output_type": "stream",
     "text": [
      "1 2 4 7 11 \n",
      "3 5 8 12  \n",
      "6 9 13   \n",
      "10 14    \n",
      "15     \n"
     ]
    }
   ],
   "source": [
    "for i in range(N):\n",
    "    for j in range(N):\n",
    "        print(map_[i][j],end=' ')\n",
    "    \n",
    "    print()"
   ]
  },
  {
   "cell_type": "code",
   "execution_count": null,
   "id": "2ac4f83e",
   "metadata": {},
   "outputs": [],
   "source": []
  },
  {
   "cell_type": "markdown",
   "id": "71b757be",
   "metadata": {},
   "source": [
    "# offset"
   ]
  },
  {
   "cell_type": "code",
   "execution_count": 183,
   "id": "0ddea6da",
   "metadata": {},
   "outputs": [
    {
     "name": "stdout",
     "output_type": "stream",
     "text": [
      "3 4 1 4 9\n",
      "2 9 4 5 8\n",
      "9 0 8 2 1\n",
      "7 0 2 8 4\n",
      "2 7 2 1 4\n"
     ]
    }
   ],
   "source": [
    "map_ = [ list(map(int,input().split(' '))) for x in range(5)]"
   ]
  },
  {
   "cell_type": "code",
   "execution_count": null,
   "id": "6149b24c",
   "metadata": {},
   "outputs": [],
   "source": []
  },
  {
   "cell_type": "code",
   "execution_count": 189,
   "id": "09b8f601",
   "metadata": {},
   "outputs": [],
   "source": [
    "map_ = [ list(map(int,input().split(' '))) for x in range(5)]\n",
    "def star(pos):\n",
    "    \n",
    "    for k in pos:\n",
    "        print(map_[k[0]][k[1]] , \"A\")\n",
    "        print(map_[i][j] , \"B\")\n",
    "        if map_[k[0]][k[1]] <= map_[i][j]:\n",
    "            return [map_[i][j]]\n",
    "    return [i,j]\n",
    "dop=[]\n",
    "for i in range(5):\n",
    "    for j in range(5):\n",
    "        pos =[]\n",
    "        if i-1 >=0:\n",
    "            pos.append([i-1,j])\n",
    "        if i+1 <5:\n",
    "            pos.append([i+1,j])\n",
    "        if j-1 >=0:\n",
    "            pos.append([i,j-1])\n",
    "        if j+1 <5:\n",
    "            pos.append([i,j+1])\n",
    "        print(pos)\n",
    "        answer = star(pos)\n",
    "        if len(answer)==2:\n",
    "            dop.append(answer)\n",
    "for k in dop:\n",
    "    i = k[0]\n",
    "    j = k[1]\n",
    "    map_[i][j]= \"*\""
   ]
  },
  {
   "cell_type": "markdown",
   "id": "1fc8fb98",
   "metadata": {},
   "source": [
    "# class president"
   ]
  },
  {
   "cell_type": "code",
   "execution_count": 212,
   "id": "58cbe6c9",
   "metadata": {},
   "outputs": [
    {
     "name": "stdout",
     "output_type": "stream",
     "text": [
      "5\n",
      "1 1 1 1 1\n",
      "1 1 1 1 1\n",
      "2 3 4 5 6\n",
      "3 4 5 6 7\n",
      "2 4 8 8 8\n",
      "5\n"
     ]
    }
   ],
   "source": [
    "from collections import defaultdict\n",
    "N = int(input())\n",
    "student = defaultdict(list)\n",
    "map_ = [ list(map(int,input().split(' '))) for x in range(N)]\n",
    "for haknyun in range(5):\n",
    "    for i in range(N):\n",
    "        ban = map_[i][haknyun]\n",
    "        for j in range(N):\n",
    "            if i==j:\n",
    "                continue  \n",
    "            if map_[j][haknyun] == ban:\n",
    "                student[i].append(j)\n",
    "max_ =0\n",
    "answer =0\n",
    "for i in range(N):\n",
    "    if i not in student:\n",
    "        continue\n",
    "    temp = len(set(student[i]))\n",
    "    if temp > max_:\n",
    "        max_ = temp\n",
    "        answer = i+1\n",
    "if max_ ==0:\n",
    "    print(1)\n",
    "print(answer)"
   ]
  },
  {
   "cell_type": "code",
   "execution_count": 209,
   "id": "bb50d1d7",
   "metadata": {},
   "outputs": [
    {
     "data": {
      "text/plain": [
       "defaultdict(list, {2: [3, 3, 4], 3: [2, 2, 4, 1], 4: [2, 3], 1: [3]})"
      ]
     },
     "execution_count": 209,
     "metadata": {},
     "output_type": "execute_result"
    }
   ],
   "source": [
    "student"
   ]
  },
  {
   "cell_type": "code",
   "execution_count": 207,
   "id": "9f0e7a38",
   "metadata": {},
   "outputs": [
    {
     "data": {
      "text/plain": [
       "4"
      ]
     },
     "execution_count": 207,
     "metadata": {},
     "output_type": "execute_result"
    }
   ],
   "source": [
    "answer"
   ]
  },
  {
   "cell_type": "code",
   "execution_count": 198,
   "id": "161d1a6b",
   "metadata": {},
   "outputs": [],
   "source": [
    "from collections import defaultdict"
   ]
  },
  {
   "cell_type": "code",
   "execution_count": 199,
   "id": "77692f3e",
   "metadata": {},
   "outputs": [],
   "source": [
    "student = defaultdict(list)"
   ]
  },
  {
   "cell_type": "code",
   "execution_count": 200,
   "id": "7b616943",
   "metadata": {},
   "outputs": [],
   "source": [
    "for haknyun in range(5):\n",
    "    for i in range(N):\n",
    "        ban = map_[i][haknyun]\n",
    "        for j in range(N):\n",
    "            if i==j:\n",
    "                continue\n",
    "            \n",
    "            if map_[j][haknyun] == ban:\n",
    "                student[i].append(j)\n",
    "        \n",
    "        \n",
    "        \n",
    "        \n",
    "    \n",
    "    \n",
    "    \n",
    "    \n",
    "    \n",
    "    "
   ]
  },
  {
   "cell_type": "code",
   "execution_count": 203,
   "id": "321484d2",
   "metadata": {},
   "outputs": [
    {
     "data": {
      "text/plain": [
       "defaultdict(list, {2: [3, 3, 4], 3: [2, 2, 4, 1], 4: [2, 3], 1: [3]})"
      ]
     },
     "execution_count": 203,
     "metadata": {},
     "output_type": "execute_result"
    }
   ],
   "source": [
    "student"
   ]
  },
  {
   "cell_type": "code",
   "execution_count": 204,
   "id": "b5479b76",
   "metadata": {},
   "outputs": [],
   "source": [
    "max_ =0\n",
    "answer =0\n",
    "for i in range(N):\n",
    "    if i not in student:\n",
    "        continue\n",
    "    temp = len(student[i])\n",
    "    if temp > max_:\n",
    "        max_ = temp\n",
    "        answer = i+1\n",
    "    "
   ]
  },
  {
   "cell_type": "code",
   "execution_count": 205,
   "id": "cfecbae3",
   "metadata": {},
   "outputs": [
    {
     "data": {
      "text/plain": [
       "4"
      ]
     },
     "execution_count": 205,
     "metadata": {},
     "output_type": "execute_result"
    }
   ],
   "source": [
    "answer"
   ]
  },
  {
   "cell_type": "code",
   "execution_count": null,
   "id": "b9afc715",
   "metadata": {},
   "outputs": [],
   "source": []
  }
 ],
 "metadata": {
  "kernelspec": {
   "display_name": "Python 3 (ipykernel)",
   "language": "python",
   "name": "python3"
  },
  "language_info": {
   "codemirror_mode": {
    "name": "ipython",
    "version": 3
   },
   "file_extension": ".py",
   "mimetype": "text/x-python",
   "name": "python",
   "nbconvert_exporter": "python",
   "pygments_lexer": "ipython3",
   "version": "3.8.13"
  }
 },
 "nbformat": 4,
 "nbformat_minor": 5
}
