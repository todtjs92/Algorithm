{
 "cells": [
  {
   "cell_type": "code",
   "execution_count": 43,
   "id": "deb6524a",
   "metadata": {},
   "outputs": [],
   "source": [
    "import math"
   ]
  },
  {
   "cell_type": "code",
   "execution_count": 54,
   "id": "be283f1a",
   "metadata": {},
   "outputs": [],
   "source": [
    "progresses = [93,30,55]\n",
    "speeds = [1, 30, 5]"
   ]
  },
  {
   "cell_type": "code",
   "execution_count": 45,
   "id": "f1f50454",
   "metadata": {},
   "outputs": [],
   "source": [
    "progresses = [20, 99, 93, 30, 55, 10]\n",
    "speeds = [5, 10, 1, 1, 30, 5]\n"
   ]
  },
  {
   "cell_type": "markdown",
   "id": "1bcf689a",
   "metadata": {},
   "source": [
    "# 내풀이"
   ]
  },
  {
   "cell_type": "code",
   "execution_count": 57,
   "id": "58bebfbb",
   "metadata": {},
   "outputs": [],
   "source": [
    "left = list(map(lambda x : 100 - x , progresses))\n",
    "time =  []\n",
    "for i in range(len(left)):\n",
    "    time.append(math.ceil(left[i]/ speeds[i]))\n",
    "time.append(1000000)\n",
    "answer =  []\n",
    "pointer = 0\n",
    "temp =1\n",
    "max_time =time[0]\n",
    "while pointer != len(time)-1:\n",
    "    if max_time >= time[pointer+1]:\n",
    "        temp+=1\n",
    "    else:\n",
    "        answer.append(temp)\n",
    "        max_time = time[pointer+1]\n",
    "        temp=1\n",
    "    pointer+=1\n"
   ]
  },
  {
   "cell_type": "markdown",
   "id": "002cf119",
   "metadata": {},
   "source": [
    "# 단사람  풀이"
   ]
  },
  {
   "cell_type": "code",
   "execution_count": 63,
   "id": "ca9e91de",
   "metadata": {},
   "outputs": [],
   "source": [
    "progresses = [20, 99, 93, 30, 55, 10]\n",
    "speeds = [5, 10, 1, 1, 30, 5]"
   ]
  },
  {
   "cell_type": "code",
   "execution_count": null,
   "id": "6008101d",
   "metadata": {},
   "outputs": [],
   "source": [
    "progresses = [93,30, 55]\n",
    "speeds = [1,30,5]"
   ]
  },
  {
   "cell_type": "code",
   "execution_count": 64,
   "id": "f0e060f3",
   "metadata": {},
   "outputs": [],
   "source": [
    "def solution(progresses, speeds):\n",
    "\n",
    "    answer = []\n",
    "    time = 0\n",
    "    count = 0\n",
    "    \n",
    "    while len(progresses)> 0:\n",
    "        if (progresses[0] + time*speeds[0]) >= 100: \n",
    "            progresses.pop(0)\n",
    "            speeds.pop(0)\n",
    "            count += 1\n",
    "            \n",
    "        else:\n",
    "            if count > 0:\n",
    "                answer.append(count)\n",
    "                count = 0\n",
    "            time += 1\n",
    "    answer.append(count)\n",
    "    return answer"
   ]
  },
  {
   "cell_type": "markdown",
   "id": "c26fece4",
   "metadata": {},
   "source": [
    "### 재풀이"
   ]
  },
  {
   "cell_type": "code",
   "execution_count": 27,
   "id": "e8e39b63",
   "metadata": {},
   "outputs": [],
   "source": [
    "progresses = [93,30, 55]\n",
    "speeds = [1,30,5]"
   ]
  },
  {
   "cell_type": "code",
   "execution_count": 28,
   "id": "cdd09745",
   "metadata": {},
   "outputs": [],
   "source": [
    "# 1. 포인터가 밖에 나갈때까지  while pointer 0 ~ len(progresses)\n",
    "# 3. sppeds만큼 더해준다 .  progresses에 speeds 더해주기 .\n",
    "# 4. 앞에 부터 포인터를 두고 100> 이면 포인터 이동시킴. \n",
    "# 5 포인터의 차만 큼 하면 될ㄷ,ㅅ "
   ]
  },
  {
   "cell_type": "code",
   "execution_count": 33,
   "id": "3a2ea8b4",
   "metadata": {},
   "outputs": [],
   "source": [
    "progresses = [95, 90, 99, 99, 80, 99]\n",
    "speeds = [1, 1, 1, 1, 1, 1]"
   ]
  },
  {
   "cell_type": "code",
   "execution_count": 34,
   "id": "9a7ae9ed",
   "metadata": {},
   "outputs": [],
   "source": [
    "pointer = 0 "
   ]
  },
  {
   "cell_type": "code",
   "execution_count": 35,
   "id": "0cadc691",
   "metadata": {},
   "outputs": [],
   "source": [
    "pointer = 0 \n",
    "result = []\n",
    "while pointer < len(progresses):\n",
    "    for p in range(pointer, len(progresses)):\n",
    "        progresses[p] += speeds[p]\n",
    "    \n",
    "    temp = 0\n",
    "    original_pointer = pointer\n",
    "    \n",
    "    for p in range(original_pointer, len(progresses)):\n",
    "        \n",
    "        if progresses[p] >= 100:\n",
    "            temp +=1 \n",
    "            pointer +=1\n",
    "        else:\n",
    "            break\n",
    "    result.append(temp)\n",
    "result = [x for x in result if x != 0]"
   ]
  },
  {
   "cell_type": "markdown",
   "id": "344d2aa3",
   "metadata": {},
   "source": [
    "## 재풀이"
   ]
  },
  {
   "cell_type": "code",
   "execution_count": 38,
   "id": "0a8ac694",
   "metadata": {},
   "outputs": [],
   "source": [
    "progresses = [93,30, 55]\n",
    "speeds = [1,30,5]"
   ]
  },
  {
   "cell_type": "code",
   "execution_count": 36,
   "id": "cacbd69b",
   "metadata": {},
   "outputs": [],
   "source": [
    "pointer = 0 \n",
    "result = []\n",
    "while pointer < len(progresses):\n",
    "    \n",
    "        "
   ]
  },
  {
   "cell_type": "code",
   "execution_count": 37,
   "id": "ec7a3a18",
   "metadata": {},
   "outputs": [
    {
     "data": {
      "text/plain": [
       "[1, 3, 2]"
      ]
     },
     "execution_count": 37,
     "metadata": {},
     "output_type": "execute_result"
    }
   ],
   "source": [
    "result"
   ]
  },
  {
   "cell_type": "code",
   "execution_count": null,
   "id": "3d76a2f6",
   "metadata": {},
   "outputs": [],
   "source": []
  },
  {
   "cell_type": "code",
   "execution_count": null,
   "id": "3ccf23b9",
   "metadata": {},
   "outputs": [],
   "source": []
  },
  {
   "cell_type": "code",
   "execution_count": null,
   "id": "7d3d5fd6",
   "metadata": {},
   "outputs": [],
   "source": []
  },
  {
   "cell_type": "code",
   "execution_count": null,
   "id": "d700b9ce",
   "metadata": {},
   "outputs": [],
   "source": []
  },
  {
   "cell_type": "code",
   "execution_count": null,
   "id": "4749ef8f",
   "metadata": {},
   "outputs": [],
   "source": []
  },
  {
   "cell_type": "code",
   "execution_count": null,
   "id": "1499a61e",
   "metadata": {},
   "outputs": [],
   "source": []
  },
  {
   "cell_type": "code",
   "execution_count": null,
   "id": "4af7b06f",
   "metadata": {},
   "outputs": [],
   "source": []
  }
 ],
 "metadata": {
  "kernelspec": {
   "display_name": "Python 3 (ipykernel)",
   "language": "python",
   "name": "python3"
  },
  "language_info": {
   "codemirror_mode": {
    "name": "ipython",
    "version": 3
   },
   "file_extension": ".py",
   "mimetype": "text/x-python",
   "name": "python",
   "nbconvert_exporter": "python",
   "pygments_lexer": "ipython3",
   "version": "3.8.13"
  }
 },
 "nbformat": 4,
 "nbformat_minor": 5
}
