{
 "cells": [
  {
   "cell_type": "code",
   "execution_count": null,
   "id": "db30835b",
   "metadata": {},
   "outputs": [],
   "source": [
    "5 5\n",
    "10 25 7 8 13\n",
    "68 24 -78 63 32\n",
    "12 -69 100 -29 -25\n",
    "-16 -22 -57 -33 99\n",
    "7 -76 -11 77 15"
   ]
  },
  {
   "cell_type": "code",
   "execution_count": 1,
   "id": "16d62892",
   "metadata": {},
   "outputs": [
    {
     "name": "stdout",
     "output_type": "stream",
     "text": [
      "5 5\n"
     ]
    }
   ],
   "source": [
    "garo, sero =  map(int,input().split())"
   ]
  },
  {
   "cell_type": "code",
   "execution_count": 2,
   "id": "ab0a696d",
   "metadata": {},
   "outputs": [],
   "source": [
    "N = garo -1\n",
    "M = sero -1"
   ]
  },
  {
   "cell_type": "code",
   "execution_count": 3,
   "id": "1ef9fba9",
   "metadata": {},
   "outputs": [
    {
     "name": "stdout",
     "output_type": "stream",
     "text": [
      "10 25 7 8 13\n",
      "68 24 -78 63 32\n",
      "12 -69 100 -29 -25\n",
      "-16 -22 -57 -33 99\n",
      "7 -76 -11 77 15\n"
     ]
    }
   ],
   "source": [
    "map_ = [list(map(int,input().split())) for x in range(sero)]"
   ]
  },
  {
   "cell_type": "code",
   "execution_count": 56,
   "id": "ebf86a90",
   "metadata": {},
   "outputs": [],
   "source": [
    "map_temp = [[None for x in range(sero)] for _ in range(garo)]"
   ]
  },
  {
   "cell_type": "code",
   "execution_count": 72,
   "id": "e3020e93",
   "metadata": {},
   "outputs": [],
   "source": [
    "def func():\n",
    "    garo, sero =  map(int,input().split())\n",
    "    N = garo -1\n",
    "    M = sero -1\n",
    "    map_ = [list(map(int,input().split())) for x in range(garo)]\n",
    "    map_temp = [[None for x in range(sero)] for _ in range(garo)]\n",
    "    if N == 0:\n",
    "        answer = sum(map_[0][:M+1])\n",
    "        print(answer)\n",
    "        return\n",
    "    previous_row = []\n",
    "    initial_row = map_[0]\n",
    "    temp =0\n",
    "    for j in range(sero):\n",
    "        temp += initial_row[j]\n",
    "        previous_row.append(temp)\n",
    "    map_temp[0] = previous_row\n",
    "    \n",
    "    # right\n",
    "    for i in range(1,garo):\n",
    "        # right\n",
    "        previous_row_r = map_temp[i-1]\n",
    "        now_row_r = []\n",
    "        \n",
    "        for j in range(sero):\n",
    "            temp = 0\n",
    "            if j == 0:\n",
    "                \n",
    "                temp = previous_row_r[0] + map_[i][j]\n",
    "                now_row_r.append(temp)\n",
    "                \n",
    "            else:\n",
    "                if now_row_r[j-1] >= previous_row_r[j]:\n",
    "                    temp = now_row_r[j-1] +  map_[i][j]\n",
    "                else:\n",
    "                    temp = previous_row_r[j] +  map_[i][j]\n",
    "                now_row_r.append(temp)   \n",
    "        \n",
    "        \n",
    "        # left\n",
    "        previous_row_l = map_temp[i-1][::-1]\n",
    "        now_row_l = []\n",
    "        \n",
    "        for j in range(sero):\n",
    "            temp = 0\n",
    "            if j == 0:\n",
    "                temp = previous_row_l[0] + map_[i][M-j]\n",
    "                now_row_l.append(temp)\n",
    "                \n",
    "            else:\n",
    "                if now_row_l[j-1] >= previous_row_l[j]:\n",
    "                    temp = now_row_l[j-1] +  map_[i][M-j]\n",
    "                else:\n",
    "                    temp = previous_row_l[j] +  map_[i][M-j]\n",
    "        \n",
    "                now_row_l.append(temp)   \n",
    "        now_row_l = now_row_l[::-1]\n",
    "        temp_row = []\n",
    "        \n",
    "        \n",
    "        for r, l in zip(now_row_r, now_row_l):\n",
    "            if r >= l:\n",
    "                temp_row.append(r)\n",
    "            else:\n",
    "                temp_row.append(l)\n",
    "        map_temp[i] = temp_row\n",
    "    \n",
    "    print(map_temp[N][M])\n",
    "    return\n",
    "func()"
   ]
  },
  {
   "cell_type": "code",
   "execution_count": null,
   "id": "4eeb5788",
   "metadata": {},
   "outputs": [],
   "source": []
  }
 ],
 "metadata": {
  "kernelspec": {
   "display_name": "Python 3 (ipykernel)",
   "language": "python",
   "name": "python3"
  },
  "language_info": {
   "codemirror_mode": {
    "name": "ipython",
    "version": 3
   },
   "file_extension": ".py",
   "mimetype": "text/x-python",
   "name": "python",
   "nbconvert_exporter": "python",
   "pygments_lexer": "ipython3",
   "version": "3.8.13"
  }
 },
 "nbformat": 4,
 "nbformat_minor": 5
}
