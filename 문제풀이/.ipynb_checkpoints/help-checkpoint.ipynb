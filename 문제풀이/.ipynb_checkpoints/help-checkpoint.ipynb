{
 "cells": [
  {
   "cell_type": "code",
   "execution_count": null,
   "metadata": {
    "id": "CxBEvTXKcYkP"
   },
   "outputs": [],
   "source": [
    "import collections\n",
    "import itertools"
   ]
  },
  {
   "cell_type": "code",
   "execution_count": null,
   "metadata": {
    "id": "bINcW4dkddi_"
   },
   "outputs": [],
   "source": [
    "test_list = [1,5,4,2,3,6,5,10,12,13]\n",
    "nested_list = [[1,5,4],[2,6,9],[3,1,3]]"
   ]
  },
  {
   "cell_type": "code",
   "execution_count": null,
   "metadata": {
    "colab": {
     "base_uri": "https://localhost:8080/"
    },
    "id": "xqDC6ZfzhLJe",
    "outputId": "685fe5e4-287c-42ee-c500-40a728061c71"
   },
   "outputs": [
    {
     "name": "stdout",
     "output_type": "stream",
     "text": [
      "[1, 5, 4, 2, 3, 6, 5, 10, 12]\n",
      "[13, 12, 10, 5, 6, 3, 2, 4, 5, 1]\n",
      "13\n"
     ]
    }
   ],
   "source": [
    "# 리스트 거꾸로\n",
    "print(test_list[:-1])\n",
    "print(test_list[::-1])\n",
    "print(test_list[-1])"
   ]
  },
  {
   "cell_type": "code",
   "execution_count": null,
   "metadata": {
    "id": "UVjE9AWLgSiq"
   },
   "outputs": [],
   "source": [
    "# 리스트 [::2] 2칸씩 세기 , 3칸씩 세기"
   ]
  },
  {
   "cell_type": "code",
   "execution_count": null,
   "metadata": {
    "colab": {
     "base_uri": "https://localhost:8080/"
    },
    "id": "FngAIt8OgVBl",
    "outputId": "c6b4dfbc-1128-43b0-bd49-dfe5b88dd109"
   },
   "outputs": [
    {
     "name": "stdout",
     "output_type": "stream",
     "text": [
      "[1, 4, 3, 5, 12]\n",
      "[1, 2, 5, 13]\n"
     ]
    }
   ],
   "source": [
    "print(test_list[::2])\n",
    "print(test_list[::3])"
   ]
  },
  {
   "cell_type": "code",
   "execution_count": null,
   "metadata": {
    "id": "nr5X1ILEsGmq"
   },
   "outputs": [],
   "source": [
    "# pop"
   ]
  },
  {
   "cell_type": "code",
   "execution_count": null,
   "metadata": {
    "id": "MulAQSigsHsW"
   },
   "outputs": [],
   "source": [
    "a=[1,5,4]"
   ]
  },
  {
   "cell_type": "code",
   "execution_count": null,
   "metadata": {
    "id": "U6TfZTL1sUs_"
   },
   "outputs": [],
   "source": [
    "# 튀어나온게 담기게 된당"
   ]
  },
  {
   "cell_type": "code",
   "execution_count": null,
   "metadata": {
    "colab": {
     "base_uri": "https://localhost:8080/"
    },
    "id": "6dkUqzdzsJhi",
    "outputId": "9408ca15-5419-4f5f-fb85-583160993569"
   },
   "outputs": [
    {
     "name": "stdout",
     "output_type": "stream",
     "text": [
      "4\n",
      "[1, 5]\n"
     ]
    }
   ],
   "source": [
    "pops = a.pop()\n",
    "print(pops)\n",
    "print(a)"
   ]
  },
  {
   "cell_type": "code",
   "execution_count": null,
   "metadata": {
    "id": "G8b6vAMmhcpV"
   },
   "outputs": [],
   "source": [
    "# list 합치기"
   ]
  },
  {
   "cell_type": "code",
   "execution_count": null,
   "metadata": {
    "colab": {
     "base_uri": "https://localhost:8080/"
    },
    "id": "5cEF1-LssMqC",
    "outputId": "6923e5cc-00a4-4ee8-96ce-cf297ddb5494"
   },
   "outputs": [
    {
     "data": {
      "text/plain": [
       "[1, 5]"
      ]
     },
     "execution_count": 9,
     "metadata": {},
     "output_type": "execute_result"
    }
   ],
   "source": [
    "a"
   ]
  },
  {
   "cell_type": "code",
   "execution_count": null,
   "metadata": {
    "colab": {
     "base_uri": "https://localhost:8080/"
    },
    "id": "wsigWHchsklw",
    "outputId": "4e13d424-c86c-4ed3-fc97-b944669ae89e"
   },
   "outputs": [
    {
     "data": {
      "text/plain": [
       "[[1, 5, 4], [2, 6, 9], [3, 1, 3]]"
      ]
     },
     "execution_count": 10,
     "metadata": {},
     "output_type": "execute_result"
    }
   ],
   "source": [
    "nested_list"
   ]
  },
  {
   "cell_type": "code",
   "execution_count": null,
   "metadata": {
    "colab": {
     "base_uri": "https://localhost:8080/"
    },
    "id": "3wtJrAZFdfwO",
    "outputId": "8aa42108-d768-460e-a38e-7d0de1246727"
   },
   "outputs": [
    {
     "data": {
      "text/plain": [
       "[1, 5, 4, 2, 6, 9, 3, 1, 3]"
      ]
     },
     "execution_count": 11,
     "metadata": {},
     "output_type": "execute_result"
    }
   ],
   "source": [
    "sum(nested_list,[])"
   ]
  },
  {
   "cell_type": "code",
   "execution_count": null,
   "metadata": {
    "id": "3tK3D25Sdrlx"
   },
   "outputs": [],
   "source": [
    "# tuple에도 적용이 된당"
   ]
  },
  {
   "cell_type": "code",
   "execution_count": null,
   "metadata": {
    "id": "h99_Jfi9dzfA"
   },
   "outputs": [],
   "source": [
    "nested_tuple = [(1,5,3),(2,4,6)]\n",
    "nested_tuple1 = ((1,5,3),(2,4,6))"
   ]
  },
  {
   "cell_type": "code",
   "execution_count": null,
   "metadata": {
    "id": "3HmvuA6ad_q5"
   },
   "outputs": [],
   "source": [
    "# list에도 적용이 된당"
   ]
  },
  {
   "cell_type": "code",
   "execution_count": null,
   "metadata": {
    "colab": {
     "base_uri": "https://localhost:8080/"
    },
    "id": "K-oe9pGBduiZ",
    "outputId": "344ab47d-bea3-4b62-8b75-d376222cba65"
   },
   "outputs": [
    {
     "data": {
      "text/plain": [
       "(1, 5, 3, 2, 4, 6)"
      ]
     },
     "execution_count": 15,
     "metadata": {},
     "output_type": "execute_result"
    }
   ],
   "source": [
    "sum(nested_tuple , ())"
   ]
  },
  {
   "cell_type": "code",
   "execution_count": null,
   "metadata": {
    "colab": {
     "base_uri": "https://localhost:8080/"
    },
    "id": "JCyjGuNdd3dv",
    "outputId": "286aa852-93c9-4b8d-8f5a-1b72f003d1b2"
   },
   "outputs": [
    {
     "data": {
      "text/plain": [
       "(1, 5, 3, 2, 4, 6)"
      ]
     },
     "execution_count": 16,
     "metadata": {},
     "output_type": "execute_result"
    }
   ],
   "source": [
    "sum(nested_tuple1 , ())"
   ]
  },
  {
   "cell_type": "code",
   "execution_count": null,
   "metadata": {
    "id": "z6Qm2vyTtJ2j"
   },
   "outputs": [],
   "source": [
    "# 리스트 합치기 , + 나 extend 둘 중 아무거나 쓰면 됨"
   ]
  },
  {
   "cell_type": "code",
   "execution_count": null,
   "metadata": {
    "colab": {
     "base_uri": "https://localhost:8080/"
    },
    "id": "gWHsodf9tL_3",
    "outputId": "5cced221-935c-47b7-8e77-9c47ae10b20a"
   },
   "outputs": [
    {
     "name": "stdout",
     "output_type": "stream",
     "text": [
      "[1, 3, [4, 5]]\n",
      "[1, 3, [4, 5]]\n"
     ]
    }
   ],
   "source": [
    "a= [1,3]\n",
    "b=[[4,5]]\n",
    "print(a+b)\n",
    "a.extend(b)\n",
    "print(a)"
   ]
  },
  {
   "cell_type": "code",
   "execution_count": null,
   "metadata": {
    "id": "dqTeb15hd-ns"
   },
   "outputs": [],
   "source": [
    "# while , for"
   ]
  },
  {
   "cell_type": "code",
   "execution_count": null,
   "metadata": {
    "colab": {
     "base_uri": "https://localhost:8080/"
    },
    "id": "ITHlzvFEeHEl",
    "outputId": "68f960a6-1688-4963-f900-5ff43ed589d0"
   },
   "outputs": [
    {
     "name": "stdout",
     "output_type": "stream",
     "text": [
      "0\n",
      "0\n",
      "1\n",
      "0\n",
      "1\n",
      "2\n"
     ]
    }
   ],
   "source": [
    "a=0\n",
    "while a <=3:\n",
    "  for i in range(a):\n",
    "    print(i)\n",
    "  a+=1"
   ]
  },
  {
   "cell_type": "code",
   "execution_count": null,
   "metadata": {
    "id": "ZJGcFL_peN47"
   },
   "outputs": [],
   "source": [
    "# index 함수"
   ]
  },
  {
   "cell_type": "code",
   "execution_count": null,
   "metadata": {
    "id": "UOxfgoLFe7mn"
   },
   "outputs": [],
   "source": [
    "nested_list = [[1,5,4],[2,6,9],[3,1,3]]"
   ]
  },
  {
   "cell_type": "code",
   "execution_count": null,
   "metadata": {
    "id": "ocdEAw6dfAoH"
   },
   "outputs": [],
   "source": [
    "# 리스트도 찾아진다. 없으면 근데 오류가 남"
   ]
  },
  {
   "cell_type": "code",
   "execution_count": null,
   "metadata": {
    "colab": {
     "base_uri": "https://localhost:8080/"
    },
    "id": "oq0KCyaGezTZ",
    "outputId": "e00f0395-f316-412d-dac1-1539fd3131fb"
   },
   "outputs": [
    {
     "data": {
      "text/plain": [
       "0"
      ]
     },
     "execution_count": 24,
     "metadata": {},
     "output_type": "execute_result"
    }
   ],
   "source": [
    "nested_list.index([1,5,4])"
   ]
  },
  {
   "cell_type": "code",
   "execution_count": null,
   "metadata": {
    "id": "fZTLu7lffO4b"
   },
   "outputs": [],
   "source": [
    "test_list = [1,5,4,9,7]"
   ]
  },
  {
   "cell_type": "code",
   "execution_count": null,
   "metadata": {
    "id": "tPMxAcY1f8bc"
   },
   "outputs": [],
   "source": [
    "# 2번쨰, 3번째에 start , stop 위치 넣을수 있음 , 근데 찾았을 경우 무조건 원래의 위치 기준으로 셈"
   ]
  },
  {
   "cell_type": "code",
   "execution_count": null,
   "metadata": {
    "colab": {
     "base_uri": "https://localhost:8080/"
    },
    "id": "QIm2qY7Pe3hJ",
    "outputId": "1840dc11-084d-48c6-f191-e5f75e22ceca"
   },
   "outputs": [
    {
     "name": "stdout",
     "output_type": "stream",
     "text": [
      "7\n"
     ]
    }
   ],
   "source": [
    "a = [11,10,12,13,20,31,11,10,10,11]\n",
    "print(a.index(10,2,9))    # index(value, start, end)"
   ]
  },
  {
   "cell_type": "code",
   "execution_count": null,
   "metadata": {
    "id": "eANvYhePfVDx"
   },
   "outputs": [],
   "source": [
    "# 심지어 문자열에도 가능하다"
   ]
  },
  {
   "cell_type": "code",
   "execution_count": null,
   "metadata": {
    "colab": {
     "base_uri": "https://localhost:8080/"
    },
    "id": "3cz8W40_gfRC",
    "outputId": "5582f855-2606-4251-a6ec-e6821ede8a58"
   },
   "outputs": [
    {
     "data": {
      "text/plain": [
       "4"
      ]
     },
     "execution_count": 29,
     "metadata": {},
     "output_type": "execute_result"
    }
   ],
   "source": [
    "a='15234325'\n",
    "a.index('4')"
   ]
  },
  {
   "cell_type": "code",
   "execution_count": null,
   "metadata": {
    "id": "1x8s05-aiqMQ"
   },
   "outputs": [],
   "source": [
    "# find는 문자열에만 사용 대신 오류가 안나고 -1 로 출력되는게 개꿀이다옹"
   ]
  },
  {
   "cell_type": "code",
   "execution_count": null,
   "metadata": {
    "colab": {
     "base_uri": "https://localhost:8080/"
    },
    "id": "BrxxjIBigiCi",
    "outputId": "7eb53f8d-68d0-4d55-85a9-ce661bcd4963"
   },
   "outputs": [
    {
     "data": {
      "text/plain": [
       "1"
      ]
     },
     "execution_count": 31,
     "metadata": {},
     "output_type": "execute_result"
    }
   ],
   "source": [
    "a.find('5')"
   ]
  },
  {
   "cell_type": "code",
   "execution_count": null,
   "metadata": {
    "id": "rcga3ok6j2me"
   },
   "outputs": [],
   "source": [
    "# enumerate"
   ]
  },
  {
   "cell_type": "code",
   "execution_count": null,
   "metadata": {
    "colab": {
     "base_uri": "https://localhost:8080/"
    },
    "id": "1CtnuuKAhkJB",
    "outputId": "bf2dba6d-f8d7-4e1c-ba41-f1f0bab9cddd"
   },
   "outputs": [
    {
     "name": "stdout",
     "output_type": "stream",
     "text": [
      "0 1\n",
      "1 3\n",
      "2 5\n",
      "3 7\n",
      "4 9\n"
     ]
    }
   ],
   "source": [
    "for a,b in enumerate(range(1,10,2)):\n",
    "  print(a,b)"
   ]
  },
  {
   "cell_type": "code",
   "execution_count": null,
   "metadata": {
    "id": "u1gUW-Frj1eX"
   },
   "outputs": [],
   "source": [
    "# zip"
   ]
  },
  {
   "cell_type": "code",
   "execution_count": null,
   "metadata": {
    "colab": {
     "base_uri": "https://localhost:8080/"
    },
    "id": "AMA-Bl4NkFRV",
    "outputId": "a0755064-8444-4e17-8e8c-3ce8849dbc63"
   },
   "outputs": [
    {
     "name": "stdout",
     "output_type": "stream",
     "text": [
      "1 7\n",
      "5 9\n",
      "4 10\n",
      "6 11\n"
     ]
    }
   ],
   "source": [
    "a= [1,5,4,6]\n",
    "b= [7,9,10,11]\n",
    "for c,d in zip(a,b):\n",
    "  print(c,d)"
   ]
  },
  {
   "cell_type": "code",
   "execution_count": null,
   "metadata": {
    "id": "6kVonMOfkg0Z"
   },
   "outputs": [],
   "source": [
    "# 리스트도 가능하다옹"
   ]
  },
  {
   "cell_type": "code",
   "execution_count": null,
   "metadata": {
    "id": "qkLmF-DZkaCn"
   },
   "outputs": [],
   "source": [
    "a=[[1,5,4],[2,4,6],[3,8,9],[11,13,15]]\n",
    "b = [[24,22,20],[10,15,18], [12,19,21],[22,34,50]]"
   ]
  },
  {
   "cell_type": "code",
   "execution_count": null,
   "metadata": {
    "colab": {
     "base_uri": "https://localhost:8080/"
    },
    "id": "GPpttuwpl9Cx",
    "outputId": "67312f4d-b8f6-417f-8e97-efdfc2c37796"
   },
   "outputs": [
    {
     "name": "stdout",
     "output_type": "stream",
     "text": [
      "[1, 5, 4] [24, 22, 20]\n",
      "[2, 4, 6] [10, 15, 18]\n",
      "[3, 8, 9] [12, 19, 21]\n",
      "[11, 13, 15] [22, 34, 50]\n"
     ]
    }
   ],
   "source": [
    "for c,d in zip(a,b):\n",
    "  print(c,d)"
   ]
  },
  {
   "cell_type": "code",
   "execution_count": null,
   "metadata": {
    "id": "1_fySy_smAef"
   },
   "outputs": [],
   "source": [
    "# 백준 인풋용"
   ]
  },
  {
   "cell_type": "code",
   "execution_count": null,
   "metadata": {
    "colab": {
     "base_uri": "https://localhost:8080/"
    },
    "id": "l0YmHKZym5xM",
    "outputId": "0f930542-1696-4acd-b21d-91665ca97a2c"
   },
   "outputs": [
    {
     "name": "stdout",
     "output_type": "stream",
     "text": [
      "4 5\n"
     ]
    },
    {
     "data": {
      "text/plain": [
       "[4, 5]"
      ]
     },
     "execution_count": 43,
     "metadata": {},
     "output_type": "execute_result"
    }
   ],
   "source": [
    "list(map(int,input().split(' ')))"
   ]
  },
  {
   "cell_type": "code",
   "execution_count": null,
   "metadata": {
    "id": "Q0Y4maxcnyxo"
   },
   "outputs": [],
   "source": [
    "# 조합 수작업 구현"
   ]
  },
  {
   "cell_type": "code",
   "execution_count": null,
   "metadata": {
    "id": "TAaXiMc2n_fN"
   },
   "outputs": [],
   "source": [
    "length = 5"
   ]
  },
  {
   "cell_type": "code",
   "execution_count": null,
   "metadata": {
    "colab": {
     "base_uri": "https://localhost:8080/"
    },
    "id": "TYljv1yJnFdo",
    "outputId": "b3c7ca29-824c-47ce-eda2-965cd86d9cad"
   },
   "outputs": [
    {
     "name": "stdout",
     "output_type": "stream",
     "text": [
      "0 1 2\n",
      "0 1 3\n",
      "0 1 4\n",
      "0 2 3\n",
      "0 2 4\n",
      "0 3 4\n",
      "1 2 3\n",
      "1 2 4\n",
      "1 3 4\n",
      "2 3 4\n"
     ]
    }
   ],
   "source": [
    "for i in range(0 , length):\n",
    "  for j in range(i+1 , length):\n",
    "    for k in range(j+1, length):\n",
    "      print(i,j,k)"
   ]
  },
  {
   "cell_type": "code",
   "execution_count": null,
   "metadata": {
    "id": "KUxpxkbtoMKj"
   },
   "outputs": [],
   "source": [
    "import itertools"
   ]
  },
  {
   "cell_type": "code",
   "execution_count": null,
   "metadata": {
    "id": "1r9Eo9qYob8h"
   },
   "outputs": [],
   "source": [
    "a= [1,2,3,4]"
   ]
  },
  {
   "cell_type": "code",
   "execution_count": null,
   "metadata": {
    "colab": {
     "base_uri": "https://localhost:8080/"
    },
    "id": "BSJKH0PKoYyb",
    "outputId": "12c01818-ad63-47d2-df95-1275f1d84611"
   },
   "outputs": [
    {
     "data": {
      "text/plain": [
       "[(1, 2), (1, 3), (1, 4), (2, 3), (2, 4), (3, 4)]"
      ]
     },
     "execution_count": 49,
     "metadata": {},
     "output_type": "execute_result"
    }
   ],
   "source": [
    "list(itertools.combinations(a,2))"
   ]
  },
  {
   "cell_type": "code",
   "execution_count": null,
   "metadata": {
    "id": "XR68RlMfw12X"
   },
   "outputs": [],
   "source": []
  },
  {
   "cell_type": "code",
   "execution_count": null,
   "metadata": {
    "id": "4-w6QmlZonKQ"
   },
   "outputs": [],
   "source": [
    "# BFS"
   ]
  },
  {
   "cell_type": "code",
   "execution_count": null,
   "metadata": {
    "id": "1VnPJ1aTupN4"
   },
   "outputs": [],
   "source": [
    "graph = collections.defaultdict(list)"
   ]
  },
  {
   "cell_type": "code",
   "execution_count": null,
   "metadata": {
    "id": "R21n5A5Xu7TI"
   },
   "outputs": [],
   "source": [
    "graph['A'] = ['B','C']\n",
    "graph['B'] = ['A','D']\n",
    "graph['C'] = ['A','G','H','I']\n",
    "graph['D'] = ['B','E','F']\n",
    "graph['E'] = ['D']\n",
    "graph['F'] = [ 'D']\n",
    "graph ['G'] = ['C']\n",
    "graph ['H'] = ['C']\n",
    "graph['I'] = ['C','J']\n",
    "graph['J'] = ['I']"
   ]
  },
  {
   "cell_type": "code",
   "execution_count": null,
   "metadata": {
    "colab": {
     "base_uri": "https://localhost:8080/"
    },
    "id": "OKsjrv5suv5h",
    "outputId": "34ec9c2a-8281-417b-943c-5b8a7a1a643c"
   },
   "outputs": [
    {
     "data": {
      "text/plain": [
       "defaultdict(list,\n",
       "            {'A': ['B', 'C'],\n",
       "             'B': ['A', 'D'],\n",
       "             'C': ['A', 'G', 'H', 'I'],\n",
       "             'D': ['B', 'E', 'F'],\n",
       "             'E': ['D'],\n",
       "             'F': ['D'],\n",
       "             'G': ['C'],\n",
       "             'H': ['C'],\n",
       "             'I': ['C', 'J'],\n",
       "             'J': ['I']})"
      ]
     },
     "execution_count": 53,
     "metadata": {},
     "output_type": "execute_result"
    }
   ],
   "source": [
    "graph"
   ]
  },
  {
   "cell_type": "code",
   "execution_count": null,
   "metadata": {
    "id": "Kt7z0VbDu47y"
   },
   "outputs": [],
   "source": [
    "def BFS(graph,start_node):\n",
    "  visited=list() # 방문할 노드\n",
    "  need_visit = list() # 갈 노드\n",
    "  \n",
    "  need_visit.append(start_node) # 시작 노드 넣어주고\n",
    "  while need_visit: # need_visit이 빈칸 될동안.\n",
    "    node = need_visit.pop(0)\n",
    "    \n",
    "    if node not in visited:\n",
    "      visited.append(node)\n",
    "      need_visit+=graph[node]\n",
    "    \n",
    "  return visited\n",
    "\n"
   ]
  },
  {
   "cell_type": "code",
   "execution_count": null,
   "metadata": {
    "colab": {
     "base_uri": "https://localhost:8080/"
    },
    "id": "VzS2mMMoxZCW",
    "outputId": "0c5c0138-107c-494e-8055-e903d5112a84"
   },
   "outputs": [
    {
     "data": {
      "text/plain": [
       "['J', 'I', 'C', 'A', 'G', 'H', 'B', 'D', 'E', 'F']"
      ]
     },
     "execution_count": 55,
     "metadata": {},
     "output_type": "execute_result"
    }
   ],
   "source": [
    "BFS(graph,'J')"
   ]
  },
  {
   "cell_type": "code",
   "execution_count": null,
   "metadata": {
    "id": "eom8hY3AxeaN"
   },
   "outputs": [],
   "source": [
    "def DFS(graph,start_node):\n",
    "  visited = list()\n",
    "  need_visit  = list()\n",
    "  need_visit.append(start_node)\n",
    "  while need_visit:\n",
    "    node = need_visit.pop() # BFS 랑 딲 이차이임 마지막이냐 처음이냐\n",
    "    if node not in visited:\n",
    "      visited.append(node)\n",
    "      need_visit.extend(graph[node])\n",
    "  return visited"
   ]
  },
  {
   "cell_type": "code",
   "execution_count": null,
   "metadata": {
    "id": "PewaMkxQw3Gq"
   },
   "outputs": [],
   "source": [
    "# default dict 사용법"
   ]
  },
  {
   "cell_type": "code",
   "execution_count": null,
   "metadata": {
    "id": "wIskYmKDw5N6"
   },
   "outputs": [],
   "source": [
    "a= collections.defaultdict(dict)\n",
    "b= collections.defaultdict(list)\n",
    "c= collections.defaultdict(int)"
   ]
  },
  {
   "cell_type": "code",
   "execution_count": null,
   "metadata": {
    "id": "TExFkmGXxW3O"
   },
   "outputs": [],
   "source": [
    "# default dict 왜쓰나요? 이런게 가능하다 코테풀때 깨꿀"
   ]
  },
  {
   "cell_type": "code",
   "execution_count": null,
   "metadata": {
    "colab": {
     "base_uri": "https://localhost:8080/"
    },
    "id": "xJCBlFpqw9Y2",
    "outputId": "c1c7939d-1a64-4e7f-815d-0cf451931312"
   },
   "outputs": [
    {
     "data": {
      "text/plain": [
       "defaultdict(dict, {'b': {}})"
      ]
     },
     "execution_count": 76,
     "metadata": {},
     "output_type": "execute_result"
    }
   ],
   "source": [
    "a['b']\n",
    "a"
   ]
  },
  {
   "cell_type": "code",
   "execution_count": null,
   "metadata": {
    "id": "uYyzpx5Axuq0"
   },
   "outputs": [],
   "source": [
    "# 사전에 추가하는법 , 중복이 발새애혿 오류가 안생겨서 좋네"
   ]
  },
  {
   "cell_type": "code",
   "execution_count": null,
   "metadata": {
    "id": "bx5ad-1Mxxzb"
   },
   "outputs": [],
   "source": [
    "key = 'key'\n",
    "value = 'value'\n",
    "value1 = 'value1'"
   ]
  },
  {
   "cell_type": "code",
   "execution_count": null,
   "metadata": {
    "id": "mhnWm-CYyo4K"
   },
   "outputs": [],
   "source": [
    "# 저런식으로 되있으면 추가못함 게다가 "
   ]
  },
  {
   "cell_type": "code",
   "execution_count": null,
   "metadata": {
    "colab": {
     "base_uri": "https://localhost:8080/"
    },
    "id": "8mUwnpZEx7xs",
    "outputId": "ce0c3cd2-404f-49fc-bd69-a7f014c3d0ee"
   },
   "outputs": [
    {
     "data": {
      "text/plain": [
       "{'key': 'value1'}"
      ]
     },
     "execution_count": 85,
     "metadata": {},
     "output_type": "execute_result"
    }
   ],
   "source": [
    "test_dict[key] = value\n",
    "test_dict[key] = value1\n",
    "test_dict"
   ]
  },
  {
   "cell_type": "code",
   "execution_count": null,
   "metadata": {
    "id": "xhGzwgDOyFZk"
   },
   "outputs": [],
   "source": [
    "# 그래서 defaultdict를 써주면. 요렇게 append 가 먹힌다. "
   ]
  },
  {
   "cell_type": "code",
   "execution_count": null,
   "metadata": {
    "id": "1sVVgu1pytLK"
   },
   "outputs": [],
   "source": [
    "default_dict = collections.defaultdict(list)"
   ]
  },
  {
   "cell_type": "code",
   "execution_count": null,
   "metadata": {
    "id": "wG_Ixhxy0J5I"
   },
   "outputs": [],
   "source": [
    "default_dict['key'].append('a')\n"
   ]
  },
  {
   "cell_type": "code",
   "execution_count": null,
   "metadata": {
    "colab": {
     "base_uri": "https://localhost:8080/"
    },
    "id": "3ROZpZi40Ma2",
    "outputId": "0741eaee-4a90-45d8-c9cf-38f1d8a4fc8f"
   },
   "outputs": [
    {
     "data": {
      "text/plain": [
       "defaultdict(list, {'key': ['a', 'a']})"
      ]
     },
     "execution_count": 103,
     "metadata": {},
     "output_type": "execute_result"
    }
   ],
   "source": [
    "default_dict"
   ]
  },
  {
   "cell_type": "code",
   "execution_count": null,
   "metadata": {
    "id": "eT0nS-Fmwy-h"
   },
   "outputs": [],
   "source": [
    "# heapq 사용법 리스트를 힙처럼 사용할수 있게 해주는거임!!"
   ]
  },
  {
   "cell_type": "code",
   "execution_count": null,
   "metadata": {
    "id": "P4yW6R1o1trG"
   },
   "outputs": [],
   "source": [
    "import heapq"
   ]
  },
  {
   "cell_type": "code",
   "execution_count": null,
   "metadata": {
    "id": "SdLJSf2S1vX1"
   },
   "outputs": [],
   "source": [
    "queue = []"
   ]
  },
  {
   "cell_type": "code",
   "execution_count": null,
   "metadata": {
    "id": "IslHa2Ay10On"
   },
   "outputs": [],
   "source": [
    "heapq.heappush(queue,[2,'A'])\n",
    "heapq.heappush(queue,[4,'B'])\n",
    "heapq.heappush(queue,[1,'C'])\n",
    "heapq.heappush(queue,[6,'D'])"
   ]
  },
  {
   "cell_type": "code",
   "execution_count": null,
   "metadata": {
    "id": "J37sFIh55DhS"
   },
   "outputs": [],
   "source": [
    "# 요렇게 트리형태로"
   ]
  },
  {
   "cell_type": "code",
   "execution_count": null,
   "metadata": {
    "colab": {
     "base_uri": "https://localhost:8080/"
    },
    "id": "8IK7oGxa13Bl",
    "outputId": "5c185f48-8505-4a92-b0c0-8dfc0fef1500"
   },
   "outputs": [
    {
     "data": {
      "text/plain": [
       "[[1, 'C'], [4, 'B'], [2, 'A'], [6, 'D']]"
      ]
     },
     "execution_count": 113,
     "metadata": {},
     "output_type": "execute_result"
    }
   ],
   "source": [
    "queue"
   ]
  },
  {
   "cell_type": "code",
   "execution_count": null,
   "metadata": {
    "id": "LiH9yGSs5OJD"
   },
   "outputs": [],
   "source": [
    "# heap pop을 하면 다시 트리가 재정렬된다옹"
   ]
  },
  {
   "cell_type": "code",
   "execution_count": null,
   "metadata": {
    "colab": {
     "base_uri": "https://localhost:8080/"
    },
    "id": "TqKOx1uV5GRL",
    "outputId": "106907d6-473d-4fd3-ba05-dc1dec6672be"
   },
   "outputs": [
    {
     "data": {
      "text/plain": [
       "[[2, 'A'], [4, 'B'], [6, 'D']]"
      ]
     },
     "execution_count": 115,
     "metadata": {},
     "output_type": "execute_result"
    }
   ],
   "source": [
    "heapq.heappop(queue)\n",
    "queue"
   ]
  },
  {
   "cell_type": "code",
   "execution_count": null,
   "metadata": {
    "id": "PXvLqVxs5nPg"
   },
   "outputs": [],
   "source": [
    "# 이런식으로 항상 최소값을 얻을 수 있는게 장점이라고 한다."
   ]
  },
  {
   "cell_type": "code",
   "execution_count": null,
   "metadata": {
    "colab": {
     "base_uri": "https://localhost:8080/"
    },
    "id": "fv7InWgy5l-e",
    "outputId": "af9ab12d-9292-4a48-c882-3dea2423d42e"
   },
   "outputs": [
    {
     "data": {
      "text/plain": [
       "[2, 'A']"
      ]
     },
     "execution_count": 117,
     "metadata": {},
     "output_type": "execute_result"
    }
   ],
   "source": [
    "queue[0]"
   ]
  },
  {
   "cell_type": "code",
   "execution_count": null,
   "metadata": {
    "id": "CQnW5VM2wt61"
   },
   "outputs": [],
   "source": [
    "# 다익스트라 알고리즘 , 거리 측정 "
   ]
  },
  {
   "cell_type": "code",
   "execution_count": null,
   "metadata": {
    "id": "31C8G3abwvGf"
   },
   "outputs": [],
   "source": [
    "mygraph = collections.defaultdict(dict)"
   ]
  },
  {
   "cell_type": "code",
   "execution_count": null,
   "metadata": {
    "id": "yGUsl7zqWxrk"
   },
   "outputs": [],
   "source": [
    "mygraph['A'] = {'B':8 , 'C':1 , 'D':2}\n",
    "mygraph['B'] = {}\n",
    "mygraph['C'] = {'B':5 ,'D':2}\n",
    "mygraph['D'] = {'E':3 , 'F':5 }\n",
    "mygraph['E'] = {'F':1 }\n",
    "mygraph['F'] = {'A':5 }"
   ]
  },
  {
   "cell_type": "code",
   "execution_count": null,
   "metadata": {
    "colab": {
     "base_uri": "https://localhost:8080/"
    },
    "id": "lsDQxovFwx0B",
    "outputId": "a7892447-83cf-4f4d-fc64-5e12cde0663c"
   },
   "outputs": [
    {
     "data": {
      "text/plain": [
       "defaultdict(dict,\n",
       "            {'A': {'B': 8, 'C': 1, 'D': 2},\n",
       "             'B': {},\n",
       "             'C': {'B': 5, 'D': 2},\n",
       "             'D': {'E': 3, 'F': 5},\n",
       "             'E': {'F': 1},\n",
       "             'F': {'A': 5}})"
      ]
     },
     "execution_count": 7,
     "metadata": {},
     "output_type": "execute_result"
    }
   ],
   "source": [
    "mygraph"
   ]
  },
  {
   "cell_type": "code",
   "execution_count": null,
   "metadata": {
    "id": "3mRhhENoXeEI"
   },
   "outputs": [],
   "source": [
    "def hamsu(graph, start):\n",
    "  distances = {node: float('inf') for node in graph}\n",
    "  distances[start] = 0\n",
    "  queue = []\n",
    "  heapq.heappush(queue, [distances[start],start])\n",
    "\n",
    "  while queue:\n",
    "    current_distance , current_node  = heapq.heappop(queue)\n",
    "\n",
    "    if distances[current_node] < current_distance:\n",
    "      continue\n",
    "    for adjacent , weight in graph[current_node].items():\n",
    "      distance = current_distance + weight\n",
    "\n",
    "      if distance < distances[adjacent]:\n",
    "        distances[adjacent] = distance\n",
    "        heapq.heappush(queue,[distance , adjacent])\n",
    "        \n",
    "    return distances"
   ]
  },
  {
   "cell_type": "code",
   "execution_count": null,
   "metadata": {
    "colab": {
     "base_uri": "https://localhost:8080/"
    },
    "id": "Wrjb98W1Zghy",
    "outputId": "4c1ab18b-c16b-42a7-f2e4-69e9211c1a19"
   },
   "outputs": [
    {
     "data": {
      "text/plain": [
       "{'A': 0, 'B': 8, 'C': 1, 'D': 2, 'E': inf, 'F': inf}"
      ]
     },
     "execution_count": 10,
     "metadata": {},
     "output_type": "execute_result"
    }
   ],
   "source": [
    "hamsu(mygraph,'A')"
   ]
  },
  {
   "cell_type": "code",
   "execution_count": null,
   "metadata": {
    "id": "rvCilMnHqqNv"
   },
   "outputs": [],
   "source": [
    "# 동서남북 이동하기"
   ]
  },
  {
   "cell_type": "code",
   "execution_count": null,
   "metadata": {
    "id": "dXqTzUDjsgR9"
   },
   "outputs": [],
   "source": [
    " grid = [[ 0 for a in range(5) ] for x in range(5)]"
   ]
  },
  {
   "cell_type": "code",
   "execution_count": null,
   "metadata": {
    "id": "uVFpM8LGtp3t"
   },
   "outputs": [],
   "source": [
    "grid[0][0]=1\n",
    "grid[0][1]=1\n",
    "grid[0][2]=1\n",
    "grid[1][0]=1\n",
    "grid[1][0]=1\n",
    "grid[2][0]=1 \n",
    "grid[2][2] =1\n",
    "grid[4][2]=1\n",
    "print(grid)"
   ]
  },
  {
   "cell_type": "code",
   "execution_count": null,
   "metadata": {
    "id": "Sl_DZetuq3YE"
   },
   "outputs": [],
   "source": [
    "def numislands(grid):\n",
    "  def dfs(i,j):\n",
    "    if i < 0 or i >= len(grid) or j < 0 or j >= len(grid[0]) or grid[i][j] != 1:\n",
    "      return\n",
    "    \n",
    "    grid[i][j] = 0 \n",
    "    print(grid)\n",
    "    dfs(i-1 ,  j )\n",
    "    dfs(i+1 , j  )\n",
    "    dfs(i   , j-1)\n",
    "    dfs(i   , j+1)\n",
    "  \n",
    "  count = 0\n",
    "  for i in range(len(grid)):\n",
    "    for j in range(len(grid[0])):\n",
    "      if grid[i][j] ==1:\n",
    "        dfs(i,j)\n",
    "        count+=1\n",
    "  return count"
   ]
  },
  {
   "cell_type": "code",
   "execution_count": null,
   "metadata": {
    "id": "8cb-CiAAH5Qf"
   },
   "outputs": [],
   "source": [
    " # 나이트 이동"
   ]
  },
  {
   "cell_type": "code",
   "execution_count": null,
   "metadata": {
    "id": "zOJsSvLwuumz"
   },
   "outputs": [],
   "source": [
    "from collections import deque # 힙큐가 아니라 디큐\n",
    "\n",
    "def solution(n, startRow, startCol, endRow, endCol):\n",
    "    dx = [-1, -2, -2, -1, 1, 2, 2, 1]\n",
    "    dy = [2, 1, -1, -2, -2, -1, 1, 2]\n",
    "    \n",
    "    def bfs(startRow, startCol, endRow, endCol):\n",
    "        q = deque() # deque가 더빠름\n",
    "        q.append([startRow, startCol])\n",
    "        chess[startRow][startCol] = 1\n",
    "        while q:\n",
    "            a, b = q.popleft()\n",
    "            if a == endRow and b == endCol:\n",
    "                return(chess[endRow][endCol] -1)\n",
    "            \n",
    "            for i in range(8):\n",
    "                x = a + dx[i]\n",
    "                y = b + dy[i]\n",
    "                if 0 <= x < n and 0 <= y < n and chess[x][y] == 0:\n",
    "                    q.append([x, y])\n",
    "                    chess[x][y] = chess[a][b] + 1\n",
    "    chess = [[0] * n for i in range(n)]\n",
    "    \n",
    "    return bfs(startRow, startCol, endRow, endCol)"
   ]
  },
  {
   "cell_type": "code",
   "execution_count": null,
   "metadata": {
    "id": "6nUoZ1B_H7JH"
   },
   "outputs": [],
   "source": [
    "from collections import deque\n",
    "\n",
    "dx = [-1, -2, -2, -1, 1, 2, 2, 1]\n",
    "dy = [2, 1, -1, -2, -2, -1, 1, 2]\n",
    "\n",
    "for _ in range(int(input())):\n",
    "  size = int(input())\n",
    "  startRow, startCol = map(int,input().split())\n",
    "  endRow , endCol = map(int,input().split())\n",
    "  chess = [[0] * size for i in range(size)]\n",
    "\n",
    "  def bfs(startRow, startCol, endRow, endCol):\n",
    "        q = deque()\n",
    "        q.append([startRow, startCol])\n",
    "        chess[startRow][startCol] = 1\n",
    "        \n",
    "        while q:\n",
    "\n",
    "            print(q,'START')\n",
    "\n",
    "            a, b = q.popleft()\n",
    "            if a == endRow and b == endCol:\n",
    "                return(chess[endRow][endCol] -1)\n",
    "            \n",
    "            for i in range(8):\n",
    "                x = a + dx[i]\n",
    "                y = b + dy[i]\n",
    "                if 0 <= x < size and 0 <= y < size and chess[x][y] == 0:\n",
    "                    q.append([x, y])\n",
    "                    print(q)\n",
    "                    chess[x][y] = chess[a][b] + 1\n",
    "          \n",
    "  \n",
    "  print(bfs(startRow, startCol, endRow, endCol))\n"
   ]
  },
  {
   "cell_type": "code",
   "execution_count": null,
   "metadata": {
    "id": "97dcjtyevjLs"
   },
   "outputs": [],
   "source": [
    "# lambda 이용한 정렬"
   ]
  },
  {
   "cell_type": "code",
   "execution_count": null,
   "metadata": {
    "id": "yJs80jVSv-g2"
   },
   "outputs": [],
   "source": [
    "test_list = [[6,4],[7,2],[9,7],[8,2],[1,4]]"
   ]
  },
  {
   "cell_type": "code",
   "execution_count": null,
   "metadata": {
    "id": "XPYqq1i6wXq6"
   },
   "outputs": [],
   "source": [
    "# 비율순 정렬 "
   ]
  },
  {
   "cell_type": "code",
   "execution_count": null,
   "metadata": {
    "colab": {
     "base_uri": "https://localhost:8080/"
    },
    "id": "N5CDVR9hvxaP",
    "outputId": "68da1156-5c6e-41ee-b36f-d4a5304042df"
   },
   "outputs": [
    {
     "name": "stdout",
     "output_type": "stream",
     "text": [
      "[[1, 4], [9, 7], [6, 4], [7, 2], [8, 2]]\n"
     ]
    }
   ],
   "source": [
    "data_list = sorted(test_list , key = lambda x: x[0]/x[1] )\n",
    "print(data_list)"
   ]
  },
  {
   "cell_type": "code",
   "execution_count": null,
   "metadata": {
    "id": "OoF150p4kXWr"
   },
   "outputs": [],
   "source": [
    "# 요런거도 가능"
   ]
  },
  {
   "cell_type": "code",
   "execution_count": null,
   "metadata": {
    "colab": {
     "base_uri": "https://localhost:8080/"
    },
    "id": "N5JwsfqhkYjJ",
    "outputId": "cb4508e4-dbb7-43e6-e24a-35fc56eaa71b"
   },
   "outputs": [
    {
     "data": {
      "text/plain": [
       "['c b', 'a d', 'z s']"
      ]
     },
     "execution_count": 54,
     "metadata": {},
     "output_type": "execute_result"
    }
   ],
   "source": [
    "letters = ['a d', 'c b' , 'z s']\n",
    "letters.sort(key=lambda x : (x.split()[1:], x.split()[0] ))\n",
    "letters"
   ]
  },
  {
   "cell_type": "code",
   "execution_count": null,
   "metadata": {
    "id": "mOfx7AavWVzF"
   },
   "outputs": [],
   "source": [
    "# 리스트에서 숫자세기 , Counter"
   ]
  },
  {
   "cell_type": "code",
   "execution_count": null,
   "metadata": {
    "id": "qIOdbLRXWVlp"
   },
   "outputs": [],
   "source": [
    "import collections"
   ]
  },
  {
   "cell_type": "code",
   "execution_count": null,
   "metadata": {
    "colab": {
     "base_uri": "https://localhost:8080/"
    },
    "id": "Depsv4pAdXIW",
    "outputId": "89e02b94-0914-4f84-bed0-82195b9adc4c"
   },
   "outputs": [
    {
     "data": {
      "text/plain": [
       "Counter({2: 2, 3: 3, 4: 1, 5: 1, 6: 1, 9: 1, 10: 1, 35: 1})"
      ]
     },
     "execution_count": 30,
     "metadata": {},
     "output_type": "execute_result"
    }
   ],
   "source": [
    "a= [2,5,4,6,9,10,35,2,3,3,3]\n",
    "b = collections.Counter(a)\n",
    "b"
   ]
  },
  {
   "cell_type": "code",
   "execution_count": null,
   "metadata": {
    "id": "9wkPvNP_egi6"
   },
   "outputs": [],
   "source": [
    "# 이렇게 접근 가능"
   ]
  },
  {
   "cell_type": "code",
   "execution_count": null,
   "metadata": {
    "colab": {
     "base_uri": "https://localhost:8080/"
    },
    "id": "7VpfYA3gwVss",
    "outputId": "fe2d733d-356c-4671-87af-87c63da2d16d"
   },
   "outputs": [
    {
     "data": {
      "text/plain": [
       "2"
      ]
     },
     "execution_count": 32,
     "metadata": {},
     "output_type": "execute_result"
    }
   ],
   "source": [
    "b[2]"
   ]
  },
  {
   "cell_type": "code",
   "execution_count": null,
   "metadata": {
    "id": "G4_VVDIXfjag"
   },
   "outputs": [],
   "source": [
    "# 2개 까지 "
   ]
  },
  {
   "cell_type": "code",
   "execution_count": null,
   "metadata": {
    "colab": {
     "base_uri": "https://localhost:8080/"
    },
    "id": "u4fzFKGHdhVB",
    "outputId": "d697328f-21d7-40fd-e66c-1772487f60de"
   },
   "outputs": [
    {
     "name": "stdout",
     "output_type": "stream",
     "text": [
      "[(3, 3)]\n",
      "[(3, 3), (2, 2)]\n"
     ]
    }
   ],
   "source": [
    "print(b.most_common(1))\n",
    "print(b.most_common(2))"
   ]
  },
  {
   "cell_type": "code",
   "execution_count": null,
   "metadata": {
    "id": "1Er6BCcbjIUa"
   },
   "outputs": [],
   "source": [
    "letters = ['a d', 'c b' , 'z s']\n",
    "letters.sort(key=lambda x : (x.split()[1:], x.split()[0] ))\n",
    "letters"
   ]
  },
  {
   "cell_type": "code",
   "execution_count": null,
   "metadata": {
    "id": "uojeSne5mSSs"
   },
   "outputs": [],
   "source": [
    "# 2f리스트에서 겹치는 것들 세기"
   ]
  },
  {
   "cell_type": "code",
   "execution_count": null,
   "metadata": {
    "colab": {
     "base_uri": "https://localhost:8080/"
    },
    "id": "3gli9nLZjU65",
    "outputId": "6af1e141-b2d3-4fe9-c88e-8b77acc1404e"
   },
   "outputs": [
    {
     "data": {
      "text/plain": [
       "1"
      ]
     },
     "execution_count": 58,
     "metadata": {},
     "output_type": "execute_result"
    }
   ],
   "source": [
    "S = [1,4,5,6]\n",
    "J = [2,4,10,11]\n",
    "sum ( s in J for s in S )"
   ]
  },
  {
   "cell_type": "code",
   "execution_count": null,
   "metadata": {
    "id": "PU3BQ-VToGIW"
   },
   "outputs": [],
   "source": [
    "# "
   ]
  },
  {
   "cell_type": "code",
   "execution_count": null,
   "metadata": {
    "id": "UCfXcbHboFSb"
   },
   "outputs": [],
   "source": [
    "nums = [1,5,4,6,1,2,2,3,9,10,3,2,7,1]\n",
    "nested_list = [[1,5],[2,4],[3,6]]"
   ]
  },
  {
   "cell_type": "code",
   "execution_count": null,
   "metadata": {
    "colab": {
     "base_uri": "https://localhost:8080/"
    },
    "id": "hPlXocESmWnn",
    "outputId": "2537eaf7-5069-4623-c8e8-d1cbfc4b3b47"
   },
   "outputs": [
    {
     "data": {
      "text/plain": [
       "[(1, 3), (2, 3), (3, 2)]"
      ]
     },
     "execution_count": 64,
     "metadata": {},
     "output_type": "execute_result"
    }
   ],
   "source": [
    "collections.Counter(nums).most_common(3)"
   ]
  },
  {
   "cell_type": "code",
   "execution_count": null,
   "metadata": {
    "colab": {
     "base_uri": "https://localhost:8080/"
    },
    "id": "ePmalxQZpM6r",
    "outputId": "46973ae5-708a-487f-83ae-e34ba4d3c531"
   },
   "outputs": [
    {
     "name": "stdout",
     "output_type": "stream",
     "text": [
      "[(1, 2, 3), (5, 4, 6)]\n",
      "[(1, 2, 3), (3, 3, 2)]\n"
     ]
    }
   ],
   "source": [
    "print( list(zip(*nested_list)) )\n",
    "print( list(zip(*collections.Counter(nums).most_common(3)))) "
   ]
  },
  {
   "cell_type": "markdown",
   "metadata": {
    "id": "vv-KnAatpEWm"
   },
   "source": [
    "#### 해쉬와   2진탐색"
   ]
  },
  {
   "cell_type": "code",
   "execution_count": 1,
   "metadata": {},
   "outputs": [],
   "source": [
    "# 키로  다 만들어버리기 순위검색\n",
    "# 2진 탐색 사용  "
   ]
  },
  {
   "cell_type": "code",
   "execution_count": null,
   "metadata": {},
   "outputs": [],
   "source": [
    "from bisect import bisect_left\n",
    "bisect_left(target_list, target_score) # targetscore를 넣야하는 인덱스를 알려주는 꿀모듈, "
   ]
  }
 ],
 "metadata": {
  "colab": {
   "collapsed_sections": [],
   "name": "help.ipynb",
   "provenance": []
  },
  "kernelspec": {
   "display_name": "Python 3 (ipykernel)",
   "language": "python",
   "name": "python3"
  },
  "language_info": {
   "codemirror_mode": {
    "name": "ipython",
    "version": 3
   },
   "file_extension": ".py",
   "mimetype": "text/x-python",
   "name": "python",
   "nbconvert_exporter": "python",
   "pygments_lexer": "ipython3",
   "version": "3.8.13"
  }
 },
 "nbformat": 4,
 "nbformat_minor": 1
}
