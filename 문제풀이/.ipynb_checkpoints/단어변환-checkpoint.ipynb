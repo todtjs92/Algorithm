{
 "cells": [
  {
   "cell_type": "code",
   "execution_count": 3,
   "id": "b2262d29",
   "metadata": {},
   "outputs": [],
   "source": [
    "def check_one(a,b):\n",
    "    count = 0\n",
    "    for i in range(len(a)):\n",
    "        if a[i] != b[i]:\n",
    "            count +=1\n",
    "    return count \n",
    "            \n",
    "        "
   ]
  },
  {
   "cell_type": "code",
   "execution_count": 31,
   "id": "bde001d7",
   "metadata": {},
   "outputs": [],
   "source": [
    "begin = \"hit\"\n",
    "target= \"cog\"\n",
    "words = [\"hot\", \"dot\", \"dog\", \"lot\", \"log\", \"cog\"]"
   ]
  },
  {
   "cell_type": "code",
   "execution_count": 34,
   "id": "f8d3b4b5",
   "metadata": {},
   "outputs": [],
   "source": [
    "begin = \"hit\"\n",
    "target= \"cog\"\n",
    "words = [\"hot\", \"dot\", \"dog\", \"lot\", \"log\"]"
   ]
  },
  {
   "cell_type": "code",
   "execution_count": 35,
   "id": "f4fc5deb",
   "metadata": {},
   "outputs": [],
   "source": [
    "def solution(begin, target, words):\n",
    "    answer = 1000000000\n",
    "    visit_list = []\n",
    "    visit_check = [False for x in range(len(words))]\n",
    "    visit_list.append([begin,0])\n",
    "    while visit_list:\n",
    "        visit,count = visit_list.pop()\n",
    "        if visit  == target:\n",
    "            answer = min(answer,count)\n",
    "        for w in range(len(words)):\n",
    "            if visit == words[w]:\n",
    "                visit_check[w] = True\n",
    "            \n",
    "        for w in range(len(words)):\n",
    "            if visit_check[w] == True:\n",
    "                continue\n",
    "            fix_alpabets = check_one(visit, words[w])\n",
    "            if fix_alpabets == 1:\n",
    "                visit_list.append([words[w],count+1])\n",
    "    \n",
    "    if answer == 1000000000:\n",
    "        return 0\n",
    "    return answer\n",
    "    "
   ]
  },
  {
   "cell_type": "code",
   "execution_count": 36,
   "id": "709757db",
   "metadata": {},
   "outputs": [
    {
     "data": {
      "text/plain": [
       "0"
      ]
     },
     "execution_count": 36,
     "metadata": {},
     "output_type": "execute_result"
    }
   ],
   "source": [
    "solution(begin,target, words)"
   ]
  },
  {
   "cell_type": "code",
   "execution_count": null,
   "id": "222c345d",
   "metadata": {},
   "outputs": [],
   "source": []
  },
  {
   "cell_type": "code",
   "execution_count": null,
   "id": "d328a726",
   "metadata": {},
   "outputs": [],
   "source": []
  }
 ],
 "metadata": {
  "kernelspec": {
   "display_name": "Python 3 (ipykernel)",
   "language": "python",
   "name": "python3"
  },
  "language_info": {
   "codemirror_mode": {
    "name": "ipython",
    "version": 3
   },
   "file_extension": ".py",
   "mimetype": "text/x-python",
   "name": "python",
   "nbconvert_exporter": "python",
   "pygments_lexer": "ipython3",
   "version": "3.8.13"
  }
 },
 "nbformat": 4,
 "nbformat_minor": 5
}
