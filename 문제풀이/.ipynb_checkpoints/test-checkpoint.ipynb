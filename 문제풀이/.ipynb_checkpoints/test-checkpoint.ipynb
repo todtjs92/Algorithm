{
 "cells": [
  {
   "cell_type": "markdown",
   "id": "ca0d42a6",
   "metadata": {},
   "source": [
    "# 1번"
   ]
  },
  {
   "cell_type": "code",
   "execution_count": 11,
   "id": "a9169514",
   "metadata": {},
   "outputs": [],
   "source": [
    "ingredients = ['linguine', 'pepper', 'ketchup', 'mushroom']"
   ]
  },
  {
   "cell_type": "code",
   "execution_count": 12,
   "id": "580ad2b0",
   "metadata": {},
   "outputs": [],
   "source": [
    "target = 'mushroom'"
   ]
  },
  {
   "cell_type": "code",
   "execution_count": 13,
   "id": "ec352a24",
   "metadata": {},
   "outputs": [],
   "source": [
    "startIndex = 1 # 2"
   ]
  },
  {
   "cell_type": "code",
   "execution_count": 16,
   "id": "9f1281c3",
   "metadata": {},
   "outputs": [],
   "source": [
    "def solution(ingredients, startIndex, target):\n",
    "    list_ =  ingredients+ ingredients + ingredients\n",
    "    startIndex = len(ingredients) + startIndex\n",
    "    index = startIndex\n",
    "    \n",
    "    \n",
    "    # right\n",
    "    right_count = 0 \n",
    "    while list_[index] != target :\n",
    "        right_count +=1\n",
    "        index += 1\n",
    "    \n",
    "    index = startIndex\n",
    "        \n",
    "    # left\n",
    "    \n",
    "    left_count = 0\n",
    "    while list_[index] != target :\n",
    "        left_count +=1\n",
    "        index -= 1\n",
    "    \n",
    "    answer =  min(right_count, left_count)\n",
    "    print(answer)\n",
    "    return\n",
    "    "
   ]
  },
  {
   "cell_type": "code",
   "execution_count": 17,
   "id": "312dca03",
   "metadata": {},
   "outputs": [
    {
     "name": "stdout",
     "output_type": "stream",
     "text": [
      "2\n"
     ]
    }
   ],
   "source": [
    "solution(ingredients, startIndex, target)"
   ]
  },
  {
   "cell_type": "markdown",
   "id": "7267014e",
   "metadata": {},
   "source": [
    "# 2번"
   ]
  },
  {
   "cell_type": "code",
   "execution_count": 23,
   "id": "89c85d8a",
   "metadata": {},
   "outputs": [],
   "source": [
    "a = '011' \n"
   ]
  },
  {
   "cell_type": "code",
   "execution_count": 24,
   "id": "385ca561",
   "metadata": {},
   "outputs": [
    {
     "data": {
      "text/plain": [
       "'110'"
      ]
     },
     "execution_count": 24,
     "metadata": {},
     "output_type": "execute_result"
    }
   ],
   "source": [
    "a[::-1]"
   ]
  },
  {
   "cell_type": "code",
   "execution_count": 25,
   "id": "bc74d8f9",
   "metadata": {},
   "outputs": [
    {
     "data": {
      "text/plain": [
       "'01'"
      ]
     },
     "execution_count": 25,
     "metadata": {},
     "output_type": "execute_result"
    }
   ],
   "source": [
    "a[:-1]"
   ]
  },
  {
   "cell_type": "code",
   "execution_count": null,
   "id": "faad96d8",
   "metadata": {},
   "outputs": [],
   "source": [
    "110\n",
    "011"
   ]
  },
  {
   "cell_type": "code",
   "execution_count": 27,
   "id": "288daf99",
   "metadata": {},
   "outputs": [],
   "source": [
    "string = '110'"
   ]
  },
  {
   "cell_type": "code",
   "execution_count": 31,
   "id": "490f1dc9",
   "metadata": {},
   "outputs": [],
   "source": [
    "s = '011'"
   ]
  },
  {
   "cell_type": "code",
   "execution_count": 32,
   "id": "5fb1cb4d",
   "metadata": {},
   "outputs": [],
   "source": [
    "number_of_1 = 0\n",
    "number_of_0 = 0"
   ]
  },
  {
   "cell_type": "code",
   "execution_count": 33,
   "id": "62e18a0b",
   "metadata": {},
   "outputs": [],
   "source": [
    "for i in s:\n",
    "    if i == '1':\n",
    "        number_of_1 += 1\n",
    "    else:\n",
    "        number_of_0 += 1"
   ]
  },
  {
   "cell_type": "code",
   "execution_count": 38,
   "id": "46d8221c",
   "metadata": {},
   "outputs": [],
   "source": [
    "temp_1 = ''\n",
    "for i in range(number_of_1):\n",
    "    temp_1 +='1'\n",
    "\n",
    "temp_0 = ''\n",
    "for i in range(number_of_0):\n",
    "    temp_0 +='0'"
   ]
  },
  {
   "cell_type": "code",
   "execution_count": 40,
   "id": "695823f1",
   "metadata": {},
   "outputs": [],
   "source": [
    "string = temp_1 + temp_0"
   ]
  },
  {
   "cell_type": "code",
   "execution_count": 41,
   "id": "ec191d1c",
   "metadata": {},
   "outputs": [
    {
     "data": {
      "text/plain": [
       "'110'"
      ]
     },
     "execution_count": 41,
     "metadata": {},
     "output_type": "execute_result"
    }
   ],
   "source": [
    "string"
   ]
  },
  {
   "cell_type": "code",
   "execution_count": 42,
   "id": "1380bbee",
   "metadata": {},
   "outputs": [],
   "source": [
    "result= get_initial_string(string)"
   ]
  },
  {
   "cell_type": "code",
   "execution_count": 43,
   "id": "6b661ca2",
   "metadata": {},
   "outputs": [
    {
     "data": {
      "text/plain": [
       "'101'"
      ]
     },
     "execution_count": 43,
     "metadata": {},
     "output_type": "execute_result"
    }
   ],
   "source": [
    "result"
   ]
  },
  {
   "cell_type": "code",
   "execution_count": 28,
   "id": "562113a4",
   "metadata": {},
   "outputs": [],
   "source": [
    "def get_initial_string(string):\n",
    "    n = len(string)\n",
    "    temp = ''\n",
    "    for i in range(n):\n",
    "        string = string[::-1]\n",
    "        last = string[-1]\n",
    "        temp =  last + temp\n",
    "        string = string[:-1]\n",
    "    return temp\n",
    "        \n",
    "        "
   ]
  },
  {
   "cell_type": "code",
   "execution_count": 29,
   "id": "74e4cc4a",
   "metadata": {},
   "outputs": [],
   "source": [
    "max_ = get_initial_string(string)"
   ]
  },
  {
   "cell_type": "code",
   "execution_count": 30,
   "id": "8d976fc4",
   "metadata": {},
   "outputs": [
    {
     "data": {
      "text/plain": [
       "'101'"
      ]
     },
     "execution_count": 30,
     "metadata": {},
     "output_type": "execute_result"
    }
   ],
   "source": [
    "max_"
   ]
  },
  {
   "cell_type": "code",
   "execution_count": null,
   "id": "94989392",
   "metadata": {},
   "outputs": [],
   "source": [
    "a = int('0b10000', 2)\n",
    "print(a)\n",
    "# 16"
   ]
  },
  {
   "cell_type": "code",
   "execution_count": null,
   "id": "2dc0faa1",
   "metadata": {},
   "outputs": [],
   "source": []
  },
  {
   "cell_type": "code",
   "execution_count": null,
   "id": "879e5743",
   "metadata": {},
   "outputs": [],
   "source": []
  },
  {
   "cell_type": "markdown",
   "id": "9060e242",
   "metadata": {},
   "source": [
    "## 3번\n"
   ]
  },
  {
   "cell_type": "code",
   "execution_count": 17,
   "id": "98626d0b",
   "metadata": {},
   "outputs": [],
   "source": [
    "n =4 \n",
    "queryType= ['Friend','Friend','Total']\n",
    "students1 = [1,2,1]\n",
    "students2 = [2,3,4]\n"
   ]
  },
  {
   "cell_type": "code",
   "execution_count": 76,
   "id": "31478696",
   "metadata": {},
   "outputs": [],
   "source": [
    "n =2 \n",
    "queryType= ['Total']\n",
    "students1 = [1]\n",
    "students2 = [2]"
   ]
  },
  {
   "cell_type": "code",
   "execution_count": null,
   "id": "85940cce",
   "metadata": {},
   "outputs": [],
   "source": []
  },
  {
   "cell_type": "code",
   "execution_count": 26,
   "id": "f5b921f0",
   "metadata": {},
   "outputs": [],
   "source": [
    "def dfs(student ,visited,dictionary):\n",
    "    q = []\n",
    "    q.append(student)\n",
    "    while q:\n",
    "        visit_student = q.pop()\n",
    "        visited[visit_student] = True\n",
    "        next_students = dictionary[visit_student]\n",
    "        for ns in next_students:\n",
    "            if visited[ns] == False:\n",
    "                q.append(ns)"
   ]
  },
  {
   "cell_type": "code",
   "execution_count": null,
   "id": "05c633dd",
   "metadata": {},
   "outputs": [],
   "source": []
  },
  {
   "cell_type": "code",
   "execution_count": 27,
   "id": "167b56fe",
   "metadata": {},
   "outputs": [],
   "source": [
    "def solution(n, queryType, students1, students2):\n",
    "    dictionary = {x:set() for x in range(n)}\n",
    "    answer = []\n",
    "    for q in range(len(queryType)):\n",
    "\n",
    "        command = queryType[q]\n",
    "        a , b = students1[q]-1 , students2[q]-1\n",
    "        if command == 'Friend':\n",
    "            dictionary[a].update([b])\n",
    "            dictionary[b].update([a])\n",
    "        else:\n",
    "            visited=[False for x in range(n)]\n",
    "            \n",
    "            dfs(a,visited,dictionary)\n",
    "            if visited[b] == False:\n",
    "                dfs(b,visited,dictionary)\n",
    "            answer.append(sum(visited))\n",
    "    return answer\n"
   ]
  },
  {
   "cell_type": "code",
   "execution_count": 34,
   "id": "a60df8a0",
   "metadata": {},
   "outputs": [
    {
     "data": {
      "text/plain": [
       "'0b1001'"
      ]
     },
     "execution_count": 34,
     "metadata": {},
     "output_type": "execute_result"
    }
   ],
   "source": [
    "bin(0b1101 & 0b1001)   "
   ]
  },
  {
   "cell_type": "code",
   "execution_count": 37,
   "id": "782b5130",
   "metadata": {},
   "outputs": [
    {
     "ename": "ValueError",
     "evalue": "invalid literal for int() with base 10: '0b1001'",
     "output_type": "error",
     "traceback": [
      "\u001b[0;31m---------------------------------------------------------------------------\u001b[0m",
      "\u001b[0;31mValueError\u001b[0m                                Traceback (most recent call last)",
      "Input \u001b[0;32mIn [37]\u001b[0m, in \u001b[0;36m<cell line: 1>\u001b[0;34m()\u001b[0m\n\u001b[0;32m----> 1\u001b[0m \u001b[38;5;28;43mint\u001b[39;49m\u001b[43m(\u001b[49m\u001b[38;5;124;43m'\u001b[39;49m\u001b[38;5;124;43m0b1001\u001b[39;49m\u001b[38;5;124;43m'\u001b[39;49m\u001b[43m)\u001b[49m\n",
      "\u001b[0;31mValueError\u001b[0m: invalid literal for int() with base 10: '0b1001'"
     ]
    }
   ],
   "source": [
    "int('0b1001')"
   ]
  },
  {
   "cell_type": "code",
   "execution_count": 105,
   "id": "1d810a59",
   "metadata": {},
   "outputs": [],
   "source": [
    "n =4 \n",
    "queryType= ['Friend','Friend','Total']\n",
    "students1 = [1,2,1]\n",
    "students2 = [2,3,4]\n",
    "\n"
   ]
  },
  {
   "cell_type": "code",
   "execution_count": 116,
   "id": "1fee3cd5",
   "metadata": {},
   "outputs": [
    {
     "data": {
      "text/plain": [
       "[['0000'], ['0000'], ['0000'], ['0000']]"
      ]
     },
     "execution_count": 116,
     "metadata": {},
     "output_type": "execute_result"
    }
   ],
   "source": [
    "[['0'* n ] for y in range(n)]"
   ]
  },
  {
   "cell_type": "code",
   "execution_count": 129,
   "id": "14bcc506",
   "metadata": {},
   "outputs": [
    {
     "ename": "TypeError",
     "evalue": "'str' object does not support item assignment",
     "output_type": "error",
     "traceback": [
      "\u001b[0;31m---------------------------------------------------------------------------\u001b[0m",
      "\u001b[0;31mTypeError\u001b[0m                                 Traceback (most recent call last)",
      "Input \u001b[0;32mIn [129]\u001b[0m, in \u001b[0;36m<cell line: 2>\u001b[0;34m()\u001b[0m\n\u001b[1;32m      1\u001b[0m friends_list \u001b[38;5;241m=\u001b[39m [\u001b[38;5;124m'\u001b[39m\u001b[38;5;124m0\u001b[39m\u001b[38;5;124m'\u001b[39m\u001b[38;5;241m*\u001b[39m n  \u001b[38;5;28;01mfor\u001b[39;00m y \u001b[38;5;129;01min\u001b[39;00m \u001b[38;5;28mrange\u001b[39m(n)]\n\u001b[1;32m      2\u001b[0m \u001b[38;5;28;01mfor\u001b[39;00m i \u001b[38;5;129;01min\u001b[39;00m \u001b[38;5;28mrange\u001b[39m(n):\n\u001b[0;32m----> 3\u001b[0m     friends_list[i][i] \u001b[38;5;241m=\u001b[39m \u001b[38;5;124m'\u001b[39m\u001b[38;5;124m1\u001b[39m\u001b[38;5;124m'\u001b[39m\n",
      "\u001b[0;31mTypeError\u001b[0m: 'str' object does not support item assignment"
     ]
    }
   ],
   "source": [
    "friends_list = ['0'* n  for y in range(n)]\n",
    "for i in range(n):\n",
    "    friends_list[i][i] = '1'"
   ]
  },
  {
   "cell_type": "code",
   "execution_count": 130,
   "id": "1b60c029",
   "metadata": {},
   "outputs": [
    {
     "data": {
      "text/plain": [
       "['0000', '0000', '0000', '0000']"
      ]
     },
     "execution_count": 130,
     "metadata": {},
     "output_type": "execute_result"
    }
   ],
   "source": [
    "friends_list"
   ]
  },
  {
   "cell_type": "code",
   "execution_count": null,
   "id": "56b5b3c6",
   "metadata": {},
   "outputs": [],
   "source": [
    "#  4. INTEGER_ARRAY students2\n",
    "#\n",
    "def dfs(student ,visited,dictionary):\n",
    "    q = []\n",
    "    q.append(student)\n",
    "    while q:\n",
    "        visit_student = q.pop()\n",
    "        visited[visit_student] = True\n",
    "        next_students = dictionary[visit_student]\n",
    "        for ns in next_students:\n",
    "            if visited[ns] == False:\n",
    "                q.append(ns)\n",
    "\n",
    "def solution(n, queryType, students1, students2):\n",
    "    dictionary = {x:set() for x in range(n)}\n",
    "    answer = []\n",
    "    for q in range(len(queryType)):\n",
    "\n",
    "        command = queryType[q]\n",
    "        a , b = students1[q]-1 , students2[q]-1\n",
    "        if command == 'Friend':\n",
    "            dictionary[a].update([b])\n",
    "            dictionary[b].update([a])\n",
    "        else:\n",
    "            visited=[False for x in range(n)]\n",
    "            dfs(a,visited,dictionary)\n",
    "            if visited[b] == False:\n",
    "                dfs(b,visited,dictionary)\n",
    "            answer.append(sum(visited))\n",
    "    return answer"
   ]
  },
  {
   "cell_type": "code",
   "execution_count": 131,
   "id": "17476ff0",
   "metadata": {},
   "outputs": [],
   "source": [
    "a='11101'"
   ]
  },
  {
   "cell_type": "code",
   "execution_count": 132,
   "id": "104deb52",
   "metadata": {},
   "outputs": [
    {
     "data": {
      "text/plain": [
       "'0'"
      ]
     },
     "execution_count": 132,
     "metadata": {},
     "output_type": "execute_result"
    }
   ],
   "source": [
    "a[3]"
   ]
  },
  {
   "cell_type": "code",
   "execution_count": 133,
   "id": "33b7e97b",
   "metadata": {},
   "outputs": [
    {
     "ename": "TypeError",
     "evalue": "'str' object does not support item assignment",
     "output_type": "error",
     "traceback": [
      "\u001b[0;31m---------------------------------------------------------------------------\u001b[0m",
      "\u001b[0;31mTypeError\u001b[0m                                 Traceback (most recent call last)",
      "Input \u001b[0;32mIn [133]\u001b[0m, in \u001b[0;36m<cell line: 1>\u001b[0;34m()\u001b[0m\n\u001b[0;32m----> 1\u001b[0m a[\u001b[38;5;241m3\u001b[39m] \u001b[38;5;241m=\u001b[39m\u001b[38;5;124m'\u001b[39m\u001b[38;5;124m1\u001b[39m\u001b[38;5;124m'\u001b[39m\n",
      "\u001b[0;31mTypeError\u001b[0m: 'str' object does not support item assignment"
     ]
    }
   ],
   "source": [
    "a[3] ='1'"
   ]
  },
  {
   "cell_type": "code",
   "execution_count": 136,
   "id": "e92cab45",
   "metadata": {},
   "outputs": [
    {
     "data": {
      "text/plain": [
       "'1'"
      ]
     },
     "execution_count": 136,
     "metadata": {},
     "output_type": "execute_result"
    }
   ],
   "source": [
    "str(1)"
   ]
  },
  {
   "cell_type": "code",
   "execution_count": null,
   "id": "c032e31c",
   "metadata": {},
   "outputs": [],
   "source": []
  },
  {
   "cell_type": "code",
   "execution_count": 112,
   "id": "bab70785",
   "metadata": {},
   "outputs": [],
   "source": [
    "def solution(n, queryType, students1, students2):\n",
    "    answer = []\n",
    "    friends_list = [['0'* n ] for y in range(n)]\n",
    "    for i in range(n):\n",
    "        friends_list[i][i] = '1'\n",
    "    for q in range(len(queryType)):\n",
    "        command = queryType[q]\n",
    "        a , b = students1[q]-1 , students2[q]-1\n",
    "        \n",
    "        if command == 'Friend':\n",
    "            friends_list[a][b] = '1'\n",
    "            friends_list[b][a] = '1'\n",
    "            a_string = ''.join(friends_list[a])\n",
    "            a_bin = bin(int(a_string,2))\n",
    "            b_string = ''.join(friends_list[b])\n",
    "            b_bin = bin(int(b_string,2))\n",
    "            gg = int(a_bin, 2) | int(b_bin, 2)\n",
    "            bin_gg = bin(gg)\n",
    "            print(bin_gg,'gg')\n",
    "        else:\n",
    "#             a_string = ''.join(friends_list[a])\n",
    "#             print(a_string)\n",
    "#             a_bin = bin(int(a_string,2))\n",
    "            \n",
    "            \n",
    "#             b_string = ''.join(friends_list[b])\n",
    "#             b_bin = bin(int(b_string,2))\n",
    "#             print(b_string)\n",
    "            \n",
    "#             gg = int(a_bin, 2) | int(b_bin, 2)\n",
    "#             counts = bin(gg)[2:].count('1')\n",
    "#             answer.append(counts)\n",
    "            pass\n",
    "    return answer\n",
    "    "
   ]
  },
  {
   "cell_type": "code",
   "execution_count": 113,
   "id": "4d1e77f3",
   "metadata": {},
   "outputs": [
    {
     "name": "stdout",
     "output_type": "stream",
     "text": [
      "0b1100 gg\n",
      "0b1110 gg\n"
     ]
    },
    {
     "data": {
      "text/plain": [
       "[]"
      ]
     },
     "execution_count": 113,
     "metadata": {},
     "output_type": "execute_result"
    }
   ],
   "source": [
    "solution(n, queryType, students1, students2)"
   ]
  },
  {
   "cell_type": "code",
   "execution_count": null,
   "id": "561b5e89",
   "metadata": {},
   "outputs": [],
   "source": []
  },
  {
   "cell_type": "code",
   "execution_count": null,
   "id": "c5c7d2b4",
   "metadata": {},
   "outputs": [],
   "source": []
  },
  {
   "cell_type": "code",
   "execution_count": null,
   "id": "b1df7947",
   "metadata": {},
   "outputs": [],
   "source": []
  },
  {
   "cell_type": "code",
   "execution_count": null,
   "id": "fd88762e",
   "metadata": {},
   "outputs": [],
   "source": []
  },
  {
   "cell_type": "code",
   "execution_count": 46,
   "id": "e81cad0d",
   "metadata": {},
   "outputs": [],
   "source": [
    " friends_list = [['0' for y in range(n)] for x in range(n)]"
   ]
  },
  {
   "cell_type": "code",
   "execution_count": 47,
   "id": "9dee952e",
   "metadata": {},
   "outputs": [],
   "source": [
    "for i in range(n):\n",
    "    friends_list[i][i] = '1'"
   ]
  },
  {
   "cell_type": "code",
   "execution_count": 48,
   "id": "ba1381b6",
   "metadata": {},
   "outputs": [
    {
     "data": {
      "text/plain": [
       "[['1', '0'], ['0', '1']]"
      ]
     },
     "execution_count": 48,
     "metadata": {},
     "output_type": "execute_result"
    }
   ],
   "source": [
    "friends_list"
   ]
  },
  {
   "cell_type": "code",
   "execution_count": 49,
   "id": "504a9652",
   "metadata": {},
   "outputs": [],
   "source": [
    "a_string = ''.join(friends_list[0])"
   ]
  },
  {
   "cell_type": "code",
   "execution_count": 59,
   "id": "31084df9",
   "metadata": {},
   "outputs": [
    {
     "data": {
      "text/plain": [
       "'10'"
      ]
     },
     "execution_count": 59,
     "metadata": {},
     "output_type": "execute_result"
    }
   ],
   "source": [
    "a_string"
   ]
  },
  {
   "cell_type": "code",
   "execution_count": 60,
   "id": "aa8a7369",
   "metadata": {},
   "outputs": [],
   "source": [
    "a_bin = bin(int(a_string,2))"
   ]
  },
  {
   "cell_type": "code",
   "execution_count": 61,
   "id": "0d43b714",
   "metadata": {},
   "outputs": [
    {
     "data": {
      "text/plain": [
       "'0b10'"
      ]
     },
     "execution_count": 61,
     "metadata": {},
     "output_type": "execute_result"
    }
   ],
   "source": [
    "a_bin"
   ]
  },
  {
   "cell_type": "code",
   "execution_count": 62,
   "id": "1dd7951e",
   "metadata": {},
   "outputs": [],
   "source": [
    "b_string = ''.join(friends_list[1])"
   ]
  },
  {
   "cell_type": "code",
   "execution_count": 63,
   "id": "10d7363f",
   "metadata": {},
   "outputs": [],
   "source": [
    "b_bin = bin(int(b_string,2))"
   ]
  },
  {
   "cell_type": "code",
   "execution_count": 64,
   "id": "c1803ce2",
   "metadata": {},
   "outputs": [
    {
     "data": {
      "text/plain": [
       "'0b1'"
      ]
     },
     "execution_count": 64,
     "metadata": {},
     "output_type": "execute_result"
    }
   ],
   "source": [
    "b_bin"
   ]
  },
  {
   "cell_type": "code",
   "execution_count": 69,
   "id": "868fcec7",
   "metadata": {},
   "outputs": [],
   "source": [
    "gg = int(a_bin, 2) | int(b_bin, 2)"
   ]
  },
  {
   "cell_type": "code",
   "execution_count": 74,
   "id": "fe2f245e",
   "metadata": {},
   "outputs": [
    {
     "data": {
      "text/plain": [
       "2"
      ]
     },
     "execution_count": 74,
     "metadata": {},
     "output_type": "execute_result"
    }
   ],
   "source": [
    "bin(gg)[2:].count('1')"
   ]
  },
  {
   "cell_type": "code",
   "execution_count": 71,
   "id": "a977d2dd",
   "metadata": {},
   "outputs": [
    {
     "data": {
      "text/plain": [
       "'0b00000011'"
      ]
     },
     "execution_count": 71,
     "metadata": {},
     "output_type": "execute_result"
    }
   ],
   "source": [
    "\"0b{0:08b}\".format(gg)"
   ]
  },
  {
   "cell_type": "code",
   "execution_count": 70,
   "id": "8b10f56c",
   "metadata": {},
   "outputs": [
    {
     "data": {
      "text/plain": [
       "3"
      ]
     },
     "execution_count": 70,
     "metadata": {},
     "output_type": "execute_result"
    }
   ],
   "source": [
    "gg"
   ]
  },
  {
   "cell_type": "code",
   "execution_count": 65,
   "id": "e2a8ad81",
   "metadata": {},
   "outputs": [
    {
     "ename": "TypeError",
     "evalue": "unsupported operand type(s) for |: 'str' and 'str'",
     "output_type": "error",
     "traceback": [
      "\u001b[0;31m---------------------------------------------------------------------------\u001b[0m",
      "\u001b[0;31mTypeError\u001b[0m                                 Traceback (most recent call last)",
      "Input \u001b[0;32mIn [65]\u001b[0m, in \u001b[0;36m<cell line: 1>\u001b[0;34m()\u001b[0m\n\u001b[0;32m----> 1\u001b[0m \u001b[43ma_bin\u001b[49m\u001b[38;5;241;43m|\u001b[39;49m\u001b[43mb_bin\u001b[49m\n",
      "\u001b[0;31mTypeError\u001b[0m: unsupported operand type(s) for |: 'str' and 'str'"
     ]
    }
   ],
   "source": [
    "a_bin|b_bin"
   ]
  },
  {
   "cell_type": "code",
   "execution_count": null,
   "id": "b5d67742",
   "metadata": {},
   "outputs": [],
   "source": []
  },
  {
   "cell_type": "code",
   "execution_count": 52,
   "id": "de8975d3",
   "metadata": {},
   "outputs": [
    {
     "ename": "TypeError",
     "evalue": "unsupported operand type(s) for |: 'str' and 'str'",
     "output_type": "error",
     "traceback": [
      "\u001b[0;31m---------------------------------------------------------------------------\u001b[0m",
      "\u001b[0;31mTypeError\u001b[0m                                 Traceback (most recent call last)",
      "Input \u001b[0;32mIn [52]\u001b[0m, in \u001b[0;36m<cell line: 1>\u001b[0;34m()\u001b[0m\n\u001b[0;32m----> 1\u001b[0m \u001b[38;5;28mbin\u001b[39m(\u001b[38;5;124;43m'\u001b[39;49m\u001b[38;5;124;43m0b1101\u001b[39;49m\u001b[38;5;124;43m'\u001b[39;49m\u001b[43m \u001b[49m\u001b[38;5;241;43m|\u001b[39;49m\u001b[43m \u001b[49m\u001b[38;5;124;43m'\u001b[39;49m\u001b[38;5;124;43m0b1001\u001b[39;49m\u001b[38;5;124;43m'\u001b[39;49m)\n",
      "\u001b[0;31mTypeError\u001b[0m: unsupported operand type(s) for |: 'str' and 'str'"
     ]
    }
   ],
   "source": [
    "bin('0b1101' | '0b1001')   "
   ]
  },
  {
   "cell_type": "code",
   "execution_count": 56,
   "id": "4c930dda",
   "metadata": {},
   "outputs": [
    {
     "ename": "ModuleNotFoundError",
     "evalue": "No module named 'bitarray'",
     "output_type": "error",
     "traceback": [
      "\u001b[0;31m---------------------------------------------------------------------------\u001b[0m",
      "\u001b[0;31mModuleNotFoundError\u001b[0m                       Traceback (most recent call last)",
      "Input \u001b[0;32mIn [56]\u001b[0m, in \u001b[0;36m<cell line: 1>\u001b[0;34m()\u001b[0m\n\u001b[0;32m----> 1\u001b[0m \u001b[38;5;28;01mimport\u001b[39;00m \u001b[38;5;21;01mbitarray\u001b[39;00m\n",
      "\u001b[0;31mModuleNotFoundError\u001b[0m: No module named 'bitarray'"
     ]
    }
   ],
   "source": [
    "import bitarray"
   ]
  },
  {
   "cell_type": "code",
   "execution_count": 55,
   "id": "15d2082e",
   "metadata": {},
   "outputs": [
    {
     "data": {
      "text/plain": [
       "13"
      ]
     },
     "execution_count": 55,
     "metadata": {},
     "output_type": "execute_result"
    }
   ],
   "source": [
    "int(0b1101)"
   ]
  },
  {
   "cell_type": "code",
   "execution_count": 53,
   "id": "2c6df95d",
   "metadata": {},
   "outputs": [
    {
     "data": {
      "text/plain": [
       "'0b10001001101'"
      ]
     },
     "execution_count": 53,
     "metadata": {},
     "output_type": "execute_result"
    }
   ],
   "source": [
    "bin(1101)"
   ]
  },
  {
   "cell_type": "code",
   "execution_count": null,
   "id": "25826c09",
   "metadata": {},
   "outputs": [],
   "source": []
  },
  {
   "cell_type": "code",
   "execution_count": null,
   "id": "b505490f",
   "metadata": {},
   "outputs": [],
   "source": []
  },
  {
   "cell_type": "code",
   "execution_count": null,
   "id": "f0d5b5e0",
   "metadata": {},
   "outputs": [],
   "source": []
  },
  {
   "cell_type": "code",
   "execution_count": null,
   "id": "e8d21a08",
   "metadata": {},
   "outputs": [],
   "source": [
    "friends = []"
   ]
  },
  {
   "cell_type": "code",
   "execution_count": null,
   "id": "2b7a1d7f",
   "metadata": {},
   "outputs": [],
   "source": [
    "visited = [True, True, True, False, True]\n",
    "dp[]"
   ]
  },
  {
   "cell_type": "code",
   "execution_count": 30,
   "id": "0580a975",
   "metadata": {},
   "outputs": [],
   "source": [
    "dp = [[] for x in range(n+1)]"
   ]
  },
  {
   "cell_type": "code",
   "execution_count": 31,
   "id": "ffd92e87",
   "metadata": {},
   "outputs": [
    {
     "data": {
      "text/plain": [
       "[[], [], []]"
      ]
     },
     "execution_count": 31,
     "metadata": {},
     "output_type": "execute_result"
    }
   ],
   "source": [
    "dp"
   ]
  },
  {
   "cell_type": "code",
   "execution_count": 32,
   "id": "31fb2e2b",
   "metadata": {},
   "outputs": [],
   "source": [
    "dp = [[0],[4],[1]]"
   ]
  },
  {
   "cell_type": "code",
   "execution_count": 33,
   "id": "5a0013ea",
   "metadata": {},
   "outputs": [
    {
     "data": {
      "text/plain": [
       "[[0], [4], [1]]"
      ]
     },
     "execution_count": 33,
     "metadata": {},
     "output_type": "execute_result"
    }
   ],
   "source": [
    "dp"
   ]
  },
  {
   "cell_type": "code",
   "execution_count": null,
   "id": "5634f8a0",
   "metadata": {},
   "outputs": [],
   "source": [
    "[5,2]\n",
    "[['a','b'],['c','d']]"
   ]
  },
  {
   "cell_type": "code",
   "execution_count": 28,
   "id": "508acdf5",
   "metadata": {},
   "outputs": [
    {
     "data": {
      "text/plain": [
       "[2]"
      ]
     },
     "execution_count": 28,
     "metadata": {},
     "output_type": "execute_result"
    }
   ],
   "source": [
    "solution(n, queryType, students1, students2)"
   ]
  },
  {
   "cell_type": "code",
   "execution_count": null,
   "id": "2ab6d776",
   "metadata": {},
   "outputs": [],
   "source": []
  },
  {
   "cell_type": "code",
   "execution_count": 98,
   "id": "60fc4d8e",
   "metadata": {},
   "outputs": [
    {
     "data": {
      "text/plain": [
       "{0: {1}, 1: {0, 2}, 2: {1}, 3: set()}"
      ]
     },
     "execution_count": 98,
     "metadata": {},
     "output_type": "execute_result"
    }
   ],
   "source": [
    "dictionary"
   ]
  },
  {
   "cell_type": "code",
   "execution_count": 99,
   "id": "87e8f6aa",
   "metadata": {},
   "outputs": [],
   "source": [
    "visited=[False for x in range(n)]"
   ]
  },
  {
   "cell_type": "code",
   "execution_count": null,
   "id": "a21bace5",
   "metadata": {},
   "outputs": [],
   "source": [
    "def dfs(student ,visited):\n",
    "    q = []\n",
    "    q.append(student)\n",
    "    while q:\n",
    "        visit_student = q.pop()\n",
    "        visited[visit_student] = True\n",
    "        next_students = dictionary[visit_student]\n",
    "        for ns in next_students:\n",
    "            if visited[ns] == False:\n",
    "                q.append(ns)\n"
   ]
  },
  {
   "cell_type": "code",
   "execution_count": 101,
   "id": "e3f25522",
   "metadata": {},
   "outputs": [],
   "source": [
    "a = 0 \n",
    "b= 3"
   ]
  },
  {
   "cell_type": "code",
   "execution_count": 102,
   "id": "6500de28",
   "metadata": {},
   "outputs": [],
   "source": [
    "q = []"
   ]
  },
  {
   "cell_type": "code",
   "execution_count": 103,
   "id": "f0c8f702",
   "metadata": {},
   "outputs": [],
   "source": [
    "q.append(a)\n"
   ]
  },
  {
   "cell_type": "code",
   "execution_count": 104,
   "id": "e3c0d5c3",
   "metadata": {},
   "outputs": [
    {
     "data": {
      "text/plain": [
       "[0]"
      ]
     },
     "execution_count": 104,
     "metadata": {},
     "output_type": "execute_result"
    }
   ],
   "source": [
    "q"
   ]
  },
  {
   "cell_type": "code",
   "execution_count": null,
   "id": "d28b9ee2",
   "metadata": {},
   "outputs": [],
   "source": []
  },
  {
   "cell_type": "code",
   "execution_count": 109,
   "id": "380e8439",
   "metadata": {},
   "outputs": [],
   "source": [
    "while q:\n",
    "    visit_student = q.pop()\n",
    "    visited[visit_student] = True\n",
    "    next_students = dictionary[visit_student]\n",
    "    for ns in next_students:\n",
    "        if visited[ns] == False:\n",
    "            q.append(ns)\n",
    "    \n",
    "    \n",
    "    \n",
    "    "
   ]
  },
  {
   "cell_type": "code",
   "execution_count": 110,
   "id": "a9d90946",
   "metadata": {},
   "outputs": [
    {
     "data": {
      "text/plain": [
       "[True, True, True, False]"
      ]
     },
     "execution_count": 110,
     "metadata": {},
     "output_type": "execute_result"
    }
   ],
   "source": [
    "visited"
   ]
  },
  {
   "cell_type": "code",
   "execution_count": 112,
   "id": "a6ad667c",
   "metadata": {},
   "outputs": [],
   "source": [
    "q.append(b)"
   ]
  },
  {
   "cell_type": "code",
   "execution_count": 114,
   "id": "f7363523",
   "metadata": {},
   "outputs": [],
   "source": [
    "while q:\n",
    "    visit_student = q.pop()\n",
    "    visited[visit_student] = True\n",
    "    next_students = dictionary[visit_student]\n",
    "    for ns in next_students:\n",
    "        if visited[ns] == False:\n",
    "            q.append(ns)"
   ]
  },
  {
   "cell_type": "code",
   "execution_count": 115,
   "id": "b1d0601b",
   "metadata": {},
   "outputs": [
    {
     "data": {
      "text/plain": [
       "[True, True, True, True]"
      ]
     },
     "execution_count": 115,
     "metadata": {},
     "output_type": "execute_result"
    }
   ],
   "source": [
    "visited"
   ]
  },
  {
   "cell_type": "code",
   "execution_count": null,
   "id": "64f6e0d0",
   "metadata": {},
   "outputs": [],
   "source": []
  },
  {
   "cell_type": "code",
   "execution_count": null,
   "id": "852768b1",
   "metadata": {},
   "outputs": [],
   "source": [
    "# 이게 같이 변해야함 ."
   ]
  },
  {
   "cell_type": "code",
   "execution_count": null,
   "id": "ede391e8",
   "metadata": {},
   "outputs": [],
   "source": [
    "for q in range(len(queryType)):\n",
    "    command = queryType[q]\n",
    "    if command == 'Friend':\n",
    "        a , b = students1[q]-1 , students2[q]-1\n",
    "        sum_ = list_[a] + list_[b]\n",
    "        list_[a] = sum_\n",
    "        list_[b] = sum_\n",
    "        \n",
    "        \n",
    "        "
   ]
  },
  {
   "cell_type": "code",
   "execution_count": 125,
   "id": "89ffdc44",
   "metadata": {},
   "outputs": [],
   "source": [
    "n =3\n",
    "queryType= ['Freind','Total']\n",
    "students1 = [1,2]\n",
    "students2 = [2,3]"
   ]
  },
  {
   "cell_type": "code",
   "execution_count": null,
   "id": "40352a32",
   "metadata": {},
   "outputs": [],
   "source": [
    "[12,12,3]"
   ]
  },
  {
   "cell_type": "code",
   "execution_count": 129,
   "id": "39fcd3eb",
   "metadata": {},
   "outputs": [],
   "source": [
    "n =2 \n",
    "queryType= ['Total']\n",
    "students1 = [1]\n",
    "students2 = [2]\n",
    "# 2"
   ]
  },
  {
   "cell_type": "code",
   "execution_count": null,
   "id": "45813888",
   "metadata": {},
   "outputs": [],
   "source": [
    "[1,2]"
   ]
  },
  {
   "cell_type": "code",
   "execution_count": null,
   "id": "78fcf552",
   "metadata": {},
   "outputs": [],
   "source": []
  },
  {
   "cell_type": "code",
   "execution_count": null,
   "id": "43821877",
   "metadata": {},
   "outputs": [],
   "source": [
    "n = 100\n",
    "queryType"
   ]
  },
  {
   "cell_type": "code",
   "execution_count": null,
   "id": "b0c97501",
   "metadata": {},
   "outputs": [],
   "source": [
    "100\n",
    "84\n",
    "Friend\n",
    "Total\n",
    "Friend\n",
    "Total\n",
    "Friend\n",
    "Total\n",
    "Friend\n",
    "Total\n",
    "Friend\n",
    "Total\n",
    "Friend\n",
    "Total\n",
    "Friend\n",
    "Total\n",
    "Friend\n",
    "Total\n",
    "Friend\n",
    "Total\n",
    "Friend\n",
    "Total\n",
    "Friend\n",
    "Total\n",
    "Friend\n",
    "Total\n",
    "Friend\n",
    "Total\n",
    "Friend\n",
    "Total\n",
    "Friend\n",
    "Total\n",
    "Friend\n",
    "Total\n",
    "Friend\n",
    "Total\n",
    "Friend\n",
    "Total\n",
    "Friend\n",
    "Total\n",
    "Friend\n",
    "Total\n",
    "Friend\n",
    "Total\n",
    "Friend\n",
    "Total\n",
    "Friend\n",
    "Total\n",
    "Friend\n",
    "Total\n",
    "Friend\n",
    "Total\n",
    "Friend\n",
    "Total\n",
    "Friend\n",
    "Total\n",
    "Friend\n",
    "Total\n",
    "Friend\n",
    "Total\n",
    "Friend\n",
    "Total\n",
    "Friend\n",
    "Total\n",
    "Friend\n",
    "Total\n",
    "Friend\n",
    "Total\n",
    "Friend\n",
    "Total\n",
    "Friend\n",
    "Total\n",
    "Friend\n",
    "Total\n",
    "Friend\n",
    "Total\n",
    "Friend\n",
    "Total\n",
    "Friend\n",
    "Total\n",
    "Friend\n",
    "Total\n",
    "Friend\n",
    "Total\n",
    "Friend\n",
    "Total\n",
    "84\n",
    "30\n",
    "49\n",
    "33\n",
    "79\n",
    "61\n",
    "13\n",
    "73\n",
    "1\n",
    "23\n",
    "14\n",
    "22\n",
    "1\n",
    "38\n",
    "82\n",
    "80\n",
    "75\n",
    "45\n",
    "64\n",
    "3\n",
    "19\n",
    "67\n",
    "68\n",
    "40\n",
    "10\n",
    "53\n",
    "37\n",
    "2\n",
    "47\n",
    "75\n",
    "49\n",
    "83\n",
    "63\n",
    "43\n",
    "8\n",
    "70\n",
    "37\n",
    "44\n",
    "41\n",
    "3\n",
    "34\n",
    "36\n",
    "23\n",
    "75\n",
    "13\n",
    "29\n",
    "53\n",
    "11\n",
    "60\n",
    "55\n",
    "22\n",
    "4\n",
    "48\n",
    "44\n",
    "21\n",
    "82\n",
    "69\n",
    "18\n",
    "77\n",
    "64\n",
    "19\n",
    "36\n",
    "61\n",
    "77\n",
    "65\n",
    "69\n",
    "4\n",
    "21\n",
    "78\n",
    "59\n",
    "43\n",
    "32\n",
    "30\n",
    "84\n",
    "70\n",
    "77\n",
    "17\n",
    "28\n",
    "21\n",
    "60\n",
    "67\n",
    "5\n",
    "44\n",
    "12\n",
    "57\n",
    "84\n",
    "62\n",
    "19\n",
    "5\n",
    "83\n",
    "56\n",
    "78\n",
    "18\n",
    "35\n",
    "72\n",
    "33\n",
    "21\n",
    "8\n",
    "54\n",
    "6\n",
    "57\n",
    "46\n",
    "40\n",
    "10\n",
    "61\n",
    "51\n",
    "42\n",
    "51\n",
    "12\n",
    "47\n",
    "52\n",
    "67\n",
    "26\n",
    "23\n",
    "17\n",
    "52\n",
    "3\n",
    "81\n",
    "8\n",
    "68\n",
    "41\n",
    "52\n",
    "83\n",
    "48\n",
    "31\n",
    "62\n",
    "44\n",
    "38\n",
    "1\n",
    "71\n",
    "56\n",
    "33\n",
    "8\n",
    "37\n",
    "24\n",
    "26\n",
    "57\n",
    "20\n",
    "22\n",
    "14\n",
    "51\n",
    "40\n",
    "47\n",
    "20\n",
    "23\n",
    "27\n",
    "20\n",
    "13\n",
    "32\n",
    "78\n",
    "82\n",
    "51\n",
    "77\n",
    "65\n",
    "52\n",
    "5\n",
    "15\n",
    "69\n",
    "69\n",
    "7\n",
    "58\n",
    "20\n",
    "12\n",
    "28\n",
    "31\n",
    "76\n",
    "82\n",
    "64\n",
    "4\n",
    "29"
   ]
  },
  {
   "cell_type": "code",
   "execution_count": null,
   "id": "9b4b1173",
   "metadata": {},
   "outputs": [],
   "source": [
    "with caller_sum  as (\n",
    "select caller , sum(duration) as caller_sum\n",
    "from calls\n",
    "group by caller\n",
    ") ,\n",
    "callee_sum as (\n",
    "select callee, sum(duration) as callee_sum\n",
    "from calls\n",
    "group by callee  \n",
    ") , \n",
    "total_caller as (\n",
    "select phones.name, phones.phone_number , caller_sum.caller_sum\n",
    "from phones\n",
    "left join caller_sum\n",
    "on phones.phone_number = caller_sum.caller\n",
    ") , \n",
    "total_caller_callee as (\n",
    "select total_caller.name, \n",
    "    total_caller.phone_number , \n",
    "    COALESCE(total_caller.caller_sum, 0 ) as caller_total ,\n",
    "    COALESCE ( callee_sum , 0) as callee_total , \n",
    "    ( caller_total + callee_total ) as total\n",
    "from total_caller\n",
    "left join  callee_sum\n",
    "on total_caller.name = callee_sum.callee_sum\n",
    ")\n",
    "\n",
    "select name\n",
    "from total_caller_callee\n",
    "where callee_total >= 10\n",
    "order by name ASC"
   ]
  }
 ],
 "metadata": {
  "kernelspec": {
   "display_name": "Python 3 (ipykernel)",
   "language": "python",
   "name": "python3"
  },
  "language_info": {
   "codemirror_mode": {
    "name": "ipython",
    "version": 3
   },
   "file_extension": ".py",
   "mimetype": "text/x-python",
   "name": "python",
   "nbconvert_exporter": "python",
   "pygments_lexer": "ipython3",
   "version": "3.8.13"
  }
 },
 "nbformat": 4,
 "nbformat_minor": 5
}
