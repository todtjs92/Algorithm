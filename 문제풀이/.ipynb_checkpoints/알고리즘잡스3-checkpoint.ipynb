{
 "cells": [
  {
   "cell_type": "markdown",
   "id": "2a2c92c4",
   "metadata": {},
   "source": [
    "# 문자열 압축"
   ]
  },
  {
   "cell_type": "code",
   "execution_count": null,
   "id": "22db7543",
   "metadata": {},
   "outputs": [],
   "source": [
    "AAABBBBBCCCCDDDDEFFF"
   ]
  },
  {
   "cell_type": "code",
   "execution_count": 35,
   "id": "d4357bb6",
   "metadata": {},
   "outputs": [
    {
     "name": "stdout",
     "output_type": "stream",
     "text": [
      "AAABBBBBCCCCDDDDEFFF\n"
     ]
    }
   ],
   "source": [
    "string = input()\n",
    "temp = ''\n",
    "previous = None\n",
    "now = string[0]\n",
    "result = ''\n",
    "\n",
    "for s in range(len(string)):\n",
    "    now = string[s]\n",
    "    if previous ==None or previous == now:\n",
    "        temp+= now\n",
    "    else:\n",
    "        #  result 에 temp 더하기\n",
    "        if len(temp)== 1:\n",
    "            result += temp\n",
    "        else:\n",
    "            result = result + str(len(temp)) + temp[0]\n",
    "        \n",
    "        \n",
    "        temp = now\n",
    "    previous =now\n",
    "\n",
    "if len(temp)== 1:\n",
    "    result += temp\n",
    "else:\n",
    "    result = result + str(len(temp)) + temp[0]\n",
    "    \n",
    "    "
   ]
  },
  {
   "cell_type": "code",
   "execution_count": 36,
   "id": "ab55b81c",
   "metadata": {},
   "outputs": [
    {
     "data": {
      "text/plain": [
       "'3A5B4C4DE3F'"
      ]
     },
     "execution_count": 36,
     "metadata": {},
     "output_type": "execute_result"
    }
   ],
   "source": [
    "result"
   ]
  },
  {
   "cell_type": "markdown",
   "id": "c82ca0eb",
   "metadata": {},
   "source": [
    "# 재풀이"
   ]
  },
  {
   "cell_type": "code",
   "execution_count": 47,
   "id": "741d2202",
   "metadata": {},
   "outputs": [],
   "source": [
    "string = 'AAABBBBBCCCCDDDDEFFF'"
   ]
  },
  {
   "cell_type": "code",
   "execution_count": 59,
   "id": "6800bb30",
   "metadata": {},
   "outputs": [],
   "source": [
    "string = 'A'"
   ]
  },
  {
   "cell_type": "markdown",
   "id": "0fcf9539",
   "metadata": {},
   "source": [
    "## for 써서풀이"
   ]
  },
  {
   "cell_type": "code",
   "execution_count": 60,
   "id": "c7223b83",
   "metadata": {},
   "outputs": [],
   "source": [
    "previous = ''\n",
    "result= ''\n",
    "count = 0"
   ]
  },
  {
   "cell_type": "code",
   "execution_count": 61,
   "id": "b2af353c",
   "metadata": {},
   "outputs": [],
   "source": [
    "string = 'AAABBBBBCCCCDDDDEFFF'\n",
    "previous = ''\n",
    "result= ''\n",
    "count = 0\n",
    "for s in range(len(string)):\n",
    "    char= string[s]\n",
    "    if char != previous:\n",
    "        if previous != '':\n",
    "            if count ==1:\n",
    "                \n",
    "                result= result  + previous\n",
    "            else:\n",
    "                result= result + str(count) + previous\n",
    "        \n",
    "        count =1\n",
    "    elif char == previous:\n",
    "        count +=1\n",
    "    \n",
    "    \n",
    "    previous = char\n",
    "\n",
    "if count ==1:  \n",
    "    result= result  + previous\n",
    "else:\n",
    "    result= result + str(count) + previous"
   ]
  },
  {
   "cell_type": "code",
   "execution_count": 62,
   "id": "ae5d9bcf",
   "metadata": {},
   "outputs": [
    {
     "data": {
      "text/plain": [
       "'A'"
      ]
     },
     "execution_count": 62,
     "metadata": {},
     "output_type": "execute_result"
    }
   ],
   "source": [
    "result"
   ]
  },
  {
   "cell_type": "code",
   "execution_count": null,
   "id": "b2919624",
   "metadata": {},
   "outputs": [],
   "source": []
  },
  {
   "cell_type": "markdown",
   "id": "009c7bd0",
   "metadata": {},
   "source": [
    "## while 써서 풀이"
   ]
  },
  {
   "cell_type": "code",
   "execution_count": null,
   "id": "e4676d82",
   "metadata": {},
   "outputs": [],
   "source": []
  },
  {
   "cell_type": "code",
   "execution_count": null,
   "id": "9c5930ab",
   "metadata": {},
   "outputs": [],
   "source": []
  },
  {
   "cell_type": "markdown",
   "id": "9fc238d9",
   "metadata": {},
   "source": [
    "# 순열 생성 재귀로"
   ]
  },
  {
   "cell_type": "code",
   "execution_count": 108,
   "id": "07df2145",
   "metadata": {},
   "outputs": [],
   "source": [
    "N =3\n",
    "numbers = [1,2,3,4,5,6,7,8,9]\n",
    "result = [None  for x in range(N)]"
   ]
  },
  {
   "cell_type": "code",
   "execution_count": 109,
   "id": "d1539feb",
   "metadata": {},
   "outputs": [
    {
     "data": {
      "text/plain": [
       "[None, None, None]"
      ]
     },
     "execution_count": 109,
     "metadata": {},
     "output_type": "execute_result"
    }
   ],
   "source": [
    "result"
   ]
  },
  {
   "cell_type": "code",
   "execution_count": 110,
   "id": "2e5c95cf",
   "metadata": {},
   "outputs": [],
   "source": [
    "def Recursive(current ,N,result):\n",
    "    if current >= N:\n",
    "        print(result)\n",
    "        return\n",
    "    else:\n",
    "        for i in numbers:\n",
    "            if i not in result:\n",
    "                result[current] = i\n",
    "                Recursive(current+1,N, result)\n",
    "                "
   ]
  },
  {
   "cell_type": "markdown",
   "id": "e4069d09",
   "metadata": {},
   "source": [
    "# 0부터 N 까지 N부터 0까지"
   ]
  },
  {
   "cell_type": "code",
   "execution_count": 5,
   "id": "590d38c0",
   "metadata": {},
   "outputs": [],
   "source": [
    "def func(N):\n",
    "    def print_low(n):\n",
    "        print(n)\n",
    "        if n == 0:\n",
    "            return\n",
    "        return print_low(n-1)\n",
    "    \n",
    "    def print_high(n):\n",
    "        print(n)\n",
    "        if n== N:\n",
    "            return\n",
    "        return print_high(n+1)\n",
    "    \n",
    "    print_high(0)\n",
    "    print_low(N)"
   ]
  },
  {
   "cell_type": "code",
   "execution_count": 6,
   "id": "f84d7f4f",
   "metadata": {},
   "outputs": [
    {
     "name": "stdout",
     "output_type": "stream",
     "text": [
      "0\n",
      "1\n",
      "2\n",
      "3\n",
      "4\n",
      "5\n",
      "5\n",
      "4\n",
      "3\n",
      "2\n",
      "1\n",
      "0\n"
     ]
    }
   ],
   "source": [
    "func(5)"
   ]
  },
  {
   "cell_type": "markdown",
   "id": "d86b7d1e",
   "metadata": {},
   "source": [
    "# 팩토리얼"
   ]
  },
  {
   "cell_type": "code",
   "execution_count": 114,
   "id": "e1946ae4",
   "metadata": {},
   "outputs": [
    {
     "name": "stdout",
     "output_type": "stream",
     "text": [
      "4\n"
     ]
    }
   ],
   "source": [
    "n= int(input())"
   ]
  },
  {
   "cell_type": "code",
   "execution_count": 116,
   "id": "cbcd8c5b",
   "metadata": {},
   "outputs": [],
   "source": [
    "n= int(input())\n",
    "def recursive(x):\n",
    "    if x ==1:\n",
    "        return 1\n",
    "    \n",
    "    result = x * recursive(x-1)\n",
    "    return result"
   ]
  },
  {
   "cell_type": "code",
   "execution_count": 117,
   "id": "c3ac579a",
   "metadata": {},
   "outputs": [
    {
     "data": {
      "text/plain": [
       "24"
      ]
     },
     "execution_count": 117,
     "metadata": {},
     "output_type": "execute_result"
    }
   ],
   "source": [
    "recursive(n)"
   ]
  },
  {
   "cell_type": "markdown",
   "id": "bc6c50eb",
   "metadata": {},
   "source": [
    "# 순열 구하기"
   ]
  },
  {
   "cell_type": "code",
   "execution_count": null,
   "id": "312c0591",
   "metadata": {},
   "outputs": [],
   "source": [
    "# 1,2,3,4\n",
    "# 12 13 14 21 23 24 31 32 34 41 42 43"
   ]
  },
  {
   "cell_type": "code",
   "execution_count": 7,
   "id": "833d5cb5",
   "metadata": {},
   "outputs": [
    {
     "name": "stdout",
     "output_type": "stream",
     "text": [
      "4 2\n"
     ]
    }
   ],
   "source": [
    "a,b = list(map(int,input().split()))"
   ]
  },
  {
   "cell_type": "code",
   "execution_count": 123,
   "id": "d440da5e",
   "metadata": {},
   "outputs": [],
   "source": [
    "words = []\n",
    "for i in range(a):\n",
    "    words.append(chr(97+i))\n",
    "    "
   ]
  },
  {
   "cell_type": "code",
   "execution_count": 124,
   "id": "5e9f9934",
   "metadata": {},
   "outputs": [
    {
     "data": {
      "text/plain": [
       "['a', 'b', 'c', 'd']"
      ]
     },
     "execution_count": 124,
     "metadata": {},
     "output_type": "execute_result"
    }
   ],
   "source": [
    "words"
   ]
  },
  {
   "cell_type": "code",
   "execution_count": 125,
   "id": "1c4b666f",
   "metadata": {},
   "outputs": [],
   "source": [
    "temp = [None for x in range(b)]"
   ]
  },
  {
   "cell_type": "code",
   "execution_count": 126,
   "id": "65ae2000",
   "metadata": {},
   "outputs": [
    {
     "data": {
      "text/plain": [
       "[None, None]"
      ]
     },
     "execution_count": 126,
     "metadata": {},
     "output_type": "execute_result"
    }
   ],
   "source": [
    "temp"
   ]
  },
  {
   "cell_type": "code",
   "execution_count": 127,
   "id": "4e6e44ab",
   "metadata": {},
   "outputs": [],
   "source": [
    "N =2"
   ]
  },
  {
   "cell_type": "code",
   "execution_count": null,
   "id": "3be0492a",
   "metadata": {},
   "outputs": [],
   "source": [
    "#4 ,2 로 예시\n",
    "# current 가 포인터 역할\n",
    "# 0. 기저조건 = current가 2- 1에 도달\n",
    "# 1. \n",
    "# 1. [ ]"
   ]
  },
  {
   "cell_type": "code",
   "execution_count": 129,
   "id": "037969fa",
   "metadata": {},
   "outputs": [],
   "source": [
    "def recursive(current ,temp):\n",
    "    \n",
    "    "
   ]
  },
  {
   "cell_type": "code",
   "execution_count": 130,
   "id": "207813b4",
   "metadata": {},
   "outputs": [
    {
     "name": "stdout",
     "output_type": "stream",
     "text": [
      "ab\n",
      "ac\n",
      "ad\n",
      "ba\n",
      "bc\n",
      "bd\n",
      "ca\n",
      "cb\n",
      "cd\n"
     ]
    }
   ],
   "source": [
    "recursive(0,temp,N)"
   ]
  },
  {
   "cell_type": "markdown",
   "id": "80206c43",
   "metadata": {},
   "source": [
    "### 재풀이"
   ]
  },
  {
   "cell_type": "code",
   "execution_count": null,
   "id": "aa5b517d",
   "metadata": {},
   "outputs": [],
   "source": [
    "# 1,2,3,4\n",
    "# 12 13 14 21 23 24 31 32 34 41 42 43"
   ]
  },
  {
   "cell_type": "code",
   "execution_count": 22,
   "id": "e0444db1",
   "metadata": {},
   "outputs": [
    {
     "name": "stdout",
     "output_type": "stream",
     "text": [
      "5 3\n"
     ]
    }
   ],
   "source": [
    "a,b = list(map(int,input().split()))"
   ]
  },
  {
   "cell_type": "code",
   "execution_count": 23,
   "id": "05335d1d",
   "metadata": {},
   "outputs": [],
   "source": [
    "temp = [None for x in range(b)]"
   ]
  },
  {
   "cell_type": "code",
   "execution_count": 24,
   "id": "cd42d41a",
   "metadata": {},
   "outputs": [],
   "source": [
    "def func(current,temp):\n",
    "    global b\n",
    "    \n",
    "    if current > b-1:\n",
    "        print(temp)\n",
    "        return\n",
    "    \n",
    "    for i in range(1, a+1):\n",
    "        if i not in temp:\n",
    "            print(temp,'prev')\n",
    "            temp[current] = i\n",
    "            func(current+1,temp) # temp 가 공유되고 있음. 우선 없애주는 테크닉으로 이거 하나 가져가자\n",
    "            temp[current] = 0"
   ]
  },
  {
   "cell_type": "code",
   "execution_count": 1,
   "id": "22e7a110",
   "metadata": {},
   "outputs": [
    {
     "name": "stdout",
     "output_type": "stream",
     "text": [
      "4 2\n"
     ]
    }
   ],
   "source": [
    "a,b = list(map(int,input().split()))"
   ]
  },
  {
   "cell_type": "code",
   "execution_count": 2,
   "id": "fa6e945f",
   "metadata": {},
   "outputs": [],
   "source": [
    "temp = [None for x in range(b)]"
   ]
  },
  {
   "cell_type": "code",
   "execution_count": null,
   "id": "20496920",
   "metadata": {},
   "outputs": [],
   "source": [
    "sudo code\n",
    "def 함수\n",
    "    멈춤조건\n",
    "    \n",
    "    for a 에대하여\n",
    "        if a not in temp:\n",
    "            temp[큐런트] = a\n",
    "            여기에 다시 재귀 함수 current + 1 temp"
   ]
  },
  {
   "cell_type": "code",
   "execution_count": null,
   "id": "8850af16",
   "metadata": {},
   "outputs": [],
   "source": [
    "1. 각 위치에 대하여 1,2,3,4 가 돌음. # for\n",
    "2. 한번 돌고나서 다음에 재귀로 하나 돌음 .\n",
    "3. 2번은 대신 돌때 temp 에 없는 수에 대하여 돌아야함. [1,1] 이런거 안됨\n",
    "4. temp에 꽉찼으면 출력하도록\n",
    "5. current, 넘길때는 temp를 넘기는식으로\n",
    "6. current 하나씪 증가"
   ]
  },
  {
   "cell_type": "code",
   "execution_count": null,
   "id": "28b312fb",
   "metadata": {},
   "outputs": [],
   "source": [
    "def soonyeol(current, temp):\n",
    "    i"
   ]
  },
  {
   "cell_type": "markdown",
   "id": "f125509b",
   "metadata": {},
   "source": [
    "# Combination"
   ]
  },
  {
   "cell_type": "code",
   "execution_count": null,
   "id": "5ffb6413",
   "metadata": {},
   "outputs": [],
   "source": [
    "1 2\n",
    "1 3\n",
    "1 4\n",
    "2 3\n",
    "2 4\n",
    "3 4"
   ]
  },
  {
   "cell_type": "code",
   "execution_count": 26,
   "id": "bb8d9986",
   "metadata": {},
   "outputs": [
    {
     "name": "stdout",
     "output_type": "stream",
     "text": [
      "4 2\n"
     ]
    }
   ],
   "source": [
    "a,b = list(map(int,input().split()))"
   ]
  },
  {
   "cell_type": "code",
   "execution_count": null,
   "id": "00787a20",
   "metadata": {},
   "outputs": [],
   "source": [
    "for 문이 b의 개수만큼 생기게 해주면됨.\n",
    "temp [None , None ]\n",
    "\n",
    "for x in a+1:\n",
    "    x+1 큰대부터 더하기\n",
    "    "
   ]
  },
  {
   "cell_type": "code",
   "execution_count": 9,
   "id": "94d8e15d",
   "metadata": {},
   "outputs": [
    {
     "name": "stdout",
     "output_type": "stream",
     "text": [
      "5 3\n"
     ]
    }
   ],
   "source": [
    "a,b = list(map(int,input().split()))"
   ]
  },
  {
   "cell_type": "code",
   "execution_count": 10,
   "id": "fe69c941",
   "metadata": {},
   "outputs": [],
   "source": [
    "temp = [0 for x in range(b)]"
   ]
  },
  {
   "cell_type": "code",
   "execution_count": 11,
   "id": "d1dd4573",
   "metadata": {},
   "outputs": [],
   "source": [
    "max_ = 0"
   ]
  },
  {
   "cell_type": "code",
   "execution_count": 12,
   "id": "b36009de",
   "metadata": {},
   "outputs": [],
   "source": [
    "def Combination(current,temp,max_):\n",
    "    if current >= b:\n",
    "        print(temp)\n",
    "        return\n",
    "    \n",
    "    for i in range(max_+1, a+1):\n",
    "        temp[current] = i\n",
    "        Combination(current+1, temp,i)\n",
    "     \n",
    "\n"
   ]
  },
  {
   "cell_type": "code",
   "execution_count": 13,
   "id": "c27d32e2",
   "metadata": {},
   "outputs": [
    {
     "name": "stdout",
     "output_type": "stream",
     "text": [
      "[1, 2, 3]\n",
      "[1, 2, 4]\n",
      "[1, 2, 5]\n",
      "[1, 3, 4]\n",
      "[1, 3, 5]\n",
      "[1, 4, 5]\n",
      "[2, 3, 4]\n",
      "[2, 3, 5]\n",
      "[2, 4, 5]\n",
      "[3, 4, 5]\n"
     ]
    }
   ],
   "source": [
    "Combination(0,temp,0)"
   ]
  },
  {
   "cell_type": "markdown",
   "id": "082a1cad",
   "metadata": {},
   "source": [
    "# 다른 방법"
   ]
  },
  {
   "cell_type": "code",
   "execution_count": null,
   "id": "357ec180",
   "metadata": {},
   "outputs": [],
   "source": [
    "def gen_combinations(arr, n):\n",
    "    result =[] \n",
    "\n",
    "    if n == 0: \n",
    "        return [[]]\n",
    "\n",
    "    for i in range(0, len(arr)): \n",
    "        elem = arr[i] \n",
    "        rest_arr = arr[i + 1:] \n",
    "        for C in gen_combinations(rest_arr, n-1): \n",
    "            result.append([elem]+C) \n",
    "              \n",
    "    return result"
   ]
  },
  {
   "cell_type": "markdown",
   "id": "b67376ee",
   "metadata": {},
   "source": [
    "# 부분집합"
   ]
  },
  {
   "cell_type": "code",
   "execution_count": 36,
   "id": "6686e282",
   "metadata": {},
   "outputs": [],
   "source": [
    "all_ = [1,2,3,4]"
   ]
  },
  {
   "cell_type": "code",
   "execution_count": 37,
   "id": "254d56b0",
   "metadata": {},
   "outputs": [],
   "source": [
    "result = []"
   ]
  },
  {
   "cell_type": "code",
   "execution_count": 38,
   "id": "2dd16089",
   "metadata": {},
   "outputs": [
    {
     "name": "stdout",
     "output_type": "stream",
     "text": [
      "4 2\n"
     ]
    }
   ],
   "source": [
    "a,b = list(map(int,input().split()))"
   ]
  },
  {
   "cell_type": "code",
   "execution_count": 39,
   "id": "5b309888",
   "metadata": {},
   "outputs": [
    {
     "data": {
      "text/plain": [
       "[4, 4, 4, 4]"
      ]
     },
     "execution_count": 39,
     "metadata": {},
     "output_type": "execute_result"
    }
   ],
   "source": [
    "temp[::]"
   ]
  },
  {
   "cell_type": "code",
   "execution_count": 40,
   "id": "650b571e",
   "metadata": {},
   "outputs": [],
   "source": [
    "def Combination(current,temp,max_,numbers):\n",
    "    global result\n",
    "    if current >= numbers:\n",
    "        result.append(temp[::])\n",
    "        print(temp)\n",
    "        print(result)\n",
    "        return\n",
    "    \n",
    "    for i in range(max_+1, a+1):\n",
    "        temp[current] = i\n",
    "        Combination(current+1, temp,i,numbers)\n",
    "     "
   ]
  },
  {
   "cell_type": "code",
   "execution_count": 41,
   "id": "b31cdcfe",
   "metadata": {},
   "outputs": [
    {
     "name": "stdout",
     "output_type": "stream",
     "text": [
      "[]\n",
      "[[]]\n",
      "[1]\n",
      "[[], [1]]\n",
      "[2]\n",
      "[[], [1], [2]]\n",
      "[3]\n",
      "[[], [1], [2], [3]]\n",
      "[4]\n",
      "[[], [1], [2], [3], [4]]\n",
      "[1, 2]\n",
      "[[], [1], [2], [3], [4], [1, 2]]\n",
      "[1, 3]\n",
      "[[], [1], [2], [3], [4], [1, 2], [1, 3]]\n",
      "[1, 4]\n",
      "[[], [1], [2], [3], [4], [1, 2], [1, 3], [1, 4]]\n",
      "[2, 3]\n",
      "[[], [1], [2], [3], [4], [1, 2], [1, 3], [1, 4], [2, 3]]\n",
      "[2, 4]\n",
      "[[], [1], [2], [3], [4], [1, 2], [1, 3], [1, 4], [2, 3], [2, 4]]\n",
      "[3, 4]\n",
      "[[], [1], [2], [3], [4], [1, 2], [1, 3], [1, 4], [2, 3], [2, 4], [3, 4]]\n",
      "[1, 2, 3]\n",
      "[[], [1], [2], [3], [4], [1, 2], [1, 3], [1, 4], [2, 3], [2, 4], [3, 4], [1, 2, 3]]\n",
      "[1, 2, 4]\n",
      "[[], [1], [2], [3], [4], [1, 2], [1, 3], [1, 4], [2, 3], [2, 4], [3, 4], [1, 2, 3], [1, 2, 4]]\n",
      "[1, 3, 4]\n",
      "[[], [1], [2], [3], [4], [1, 2], [1, 3], [1, 4], [2, 3], [2, 4], [3, 4], [1, 2, 3], [1, 2, 4], [1, 3, 4]]\n",
      "[2, 3, 4]\n",
      "[[], [1], [2], [3], [4], [1, 2], [1, 3], [1, 4], [2, 3], [2, 4], [3, 4], [1, 2, 3], [1, 2, 4], [1, 3, 4], [2, 3, 4]]\n",
      "[1, 2, 3, 4]\n",
      "[[], [1], [2], [3], [4], [1, 2], [1, 3], [1, 4], [2, 3], [2, 4], [3, 4], [1, 2, 3], [1, 2, 4], [1, 3, 4], [2, 3, 4], [1, 2, 3, 4]]\n"
     ]
    }
   ],
   "source": [
    "for _ in range(len(all_)+1):\n",
    "    temp = [0 for x in range(_)]\n",
    "    temp_list = Combination(0,temp,0,_)\n",
    "    "
   ]
  },
  {
   "cell_type": "code",
   "execution_count": null,
   "id": "a99e873e",
   "metadata": {},
   "outputs": [],
   "source": []
  },
  {
   "cell_type": "code",
   "execution_count": 42,
   "id": "4335f482",
   "metadata": {},
   "outputs": [
    {
     "data": {
      "text/plain": [
       "[[],\n",
       " [1],\n",
       " [2],\n",
       " [3],\n",
       " [4],\n",
       " [1, 2],\n",
       " [1, 3],\n",
       " [1, 4],\n",
       " [2, 3],\n",
       " [2, 4],\n",
       " [3, 4],\n",
       " [1, 2, 3],\n",
       " [1, 2, 4],\n",
       " [1, 3, 4],\n",
       " [2, 3, 4],\n",
       " [1, 2, 3, 4]]"
      ]
     },
     "execution_count": 42,
     "metadata": {},
     "output_type": "execute_result"
    }
   ],
   "source": [
    "result"
   ]
  },
  {
   "cell_type": "code",
   "execution_count": null,
   "id": "53cae5c7",
   "metadata": {},
   "outputs": [],
   "source": []
  },
  {
   "cell_type": "markdown",
   "id": "2795bab4",
   "metadata": {},
   "source": [
    "#  binary"
   ]
  },
  {
   "cell_type": "code",
   "execution_count": 1,
   "id": "d5969110",
   "metadata": {},
   "outputs": [
    {
     "name": "stdout",
     "output_type": "stream",
     "text": [
      "14\n"
     ]
    }
   ],
   "source": [
    "N = int(input())"
   ]
  },
  {
   "cell_type": "code",
   "execution_count": null,
   "id": "845e41f9",
   "metadata": {},
   "outputs": [],
   "source": [
    "25\n",
    "11001\n",
    "25 1\n",
    "12 0\n",
    "6  0\n",
    "3  1\n",
    "1  1\n"
   ]
  },
  {
   "cell_type": "code",
   "execution_count": null,
   "id": "30e24f6f",
   "metadata": {},
   "outputs": [],
   "source": [
    "1110\n",
    "2 14 0\n",
    "2  7 1 \n",
    "2  3 1\n",
    "2  1 1\n",
    "   0"
   ]
  },
  {
   "cell_type": "code",
   "execution_count": 5,
   "id": "898b50ca",
   "metadata": {},
   "outputs": [],
   "source": [
    "temp= ''\n",
    "def recursive(x,temp):\n",
    "    if x  ==0:\n",
    "        print(temp[::-1])\n",
    "        return\n",
    "    \n",
    "    mok  = x//2\n",
    "    namuji =  x%2\n",
    "    temp += str(namuji)\n",
    "    \n",
    "    return recursive(mok,temp)\n",
    "    "
   ]
  },
  {
   "cell_type": "code",
   "execution_count": 6,
   "id": "b245ca1a",
   "metadata": {},
   "outputs": [
    {
     "name": "stdout",
     "output_type": "stream",
     "text": [
      "11001\n"
     ]
    }
   ],
   "source": [
    "recursive(25,'')"
   ]
  },
  {
   "cell_type": "markdown",
   "id": "6fd80e5e",
   "metadata": {},
   "source": [
    "# division"
   ]
  },
  {
   "cell_type": "code",
   "execution_count": 1,
   "id": "4e3af3c6",
   "metadata": {},
   "outputs": [
    {
     "name": "stdout",
     "output_type": "stream",
     "text": [
      "5\n"
     ]
    }
   ],
   "source": [
    "N = int(input())"
   ]
  },
  {
   "cell_type": "code",
   "execution_count": 10,
   "id": "3ed520f3",
   "metadata": {},
   "outputs": [],
   "source": []
  },
  {
   "cell_type": "code",
   "execution_count": null,
   "id": "d2a47887",
   "metadata": {},
   "outputs": [],
   "source": [
    "1. For n in  (N-1,0, -1) -> 4,3,2,1\n",
    "2. temp 에 '4 +' 출력\n",
    "3. 최종 기저조건 에서는 그냥 '3' 출력하고 끝내기\n",
    "4. n을 작게해서, N - 나머지  , i 를 출력했으면 전역으로 박혀있는 N 이건 나머지 뜻하는 상수 .\n",
    "5. 기저조건 - rest"
   ]
  },
  {
   "cell_type": "code",
   "execution_count": null,
   "id": "88dfb9ee",
   "metadata": {},
   "outputs": [],
   "source": [
    "def recursive(cum_sum ,index):\n",
    "    if cum_sum == N:\n",
    "        for i in range(index):\n",
    "            if i <= index-2:\n",
    "                print(result[i],end ='+')\n",
    "            else:\n",
    "                print(result[i], end = '')\n",
    "        print('')\n",
    "        global count\n",
    "        count +=1\n",
    "        \n",
    "    else:\n",
    "        \n",
    "        max_ = 0\n",
    "        if index ==0:\n",
    "            max_ = N-1\n",
    "        else:\n",
    "            max_ = N- cum_sum\n",
    "    \n",
    "        for i in range(max_, 0, -1):\n",
    "            result[index] = i\n",
    "            if index > 0 and result[index-1] < result[index]:\n",
    "                continue\n",
    "            \n",
    "            recursive(cum_sum+i, index+1)"
   ]
  },
  {
   "cell_type": "code",
   "execution_count": null,
   "id": "1e5d165b",
   "metadata": {},
   "outputs": [],
   "source": []
  },
  {
   "cell_type": "markdown",
   "id": "5f832c9a",
   "metadata": {},
   "source": [
    "# color paper"
   ]
  },
  {
   "cell_type": "code",
   "execution_count": null,
   "id": "b2b1baa3",
   "metadata": {},
   "outputs": [],
   "source": []
  },
  {
   "cell_type": "code",
   "execution_count": 52,
   "id": "8f2f2d1f",
   "metadata": {},
   "outputs": [
    {
     "name": "stdout",
     "output_type": "stream",
     "text": [
      "1\n",
      "0 0 101 101\n",
      "10201\n"
     ]
    }
   ],
   "source": [
    "N= int(input())\n",
    "map_ = [[-1 for y in range(101)] for x in range(101)]\n",
    "for _ in range(N):\n",
    "    i , j , d_j , d_i = list(map(int,input().split()))\n",
    "    \n",
    "    for ii in  range(i, i+d_i):\n",
    "        for jj in  range(j,j+d_j):\n",
    "            map_[ii][jj] = _\n",
    "\n",
    "for _ in range(N):\n",
    "    count =  0\n",
    "    for i in range(101):\n",
    "        for j in range(101):\n",
    "            if map_[i][j] ==  _:\n",
    "                count +=1\n",
    "    print(count)"
   ]
  },
  {
   "cell_type": "code",
   "execution_count": null,
   "id": "3d926ad6",
   "metadata": {},
   "outputs": [],
   "source": []
  }
 ],
 "metadata": {
  "kernelspec": {
   "display_name": "Python 3 (ipykernel)",
   "language": "python",
   "name": "python3"
  },
  "language_info": {
   "codemirror_mode": {
    "name": "ipython",
    "version": 3
   },
   "file_extension": ".py",
   "mimetype": "text/x-python",
   "name": "python",
   "nbconvert_exporter": "python",
   "pygments_lexer": "ipython3",
   "version": "3.8.13"
  }
 },
 "nbformat": 4,
 "nbformat_minor": 5
}
