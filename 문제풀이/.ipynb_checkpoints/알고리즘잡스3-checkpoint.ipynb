{
 "cells": [
  {
   "cell_type": "markdown",
   "id": "2a2c92c4",
   "metadata": {},
   "source": [
    "# 문자열 압축"
   ]
  },
  {
   "cell_type": "code",
   "execution_count": null,
   "id": "22db7543",
   "metadata": {},
   "outputs": [],
   "source": [
    "AAABBBBBCCCCDDDDEFFF"
   ]
  },
  {
   "cell_type": "code",
   "execution_count": 35,
   "id": "d4357bb6",
   "metadata": {},
   "outputs": [
    {
     "name": "stdout",
     "output_type": "stream",
     "text": [
      "AAABBBBBCCCCDDDDEFFF\n"
     ]
    }
   ],
   "source": [
    "string = input()\n",
    "temp = ''\n",
    "previous = None\n",
    "now = string[0]\n",
    "result = ''\n",
    "\n",
    "for s in range(len(string)):\n",
    "    now = string[s]\n",
    "    if previous ==None or previous == now:\n",
    "        temp+= now\n",
    "    else:\n",
    "        #  result 에 temp 더하기\n",
    "        if len(temp)== 1:\n",
    "            result += temp\n",
    "        else:\n",
    "            result = result + str(len(temp)) + temp[0]\n",
    "        \n",
    "        \n",
    "        temp = now\n",
    "    previous =now\n",
    "\n",
    "if len(temp)== 1:\n",
    "    result += temp\n",
    "else:\n",
    "    result = result + str(len(temp)) + temp[0]\n",
    "    \n",
    "    "
   ]
  },
  {
   "cell_type": "code",
   "execution_count": 36,
   "id": "ab55b81c",
   "metadata": {},
   "outputs": [
    {
     "data": {
      "text/plain": [
       "'3A5B4C4DE3F'"
      ]
     },
     "execution_count": 36,
     "metadata": {},
     "output_type": "execute_result"
    }
   ],
   "source": [
    "result"
   ]
  },
  {
   "cell_type": "markdown",
   "id": "9fc238d9",
   "metadata": {},
   "source": [
    "# 순열 생성 재귀로"
   ]
  },
  {
   "cell_type": "code",
   "execution_count": 108,
   "id": "07df2145",
   "metadata": {},
   "outputs": [],
   "source": [
    "N =3\n",
    "numbers = [1,2,3,4,5,6,7,8,9]\n",
    "result = [None  for x in range(N)]"
   ]
  },
  {
   "cell_type": "code",
   "execution_count": 109,
   "id": "d1539feb",
   "metadata": {},
   "outputs": [
    {
     "data": {
      "text/plain": [
       "[None, None, None]"
      ]
     },
     "execution_count": 109,
     "metadata": {},
     "output_type": "execute_result"
    }
   ],
   "source": [
    "result"
   ]
  },
  {
   "cell_type": "code",
   "execution_count": 110,
   "id": "2e5c95cf",
   "metadata": {},
   "outputs": [],
   "source": [
    "def Recursive(current ,N,result):\n",
    "    if current >= N:\n",
    "        print(result)\n",
    "        return\n",
    "    else:\n",
    "        for i in numbers:\n",
    "            if i not in result:\n",
    "                result[current] = i\n",
    "                Recursive(current+1,N, result)\n",
    "                "
   ]
  },
  {
   "cell_type": "markdown",
   "id": "d86b7d1e",
   "metadata": {},
   "source": [
    "# 팩토리얼"
   ]
  },
  {
   "cell_type": "code",
   "execution_count": 114,
   "id": "e1946ae4",
   "metadata": {},
   "outputs": [
    {
     "name": "stdout",
     "output_type": "stream",
     "text": [
      "4\n"
     ]
    }
   ],
   "source": [
    "n= int(input())"
   ]
  },
  {
   "cell_type": "code",
   "execution_count": 116,
   "id": "cbcd8c5b",
   "metadata": {},
   "outputs": [],
   "source": [
    "n= int(input())\n",
    "def recursive(x):\n",
    "    if x ==1:\n",
    "        return 1\n",
    "    \n",
    "    result = x * recursive(x-1)\n",
    "    return result"
   ]
  },
  {
   "cell_type": "code",
   "execution_count": 117,
   "id": "c3ac579a",
   "metadata": {},
   "outputs": [
    {
     "data": {
      "text/plain": [
       "24"
      ]
     },
     "execution_count": 117,
     "metadata": {},
     "output_type": "execute_result"
    }
   ],
   "source": [
    "recursive(n)"
   ]
  },
  {
   "cell_type": "markdown",
   "id": "bc6c50eb",
   "metadata": {},
   "source": [
    "# 순열 구하기"
   ]
  },
  {
   "cell_type": "code",
   "execution_count": 121,
   "id": "833d5cb5",
   "metadata": {},
   "outputs": [
    {
     "name": "stdout",
     "output_type": "stream",
     "text": [
      "4 2\n"
     ]
    }
   ],
   "source": [
    "a,b = list(map(int,input().split()))"
   ]
  },
  {
   "cell_type": "code",
   "execution_count": 123,
   "id": "d440da5e",
   "metadata": {},
   "outputs": [],
   "source": [
    "words = []\n",
    "for i in range(a):\n",
    "    words.append(chr(97+i))\n",
    "    "
   ]
  },
  {
   "cell_type": "code",
   "execution_count": 124,
   "id": "5e9f9934",
   "metadata": {},
   "outputs": [
    {
     "data": {
      "text/plain": [
       "['a', 'b', 'c', 'd']"
      ]
     },
     "execution_count": 124,
     "metadata": {},
     "output_type": "execute_result"
    }
   ],
   "source": [
    "words"
   ]
  },
  {
   "cell_type": "code",
   "execution_count": 125,
   "id": "1c4b666f",
   "metadata": {},
   "outputs": [],
   "source": [
    "temp = [None for x in range(b)]"
   ]
  },
  {
   "cell_type": "code",
   "execution_count": 126,
   "id": "65ae2000",
   "metadata": {},
   "outputs": [
    {
     "data": {
      "text/plain": [
       "[None, None]"
      ]
     },
     "execution_count": 126,
     "metadata": {},
     "output_type": "execute_result"
    }
   ],
   "source": [
    "temp"
   ]
  },
  {
   "cell_type": "code",
   "execution_count": 127,
   "id": "4e6e44ab",
   "metadata": {},
   "outputs": [],
   "source": [
    "N =2"
   ]
  },
  {
   "cell_type": "code",
   "execution_count": 129,
   "id": "037969fa",
   "metadata": {},
   "outputs": [],
   "source": [
    "def recursive(current ,temp , N ):\n",
    "    \n",
    "    if current >= N:\n",
    "        result = ''.join(temp)\n",
    "        print(result)\n",
    "        return\n",
    "\n",
    "    else:\n",
    "        for i in words:\n",
    "            if i not in temp:\n",
    "                temp[current] =  i\n",
    "                recursive(current+1,temp,N)"
   ]
  },
  {
   "cell_type": "code",
   "execution_count": 130,
   "id": "207813b4",
   "metadata": {},
   "outputs": [
    {
     "name": "stdout",
     "output_type": "stream",
     "text": [
      "ab\n",
      "ac\n",
      "ad\n",
      "ba\n",
      "bc\n",
      "bd\n",
      "ca\n",
      "cb\n",
      "cd\n"
     ]
    }
   ],
   "source": [
    "recursive(0,temp,N)"
   ]
  },
  {
   "cell_type": "markdown",
   "id": "2795bab4",
   "metadata": {},
   "source": [
    "#  binary"
   ]
  },
  {
   "cell_type": "code",
   "execution_count": 1,
   "id": "d5969110",
   "metadata": {},
   "outputs": [
    {
     "name": "stdout",
     "output_type": "stream",
     "text": [
      "14\n"
     ]
    }
   ],
   "source": [
    "N = int(input())"
   ]
  },
  {
   "cell_type": "code",
   "execution_count": null,
   "id": "63e83548",
   "metadata": {},
   "outputs": [],
   "source": [
    "1"
   ]
  },
  {
   "cell_type": "code",
   "execution_count": null,
   "id": "f05032f9",
   "metadata": {},
   "outputs": [],
   "source": [
    "14 \n",
    "7  1\n",
    "3  1\n",
    "1  1\n",
    "0  0\n",
    "# 몪을 ㄴ ㅓㅁ겨주고"
   ]
  },
  {
   "cell_type": "code",
   "execution_count": 3,
   "id": "8417d0d2",
   "metadata": {},
   "outputs": [
    {
     "data": {
      "text/plain": [
       "2"
      ]
     },
     "execution_count": 3,
     "metadata": {},
     "output_type": "execute_result"
    }
   ],
   "source": [
    "9//4"
   ]
  },
  {
   "cell_type": "code",
   "execution_count": 8,
   "id": "63b6528b",
   "metadata": {},
   "outputs": [],
   "source": [
    "def recursive(x,temp):\n",
    "    if x %2 == 1 and x//2 ==0:\n",
    "        print(temp)\n",
    "        return\n",
    "    if x %2 ==0:\n",
    "        temp+=str(1)\n",
    "    \n",
    "    if \n",
    "   \n",
    "    \n",
    "    return recursive(x//2,temp)"
   ]
  },
  {
   "cell_type": "code",
   "execution_count": 12,
   "id": "58271fec",
   "metadata": {},
   "outputs": [
    {
     "name": "stdout",
     "output_type": "stream",
     "text": [
      "110\n"
     ]
    }
   ],
   "source": [
    "recursive(4,'')"
   ]
  },
  {
   "cell_type": "code",
   "execution_count": null,
   "id": "b7cf7fda",
   "metadata": {},
   "outputs": [],
   "source": []
  },
  {
   "cell_type": "code",
   "execution_count": null,
   "id": "f2f17029",
   "metadata": {},
   "outputs": [],
   "source": []
  },
  {
   "cell_type": "code",
   "execution_count": null,
   "id": "c53a505a",
   "metadata": {},
   "outputs": [],
   "source": []
  }
 ],
 "metadata": {
  "kernelspec": {
   "display_name": "Python 3 (ipykernel)",
   "language": "python",
   "name": "python3"
  },
  "language_info": {
   "codemirror_mode": {
    "name": "ipython",
    "version": 3
   },
   "file_extension": ".py",
   "mimetype": "text/x-python",
   "name": "python",
   "nbconvert_exporter": "python",
   "pygments_lexer": "ipython3",
   "version": "3.9.7"
  }
 },
 "nbformat": 4,
 "nbformat_minor": 5
}
