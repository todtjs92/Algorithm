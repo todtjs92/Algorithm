{
 "cells": [
  {
   "cell_type": "code",
   "execution_count": 4,
   "id": "fb117746",
   "metadata": {},
   "outputs": [],
   "source": [
    "import re"
   ]
  },
  {
   "cell_type": "code",
   "execution_count": null,
   "id": "34c0d735",
   "metadata": {},
   "outputs": [],
   "source": [
    "def solution(str1, str2):\n",
    "    "
   ]
  },
  {
   "cell_type": "markdown",
   "id": "99d9f2b7",
   "metadata": {},
   "source": [
    "aa1+aa2 "
   ]
  },
  {
   "cell_type": "code",
   "execution_count": null,
   "id": "f4c20fd4",
   "metadata": {},
   "outputs": [],
   "source": [
    "AAAA12"
   ]
  },
  {
   "cell_type": "code",
   "execution_count": null,
   "id": "08d4d7e8",
   "metadata": {},
   "outputs": [],
   "source": [
    "aa aa "
   ]
  },
  {
   "cell_type": "code",
   "execution_count": null,
   "id": "5cbaec0a",
   "metadata": {},
   "outputs": [],
   "source": [
    "aa aa aa "
   ]
  },
  {
   "cell_type": "code",
   "execution_count": null,
   "id": "dddd2d56",
   "metadata": {},
   "outputs": [],
   "source": []
  },
  {
   "cell_type": "code",
   "execution_count": null,
   "id": "dac7366e",
   "metadata": {},
   "outputs": [],
   "source": []
  },
  {
   "cell_type": "code",
   "execution_count": null,
   "id": "79d17b68",
   "metadata": {},
   "outputs": [],
   "source": []
  },
  {
   "cell_type": "code",
   "execution_count": null,
   "id": "93baaa1c",
   "metadata": {},
   "outputs": [],
   "source": [
    "handshake"
   ]
  },
  {
   "cell_type": "code",
   "execution_count": null,
   "id": "a14f456a",
   "metadata": {},
   "outputs": [],
   "source": [
    "shake hands"
   ]
  },
  {
   "cell_type": "code",
   "execution_count": null,
   "id": "55003f55",
   "metadata": {},
   "outputs": [],
   "source": []
  },
  {
   "cell_type": "code",
   "execution_count": 3,
   "id": "0d689584",
   "metadata": {},
   "outputs": [
    {
     "data": {
      "text/plain": [
       "43690.666666666664"
      ]
     },
     "execution_count": 3,
     "metadata": {},
     "output_type": "execute_result"
    }
   ],
   "source": [
    "65536 * 2/3"
   ]
  },
  {
   "cell_type": "code",
   "execution_count": 2,
   "id": "ab999e9d",
   "metadata": {},
   "outputs": [
    {
     "data": {
      "text/plain": [
       "0.666656494140625"
      ]
     },
     "execution_count": 2,
     "metadata": {},
     "output_type": "execute_result"
    }
   ],
   "source": [
    "43690 /65536"
   ]
  },
  {
   "cell_type": "code",
   "execution_count": null,
   "id": "bd5d5a1a",
   "metadata": {},
   "outputs": [],
   "source": []
  }
 ],
 "metadata": {
  "kernelspec": {
   "display_name": "Python 3 (ipykernel)",
   "language": "python",
   "name": "python3"
  },
  "language_info": {
   "codemirror_mode": {
    "name": "ipython",
    "version": 3
   },
   "file_extension": ".py",
   "mimetype": "text/x-python",
   "name": "python",
   "nbconvert_exporter": "python",
   "pygments_lexer": "ipython3",
   "version": "3.8.13"
  }
 },
 "nbformat": 4,
 "nbformat_minor": 5
}
