{
 "cells": [
  {
   "cell_type": "markdown",
   "id": "6f86c4e9",
   "metadata": {},
   "source": [
    "### 공통조상찾기"
   ]
  },
  {
   "cell_type": "code",
   "execution_count": null,
   "id": "bfca01fb",
   "metadata": {},
   "outputs": [],
   "source": [
    "11 7 10\n",
    "0 1\n",
    "0 2\n",
    "1 3\n",
    "1 4\n",
    "1 5\n",
    "2 6\n",
    "2 10\n",
    "6 7\n",
    "6 8\n",
    "6 9"
   ]
  },
  {
   "cell_type": "code",
   "execution_count": null,
   "id": "0e25a08d",
   "metadata": {},
   "outputs": [],
   "source": [
    "# 1. 트리부터 만들고 \n",
    "# 2. 조상각자 리스트같은데다 놔두고\n",
    "# 3. 두개 다있는애중에 가장리스트 앞에 있는애 고르면될듯?? \n",
    "# 4. 비교할때는 dict, set에 거리 넣두면 될듯?? "
   ]
  },
  {
   "cell_type": "code",
   "execution_count": 36,
   "id": "baf61879",
   "metadata": {},
   "outputs": [
    {
     "name": "stdout",
     "output_type": "stream",
     "text": [
      "11 7 10\n",
      "0 1\n",
      "0 2\n",
      "1 3\n",
      "1 4\n",
      "1 5\n",
      "2 6\n",
      "2 10\n",
      "6 7\n",
      "6 8\n",
      "6 9\n",
      "2\n"
     ]
    }
   ],
   "source": [
    "tree = {}\n",
    "num_nodes , target_a , target_b = list(map(int,input().split()))\n",
    "for _ in range(num_nodes-1):\n",
    "    a,b = list(map(int,input().split()))\n",
    "    tree[b] = a\n",
    "result_dict_a = {}\n",
    "root = target_a\n",
    "result_dict_a[root] = 0\n",
    "count = 1\n",
    "while root != 0:\n",
    "    root = tree[root]\n",
    "    result_dict_a[root] = count\n",
    "    count += 1\n",
    "result_dict_b = {}\n",
    "root = target_b\n",
    "result_dict_b[root] = 0\n",
    "count = 1\n",
    "while root != 0:\n",
    "    root = tree[root]\n",
    "    result_dict_b[root] = count\n",
    "    count += 1\n",
    "\n",
    "gyo_zip = set(result_dict_a.keys()) & set(result_dict_b.keys())\n",
    "min_ = 10000\n",
    "answer =0\n",
    "for i in gyo_zip:\n",
    "    if  result_dict_b[i] < min_:\n",
    "        min_ = result_dict_b[i]\n",
    "        answer = i\n",
    "\n",
    "print(answer)"
   ]
  },
  {
   "cell_type": "code",
   "execution_count": 6,
   "id": "dca72291",
   "metadata": {},
   "outputs": [],
   "source": [
    "tree = {}"
   ]
  },
  {
   "cell_type": "code",
   "execution_count": 7,
   "id": "8d501971",
   "metadata": {},
   "outputs": [
    {
     "name": "stdout",
     "output_type": "stream",
     "text": [
      "11 7 10\n",
      "0 1\n",
      "0 2\n",
      "1 3\n",
      "1 4\n",
      "1 5\n",
      "2 6\n",
      "2 10\n",
      "6 7\n",
      "6 8\n",
      "6 9\n"
     ]
    }
   ],
   "source": [
    "num_nodes , target_a , target_b = list(map(int,input().split()))\n",
    "for _ in range(num_nodes-1):\n",
    "    a,b = list(map(int,input().split()))\n",
    "    tree[b] = a"
   ]
  },
  {
   "cell_type": "code",
   "execution_count": 18,
   "id": "f920a460",
   "metadata": {},
   "outputs": [],
   "source": [
    "result_dict_a = {}"
   ]
  },
  {
   "cell_type": "code",
   "execution_count": 19,
   "id": "2a7ddf86",
   "metadata": {},
   "outputs": [],
   "source": [
    "root = target_a"
   ]
  },
  {
   "cell_type": "code",
   "execution_count": 20,
   "id": "b6cad94f",
   "metadata": {},
   "outputs": [],
   "source": [
    "count = 0 \n",
    "while root != 0:\n",
    "    root = tree[root]\n",
    "    result_dict_a[root] = count\n",
    "    count += 1"
   ]
  },
  {
   "cell_type": "code",
   "execution_count": 22,
   "id": "dfcc0b8e",
   "metadata": {},
   "outputs": [
    {
     "data": {
      "text/plain": [
       "{6: 0, 2: 1, 0: 2}"
      ]
     },
     "execution_count": 22,
     "metadata": {},
     "output_type": "execute_result"
    }
   ],
   "source": [
    "result_dict_a"
   ]
  },
  {
   "cell_type": "code",
   "execution_count": 24,
   "id": "3f4635ae",
   "metadata": {},
   "outputs": [],
   "source": [
    "result_dict_b = {}"
   ]
  },
  {
   "cell_type": "code",
   "execution_count": 25,
   "id": "b2d5ba03",
   "metadata": {},
   "outputs": [],
   "source": [
    "root = target_b"
   ]
  },
  {
   "cell_type": "code",
   "execution_count": 26,
   "id": "75a5a660",
   "metadata": {},
   "outputs": [],
   "source": [
    "count = 0 \n",
    "while root != 0:\n",
    "    root = tree[root]\n",
    "    result_dict_b[root] = count\n",
    "    count += 1"
   ]
  },
  {
   "cell_type": "code",
   "execution_count": 27,
   "id": "1e6c6c63",
   "metadata": {},
   "outputs": [
    {
     "data": {
      "text/plain": [
       "{2: 0, 0: 1}"
      ]
     },
     "execution_count": 27,
     "metadata": {},
     "output_type": "execute_result"
    }
   ],
   "source": [
    "result_dict_b"
   ]
  },
  {
   "cell_type": "code",
   "execution_count": 29,
   "id": "491d868e",
   "metadata": {},
   "outputs": [],
   "source": [
    "gyo_zip = set(result_dict_a.keys()) & set(result_dict_b.keys())"
   ]
  },
  {
   "cell_type": "code",
   "execution_count": 34,
   "id": "5ddcd137",
   "metadata": {},
   "outputs": [],
   "source": [
    "min_ = 10000\n",
    "answer =0\n",
    "for i in gyo_zip:\n",
    "    if  result_dict_b[i] < min_:\n",
    "        min_ = result_dict_b[i]\n",
    "        answer = i\n",
    "        "
   ]
  },
  {
   "cell_type": "code",
   "execution_count": 35,
   "id": "62b31ac6",
   "metadata": {},
   "outputs": [
    {
     "data": {
      "text/plain": [
       "2"
      ]
     },
     "execution_count": 35,
     "metadata": {},
     "output_type": "execute_result"
    }
   ],
   "source": [
    "answer"
   ]
  },
  {
   "cell_type": "code",
   "execution_count": 33,
   "id": "8fe01a54",
   "metadata": {},
   "outputs": [
    {
     "data": {
      "text/plain": [
       "{0, 2}"
      ]
     },
     "execution_count": 33,
     "metadata": {},
     "output_type": "execute_result"
    }
   ],
   "source": [
    "gyo_zip"
   ]
  },
  {
   "cell_type": "markdown",
   "id": "764b8e7a",
   "metadata": {},
   "source": [
    "### 트리 높이"
   ]
  },
  {
   "cell_type": "markdown",
   "id": "aaf550ce",
   "metadata": {},
   "source": [
    "### dsf 풀ㅇ리"
   ]
  },
  {
   "cell_type": "code",
   "execution_count": null,
   "id": "d02a2e69",
   "metadata": {},
   "outputs": [],
   "source": [
    "8 0\n",
    "0 1\n",
    "0 2\n",
    "1 3\n",
    "1 4\n",
    "1 5\n",
    "2 6\n",
    "6 7"
   ]
  },
  {
   "cell_type": "code",
   "execution_count": null,
   "id": "64ab1683",
   "metadata": {},
   "outputs": [],
   "source": [
    "num_nodes , root = list(map(int,input().split()))\n",
    "tree = {}\n",
    "\n",
    "for _ in range(num_nodes-1):\n",
    "    a,b = list(map(int,input().split()))\n",
    "    if a not in tree:\n",
    "        tree[a] = [b]\n",
    "    else:\n",
    "        tree[a].append(b)\n",
    "check = [0 for x in range(num_nodes)]\n",
    "\n",
    "stack = []\n",
    "stack.append(root)\n",
    "while stack:\n",
    "    loc = stack.pop(-1)\n",
    "    if loc in tree:\n",
    "        next_list = tree[loc]\n",
    "    else:\n",
    "        continue\n",
    "    for next_loc in next_list:\n",
    "        if check[next_loc] == 0:\n",
    "            check[next_loc] = check[loc] + 1\n",
    "            stack.append(next_loc)\n",
    "print(max(check))  "
   ]
  },
  {
   "cell_type": "code",
   "execution_count": 37,
   "id": "ed8daa9e",
   "metadata": {},
   "outputs": [
    {
     "name": "stdout",
     "output_type": "stream",
     "text": [
      "8 0\n"
     ]
    }
   ],
   "source": [
    "num_nodes , root = list(map(int,input().split()))"
   ]
  },
  {
   "cell_type": "code",
   "execution_count": null,
   "id": "fad2fd4c",
   "metadata": {},
   "outputs": [],
   "source": [
    "tree = {}"
   ]
  },
  {
   "cell_type": "code",
   "execution_count": 42,
   "id": "ea99bd36",
   "metadata": {},
   "outputs": [
    {
     "name": "stdout",
     "output_type": "stream",
     "text": [
      "0 1\n",
      "0 2\n",
      "1 3\n",
      "1 4\n",
      "1 5\n",
      "2 6\n",
      "6 7\n"
     ]
    }
   ],
   "source": [
    "for _ in range(num_nodes-1):\n",
    "    a,b = list(map(int,input().split()))\n",
    "    if a not in tree:\n",
    "        tree[a] = [b]\n",
    "    else:\n",
    "        tree[a].append(b)\n",
    "        \n",
    "    \n",
    "    "
   ]
  },
  {
   "cell_type": "code",
   "execution_count": 51,
   "id": "0ec5b9ed",
   "metadata": {},
   "outputs": [],
   "source": [
    "check = [0 for x in range(num_nodes)]"
   ]
  },
  {
   "cell_type": "code",
   "execution_count": 52,
   "id": "92da0a7f",
   "metadata": {},
   "outputs": [
    {
     "data": {
      "text/plain": [
       "[0, 0, 0, 0, 0, 0, 0, 0]"
      ]
     },
     "execution_count": 52,
     "metadata": {},
     "output_type": "execute_result"
    }
   ],
   "source": [
    "check"
   ]
  },
  {
   "cell_type": "code",
   "execution_count": 53,
   "id": "a7df16e9",
   "metadata": {},
   "outputs": [],
   "source": [
    "# 0부터 스택에 넣어둠 . \n",
    "# 갈수있는지를 체크에 0이면 갈수있는 리스트에 넣어둠 . 이미 0이면 안넣음 . \n",
    "# 현재위치 체크에서 찾아가지고 +1 한값으로 갈떄 업데이트 침. "
   ]
  },
  {
   "cell_type": "code",
   "execution_count": 54,
   "id": "fb95db59",
   "metadata": {},
   "outputs": [
    {
     "data": {
      "text/plain": [
       "{0: [1, 2], 1: [3, 4, 5], 2: [6], 6: [7]}"
      ]
     },
     "execution_count": 54,
     "metadata": {},
     "output_type": "execute_result"
    }
   ],
   "source": [
    "tree"
   ]
  },
  {
   "cell_type": "code",
   "execution_count": 55,
   "id": "de8947c6",
   "metadata": {},
   "outputs": [],
   "source": [
    "stack = []\n",
    "stack.append(root)"
   ]
  },
  {
   "cell_type": "code",
   "execution_count": 56,
   "id": "5120e1a5",
   "metadata": {},
   "outputs": [
    {
     "data": {
      "text/plain": [
       "[0]"
      ]
     },
     "execution_count": 56,
     "metadata": {},
     "output_type": "execute_result"
    }
   ],
   "source": [
    "stack"
   ]
  },
  {
   "cell_type": "code",
   "execution_count": 57,
   "id": "36992921",
   "metadata": {},
   "outputs": [],
   "source": [
    "while stack:\n",
    "    loc = stack.pop(-1)\n",
    "    if loc in tree:\n",
    "        next_list = tree[loc]\n",
    "    else:\n",
    "        continue\n",
    "    for next_loc in next_list:\n",
    "        if check[next_loc] == 0:\n",
    "            check[next_loc] = check[loc] + 1\n",
    "            stack.append(next_loc)\n",
    "print(max(check))            \n",
    "        "
   ]
  },
  {
   "cell_type": "code",
   "execution_count": 58,
   "id": "5b1d2d42",
   "metadata": {},
   "outputs": [
    {
     "data": {
      "text/plain": [
       "[0, 1, 1, 2, 2, 2, 2, 3]"
      ]
     },
     "execution_count": 58,
     "metadata": {},
     "output_type": "execute_result"
    }
   ],
   "source": [
    "print(max(check))"
   ]
  },
  {
   "cell_type": "code",
   "execution_count": null,
   "id": "a8a24945",
   "metadata": {},
   "outputs": [],
   "source": []
  },
  {
   "cell_type": "code",
   "execution_count": null,
   "id": "c80ee043",
   "metadata": {},
   "outputs": [],
   "source": [
    "from collections import defaultdict\n",
    "\n",
    "numbers_of_nodes , root_node = list(map(int , input().split() ))\n",
    "map_ = defaultdict(dict)\n",
    "for _ in range(numbers_of_nodes-1):\n",
    "    up, down  = list( map(int , input().split() ))\n",
    "    if up not in map_:\n",
    "        map_[up] = []\n",
    "    if down not in map_:\n",
    "        map_[down] = []\n",
    "    map_[down].append(up)\n",
    "    map_[up].append(down)\n",
    "    \n",
    "visited = [False for _ in range(numbers_of_nodes)]\n",
    "max_=  0\n",
    "\n",
    "\n",
    "def dfs(count ,  q):\n",
    "    global max_\n",
    "    while q:\n",
    "        go = q.pop()\n",
    "        if visited[go] ==True:\n",
    "            continue\n",
    "        visited[go] = True\n",
    "        dfs(count+1, map_[go])\n",
    "    max_ = max(max_,count)\n",
    "\n",
    "dfs(0, [root_node])\n",
    "print(max_-1)"
   ]
  },
  {
   "cell_type": "code",
   "execution_count": null,
   "id": "698d5fd1",
   "metadata": {},
   "outputs": [],
   "source": []
  }
 ],
 "metadata": {
  "kernelspec": {
   "display_name": "Python 3 (ipykernel)",
   "language": "python",
   "name": "python3"
  },
  "language_info": {
   "codemirror_mode": {
    "name": "ipython",
    "version": 3
   },
   "file_extension": ".py",
   "mimetype": "text/x-python",
   "name": "python",
   "nbconvert_exporter": "python",
   "pygments_lexer": "ipython3",
   "version": "3.8.13"
  }
 },
 "nbformat": 4,
 "nbformat_minor": 5
}
