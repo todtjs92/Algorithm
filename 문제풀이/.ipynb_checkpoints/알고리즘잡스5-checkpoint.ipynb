{
 "cells": [
  {
   "cell_type": "markdown",
   "id": "754eb6c5",
   "metadata": {},
   "source": [
    "# 트리의 높이"
   ]
  },
  {
   "cell_type": "code",
   "execution_count": null,
   "id": "6c5ef274",
   "metadata": {},
   "outputs": [],
   "source": [
    "8 0\n",
    "0 1\n",
    "0 2\n",
    "1 3\n",
    "1 4\n",
    "1 5\n",
    "6 2\n",
    "6 7"
   ]
  },
  {
   "cell_type": "code",
   "execution_count": 4,
   "id": "9947687b",
   "metadata": {},
   "outputs": [
    {
     "name": "stdout",
     "output_type": "stream",
     "text": [
      "8 0\n",
      "0 1\n",
      "0 2\n",
      "1 3\n",
      "1 4\n",
      "1 5\n",
      "6 2\n",
      "6 7\n"
     ]
    }
   ],
   "source": [
    "from collections import defaultdict\n",
    "\n",
    "numbers_of_nodes , root_node = list(map(int , input().split() ))\n",
    "map_ = defaultdict(dict)\n",
    "for _ in range(numbers_of_nodes-1):\n",
    "    up, down  = list( map(int , input().split() ))\n",
    "    if up not in map_:\n",
    "        map_[up] = []\n",
    "    if down not in map_:\n",
    "        map_[down] = []\n",
    "    map_[down].append(up)\n",
    "    map_[up].append(down)"
   ]
  },
  {
   "cell_type": "code",
   "execution_count": 5,
   "id": "c5db7dc7",
   "metadata": {},
   "outputs": [
    {
     "name": "stdout",
     "output_type": "stream",
     "text": [
      "3\n"
     ]
    }
   ],
   "source": [
    "from collections import defaultdict\n",
    "\n",
    "numbers_of_nodes , root_node = list(map(int , input().split() ))\n",
    "map_ = defaultdict(dict)\n",
    "for _ in range(numbers_of_nodes-1):\n",
    "    up, down  = list( map(int , input().split() ))\n",
    "    if up not in map_:\n",
    "        map_[up] = []\n",
    "    if down not in map_:\n",
    "        map_[down] = []\n",
    "    map_[down].append(up)\n",
    "    map_[up].append(down)\n",
    "    \n",
    "visited = [False for _ in range(numbers_of_nodes)]\n",
    "max_=  0\n",
    "\n",
    "\n",
    "def dfs(count ,  q):\n",
    "    global max_\n",
    "    while q:\n",
    "        go = q.pop()\n",
    "        if visited[go] ==True:\n",
    "            continue\n",
    "        visited[go] = True\n",
    "        dfs(count+1, map_[go])\n",
    "    max_ = max(max_,count)\n",
    "\n",
    "dfs(0, [root_node])\n",
    "print(max_-1)"
   ]
  },
  {
   "cell_type": "code",
   "execution_count": null,
   "id": "bf0da8b6",
   "metadata": {},
   "outputs": [],
   "source": []
  },
  {
   "cell_type": "code",
   "execution_count": null,
   "id": "d148bd9b",
   "metadata": {},
   "outputs": [],
   "source": [
    "def dfs(count , x, q):\n",
    "    global max_\n",
    "    if map_[x]['down']==[]:\n",
    "        max_ = max(max_,count)\n",
    "        return\n",
    "    while q:\n",
    "        go = q.pop()\n",
    "        dfs(count+1, go, map_[go]['down'])\n",
    "             "
   ]
  },
  {
   "cell_type": "markdown",
   "id": "d428294b",
   "metadata": {},
   "source": []
  },
  {
   "cell_type": "markdown",
   "id": "14e1e9dd",
   "metadata": {},
   "source": [
    "### 트리 거리"
   ]
  },
  {
   "cell_type": "code",
   "execution_count": null,
   "id": "3c390f1a",
   "metadata": {},
   "outputs": [],
   "source": [
    "# 1 트리만들기 부터\n",
    "# 2 같은 조상 만나면 분기 \n",
    "# [1,3]\n",
    "# [3,5]\n",
    "# [3,10]\n",
    "# 스몰트리 . #근데 이건 상관없곘따. "
   ]
  },
  {
   "cell_type": "code",
   "execution_count": 42,
   "id": "2a49d01e",
   "metadata": {},
   "outputs": [
    {
     "name": "stdout",
     "output_type": "stream",
     "text": [
      "2 0 1\n",
      "0 1\n",
      "1\n"
     ]
    }
   ],
   "source": [
    "from collections import defaultdict\n",
    "\n",
    "numbers_of_nodes , node_a ,node_b = list(map(int , input().split() ))\n",
    "a,b = node_a , node_b\n",
    "map_ = defaultdict(int)\n",
    "for _ in range(numbers_of_nodes-1):\n",
    "    up, down  = list( map(int , input().split() ))\n",
    "    if up not in map_:\n",
    "        map_[up] = -1\n",
    "    if down not in map_:\n",
    "        map_[down] = -1\n",
    "    map_[down] = up\n",
    "ancestor_a = [node_a]\n",
    "ancestor_b = [node_b]\n",
    "x = node_a\n",
    "while map_[x] != -1:\n",
    "    \n",
    "    x = map_[x]\n",
    "    ancestor_a.append(x)\n",
    "    \n",
    "x = node_b\n",
    "while map_[x] != -1:\n",
    "    \n",
    "    x = map_[x]\n",
    "    ancestor_b.append(x)\n",
    "\n",
    "common = list(set(ancestor_a) & set(ancestor_b))\n",
    "min_ = len(ancestor_a)\n",
    "for i in common:\n",
    "    loc = ancestor_a.index(i)\n",
    "    min_ = min(min_ , loc)\n",
    "near_ancestor = ancestor_a[min_]\n",
    "count_a = 0\n",
    "while node_a != near_ancestor: \n",
    "    node_a = map_[node_a]\n",
    "    count_a+=1\n",
    "    \n",
    "count_b = 0\n",
    "while node_b != common_ancestor: \n",
    "    node_b = map_[node_b]\n",
    "    count_b+=1\n",
    "    \n",
    "print(count_a + count_b)"
   ]
  }
 ],
 "metadata": {
  "kernelspec": {
   "display_name": "Python 3 (ipykernel)",
   "language": "python",
   "name": "python3"
  },
  "language_info": {
   "codemirror_mode": {
    "name": "ipython",
    "version": 3
   },
   "file_extension": ".py",
   "mimetype": "text/x-python",
   "name": "python",
   "nbconvert_exporter": "python",
   "pygments_lexer": "ipython3",
   "version": "3.8.13"
  }
 },
 "nbformat": 4,
 "nbformat_minor": 5
}
