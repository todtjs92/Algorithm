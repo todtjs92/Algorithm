{
 "cells": [
  {
   "cell_type": "markdown",
   "id": "f4447a2c",
   "metadata": {},
   "source": [
    "# stack 간단구현"
   ]
  },
  {
   "cell_type": "code",
   "execution_count": 4,
   "id": "21d5d841",
   "metadata": {},
   "outputs": [],
   "source": [
    "class stack:\n",
    "    def __init__(self,size):\n",
    "        self.stack=[]\n",
    "        self.size = size\n",
    "    def push(self, value):\n",
    "        if len(self.stack) ==  self.size:\n",
    "            print('Overflow')\n",
    "            return \n",
    "        else:\n",
    "            self.stack.append(value)\n",
    "    \n",
    "    def pop(self):\n",
    "        if len(self.stack) == 0:\n",
    "            print('Underflow')\n",
    "            return\n",
    "        else:\n",
    "            self.stack.pop()\n",
    "    \n",
    "    def Top(self):\n",
    "        if len(self.stack) == 0:\n",
    "            print(\"NULL\")\n",
    "            return\n",
    "        else:\n",
    "            print(self.stack[-1])\n",
    "            return\n",
    "            \n",
    "        \n",
    "        \n",
    "        "
   ]
  },
  {
   "cell_type": "code",
   "execution_count": 7,
   "id": "d1f0fe02",
   "metadata": {},
   "outputs": [
    {
     "name": "stdout",
     "output_type": "stream",
     "text": [
      "4 10\n"
     ]
    }
   ],
   "source": [
    "size , N = map(int,input().split())"
   ]
  },
  {
   "cell_type": "code",
   "execution_count": null,
   "id": "27803567",
   "metadata": {},
   "outputs": [],
   "source": [
    "stack_ = stack(size)\n",
    "for _ in range(N):\n",
    "    command = input()\n",
    "    command_li = command.split()\n",
    "    if command_li[0] =='1':\n",
    "        value = int(command_li[1])\n",
    "        stack_.push(value)\n",
    "    \n",
    "    elif command_li[0] =='2':\n",
    "        stack_.pop()\n",
    "    \n",
    "    else:\n",
    "        stack_.Top()"
   ]
  },
  {
   "cell_type": "markdown",
   "id": "60394775",
   "metadata": {},
   "source": [
    "# 괄호"
   ]
  },
  {
   "cell_type": "code",
   "execution_count": 1,
   "id": "79740ce1",
   "metadata": {},
   "outputs": [
    {
     "name": "stdout",
     "output_type": "stream",
     "text": [
      "(()[[]])([])\n"
     ]
    }
   ],
   "source": [
    "string = input()"
   ]
  },
  {
   "cell_type": "code",
   "execution_count": 29,
   "id": "dea07dba",
   "metadata": {},
   "outputs": [
    {
     "name": "stdout",
     "output_type": "stream",
     "text": [
      "()()((()))\n",
      "[]\n",
      "YES\n"
     ]
    }
   ],
   "source": [
    "def solution():\n",
    "    string = input()\n",
    "    stack  = []\n",
    "    count = 0\n",
    "    \n",
    "    if string[0] == ')' or string[-1] == '(':\n",
    "        print(\"NO\")\n",
    "        return\n",
    "    \n",
    "    for i in string:\n",
    "        if i =='(':\n",
    "            stack.append(i)\n",
    "        else:\n",
    "            try:\n",
    "                stack.pop()\n",
    "            except:\n",
    "                print(\"NO\")\n",
    "                return\n",
    "    if stack  :\n",
    "        print(\"NO\")\n",
    "    else:\n",
    "        print(\"YES\")\n",
    "    \n",
    "    return\n",
    "solution()"
   ]
  },
  {
   "cell_type": "code",
   "execution_count": 20,
   "id": "12680ee9",
   "metadata": {},
   "outputs": [
    {
     "name": "stdout",
     "output_type": "stream",
     "text": [
      "a\n"
     ]
    }
   ],
   "source": [
    "if [3] :\n",
    "    print('a')"
   ]
  },
  {
   "cell_type": "markdown",
   "id": "3d41d664",
   "metadata": {},
   "source": [
    "# 원형큐"
   ]
  },
  {
   "cell_type": "code",
   "execution_count": 30,
   "id": "3c41080f",
   "metadata": {},
   "outputs": [],
   "source": [
    "MAX_QSIZE = 10\n",
    "class CircularQueue:\n",
    "    def __init__(self ,MAX_QSIZE ):\n",
    "        # front , rear pointer\n",
    "        self.front  = 0\n",
    "        self.rear   = 0\n",
    "        self.MAX_QSIZE= MAX_QSIZE\n",
    "        self.items  = [0] * self.MAX_QSIZE\n",
    "        \n",
    "    def isEmpty(self):    \n",
    "        return self.front == self.rear\n",
    "\n",
    "    def  isFull(self):\n",
    "        return self.front == (self.rear+1) % self.MAX_QSIZE\n",
    "    \n",
    "    \n",
    "    def Push(self, item):\n",
    "        if not self.isFull():\n",
    "            self.rear = (self.rear  +1) % self.MAX_QSIZE\n",
    "            self.items[self.rear] = item\n",
    "        else:\n",
    "            print(\"overflow\",end=\"\")\n",
    "            self.display()\n",
    "            raise Exception(\"Overflow\")\n",
    "        \n",
    "    def Front(self):\n",
    "        if not self.isEmpty():\n",
    "            self.front = (self.front+1)% self.MAX_QSIZE\n",
    "            \n",
    "            return self.items[self.front]\n",
    "    \n",
    "    def Pop(self):\n",
    "        if not self.isEmpty():\n",
    "            self.front = (self.front+1)% self.MAX_QSIZE\n",
    "            self.items[self.front] = 0\n",
    "        else:\n",
    "            print(\"underflow\",end=\"\")\n",
    "            raise Exception(\"Underflow\")\n",
    "                 "
   ]
  },
  {
   "cell_type": "code",
   "execution_count": 44,
   "id": "fc9ad0e0",
   "metadata": {},
   "outputs": [],
   "source": [
    "q = CircularQueue(4)"
   ]
  },
  {
   "cell_type": "code",
   "execution_count": 45,
   "id": "82bb2bab",
   "metadata": {},
   "outputs": [
    {
     "data": {
      "text/plain": [
       "[0, 0, 0, 0]"
      ]
     },
     "execution_count": 45,
     "metadata": {},
     "output_type": "execute_result"
    }
   ],
   "source": [
    "q.items"
   ]
  },
  {
   "cell_type": "code",
   "execution_count": 46,
   "id": "df9231f2",
   "metadata": {},
   "outputs": [
    {
     "data": {
      "text/plain": [
       "[0, 1, 0, 0]"
      ]
     },
     "execution_count": 46,
     "metadata": {},
     "output_type": "execute_result"
    }
   ],
   "source": [
    "q.Push(1)\n",
    "q.items"
   ]
  },
  {
   "cell_type": "code",
   "execution_count": 47,
   "id": "a125d096",
   "metadata": {},
   "outputs": [
    {
     "data": {
      "text/plain": [
       "[0, 1, 2, 0]"
      ]
     },
     "execution_count": 47,
     "metadata": {},
     "output_type": "execute_result"
    }
   ],
   "source": [
    "q.Push(2)\n",
    "q.items"
   ]
  },
  {
   "cell_type": "code",
   "execution_count": 48,
   "id": "853e543a",
   "metadata": {},
   "outputs": [
    {
     "data": {
      "text/plain": [
       "[0, 1, 2, 3]"
      ]
     },
     "execution_count": 48,
     "metadata": {},
     "output_type": "execute_result"
    }
   ],
   "source": [
    "q.Push(3)\n",
    "q.items"
   ]
  },
  {
   "cell_type": "code",
   "execution_count": 49,
   "id": "0cd91912",
   "metadata": {},
   "outputs": [
    {
     "data": {
      "text/plain": [
       "1"
      ]
     },
     "execution_count": 49,
     "metadata": {},
     "output_type": "execute_result"
    }
   ],
   "source": [
    "q.Front()"
   ]
  },
  {
   "cell_type": "code",
   "execution_count": 50,
   "id": "eb7209f2",
   "metadata": {},
   "outputs": [
    {
     "data": {
      "text/plain": [
       "[0, 1, 0, 3]"
      ]
     },
     "execution_count": 50,
     "metadata": {},
     "output_type": "execute_result"
    }
   ],
   "source": [
    "q.Pop()\n",
    "q.items"
   ]
  },
  {
   "cell_type": "code",
   "execution_count": 38,
   "id": "00de6299",
   "metadata": {},
   "outputs": [],
   "source": [
    "q.Pop()"
   ]
  },
  {
   "cell_type": "code",
   "execution_count": 39,
   "id": "a7ab5377",
   "metadata": {},
   "outputs": [],
   "source": [
    "q.Front()"
   ]
  },
  {
   "cell_type": "code",
   "execution_count": 40,
   "id": "435d8b91",
   "metadata": {},
   "outputs": [
    {
     "data": {
      "text/plain": [
       "[0, 1, 0, 0]"
      ]
     },
     "execution_count": 40,
     "metadata": {},
     "output_type": "execute_result"
    }
   ],
   "source": [
    "q.items"
   ]
  },
  {
   "cell_type": "markdown",
   "id": "3604192a",
   "metadata": {},
   "source": [
    "# 접시"
   ]
  },
  {
   "cell_type": "code",
   "execution_count": 67,
   "id": "423ff74c",
   "metadata": {},
   "outputs": [
    {
     "name": "stdout",
     "output_type": "stream",
     "text": [
      "bacd\n"
     ]
    }
   ],
   "source": [
    "dishes = input()\n",
    "push_order =  [ord(x) for x in sorted(dishes)]\n",
    "pop_order = [ord(x) for x in dishes]\n"
   ]
  },
  {
   "cell_type": "code",
   "execution_count": 68,
   "id": "8c4aa1d9",
   "metadata": {},
   "outputs": [
    {
     "data": {
      "text/plain": [
       "[97, 98, 99, 100]"
      ]
     },
     "execution_count": 68,
     "metadata": {},
     "output_type": "execute_result"
    }
   ],
   "source": [
    "push_order"
   ]
  },
  {
   "cell_type": "code",
   "execution_count": 69,
   "id": "2dbc1642",
   "metadata": {},
   "outputs": [
    {
     "data": {
      "text/plain": [
       "[98, 97, 99, 100]"
      ]
     },
     "execution_count": 69,
     "metadata": {},
     "output_type": "execute_result"
    }
   ],
   "source": [
    "pop_order"
   ]
  },
  {
   "cell_type": "code",
   "execution_count": null,
   "id": "deeb9f70",
   "metadata": {},
   "outputs": [],
   "source": [
    "# 1. min 값을 설정해주고  pop_order에 대해 for 문이 도는데 도중에 담값이 더크다면 i i+1 i까지 다빼뻐리고 다음값을 min 으로 바꿔줌\n",
    "# 2. 1이 안되면 안되는거임"
   ]
  },
  {
   "cell_type": "code",
   "execution_count": 71,
   "id": "72d83c39",
   "metadata": {},
   "outputs": [
    {
     "ename": "SyntaxError",
     "evalue": "invalid syntax (13571333.py, line 1)",
     "output_type": "error",
     "traceback": [
      "\u001b[0;36m  File \u001b[0;32m\"/var/folders/kr/z0vkrxjj5bq7lqpnzwpy9s_c0000gn/T/ipykernel_3010/13571333.py\"\u001b[0;36m, line \u001b[0;32m1\u001b[0m\n\u001b[0;31m    for i in range(len(pop_order):\u001b[0m\n\u001b[0m                                 ^\u001b[0m\n\u001b[0;31mSyntaxError\u001b[0m\u001b[0;31m:\u001b[0m invalid syntax\n"
     ]
    }
   ],
   "source": [
    "min_num = min(pop_order)\n",
    "for i in range(len(pop_order)-1):\n",
    "    if pop_order[i]  <= pop_order[i+1]:\n",
    "        \n",
    "    \n",
    "               \n",
    "    "
   ]
  },
  {
   "cell_type": "markdown",
   "id": "1fa59feb",
   "metadata": {},
   "source": [
    "# 재풀이"
   ]
  },
  {
   "cell_type": "code",
   "execution_count": null,
   "id": "f30d0126",
   "metadata": {},
   "outputs": [],
   "source": [
    "bacd 로 꺼내기"
   ]
  },
  {
   "cell_type": "code",
   "execution_count": null,
   "id": "4ff6253b",
   "metadata": {},
   "outputs": [],
   "source": [
    "dbca"
   ]
  },
  {
   "cell_type": "code",
   "execution_count": null,
   "id": "c601f540",
   "metadata": {},
   "outputs": [],
   "source": [
    "1 그냥 그대로 스택으로 구현해서 넣다 뺏다함녀 될듯\n",
    "2 작으면그냥 그대로 다넣기 뒤랑 비교해서 . \n",
    "3 안작은게나오면 팝연산수행. 불가능시 imposssible"
   ]
  },
  {
   "cell_type": "code",
   "execution_count": null,
   "id": "dce599a3",
   "metadata": {},
   "outputs": [],
   "source": [
    "# 필요한 객체들\n",
    "# 1. 스택담을떄 연산 같이 담을 것. 그냥 리스트하나 두는게 날듯\n",
    "# result =[]\n",
    "# stack = []\n",
    "# "
   ]
  },
  {
   "cell_type": "code",
   "execution_count": 39,
   "id": "ba621145",
   "metadata": {},
   "outputs": [],
   "source": [
    "dishes = 'bacd'"
   ]
  },
  {
   "cell_type": "code",
   "execution_count": 47,
   "id": "cfe90208",
   "metadata": {},
   "outputs": [],
   "source": [
    "dishes = 'dbca'"
   ]
  },
  {
   "cell_type": "code",
   "execution_count": 51,
   "id": "75d8badb",
   "metadata": {},
   "outputs": [],
   "source": [
    "dishes = 'cabd'"
   ]
  },
  {
   "cell_type": "code",
   "execution_count": 55,
   "id": "827c10b9",
   "metadata": {},
   "outputs": [],
   "source": [
    "dishes = 'dabc'"
   ]
  },
  {
   "cell_type": "code",
   "execution_count": 56,
   "id": "a9788fbd",
   "metadata": {},
   "outputs": [],
   "source": [
    "# stack에 있는 값들이 연속적 값이 아니면 아웃 . "
   ]
  },
  {
   "cell_type": "code",
   "execution_count": null,
   "id": "8cb2557f",
   "metadata": {},
   "outputs": [],
   "source": [
    "d"
   ]
  },
  {
   "cell_type": "code",
   "execution_count": 78,
   "id": "1014b296",
   "metadata": {},
   "outputs": [],
   "source": [
    "dishes = 'edcba'\n",
    "def func(dishes):\n",
    "    result = []\n",
    "    stack = []\n",
    "    \n",
    "    for i in range(len(dishes)):\n",
    "        \n",
    "        while stack  and dishes[i] > stack[-1]:\n",
    "            last = stack.pop()\n",
    "           \n",
    "            result.append('pop')\n",
    "        \n",
    "                \n",
    "        stack.append(dishes[i])\n",
    "        result.append('push')\n",
    "        if len(stack) > 1:\n",
    "            if ord(stack[-2]) -  ord(stack[-1]) != 1:\n",
    "                print('impossible')\n",
    "                return \n",
    "    while stack: \n",
    "        stack.pop()\n",
    "        result.append('pop')\n",
    "        \n",
    "    for i in result:\n",
    "        print(i,end='\\n')\n",
    "    return \n"
   ]
  },
  {
   "cell_type": "code",
   "execution_count": 79,
   "id": "7fa6cedd",
   "metadata": {},
   "outputs": [
    {
     "name": "stdout",
     "output_type": "stream",
     "text": [
      "push\n",
      "push\n",
      "push\n",
      "push\n",
      "push\n",
      "pop\n",
      "pop\n",
      "pop\n",
      "pop\n",
      "pop\n"
     ]
    }
   ],
   "source": [
    "result = func(dishes)"
   ]
  },
  {
   "cell_type": "code",
   "execution_count": null,
   "id": "00f35c45",
   "metadata": {},
   "outputs": [],
   "source": []
  },
  {
   "cell_type": "code",
   "execution_count": 59,
   "id": "1c17a291",
   "metadata": {},
   "outputs": [
    {
     "data": {
      "text/plain": [
       "'impossible'"
      ]
     },
     "execution_count": 59,
     "metadata": {},
     "output_type": "execute_result"
    }
   ],
   "source": [
    "result"
   ]
  },
  {
   "cell_type": "code",
   "execution_count": null,
   "id": "284b8b4b",
   "metadata": {},
   "outputs": [],
   "source": []
  },
  {
   "cell_type": "code",
   "execution_count": 2,
   "id": "1f453d2b",
   "metadata": {},
   "outputs": [
    {
     "data": {
      "text/plain": [
       "True"
      ]
     },
     "execution_count": 2,
     "metadata": {},
     "output_type": "execute_result"
    }
   ],
   "source": [
    "'b'<'c'"
   ]
  },
  {
   "cell_type": "markdown",
   "id": "537b5b57",
   "metadata": {},
   "source": [
    "# test"
   ]
  },
  {
   "cell_type": "markdown",
   "id": "9f5ed661",
   "metadata": {},
   "source": [
    "# 순열 구하기"
   ]
  },
  {
   "cell_type": "code",
   "execution_count": 1,
   "id": "dd8e0744",
   "metadata": {},
   "outputs": [],
   "source": [
    "import itertools"
   ]
  },
  {
   "cell_type": "code",
   "execution_count": 2,
   "id": "68c74af1",
   "metadata": {},
   "outputs": [
    {
     "name": "stdout",
     "output_type": "stream",
     "text": [
      "4  2\n"
     ]
    }
   ],
   "source": [
    "n,m = list(map(int,input().split()))"
   ]
  },
  {
   "cell_type": "code",
   "execution_count": 9,
   "id": "2ca1e10d",
   "metadata": {},
   "outputs": [],
   "source": [
    "alphabet_list = [ chr(97+x) for x in range(n)]"
   ]
  },
  {
   "cell_type": "code",
   "execution_count": null,
   "id": "249d2779",
   "metadata": {},
   "outputs": [],
   "source": [
    "itertools.permutations"
   ]
  },
  {
   "cell_type": "code",
   "execution_count": 17,
   "id": "32e11c75",
   "metadata": {},
   "outputs": [],
   "source": [
    "result_list = list(itertools.permutations(alphabet_list,m))"
   ]
  },
  {
   "cell_type": "code",
   "execution_count": 20,
   "id": "9ad302a7",
   "metadata": {},
   "outputs": [
    {
     "name": "stdout",
     "output_type": "stream",
     "text": [
      "ab\n",
      "ac\n",
      "ad\n",
      "ba\n",
      "bc\n",
      "bd\n",
      "ca\n",
      "cb\n",
      "cd\n",
      "da\n",
      "db\n",
      "dc\n"
     ]
    }
   ],
   "source": [
    "for i in result_list:\n",
    "    string = ''\n",
    "    for j in range(len(i)):\n",
    "        string+=i[j]\n",
    "    print(string)\n"
   ]
  },
  {
   "cell_type": "markdown",
   "id": "99ecbb1e",
   "metadata": {},
   "source": [
    "# division"
   ]
  },
  {
   "cell_type": "code",
   "execution_count": 3,
   "id": "ca06bc3b",
   "metadata": {},
   "outputs": [
    {
     "name": "stdout",
     "output_type": "stream",
     "text": [
      "5\n"
     ]
    }
   ],
   "source": [
    "N = int(input())"
   ]
  },
  {
   "cell_type": "code",
   "execution_count": 4,
   "id": "fd0c8c34",
   "metadata": {},
   "outputs": [],
   "source": [
    "result = [0 for _ in range(30)]\n",
    "count = 0"
   ]
  },
  {
   "cell_type": "code",
   "execution_count": null,
   "id": "3dffbbce",
   "metadata": {},
   "outputs": [],
   "source": [
    "# 리스트는 넘어가는데 , \n",
    "# string은  안되군 흠.."
   ]
  },
  {
   "cell_type": "code",
   "execution_count": 5,
   "id": "ecb53271",
   "metadata": {},
   "outputs": [],
   "source": [
    "def recursive(cum_sum ,index):\n",
    "    if cum_sum == N:\n",
    "        for i in range(index):\n",
    "            if i <= index-2:\n",
    "                print(result[i],end ='+')\n",
    "            else:\n",
    "                print(result[i], end = '')\n",
    "        print('')\n",
    "        global count\n",
    "        count +=1\n",
    "    else:\n",
    "        max_ = 0\n",
    "        if index ==0:\n",
    "            max_ = N-1\n",
    "        else:\n",
    "            max_ = N- cum_sum\n",
    "    \n",
    "        for i in range(max_, 0, -1):\n",
    "            result[index] = i\n",
    "            if index > 0 and result[index-1] < result[index]:\n",
    "                continue\n",
    "            \n",
    "            recursive(cum_sum+i, index+1)"
   ]
  },
  {
   "cell_type": "code",
   "execution_count": 6,
   "id": "4a3b599c",
   "metadata": {},
   "outputs": [
    {
     "name": "stdout",
     "output_type": "stream",
     "text": [
      "4+1\n",
      "3+2\n",
      "3+1+1\n",
      "2+2+1\n",
      "2+1+1+1\n",
      "1+1+1+1+1\n",
      "6\n"
     ]
    }
   ],
   "source": [
    "recursive(0, 0)\n",
    "print(count)"
   ]
  },
  {
   "cell_type": "code",
   "execution_count": null,
   "id": "90320115",
   "metadata": {},
   "outputs": [],
   "source": []
  },
  {
   "cell_type": "markdown",
   "id": "e312a86b",
   "metadata": {},
   "source": [
    "# 접시"
   ]
  },
  {
   "cell_type": "code",
   "execution_count": 104,
   "id": "46dbb6e7",
   "metadata": {},
   "outputs": [],
   "source": [
    "# 넣을때는 순서대로 들어가야됨"
   ]
  },
  {
   "cell_type": "code",
   "execution_count": 119,
   "id": "adfe4af9",
   "metadata": {},
   "outputs": [],
   "source": [
    "string = 'cbad'\n",
    "string_sort = sorted(string)\n",
    "result_list =[]"
   ]
  },
  {
   "cell_type": "markdown",
   "id": "6b5ff68e",
   "metadata": {},
   "source": [
    "# agd 반례,  중간부분 틀림"
   ]
  },
  {
   "cell_type": "markdown",
   "id": "c556368d",
   "metadata": {},
   "source": [
    "# 80"
   ]
  },
  {
   "cell_type": "code",
   "execution_count": null,
   "id": "39193493",
   "metadata": {},
   "outputs": [],
   "source": [
    "string = input()\n",
    "string_sort = sorted(string)\n",
    "result_list =[]\n",
    "while string:\n",
    "    if len(string)==1:\n",
    "        result_list.append('push')\n",
    "        result_list.append('pop')\n",
    "        break\n",
    "    \n",
    "    temp = ''\n",
    "    min_  = string_sort[0]\n",
    "    \n",
    "    for i in range(len(string)):\n",
    "        if i == len(string)-1:\n",
    "            temp+=string[i]\n",
    "            continue\n",
    "            \n",
    "        if string[i] > string[i+1]:\n",
    "            temp+= string[i]\n",
    "        else:\n",
    "            if string[i] == min_:\n",
    "                temp+=string[i]\n",
    "                break\n",
    "            else:\n",
    "                print('impossible')\n",
    "                string=''\n",
    "                result_list=[]\n",
    "                break\n",
    " \n",
    "    temp_len = len(temp)\n",
    "    for i in range(temp_len):\n",
    "        result_list.append('push')\n",
    "    for i in range(temp_len):\n",
    "        result_list.append('pop')\n",
    "    \n",
    "    string_sort= string_sort[temp_len:]\n",
    "    string = string[temp_len:]\n",
    "\n",
    "answer = '\\n'.join(result_list)\n",
    "print(answer)\n",
    "            \n",
    "        \n",
    "    "
   ]
  },
  {
   "cell_type": "markdown",
   "id": "5e242433",
   "metadata": {},
   "source": [
    "# 90"
   ]
  },
  {
   "cell_type": "code",
   "execution_count": 136,
   "id": "2e80ff42",
   "metadata": {},
   "outputs": [
    {
     "name": "stdout",
     "output_type": "stream",
     "text": [
      "afcb\n",
      "push\n",
      "pop\n",
      "push\n",
      "push\n",
      "push\n",
      "pop\n",
      "pop\n",
      "pop\n"
     ]
    }
   ],
   "source": [
    "string = input()\n",
    "string_sort = sorted(string)\n",
    "result_list =[]\n",
    "while string:\n",
    "    \n",
    "    if len(string)==1:\n",
    "        result_list.append('push')\n",
    "        result_list.append('pop')\n",
    "        break\n",
    "    \n",
    "    temp = ''\n",
    "    min_  = string_sort[0]\n",
    "    #  min  = d  ,gd\n",
    "    for i in range(len(string)):\n",
    "        if i == (len(string)-1):\n",
    "            if string[i] != min_:\n",
    "                print('impossible')\n",
    "                string=''\n",
    "                result_list=[]\n",
    "                temp=''\n",
    "                break\n",
    "            else:\n",
    "                temp+=string[i]\n",
    "                continue\n",
    "        else:\n",
    "            if string[i] > string[i+1]:\n",
    "                temp+= string[i]\n",
    "            else:\n",
    "                if string[i] == min_:\n",
    "                    temp+=string[i]\n",
    "                    break\n",
    "                else:\n",
    "                    print('impossible')\n",
    "                    string=''\n",
    "                    result_list=[]\n",
    "                    break\n",
    "    \n",
    "    temp_len = len(temp)\n",
    "    for i in range(temp_len):\n",
    "        result_list.append('push')\n",
    "    for i in range(temp_len):\n",
    "        result_list.append('pop')\n",
    "    \n",
    "    string_sort= string_sort[temp_len:]\n",
    "    string = string[temp_len:]\n",
    "\n",
    "answer = '\\n'.join(result_list)\n",
    "print(answer)\n",
    "            "
   ]
  },
  {
   "cell_type": "code",
   "execution_count": null,
   "id": "7303232e",
   "metadata": {},
   "outputs": [],
   "source": []
  },
  {
   "cell_type": "markdown",
   "id": "240b6152",
   "metadata": {},
   "source": [
    "# 괄호의 값"
   ]
  },
  {
   "cell_type": "code",
   "execution_count": 118,
   "id": "8fa178da",
   "metadata": {},
   "outputs": [],
   "source": [
    "# 1. 옳바른 괄호의 값기준으로 나눔\n",
    "\n",
    "# 2. 기준별로 점수 걍 더하면 긑"
   ]
  },
  {
   "cell_type": "code",
   "execution_count": 13,
   "id": "f518ebf3",
   "metadata": {},
   "outputs": [],
   "source": [
    "string = '(()[[]])([])'"
   ]
  },
  {
   "cell_type": "code",
   "execution_count": 5,
   "id": "b903b049",
   "metadata": {},
   "outputs": [
    {
     "data": {
      "text/plain": [
       "True"
      ]
     },
     "execution_count": 5,
     "metadata": {},
     "output_type": "execute_result"
    }
   ],
   "source": [
    "'3'.isdigit()"
   ]
  },
  {
   "cell_type": "code",
   "execution_count": null,
   "id": "e863b3cd",
   "metadata": {},
   "outputs": [],
   "source": [
    "# 1. def recursive (곱할점수 ,string)\n",
    "# 2. []  나 ()  만나면 return\n",
    "# 3. 만약 남는 괄호가 있을 경우 아웃  , check  = 0 이런식으로"
   ]
  },
  {
   "cell_type": "code",
   "execution_count": 1,
   "id": "fb9b36eb",
   "metadata": {},
   "outputs": [],
   "source": [
    "multiply =1\n",
    "string ='(()[[]])([])'\n",
    "temp_num = 1"
   ]
  },
  {
   "cell_type": "code",
   "execution_count": null,
   "id": "8f8142f1",
   "metadata": {},
   "outputs": [],
   "source": [
    "[  (,2,[,3      ] # 이거 나주중에 다시 풀어보자 ."
   ]
  },
  {
   "cell_type": "code",
   "execution_count": 2,
   "id": "e08e296b",
   "metadata": {},
   "outputs": [
    {
     "ename": "SyntaxError",
     "evalue": "invalid syntax (1841178221.py, line 1)",
     "output_type": "error",
     "traceback": [
      "\u001b[0;36m  Input \u001b[0;32mIn [2]\u001b[0;36m\u001b[0m\n\u001b[0;31m    3.isnumeric()\u001b[0m\n\u001b[0m      ^\u001b[0m\n\u001b[0;31mSyntaxError\u001b[0m\u001b[0;31m:\u001b[0m invalid syntax\n"
     ]
    }
   ],
   "source": [
    "3.isnumeric()"
   ]
  },
  {
   "cell_type": "code",
   "execution_count": 101,
   "id": "9ce83060",
   "metadata": {},
   "outputs": [],
   "source": [
    "string = '['"
   ]
  },
  {
   "cell_type": "code",
   "execution_count": 104,
   "id": "3aa94658",
   "metadata": {},
   "outputs": [],
   "source": [
    "def solution(string):\n",
    "    \n",
    "    \n",
    "    answer = 0\n",
    "    stack = []\n",
    "    temp_num = 1\n",
    "    \n",
    "    for i in string:\n",
    "        \n",
    "        \n",
    "        if i == '(':\n",
    "            stack.append(i)\n",
    "        \n",
    "        elif i == '[':\n",
    "            stack.append(i)\n",
    "        \n",
    "        elif i == ')':\n",
    "            if len(stack)==0:\n",
    "                print(0)\n",
    "                return\n",
    "            \n",
    "            while len(stack) != 0:\n",
    "                top = stack.pop()\n",
    "                \n",
    "                if top == '[':\n",
    "                    print(0)\n",
    "                    return\n",
    "                \n",
    "                if top != '(' : #숫자일떄\n",
    "                    \n",
    "                    temp_num = top\n",
    "                \n",
    "                elif top == '(':\n",
    "                    \n",
    "                    temp_num = temp_num*2\n",
    "                    stack.append(temp_num)\n",
    "                    temp_num = 1 \n",
    "                    break\n",
    "                    \n",
    "                   #      [  (,2,[,3      ] \n",
    "                    \n",
    "        elif i == ']':\n",
    "            \n",
    "            if len(stack) ==0:\n",
    "                print(0)\n",
    "                return\n",
    "            \n",
    "            while len(stack) != 0:\n",
    "                top = stack.pop()\n",
    "                \n",
    "                if top == '(':\n",
    "                    \n",
    "                    \n",
    "                    print(0)\n",
    "                    return\n",
    "                \n",
    "                if top != '[':\n",
    "                    temp_num = top\n",
    "                \n",
    "                elif top == '[':\n",
    "                    \n",
    "                    temp_num = temp_num*3\n",
    "                    stack.append(temp_num)\n",
    "                    temp_num = 1\n",
    "                    break\n",
    "        \n",
    "        for  k in range(len(stack)-1):\n",
    "            num_1 = stack[k]\n",
    "            num_2 = stack[k+1]\n",
    "            \n",
    "            if num_1 != '(' and num_1 != '[':\n",
    "                if num_2 != '(' and num_2 != '[':\n",
    "                    new = num_1 + num_2\n",
    "                    stack.pop()\n",
    "                    stack.pop()\n",
    "                    stack.append(new)\n",
    "        \n",
    "        \n",
    "                \n",
    "            \n",
    "        \n",
    "    \n",
    "    if len(stack) ==1 and stack[0] != '(' and stack[0] != '[':\n",
    "        print(stack[0])\n",
    "    else:\n",
    "        print(0)\n",
    "        \n",
    "      "
   ]
  },
  {
   "cell_type": "code",
   "execution_count": 105,
   "id": "e21edae3",
   "metadata": {},
   "outputs": [
    {
     "name": "stdout",
     "output_type": "stream",
     "text": [
      "0\n"
     ]
    }
   ],
   "source": [
    "solution(string)"
   ]
  },
  {
   "cell_type": "code",
   "execution_count": null,
   "id": "80ac1504",
   "metadata": {},
   "outputs": [],
   "source": []
  },
  {
   "cell_type": "code",
   "execution_count": null,
   "id": "311286ce",
   "metadata": {},
   "outputs": [],
   "source": []
  },
  {
   "cell_type": "code",
   "execution_count": 11,
   "id": "e393216a",
   "metadata": {},
   "outputs": [],
   "source": [
    "t = [1,2,3]"
   ]
  },
  {
   "cell_type": "code",
   "execution_count": 12,
   "id": "54d53021",
   "metadata": {},
   "outputs": [
    {
     "data": {
      "text/plain": [
       "[3, 2, 1]"
      ]
     },
     "execution_count": 12,
     "metadata": {},
     "output_type": "execute_result"
    }
   ],
   "source": [
    "t[::-1]"
   ]
  },
  {
   "cell_type": "code",
   "execution_count": 10,
   "id": "75430356",
   "metadata": {},
   "outputs": [],
   "source": [
    "for i in []:\n",
    "    print(i)"
   ]
  },
  {
   "cell_type": "code",
   "execution_count": 8,
   "id": "e19af149",
   "metadata": {},
   "outputs": [
    {
     "ename": "NameError",
     "evalue": "name 'i' is not defined",
     "output_type": "error",
     "traceback": [
      "\u001b[0;31m---------------------------------------------------------------------------\u001b[0m",
      "\u001b[0;31mNameError\u001b[0m                                 Traceback (most recent call last)",
      "Input \u001b[0;32mIn [8]\u001b[0m, in \u001b[0;36m<cell line: 1>\u001b[0;34m()\u001b[0m\n\u001b[0;32m----> 1\u001b[0m \u001b[43mi\u001b[49m\n",
      "\u001b[0;31mNameError\u001b[0m: name 'i' is not defined"
     ]
    }
   ],
   "source": [
    "i"
   ]
  },
  {
   "cell_type": "code",
   "execution_count": 6,
   "id": "4bf4839f",
   "metadata": {},
   "outputs": [
    {
     "data": {
      "text/plain": [
       "0"
      ]
     },
     "execution_count": 6,
     "metadata": {},
     "output_type": "execute_result"
    }
   ],
   "source": [
    "sum([])"
   ]
  },
  {
   "cell_type": "code",
   "execution_count": 10,
   "id": "60fe0006",
   "metadata": {},
   "outputs": [
    {
     "name": "stdout",
     "output_type": "stream",
     "text": [
      "36\n",
      "42\n",
      "42\n"
     ]
    }
   ],
   "source": [
    "solution(string)"
   ]
  },
  {
   "cell_type": "code",
   "execution_count": null,
   "id": "bc2b13f6",
   "metadata": {},
   "outputs": [],
   "source": []
  },
  {
   "cell_type": "code",
   "execution_count": null,
   "id": "bf645891",
   "metadata": {},
   "outputs": [],
   "source": []
  }
 ],
 "metadata": {
  "kernelspec": {
   "display_name": "Python 3 (ipykernel)",
   "language": "python",
   "name": "python3"
  },
  "language_info": {
   "codemirror_mode": {
    "name": "ipython",
    "version": 3
   },
   "file_extension": ".py",
   "mimetype": "text/x-python",
   "name": "python",
   "nbconvert_exporter": "python",
   "pygments_lexer": "ipython3",
   "version": "3.8.13"
  }
 },
 "nbformat": 4,
 "nbformat_minor": 5
}
