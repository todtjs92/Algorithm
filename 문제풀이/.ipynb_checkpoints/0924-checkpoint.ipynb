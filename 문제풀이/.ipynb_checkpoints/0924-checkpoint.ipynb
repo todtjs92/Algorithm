{
 "cells": [
  {
   "cell_type": "code",
   "execution_count": 10,
   "id": "60ecfec2",
   "metadata": {},
   "outputs": [],
   "source": [
    "today = \"2022.05.19\""
   ]
  },
  {
   "cell_type": "code",
   "execution_count": 11,
   "id": "f1a6dbb5",
   "metadata": {},
   "outputs": [],
   "source": [
    "terms = [\"A 6\",\"B 12\",\"C 3\"]"
   ]
  },
  {
   "cell_type": "code",
   "execution_count": 12,
   "id": "cfd57c3a",
   "metadata": {},
   "outputs": [],
   "source": [
    "privacies = [\"2021.05.02 A\",\"2021.07.01 B\",\"2022.02.19 C\",\"2022.02.20 C\"]"
   ]
  },
  {
   "cell_type": "code",
   "execution_count": null,
   "id": "07ab7407",
   "metadata": {},
   "outputs": [],
   "source": [
    "# 1. 각 term 바탕으로 pricacies의  파기일 구하기 \n",
    "# 같으면 보관가능"
   ]
  },
  {
   "cell_type": "code",
   "execution_count": null,
   "id": "abd9154f",
   "metadata": {},
   "outputs": [],
   "source": [
    "2022 1/1"
   ]
  },
  {
   "cell_type": "code",
   "execution_count": null,
   "id": "f31f8edd",
   "metadata": {},
   "outputs": [],
   "source": [
    "2021 12/31"
   ]
  },
  {
   "cell_type": "code",
   "execution_count": 493,
   "id": "4bdd7d56",
   "metadata": {},
   "outputs": [],
   "source": [
    "today = \"21.01.01\"\n",
    "terms = [\"A 25\"]\n",
    "privacies = [\"2019.12.01 A\"] # 2021 12 28 까지 가능 # 예상 1"
   ]
  },
  {
   "cell_type": "code",
   "execution_count": 494,
   "id": "6eb0c995",
   "metadata": {},
   "outputs": [
    {
     "name": "stdout",
     "output_type": "stream",
     "text": [
      "37\n",
      "0\n",
      "2022 12 28\n"
     ]
    }
   ],
   "source": [
    "dictionary_terms = {}\n",
    "for t in terms:\n",
    "    term, time =t.split(' ')\n",
    "    dictionary_terms[term] = int(time)\n",
    "today_year, today_month ,today_day = list(map(int,today.split('.')))\n",
    "count = 0\n",
    "answer = []\n",
    "for p in privacies:\n",
    "    count += 1\n",
    "    date, term = p.split(' ')\n",
    "    year , month, day = list(map(int,date.split('.')))\n",
    "    \n",
    "    plus_month = dictionary_terms[term]\n",
    "    temp_month = month + plus_month\n",
    "    plus_year = temp_month//12\n",
    "    fin_year  = year + plus_year\n",
    "    \n",
    "    if day == 1:\n",
    "        print(temp_month)\n",
    "        fin_month = temp_month%12 - 1\n",
    "        print(fin_month)\n",
    "        fin_day = 28\n",
    "        \n",
    "        if fin_month == -1:\n",
    "            fin_year -=1\n",
    "            fin_month = 12\n",
    "        elif fin_month == 0:\n",
    "            fin_month = 12\n",
    "    else:\n",
    "        fin_month = temp_month % 12\n",
    "        fin_day = day -1\n",
    "    \n",
    "    print(fin_year,fin_month,fin_day)\n",
    "    # compare\n",
    "    if fin_year > today_year:\n",
    "        continue\n",
    "    elif fin_year < today_year:\n",
    "        answer.append(count)\n",
    "        continue\n",
    "    else:\n",
    "        if fin_month > today_month:\n",
    "            continue\n",
    "        elif fin_month < today_month:\n",
    "            answer.append(count)\n",
    "            continue\n",
    "        else:\n",
    "            if fin_day >= today_day:\n",
    "                continue\n",
    "            else:\n",
    "                answer.append(count)\n",
    "        "
   ]
  },
  {
   "cell_type": "code",
   "execution_count": 495,
   "id": "5e051040",
   "metadata": {},
   "outputs": [
    {
     "data": {
      "text/plain": [
       "[]"
      ]
     },
     "execution_count": 495,
     "metadata": {},
     "output_type": "execute_result"
    }
   ],
   "source": [
    "answer"
   ]
  },
  {
   "cell_type": "code",
   "execution_count": null,
   "id": "8a629e9e",
   "metadata": {},
   "outputs": [],
   "source": []
  },
  {
   "cell_type": "code",
   "execution_count": null,
   "id": "93f97313",
   "metadata": {},
   "outputs": [],
   "source": []
  },
  {
   "cell_type": "code",
   "execution_count": null,
   "id": "934c6758",
   "metadata": {},
   "outputs": [],
   "source": []
  },
  {
   "cell_type": "markdown",
   "id": "9d343101",
   "metadata": {},
   "source": [
    "## "
   ]
  },
  {
   "cell_type": "code",
   "execution_count": null,
   "id": "6ced80ba",
   "metadata": {},
   "outputs": [],
   "source": []
  },
  {
   "cell_type": "code",
   "execution_count": null,
   "id": "157cfd00",
   "metadata": {},
   "outputs": [],
   "source": []
  },
  {
   "cell_type": "code",
   "execution_count": 13,
   "id": "42b4b948",
   "metadata": {},
   "outputs": [],
   "source": [
    "dictionary_terms = {}"
   ]
  },
  {
   "cell_type": "code",
   "execution_count": 14,
   "id": "621c692d",
   "metadata": {},
   "outputs": [],
   "source": [
    "for t in terms:\n",
    "    term, time =t.split(' ')\n",
    "    dictionary_terms[term] = int(time)"
   ]
  },
  {
   "cell_type": "code",
   "execution_count": 15,
   "id": "8c634475",
   "metadata": {},
   "outputs": [
    {
     "data": {
      "text/plain": [
       "{'A': 6, 'B': 12, 'C': 3}"
      ]
     },
     "execution_count": 15,
     "metadata": {},
     "output_type": "execute_result"
    }
   ],
   "source": [
    "dictionary_terms"
   ]
  },
  {
   "cell_type": "code",
   "execution_count": 21,
   "id": "15ecdd19",
   "metadata": {},
   "outputs": [],
   "source": [
    "today_year, today_month ,today_day = list(map(int,today.split('.')))"
   ]
  },
  {
   "cell_type": "code",
   "execution_count": 29,
   "id": "a8d0d9ef",
   "metadata": {},
   "outputs": [
    {
     "name": "stdout",
     "output_type": "stream",
     "text": [
      "2021 11 1\n",
      "2022 6 28\n",
      "2022 5 18\n",
      "2022 5 19\n"
     ]
    }
   ],
   "source": [
    "count = 0\n",
    "result = []\n",
    "for p in privacies:\n",
    "    count += 1\n",
    "    date, term = p.split(' ')\n",
    "    year , month, day = list(map(int,date.split('.')))\n",
    "    \n",
    "    plus_month = dictionary_terms[term]\n",
    "    temp_month = month + plus_month\n",
    "    plus_year = temp_month//12\n",
    "    fin_year  = year + plus_year\n",
    "    \n",
    "    if day == 1:\n",
    "        fin_month = temp_month%12 - 1\n",
    "        fin_day = 28\n",
    "    else:\n",
    "        fin_month = temp_month % 12\n",
    "        fin_day = day -1\n",
    "    print(fin_year, fin_month, fin_day)\n",
    "    # compare\n",
    "    if fin_year > today_year:\n",
    "        continue\n",
    "    elif fin_year < today_year:\n",
    "        result.append(count)\n",
    "        continue\n",
    "    else:\n",
    "        if fin_month > today_month:\n",
    "            continue\n",
    "        elif fin_month < today_month:\n",
    "            result.append(count)\n",
    "            continue\n",
    "        else:\n",
    "            if fin_day >= today_day:\n",
    "                continue\n",
    "            else:\n",
    "                result.append(count)\n",
    "        "
   ]
  },
  {
   "cell_type": "code",
   "execution_count": 32,
   "id": "bc770ab6",
   "metadata": {},
   "outputs": [],
   "source": [
    "# 2번"
   ]
  },
  {
   "cell_type": "code",
   "execution_count": null,
   "id": "c21223fd",
   "metadata": {},
   "outputs": [],
   "source": [
    "# 멀리부터 빨빨 끝내는게 최선인거아니냐?? 그ㅠㅠㅠ런것같음\n",
    "# 그러면 어케 배달할까? 배달이랑 수거랑 생각해서 에초에 짐을 들고가야할듯 . "
   ]
  },
  {
   "cell_type": "code",
   "execution_count": 403,
   "id": "847de508",
   "metadata": {},
   "outputs": [],
   "source": [
    "cap = 4\n",
    "n = 4\n",
    "deliveries = [1,0,3,1,2]\n",
    "pickups = [0,3,0,4,0]"
   ]
  },
  {
   "cell_type": "code",
   "execution_count": null,
   "id": "336db493",
   "metadata": {},
   "outputs": [],
   "source": [
    "5 + 5"
   ]
  },
  {
   "cell_type": "code",
   "execution_count": null,
   "id": "14cae95a",
   "metadata": {},
   "outputs": [],
   "source": [
    "1 0 2 0 0\n",
    "0 3 0 0 0"
   ]
  },
  {
   "cell_type": "code",
   "execution_count": 34,
   "id": "3723be68",
   "metadata": {},
   "outputs": [],
   "source": [
    "cap = 2\n",
    "n = 7\n",
    "deliveries = [1,0,2,0,1,0,2]\n",
    "pickups = [0,2,0,1,0,2,0]"
   ]
  },
  {
   "cell_type": "code",
   "execution_count": null,
   "id": "d56313c6",
   "metadata": {},
   "outputs": [],
   "source": [
    "7 + 7\n",
    "5 + 5\n",
    "3+ 3\n"
   ]
  },
  {
   "cell_type": "code",
   "execution_count": null,
   "id": "4b3574eb",
   "metadata": {},
   "outputs": [],
   "source": [
    "# 1. 뒤부터 더해서 cap이 꽉 찼으면 출발 .\n",
    "# 2. 오면서 뒤부터 pickup 들고\n"
   ]
  },
  {
   "cell_type": "code",
   "execution_count": null,
   "id": "26d19364",
   "metadata": {},
   "outputs": [],
   "source": [
    "# 2.거리구현 로직"
   ]
  },
  {
   "cell_type": "code",
   "execution_count": null,
   "id": "84558a69",
   "metadata": {},
   "outputs": [],
   "source": [
    "# 1. deliveries , pickups 스택\n",
    "# 2. deliveries랑 pickups가 [] 될떄까지 while\n",
    "# 3. 마지막꺼 cap비교 해서가져오기 index = 0이 될떄까지해서 에러 안나게 \n",
    "# 4.  0인것들 마지막에 pop"
   ]
  },
  {
   "cell_type": "code",
   "execution_count": 439,
   "id": "36ba8660",
   "metadata": {},
   "outputs": [],
   "source": [
    "cap = 3\n",
    "\n",
    "n = 5\n",
    "deliveries = [1,0,2,0,0]\n",
    "pickups = [0,3,0,0,4]\n",
    "\n"
   ]
  },
  {
   "cell_type": "code",
   "execution_count": 440,
   "id": "46ac259b",
   "metadata": {},
   "outputs": [
    {
     "name": "stdout",
     "output_type": "stream",
     "text": [
      "24\n"
     ]
    }
   ],
   "source": [
    "max_d = []\n",
    "max_p = []\n",
    "answer = 0\n",
    "while deliveries or pickups:\n",
    "    left_d = cap\n",
    "    left_p = cap\n",
    "    \n",
    "    for d in range(len(deliveries)-1,-1,-1):\n",
    "        if left_d == 0:\n",
    "            break\n",
    "        if deliveries[d] > 0:\n",
    "            max_d.append(d)\n",
    "            \n",
    "        deliveries[d] -= left_d\n",
    "        if deliveries[d] >= 0:\n",
    "            left_d = 0\n",
    "        else:\n",
    "            left_d = abs(deliveries[d])\n",
    "            deliveries[d]= 0 \n",
    "        \n",
    "    for d in range(len(deliveries)-1,-1,-1):\n",
    "\n",
    "        if deliveries[d] == 0:\n",
    "            deliveries.pop()\n",
    "        else:\n",
    "            break\n",
    "    # p #\n",
    "    \n",
    "    for p in range(len(pickups)-1,-1,-1):\n",
    "        if left_p == 0:\n",
    "            break\n",
    "        if pickups[p] > 0:\n",
    "            max_p.append(p)\n",
    "            \n",
    "        pickups[p] -= left_p\n",
    "        if pickups[p] >= 0:\n",
    "            left_p = 0\n",
    "        else:\n",
    "            left_p = abs(pickups[p])\n",
    "            pickups[p]= 0 \n",
    "        \n",
    "    for p in range(len(pickups)-1,-1,-1):\n",
    "\n",
    "        if pickups[p] == 0:\n",
    "            pickups.pop()\n",
    "        else:\n",
    "            break\n",
    "    if not max_d:\n",
    "        md = 0\n",
    "    else:\n",
    "        md = max_d[0]\n",
    "        \n",
    "    if not max_p:\n",
    "        mp = 0\n",
    "    else:\n",
    "        mp = max_p[0]\n",
    "        \n",
    "    max_ = max(md,mp)\n",
    "    answer += (max_+1)*2\n",
    "    \n",
    "    max_d = []\n",
    "    max_p = []\n",
    "print(answer)\n",
    "      "
   ]
  },
  {
   "cell_type": "code",
   "execution_count": null,
   "id": "34e4728c",
   "metadata": {},
   "outputs": [],
   "source": []
  },
  {
   "cell_type": "code",
   "execution_count": null,
   "id": "3b652ac0",
   "metadata": {},
   "outputs": [],
   "source": []
  },
  {
   "cell_type": "code",
   "execution_count": 277,
   "id": "0d56ea23",
   "metadata": {},
   "outputs": [
    {
     "data": {
      "text/plain": [
       "18"
      ]
     },
     "execution_count": 277,
     "metadata": {},
     "output_type": "execute_result"
    }
   ],
   "source": [
    "answer"
   ]
  },
  {
   "cell_type": "code",
   "execution_count": null,
   "id": "c0b0ce1a",
   "metadata": {},
   "outputs": [],
   "source": []
  },
  {
   "cell_type": "code",
   "execution_count": null,
   "id": "87bebe97",
   "metadata": {},
   "outputs": [],
   "source": []
  },
  {
   "cell_type": "code",
   "execution_count": 80,
   "id": "b02bf017",
   "metadata": {},
   "outputs": [],
   "source": [
    "cap = 4\n",
    "n = 5\n",
    "deliveries = [1,0,3,1,2]\n",
    "pickups = [0,3,0,4,0]"
   ]
  },
  {
   "cell_type": "code",
   "execution_count": 81,
   "id": "fb33bc43",
   "metadata": {},
   "outputs": [
    {
     "name": "stdout",
     "output_type": "stream",
     "text": [
      "[1, 0, 3, 1, 2]\n",
      "[0, 3, 0, 4, 0]\n",
      "4 3\n",
      "[1, 0]\n",
      "[0, 3, 0]\n",
      "0 1\n"
     ]
    }
   ],
   "source": [
    "max_d = []\n",
    "max_p = []\n",
    "temp_delivery = 0\n",
    "temp_pickups = 0\n",
    "answer = -1\n",
    "while deliveries or pickups:\n",
    "    print(deliveries)\n",
    "    print(pickups)\n",
    "    left_d = cap\n",
    "    left_p = cap\n",
    "    for d in range(len(deliveries)-1,-1,-1):\n",
    "        if deliveries[d] > 0:\n",
    "            max_d.append(d)\n",
    "            \n",
    "        temp_d = deliveries[d]\n",
    "        temp_delivery += deliveries[d]\n",
    "        \n",
    "        if temp_delivery >= cap:\n",
    "            deliveries[d] -= cap\n",
    "            temp_delivery = cap\n",
    "            if deliveries[d] == 0:\n",
    "                deliveries.pop()\n",
    "            \n",
    "            break\n",
    "        elif temp_delivery < cap:\n",
    "            deliveries[d] = 0\n",
    "            deliveries.pop()\n",
    "        \n",
    "            \n",
    "    for p in range(len(pickups)-1,-1,-1):\n",
    "        if pickups[p] > 0 :\n",
    "            max_p.append(p)\n",
    "        \n",
    "        temp_pickups += pickups[p]\n",
    "        \n",
    "        if temp_pickups >= cap:\n",
    "            pickups[p] -= cap\n",
    "            temp_pickups = cap\n",
    "            if pickups[p] == 0:\n",
    "                pickups.pop()\n",
    "                \n",
    "            \n",
    "            break\n",
    "        elif temp_pickups < cap:\n",
    "            pickups[p] = 0\n",
    "            pickups.pop()\n",
    "    md = max_d[0]\n",
    "    mp = max_p[0]\n",
    "    print(md,mp)\n",
    "    max_ = max(md,mp)\n",
    "    answer += (max_+1)*2\n",
    "    \n",
    "    max_d = []\n",
    "    max_p = []\n",
    "    temp_delivery = 0\n",
    "    temp_pickups = 0\n"
   ]
  },
  {
   "cell_type": "code",
   "execution_count": 65,
   "id": "ab0e3dde",
   "metadata": {},
   "outputs": [
    {
     "name": "stdout",
     "output_type": "stream",
     "text": [
      "13\n"
     ]
    }
   ],
   "source": [
    "print(answer)"
   ]
  },
  {
   "cell_type": "code",
   "execution_count": null,
   "id": "8d3e7d84",
   "metadata": {},
   "outputs": [],
   "source": []
  },
  {
   "cell_type": "code",
   "execution_count": 53,
   "id": "f95d8a08",
   "metadata": {},
   "outputs": [
    {
     "name": "stdout",
     "output_type": "stream",
     "text": [
      "1\n",
      "0\n"
     ]
    }
   ],
   "source": [
    "for i in range(len(t)-1,-1,-1):\n",
    "    print(i)\n",
    "    "
   ]
  },
  {
   "cell_type": "code",
   "execution_count": 44,
   "id": "b2045261",
   "metadata": {},
   "outputs": [
    {
     "name": "stdout",
     "output_type": "stream",
     "text": [
      "a\n"
     ]
    }
   ],
   "source": [
    "while s or t:\n",
    "    print('a')\n",
    "    break"
   ]
  },
  {
   "cell_type": "code",
   "execution_count": 52,
   "id": "0959a231",
   "metadata": {},
   "outputs": [],
   "source": [
    "s = []\n",
    "t = [1,2]"
   ]
  },
  {
   "cell_type": "code",
   "execution_count": 36,
   "id": "d2a0c1af",
   "metadata": {},
   "outputs": [],
   "source": [
    "if s:\n",
    "    print('a')"
   ]
  },
  {
   "cell_type": "code",
   "execution_count": null,
   "id": "1574ed57",
   "metadata": {},
   "outputs": [],
   "source": []
  },
  {
   "cell_type": "markdown",
   "id": "954b3ba9",
   "metadata": {},
   "source": [
    "## 3번"
   ]
  },
  {
   "cell_type": "code",
   "execution_count": 67,
   "id": "a9e2ebbd",
   "metadata": {},
   "outputs": [],
   "source": [
    "users = [[40,10000],[25,10000]]\n",
    "emoticons = [7000,9000]"
   ]
  },
  {
   "cell_type": "code",
   "execution_count": null,
   "id": "d4392afa",
   "metadata": {},
   "outputs": [],
   "source": [
    "# 가입만되었으면 더 할인해줄 필요없음. = 백트래킹 \n",
    "# 각 유저별 가입"
   ]
  },
  {
   "cell_type": "code",
   "execution_count": null,
   "id": "15405ddc",
   "metadata": {},
   "outputs": [],
   "source": [
    "# 전체 40프로할인된거에서 시작?? "
   ]
  },
  {
   "cell_type": "code",
   "execution_count": null,
   "id": "c351d49f",
   "metadata": {},
   "outputs": [],
   "source": [
    "# 1. subs_user= []\n",
    "# 2. 해당 sub_user에 대하여 "
   ]
  },
  {
   "cell_type": "code",
   "execution_count": 122,
   "id": "6b167bcf",
   "metadata": {},
   "outputs": [],
   "source": [
    "map_ = [[0 for x in emoticons]]"
   ]
  },
  {
   "cell_type": "code",
   "execution_count": 123,
   "id": "819bad9b",
   "metadata": {},
   "outputs": [],
   "source": [
    "for i in range(1,5):\n",
    "    discount = 0.1 * i\n",
    "    temp = [x* (1-discount) for x in emoticons]\n",
    "    map_.append(temp)"
   ]
  },
  {
   "cell_type": "code",
   "execution_count": null,
   "id": "2ef9e079",
   "metadata": {},
   "outputs": [],
   "source": []
  },
  {
   "cell_type": "code",
   "execution_count": 124,
   "id": "9f36ed7d",
   "metadata": {},
   "outputs": [
    {
     "data": {
      "text/plain": [
       "[[0, 0],\n",
       " [6300.0, 8100.0],\n",
       " [5600.0, 7200.0],\n",
       " [4900.0, 6300.0],\n",
       " [4200.0, 5400.0]]"
      ]
     },
     "execution_count": 124,
     "metadata": {},
     "output_type": "execute_result"
    }
   ],
   "source": [
    "map_"
   ]
  },
  {
   "cell_type": "markdown",
   "id": "59f0351c",
   "metadata": {},
   "source": []
  },
  {
   "cell_type": "markdown",
   "id": "f98742ae",
   "metadata": {},
   "source": [
    "# 4번"
   ]
  },
  {
   "cell_type": "code",
   "execution_count": 126,
   "id": "71e3973d",
   "metadata": {},
   "outputs": [
    {
     "data": {
      "text/plain": [
       "'0b101'"
      ]
     },
     "execution_count": 126,
     "metadata": {},
     "output_type": "execute_result"
    }
   ],
   "source": [
    "bin(5)"
   ]
  },
  {
   "cell_type": "code",
   "execution_count": 127,
   "id": "eef6ec43",
   "metadata": {},
   "outputs": [],
   "source": [
    "# 짝수면 못만듬"
   ]
  },
  {
   "cell_type": "code",
   "execution_count": 128,
   "id": "3dfe5fe7",
   "metadata": {},
   "outputs": [
    {
     "data": {
      "text/plain": [
       "'0b1011111'"
      ]
     },
     "execution_count": 128,
     "metadata": {},
     "output_type": "execute_result"
    }
   ],
   "source": [
    "bin(95)"
   ]
  },
  {
   "cell_type": "code",
   "execution_count": null,
   "id": "3d83320c",
   "metadata": {},
   "outputs": [],
   "source": [
    "3 7 15 # 짝수가 아니라 이 숫자들이 아니면 안딤 ."
   ]
  },
  {
   "cell_type": "code",
   "execution_count": null,
   "id": "f5983e6e",
   "metadata": {},
   "outputs": [],
   "source": [
    "10111"
   ]
  },
  {
   "cell_type": "code",
   "execution_count": null,
   "id": "fffd89e4",
   "metadata": {},
   "outputs": [],
   "source": [
    "1011111"
   ]
  },
  {
   "cell_type": "code",
   "execution_count": null,
   "id": "31532686",
   "metadata": {},
   "outputs": [],
   "source": [
    "# 1. 해당 10진수가 짝수개의 이진수로 표현된다 \n",
    "# 2. 해당에서 중앙 뺴고 나머지가 나ㅜ넜을떄 중앙이 0이되는꼴이있으면 아웃\n"
   ]
  },
  {
   "cell_type": "code",
   "execution_count": 203,
   "id": "5b235c1c",
   "metadata": {},
   "outputs": [],
   "source": [
    "numbers = [63,111,95]"
   ]
  },
  {
   "cell_type": "code",
   "execution_count": 204,
   "id": "ffb2389e",
   "metadata": {},
   "outputs": [],
   "source": [
    "def check(string):\n",
    "    \n",
    "    global possible\n",
    "    length = len(string)\n",
    "    if length == 1:\n",
    "        return \n",
    "    mid = length//2\n",
    "    if string[mid] == '0':\n",
    "        possible = 0\n",
    "        return \n",
    "    \n",
    "    left = string[:mid]\n",
    "    check(left)\n",
    "    right = string[mid+1:]\n",
    "    check(right)\n",
    "    "
   ]
  },
  {
   "cell_type": "code",
   "execution_count": 205,
   "id": "ef807b58",
   "metadata": {},
   "outputs": [],
   "source": [
    "answer = []\n",
    "for n in numbers:\n",
    "    binary = bin(n)[2:]\n",
    "    length = len(binary)\n",
    "    while  ( length + 1 ) % 2 != 0 :\n",
    "        binary = '0' + binary\n",
    "        length = len(binary)\n",
    "    possible = 1\n",
    "    check(binary)\n",
    "    answer.append(possible)\n",
    "        \n",
    "        \n",
    "    \n",
    "    "
   ]
  },
  {
   "cell_type": "code",
   "execution_count": 206,
   "id": "e5cc3bdb",
   "metadata": {},
   "outputs": [
    {
     "data": {
      "text/plain": [
       "[1, 1, 0]"
      ]
     },
     "execution_count": 206,
     "metadata": {},
     "output_type": "execute_result"
    }
   ],
   "source": [
    "answer"
   ]
  },
  {
   "cell_type": "code",
   "execution_count": null,
   "id": "7a4ad563",
   "metadata": {},
   "outputs": [],
   "source": []
  },
  {
   "cell_type": "code",
   "execution_count": 189,
   "id": "4d709656",
   "metadata": {},
   "outputs": [],
   "source": [
    "numbers = [7,5]"
   ]
  },
  {
   "cell_type": "code",
   "execution_count": 243,
   "id": "18fecdd9",
   "metadata": {},
   "outputs": [],
   "source": [
    "from copy import copy"
   ]
  },
  {
   "cell_type": "code",
   "execution_count": 316,
   "id": "8db4674e",
   "metadata": {},
   "outputs": [],
   "source": [
    "numbers=[13]"
   ]
  },
  {
   "cell_type": "code",
   "execution_count": 322,
   "id": "5f57d3ea",
   "metadata": {},
   "outputs": [
    {
     "name": "stdout",
     "output_type": "stream",
     "text": [
      "01101 2\n",
      "01 1\n",
      " 0\n"
     ]
    },
    {
     "ename": "IndexError",
     "evalue": "string index out of range",
     "output_type": "error",
     "traceback": [
      "\u001b[0;31m---------------------------------------------------------------------------\u001b[0m",
      "\u001b[0;31mIndexError\u001b[0m                                Traceback (most recent call last)",
      "Input \u001b[0;32mIn [322]\u001b[0m, in \u001b[0;36m<cell line: 1>\u001b[0;34m()\u001b[0m\n\u001b[0;32m----> 1\u001b[0m \u001b[43mcheck\u001b[49m\u001b[43m(\u001b[49m\u001b[38;5;124;43m'\u001b[39;49m\u001b[38;5;124;43m01101\u001b[39;49m\u001b[38;5;124;43m'\u001b[39;49m\u001b[43m)\u001b[49m\n",
      "Input \u001b[0;32mIn [321]\u001b[0m, in \u001b[0;36mcheck\u001b[0;34m(string)\u001b[0m\n\u001b[1;32m     12\u001b[0m     \u001b[38;5;28;01mreturn\u001b[39;00m \n\u001b[1;32m     14\u001b[0m left \u001b[38;5;241m=\u001b[39m string[:mid]\n\u001b[0;32m---> 15\u001b[0m \u001b[43mcheck\u001b[49m\u001b[43m(\u001b[49m\u001b[43mleft\u001b[49m\u001b[43m)\u001b[49m\n\u001b[1;32m     16\u001b[0m right \u001b[38;5;241m=\u001b[39m string[mid\u001b[38;5;241m+\u001b[39m\u001b[38;5;241m1\u001b[39m:]\n\u001b[1;32m     17\u001b[0m check(right)\n",
      "Input \u001b[0;32mIn [321]\u001b[0m, in \u001b[0;36mcheck\u001b[0;34m(string)\u001b[0m\n\u001b[1;32m     15\u001b[0m check(left)\n\u001b[1;32m     16\u001b[0m right \u001b[38;5;241m=\u001b[39m string[mid\u001b[38;5;241m+\u001b[39m\u001b[38;5;241m1\u001b[39m:]\n\u001b[0;32m---> 17\u001b[0m \u001b[43mcheck\u001b[49m\u001b[43m(\u001b[49m\u001b[43mright\u001b[49m\u001b[43m)\u001b[49m\n",
      "Input \u001b[0;32mIn [321]\u001b[0m, in \u001b[0;36mcheck\u001b[0;34m(string)\u001b[0m\n\u001b[1;32m      7\u001b[0m mid \u001b[38;5;241m=\u001b[39m length\u001b[38;5;241m/\u001b[39m\u001b[38;5;241m/\u001b[39m\u001b[38;5;241m2\u001b[39m\n\u001b[1;32m      8\u001b[0m \u001b[38;5;28mprint\u001b[39m(string,mid)\n\u001b[0;32m----> 9\u001b[0m \u001b[38;5;28;01mif\u001b[39;00m \u001b[43mstring\u001b[49m\u001b[43m[\u001b[49m\u001b[43mmid\u001b[49m\u001b[43m]\u001b[49m \u001b[38;5;241m==\u001b[39m \u001b[38;5;124m'\u001b[39m\u001b[38;5;124m0\u001b[39m\u001b[38;5;124m'\u001b[39m:\n\u001b[1;32m     10\u001b[0m     possible[\u001b[38;5;241m0\u001b[39m] \u001b[38;5;241m=\u001b[39m \u001b[38;5;241m0\u001b[39m\n\u001b[1;32m     12\u001b[0m     \u001b[38;5;28;01mreturn\u001b[39;00m \n",
      "\u001b[0;31mIndexError\u001b[0m: string index out of range"
     ]
    }
   ],
   "source": [
    "check('01101')"
   ]
  },
  {
   "cell_type": "code",
   "execution_count": 321,
   "id": "ef193dc8",
   "metadata": {},
   "outputs": [],
   "source": [
    "def check(string):\n",
    "    \n",
    "    global possible\n",
    "    length = len(string)\n",
    "    if length == 1:\n",
    "        return \n",
    "    mid = length//2\n",
    "    print(string,mid)\n",
    "    if string[mid] == '0':\n",
    "        possible[0] = 0\n",
    "        \n",
    "        return \n",
    "    \n",
    "    left = string[:mid]\n",
    "    check(left)\n",
    "    right = string[mid+1:]\n",
    "    check(right)"
   ]
  },
  {
   "cell_type": "code",
   "execution_count": 356,
   "id": "02ff5488",
   "metadata": {},
   "outputs": [],
   "source": [
    "numbers=[8,9,10,11,12,13,14,15,16,17]"
   ]
  },
  {
   "cell_type": "code",
   "execution_count": 382,
   "id": "fe67b012",
   "metadata": {},
   "outputs": [],
   "source": [
    "numbers=[1110111111011111]"
   ]
  },
  {
   "cell_type": "code",
   "execution_count": 385,
   "id": "008a8668",
   "metadata": {},
   "outputs": [
    {
     "data": {
      "text/plain": [
       "1"
      ]
     },
     "execution_count": 385,
     "metadata": {},
     "output_type": "execute_result"
    }
   ],
   "source": [
    " 1\n",
    "1    "
   ]
  },
  {
   "cell_type": "code",
   "execution_count": null,
   "id": "a594dab2",
   "metadata": {},
   "outputs": [],
   "source": [
    "11101111 11011111"
   ]
  },
  {
   "cell_type": "code",
   "execution_count": 387,
   "id": "9b0298b4",
   "metadata": {},
   "outputs": [
    {
     "data": {
      "text/plain": [
       "'0b111111'"
      ]
     },
     "execution_count": 387,
     "metadata": {},
     "output_type": "execute_result"
    }
   ],
   "source": [
    "bin(63)"
   ]
  },
  {
   "cell_type": "code",
   "execution_count": 400,
   "id": "fa6f3e9c",
   "metadata": {},
   "outputs": [],
   "source": [
    "numbers= [58]"
   ]
  },
  {
   "cell_type": "code",
   "execution_count": 401,
   "id": "285d241f",
   "metadata": {},
   "outputs": [],
   "source": [
    "from copy import copy\n",
    "def check(string):\n",
    "    \n",
    "    global possible\n",
    "    length = len(string)\n",
    "    if length == 1:\n",
    "        return \n",
    "    mid = length//2\n",
    "    if string[mid] == '0':\n",
    "        possible[0] = 0\n",
    "        \n",
    "        return \n",
    "    \n",
    "    left = string[:mid]\n",
    "    check(left)\n",
    "    right = string[mid+1:]\n",
    "    check(right)\n",
    "    \n",
    "possible =[1]\n",
    "def solution(numbers):\n",
    "   \n",
    "    answer = []\n",
    "    for n in numbers:\n",
    "        binary = bin(n)[2:]\n",
    "        length = len(binary)\n",
    "        \n",
    "        if length in [2,6,14,30,62]:\n",
    "            binary = '0' + binary\n",
    "        elif length in [1,3,7,15,31,63]:\n",
    "            pass\n",
    "        else:\n",
    "            answer.append(0)\n",
    "            continue\n",
    "        \n",
    "        possible[0] = 1\n",
    "        \n",
    "        check(binary)\n",
    "        answer_ = copy(possible)\n",
    "        answer.append(answer_[0])\n",
    "    return answer"
   ]
  },
  {
   "cell_type": "code",
   "execution_count": 402,
   "id": "e48540d3",
   "metadata": {},
   "outputs": [
    {
     "data": {
      "text/plain": [
       "[1]"
      ]
     },
     "execution_count": 402,
     "metadata": {},
     "output_type": "execute_result"
    }
   ],
   "source": [
    "solution(numbers)"
   ]
  },
  {
   "cell_type": "code",
   "execution_count": null,
   "id": "e7f3a036",
   "metadata": {},
   "outputs": [],
   "source": []
  },
  {
   "cell_type": "code",
   "execution_count": null,
   "id": "596ec51e",
   "metadata": {},
   "outputs": [],
   "source": []
  },
  {
   "cell_type": "code",
   "execution_count": 373,
   "id": "05bb295a",
   "metadata": {},
   "outputs": [
    {
     "data": {
      "text/plain": [
       "'0b11000'"
      ]
     },
     "execution_count": 373,
     "metadata": {},
     "output_type": "execute_result"
    }
   ],
   "source": [
    "bin(24)"
   ]
  },
  {
   "cell_type": "code",
   "execution_count": null,
   "id": "827477dc",
   "metadata": {},
   "outputs": [],
   "source": [
    "1101011"
   ]
  },
  {
   "cell_type": "code",
   "execution_count": null,
   "id": "1300fd69",
   "metadata": {},
   "outputs": [],
   "source": []
  },
  {
   "cell_type": "code",
   "execution_count": 231,
   "id": "da4cdda9",
   "metadata": {},
   "outputs": [
    {
     "ename": "SyntaxError",
     "evalue": "invalid syntax (3574863219.py, line 1)",
     "output_type": "error",
     "traceback": [
      "\u001b[0;36m  Input \u001b[0;32mIn [231]\u001b[0;36m\u001b[0m\n\u001b[0;31m    mid =\u001b[0m\n\u001b[0m          ^\u001b[0m\n\u001b[0;31mSyntaxError\u001b[0m\u001b[0;31m:\u001b[0m invalid syntax\n"
     ]
    }
   ],
   "source": [
    "mid = "
   ]
  },
  {
   "cell_type": "code",
   "execution_count": null,
   "id": "cd0d1537",
   "metadata": {},
   "outputs": [],
   "source": [
    "aa"
   ]
  }
 ],
 "metadata": {
  "kernelspec": {
   "display_name": "Python 3 (ipykernel)",
   "language": "python",
   "name": "python3"
  },
  "language_info": {
   "codemirror_mode": {
    "name": "ipython",
    "version": 3
   },
   "file_extension": ".py",
   "mimetype": "text/x-python",
   "name": "python",
   "nbconvert_exporter": "python",
   "pygments_lexer": "ipython3",
   "version": "3.8.13"
  }
 },
 "nbformat": 4,
 "nbformat_minor": 5
}
