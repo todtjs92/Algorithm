{
 "cells": [
  {
   "cell_type": "code",
   "execution_count": 1,
   "id": "44e8b828",
   "metadata": {},
   "outputs": [],
   "source": [
    "n = 8"
   ]
  },
  {
   "cell_type": "code",
   "execution_count": 2,
   "id": "52ff2ff2",
   "metadata": {},
   "outputs": [],
   "source": [
    "map_ = [[0 for y in range(N)] for x in range(N)]"
   ]
  },
  {
   "cell_type": "code",
   "execution_count": null,
   "id": "51e19e5e",
   "metadata": {},
   "outputs": [],
   "source": [
    "import sys\n",
    "\n",
    "def logic(n):\n",
    "    if n ==N:\n",
    "        global count\n",
    "        \n",
    "        count +=1\n",
    "    else:\n",
    "        for i in range(N):\n",
    "            if  visited[i]:\n",
    "                continue\n",
    "            \n",
    "            board[n] =  i\n",
    "            \n",
    "            if check(n):\n",
    "                visited[i] =True\n",
    "                logic(n+1)\n",
    "                visited[i] =  False\n",
    "\n",
    "def check(n):\n",
    "    for i in range(n):\n",
    "        if (board[n]== board[i]) or (n-i == abs(board[n] - board[i])):\n",
    "            return False\n",
    "    \n",
    "    return True\n",
    "\n",
    "if __name__ =='__main__':\n",
    "    N  = 4\n",
    "    count =  0\n",
    "    board = [0 for _ in range(N)]\n",
    "    visited = [False for _ in range(N)]\n",
    "    \n",
    "    logic(0)\n",
    "    print(count)"
   ]
  },
  {
   "cell_type": "markdown",
   "id": "929050af",
   "metadata": {},
   "source": [
    "# n_queen"
   ]
  },
  {
   "cell_type": "code",
   "execution_count": 1,
   "id": "08ae6955",
   "metadata": {},
   "outputs": [
    {
     "name": "stdout",
     "output_type": "stream",
     "text": [
      "4\n"
     ]
    }
   ],
   "source": [
    "N = int(input())"
   ]
  },
  {
   "cell_type": "code",
   "execution_count": 2,
   "id": "d8bb25f8",
   "metadata": {},
   "outputs": [],
   "source": [
    "count = 0\n",
    "row = [0 for x in range(N)]"
   ]
  },
  {
   "cell_type": "code",
   "execution_count": null,
   "id": "86c10605",
   "metadata": {},
   "outputs": [],
   "source": [
    "def check(x): # x 이전까지 검사하는 함수 .\n",
    "    for i in range(x):\n",
    "        if row[x] == row[i] or abs(row[x] - row[i]) == abs(x-i): # 행은 어차피 하나밖에 못넣으니 열만 검사 + 정방인지 (대각선) 검사\n",
    "            return False\n",
    "    return True\n",
    "\n",
    "def n_queens(x):\n",
    "    global ans\n",
    "    if x == n: # n까지 다돌았으면 카운트 +1\n",
    "        ans +=1\n",
    "        return\n",
    "    else:\n",
    "        for i in range(n):\n",
    "            row[x] = i\n",
    "            if is_promising(x):\n",
    "                n_queens(x+1) # 트루면 게속 dfs \n",
    "\n",
    "n_queens(0)\n",
    "print(ans)\n",
    "    "
   ]
  },
  {
   "cell_type": "code",
   "execution_count": null,
   "id": "60c60065",
   "metadata": {},
   "outputs": [],
   "source": [
    "n = int(input())\n",
    "\n",
    "ans = 0\n",
    "row = [0] * n\n",
    "\n",
    "def is_promising(x):\n",
    "    for i in range(x):\n",
    "        if row[x] == row[i] or abs(row[x] - row[i]) == abs(x - i):\n",
    "            return False\n",
    "    \n",
    "    return True\n",
    "\n",
    "def n_queens(x):\n",
    "    global ans\n",
    "    if x == n:\n",
    "        ans += 1\n",
    "        return\n",
    "\n",
    "    else:\n",
    "        for i in range(n):\n",
    "            # [x, i]에 퀸을 놓겠다.\n",
    "            row[x] = i\n",
    "            if is_promising(x):\n",
    "                n_queens(x+1)\n",
    "\n",
    "n_queens(0)\n",
    "print(ans)\n",
    "            \n",
    "    "
   ]
  },
  {
   "cell_type": "code",
   "execution_count": 1,
   "id": "1791a34f",
   "metadata": {},
   "outputs": [
    {
     "name": "stdout",
     "output_type": "stream",
     "text": [
      "4\n"
     ]
    }
   ],
   "source": [
    "n = input()"
   ]
  },
  {
   "cell_type": "code",
   "execution_count": null,
   "id": "b7768220",
   "metadata": {},
   "outputs": [],
   "source": [
    "ans = 0\n",
    "map_ = []"
   ]
  },
  {
   "cell_type": "markdown",
   "id": "bc3ddab9",
   "metadata": {},
   "source": [
    "## nqueen 변형"
   ]
  },
  {
   "cell_type": "code",
   "execution_count": 27,
   "id": "7672683e",
   "metadata": {},
   "outputs": [],
   "source": [
    "grid = ['0010','0121','1101','2000']"
   ]
  },
  {
   "cell_type": "code",
   "execution_count": 28,
   "id": "43351fb7",
   "metadata": {},
   "outputs": [],
   "source": [
    "n = len(grid) + 1"
   ]
  },
  {
   "cell_type": "code",
   "execution_count": 29,
   "id": "ea1f0003",
   "metadata": {},
   "outputs": [],
   "source": [
    "map_ = [['0' for y in range(n)] for x in range(n)]"
   ]
  },
  {
   "cell_type": "code",
   "execution_count": 30,
   "id": "1a0c0510",
   "metadata": {},
   "outputs": [],
   "source": [
    "color = 0"
   ]
  },
  {
   "cell_type": "code",
   "execution_count": 31,
   "id": "8aee875a",
   "metadata": {},
   "outputs": [
    {
     "data": {
      "text/plain": [
       "[['0', '0', '0', '0', '0'],\n",
       " ['0', '0', '0', '0', '0'],\n",
       " ['0', '0', '0', '0', '0'],\n",
       " ['0', '0', '0', '0', '0'],\n",
       " ['0', '0', '0', '0', '0']]"
      ]
     },
     "execution_count": 31,
     "metadata": {},
     "output_type": "execute_result"
    }
   ],
   "source": [
    "map_"
   ]
  },
  {
   "cell_type": "markdown",
   "id": "3a2c0cf6",
   "metadata": {},
   "source": [
    "##  처음시도 ( bfs 쓸생각을 못했네)"
   ]
  },
  {
   "cell_type": "code",
   "execution_count": 32,
   "id": "82abd098",
   "metadata": {},
   "outputs": [
    {
     "name": "stdout",
     "output_type": "stream",
     "text": [
      "[[1, '0', '0', '0', '0'], ['0', 1, '0', '0', '0'], ['0', '0', '0', '0', '0'], ['0', '0', '0', '0', '0'], ['0', '0', '0', '0', '0']]\n",
      "[[1, 2, '0', '0', '0'], ['0', 1, 2, '0', '0'], ['0', '0', '0', '0', '0'], ['0', '0', '0', '0', '0'], ['0', '0', '0', '0', '0']]\n",
      "[[1, 2, '0', 2, '0'], ['0', 1, 2, '0', '0'], ['0', '0', '0', '0', '0'], ['0', '0', '0', '0', '0'], ['0', '0', '0', '0', '0']]\n",
      "[[1, 2, '0', 2, '0'], ['0', 1, 2, '0', 2], ['0', '0', '0', '0', '0'], ['0', '0', '0', '0', '0'], ['0', '0', '0', '0', '0']]\n",
      "[[1, 2, '0', 2, '0'], [3, 1, 2, '0', 2], ['0', 3, '0', '0', '0'], ['0', '0', '0', '0', '0'], ['0', '0', '0', '0', '0']]\n",
      "[[1, 2, '0', 2, '0'], [2, 1, 2, '0', 2], ['0', 2, '0', 2, '0'], ['0', '0', '0', '0', '0'], ['0', '0', '0', '0', '0']]\n",
      "[[1, 2, '0', 2, '0'], [2, 1, 2, '0', 2], ['0', 2, '0', 2, '0'], [2, '0', '0', '0', '0'], ['0', '0', '0', '0', '0']]\n",
      "[[1, 2, '0', 2, '0'], [2, 1, 2, '0', 2], ['0', 2, 4, 2, '0'], [2, 4, '0', '0', '0'], ['0', '0', '0', '0', '0']]\n",
      "[[1, 2, '0', 2, '0'], [2, 1, 2, '0', 2], ['0', 2, 4, 2, '0'], [2, 4, '0', 4, '0'], ['0', '0', '0', '0', '0']]\n",
      "[[1, 2, '0', 2, '0'], [2, 1, 2, '0', 2], ['0', 2, 4, 2, 4], [2, 4, '0', 4, '0'], ['0', '0', '0', '0', '0']]\n",
      "[[1, 2, '0', 2, '0'], [2, 1, 2, '0', 2], ['0', 2, 4, 2, 4], [2, 4, '0', 4, '0'], ['0', '0', 4, '0', '0']]\n",
      "[[1, 2, '0', 2, '0'], [2, 1, 2, '0', 2], ['0', 2, 4, 2, 4], [2, 4, 5, 4, '0'], ['0', '0', 4, 5, '0']]\n",
      "[[1, 2, '0', 2, '0'], [2, 1, 2, '0', 2], ['0', 2, 4, 2, 4], [2, 4, 5, 4, '0'], ['0', '0', 4, 5, 4]]\n"
     ]
    }
   ],
   "source": [
    "for i in range(n-1):\n",
    "    for j in range(n-1):\n",
    "        command = grid[i][j]\n",
    "        \n",
    "        if command == '2':\n",
    "            continue \n",
    "        \n",
    "        elif command == '0':\n",
    "            if map_[i][j] == '0' and map_[i+1][j+1] == '0':\n",
    "                color +=1\n",
    "                map_[i][j] = color\n",
    "                map_[i+1][j+1] = color\n",
    "            else:\n",
    "                if map_[i][j] != '0' and map_[i+1][j+1] != '0':\n",
    "                    min_color = min(map_[i][j] , map_[i+1][j+1])\n",
    "                    max_color = max(map_[i][j] , map_[i+1][j+1])\n",
    "                    for ii in range(n-1):\n",
    "                        for jj in range(n-1):\n",
    "                            if map_[ii][jj] ==  max_color:\n",
    "                                map_[ii][jj] = min_color\n",
    "                    \n",
    "                    continue\n",
    "                \n",
    "                if map_[i][j] == '0':\n",
    "                    color_temp = map_[i+1][j+1]\n",
    "                    map_[i][j] = color_temp\n",
    "                    \n",
    "                elif map_[i+1][j+1] == '0':\n",
    "                    color_temp = map_[i][j]\n",
    "                    map_[i+1][j+1] = color_temp\n",
    "        \n",
    "        elif command == '1':\n",
    "            if map_[i+1][j] == '0' and map_[i][j+1] == '0':\n",
    "                color +=1\n",
    "                map_[i+1][j] = color\n",
    "                map_[i][j+1] = color\n",
    "            \n",
    "            else:\n",
    "                \n",
    "                if map_[i+1][j] != '0' and map_[i][j+1] != '0':\n",
    "                    min_color = min(map_[i+1][j] , map_[i][j+1])\n",
    "                    max_color = max(map_[i+1][j] , map_[i][j+1])\n",
    "                    for ii in range(n-1):\n",
    "                        for jj in range(n-1):\n",
    "                            if map_[ii][jj] ==  max_color:\n",
    "                                map_[ii][jj] = min_color\n",
    "                    \n",
    "                    continue\n",
    "                \n",
    "                if map_[i+1][j] == '0':\n",
    "                    color_temp = map_[i][j+1]\n",
    "                    map_[i+1][j] = color_temp\n",
    "                \n",
    "                elif map_[i][j+1] == '0':\n",
    "                    color_temp = map_[i+1][j]\n",
    "                    map_[i][j+1] = color_temp\n",
    "                \n",
    "        print(map_ )\n",
    "            \n",
    "            \n",
    "            # 아래꺼가 있을경우 더 작은수로 덮어쓰기  , 상관없네 \n",
    "            \n",
    "        \n",
    "        "
   ]
  },
  {
   "cell_type": "code",
   "execution_count": null,
   "id": "74b03487",
   "metadata": {},
   "outputs": [],
   "source": [
    "grid = ['0010',\n",
    "        '0121',\n",
    "        '1101',\n",
    "        '2000']"
   ]
  },
  {
   "cell_type": "markdown",
   "id": "370287bb",
   "metadata": {},
   "source": [
    "## 다시 bfs 써서 맵 생성"
   ]
  },
  {
   "cell_type": "code",
   "execution_count": 26,
   "id": "14974ab2",
   "metadata": {},
   "outputs": [
    {
     "data": {
      "text/plain": [
       "[[1, 2, '0', 2, '0'],\n",
       " [2, 1, 2, '0', 2],\n",
       " ['0', 2, 4, 2, 4],\n",
       " [2, 4, 5, 4, '0'],\n",
       " ['0', '0', 4, 5, 4]]"
      ]
     },
     "execution_count": 26,
     "metadata": {},
     "output_type": "execute_result"
    }
   ],
   "source": [
    "map_"
   ]
  },
  {
   "cell_type": "code",
   "execution_count": null,
   "id": "eacfb382",
   "metadata": {},
   "outputs": [],
   "source": []
  },
  {
   "cell_type": "code",
   "execution_count": 1,
   "id": "51ae9acd",
   "metadata": {},
   "outputs": [],
   "source": [
    "grid = ['0010','0121','1101','2000']\n",
    "n = len(grid) + 1\n",
    "map_ = [['0' for y in range(n)] for x in range(n)]\n",
    "color = 0"
   ]
  },
  {
   "cell_type": "markdown",
   "id": "990fb629",
   "metadata": {},
   "source": [
    "### 이것도 안됨 . 할수는 있껬따 근데 너무 복잡해질듯"
   ]
  },
  {
   "cell_type": "code",
   "execution_count": 3,
   "id": "19b20608",
   "metadata": {},
   "outputs": [],
   "source": [
    "for i in range(n-1):\n",
    "    for j in range(n-1):\n",
    "        command = grid[i][j]\n",
    "        \n",
    "        if command == '2':\n",
    "            continue\n",
    "        \n",
    "        elif command == '0':\n",
    "            map_[i][j] = '1'\n",
    "            map_[i+1][j+1] = '1'\n",
    "            \n",
    "        \n",
    "        elif command == '1':\n",
    "            map_[i+1][j] = '1'\n",
    "            map_[i][j+1] = '1'"
   ]
  },
  {
   "cell_type": "code",
   "execution_count": null,
   "id": "a63be43b",
   "metadata": {},
   "outputs": [],
   "source": []
  },
  {
   "cell_type": "code",
   "execution_count": null,
   "id": "9fd13b9f",
   "metadata": {},
   "outputs": [],
   "source": []
  },
  {
   "cell_type": "code",
   "execution_count": 4,
   "id": "024bcb32",
   "metadata": {},
   "outputs": [
    {
     "data": {
      "text/plain": [
       "[['1', '1', '0', '1', '0'],\n",
       " ['1', '1', '1', '0', '1'],\n",
       " ['0', '1', '1', '1', '1'],\n",
       " ['1', '1', '1', '1', '0'],\n",
       " ['0', '0', '1', '1', '1']]"
      ]
     },
     "execution_count": 4,
     "metadata": {},
     "output_type": "execute_result"
    }
   ],
   "source": [
    "map_"
   ]
  },
  {
   "cell_type": "code",
   "execution_count": null,
   "id": "0d4dac56",
   "metadata": {},
   "outputs": [],
   "source": []
  },
  {
   "cell_type": "code",
   "execution_count": null,
   "id": "571a64d2",
   "metadata": {},
   "outputs": [],
   "source": []
  },
  {
   "cell_type": "code",
   "execution_count": null,
   "id": "975ea8a2",
   "metadata": {},
   "outputs": [],
   "source": [
    "    "
   ]
  }
 ],
 "metadata": {
  "kernelspec": {
   "display_name": "Python 3 (ipykernel)",
   "language": "python",
   "name": "python3"
  },
  "language_info": {
   "codemirror_mode": {
    "name": "ipython",
    "version": 3
   },
   "file_extension": ".py",
   "mimetype": "text/x-python",
   "name": "python",
   "nbconvert_exporter": "python",
   "pygments_lexer": "ipython3",
   "version": "3.8.13"
  }
 },
 "nbformat": 4,
 "nbformat_minor": 5
}
