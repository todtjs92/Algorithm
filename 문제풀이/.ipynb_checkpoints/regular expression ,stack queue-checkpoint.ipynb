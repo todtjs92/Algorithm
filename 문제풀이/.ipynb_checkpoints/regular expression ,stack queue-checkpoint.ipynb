{
 "cells": [
  {
   "cell_type": "markdown",
   "id": "db6c505e",
   "metadata": {},
   "source": [
    "# 1번"
   ]
  },
  {
   "cell_type": "code",
   "execution_count": 53,
   "id": "447d8dde",
   "metadata": {},
   "outputs": [],
   "source": [
    "logs = [\"team_name : db application_name : dbtest error_level : info message : test\", \"team_name : test application_name : I DONT CARE error_level : error message : x\", \"team_name : ThisIsJustForTest application_name : TestAndTestAndTestAndTest error_level : test message : IAlwaysTestingAndIWillTestForever\", \"team_name : oberervability application_name : LogViewer error_level : error\"]"
   ]
  },
  {
   "cell_type": "code",
   "execution_count": 64,
   "id": "83f46c15",
   "metadata": {},
   "outputs": [],
   "source": [
    "logs = [\"team_name : MyTeam application_name : YourApp error_level : info messag : IndexOutOfRange\", \"no such file or directory\", \"team_name : recommenzd application_name : recommend error_level : info message : RecommendSucces11\", \"team_name : recommend application_name : recommend error_level : info message : Success!\", \"   team_name : db application_name : dbtest error_level : info message : test\", \"team_name     : db application_name : dbtest error_level : info message : test\", \"team_name : TeamTest application_name : TestApplication error_level : info message : ThereIsNoError\"]"
   ]
  },
  {
   "cell_type": "code",
   "execution_count": 128,
   "id": "3f476a6f",
   "metadata": {},
   "outputs": [],
   "source": [
    "logs=  [\"team_name : MyTeam application_name : YourApp error_level : info message : IndexOutOfRange!\"]"
   ]
  },
  {
   "cell_type": "code",
   "execution_count": 129,
   "id": "b780930f",
   "metadata": {},
   "outputs": [],
   "source": [
    "import re"
   ]
  },
  {
   "cell_type": "code",
   "execution_count": 130,
   "id": "973f05c2",
   "metadata": {},
   "outputs": [
    {
     "name": "stdout",
     "output_type": "stream",
     "text": [
      "<re.Match object; span=(0, 25), match='message : IndexOutOfRange'>\n"
     ]
    }
   ],
   "source": [
    "answer =0\n",
    "count = 0\n",
    "for _ in logs:\n",
    "    count+=1\n",
    "    \n",
    "    # len\n",
    "    if len(_) >100:\n",
    "        answer +=1\n",
    "        continue\n",
    "    \n",
    "    # 1\n",
    "    string = re.match('team_name : [a-zA-z]+',_)\n",
    "    \n",
    "    if string == None:\n",
    "        answer +=1\n",
    "        continue\n",
    "    start = string.span()[0] \n",
    "    end   = string.span()[1] \n",
    "    \n",
    "    if start != 0:\n",
    "        answer +=1\n",
    "        continue\n",
    "    _ = _[end+1:] \n",
    "    \n",
    "    string = re.match('application_name : [a-zA-z]+',_)\n",
    "    if string ==  None:\n",
    "        answer +=1\n",
    "        continue\n",
    "        \n",
    "    start = string.span()[0]\n",
    "    end   =  string.span()[1]\n",
    "    \n",
    "    if start != 0:\n",
    "        answer +=1\n",
    "        continue\n",
    "    \n",
    "    _ = _[end+1:]\n",
    "    \n",
    "    string = re.match('error_level : [a-zA-z]+',_)\n",
    "    if string == None:\n",
    "        answer +=1\n",
    "        continue\n",
    "    \n",
    "    start = string.span()[0]\n",
    "    end   = string.span()[1]\n",
    "    \n",
    "    if start !=0:\n",
    "        answer +=1\n",
    "        continue\n",
    "    _ = _[end+1:]\n",
    "    \n",
    "    string  = re.match('message : [a-zA-z]+',_)\n",
    "    print(string)\n",
    "    \n",
    "    if string == None:\n",
    "        answer +=1\n",
    "        continue\n",
    "    \n",
    "    start = string.span()[0]\n",
    "    end   = string.span()[1]\n",
    "   \n",
    "    \n",
    "    if start != 0:\n",
    "        answer +=1\n",
    "        continue\n",
    "   \n",
    "    _ = _[end:]\n",
    "   \n",
    "    if len(_) >=1:\n",
    "        answer+=1\n",
    "        continue\n",
    "    \n",
    "    \n",
    "    \n",
    "    "
   ]
  },
  {
   "cell_type": "markdown",
   "id": "492c7082",
   "metadata": {},
   "source": [
    "## 복기"
   ]
  },
  {
   "cell_type": "code",
   "execution_count": null,
   "id": "88044e80",
   "metadata": {},
   "outputs": [],
   "source": [
    "#1 r e.match 하고 추가로 함수 가져오는거\n",
    "#2 없을시 None이라고나옴"
   ]
  },
  {
   "cell_type": "code",
   "execution_count": 131,
   "id": "b219f782",
   "metadata": {},
   "outputs": [
    {
     "data": {
      "text/plain": [
       "1"
      ]
     },
     "execution_count": 131,
     "metadata": {},
     "output_type": "execute_result"
    }
   ],
   "source": [
    "answer"
   ]
  },
  {
   "cell_type": "code",
   "execution_count": null,
   "id": "6caa6f8f",
   "metadata": {},
   "outputs": [],
   "source": []
  },
  {
   "cell_type": "code",
   "execution_count": null,
   "id": "bf77f810",
   "metadata": {},
   "outputs": [],
   "source": []
  },
  {
   "cell_type": "code",
   "execution_count": null,
   "id": "340eb02a",
   "metadata": {},
   "outputs": [],
   "source": []
  },
  {
   "cell_type": "code",
   "execution_count": 5,
   "id": "1fde67d2",
   "metadata": {},
   "outputs": [
    {
     "data": {
      "text/plain": [
       "'team_name : db application_name : dbtest error_level : info message : test'"
      ]
     },
     "execution_count": 5,
     "metadata": {},
     "output_type": "execute_result"
    }
   ],
   "source": [
    "logs[0]"
   ]
  },
  {
   "cell_type": "code",
   "execution_count": 12,
   "id": "26759aef",
   "metadata": {},
   "outputs": [
    {
     "name": "stdout",
     "output_type": "stream",
     "text": [
      "a\n"
     ]
    }
   ],
   "source": [
    "if re.match('team_name : [a-zA-z]+',logs[0]):\n",
    "    print('a')"
   ]
  },
  {
   "cell_type": "code",
   "execution_count": 13,
   "id": "dbcf2ee1",
   "metadata": {},
   "outputs": [],
   "source": [
    "a =  re.match('team_name : [a-zA-z]+',logs[0])"
   ]
  },
  {
   "cell_type": "code",
   "execution_count": 17,
   "id": "6e9d7f9c",
   "metadata": {},
   "outputs": [
    {
     "data": {
      "text/plain": [
       "<re.Match object; span=(0, 14), match='team_name : db'>"
      ]
     },
     "execution_count": 17,
     "metadata": {},
     "output_type": "execute_result"
    }
   ],
   "source": [
    "a"
   ]
  },
  {
   "cell_type": "code",
   "execution_count": 21,
   "id": "9d3f50b8",
   "metadata": {},
   "outputs": [
    {
     "data": {
      "text/plain": [
       "(0, 14)"
      ]
     },
     "execution_count": 21,
     "metadata": {},
     "output_type": "execute_result"
    }
   ],
   "source": [
    "a.span()"
   ]
  },
  {
   "cell_type": "code",
   "execution_count": 22,
   "id": "94c2ae0d",
   "metadata": {},
   "outputs": [
    {
     "data": {
      "text/plain": [
       "0"
      ]
     },
     "execution_count": 22,
     "metadata": {},
     "output_type": "execute_result"
    }
   ],
   "source": [
    "a.span()[0]"
   ]
  },
  {
   "cell_type": "code",
   "execution_count": 25,
   "id": "01afdb8c",
   "metadata": {},
   "outputs": [
    {
     "data": {
      "text/plain": [
       "'application_name : dbtest error_level : info message : test'"
      ]
     },
     "execution_count": 25,
     "metadata": {},
     "output_type": "execute_result"
    }
   ],
   "source": [
    "logs[0][15:]"
   ]
  },
  {
   "cell_type": "code",
   "execution_count": 24,
   "id": "5c931b60",
   "metadata": {},
   "outputs": [
    {
     "data": {
      "text/plain": [
       "' application_name : dbtest error_level : info message : test'"
      ]
     },
     "execution_count": 24,
     "metadata": {},
     "output_type": "execute_result"
    }
   ],
   "source": [
    "logs[0][14:]"
   ]
  },
  {
   "cell_type": "markdown",
   "id": "63635c50",
   "metadata": {},
   "source": [
    "##  2번"
   ]
  },
  {
   "cell_type": "code",
   "execution_count": null,
   "id": "ad76c734",
   "metadata": {},
   "outputs": [],
   "source": [
    "#주의 아닐수도있음 . \n",
    "1. 소문자 or 빈칸당 1점.\n",
    "2. 대문자 = 2점 대신 대문자 하려면 shift 포함해야함 . \n",
    "3. 완변히 다만들수있어야 해당 문자에 대한 점수를 얻을 수 있음. "
   ]
  },
  {
   "cell_type": "code",
   "execution_count": 132,
   "id": "9d7de21d",
   "metadata": {},
   "outputs": [],
   "source": [
    "# 1 . 이러면 앞에랑, 2개 만 만들수있어서 점수는 12 + 8 = 20 \n",
    "sentences = [\"line in line\", \"LINE\", \"in lion\"]\n",
    "n = 5"
   ]
  },
  {
   "cell_type": "code",
   "execution_count": null,
   "id": "3a55124e",
   "metadata": {},
   "outputs": [],
   "source": [
    "# 1. 각각 점수 구해놓고 , 필요한 글자랑 . \n",
    "# 2. 조합별로 따져봐야할듯?? ( 그리디 하게 접근하면 안될듯 예시에서 보여줬뜼이)"
   ]
  },
  {
   "cell_type": "code",
   "execution_count": null,
   "id": "b8f02712",
   "metadata": {},
   "outputs": [],
   "source": [
    "sentences = [\"line in line\", \"LINE\", \"in lion\"]\n",
    "n = 5"
   ]
  },
  {
   "cell_type": "code",
   "execution_count": null,
   "id": "511eef08",
   "metadata": {},
   "outputs": [],
   "source": [
    "# 2. 이러면 7, 4, 1, 11 인데 필요글자가\n",
    "# abcd sf , bdc , a , linews sf\n",
    "sentences = [\"ABcD\", \"bdbc\", \"a\", \"Line neWs\"]\n",
    "n = 7"
   ]
  },
  {
   "cell_type": "code",
   "execution_count": null,
   "id": "8301830c",
   "metadata": {},
   "outputs": [],
   "source": [
    "7, 4, 1, 11 인데 필요글자가앞에게 12점 이라서 "
   ]
  },
  {
   "cell_type": "code",
   "execution_count": 48,
   "id": "9c01cb2c",
   "metadata": {},
   "outputs": [
    {
     "ename": "SyntaxError",
     "evalue": "invalid syntax (1949606320.py, line 1)",
     "output_type": "error",
     "traceback": [
      "\u001b[0;36m  File \u001b[0;32m\"/var/folders/kr/z0vkrxjj5bq7lqpnzwpy9s_c0000gn/T/ipykernel_3602/1949606320.py\"\u001b[0;36m, line \u001b[0;32m1\u001b[0m\n\u001b[0;31m    1분해해서 가져오고\u001b[0m\n\u001b[0m     ^\u001b[0m\n\u001b[0;31mSyntaxError\u001b[0m\u001b[0;31m:\u001b[0m invalid syntax\n"
     ]
    }
   ],
   "source": [
    "1분해해서 가져오고\n",
    "2 사전만들고\n",
    "3 각 케이스에서 필요한단어랑 점수 가져오기 "
   ]
  },
  {
   "cell_type": "code",
   "execution_count": 3,
   "id": "6adde33d",
   "metadata": {},
   "outputs": [],
   "source": [
    "import collections\n",
    "import itertools"
   ]
  },
  {
   "cell_type": "code",
   "execution_count": 4,
   "id": "4b5b7bf1",
   "metadata": {},
   "outputs": [],
   "source": [
    "sentences = [\"line in line\", \"LINE\", \"in lion\"]\n",
    "n = 5"
   ]
  },
  {
   "cell_type": "code",
   "execution_count": null,
   "id": "bf80eb36",
   "metadata": {},
   "outputs": [],
   "source": [
    "12 + 8 + 6"
   ]
  },
  {
   "cell_type": "code",
   "execution_count": null,
   "id": "7a8b2692",
   "metadata": {},
   "outputs": [],
   "source": [
    "26"
   ]
  },
  {
   "cell_type": "code",
   "execution_count": null,
   "id": "47d8c7ad",
   "metadata": {},
   "outputs": [],
   "source": [
    "lineshift"
   ]
  },
  {
   "cell_type": "code",
   "execution_count": 162,
   "id": "3aea8399",
   "metadata": {},
   "outputs": [],
   "source": [
    "sentences = [\"ABcD\", \"bdbc\", \"a\", \"Line neWs\"]\n",
    "n = 7"
   ]
  },
  {
   "cell_type": "code",
   "execution_count": 136,
   "id": "af9746c5",
   "metadata": {},
   "outputs": [],
   "source": [
    "dictionary_voc = {}\n",
    "dictionary_point ={}"
   ]
  },
  {
   "cell_type": "code",
   "execution_count": 137,
   "id": "b02cc6e5",
   "metadata": {},
   "outputs": [
    {
     "data": {
      "text/plain": [
       "['ABcD', 'bdbc', 'a', 'Line neWs']"
      ]
     },
     "execution_count": 137,
     "metadata": {},
     "output_type": "execute_result"
    }
   ],
   "source": [
    "sentences"
   ]
  },
  {
   "cell_type": "code",
   "execution_count": 1,
   "id": "290e0350",
   "metadata": {},
   "outputs": [],
   "source": [
    "sentences = [\"ABcD\", \"bdbc\", \"a\", \"Line neWs\"]\n",
    "n = 7"
   ]
  },
  {
   "cell_type": "code",
   "execution_count": null,
   "id": "5778dd4f",
   "metadata": {},
   "outputs": [],
   "source": [
    "abcd , bcd , a , line"
   ]
  },
  {
   "cell_type": "code",
   "execution_count": 167,
   "id": "7cdaa169",
   "metadata": {},
   "outputs": [],
   "source": [
    "sentences = [\"ABcd\", \"DEFGH\", \"ab\", \"Zxc\"]\n",
    "n=6"
   ]
  },
  {
   "cell_type": "code",
   "execution_count": null,
   "id": "84bfbbf8",
   "metadata": {},
   "outputs": [],
   "source": []
  },
  {
   "cell_type": "code",
   "execution_count": null,
   "id": "c1d1c8c6",
   "metadata": {},
   "outputs": [],
   "source": []
  },
  {
   "cell_type": "code",
   "execution_count": 9,
   "id": "aeb3dd26",
   "metadata": {},
   "outputs": [
    {
     "name": "stdout",
     "output_type": "stream",
     "text": [
      "{0: ['l', 'i', 'n', 'e'], 1: ['l', 'i', 'n', 'e', 'shift'], 2: ['i', 'n', 'l', 'o']}\n"
     ]
    }
   ],
   "source": [
    "dictionary_voc = {}\n",
    "dictionary_point ={}\n",
    "for i in range(len(sentences)):\n",
    "    capital =False\n",
    "    point = len(sentences[i])\n",
    "    for s in sentences[i]:\n",
    "        if s.isupper():\n",
    "            point +=1\n",
    "            capital =True\n",
    "            \n",
    "    dictionary_point[i] = point\n",
    "    \n",
    "    sentences[i] = sentences[i].replace(' ','')\n",
    "    keys = list( collections.Counter(sentences[i]).keys() )\n",
    "    keys = list(map(lambda x: x.lower(),keys))\n",
    "    dictionary_voc[i] = keys\n",
    "    if capital:\n",
    "        dictionary_voc[i].append('shift')\n",
    "print(dictionary_voc)"
   ]
  },
  {
   "cell_type": "code",
   "execution_count": 10,
   "id": "9cd311b6",
   "metadata": {},
   "outputs": [
    {
     "data": {
      "text/plain": [
       "{0: 10, 1: 8, 2: 6}"
      ]
     },
     "execution_count": 10,
     "metadata": {},
     "output_type": "execute_result"
    }
   ],
   "source": [
    "dictionary_point"
   ]
  },
  {
   "cell_type": "code",
   "execution_count": 11,
   "id": "ba0933a6",
   "metadata": {},
   "outputs": [
    {
     "name": "stdout",
     "output_type": "stream",
     "text": [
      "0 ['l', 'i', 'n', 'e']\n",
      "1 ['l', 'i', 'n', 'e', 'shift']\n",
      "2 ['i', 'n', 'l', 'o']\n"
     ]
    }
   ],
   "source": [
    "for i , j in dictionary_voc.items():\n",
    "    print(i,j)\n",
    "    if len(j) >n :\n",
    "        dictionary_voc.pop(i)\n",
    "        dictionary_point.pop(i)\n",
    "poss =[]\n",
    "for i in range(len(dictionary_voc)+1):\n",
    "    a = list(itertools.combinations(dictionary_voc.keys(),i))\n",
    "    poss+=a"
   ]
  },
  {
   "cell_type": "code",
   "execution_count": 14,
   "id": "59122d68",
   "metadata": {},
   "outputs": [
    {
     "data": {
      "text/plain": [
       "{0: ['l', 'i', 'n', 'e'],\n",
       " 1: ['l', 'i', 'n', 'e', 'shift'],\n",
       " 2: ['i', 'n', 'l', 'o']}"
      ]
     },
     "execution_count": 14,
     "metadata": {},
     "output_type": "execute_result"
    }
   ],
   "source": [
    "dictionary_voc\n"
   ]
  },
  {
   "cell_type": "code",
   "execution_count": 12,
   "id": "720477d2",
   "metadata": {},
   "outputs": [
    {
     "data": {
      "text/plain": [
       "[(), (0,), (1,), (2,), (0, 1), (0, 2), (1, 2), (0, 1, 2)]"
      ]
     },
     "execution_count": 12,
     "metadata": {},
     "output_type": "execute_result"
    }
   ],
   "source": [
    "poss"
   ]
  },
  {
   "cell_type": "markdown",
   "id": "9e1d6cd5",
   "metadata": {},
   "source": [
    "### 이걸 근데 이런식으로 탐색하면 했던거 또 하고 또하고 되서"
   ]
  },
  {
   "cell_type": "markdown",
   "id": "8c04dc19",
   "metadata": {},
   "source": [
    "### 포함여부를 먼저하는게 나으려나 ..?\n"
   ]
  },
  {
   "cell_type": "code",
   "execution_count": null,
   "id": "339e391a",
   "metadata": {},
   "outputs": [],
   "source": []
  },
  {
   "cell_type": "code",
   "execution_count": 5,
   "id": "c03930be",
   "metadata": {},
   "outputs": [
    {
     "name": "stdout",
     "output_type": "stream",
     "text": [
      "{0: ['l', 'i', 'n', 'e'], 1: ['l', 'i', 'n', 'e', 'shift'], 2: ['i', 'n', 'l', 'o']}\n",
      "0 ['l', 'i', 'n', 'e']\n",
      "1 ['l', 'i', 'n', 'e', 'shift']\n",
      "2 ['i', 'n', 'l', 'o']\n"
     ]
    }
   ],
   "source": [
    "dictionary_voc = {}\n",
    "dictionary_point ={}\n",
    "for i in range(len(sentences)):\n",
    "    capital =False\n",
    "    point = len(sentences[i])\n",
    "    for s in sentences[i]:\n",
    "        if s.isupper():\n",
    "            point +=1\n",
    "            capital =True\n",
    "            \n",
    "    dictionary_point[i] = point\n",
    "    \n",
    "    sentences[i] = sentences[i].replace(' ','')\n",
    "    keys = list( collections.Counter(sentences[i]).keys() )\n",
    "    keys = list(map(lambda x: x.lower(),keys))\n",
    "    dictionary_voc[i] = keys\n",
    "    if capital:\n",
    "        dictionary_voc[i].append('shift')\n",
    "print(dictionary_voc)\n",
    "\n",
    "for i , j in dictionary_voc.items():\n",
    "    print(i,j)\n",
    "    if len(j) >n :\n",
    "        dictionary_voc.pop(i)\n",
    "        dictionary_point.pop(i)\n",
    "poss =[]\n",
    "for i in range(len(dictionary_voc)+1):\n",
    "    a = list(itertools.combinations(dictionary_voc.keys(),i))\n",
    "    poss+=a\n",
    "    \n",
    "answer = 0\n",
    "for i in range(1,len(poss)):\n",
    "    \n",
    "    \n",
    "    need_vocab = []\n",
    "    for j in poss[i]:\n",
    "        need_vocab += dictionary_voc[j]\n",
    "    \n",
    "    need_vocab  = set(need_vocab)\n",
    "    \n",
    "    if len(need_vocab) >n:\n",
    "        continue\n",
    "        \n",
    "    point_sum =0\n",
    "    for j in poss[i]:\n",
    "        point_sum +=  dictionary_point[j]\n",
    "    \n",
    "    answer = max(answer, point_sum )    \n",
    "    "
   ]
  },
  {
   "cell_type": "code",
   "execution_count": 8,
   "id": "dec85525",
   "metadata": {},
   "outputs": [
    {
     "data": {
      "text/plain": [
       "[(), (0,), (1,), (2,), (0, 1), (0, 2), (1, 2), (0, 1, 2)]"
      ]
     },
     "execution_count": 8,
     "metadata": {},
     "output_type": "execute_result"
    }
   ],
   "source": [
    "poss"
   ]
  },
  {
   "cell_type": "code",
   "execution_count": 7,
   "id": "765af97c",
   "metadata": {},
   "outputs": [
    {
     "data": {
      "text/plain": [
       "{0: 12, 1: 8, 2: 7}"
      ]
     },
     "execution_count": 7,
     "metadata": {},
     "output_type": "execute_result"
    }
   ],
   "source": [
    "dictionary_point"
   ]
  },
  {
   "cell_type": "code",
   "execution_count": 6,
   "id": "62bddbe8",
   "metadata": {},
   "outputs": [
    {
     "data": {
      "text/plain": [
       "20"
      ]
     },
     "execution_count": 6,
     "metadata": {},
     "output_type": "execute_result"
    }
   ],
   "source": [
    "answer"
   ]
  },
  {
   "cell_type": "markdown",
   "id": "eb33911e",
   "metadata": {},
   "source": [
    "# 재풀이"
   ]
  },
  {
   "cell_type": "code",
   "execution_count": null,
   "id": "2886271b",
   "metadata": {},
   "outputs": [],
   "source": [
    "sentences = [\"line in line\", \"LINE\", \"in lion\"]\n",
    "n = 5"
   ]
  },
  {
   "cell_type": "code",
   "execution_count": null,
   "id": "61f22c80",
   "metadata": {},
   "outputs": [],
   "source": [
    "sentences = [\"ABcD\", \"bdbc\", \"a\", \"Line neWs\"]\n",
    "n = 7"
   ]
  },
  {
   "cell_type": "code",
   "execution_count": null,
   "id": "b5fd0ca9",
   "metadata": {},
   "outputs": [],
   "source": [
    "sentences = [\"ABcd\", \"DEFGH\", \"ab\", \"Zxc\"]\n",
    "n = 6"
   ]
  },
  {
   "cell_type": "code",
   "execution_count": null,
   "id": "b58d2a49",
   "metadata": {},
   "outputs": [],
   "source": [
    "'abdc' , 'bcdacf'"
   ]
  },
  {
   "cell_type": "code",
   "execution_count": null,
   "id": "ad454cb3",
   "metadata": {},
   "outputs": [],
   "source": [
    "'abcd' , 'abcdf'"
   ]
  },
  {
   "cell_type": "code",
   "execution_count": null,
   "id": "c308c68b",
   "metadata": {},
   "outputs": [],
   "source": [
    "[[점수, 필요단어들  ], ]"
   ]
  },
  {
   "cell_type": "code",
   "execution_count": 15,
   "id": "8a84bf78",
   "metadata": {},
   "outputs": [],
   "source": [
    "sentence_dictionary = {}"
   ]
  },
  {
   "cell_type": "code",
   "execution_count": 18,
   "id": "06411d5f",
   "metadata": {},
   "outputs": [
    {
     "data": {
      "text/plain": [
       "True"
      ]
     },
     "execution_count": 18,
     "metadata": {},
     "output_type": "execute_result"
    }
   ],
   "source": [
    "'a' in ['a','b','c']"
   ]
  },
  {
   "cell_type": "code",
   "execution_count": null,
   "id": "88b8c589",
   "metadata": {},
   "outputs": [],
   "source": [
    "# 특정문자열이 포함되는지 "
   ]
  },
  {
   "cell_type": "code",
   "execution_count": null,
   "id": "719b1303",
   "metadata": {},
   "outputs": [],
   "source": []
  },
  {
   "cell_type": "code",
   "execution_count": null,
   "id": "8bb888fe",
   "metadata": {},
   "outputs": [],
   "source": []
  },
  {
   "cell_type": "markdown",
   "id": "eee8dd91",
   "metadata": {},
   "source": [
    "# 복기"
   ]
  },
  {
   "cell_type": "code",
   "execution_count": 170,
   "id": "abccee50",
   "metadata": {},
   "outputs": [],
   "source": [
    "# 1. 아이템에서 pop 하면 에러뜨구나 ㅠㅠㅠㅠㅠㅠㅠㅠㅠㅠㅠㅠㅠㅠㅠㅠㅠㅠㅠㅠㅠㅠㅠㅠㅠㅠㅠㅠ\n",
    "# 2. key로 접근하고 그냥 지웠어야됬음 ,.. ㅠㅠㅠ\n",
    "# key도  마찬가지\n"
   ]
  },
  {
   "cell_type": "code",
   "execution_count": 169,
   "id": "8c358e2c",
   "metadata": {},
   "outputs": [
    {
     "data": {
      "text/plain": [
       "10"
      ]
     },
     "execution_count": 169,
     "metadata": {},
     "output_type": "execute_result"
    }
   ],
   "source": [
    "answer"
   ]
  },
  {
   "cell_type": "code",
   "execution_count": null,
   "id": "92ade3f4",
   "metadata": {},
   "outputs": [],
   "source": []
  },
  {
   "cell_type": "code",
   "execution_count": null,
   "id": "68b76cb6",
   "metadata": {},
   "outputs": [],
   "source": []
  },
  {
   "cell_type": "code",
   "execution_count": null,
   "id": "b6e9c581",
   "metadata": {},
   "outputs": [],
   "source": []
  },
  {
   "cell_type": "code",
   "execution_count": null,
   "id": "aff24837",
   "metadata": {},
   "outputs": [],
   "source": []
  },
  {
   "cell_type": "code",
   "execution_count": 139,
   "id": "5e529eb8",
   "metadata": {},
   "outputs": [
    {
     "data": {
      "text/plain": [
       "{0: ['a', 'b', 'c', 'd', 'shift'],\n",
       " 1: ['b', 'd', 'c'],\n",
       " 2: ['a'],\n",
       " 3: ['l', 'i', 'n', 'e', 'w', 's', 'shift']}"
      ]
     },
     "execution_count": 139,
     "metadata": {},
     "output_type": "execute_result"
    }
   ],
   "source": [
    "dictionary_voc"
   ]
  },
  {
   "cell_type": "code",
   "execution_count": 140,
   "id": "b0ead4a9",
   "metadata": {},
   "outputs": [
    {
     "name": "stdout",
     "output_type": "stream",
     "text": [
      "5\n",
      "3\n",
      "1\n",
      "7\n"
     ]
    }
   ],
   "source": [
    "for i , j in dictionary_voc.items():\n",
    "    print(len(j))\n",
    "    if len(j) >n :\n",
    "        dictionary_voc.pop(i)\n",
    "        dictionary_point.pop(i)\n",
    "        "
   ]
  },
  {
   "cell_type": "code",
   "execution_count": 141,
   "id": "d9dc668d",
   "metadata": {},
   "outputs": [],
   "source": [
    "poss =[]\n",
    "for i in range(len(dictionary_voc)+1):\n",
    "    a = list(itertools.combinations(dictionary_voc.keys(),i))\n",
    "    poss+=a\n",
    "    "
   ]
  },
  {
   "cell_type": "code",
   "execution_count": 142,
   "id": "63cc8997",
   "metadata": {},
   "outputs": [
    {
     "data": {
      "text/plain": [
       "[(),\n",
       " (0,),\n",
       " (1,),\n",
       " (2,),\n",
       " (3,),\n",
       " (0, 1),\n",
       " (0, 2),\n",
       " (0, 3),\n",
       " (1, 2),\n",
       " (1, 3),\n",
       " (2, 3),\n",
       " (0, 1, 2),\n",
       " (0, 1, 3),\n",
       " (0, 2, 3),\n",
       " (1, 2, 3),\n",
       " (0, 1, 2, 3)]"
      ]
     },
     "execution_count": 142,
     "metadata": {},
     "output_type": "execute_result"
    }
   ],
   "source": [
    "poss"
   ]
  },
  {
   "cell_type": "code",
   "execution_count": 143,
   "id": "29c94d28",
   "metadata": {},
   "outputs": [
    {
     "name": "stdout",
     "output_type": "stream",
     "text": [
      "(0,)\n",
      "{'d', 'a', 'b', 'c', 'shift'}\n",
      "7\n",
      "(1,)\n",
      "{'d', 'b', 'c'}\n",
      "7\n",
      "(2,)\n",
      "{'a'}\n",
      "7\n",
      "(3,)\n",
      "{'s', 'e', 'w', 'l', 'shift', 'i', 'n'}\n",
      "11\n",
      "(0, 1)\n",
      "{'d', 'a', 'b', 'c', 'shift'}\n",
      "11\n",
      "(0, 2)\n",
      "{'d', 'a', 'b', 'c', 'shift'}\n",
      "11\n",
      "(0, 3)\n",
      "{'s', 'd', 'e', 'l', 'w', 'a', 'b', 'c', 'n', 'shift', 'i'}\n",
      "(1, 2)\n",
      "{'d', 'a', 'b', 'c'}\n",
      "11\n",
      "(1, 3)\n",
      "{'s', 'd', 'e', 'l', 'w', 'b', 'c', 'n', 'shift', 'i'}\n",
      "(2, 3)\n",
      "{'s', 'e', 'l', 'w', 'a', 'shift', 'i', 'n'}\n",
      "(0, 1, 2)\n",
      "{'d', 'a', 'b', 'c', 'shift'}\n",
      "12\n",
      "(0, 1, 3)\n",
      "{'s', 'd', 'e', 'l', 'w', 'a', 'b', 'c', 'n', 'shift', 'i'}\n",
      "(0, 2, 3)\n",
      "{'s', 'd', 'e', 'l', 'w', 'a', 'b', 'c', 'n', 'shift', 'i'}\n",
      "(1, 2, 3)\n",
      "{'s', 'd', 'e', 'l', 'w', 'a', 'b', 'c', 'n', 'shift', 'i'}\n",
      "(0, 1, 2, 3)\n",
      "{'s', 'd', 'e', 'l', 'w', 'a', 'b', 'c', 'n', 'shift', 'i'}\n"
     ]
    }
   ],
   "source": [
    "answer = 0\n",
    "for i in range(1,len(poss)):\n",
    "    \n",
    "    \n",
    "    need_vocab = []\n",
    "    for j in poss[i]:\n",
    "        need_vocab += dictionary_voc[j]\n",
    "    \n",
    "    need_vocab  = set(need_vocab)\n",
    "    \n",
    "    if len(need_vocab) >n:\n",
    "        continue\n",
    "        \n",
    "    point_sum =0\n",
    "    for j in poss[i]:\n",
    "        point_sum +=  dictionary_point[j]\n",
    "    \n",
    "    answer = max(answer, point_sum )\n",
    "    "
   ]
  },
  {
   "cell_type": "code",
   "execution_count": 144,
   "id": "c49e6f3f",
   "metadata": {},
   "outputs": [
    {
     "data": {
      "text/plain": [
       "12"
      ]
     },
     "execution_count": 144,
     "metadata": {},
     "output_type": "execute_result"
    }
   ],
   "source": [
    "answer"
   ]
  },
  {
   "cell_type": "code",
   "execution_count": null,
   "id": "fb61406e",
   "metadata": {},
   "outputs": [],
   "source": []
  },
  {
   "cell_type": "code",
   "execution_count": 309,
   "id": "6054f61d",
   "metadata": {},
   "outputs": [
    {
     "data": {
      "text/plain": [
       "{0: 7, 1: 4, 2: 1, 3: 11}"
      ]
     },
     "execution_count": 309,
     "metadata": {},
     "output_type": "execute_result"
    }
   ],
   "source": [
    "dictionary_point"
   ]
  },
  {
   "cell_type": "code",
   "execution_count": null,
   "id": "53a6497c",
   "metadata": {},
   "outputs": [],
   "source": []
  },
  {
   "cell_type": "code",
   "execution_count": null,
   "id": "3e0d882c",
   "metadata": {},
   "outputs": [],
   "source": []
  },
  {
   "cell_type": "code",
   "execution_count": 166,
   "id": "d276f554",
   "metadata": {},
   "outputs": [
    {
     "data": {
      "text/plain": [
       "[(0, 12), (1, 8), (2, 7)]"
      ]
     },
     "execution_count": 166,
     "metadata": {},
     "output_type": "execute_result"
    }
   ],
   "source": [
    "sorted(dictionary_point.items(), key = lambda x: x[1],reverse=True)"
   ]
  },
  {
   "cell_type": "code",
   "execution_count": null,
   "id": "9c97cfc6",
   "metadata": {},
   "outputs": [],
   "source": []
  },
  {
   "cell_type": "code",
   "execution_count": null,
   "id": "a95ab224",
   "metadata": {},
   "outputs": [],
   "source": []
  },
  {
   "cell_type": "code",
   "execution_count": null,
   "id": "cf15a758",
   "metadata": {},
   "outputs": [],
   "source": []
  },
  {
   "cell_type": "code",
   "execution_count": null,
   "id": "f803e6b9",
   "metadata": {},
   "outputs": [],
   "source": []
  },
  {
   "cell_type": "code",
   "execution_count": null,
   "id": "719eccdd",
   "metadata": {},
   "outputs": [],
   "source": []
  },
  {
   "cell_type": "code",
   "execution_count": null,
   "id": "e0242f49",
   "metadata": {},
   "outputs": [],
   "source": []
  },
  {
   "cell_type": "code",
   "execution_count": null,
   "id": "a9412b92",
   "metadata": {},
   "outputs": [],
   "source": []
  },
  {
   "cell_type": "code",
   "execution_count": null,
   "id": "4aebb324",
   "metadata": {},
   "outputs": [],
   "source": []
  },
  {
   "cell_type": "code",
   "execution_count": null,
   "id": "63ae6cf2",
   "metadata": {},
   "outputs": [],
   "source": []
  },
  {
   "cell_type": "code",
   "execution_count": null,
   "id": "38d3b142",
   "metadata": {},
   "outputs": [],
   "source": []
  },
  {
   "cell_type": "code",
   "execution_count": null,
   "id": "93de2f3e",
   "metadata": {},
   "outputs": [],
   "source": []
  },
  {
   "cell_type": "markdown",
   "id": "b782f6d3",
   "metadata": {},
   "source": [
    "#  3번"
   ]
  },
  {
   "cell_type": "code",
   "execution_count": 426,
   "id": "86a2d33c",
   "metadata": {},
   "outputs": [],
   "source": [
    "from collections import defaultdict"
   ]
  },
  {
   "cell_type": "code",
   "execution_count": 194,
   "id": "f92125ea",
   "metadata": {},
   "outputs": [
    {
     "ename": "SyntaxError",
     "evalue": "invalid syntax (3911093212.py, line 1)",
     "output_type": "error",
     "traceback": [
      "\u001b[0;36m  File \u001b[0;32m\"/var/folders/kr/z0vkrxjj5bq7lqpnzwpy9s_c0000gn/T/ipykernel_3602/3911093212.py\"\u001b[0;36m, line \u001b[0;32m1\u001b[0m\n\u001b[0;31m    0 employee 문자열 처리부터\u001b[0m\n\u001b[0m      ^\u001b[0m\n\u001b[0;31mSyntaxError\u001b[0m\u001b[0;31m:\u001b[0m invalid syntax\n"
     ]
    }
   ],
   "source": [
    "0 employee 문자열 처리부터\n",
    "1재택인지 ,안재택인지부터 파악\n",
    "2 팀마다 안재택이 최소 하나있다면 패스\n",
    "3  그렇지 않을 경우  재택인원중 1번 \n",
    "4"
   ]
  },
  {
   "cell_type": "code",
   "execution_count": 427,
   "id": "ffb40555",
   "metadata": {},
   "outputs": [],
   "source": [
    "num_teams = 3\n",
    "remote_tasks = [\"development\",\"marketing\",\"hometask\"]\n",
    "office_tasks = [\"recruitment\",\"education\",\"officetask\"]\n",
    "employees = [\"1 development hometask\",\"1 recruitment marketing\",\"2 hometask\",\"2 development marketing hometask\",\"3 marketing\",\"3 officetask\",\"3 development\"]"
   ]
  },
  {
   "cell_type": "code",
   "execution_count": null,
   "id": "08f07da3",
   "metadata": {},
   "outputs": [],
   "source": [
    "# 팀마다 오피스에 한명있어야됬떤가 그래씀, 번호빠른애가 가는걸로"
   ]
  },
  {
   "cell_type": "code",
   "execution_count": 385,
   "id": "26bce78d",
   "metadata": {},
   "outputs": [],
   "source": [
    "num_teams = 2\n",
    "remote_tasks = [\"design\"]\n",
    "office_tasks = [\"building\",\"supervise\"]\n",
    "employees = [\"2 design\",\"1 supervise building design\",\"1 design\",\"2 design\"]"
   ]
  },
  {
   "cell_type": "code",
   "execution_count": 428,
   "id": "814d7b36",
   "metadata": {},
   "outputs": [],
   "source": [
    "employee_dictionary = {x+1:[employees[x].split(' ')[0],True] for x in range(len(employees))}"
   ]
  },
  {
   "cell_type": "code",
   "execution_count": 429,
   "id": "957fb1a8",
   "metadata": {},
   "outputs": [
    {
     "data": {
      "text/plain": [
       "{1: ['1', True],\n",
       " 2: ['1', True],\n",
       " 3: ['2', True],\n",
       " 4: ['2', True],\n",
       " 5: ['3', True],\n",
       " 6: ['3', True],\n",
       " 7: ['3', True]}"
      ]
     },
     "execution_count": 429,
     "metadata": {},
     "output_type": "execute_result"
    }
   ],
   "source": [
    "employee_dictionary"
   ]
  },
  {
   "cell_type": "code",
   "execution_count": 430,
   "id": "bdb745eb",
   "metadata": {},
   "outputs": [
    {
     "name": "stdout",
     "output_type": "stream",
     "text": [
      "['1', 'development', 'hometask']\n",
      "development\n",
      "hometask\n",
      "['1', 'recruitment', 'marketing']\n",
      "recruitment\n",
      "['2', 'hometask']\n",
      "hometask\n",
      "['2', 'development', 'marketing', 'hometask']\n",
      "development\n",
      "marketing\n",
      "hometask\n",
      "['3', 'marketing']\n",
      "marketing\n",
      "['3', 'officetask']\n",
      "officetask\n",
      "['3', 'development']\n",
      "development\n"
     ]
    }
   ],
   "source": [
    "for i in range(len(employees)):\n",
    "   \n",
    "    # 재택이면 True, 외근이면  False\n",
    "    emp_split = employees[i].split(' ')\n",
    "    print(emp_split)\n",
    "    for emp in range(1,len(emp_split)):\n",
    "        \n",
    "        print(emp_split[emp])\n",
    "        if emp_split[emp] in office_tasks:\n",
    "            \n",
    "            employee_dictionary[i+1][1] = False\n",
    "            break\n",
    "   "
   ]
  },
  {
   "cell_type": "code",
   "execution_count": 431,
   "id": "34342516",
   "metadata": {},
   "outputs": [],
   "source": [
    "# 재택 true 안재택 False"
   ]
  },
  {
   "cell_type": "code",
   "execution_count": 432,
   "id": "f1ef8349",
   "metadata": {},
   "outputs": [
    {
     "data": {
      "text/plain": [
       "{1: ['1', True],\n",
       " 2: ['1', False],\n",
       " 3: ['2', True],\n",
       " 4: ['2', True],\n",
       " 5: ['3', True],\n",
       " 6: ['3', False],\n",
       " 7: ['3', True]}"
      ]
     },
     "execution_count": 432,
     "metadata": {},
     "output_type": "execute_result"
    }
   ],
   "source": [
    "employee_dictionary"
   ]
  },
  {
   "cell_type": "code",
   "execution_count": 433,
   "id": "8f9a4367",
   "metadata": {},
   "outputs": [],
   "source": [
    "chul_dictionary =defaultdict(list)"
   ]
  },
  {
   "cell_type": "code",
   "execution_count": 434,
   "id": "2392524d",
   "metadata": {},
   "outputs": [],
   "source": [
    "for i ,j in employee_dictionary.items():\n",
    "    chul_dictionary[j[0]].append([i, j[1]])"
   ]
  },
  {
   "cell_type": "code",
   "execution_count": 435,
   "id": "53c1cf62",
   "metadata": {},
   "outputs": [
    {
     "data": {
      "text/plain": [
       "defaultdict(list,\n",
       "            {'1': [[1, True], [2, False]],\n",
       "             '2': [[3, True], [4, True]],\n",
       "             '3': [[5, True], [6, False], [7, True]]})"
      ]
     },
     "execution_count": 435,
     "metadata": {},
     "output_type": "execute_result"
    }
   ],
   "source": [
    "chul_dictionary"
   ]
  },
  {
   "cell_type": "code",
   "execution_count": 175,
   "id": "bc447584",
   "metadata": {},
   "outputs": [],
   "source": [
    "s = [1,2,3,4]"
   ]
  },
  {
   "cell_type": "code",
   "execution_count": 176,
   "id": "3b77b87f",
   "metadata": {},
   "outputs": [
    {
     "data": {
      "text/plain": [
       "1"
      ]
     },
     "execution_count": 176,
     "metadata": {},
     "output_type": "execute_result"
    }
   ],
   "source": [
    "s.pop(0)"
   ]
  },
  {
   "cell_type": "code",
   "execution_count": 177,
   "id": "c433cf8b",
   "metadata": {},
   "outputs": [
    {
     "data": {
      "text/plain": [
       "[2, 3, 4]"
      ]
     },
     "execution_count": 177,
     "metadata": {},
     "output_type": "execute_result"
    }
   ],
   "source": [
    "s"
   ]
  },
  {
   "cell_type": "code",
   "execution_count": 174,
   "id": "36162779",
   "metadata": {},
   "outputs": [],
   "source": [
    "result = []"
   ]
  },
  {
   "cell_type": "code",
   "execution_count": 439,
   "id": "764797a7",
   "metadata": {},
   "outputs": [],
   "source": [
    "a =[1,3,5]"
   ]
  },
  {
   "cell_type": "code",
   "execution_count": 440,
   "id": "e9f1c206",
   "metadata": {},
   "outputs": [],
   "source": [
    "b = [1,3,5]"
   ]
  },
  {
   "cell_type": "code",
   "execution_count": 441,
   "id": "ad0712bf",
   "metadata": {},
   "outputs": [
    {
     "data": {
      "text/plain": [
       "True"
      ]
     },
     "execution_count": 441,
     "metadata": {},
     "output_type": "execute_result"
    }
   ],
   "source": [
    "a ==b"
   ]
  },
  {
   "cell_type": "markdown",
   "id": "61e6d482",
   "metadata": {},
   "source": [
    "# 4번"
   ]
  },
  {
   "cell_type": "code",
   "execution_count": 51,
   "id": "c170a515",
   "metadata": {},
   "outputs": [],
   "source": [
    "def solution(arr, brr):\n",
    "    answer = 0\n",
    "    N = len(arr)\n",
    "    for i  in range(N):\n",
    "        if arr[i] == brr[i]:\n",
    "            continue\n",
    "        if arr[i] > brr[i]:\n",
    "            temp = arr[i] - brr[i]\n",
    "            arr[i] = brr[i]\n",
    "            \n",
    "            if  i < N-1:\n",
    "                arr[i+1] += temp\n",
    "        else:\n",
    "            temp = brr[i] -  arr[i]\n",
    "            arr[i] =  brr[i]\n",
    "            \n",
    "            if  i < N-1:\n",
    "                arr[i+1] -= temp\n",
    "        \n",
    "        answer +=1\n",
    "        if arr == brr:\n",
    "            return answer\n",
    "    \n",
    "    \n",
    "            \n",
    "            \n",
    "            \n",
    "    return answer\n",
    "    "
   ]
  },
  {
   "cell_type": "code",
   "execution_count": 41,
   "id": "c38316b3",
   "metadata": {},
   "outputs": [],
   "source": [
    "arr=[1,1,4,9,6,2,1,1] #  25\n",
    "brr = [5,6,1,1,1,1,9,1] #  25"
   ]
  },
  {
   "cell_type": "code",
   "execution_count": 50,
   "id": "26bf52a2",
   "metadata": {},
   "outputs": [],
   "source": [
    "arr   =[1,2]\n",
    "brr =[2,1]"
   ]
  },
  {
   "cell_type": "code",
   "execution_count": null,
   "id": "85e30e68",
   "metadata": {},
   "outputs": [],
   "source": [
    "count 5\n",
    "[5,6,1,1,1,9,1,1]\n",
    "[5,6,1,1,1,1,9,1]"
   ]
  },
  {
   "cell_type": "code",
   "execution_count": 52,
   "id": "2d515a2c",
   "metadata": {},
   "outputs": [
    {
     "data": {
      "text/plain": [
       "1"
      ]
     },
     "execution_count": 52,
     "metadata": {},
     "output_type": "execute_result"
    }
   ],
   "source": [
    "solution(arr, brr)"
   ]
  },
  {
   "cell_type": "code",
   "execution_count": null,
   "id": "2528d10e",
   "metadata": {},
   "outputs": [],
   "source": []
  },
  {
   "cell_type": "code",
   "execution_count": null,
   "id": "3dc372a9",
   "metadata": {},
   "outputs": [],
   "source": []
  },
  {
   "cell_type": "code",
   "execution_count": 17,
   "id": "da58cf98",
   "metadata": {},
   "outputs": [],
   "source": [
    "a =[1,2]"
   ]
  },
  {
   "cell_type": "code",
   "execution_count": 20,
   "id": "20ee6a79",
   "metadata": {},
   "outputs": [
    {
     "data": {
      "text/plain": [
       "[]"
      ]
     },
     "execution_count": 20,
     "metadata": {},
     "output_type": "execute_result"
    }
   ],
   "source": [
    "a[3:]"
   ]
  },
  {
   "cell_type": "code",
   "execution_count": 438,
   "id": "6bb48345",
   "metadata": {},
   "outputs": [
    {
     "data": {
      "text/plain": [
       "[1, 4, 5, 7]"
      ]
     },
     "execution_count": 438,
     "metadata": {},
     "output_type": "execute_result"
    }
   ],
   "source": [
    "result"
   ]
  },
  {
   "cell_type": "code",
   "execution_count": null,
   "id": "29902119",
   "metadata": {},
   "outputs": [],
   "source": []
  },
  {
   "cell_type": "code",
   "execution_count": null,
   "id": "52033589",
   "metadata": {},
   "outputs": [],
   "source": []
  }
 ],
 "metadata": {
  "kernelspec": {
   "display_name": "Python 3 (ipykernel)",
   "language": "python",
   "name": "python3"
  },
  "language_info": {
   "codemirror_mode": {
    "name": "ipython",
    "version": 3
   },
   "file_extension": ".py",
   "mimetype": "text/x-python",
   "name": "python",
   "nbconvert_exporter": "python",
   "pygments_lexer": "ipython3",
   "version": "3.8.13"
  }
 },
 "nbformat": 4,
 "nbformat_minor": 5
}
