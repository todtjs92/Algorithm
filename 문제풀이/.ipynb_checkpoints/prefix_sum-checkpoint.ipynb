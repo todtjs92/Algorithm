{
 "cells": [
  {
   "cell_type": "code",
   "execution_count": 2,
   "id": "8c56afde",
   "metadata": {},
   "outputs": [],
   "source": [
    "import sys"
   ]
  },
  {
   "cell_type": "code",
   "execution_count": 3,
   "id": "41736dfd",
   "metadata": {},
   "outputs": [],
   "source": [
    "input = sys.stdin.readline"
   ]
  },
  {
   "cell_type": "code",
   "execution_count": 28,
   "id": "bf7b401e",
   "metadata": {},
   "outputs": [],
   "source": [
    "import math\n",
    "\n",
    "def is_prime(n):\n",
    "    if n <= 1:\n",
    "        return False\n",
    "    for i in range(2, int(math.sqrt(n))+1):\n",
    "        if n % i == 0:\n",
    "            return False\n",
    "    return True\n",
    "\n",
    "def count_primes_between_N_and_2N(N):\n",
    "    count = 0\n",
    "    for i in range(N+1, 2*N +1):\n",
    "        if is_prime(i):\n",
    "            count += 1\n",
    "    print(count)\n",
    "    return\n"
   ]
  },
  {
   "cell_type": "code",
   "execution_count": 30,
   "id": "bebf5c0f",
   "metadata": {},
   "outputs": [],
   "source": [
    "prime_dict = {}"
   ]
  },
  {
   "cell_type": "code",
   "execution_count": null,
   "id": "629d1806",
   "metadata": {},
   "outputs": [],
   "source": [
    "if pr"
   ]
  },
  {
   "cell_type": "code",
   "execution_count": 29,
   "id": "8a5e440e",
   "metadata": {},
   "outputs": [
    {
     "name": "stdout",
     "output_type": "stream",
     "text": [
      "1\n",
      "1\n",
      "10\n",
      "4\n",
      "13\n",
      "3\n",
      "100\n",
      "21\n",
      "1000\n",
      "135\n",
      "10000\n",
      "1033\n",
      "100000\n",
      "8392\n",
      "0\n"
     ]
    }
   ],
   "source": [
    "while True:\n",
    "    N = int(input())\n",
    "    if N  == 0:\n",
    "        break\n",
    "    else:\n",
    "        count_primes_between_N_and_2N(N)\n",
    "        "
   ]
  },
  {
   "cell_type": "code",
   "execution_count": null,
   "id": "a5090ff8",
   "metadata": {},
   "outputs": [],
   "source": [
    "import sys \n",
    " \n",
    "if __name__ == \"__main__\":\n",
    "  input = sys.stdin.readline\n",
    "  \n",
    "  while True:\n",
    "    n = int(input())\n",
    "    if n == 0: break\n",
    "    n2 = 2*n\n",
    "    num_list = [True]*(2*n+1)\n",
    "    num_list[0] = False\n",
    "    num_list[1] = False\n",
    "    \n",
    "    prime_list = list()\n",
    "    \n",
    "    for i in range(2, n2+1):\n",
    "      if num_list[i] == True:\n",
    "        prime_list.append(i)\n",
    "        for j in range(i*2, n2+1, i):\n",
    "          num_list[j] = False\n",
    "          \n",
    "           \n",
    "    cnt = 0\n",
    "    for item in prime_list:\n",
    "      if item > n:\n",
    "        cnt += 1 \n",
    "    print(cnt)"
   ]
  },
  {
   "cell_type": "code",
   "execution_count": null,
   "id": "07de647b",
   "metadata": {},
   "outputs": [],
   "source": []
  }
 ],
 "metadata": {
  "kernelspec": {
   "display_name": "Python 3 (ipykernel)",
   "language": "python",
   "name": "python3"
  },
  "language_info": {
   "codemirror_mode": {
    "name": "ipython",
    "version": 3
   },
   "file_extension": ".py",
   "mimetype": "text/x-python",
   "name": "python",
   "nbconvert_exporter": "python",
   "pygments_lexer": "ipython3",
   "version": "3.8.13"
  }
 },
 "nbformat": 4,
 "nbformat_minor": 5
}
