{
 "cells": [
  {
   "cell_type": "markdown",
   "id": "9f1f69a8",
   "metadata": {},
   "source": [
    "# 이분 그래프판별"
   ]
  },
  {
   "cell_type": "markdown",
   "id": "ba7e2403",
   "metadata": {},
   "source": [
    "거리가 다른게 있으면 이분그래프아님 -> 으로 판별해야한다."
   ]
  },
  {
   "cell_type": "markdown",
   "id": "d9f0f9e4",
   "metadata": {},
   "source": [
    "거리체크 (트리 아닐경우) BFS 가 국룰"
   ]
  },
  {
   "cell_type": "markdown",
   "id": "bc08f90b",
   "metadata": {},
   "source": [
    "# 처음 내풀이  , 근데 이렇게하면 그래프가 순환되버릴 경우 반례 생김"
   ]
  },
  {
   "cell_type": "code",
   "execution_count": 15,
   "id": "e5bb699d",
   "metadata": {},
   "outputs": [
    {
     "name": "stdout",
     "output_type": "stream",
     "text": [
      "4 4\n",
      "1 2\n",
      "2 3\n",
      "3 4\n",
      "4 1\n",
      "[2, 4] nnnv\n",
      "[] q\n",
      "[3] nnnv\n",
      "[4] q\n",
      "[3] nnnv\n",
      "[3] q\n",
      "No\n"
     ]
    }
   ],
   "source": [
    "def solution():\n",
    "    map_ = {}\n",
    "    __ , command_times = list(map(int,input().split()))\n",
    "    for _ in range(command_times):\n",
    "        node_a, node_b = list(map(int,input().split()))\n",
    "        if node_a not in map_:\n",
    "            map_[node_a] =[]\n",
    "        if node_b not in map_:\n",
    "            map_[node_b] =[]\n",
    "\n",
    "        map_[node_a].append(node_b)\n",
    "        map_[node_b].append(node_a)\n",
    "    \n",
    "    visited= [False for _ in range(__ +1)]\n",
    "    visited[0] =True\n",
    "    \n",
    "    q = []\n",
    "    while sum(visited) != (__+1):\n",
    "        for v in range(len(visited)):\n",
    "            if visited[v] == False:\n",
    "                q.append(v)\n",
    "                break\n",
    "        while q:\n",
    "            go  = q.pop()\n",
    "            visited[go] =True\n",
    "            next_nodes = map_[go]\n",
    "            # 방문 안한거만 q에 추가\n",
    "            next_node_no_visit = []\n",
    "            for nn in next_nodes:\n",
    "                if visited[nn] ==False:\n",
    "                    next_node_no_visit.append(nn)\n",
    "            for nn in next_node_no_visit:\n",
    "                if nn in q:\n",
    "                    print('No')\n",
    "                    return \n",
    "            q.extend(next_node_no_visit)\n",
    "    \n",
    "    print('Yes')\n",
    "    \n",
    "solution()"
   ]
  },
  {
   "cell_type": "markdown",
   "id": "ff4b5c17",
   "metadata": {},
   "source": [
    "# 한번 방문 때마다 색을 뒤집어주는 코드 "
   ]
  },
  {
   "cell_type": "code",
   "execution_count": 24,
   "id": "dcc641d1",
   "metadata": {},
   "outputs": [
    {
     "name": "stdout",
     "output_type": "stream",
     "text": [
      "4 4\n",
      "1 2\n",
      "1 3\n",
      "2 4\n",
      "4 4\n",
      "No\n"
     ]
    }
   ],
   "source": [
    "map_ = {}\n",
    "__ , command_times = list(map(int,input().split()))\n",
    "for _ in range(command_times):\n",
    "    node_a, node_b = list(map(int,input().split()))\n",
    "    if node_a not in map_:\n",
    "        map_[node_a] =[]\n",
    "    if node_b not in map_:\n",
    "        map_[node_b] =[]\n",
    "\n",
    "    map_[node_a].append(node_b)\n",
    "    map_[node_b].append(node_a)\n",
    "\n",
    "visited= [False for _ in range(__ +1)]\n",
    "visited[0] =True\n",
    "answer = \"Yes\"\n",
    "def dfs(node,color):\n",
    "    global answer \n",
    "    \n",
    "    visited[node] = color\n",
    "    \n",
    "    for i in map_[node]:\n",
    "        if visited[i] == False:\n",
    "            dfs(i,-color)\n",
    "        elif visited[i] == -color:\n",
    "            pass\n",
    "        else:\n",
    "            answer = 'No'\n",
    "            return\n",
    "for i in range(len(visited)):\n",
    "    if visited[i] == False:\n",
    "        dfs(i,1)\n",
    "\n",
    "print(answer)"
   ]
  },
  {
   "cell_type": "code",
   "execution_count": 18,
   "id": "5d693421",
   "metadata": {},
   "outputs": [],
   "source": [
    "answer = \"Yes\""
   ]
  },
  {
   "cell_type": "code",
   "execution_count": 20,
   "id": "0f8371b3",
   "metadata": {},
   "outputs": [],
   "source": [
    "def dfs(node,color):\n",
    "    global answer \n",
    "    \n",
    "    visited[node] = color\n",
    "    \n",
    "    for i in map_[node]:\n",
    "        if visited[i] == False:\n",
    "            dfs(i,-color)\n",
    "        elif visited[i] == -color:\n",
    "            pass\n",
    "        else:\n",
    "            answer = 'No'\n",
    "            return\n",
    "    "
   ]
  },
  {
   "cell_type": "code",
   "execution_count": 22,
   "id": "40d5f34d",
   "metadata": {},
   "outputs": [],
   "source": [
    "for i in range(len(visited)):\n",
    "    if visited[i] == False:\n",
    "        dfs(i,1) # node 와 color"
   ]
  },
  {
   "cell_type": "code",
   "execution_count": 23,
   "id": "c215d384",
   "metadata": {},
   "outputs": [
    {
     "data": {
      "text/plain": [
       "'Yes'"
      ]
     },
     "execution_count": 23,
     "metadata": {},
     "output_type": "execute_result"
    }
   ],
   "source": [
    "answer"
   ]
  },
  {
   "cell_type": "code",
   "execution_count": null,
   "id": "e9f0e416",
   "metadata": {},
   "outputs": [],
   "source": [
    "6 5\n",
    "1 2\n",
    "2 4\n",
    "3 4\n",
    "3 5\n",
    "4 6"
   ]
  },
  {
   "cell_type": "code",
   "execution_count": 1,
   "id": "183f3dc0",
   "metadata": {},
   "outputs": [
    {
     "name": "stdout",
     "output_type": "stream",
     "text": [
      "6 5\n",
      "1 2\n",
      "2 4\n",
      "3 4\n",
      "3 5\n",
      "4 6\n"
     ]
    }
   ],
   "source": [
    "number_of_nodes , commands = list(map(int,input().split()))\n",
    "\n",
    "map_ = {}\n",
    "\n",
    "for _ in range(commands):\n",
    "    node_a, node_b = list(map(int,input().split()))\n",
    "    if node_a not in map_:\n",
    "        map_[node_a] =[]\n",
    "    if node_b not in map_:\n",
    "        map_[node_b] =[]\n",
    "\n",
    "    map_[node_a].append(node_b)\n",
    "    map_[node_b].append(node_a)\n"
   ]
  },
  {
   "cell_type": "code",
   "execution_count": 2,
   "id": "29fd0c12",
   "metadata": {},
   "outputs": [
    {
     "data": {
      "text/plain": [
       "{1: [2], 2: [1, 4], 4: [2, 3, 6], 3: [4, 5], 5: [3], 6: [4]}"
      ]
     },
     "execution_count": 2,
     "metadata": {},
     "output_type": "execute_result"
    }
   ],
   "source": [
    "map_"
   ]
  },
  {
   "cell_type": "code",
   "execution_count": 3,
   "id": "1f21b71e",
   "metadata": {},
   "outputs": [],
   "source": [
    "distance = [[0 for y in range(number_of_nodes)] for x in range(number_of_nodes)]"
   ]
  },
  {
   "cell_type": "code",
   "execution_count": 4,
   "id": "d6ba8566",
   "metadata": {},
   "outputs": [
    {
     "data": {
      "text/plain": [
       "[[0, 0, 0, 0, 0, 0],\n",
       " [0, 0, 0, 0, 0, 0],\n",
       " [0, 0, 0, 0, 0, 0],\n",
       " [0, 0, 0, 0, 0, 0],\n",
       " [0, 0, 0, 0, 0, 0],\n",
       " [0, 0, 0, 0, 0, 0]]"
      ]
     },
     "execution_count": 4,
     "metadata": {},
     "output_type": "execute_result"
    }
   ],
   "source": [
    "distance"
   ]
  },
  {
   "cell_type": "code",
   "execution_count": 6,
   "id": "d82042e3",
   "metadata": {},
   "outputs": [],
   "source": [
    "visited= [False for _ in range(number_of_nodes +1)]\n",
    "visited[0] =True"
   ]
  },
  {
   "cell_type": "code",
   "execution_count": 8,
   "id": "b80bc392",
   "metadata": {},
   "outputs": [],
   "source": [
    "q= []"
   ]
  },
  {
   "cell_type": "code",
   "execution_count": null,
   "id": "dcffa52e",
   "metadata": {},
   "outputs": [],
   "source": [
    "while sum(visited) != number_of_nodes+1:\n",
    "\n",
    "    for v in range(len(visited)):\n",
    "        if visited[v] == False:\n",
    "            q.append(v)\n",
    "            break\n",
    "\n",
    "    while q:\n",
    "        go = q.pop(0)\n",
    "        visited[go] = True\n",
    "        \n",
    "        next_nodes = map_[go]\n",
    "        \n",
    "        next_node_no_visit  = []\n",
    "        for nn in next_nodes :\n",
    "            if visited[nn] ==False:\n",
    "                next_node_no_visit.append(nn)\n",
    "        \n",
    "        \n",
    "\n",
    "\n",
    "\n",
    "        while q:\n",
    "\n",
    "            go = q.pop()\n",
    "            visited[go]= True\n",
    "            next_nodes = map_[go]\n",
    "\n",
    "            next_node_no_visit = []\n",
    "\n",
    "            # visited 를 다르게 넘겨줘서 distance에 다르게 접근할수있게해줘야함 .\n",
    "\n"
   ]
  },
  {
   "cell_type": "markdown",
   "id": "626da7ca",
   "metadata": {},
   "source": [
    "# 재풀이"
   ]
  },
  {
   "cell_type": "code",
   "execution_count": 96,
   "id": "d1a1fff0",
   "metadata": {},
   "outputs": [
    {
     "name": "stdout",
     "output_type": "stream",
     "text": [
      "6 5\n"
     ]
    }
   ],
   "source": [
    "num_nodes , num_edges = list(map(int,input().split()))"
   ]
  },
  {
   "cell_type": "code",
   "execution_count": 97,
   "id": "30eb5127",
   "metadata": {},
   "outputs": [
    {
     "name": "stdout",
     "output_type": "stream",
     "text": [
      "1 2\n",
      "2 4\n",
      "3 4\n",
      "3 5\n",
      "4 6\n"
     ]
    }
   ],
   "source": [
    "map_ = {}\n",
    "for _ in range(num_edges):\n",
    "    a, b = list(map(int,input().split()))\n",
    "    if a not in map_:\n",
    "        map_[a]=[]\n",
    "        map_[a].append(b)\n",
    "    else:\n",
    "        map_[a].append(b)\n",
    "    \n",
    "    if b not in map_:\n",
    "        map_[b]=[]\n",
    "        map_[b].append(a)\n",
    "    else:\n",
    "        map_[b].append(a)\n",
    "    \n",
    "    \n",
    "    \n",
    "    \n",
    "    \n",
    "    "
   ]
  },
  {
   "cell_type": "code",
   "execution_count": 98,
   "id": "f05ec1e4",
   "metadata": {},
   "outputs": [
    {
     "data": {
      "text/plain": [
       "{1: [2], 2: [1, 4], 4: [2, 3, 6], 3: [4, 5], 5: [3], 6: [4]}"
      ]
     },
     "execution_count": 98,
     "metadata": {},
     "output_type": "execute_result"
    }
   ],
   "source": [
    "map_"
   ]
  },
  {
   "cell_type": "code",
   "execution_count": 106,
   "id": "0512de49",
   "metadata": {},
   "outputs": [],
   "source": [
    "visited = [None for x in range(num_nodes)]"
   ]
  },
  {
   "cell_type": "code",
   "execution_count": 107,
   "id": "639a2ef9",
   "metadata": {},
   "outputs": [
    {
     "data": {
      "text/plain": [
       "[None, None, None, None, None, None]"
      ]
     },
     "execution_count": 107,
     "metadata": {},
     "output_type": "execute_result"
    }
   ],
   "source": [
    "visited"
   ]
  },
  {
   "cell_type": "code",
   "execution_count": 108,
   "id": "0a82f305",
   "metadata": {},
   "outputs": [
    {
     "data": {
      "text/plain": [
       "{1: [2], 2: [1, 4], 4: [2, 3, 6], 3: [4, 5], 5: [3], 6: [4]}"
      ]
     },
     "execution_count": 108,
     "metadata": {},
     "output_type": "execute_result"
    }
   ],
   "source": [
    "map_"
   ]
  },
  {
   "cell_type": "markdown",
   "id": "9b812356",
   "metadata": {},
   "source": [
    "### 실패작 , 반복적으로하니까 이게 반례가나와버림 . dfs()호출하는방식으로 해야도미 ."
   ]
  },
  {
   "cell_type": "markdown",
   "id": "8c413665",
   "metadata": {},
   "source": [
    "### 전달해주는방식으로 할땐 while 안쓰고 요렇게"
   ]
  },
  {
   "cell_type": "code",
   "execution_count": 102,
   "id": "d5c7ead3",
   "metadata": {},
   "outputs": [],
   "source": [
    "def func():\n",
    "    \n",
    "    q= []\n",
    "    \n",
    "    value = 1\n",
    "    \n",
    "    for i in range(1,num_nodes+1):\n",
    "        if visited[i-1] != None:\n",
    "            continue\n",
    "            \n",
    "        q.append(i)\n",
    "        \n",
    "    \n",
    "        while q:\n",
    "\n",
    "            now = q.pop()\n",
    "            print(now,value)\n",
    "            value = value * -1\n",
    "            if visited[now-1] != None:\n",
    "                continue\n",
    "            visited[now-1] = value\n",
    "            # 3 - value = -1\n",
    "            next_ = map_[now]\n",
    "            for i in next_:\n",
    "                if visited[i-1] == None:\n",
    "                    q.append(i)\n",
    "\n",
    "                elif visited[i-1] == value:\n",
    "                    print('No')\n",
    "                    print(visited)\n",
    "                    return \n",
    "    \n",
    "    print('Yes')\n",
    "    return\n",
    "\n",
    "\n",
    "\n",
    "\n",
    "\n",
    "\n"
   ]
  },
  {
   "cell_type": "code",
   "execution_count": null,
   "id": "1f6a2feb",
   "metadata": {},
   "outputs": [],
   "source": [
    "map_ = {}\n",
    "__ , command_times = list(map(int,input().split()))\n",
    "for _ in range(command_times):\n",
    "    node_a, node_b = list(map(int,input().split()))\n",
    "    if node_a not in map_:\n",
    "        map_[node_a] =[]\n",
    "    if node_b not in map_:\n",
    "        map_[node_b] =[]\n",
    "\n",
    "    map_[node_a].append(node_b)\n",
    "    map_[node_b].append(node_a)\n",
    "\n",
    "visited= [False for _ in range(__ +1)]\n",
    "visited[0] =True\n",
    "answer = \"Yes\"\n",
    "def dfs(node,color):\n",
    "    global answer \n",
    "    \n",
    "    visited[node] = color\n",
    "    \n",
    "    for i in map_[node]:\n",
    "        if visited[i] == False:\n",
    "            dfs(i,-color)\n",
    "        elif visited[i] == -color:\n",
    "            pass\n",
    "        else:\n",
    "            answer = 'No'\n",
    "            return\n",
    "for i in range(len(visited)):\n",
    "    if visited[i] == False:\n",
    "        dfs(i,1)\n",
    "\n",
    "print(answer)"
   ]
  },
  {
   "cell_type": "code",
   "execution_count": 103,
   "id": "964c2c23",
   "metadata": {},
   "outputs": [
    {
     "data": {
      "text/plain": [
       "[None, None, None, None, None, None]"
      ]
     },
     "execution_count": 103,
     "metadata": {},
     "output_type": "execute_result"
    }
   ],
   "source": [
    "visited"
   ]
  },
  {
   "cell_type": "code",
   "execution_count": 104,
   "id": "e2ba01a5",
   "metadata": {},
   "outputs": [
    {
     "name": "stdout",
     "output_type": "stream",
     "text": [
      "1 1\n",
      "2 -1\n",
      "4 1\n",
      "6 -1\n",
      "3 1\n",
      "No\n",
      "[-1, 1, -1, -1, None, 1]\n"
     ]
    }
   ],
   "source": [
    "func()"
   ]
  },
  {
   "cell_type": "code",
   "execution_count": 105,
   "id": "4b7e86cf",
   "metadata": {},
   "outputs": [
    {
     "data": {
      "text/plain": [
       "[-1, 1, -1, -1, None, 1]"
      ]
     },
     "execution_count": 105,
     "metadata": {},
     "output_type": "execute_result"
    }
   ],
   "source": [
    "visited"
   ]
  },
  {
   "cell_type": "code",
   "execution_count": null,
   "id": "76b7caed",
   "metadata": {},
   "outputs": [],
   "source": []
  },
  {
   "cell_type": "code",
   "execution_count": null,
   "id": "6d7f818c",
   "metadata": {},
   "outputs": [],
   "source": []
  },
  {
   "cell_type": "markdown",
   "id": "a2ff5618",
   "metadata": {},
   "source": [
    "# 단지 번호 붙이기"
   ]
  },
  {
   "cell_type": "code",
   "execution_count": 1,
   "id": "d908a105",
   "metadata": {},
   "outputs": [
    {
     "name": "stdout",
     "output_type": "stream",
     "text": [
      "7\n"
     ]
    }
   ],
   "source": [
    "N = int(input())"
   ]
  },
  {
   "cell_type": "code",
   "execution_count": null,
   "id": "a2160b18",
   "metadata": {},
   "outputs": [],
   "source": [
    "N = int(input())\n",
    "map_ = []\n",
    "for _ in range(N):\n",
    "    char = input()\n",
    "    temp = []\n",
    "    for c in char:\n",
    "        temp.append(int(c))\n",
    "    map_.append(temp)\n",
    "\n",
    "\n",
    "def dfs(i,j):\n",
    "    if i < 0 or i >= N or j < 0 or j >= N or map_[i][j] == 0:\n",
    "        return \n",
    "    \n",
    "    global count\n",
    "    count +=1\n",
    "    map_[i][j] = 0\n",
    "    \n",
    "    dfs(i-1,j)\n",
    "    dfs(i+1,j)\n",
    "    dfs(i,j-1)\n",
    "    dfs(i,j+1)\n",
    "\n",
    "result = []\n",
    "for i in range(N):\n",
    "    for j in range(N):\n",
    "        if map_[i][j] == 1:\n",
    "            count = 0\n",
    "            dfs(i,j)\n",
    "            result.append(count)\n",
    "            \n",
    "result = sorted(result)\n",
    "print(len(result))\n",
    "for i in result:\n",
    "    print(i)"
   ]
  },
  {
   "cell_type": "markdown",
   "id": "f7b01e55",
   "metadata": {},
   "source": [
    "## 재풀이"
   ]
  },
  {
   "cell_type": "code",
   "execution_count": null,
   "id": "48c39447",
   "metadata": {},
   "outputs": [],
   "source": [
    "7\n",
    "0110100\n",
    "0110101\n",
    "1110101\n",
    "0000111\n",
    "0100000\n",
    "0111110\n",
    "0111000"
   ]
  },
  {
   "cell_type": "code",
   "execution_count": 142,
   "id": "7cc43988",
   "metadata": {
    "scrolled": true
   },
   "outputs": [
    {
     "name": "stdout",
     "output_type": "stream",
     "text": [
      "7\n",
      "0110100\n",
      "0110101\n",
      "1110101\n",
      "0000111\n",
      "0100000\n",
      "0111110\n",
      "0111000\n"
     ]
    }
   ],
   "source": [
    "N = int(input())\n",
    "map_ = []\n",
    "for _ in range(N):\n",
    "    temp = []\n",
    "    string= input()\n",
    "    for __ in string:\n",
    "        temp.append(__)\n",
    "    map_.append(temp[::])"
   ]
  },
  {
   "cell_type": "code",
   "execution_count": 143,
   "id": "35c6c4b7",
   "metadata": {},
   "outputs": [],
   "source": [
    "result = {}"
   ]
  },
  {
   "cell_type": "code",
   "execution_count": 144,
   "id": "d4f38503",
   "metadata": {},
   "outputs": [],
   "source": [
    "def dfs(i,j,color):\n",
    "    global result\n",
    "    \n",
    "    if i < 0 or j< 0 or i>= N or j >= N or map_[i][j] == '0' or map_[i][j] == color :\n",
    "        return\n",
    "    \n",
    "    \n",
    "    map_[i][j] = color\n",
    "    result[color] +=1\n",
    "    dx = [1, -1, 0, 0]\n",
    "    dy = [0, 0 , 1, -1]\n",
    "\n",
    "    \n",
    "    for _ in range(4):\n",
    "        \n",
    "        next_i = i + dx[_]\n",
    "        next_j = j + dy[_]\n",
    "        dfs(next_i,next_j,color)\n",
    "      "
   ]
  },
  {
   "cell_type": "code",
   "execution_count": 145,
   "id": "2a11f1c5",
   "metadata": {},
   "outputs": [],
   "source": [
    "color = 0\n",
    "for i in range(N):\n",
    "    for j in range(N):\n",
    "        if map_[i][j] == '1':\n",
    "            result[color] = 0\n",
    "            dfs(i,j,color)\n",
    "            color +=1"
   ]
  },
  {
   "cell_type": "code",
   "execution_count": 146,
   "id": "94333afc",
   "metadata": {},
   "outputs": [
    {
     "data": {
      "text/plain": [
       "{0: 7, 1: 8, 2: 9}"
      ]
     },
     "execution_count": 146,
     "metadata": {},
     "output_type": "execute_result"
    }
   ],
   "source": [
    "result"
   ]
  },
  {
   "cell_type": "code",
   "execution_count": 124,
   "id": "d94401ff",
   "metadata": {},
   "outputs": [
    {
     "data": {
      "text/plain": [
       "[['0', '1', '1', '0', '1', '0', '0'],\n",
       " ['0', '1', '1', '0', '1', '0', '1'],\n",
       " ['1', '1', '1', '0', '1', '0', '1'],\n",
       " ['0', '0', '0', '0', '1', '1', '1'],\n",
       " ['0', '1', '0', '0', '0', '0', '0'],\n",
       " ['0', '1', '1', '1', '1', '1', '0'],\n",
       " ['0', '1', '1', '1', '0', '0', '0']]"
      ]
     },
     "execution_count": 124,
     "metadata": {},
     "output_type": "execute_result"
    }
   ],
   "source": [
    "map_"
   ]
  },
  {
   "cell_type": "code",
   "execution_count": null,
   "id": "eda83bb7",
   "metadata": {},
   "outputs": [],
   "source": []
  },
  {
   "cell_type": "code",
   "execution_count": null,
   "id": "ae8a454a",
   "metadata": {},
   "outputs": [],
   "source": []
  },
  {
   "cell_type": "code",
   "execution_count": 120,
   "id": "6d8bf3c9",
   "metadata": {},
   "outputs": [
    {
     "data": {
      "text/plain": [
       "0.14505494505494507"
      ]
     },
     "execution_count": 120,
     "metadata": {},
     "output_type": "execute_result"
    }
   ],
   "source": [
    "660/4550"
   ]
  },
  {
   "cell_type": "code",
   "execution_count": 113,
   "id": "e6cd9f73",
   "metadata": {},
   "outputs": [],
   "source": [
    "temp = [1,2,3]"
   ]
  },
  {
   "cell_type": "code",
   "execution_count": 115,
   "id": "1ead740e",
   "metadata": {},
   "outputs": [
    {
     "data": {
      "text/plain": [
       "[1, 2, 3]"
      ]
     },
     "execution_count": 115,
     "metadata": {},
     "output_type": "execute_result"
    }
   ],
   "source": [
    "temp[::]"
   ]
  },
  {
   "cell_type": "code",
   "execution_count": null,
   "id": "fccc0a96",
   "metadata": {},
   "outputs": [],
   "source": []
  },
  {
   "cell_type": "markdown",
   "id": "50921d2e",
   "metadata": {},
   "source": [
    "# 웜바이러스"
   ]
  },
  {
   "cell_type": "code",
   "execution_count": null,
   "id": "5be7c371",
   "metadata": {},
   "outputs": [],
   "source": [
    "7\n",
    "6\n",
    "1 2\n",
    "2 3\n",
    "1 5\n",
    "5 2\n",
    "5 6\n",
    "4 7"
   ]
  },
  {
   "cell_type": "code",
   "execution_count": 12,
   "id": "0d0e614e",
   "metadata": {},
   "outputs": [
    {
     "name": "stdout",
     "output_type": "stream",
     "text": [
      "7\n",
      "6\n"
     ]
    }
   ],
   "source": [
    "numbers_of_c = int(input())\n",
    "commands = int(input())"
   ]
  },
  {
   "cell_type": "code",
   "execution_count": 19,
   "id": "c99f91d4",
   "metadata": {},
   "outputs": [
    {
     "name": "stdout",
     "output_type": "stream",
     "text": [
      "1 2\n",
      "2 3\n",
      "1 5\n",
      "5 2\n",
      "5 6\n",
      "4 7\n"
     ]
    }
   ],
   "source": [
    "\n",
    "map_ = {}\n",
    "for _ in range(commands):\n",
    "    node_a, node_b = list(map(int,input().split()))\n",
    "    if node_a not in map_:\n",
    "        map_[node_a] =[]\n",
    "    if node_b not in map_:\n",
    "        map_[node_b] =[]\n",
    "\n",
    "    map_[node_a].append(node_b)\n",
    "    map_[node_b].append(node_a)\n",
    "\n",
    "visited= [False for _ in range(numbers_of_c +1)]\n",
    "visited[0] =True"
   ]
  },
  {
   "cell_type": "code",
   "execution_count": 20,
   "id": "897203dc",
   "metadata": {},
   "outputs": [
    {
     "data": {
      "text/plain": [
       "{1: [2, 5], 2: [1, 3, 5], 3: [2], 5: [1, 2, 6], 6: [5], 4: [7], 7: [4]}"
      ]
     },
     "execution_count": 20,
     "metadata": {},
     "output_type": "execute_result"
    }
   ],
   "source": [
    "map_"
   ]
  },
  {
   "cell_type": "code",
   "execution_count": 22,
   "id": "2b9a9a1b",
   "metadata": {},
   "outputs": [],
   "source": [
    "q= []\n",
    "q.append(1)"
   ]
  },
  {
   "cell_type": "code",
   "execution_count": 23,
   "id": "eaef127a",
   "metadata": {},
   "outputs": [],
   "source": [
    "while q:\n",
    "    go = q.pop()\n",
    "    \n",
    "    visited[go] = True\n",
    "    to = map_[go]\n",
    "    \n",
    "    for t in to:\n",
    "        if visited[t] == False:\n",
    "            q.append(t)\n",
    "            "
   ]
  },
  {
   "cell_type": "code",
   "execution_count": 24,
   "id": "75cbcd42",
   "metadata": {},
   "outputs": [
    {
     "data": {
      "text/plain": [
       "[True, True, True, True, False, True, True, False]"
      ]
     },
     "execution_count": 24,
     "metadata": {},
     "output_type": "execute_result"
    }
   ],
   "source": [
    "visited"
   ]
  },
  {
   "cell_type": "code",
   "execution_count": 25,
   "id": "e3b9f6b1",
   "metadata": {},
   "outputs": [
    {
     "name": "stdout",
     "output_type": "stream",
     "text": [
      "4\n"
     ]
    }
   ],
   "source": [
    "print(sum(visited)-2)"
   ]
  },
  {
   "cell_type": "markdown",
   "id": "821d927e",
   "metadata": {},
   "source": [
    "## 재풀이"
   ]
  },
  {
   "cell_type": "code",
   "execution_count": null,
   "id": "39c8c577",
   "metadata": {},
   "outputs": [],
   "source": [
    "7\n",
    "6\n",
    "1 2\n",
    "2 3\n",
    "1 5\n",
    "5 2\n",
    "5 6\n",
    "4 7"
   ]
  },
  {
   "cell_type": "code",
   "execution_count": 6,
   "id": "a02dae8c",
   "metadata": {},
   "outputs": [
    {
     "name": "stdout",
     "output_type": "stream",
     "text": [
      "7\n",
      "6\n"
     ]
    }
   ],
   "source": [
    "number_of_computers = int(input())\n",
    "number_of_connections = int(input())"
   ]
  },
  {
   "cell_type": "code",
   "execution_count": 7,
   "id": "5787a874",
   "metadata": {},
   "outputs": [],
   "source": [
    "computers = {}"
   ]
  },
  {
   "cell_type": "code",
   "execution_count": 8,
   "id": "8fb45bd6",
   "metadata": {},
   "outputs": [
    {
     "name": "stdout",
     "output_type": "stream",
     "text": [
      "1 2\n",
      "2 3\n",
      "1 5\n",
      "5 2\n",
      "5 6\n",
      "4 7\n"
     ]
    }
   ],
   "source": [
    "for _ in range(number_of_connections):\n",
    "    a,b = input().split()\n",
    "    if a not in computers:\n",
    "        computers[a] = []\n",
    "        computers[a].append(b)\n",
    "    else:\n",
    "        computers[a].append(b)\n",
    "        \n",
    "        \n",
    "    if b not in computers:\n",
    "        computers[b] = []\n",
    "        computers[b].append(a)\n",
    "    else:\n",
    "        computers[b].append(a)"
   ]
  },
  {
   "cell_type": "code",
   "execution_count": 9,
   "id": "b674caf6",
   "metadata": {},
   "outputs": [
    {
     "data": {
      "text/plain": [
       "{'1': ['2', '5'],\n",
       " '2': ['1', '3', '5'],\n",
       " '3': ['2'],\n",
       " '5': ['1', '2', '6'],\n",
       " '6': ['5'],\n",
       " '4': ['7'],\n",
       " '7': ['4']}"
      ]
     },
     "execution_count": 9,
     "metadata": {},
     "output_type": "execute_result"
    }
   ],
   "source": [
    "computers"
   ]
  },
  {
   "cell_type": "code",
   "execution_count": 20,
   "id": "1cdef075",
   "metadata": {},
   "outputs": [],
   "source": [
    "visited = [False for x in range(number_of_computers+1)]"
   ]
  },
  {
   "cell_type": "code",
   "execution_count": 21,
   "id": "c70a9af7",
   "metadata": {},
   "outputs": [],
   "source": [
    "q= []"
   ]
  },
  {
   "cell_type": "code",
   "execution_count": 22,
   "id": "ef225336",
   "metadata": {},
   "outputs": [],
   "source": [
    "q.append('1')"
   ]
  },
  {
   "cell_type": "code",
   "execution_count": 23,
   "id": "e5473484",
   "metadata": {},
   "outputs": [
    {
     "data": {
      "text/plain": [
       "[False, False, False, False, False, False, False, False]"
      ]
     },
     "execution_count": 23,
     "metadata": {},
     "output_type": "execute_result"
    }
   ],
   "source": [
    "visited"
   ]
  },
  {
   "cell_type": "code",
   "execution_count": 24,
   "id": "7503ebb9",
   "metadata": {},
   "outputs": [],
   "source": [
    "while q:\n",
    "    visit = q.pop()\n",
    "    visited[int(visit)] = True\n",
    "    for i in computers[visit]:\n",
    "        if visited[int(i)] == False:\n",
    "            q.append(i)\n",
    "    "
   ]
  },
  {
   "cell_type": "code",
   "execution_count": 25,
   "id": "a47e5ae3",
   "metadata": {},
   "outputs": [
    {
     "data": {
      "text/plain": [
       "[False, True, True, True, False, True, True, False]"
      ]
     },
     "execution_count": 25,
     "metadata": {},
     "output_type": "execute_result"
    }
   ],
   "source": [
    "visited"
   ]
  },
  {
   "cell_type": "code",
   "execution_count": null,
   "id": "41d19adf",
   "metadata": {},
   "outputs": [],
   "source": []
  },
  {
   "cell_type": "markdown",
   "id": "c03b82ca",
   "metadata": {},
   "source": [
    "## 이상한 계산기"
   ]
  },
  {
   "cell_type": "code",
   "execution_count": 112,
   "id": "8dda1fc3",
   "metadata": {},
   "outputs": [
    {
     "name": "stdout",
     "output_type": "stream",
     "text": [
      "20\n"
     ]
    }
   ],
   "source": [
    "N = int(input())\n",
    "number = 1"
   ]
  },
  {
   "cell_type": "code",
   "execution_count": 113,
   "id": "5e9414c2",
   "metadata": {},
   "outputs": [],
   "source": [
    "count = 0"
   ]
  },
  {
   "cell_type": "code",
   "execution_count": 114,
   "id": "19531916",
   "metadata": {},
   "outputs": [],
   "source": [
    "check = [False for x in range(100000)]"
   ]
  },
  {
   "cell_type": "code",
   "execution_count": 115,
   "id": "60a0d6ee",
   "metadata": {},
   "outputs": [],
   "source": [
    "min_ = 1e10"
   ]
  },
  {
   "cell_type": "code",
   "execution_count": 116,
   "id": "24725c71",
   "metadata": {},
   "outputs": [],
   "source": [
    "def func(x,count):\n",
    "    global min_ \n",
    "    check[x] = True\n",
    "    \n",
    "    if x == N:\n",
    "        min_ = min(min_,count)\n",
    "        return\n",
    "    if x >= 100000 or x == 0 :\n",
    "        return\n",
    "    print(check[:21])\n",
    "    if check[x//3] == False:\n",
    "        func(x//3, count+1)\n",
    "    \n",
    "    if x*2 <100000:\n",
    "        if check[x*2] == False:\n",
    "            func(x*2,count+1)\n",
    "        \n",
    "        \n",
    "    \n",
    "    \n",
    "    \n",
    "    \n",
    "    \n",
    "    "
   ]
  },
  {
   "cell_type": "code",
   "execution_count": 118,
   "id": "87cf7354",
   "metadata": {},
   "outputs": [
    {
     "data": {
      "text/plain": [
       "72"
      ]
     },
     "execution_count": 118,
     "metadata": {},
     "output_type": "execute_result"
    }
   ],
   "source": [
    "min_"
   ]
  },
  {
   "cell_type": "markdown",
   "id": "3cce8601",
   "metadata": {},
   "source": [
    "### while안쓰고 푸니까 이게 계속 튕기구나 ;;"
   ]
  },
  {
   "cell_type": "code",
   "execution_count": 120,
   "id": "2dedbb45",
   "metadata": {},
   "outputs": [
    {
     "name": "stdout",
     "output_type": "stream",
     "text": [
      "9999\n",
      "47\n"
     ]
    }
   ],
   "source": [
    "N = int(input())\n",
    "q = []\n",
    "q.append(1)\n",
    "\n",
    "visited = [False]* 100000\n",
    "visited[1] = 0\n",
    "\n",
    "while q:\n",
    "    x = q.pop(0)\n",
    "    \n",
    "    if x  >= 100000 or x == 0 :\n",
    "        continue \n",
    "    \n",
    "    if x == N:\n",
    "        print(visited[x])\n",
    "        break\n",
    "    \n",
    "    \n",
    "    next_ = x*2\n",
    "    if next_ < 100000:\n",
    "        if visited[next_] == False:\n",
    "            visited[next_] = visited[x]+1\n",
    "            q.append(next_)\n",
    "    \n",
    "    next_ = x//3\n",
    "    if visited[next_] == False:\n",
    "        visited[next_] = visited[x] + 1\n",
    "        q.append(next_)\n",
    "    "
   ]
  },
  {
   "cell_type": "code",
   "execution_count": null,
   "id": "a942a714",
   "metadata": {},
   "outputs": [],
   "source": []
  }
 ],
 "metadata": {
  "kernelspec": {
   "display_name": "Python 3 (ipykernel)",
   "language": "python",
   "name": "python3"
  },
  "language_info": {
   "codemirror_mode": {
    "name": "ipython",
    "version": 3
   },
   "file_extension": ".py",
   "mimetype": "text/x-python",
   "name": "python",
   "nbconvert_exporter": "python",
   "pygments_lexer": "ipython3",
   "version": "3.8.13"
  }
 },
 "nbformat": 4,
 "nbformat_minor": 5
}
