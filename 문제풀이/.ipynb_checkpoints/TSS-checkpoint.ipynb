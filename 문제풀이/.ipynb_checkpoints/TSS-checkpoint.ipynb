{
 "cells": [
  {
   "cell_type": "code",
   "execution_count": 180,
   "id": "c45e509c",
   "metadata": {},
   "outputs": [],
   "source": [
    "skills  = [3,2,4,1]\n",
    "team = [2,4]\n",
    "k = 3\n"
   ]
  },
  {
   "cell_type": "code",
   "execution_count": 181,
   "id": "3d5e9571",
   "metadata": {},
   "outputs": [],
   "source": [
    "team = [x-1 for x in team]\n",
    "team = sorted(team)"
   ]
  },
  {
   "cell_type": "code",
   "execution_count": 182,
   "id": "3cbf3d27",
   "metadata": {},
   "outputs": [],
   "source": [
    "if len(team) == 1:\n",
    "    double_index =[x for x in range(team[0]-k+1,team[0]+1)]\n",
    "else:\n",
    "    start = team[0]\n",
    "    end = team[-1]\n",
    "    interval = end - start\n",
    "    if interval == k-1:\n",
    "        double_index = [start]\n",
    "    elif interval > k-1:\n",
    "        double_index = [-1]\n",
    "        \n",
    "    elif interval < k -1 :\n",
    "        double_index = list(range(end-k+1, end-k+1 + k- interval))\n",
    "        "
   ]
  },
  {
   "cell_type": "code",
   "execution_count": 184,
   "id": "c3c75935",
   "metadata": {},
   "outputs": [],
   "source": [
    "answer =0\n",
    "for s in range(0 , len(skills)-k+1):\n",
    "    list_ = skills[s:s+k]\n",
    "    \n",
    "    if s == 0:\n",
    "        temp = sum(list_)\n",
    "        if s in double_index:\n",
    "            temp = temp *2\n",
    "    else:\n",
    "        temp = temp + list_[-1] - prev_start\n",
    "        if s in double_index:\n",
    "            temp = temp *2\n",
    "    \n",
    "   \n",
    "    answer = max(answer,temp)\n",
    "    prev_start = list_[0]\n",
    "    \n",
    "        \n",
    "    \n",
    "    \n",
    "    \n",
    "    "
   ]
  },
  {
   "cell_type": "code",
   "execution_count": 185,
   "id": "abd09117",
   "metadata": {},
   "outputs": [
    {
     "data": {
      "text/plain": [
       "14"
      ]
     },
     "execution_count": 185,
     "metadata": {},
     "output_type": "execute_result"
    }
   ],
   "source": [
    "answer"
   ]
  },
  {
   "cell_type": "code",
   "execution_count": null,
   "id": "58fac49a",
   "metadata": {},
   "outputs": [],
   "source": []
  },
  {
   "cell_type": "code",
   "execution_count": 117,
   "id": "e7cfc86a",
   "metadata": {},
   "outputs": [
    {
     "data": {
      "text/plain": [
       "[1, 2, 3, 4, 5]"
      ]
     },
     "execution_count": 117,
     "metadata": {},
     "output_type": "execute_result"
    }
   ],
   "source": [
    "double_index"
   ]
  },
  {
   "cell_type": "code",
   "execution_count": null,
   "id": "4a7a0226",
   "metadata": {},
   "outputs": [],
   "source": []
  },
  {
   "cell_type": "markdown",
   "id": "9fbd13a9",
   "metadata": {},
   "source": [
    "### 2번"
   ]
  },
  {
   "cell_type": "code",
   "execution_count": 70,
   "id": "221955da",
   "metadata": {},
   "outputs": [],
   "source": [
    "M = 20\n",
    "load = [16,15,9,17,1,3]"
   ]
  },
  {
   "cell_type": "code",
   "execution_count": 88,
   "id": "4ab25b93",
   "metadata": {},
   "outputs": [],
   "source": [
    "M =5 \n",
    "load = [2,2,2,2,2]"
   ]
  },
  {
   "cell_type": "code",
   "execution_count": 97,
   "id": "c71c4646",
   "metadata": {},
   "outputs": [],
   "source": [
    "M = 10\n",
    "load = [2,3,7,8]"
   ]
  },
  {
   "cell_type": "code",
   "execution_count": 98,
   "id": "c6952582",
   "metadata": {},
   "outputs": [],
   "source": [
    "load = sorted(load,reverse=True)\n",
    "check = [False for x in range(len(load))]\n",
    "temp = 0\n",
    "result = 0\n",
    "for i in range(len(load)):\n",
    "    \n",
    "    if check[i] == True:\n",
    "        continue\n",
    "    check[i] = True\n",
    "    temp += load[i]\n",
    "    for j in range(i+1,len(load)):\n",
    "        if check[j] == True:\n",
    "            continue\n",
    "        if temp + load[j] > M:\n",
    "            continue\n",
    "        \n",
    "        temp += load[j]\n",
    "        check[j] = True\n",
    "        if temp == M:\n",
    "            break\n",
    "    \n",
    "    temp = 0\n",
    "    result +=1"
   ]
  },
  {
   "cell_type": "code",
   "execution_count": 99,
   "id": "2176bfd0",
   "metadata": {},
   "outputs": [
    {
     "data": {
      "text/plain": [
       "[8, 7, 3, 2]"
      ]
     },
     "execution_count": 99,
     "metadata": {},
     "output_type": "execute_result"
    }
   ],
   "source": [
    "load\n"
   ]
  },
  {
   "cell_type": "code",
   "execution_count": 100,
   "id": "0e72f12d",
   "metadata": {},
   "outputs": [],
   "source": [
    "check = [False for x in range(len(load))]"
   ]
  },
  {
   "cell_type": "code",
   "execution_count": 101,
   "id": "d1e9dd56",
   "metadata": {},
   "outputs": [
    {
     "data": {
      "text/plain": [
       "[False, False, False, False]"
      ]
     },
     "execution_count": 101,
     "metadata": {},
     "output_type": "execute_result"
    }
   ],
   "source": [
    "check"
   ]
  },
  {
   "cell_type": "code",
   "execution_count": 102,
   "id": "679db137",
   "metadata": {},
   "outputs": [],
   "source": [
    "temp = 0\n",
    "result = 0"
   ]
  },
  {
   "cell_type": "code",
   "execution_count": 103,
   "id": "00d07ea2",
   "metadata": {},
   "outputs": [
    {
     "data": {
      "text/plain": [
       "[17, 16, 15, 9, 3, 1]"
      ]
     },
     "execution_count": 103,
     "metadata": {},
     "output_type": "execute_result"
    }
   ],
   "source": [
    "[17, 16, 15, 9, 3, 1]"
   ]
  },
  {
   "cell_type": "code",
   "execution_count": 104,
   "id": "f4481918",
   "metadata": {},
   "outputs": [],
   "source": [
    "for i in range(len(load)):\n",
    "    \n",
    "    if check[i] == True:\n",
    "        continue\n",
    "    check[i] = True\n",
    "    temp += load[i]\n",
    "    for j in range(i+1,len(load)):\n",
    "        if check[j] == True:\n",
    "            continue\n",
    "        if temp + load[j] > M:\n",
    "            continue\n",
    "        \n",
    "        temp += load[j]\n",
    "        check[j] = True\n",
    "        if temp == M:\n",
    "            break\n",
    "    \n",
    "    temp = 0\n",
    "    result +=1\n",
    "        "
   ]
  },
  {
   "cell_type": "code",
   "execution_count": 105,
   "id": "917f98a8",
   "metadata": {},
   "outputs": [
    {
     "data": {
      "text/plain": [
       "2"
      ]
     },
     "execution_count": 105,
     "metadata": {},
     "output_type": "execute_result"
    }
   ],
   "source": [
    "result"
   ]
  },
  {
   "cell_type": "code",
   "execution_count": 45,
   "id": "af3de9b7",
   "metadata": {},
   "outputs": [
    {
     "data": {
      "text/plain": [
       "[True, True, True, True, True, True]"
      ]
     },
     "execution_count": 45,
     "metadata": {},
     "output_type": "execute_result"
    }
   ],
   "source": [
    "check"
   ]
  },
  {
   "cell_type": "code",
   "execution_count": null,
   "id": "ce708002",
   "metadata": {},
   "outputs": [],
   "source": []
  },
  {
   "cell_type": "code",
   "execution_count": null,
   "id": "7976c71a",
   "metadata": {},
   "outputs": [],
   "source": [
    "temp = 0\n",
    "result = 0\n",
    "for j in range(len(load)):\n",
    "    for i in range(j+1, len(load)):\n",
    "        if temp + load[i] > 20:\n",
    "            continue\n",
    "        temp += load[i]\n",
    "        check[i] = True\n",
    "        if temp == M:\n",
    "            result +=1\n",
    "            \n",
    "            \n",
    "\n",
    "\n",
    "    "
   ]
  }
 ],
 "metadata": {
  "kernelspec": {
   "display_name": "Python 3 (ipykernel)",
   "language": "python",
   "name": "python3"
  },
  "language_info": {
   "codemirror_mode": {
    "name": "ipython",
    "version": 3
   },
   "file_extension": ".py",
   "mimetype": "text/x-python",
   "name": "python",
   "nbconvert_exporter": "python",
   "pygments_lexer": "ipython3",
   "version": "3.8.13"
  }
 },
 "nbformat": 4,
 "nbformat_minor": 5
}
