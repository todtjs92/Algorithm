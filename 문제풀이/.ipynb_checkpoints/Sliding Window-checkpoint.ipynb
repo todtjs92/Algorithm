{
 "cells": [
  {
   "cell_type": "markdown",
   "id": "883897bb",
   "metadata": {},
   "source": [
    "### 최대 슬라이딩 윈도우"
   ]
  },
  {
   "cell_type": "code",
   "execution_count": 55,
   "id": "e651c9c1",
   "metadata": {},
   "outputs": [],
   "source": [
    "nums = [1,3,-1,-3,5,3,6,7]\n",
    "k = 3\n",
    "# return [3,3,5,5,6,7]"
   ]
  },
  {
   "cell_type": "code",
   "execution_count": 56,
   "id": "0183cbcd",
   "metadata": {},
   "outputs": [],
   "source": [
    "\n",
    "# 길이 -k 까지 순차적으로 이동 \n",
    "# 처음에만 max 구해두고 , max 값이랑(맨왼쪽이었으면 팝할수 있또록 해야는데 ) 오른쪽 값이랑 비교해서 max 업데이트 .\n",
    "# 필요한 var = 1. max체크, 2. Max의 인덱스 \n",
    "# 만일 같은수 들어온다면 ?? 그냥 이경우에는 재 계산하게 짜야할듯. "
   ]
  },
  {
   "cell_type": "code",
   "execution_count": 57,
   "id": "fcc24a43",
   "metadata": {},
   "outputs": [],
   "source": [
    "max_= -1e10\n",
    "max_index = 0\n",
    "for kk in range(k):\n",
    "    if nums[kk] >  max_:\n",
    "        max_ = nums[kk]\n",
    "        max_index = kk\n",
    "answer = []\n",
    "\n",
    "    "
   ]
  },
  {
   "cell_type": "code",
   "execution_count": 59,
   "id": "773d766b",
   "metadata": {},
   "outputs": [
    {
     "name": "stdout",
     "output_type": "stream",
     "text": [
      "0\n",
      "3 1\n",
      "1\n",
      "3 1\n",
      "2\n",
      "5 temp\n",
      "5 4\n",
      "3\n",
      "5 4\n",
      "4\n",
      "6 6\n",
      "5\n",
      "7 7\n"
     ]
    }
   ],
   "source": [
    "for n in range(len(nums)-k+1):\n",
    "    print(n)\n",
    "    window_indexes = list(range(n,n+k))\n",
    "    \n",
    "    # 맥스값이 윈도우안에 아직 있을 경우\n",
    "    if max_index in window_indexes :\n",
    "        if max_ < nums[n+k-1]:\n",
    "            max_ = nums[n+k-1]\n",
    "            max_index = n+k-1\n",
    "    \n",
    "    \n",
    "    # 맥스값이 윈도우 안에 아직 없다면 새로 max구해야함 걍 max 쓰기 \n",
    "    else:\n",
    "        max_ = max(nums[n:n+k])\n",
    "        print(temp,'temp')\n",
    "        max_index = nums[n:n+k].index(max_) + n\n",
    "    print(max_,max_index)\n",
    "    answer.append(max_)\n",
    "    \n",
    "    "
   ]
  },
  {
   "cell_type": "markdown",
   "id": "ef196033",
   "metadata": {},
   "source": [
    "### 부분 문자열이 포함된 최소 윈도우"
   ]
  },
  {
   "cell_type": "code",
   "execution_count": null,
   "id": "c87d4504",
   "metadata": {},
   "outputs": [],
   "source": [
    "투포인터로 시작해서 오른쪽까지 쭉 탐색하다가 찾았을경우 \n",
    "왼쪾을 다시 줄이는 경우로 하는 방법 이게 젤 빠르다고한다,, 왜지??"
   ]
  },
  {
   "cell_type": "code",
   "execution_count": 13,
   "id": "f66d2412",
   "metadata": {},
   "outputs": [],
   "source": [
    "S = \"ADOBECODEBANC\"\n",
    "T = \"ABC\"\n",
    "# banc 인덱스 들고있따가 리턴해야할듯. "
   ]
  },
  {
   "cell_type": "code",
   "execution_count": 14,
   "id": "5f449a73",
   "metadata": {},
   "outputs": [],
   "source": [
    "from collections import Counter"
   ]
  },
  {
   "cell_type": "code",
   "execution_count": 15,
   "id": "ceabdd25",
   "metadata": {},
   "outputs": [],
   "source": [
    "# 1. S에 대해 iter문 돌음 \n",
    "# 2. T[0]을 발견하면 멈추고 확장함\n",
    "# 3. counter를 다 없앴는 경우를 발견하면 확장 멈춤 \n",
    "# 4. 왼쪽부터 줄여서 가능한경우있는지 확인 \n",
    "# --- 원래 있던 거면 더해주는 경우 필요한데  \n",
    "# 5. 마지막 까지 탐색 abc 앞까지 해서 없으면 \n",
    "# 6. 다시 1부터 탐색 \n",
    "# 예외 . 마지막 길이 마주치면 멈추는거 \n",
    "# counting.values() 이거 합으로 판단하면 될듯"
   ]
  },
  {
   "cell_type": "code",
   "execution_count": 16,
   "id": "07fc634e",
   "metadata": {},
   "outputs": [],
   "source": [
    "start_alphabet = T[0]"
   ]
  },
  {
   "cell_type": "code",
   "execution_count": 46,
   "id": "2177265d",
   "metadata": {},
   "outputs": [],
   "source": [
    "g=Counter(T)"
   ]
  },
  {
   "cell_type": "code",
   "execution_count": 50,
   "id": "8aa31d15",
   "metadata": {},
   "outputs": [
    {
     "data": {
      "text/plain": [
       "'A'"
      ]
     },
     "execution_count": 50,
     "metadata": {},
     "output_type": "execute_result"
    }
   ],
   "source": []
  },
  {
   "cell_type": "code",
   "execution_count": 44,
   "id": "5bca94ab",
   "metadata": {},
   "outputs": [
    {
     "data": {
      "text/plain": [
       "Counter()"
      ]
     },
     "execution_count": 44,
     "metadata": {},
     "output_type": "execute_result"
    }
   ],
   "source": [
    "g"
   ]
  },
  {
   "cell_type": "code",
   "execution_count": 17,
   "id": "0a0fed3d",
   "metadata": {},
   "outputs": [],
   "source": [
    "for s in range(len(S)):\n",
    "    if S[s] == start_alphabet:\n",
    "        counting = Counter(T)\n",
    "        for i in range(s,len(S)):\n",
    "            counting.subtract(S[i])\n",
    "            conting += collections.Counter() \n",
    "            if len(counting) == 0:\n",
    "                break\n",
    "                \n",
    "        left_index = s\n",
    "        right_index = i\n",
    "        counting = Counter(T)\n",
    "        for _ in counting.elements():\n",
    "            counting[_] = 0\n",
    "            # 이부분이 코드가 조잡해짐. 흠.\n",
    "        \n",
    "        \n",
    "        for x in range(s,i+1):\n",
    "            \n",
    "            \n",
    "            \n",
    "            \n",
    "                 \n",
    "                \n",
    "        "
   ]
  },
  {
   "cell_type": "code",
   "execution_count": 54,
   "id": "81ebe587",
   "metadata": {},
   "outputs": [
    {
     "data": {
      "text/plain": [
       "True"
      ]
     },
     "execution_count": 54,
     "metadata": {},
     "output_type": "execute_result"
    }
   ],
   "source": [
    "counting['C']  > 0"
   ]
  },
  {
   "cell_type": "code",
   "execution_count": 56,
   "id": "2224594e",
   "metadata": {},
   "outputs": [],
   "source": [
    "counting['D'] = counting['D'] -1"
   ]
  },
  {
   "cell_type": "code",
   "execution_count": 57,
   "id": "ff36ccb4",
   "metadata": {},
   "outputs": [
    {
     "data": {
      "text/plain": [
       "Counter({'A': -1, 'B': 1, 'C': 1, 0: None, 'D': -1})"
      ]
     },
     "execution_count": 57,
     "metadata": {},
     "output_type": "execute_result"
    }
   ],
   "source": [
    "counting"
   ]
  },
  {
   "cell_type": "code",
   "execution_count": 59,
   "id": "e6233c74",
   "metadata": {},
   "outputs": [],
   "source": [
    "def minWindow(S,T):\n",
    "    need = collections.Counter(T)\n",
    "    missing = len(T)\n",
    "    left = start = end = 0\n",
    "    \n",
    "    for right ,char in enumerate(s,1):\n",
    "        missing -= need[char] > 0 # true를 이런식으로 뺏구나\n",
    "        need[char] -= 1\n",
    "        \n",
    "        if missing == 0:\n",
    "            while left < right and need[s[left]] < 0 :\n",
    "                need[s[left]] += 1\n",
    "                left += 1\n",
    "            \n",
    "            if not end or right - left <= end -start:\n",
    "                start , end = left ,right\n",
    "        \n",
    "        "
   ]
  },
  {
   "cell_type": "code",
   "execution_count": null,
   "id": "1f0ebf88",
   "metadata": {},
   "outputs": [],
   "source": [
    "#1. 중복 그거 걱정안해도 됫음 \n",
    "#2. counting 없는 원소 빼면 알아서생성되구나 허참 ..\n",
    "#3. 그냥 맘편히 딕트 쓰는거도 방법 \n",
    "#4. left =start = end = 0"
   ]
  },
  {
   "cell_type": "markdown",
   "id": "22d02d08",
   "metadata": {},
   "source": [
    "### 가장긴 반복문자 대체"
   ]
  },
  {
   "cell_type": "code",
   "execution_count": null,
   "id": "eabb4c33",
   "metadata": {},
   "outputs": [],
   "source": [
    "이것도 똑같이 오른쪽으로 탐색하면서 최대길이 업데이트하고 \n",
    "중복 x였ㄷ너거부터 다시 탁색하는 방식으로 하면 될듯 "
   ]
  }
 ],
 "metadata": {
  "kernelspec": {
   "display_name": "Python 3 (ipykernel)",
   "language": "python",
   "name": "python3"
  },
  "language_info": {
   "codemirror_mode": {
    "name": "ipython",
    "version": 3
   },
   "file_extension": ".py",
   "mimetype": "text/x-python",
   "name": "python",
   "nbconvert_exporter": "python",
   "pygments_lexer": "ipython3",
   "version": "3.8.13"
  }
 },
 "nbformat": 4,
 "nbformat_minor": 5
}
