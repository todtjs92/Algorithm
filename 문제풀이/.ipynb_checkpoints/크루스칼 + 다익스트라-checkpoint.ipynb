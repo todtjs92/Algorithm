{
 "cells": [
  {
   "cell_type": "code",
   "execution_count": null,
   "id": "5989bea2",
   "metadata": {},
   "outputs": [],
   "source": [
    "# 1. 부모노드가 같으면 순환된다는 뜻 = 포함하지 안흔다. \n",
    "# 2. 작은 가중치인 선부터 연결하면서 이게 근데 보장을 한다고 볼수있나??"
   ]
  },
  {
   "cell_type": "code",
   "execution_count": null,
   "id": "042a9654",
   "metadata": {},
   "outputs": [],
   "source": [
    "4 5\n",
    "1 4 4\n",
    "1 3 4\n",
    "2 3 3\n",
    "1 2 2\n",
    "4 2 1"
   ]
  },
  {
   "cell_type": "markdown",
   "id": "18dcf320",
   "metadata": {},
   "source": [
    "### 지나갔을떄 업데이트치고 가면됬는데 이걸안햇구나\n"
   ]
  },
  {
   "cell_type": "code",
   "execution_count": 28,
   "id": "be909583",
   "metadata": {},
   "outputs": [
    {
     "name": "stdout",
     "output_type": "stream",
     "text": [
      "6 8\n",
      "xzcx'\n"
     ]
    },
    {
     "ename": "ValueError",
     "evalue": "invalid literal for int() with base 10: \"xzcx'\"",
     "output_type": "error",
     "traceback": [
      "\u001b[0;31m---------------------------------------------------------------------------\u001b[0m",
      "\u001b[0;31mValueError\u001b[0m                                Traceback (most recent call last)",
      "Input \u001b[0;32mIn [28]\u001b[0m, in \u001b[0;36m<cell line: 15>\u001b[0;34m()\u001b[0m\n\u001b[1;32m     13\u001b[0m todo_list \u001b[38;5;241m=\u001b[39m []\n\u001b[1;32m     15\u001b[0m \u001b[38;5;28;01mfor\u001b[39;00m _ \u001b[38;5;129;01min\u001b[39;00m \u001b[38;5;28mrange\u001b[39m(command):\n\u001b[0;32m---> 16\u001b[0m     tokens \u001b[38;5;241m=\u001b[39m \u001b[38;5;28;43mlist\u001b[39;49m\u001b[43m(\u001b[49m\u001b[38;5;28;43mmap\u001b[39;49m\u001b[43m(\u001b[49m\u001b[38;5;28;43mint\u001b[39;49m\u001b[43m,\u001b[49m\u001b[38;5;28;43minput\u001b[39;49m\u001b[43m(\u001b[49m\u001b[43m)\u001b[49m\u001b[38;5;241;43m.\u001b[39;49m\u001b[43msplit\u001b[49m\u001b[43m(\u001b[49m\u001b[43m)\u001b[49m\u001b[43m)\u001b[49m\u001b[43m)\u001b[49m\n\u001b[1;32m     17\u001b[0m     todo_list\u001b[38;5;241m.\u001b[39mappend(tokens)\n\u001b[1;32m     18\u001b[0m todo_list\u001b[38;5;241m=\u001b[39m \u001b[38;5;28msorted\u001b[39m(todo_list,key\u001b[38;5;241m=\u001b[39m \u001b[38;5;28;01mlambda\u001b[39;00m x: x[\u001b[38;5;241m2\u001b[39m])\n",
      "\u001b[0;31mValueError\u001b[0m: invalid literal for int() with base 10: \"xzcx'\""
     ]
    }
   ],
   "source": [
    "def find_top(x):\n",
    "    if top_list[x] == x:\n",
    "        return x\n",
    "    top_list[x] = find_top(top_list[x])\n",
    "    return top_list[x]\n",
    "\n",
    "nodes , command = list(map(int,input().split()))\n",
    "top_list = [x for x in range(nodes)]\n",
    "temp_sum = 0\n",
    "edge_count = 0 \n",
    "todo_list = []\n",
    "\n",
    "for _ in range(command):\n",
    "    tokens = list(map(int,input().split()))\n",
    "    todo_list.append(tokens)\n",
    "todo_list= sorted(todo_list,key= lambda x: x[2])\n",
    "    \n",
    "for todo in todo_list:\n",
    "    a, b, guri = todo\n",
    "    a-=1\n",
    "    b-=1\n",
    "    \n",
    "    top_a = find_top(a)\n",
    "    top_b = find_top(b)\n",
    "\n",
    "    if top_a == top_b:\n",
    "        continue\n",
    "\n",
    "    if a >= b:\n",
    "        top_list[top_a] = top_b\n",
    "    else:\n",
    "        top_list[top_b] = top_a\n",
    "\n",
    "        \n",
    "    temp_sum += guri\n",
    "    edge_count += 1 \n",
    "    if edge_count == nodes -1:\n",
    "        break\n",
    "print(temp_sum)"
   ]
  },
  {
   "cell_type": "code",
   "execution_count": null,
   "id": "9a339999",
   "metadata": {},
   "outputs": [],
   "source": [
    "6 8\n",
    "1 2 13\n",
    "1 3 5\n",
    "2 4 9\n",
    "3 4 15\n",
    "3 5 3\n",
    "4 5 1\n",
    "4 6 7\n",
    "5 6 2"
   ]
  },
  {
   "cell_type": "code",
   "execution_count": null,
   "id": "cd300efd",
   "metadata": {},
   "outputs": [],
   "source": [
    "def find_top(x):\n",
    "    top = top_list[x]\n",
    "    \n",
    "    if top == x:\n",
    "        return top\n",
    "    \n",
    "    return find_top(top)\n",
    "\n",
    "nodes , command = list(map(int,input().split()))\n",
    "top_list = [x for x in range(nodes)]\n",
    "temp_sum = 0\n",
    "edge_count = 0 \n",
    "todo_list = []\n",
    "\n",
    "for _ in range(command):\n",
    "    tokens = list(map(int,input().split()))\n",
    "    todo_list.append(tokens)\n",
    "todo_list= sorted(todo_list,key= lambda x: x[2])\n",
    "    \n",
    "for todo in todo_list:\n",
    "    a, b, guri = todo\n",
    "    a-=1\n",
    "    b-=1\n",
    "    \n",
    "    top_a = find_top(a)\n",
    "    top_b = find_top(b)\n",
    "\n",
    "    if top_a == top_b:\n",
    "        continue\n",
    "\n",
    "    if a >= b:\n",
    "        top_list[top_a] = top_b\n",
    "    else:\n",
    "        top_list[top_b] = top_a\n",
    "\n",
    "    temp_sum += guri\n",
    "    edge_count += 1 \n",
    "\n",
    "# move the break condition outside the loop\n",
    "if edge_count == nodes -1:\n",
    "    print(temp_sum)"
   ]
  },
  {
   "cell_type": "code",
   "execution_count": null,
   "id": "18540446",
   "metadata": {},
   "outputs": [],
   "source": [
    "def find_top(x):\n",
    "    top = top_list[x]\n",
    "    \n",
    "    if top == x:\n",
    "        return top\n",
    "    \n",
    "    return find_top(top)"
   ]
  },
  {
   "cell_type": "code",
   "execution_count": null,
   "id": "643b074a",
   "metadata": {},
   "outputs": [],
   "source": [
    "def find_top(x):\n",
    "    if top_list[x] == x:\n",
    "        return x\n",
    "    top_list[x] = find_top(top_list[x])\n",
    "    return top_list[x]\n",
    "\n",
    "nodes, command = map(int, input().split())\n",
    "\n",
    "# initialize Union-Find data structure\n",
    "top_list = list(range(nodes))\n",
    "\n",
    "# read edges and sort them by weight\n",
    "todo_list = []\n",
    "for _ in range(command):\n",
    "    a, b, guri = map(int, input().split())\n",
    "    todo_list.append((a-1, b-1, guri))\n",
    "todo_list.sort(key=lambda x: x[2])\n",
    "\n",
    "# initialize temporary sum and edge counter\n",
    "temp_sum = 0\n",
    "edge_count = 0\n",
    "\n",
    "# iterate over sorted edges and add to MST\n",
    "for todo in todo_list:\n",
    "    a, b, guri = todo\n",
    "\n",
    "    # find the roots of the connected components\n",
    "    top_a = find_top(a)\n",
    "    top_b = find_top(b)\n",
    "\n",
    "    # if the roots are the same, the edge creates a cycle and should be skipped\n",
    "    if top_a == top_b:\n",
    "        continue\n",
    "\n",
    "    # add the edge to the MST and update the temporary sum and edge counter\n",
    "    if top_a >= top_b:\n",
    "        top_list[top_a] = top_b\n",
    "    else:\n",
    "        top_list[top_b] = top_a\n",
    "    temp_sum += guri\n",
    "    edge_count += 1\n",
    "\n",
    "    # if we've added all nodes to the MST, break the loop early\n",
    "    if edge_count == nodes - 1:\n",
    "        break\n",
    "\n",
    "print(temp_sum)"
   ]
  },
  {
   "cell_type": "code",
   "execution_count": null,
   "id": "05333626",
   "metadata": {},
   "outputs": [],
   "source": [
    "6 8\n",
    "1 2 13\n",
    "1 3 5\n",
    "2 4 9\n",
    "3 4 15\n",
    "3 5 3\n",
    "4 5 1\n",
    "4 6 7\n",
    "5 6 2\n",
    "33"
   ]
  },
  {
   "cell_type": "code",
   "execution_count": 25,
   "id": "527dd735",
   "metadata": {},
   "outputs": [
    {
     "data": {
      "text/plain": [
       "[0, 0, 0, 1, 2, 3]"
      ]
     },
     "execution_count": 25,
     "metadata": {},
     "output_type": "execute_result"
    }
   ],
   "source": [
    "top_list"
   ]
  },
  {
   "cell_type": "code",
   "execution_count": null,
   "id": "cf690a18",
   "metadata": {},
   "outputs": [],
   "source": []
  },
  {
   "cell_type": "code",
   "execution_count": null,
   "id": "605ff2b5",
   "metadata": {},
   "outputs": [],
   "source": []
  },
  {
   "cell_type": "code",
   "execution_count": 1,
   "id": "08688de4",
   "metadata": {},
   "outputs": [
    {
     "name": "stdout",
     "output_type": "stream",
     "text": [
      "4 5\n"
     ]
    }
   ],
   "source": [
    "nodes , command = list(map(int,input().split()))"
   ]
  },
  {
   "cell_type": "code",
   "execution_count": 3,
   "id": "9e1e1fb1",
   "metadata": {},
   "outputs": [],
   "source": [
    "top_list = [x for x in range(nodes)]"
   ]
  },
  {
   "cell_type": "code",
   "execution_count": 4,
   "id": "4b4407f3",
   "metadata": {},
   "outputs": [
    {
     "data": {
      "text/plain": [
       "[0, 1, 2, 3]"
      ]
     },
     "execution_count": 4,
     "metadata": {},
     "output_type": "execute_result"
    }
   ],
   "source": [
    "top_list"
   ]
  },
  {
   "cell_type": "code",
   "execution_count": 8,
   "id": "6e79cba9",
   "metadata": {},
   "outputs": [],
   "source": [
    "# top까지의 거리를 담는 자료구조가 있으면 ㄱㅊ을듯??\n",
    "guri_list = [0 for x in range(nodes)]"
   ]
  },
  {
   "cell_type": "markdown",
   "id": "369923d7",
   "metadata": {},
   "source": [
    "### 이미 top이 같으면 연결할 필요가 없음 . "
   ]
  },
  {
   "cell_type": "markdown",
   "id": "01e8b2be",
   "metadata": {},
   "source": [
    "### 연결할때 그냥 그값 더하면되는데 자료구조 필요없는거아니냐?"
   ]
  },
  {
   "cell_type": "code",
   "execution_count": 9,
   "id": "8e16aa8b",
   "metadata": {},
   "outputs": [
    {
     "data": {
      "text/plain": [
       "[0, 0, 0, 0]"
      ]
     },
     "execution_count": 9,
     "metadata": {},
     "output_type": "execute_result"
    }
   ],
   "source": [
    "guri_list"
   ]
  },
  {
   "cell_type": "markdown",
   "id": "5d4069d1",
   "metadata": {},
   "source": [
    "### set이 필요한가?? "
   ]
  },
  {
   "cell_type": "code",
   "execution_count": 5,
   "id": "bc3fa97d",
   "metadata": {},
   "outputs": [],
   "source": [
    "def find_top(x):\n",
    "    top = top_list[x]\n",
    "    \n",
    "    if top == x:\n",
    "        return top\n",
    "    \n",
    "    return find_top(top)\n"
   ]
  },
  {
   "cell_type": "code",
   "execution_count": 10,
   "id": "71e889f5",
   "metadata": {},
   "outputs": [],
   "source": [
    "temp_sum = 0"
   ]
  },
  {
   "cell_type": "code",
   "execution_count": 17,
   "id": "28254b1e",
   "metadata": {},
   "outputs": [],
   "source": [
    "todo_list = []"
   ]
  },
  {
   "cell_type": "code",
   "execution_count": null,
   "id": "7d594765",
   "metadata": {},
   "outputs": [],
   "source": [
    "1 4 4\n",
    "1 3 4\n",
    "2 3 3\n",
    "1 2 2\n",
    "4 2 1"
   ]
  },
  {
   "cell_type": "code",
   "execution_count": 14,
   "id": "e8917d15",
   "metadata": {},
   "outputs": [
    {
     "data": {
      "text/plain": [
       "[[4, 2, 1], [1, 2, 2], [2, 3, 3], [1, 4, 4], [1, 3, 4]]"
      ]
     },
     "execution_count": 14,
     "metadata": {},
     "output_type": "execute_result"
    }
   ],
   "source": [
    "sorted(todo_list,key= lambda x: x[2])"
   ]
  },
  {
   "cell_type": "code",
   "execution_count": 18,
   "id": "bbdc0610",
   "metadata": {},
   "outputs": [
    {
     "name": "stdout",
     "output_type": "stream",
     "text": [
      "1 4 4\n",
      "1 3 4\n",
      "2 3 3\n",
      "1 2 2\n",
      "4 2 1\n"
     ]
    }
   ],
   "source": [
    "for _ in range(command):\n",
    "    tokens = list(map(int,input().split()))\n",
    "    todo_list.append(tokens)\n",
    "    todo_list= sorted(todo_list,key= lambda x: x[2])"
   ]
  },
  {
   "cell_type": "code",
   "execution_count": 19,
   "id": "11519eeb",
   "metadata": {},
   "outputs": [
    {
     "data": {
      "text/plain": [
       "[[4, 2, 1], [1, 2, 2], [2, 3, 3], [1, 4, 4], [1, 3, 4]]"
      ]
     },
     "execution_count": 19,
     "metadata": {},
     "output_type": "execute_result"
    }
   ],
   "source": [
    "todo_list"
   ]
  },
  {
   "cell_type": "code",
   "execution_count": 21,
   "id": "60338cb8",
   "metadata": {},
   "outputs": [],
   "source": [
    "for todo in todo_list:\n",
    "    a, b, guri = todo\n",
    "    a-=1\n",
    "    b-=1\n",
    "    \n",
    "    top_a = find_top(a)\n",
    "    top_b = find_top(b)\n",
    "\n",
    "    if top_a == top_b:\n",
    "        continue\n",
    "\n",
    "    temp_sum += guri\n",
    "\n",
    "\n",
    "    if a >= b:\n",
    "        top_list[a] = top_b\n",
    "    else:\n",
    "        top_list[b] = top_a\n",
    "\n",
    "\n",
    "    "
   ]
  },
  {
   "cell_type": "code",
   "execution_count": 22,
   "id": "a6d16a0e",
   "metadata": {},
   "outputs": [
    {
     "data": {
      "text/plain": [
       "[0, 0, 0, 1]"
      ]
     },
     "execution_count": 22,
     "metadata": {},
     "output_type": "execute_result"
    }
   ],
   "source": [
    "top_list"
   ]
  },
  {
   "cell_type": "code",
   "execution_count": 23,
   "id": "4cdfce6c",
   "metadata": {},
   "outputs": [
    {
     "data": {
      "text/plain": [
       "6"
      ]
     },
     "execution_count": 23,
     "metadata": {},
     "output_type": "execute_result"
    }
   ],
   "source": [
    "temp_sum"
   ]
  },
  {
   "cell_type": "code",
   "execution_count": 49,
   "id": "ceb80a42",
   "metadata": {},
   "outputs": [],
   "source": [
    "def solution(x, y, n):\n",
    "    numbers = [10000000 for _ in range(y+1)]\n",
    "    numbers[x] = 0\n",
    "    for i in range(x,y+1):\n",
    "        \n",
    "        x2 = i*2  \n",
    "        x3 = i*3\n",
    "        x_n = i+n \n",
    "        \n",
    "        if x2 <= y:\n",
    "            numbers[x2] = min(numbers[x2], numbers[i]+1)\n",
    "        if x3 <= y:\n",
    "            numbers[x3] = min(numbers[x3], numbers[i]+1)\n",
    "        if x_n <= y:\n",
    "            \n",
    "            numbers[x_n] = min(numbers[x_n], numbers[i]+1)\n",
    "    \n",
    "    \n",
    "        \n",
    "    answer = numbers[y]\n",
    "    if answer == 10000000:\n",
    "        answer = -1\n",
    "    \n",
    "    return answer\n",
    "\n",
    "\n"
   ]
  },
  {
   "cell_type": "code",
   "execution_count": 52,
   "id": "93e5b5b7",
   "metadata": {},
   "outputs": [
    {
     "data": {
      "text/plain": [
       "-1"
      ]
     },
     "execution_count": 52,
     "metadata": {},
     "output_type": "execute_result"
    }
   ],
   "source": [
    "solution(2,5,4)"
   ]
  },
  {
   "cell_type": "code",
   "execution_count": null,
   "id": "244fa519",
   "metadata": {},
   "outputs": [],
   "source": []
  }
 ],
 "metadata": {
  "kernelspec": {
   "display_name": "Python 3 (ipykernel)",
   "language": "python",
   "name": "python3"
  },
  "language_info": {
   "codemirror_mode": {
    "name": "ipython",
    "version": 3
   },
   "file_extension": ".py",
   "mimetype": "text/x-python",
   "name": "python",
   "nbconvert_exporter": "python",
   "pygments_lexer": "ipython3",
   "version": "3.8.13"
  }
 },
 "nbformat": 4,
 "nbformat_minor": 5
}
