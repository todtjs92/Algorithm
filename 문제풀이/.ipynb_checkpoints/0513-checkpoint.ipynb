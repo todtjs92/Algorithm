{
 "cells": [
  {
   "cell_type": "code",
   "execution_count": 3,
   "id": "99f1abc3",
   "metadata": {},
   "outputs": [],
   "source": [
    "from collections import Counter"
   ]
  },
  {
   "cell_type": "code",
   "execution_count": 4,
   "id": "4a519711",
   "metadata": {},
   "outputs": [],
   "source": [
    "from collections import defaultdict"
   ]
  },
  {
   "cell_type": "markdown",
   "id": "a9c9db91",
   "metadata": {},
   "source": [
    "### 1"
   ]
  },
  {
   "cell_type": "code",
   "execution_count": 98,
   "id": "f2d94916",
   "metadata": {},
   "outputs": [],
   "source": [
    "office = [[1,0,0,0],[0,0,0,1],[0,0,1,0],[0,1,1,0]]\n",
    "k = 2"
   ]
  },
  {
   "cell_type": "code",
   "execution_count": 102,
   "id": "167a6135",
   "metadata": {},
   "outputs": [],
   "source": [
    "office = [[1,0,0],[0,0,1],[1,0,0]]"
   ]
  },
  {
   "cell_type": "code",
   "execution_count": 103,
   "id": "322aa2b3",
   "metadata": {},
   "outputs": [],
   "source": [
    "garo = len(office)\n",
    "sero = len(office[0])"
   ]
  },
  {
   "cell_type": "code",
   "execution_count": 104,
   "id": "844cfb54",
   "metadata": {},
   "outputs": [
    {
     "data": {
      "text/plain": [
       "3"
      ]
     },
     "execution_count": 104,
     "metadata": {},
     "output_type": "execute_result"
    }
   ],
   "source": [
    "garo"
   ]
  },
  {
   "cell_type": "code",
   "execution_count": 105,
   "id": "e4e52625",
   "metadata": {},
   "outputs": [
    {
     "data": {
      "text/plain": [
       "3"
      ]
     },
     "execution_count": 105,
     "metadata": {},
     "output_type": "execute_result"
    }
   ],
   "source": [
    "sero"
   ]
  },
  {
   "cell_type": "code",
   "execution_count": 106,
   "id": "22b6b6d6",
   "metadata": {},
   "outputs": [
    {
     "name": "stdout",
     "output_type": "stream",
     "text": [
      "0 0 1\n",
      "0 1 1\n",
      "1 0 1\n",
      "1 1 1\n"
     ]
    }
   ],
   "source": [
    "max_ = 0\n",
    "for i in range(garo-k+1):\n",
    "    for j in range(sero-k+1):\n",
    "        temp = sum([sum([office[x][y] for y in range(j,j+k)] )for x in range(i,i+k)])\n",
    "        max_ = max(max_, temp)\n",
    "        \n"
   ]
  },
  {
   "cell_type": "code",
   "execution_count": null,
   "id": "6558f8c0",
   "metadata": {},
   "outputs": [],
   "source": []
  },
  {
   "cell_type": "markdown",
   "id": "9959bf30",
   "metadata": {},
   "source": [
    "### 2"
   ]
  },
  {
   "cell_type": "code",
   "execution_count": 11,
   "id": "4a8ca680",
   "metadata": {},
   "outputs": [],
   "source": [
    "v = [3,1,4,1,5,9,2,6,5,3]\n",
    "n = 10 \n"
   ]
  },
  {
   "cell_type": "code",
   "execution_count": null,
   "id": "07e382f8",
   "metadata": {},
   "outputs": [],
   "source": [
    "# 1. 맥스값은 시작할떄 가장 크게 초기화\n",
    "# 2. 값이 더 작아진다면 스택? 에다가 값을 넣어둠 . \n",
    "# 3. 만약에 더큰 값이 도중에 나온다면 ? 그전값들 중에서 가장 작은 값이랑 빼고큰값 다시 초기화 \n",
    "# 4 . 만약 계속 커지기만한다면 안나오겠지\n",
    "# . for "
   ]
  },
  {
   "cell_type": "code",
   "execution_count": null,
   "id": "5f8129a1",
   "metadata": {},
   "outputs": [],
   "source": [
    "# 1. for 문이 쭉 돔 . \n",
    "# 2 . 자기 자신 되ㅈ도록\n",
    "# 3. 작아지면 min_ 초기화\n",
    "# 4. 큰값을 만나면 둘중에 최대값중에 하나로 초기화 "
   ]
  },
  {
   "cell_type": "code",
   "execution_count": null,
   "id": "f8d6d38f",
   "metadata": {},
   "outputs": [],
   "source": [
    "# 1. 맥스값보다 더큰 경우\n",
    "# 2. 맥스값보다 작고 min보"
   ]
  },
  {
   "cell_type": "code",
   "execution_count": 12,
   "id": "cb76cd34",
   "metadata": {},
   "outputs": [],
   "source": [
    "min_  = 1e12"
   ]
  },
  {
   "cell_type": "code",
   "execution_count": 14,
   "id": "28335281",
   "metadata": {},
   "outputs": [],
   "source": [
    "max_ =  0"
   ]
  },
  {
   "cell_type": "code",
   "execution_count": 54,
   "id": "935354bc",
   "metadata": {},
   "outputs": [],
   "source": [
    "v = [3,1,4,1,5,9,2,6,5,3]\n",
    "n = 10 \n"
   ]
  },
  {
   "cell_type": "code",
   "execution_count": 48,
   "id": "5fe37800",
   "metadata": {},
   "outputs": [],
   "source": [
    "v = [1,2,3,4,5,6,7,8,9,10]\n",
    "n = 10"
   ]
  },
  {
   "cell_type": "code",
   "execution_count": 109,
   "id": "1478fcfe",
   "metadata": {},
   "outputs": [],
   "source": [
    "v = [4,1,7,6,5,2]\n",
    "n = 6"
   ]
  },
  {
   "cell_type": "code",
   "execution_count": 123,
   "id": "46a7b131",
   "metadata": {},
   "outputs": [],
   "source": [
    "v = [1,3]\n",
    "n = 2"
   ]
  },
  {
   "cell_type": "code",
   "execution_count": 124,
   "id": "f8033362",
   "metadata": {},
   "outputs": [],
   "source": [
    "max_ = 0\n",
    "temp_min = []\n",
    "answer = -1e12\n",
    "for idx in range(n):\n",
    "    if v[idx] > max_:\n",
    "        if temp_min :\n",
    "            min_ = min(temp_min)\n",
    "            answer = max( answer ,max_ - min_)\n",
    "            temp_min = []\n",
    "        else:\n",
    "            if idx != 0:\n",
    "                temp_answer = max_ -  v[idx]\n",
    "                answer = max(answer,temp_answer )\n",
    "        max_ = max(max_ , v[idx])\n",
    "        \n",
    "    else:\n",
    "        temp_min.append(v[idx])\n",
    "if temp_min: \n",
    "    min_ = min(temp_min)\n",
    "    last = max_ - min_\n",
    "    answer = max(answer ,last )"
   ]
  },
  {
   "cell_type": "code",
   "execution_count": null,
   "id": "373174b8",
   "metadata": {},
   "outputs": [],
   "source": [
    "max_ = 0\n",
    "temp_min = []\n",
    "answer = -1e12\n",
    "for idx in range(n):\n",
    "    if v[idx] > max_:\n",
    "        if temp_min :\n",
    "            min_ = min(temp_min)\n",
    "            answer = max( answer ,max_ - min_)\n",
    "            temp_min = []\n",
    "        else:\n",
    "            if idx != 0:\n",
    "                temp_answer = max_ -  v[idx]\n",
    "                answer = max(answer,temp_answer )\n",
    "        max_ = max(max_ , v[idx])\n",
    "        \n",
    "    else:\n",
    "        temp_min.append(v[idx])\n",
    "if temp_min: \n",
    "    min_ = min(temp_min)\n",
    "    last = max_ - min_\n",
    "    answer = max(answer ,last )"
   ]
  },
  {
   "cell_type": "code",
   "execution_count": 125,
   "id": "7b0e65b7",
   "metadata": {},
   "outputs": [
    {
     "data": {
      "text/plain": [
       "-2"
      ]
     },
     "execution_count": 125,
     "metadata": {},
     "output_type": "execute_result"
    }
   ],
   "source": [
    "answer"
   ]
  },
  {
   "cell_type": "code",
   "execution_count": null,
   "id": "5beba1fe",
   "metadata": {},
   "outputs": [],
   "source": []
  },
  {
   "cell_type": "markdown",
   "id": "7d58c6f3",
   "metadata": {},
   "source": [
    "max_ = 0\n",
    "temp_min = []\n",
    "answer = -1e12\n",
    "for idx in range(n):\n",
    "    if v[idx] > max_:\n",
    "        if temp_min :\n",
    "            min_ = min(temp_min)\n",
    "            answer = max( answer ,max_ - min_)\n",
    "            temp_min = []\n",
    "        else:\n",
    "            temp_answer = max_ -  v[idx]\n",
    "            answer = max(answer,temp_answer )\n",
    "        max_ = max(max_ , v[idx])\n",
    "        \n",
    "    else:\n",
    "        temp_min.append(v[idx])\n",
    "if temp_min: \n",
    "    min_ = min(temp_min)\n",
    "    last = max_ - min_\n",
    "    answer = max(answer ,last )\n"
   ]
  },
  {
   "cell_type": "code",
   "execution_count": 111,
   "id": "ef1fec8c",
   "metadata": {},
   "outputs": [
    {
     "data": {
      "text/plain": [
       "5"
      ]
     },
     "execution_count": 111,
     "metadata": {},
     "output_type": "execute_result"
    }
   ],
   "source": [
    "answer"
   ]
  },
  {
   "cell_type": "code",
   "execution_count": null,
   "id": "6c6e8534",
   "metadata": {},
   "outputs": [],
   "source": []
  },
  {
   "cell_type": "code",
   "execution_count": null,
   "id": "a36c4998",
   "metadata": {},
   "outputs": [],
   "source": []
  },
  {
   "cell_type": "code",
   "execution_count": 30,
   "id": "551ce51d",
   "metadata": {},
   "outputs": [
    {
     "data": {
      "text/plain": [
       "7"
      ]
     },
     "execution_count": 30,
     "metadata": {},
     "output_type": "execute_result"
    }
   ],
   "source": [
    "answer"
   ]
  },
  {
   "cell_type": "markdown",
   "id": "b496360b",
   "metadata": {},
   "source": [
    "### 3"
   ]
  },
  {
   "cell_type": "code",
   "execution_count": null,
   "id": "0487e5e6",
   "metadata": {},
   "outputs": [],
   "source": [
    "def solution(foods):\n",
    "    n = len(foods)\n",
    "    answer = 0\n",
    "    \n",
    "    # 전체 음식의 만족도 합을 미리 계산\n",
    "    total_sum = sum(foods)\n",
    "    \n",
    "    # 첫 번째 돼지가 선택할 수 있는 x 값 범위를 설정\n",
    "    for x in range(1, n-1):\n",
    "        # 두 번째 돼지가 선택할 수 있는 y 값 범위를 설정\n",
    "        for y in range(x+1, n):\n",
    "            # 첫 번째 돼지가 선택할 음식의 만족도 합\n",
    "            first_sum = sum(foods[:x])\n",
    "            # 두 번째 돼지가 선택할 음식의 만족도 합\n",
    "            second_sum = sum(foods[x:y])\n",
    "            # 세 번째 돼지가 선택할 음식의 만족도 합\n",
    "            third_sum = sum(foods[y:])\n",
    "            # 세 돼지가 선택한 음식의 만족도 합이 전체 음식의 만족도 합/3과 같을 경우 answer 증가\n",
    "            if first_sum == second_sum == third_sum == total_sum // 3:\n",
    "                answer += 1\n",
    "    \n",
    "    return answer"
   ]
  },
  {
   "cell_type": "code",
   "execution_count": null,
   "id": "6f57d129",
   "metadata": {},
   "outputs": [],
   "source": [
    "def solution(foods):\n",
    "    n = len(foods)\n",
    "    answer = 0\n",
    "    total_sum = sum(foods)\n",
    "    \n",
    "    for x in range(1, n-1):\n",
    "        # 두 번째 돼지가 선택할 수 있는 y 값 범위를 설정\n",
    "        for y in range(x+1, n):\n",
    "            # 첫 번째 돼지가 선택할 음식의 만족도 합\n",
    "            first_sum = sum(foods[:x])\n",
    "            # 두 번째 돼지가 선택할 음식의 만족도 합\n",
    "            second_sum = sum(foods[x:y])\n",
    "            # 세 번째 돼지가 선택할 음식의 만족도 합\n",
    "            third_sum = sum(foods[y:])\n",
    "            # 세 돼지가 선택한 음식의 만족도 합이 전체 음식의 만족도 합/3과 같을 경우 answer 증가\n",
    "            if first_sum == second_sum == third_sum == total_sum // 3:\n",
    "                answer += 1\n",
    "    \n",
    "    return answer"
   ]
  },
  {
   "cell_type": "code",
   "execution_count": null,
   "id": "4dd6d3a5",
   "metadata": {},
   "outputs": [],
   "source": [
    "def solution(foods):\n",
    "    n = len(foods)\n",
    "\n",
    "    psum = [0] * (n + 1)\n",
    "    for i in range(1, n + 1):\n",
    "        psum[i] = psum[i - 1] + foods[i - 1]\n",
    "\n",
    "    answer = 0\n",
    "\n",
    "    for x in range(2, n):\n",
    "        for y in range(x + 1, n + 1):\n",
    "            sum1 = psum[x]\n",
    "            sum2 = psum[y] - psum[x]\n",
    "            sum3 = psum[n] - psum[y]\n",
    "\n",
    "            if sum1 == sum2 and sum2 == sum3:\n",
    "                answer += 1\n",
    "\n",
    "    return answer"
   ]
  },
  {
   "cell_type": "code",
   "execution_count": 63,
   "id": "f9757aaa",
   "metadata": {},
   "outputs": [],
   "source": [
    "def solution(foods):\n",
    "    n = len(foods)\n",
    "\n",
    "    dp_list = [0 for x in range(n+1)]\n",
    "    for i in range(1, n + 1):\n",
    "        dp_list[i] = dp_list[i - 1] + foods[i - 1]\n",
    "\n",
    "    answer = 0\n",
    "\n",
    "    for i in range(2, n):\n",
    "        for j in range(i + 1, n + 1):\n",
    "            sum1 = dp_list[i]\n",
    "            sum2 = dp_list[j] - dp_list[i]\n",
    "            sum3 = dp_list[n] - dp_list[j]\n",
    "\n",
    "            if sum1 == sum2 and sum2 == sum3:\n",
    "                answer += 1\n",
    "\n",
    "    return answer"
   ]
  },
  {
   "cell_type": "code",
   "execution_count": 126,
   "id": "3367eff8",
   "metadata": {},
   "outputs": [],
   "source": [
    "foods= [1,2,3,0,3]"
   ]
  },
  {
   "cell_type": "code",
   "execution_count": 127,
   "id": "23516b51",
   "metadata": {},
   "outputs": [],
   "source": [
    "n = len(foods)\n",
    "\n",
    "dp_list = [0 for x in range(n+1)]\n",
    "for i in range(1, n + 1):\n",
    "    dp_list[i] = dp_list[i - 1] + foods[i - 1]"
   ]
  },
  {
   "cell_type": "code",
   "execution_count": 128,
   "id": "a37e22f8",
   "metadata": {},
   "outputs": [
    {
     "data": {
      "text/plain": [
       "[0, 1, 3, 6, 6, 9]"
      ]
     },
     "execution_count": 128,
     "metadata": {},
     "output_type": "execute_result"
    }
   ],
   "source": [
    "dp_list"
   ]
  },
  {
   "cell_type": "code",
   "execution_count": 129,
   "id": "683bb30f",
   "metadata": {},
   "outputs": [],
   "source": [
    "target = dp_list[-1]/3"
   ]
  },
  {
   "cell_type": "code",
   "execution_count": 131,
   "id": "ee92ee93",
   "metadata": {},
   "outputs": [
    {
     "data": {
      "text/plain": [
       "True"
      ]
     },
     "execution_count": 131,
     "metadata": {},
     "output_type": "execute_result"
    }
   ],
   "source": [
    "target == 3"
   ]
  },
  {
   "cell_type": "code",
   "execution_count": null,
   "id": "d14ed58a",
   "metadata": {},
   "outputs": [],
   "source": [
    "if target != int(target):\n",
    "    return -1 "
   ]
  },
  {
   "cell_type": "code",
   "execution_count": 142,
   "id": "20ec82df",
   "metadata": {},
   "outputs": [
    {
     "data": {
      "text/plain": [
       "[0, 1, 3, 6, 6, 9]"
      ]
     },
     "execution_count": 142,
     "metadata": {},
     "output_type": "execute_result"
    }
   ],
   "source": [
    "dp_list"
   ]
  },
  {
   "cell_type": "code",
   "execution_count": null,
   "id": "1f6da85f",
   "metadata": {},
   "outputs": [],
   "source": []
  },
  {
   "cell_type": "code",
   "execution_count": 184,
   "id": "0deaf1f2",
   "metadata": {},
   "outputs": [],
   "source": [
    "foods= [1, 0, 0, 0, 0, 1, 0, 0, 0, 0, 1]"
   ]
  },
  {
   "cell_type": "code",
   "execution_count": 188,
   "id": "88f215ec",
   "metadata": {},
   "outputs": [
    {
     "data": {
      "text/plain": [
       "0"
      ]
     },
     "execution_count": 188,
     "metadata": {},
     "output_type": "execute_result"
    }
   ],
   "source": [
    "int(0)"
   ]
  },
  {
   "cell_type": "code",
   "execution_count": 185,
   "id": "2acd2c54",
   "metadata": {},
   "outputs": [],
   "source": [
    "def func(foods):\n",
    "    n = len(foods)\n",
    "    \n",
    "    dp_list = [0 for x in range(n+1)]\n",
    "    last_pointer = len(dp_list)-1\n",
    "    for i in range(1, n + 1):\n",
    "        dp_list[i] = dp_list[i - 1] + foods[i - 1]\n",
    "    target = dp_list[-1] /3\n",
    "    if target != int(target):\n",
    "         return 0 \n",
    "\n",
    "    answer = 0 \n",
    "    for i in range(len(dp_list)):\n",
    "        if dp_list[i]  == target:\n",
    "            start_i = i\n",
    "            for j in range(start_i+1 , len(dp_list)):\n",
    "                \n",
    "                if dp_list[j]  == 2 *target and j!=  last_pointer  :\n",
    "\n",
    "                    answer += 1\n",
    "    return answer"
   ]
  },
  {
   "cell_type": "code",
   "execution_count": 186,
   "id": "2d04f1c9",
   "metadata": {},
   "outputs": [
    {
     "data": {
      "text/plain": [
       "25"
      ]
     },
     "execution_count": 186,
     "metadata": {},
     "output_type": "execute_result"
    }
   ],
   "source": [
    "func(foods)"
   ]
  },
  {
   "cell_type": "code",
   "execution_count": 5,
   "id": "1e0e39e3",
   "metadata": {},
   "outputs": [],
   "source": [
    "target = -30000000000000000000000000000000"
   ]
  },
  {
   "cell_type": "code",
   "execution_count": 6,
   "id": "d7dbc035",
   "metadata": {},
   "outputs": [],
   "source": [
    "s= target /3 "
   ]
  },
  {
   "cell_type": "code",
   "execution_count": 7,
   "id": "2bde80a5",
   "metadata": {},
   "outputs": [
    {
     "data": {
      "text/plain": [
       "True"
      ]
     },
     "execution_count": 7,
     "metadata": {},
     "output_type": "execute_result"
    }
   ],
   "source": [
    "s == int(s)"
   ]
  },
  {
   "cell_type": "code",
   "execution_count": null,
   "id": "123d8ab5",
   "metadata": {},
   "outputs": [],
   "source": []
  },
  {
   "cell_type": "code",
   "execution_count": null,
   "id": "ecc34308",
   "metadata": {},
   "outputs": [],
   "source": []
  },
  {
   "cell_type": "code",
   "execution_count": 151,
   "id": "8dfb5ae3",
   "metadata": {},
   "outputs": [
    {
     "data": {
      "text/plain": [
       "0"
      ]
     },
     "execution_count": 151,
     "metadata": {},
     "output_type": "execute_result"
    }
   ],
   "source": [
    "answer"
   ]
  },
  {
   "cell_type": "code",
   "execution_count": null,
   "id": "c614f0e6",
   "metadata": {},
   "outputs": [],
   "source": [
    "1.2,3,4,2,6\n"
   ]
  },
  {
   "cell_type": "code",
   "execution_count": null,
   "id": "906a87c3",
   "metadata": {},
   "outputs": [],
   "source": [
    "1 3 6 10 12 12"
   ]
  },
  {
   "cell_type": "code",
   "execution_count": 11,
   "id": "2dec1561",
   "metadata": {},
   "outputs": [],
   "source": [
    "foods = [1,2,0,0,0,3]"
   ]
  },
  {
   "cell_type": "code",
   "execution_count": 12,
   "id": "91f4dda2",
   "metadata": {},
   "outputs": [],
   "source": [
    "n = len(foods)\n",
    "\n",
    "dp_list = [0 for x in range(n+1)]\n",
    "for i in range(1, n + 1):\n",
    "    dp_list[i] = dp_list[i - 1] + foods[i - 1]\n",
    "target = dp_list[-1] /3\n",
    "# if target != int(target):\n",
    "#     return -1 \n",
    "\n",
    "answer = 0 \n",
    "for i in range(len(dp_list)):\n",
    "    if dp_list[i]  == target:\n",
    "        start_i = i\n",
    "        for j in range(start_i+1 , len(dp_list)):\n",
    "            print(j)\n",
    "            if dp_list[j]  == 2 * target :\n",
    "                \n",
    "                answer += 1"
   ]
  },
  {
   "cell_type": "code",
   "execution_count": 13,
   "id": "12bc54ac",
   "metadata": {},
   "outputs": [
    {
     "data": {
      "text/plain": [
       "0"
      ]
     },
     "execution_count": 13,
     "metadata": {},
     "output_type": "execute_result"
    }
   ],
   "source": [
    "answer"
   ]
  },
  {
   "cell_type": "code",
   "execution_count": null,
   "id": "36ec4b64",
   "metadata": {},
   "outputs": [],
   "source": [
    "1 3, 7, 9, 15"
   ]
  },
  {
   "cell_type": "code",
   "execution_count": 64,
   "id": "d11dc82d",
   "metadata": {},
   "outputs": [],
   "source": [
    "foods = [4,1]"
   ]
  },
  {
   "cell_type": "code",
   "execution_count": 65,
   "id": "3018442f",
   "metadata": {},
   "outputs": [
    {
     "data": {
      "text/plain": [
       "0"
      ]
     },
     "execution_count": 65,
     "metadata": {},
     "output_type": "execute_result"
    }
   ],
   "source": [
    "solution(foods)"
   ]
  },
  {
   "cell_type": "code",
   "execution_count": null,
   "id": "e3018059",
   "metadata": {},
   "outputs": [],
   "source": [
    "# 왼쪽이 젤크게 디ㅗ고 오른쪽이 젤 싸야좋음 ."
   ]
  }
 ],
 "metadata": {
  "kernelspec": {
   "display_name": "Python 3 (ipykernel)",
   "language": "python",
   "name": "python3"
  },
  "language_info": {
   "codemirror_mode": {
    "name": "ipython",
    "version": 3
   },
   "file_extension": ".py",
   "mimetype": "text/x-python",
   "name": "python",
   "nbconvert_exporter": "python",
   "pygments_lexer": "ipython3",
   "version": "3.8.13"
  }
 },
 "nbformat": 4,
 "nbformat_minor": 5
}
