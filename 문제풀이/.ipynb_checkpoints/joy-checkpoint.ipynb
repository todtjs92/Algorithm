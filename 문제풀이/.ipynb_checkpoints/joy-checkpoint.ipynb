{
 "cells": [
  {
   "cell_type": "code",
   "execution_count": 5,
   "id": "365390ff",
   "metadata": {},
   "outputs": [],
   "source": [
    "string = ''"
   ]
  },
  {
   "cell_type": "code",
   "execution_count": 6,
   "id": "c230c9a4",
   "metadata": {},
   "outputs": [],
   "source": [
    "def test(string):\n",
    "    if len(string) >= 4:\n",
    "        print(string)\n",
    "        return\n",
    "    \n",
    "    for i in range(5):\n",
    "        string = string + str(i)\n",
    "        test(string)\n",
    "    "
   ]
  },
  {
   "cell_type": "code",
   "execution_count": 7,
   "id": "7a1cf865",
   "metadata": {},
   "outputs": [
    {
     "name": "stdout",
     "output_type": "stream",
     "text": [
      "0000\n",
      "00001\n",
      "000012\n",
      "0000123\n",
      "00001234\n",
      "0001\n",
      "00012\n",
      "000123\n",
      "0001234\n",
      "0010\n",
      "00101\n",
      "001012\n",
      "0010123\n",
      "00101234\n",
      "0012\n",
      "00123\n",
      "001234\n",
      "0100\n",
      "01001\n",
      "010012\n",
      "0100123\n",
      "01001234\n",
      "0101\n",
      "01012\n",
      "010123\n",
      "0101234\n",
      "0120\n",
      "01201\n",
      "012012\n",
      "0120123\n",
      "01201234\n",
      "0123\n",
      "01234\n"
     ]
    }
   ],
   "source": [
    "test(string)"
   ]
  },
  {
   "cell_type": "code",
   "execution_count": null,
   "id": "bba9d64d",
   "metadata": {},
   "outputs": [],
   "source": [
    "N = int(input())\n",
    "\n",
    "rest = N\n",
    "temp = ''\n",
    "\n",
    "\n",
    "def recursive(rest, temp, N):\n",
    "    if rest < 0:\n",
    "        return\n",
    "    elif rest == 0:\n",
    "        print(temp[:-1])\n",
    "        return\n",
    "\n",
    "    for i in range(rest, 0, -1):\n",
    "        temp = temp + str(i) + '+'\n",
    "        recursive(rest - i, temp, N)\n",
    "\n",
    "recursive(5, '',5)"
   ]
  },
  {
   "cell_type": "markdown",
   "id": "02562f10",
   "metadata": {},
   "source": [
    "# 1번"
   ]
  },
  {
   "cell_type": "code",
   "execution_count": null,
   "id": "75cdd050",
   "metadata": {},
   "outputs": [],
   "source": [
    "s = \"ZZ\"\n",
    "t = \"Z\""
   ]
  },
  {
   "cell_type": "code",
   "execution_count": null,
   "id": "bc21612d",
   "metadata": {},
   "outputs": [],
   "source": []
  },
  {
   "cell_type": "markdown",
   "id": "c0f73807",
   "metadata": {},
   "source": [
    "# 2번"
   ]
  },
  {
   "cell_type": "code",
   "execution_count": 8,
   "id": "7244e415",
   "metadata": {},
   "outputs": [],
   "source": [
    "from collections import Counter"
   ]
  },
  {
   "cell_type": "code",
   "execution_count": 10,
   "id": "fe7c967a",
   "metadata": {},
   "outputs": [],
   "source": [
    "vote = \"ABBCCCBBAB\""
   ]
  },
  {
   "cell_type": "code",
   "execution_count": 13,
   "id": "c95cf799",
   "metadata": {},
   "outputs": [],
   "source": [
    "li= [x for x in vote]"
   ]
  },
  {
   "cell_type": "code",
   "execution_count": 18,
   "id": "a7096cad",
   "metadata": {},
   "outputs": [],
   "source": [
    "s = Counter(li)"
   ]
  },
  {
   "cell_type": "code",
   "execution_count": 20,
   "id": "82f71962",
   "metadata": {},
   "outputs": [
    {
     "data": {
      "text/plain": [
       "[('B', 5), ('C', 3), ('A', 2)]"
      ]
     },
     "execution_count": 20,
     "metadata": {},
     "output_type": "execute_result"
    }
   ],
   "source": [
    "s.most_common(n=3)"
   ]
  },
  {
   "cell_type": "markdown",
   "id": "8d62b05d",
   "metadata": {},
   "source": [
    "# 3번"
   ]
  },
  {
   "cell_type": "code",
   "execution_count": 21,
   "id": "6a8e717a",
   "metadata": {},
   "outputs": [],
   "source": [
    "price = [4,1,4,7,6]\n",
    "price = [13,7,3,7,5,16,12]"
   ]
  },
  {
   "cell_type": "code",
   "execution_count": null,
   "id": "89934ad0",
   "metadata": {},
   "outputs": [],
   "source": [
    "1. [-1 개수만큼 만들어놓고]\n",
    "2. for 이 돌아가는데 . "
   ]
  },
  {
   "cell_type": "code",
   "execution_count": 24,
   "id": "117609ce",
   "metadata": {},
   "outputs": [],
   "source": [
    "def func(price):\n",
    "    answer = [-1 for x in price]\n",
    "    stack = [] # [0,1,2]\n",
    "    \n",
    "    for i , cur in enumerate(price):\n",
    "        while stack and cur > price[stack[-1]]:\n",
    "            last = stack.pop()\n",
    "            answer[last] = i - last\n",
    "        \n",
    "        stack.append(i)\n",
    "    \n",
    "    return answer"
   ]
  },
  {
   "cell_type": "code",
   "execution_count": 25,
   "id": "4b18df9c",
   "metadata": {},
   "outputs": [
    {
     "data": {
      "text/plain": [
       "[5, 4, 1, 2, 1, -1, -1]"
      ]
     },
     "execution_count": 25,
     "metadata": {},
     "output_type": "execute_result"
    }
   ],
   "source": [
    "func(price)"
   ]
  },
  {
   "cell_type": "code",
   "execution_count": null,
   "id": "3a94a236",
   "metadata": {},
   "outputs": [],
   "source": [
    "[1 , 2, 3, 4, 5]\n",
    "index ,\n",
    "cur"
   ]
  },
  {
   "cell_type": "code",
   "execution_count": null,
   "id": "183e2c9d",
   "metadata": {},
   "outputs": [],
   "source": [
    "def func(price):\n",
    "    answer = [-1 for x in price]\n",
    "    stack = []\n",
    "    \n",
    "    for i , cur in enumerate(price):\n",
    "        while stack and cur > price[stack[-1]]:\n",
    "            last = stack.pop()\n",
    "            answer[last] = i - last\n",
    "        \n",
    "        stack.append(i)\n",
    "        \n",
    "    return answer \n",
    "            "
   ]
  }
 ],
 "metadata": {
  "kernelspec": {
   "display_name": "Python 3 (ipykernel)",
   "language": "python",
   "name": "python3"
  },
  "language_info": {
   "codemirror_mode": {
    "name": "ipython",
    "version": 3
   },
   "file_extension": ".py",
   "mimetype": "text/x-python",
   "name": "python",
   "nbconvert_exporter": "python",
   "pygments_lexer": "ipython3",
   "version": "3.8.13"
  }
 },
 "nbformat": 4,
 "nbformat_minor": 5
}
