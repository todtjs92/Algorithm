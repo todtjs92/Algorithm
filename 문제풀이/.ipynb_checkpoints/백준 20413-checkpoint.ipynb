{
 "cells": [
  {
   "cell_type": "code",
   "execution_count": null,
   "id": "00b94590",
   "metadata": {},
   "outputs": [],
   "source": [
    "BSGPD"
   ]
  },
  {
   "cell_type": "code",
   "execution_count": null,
   "id": "13751606",
   "metadata": {},
   "outputs": [],
   "source": [
    "3\n",
    "30 60 90 150\n",
    "BBG"
   ]
  },
  {
   "cell_type": "code",
   "execution_count": null,
   "id": "567761c3",
   "metadata": {},
   "outputs": [],
   "source": [
    "BDP"
   ]
  },
  {
   "cell_type": "code",
   "execution_count": null,
   "id": "17db5da6",
   "metadata": {},
   "outputs": [],
   "source": [
    "BDD"
   ]
  },
  {
   "cell_type": "code",
   "execution_count": null,
   "id": "321af719",
   "metadata": {},
   "outputs": [],
   "source": [
    "BD"
   ]
  },
  {
   "cell_type": "code",
   "execution_count": null,
   "id": "88c3007f",
   "metadata": {},
   "outputs": [],
   "source": [
    "29 121 28"
   ]
  },
  {
   "cell_type": "code",
   "execution_count": null,
   "id": "588f24f4",
   "metadata": {},
   "outputs": [],
   "source": [
    "29 149 0 "
   ]
  },
  {
   "cell_type": "code",
   "execution_count": null,
   "id": "7863ca13",
   "metadata": {},
   "outputs": [],
   "source": [
    "29 150 150"
   ]
  },
  {
   "cell_type": "markdown",
   "id": "91e5be55",
   "metadata": {},
   "source": [
    "### 다이아일때 그 다음에 다이아가 작은게 오면 최소액으로 맞추기"
   ]
  },
  {
   "cell_type": "code",
   "execution_count": null,
   "id": "3a56018a",
   "metadata": {},
   "outputs": [],
   "source": [
    "29 + 30 + 59 "
   ]
  },
  {
   "cell_type": "code",
   "execution_count": null,
   "id": "d45c666e",
   "metadata": {},
   "outputs": [],
   "source": []
  },
  {
   "cell_type": "code",
   "execution_count": null,
   "id": "218edc67",
   "metadata": {},
   "outputs": [],
   "source": [
    "# 테케\n",
    "# GSPDP\n",
    "# GSPDD\n",
    "# GSPD"
   ]
  },
  {
   "cell_type": "code",
   "execution_count": null,
   "id": "ba1a8406",
   "metadata": {},
   "outputs": [],
   "source": [
    "### 시작 끝처리. "
   ]
  },
  {
   "cell_type": "code",
   "execution_count": null,
   "id": "52f949fe",
   "metadata": {},
   "outputs": [],
   "source": [
    "10\n",
    "257 269 367 500\n",
    "BSGGGGPPDD"
   ]
  },
  {
   "cell_type": "code",
   "execution_count": null,
   "id": "657b955a",
   "metadata": {},
   "outputs": [],
   "source": [
    "256 + "
   ]
  },
  {
   "cell_type": "code",
   "execution_count": null,
   "id": "5a653493",
   "metadata": {},
   "outputs": [],
   "source": []
  },
  {
   "cell_type": "code",
   "execution_count": null,
   "id": "5f6625c8",
   "metadata": {},
   "outputs": [],
   "source": [
    "# 테케\n",
    "# GGPDP\n",
    "# GGPDD\n",
    "# GGPD"
   ]
  },
  {
   "cell_type": "code",
   "execution_count": null,
   "id": "c1296141",
   "metadata": {},
   "outputs": [],
   "source": [
    "10 30 50 80"
   ]
  },
  {
   "cell_type": "code",
   "execution_count": null,
   "id": "ad0638d5",
   "metadata": {},
   "outputs": [],
   "source": [
    "5\n",
    "10 30 50 80\n",
    "GGPDP"
   ]
  },
  {
   "cell_type": "code",
   "execution_count": 53,
   "id": "704beda9",
   "metadata": {},
   "outputs": [
    {
     "name": "stdout",
     "output_type": "stream",
     "text": [
      "5\n",
      "10 30 50 80\n",
      "GGPDP\n"
     ]
    }
   ],
   "source": [
    "N = int(input())\n",
    "S,G,P,D = map(int,input().split())\n",
    "timeline = input()"
   ]
  },
  {
   "cell_type": "code",
   "execution_count": 54,
   "id": "4d41c56b",
   "metadata": {},
   "outputs": [],
   "source": [
    "Bronze = S -1\n",
    "Silver = G -1\n",
    "Gold = P -1\n",
    "Platinum = D -1 \n",
    "Dia = D"
   ]
  },
  {
   "cell_type": "code",
   "execution_count": 55,
   "id": "56e90e69",
   "metadata": {},
   "outputs": [],
   "source": [
    "dictionary = {\"B\": S-1,\n",
    "              \"S\": G-1,\n",
    "              \"G\": P-1,\n",
    "              \"P\": D-1,\n",
    "              \"D\": D\n",
    "             }"
   ]
  },
  {
   "cell_type": "code",
   "execution_count": 45,
   "id": "f031e371",
   "metadata": {},
   "outputs": [
    {
     "data": {
      "text/plain": [
       "288"
      ]
     },
     "execution_count": 45,
     "metadata": {},
     "output_type": "execute_result"
    }
   ],
   "source": [
    "#288\n",
    "49 + 0 + 79 + 80 + 80"
   ]
  },
  {
   "cell_type": "markdown",
   "id": "b5214091",
   "metadata": {},
   "source": [
    "### 다음꺼보다 값이 하나작게"
   ]
  },
  {
   "cell_type": "code",
   "execution_count": null,
   "id": "a871d940",
   "metadata": {},
   "outputs": [],
   "source": [
    "40 9 70 79 0"
   ]
  },
  {
   "cell_type": "code",
   "execution_count": null,
   "id": "c98debbc",
   "metadata": {},
   "outputs": [],
   "source": [
    "49 0 79 1 78"
   ]
  },
  {
   "cell_type": "code",
   "execution_count": 39,
   "id": "7ce9225c",
   "metadata": {},
   "outputs": [
    {
     "data": {
      "text/plain": [
       "207"
      ]
     },
     "execution_count": 39,
     "metadata": {},
     "output_type": "execute_result"
    }
   ],
   "source": [
    "49 + 79 + 1 + 78"
   ]
  },
  {
   "cell_type": "code",
   "execution_count": 56,
   "id": "56a4617c",
   "metadata": {},
   "outputs": [
    {
     "name": "stdout",
     "output_type": "stream",
     "text": [
      "49\n",
      "49\n",
      "128\n",
      "129\n",
      "207\n"
     ]
    }
   ],
   "source": [
    "temp = 0\n",
    "for time in range(N):\n",
    "    tier = timeline[time]\n",
    "    if time == 0:\n",
    "        \n",
    "        previous_price = dictionary[tier]\n",
    "        temp += previous_price\n",
    "    else:\n",
    "        if tier == \"D\":\n",
    "            if time == N-1:\n",
    "                \n",
    "                previous_price = dictionary[tier]\n",
    "                temp+= previous_price\n",
    "            else:\n",
    "                next_tier = timeline[time+1]\n",
    "                if next_tier =='D':\n",
    "                    previous_price = dictionary[tier]\n",
    "                    temp += previous_price\n",
    "                else:\n",
    "                    now_price = dictionary[tier] - previous_price\n",
    "                    temp += now_price\n",
    "                    previous_price = now_price\n",
    "                    \n",
    "        \n",
    "        else:\n",
    "            now_price = dictionary[tier] - previous_price\n",
    "            temp += now_price\n",
    "            previous_price = now_price\n",
    "        \n",
    "    "
   ]
  },
  {
   "cell_type": "code",
   "execution_count": 57,
   "id": "e175c21e",
   "metadata": {},
   "outputs": [
    {
     "name": "stdout",
     "output_type": "stream",
     "text": [
      "207\n"
     ]
    }
   ],
   "source": [
    "print(temp)"
   ]
  },
  {
   "cell_type": "code",
   "execution_count": null,
   "id": "1ccf7a6a",
   "metadata": {},
   "outputs": [],
   "source": []
  },
  {
   "cell_type": "code",
   "execution_count": null,
   "id": "bbc8510d",
   "metadata": {},
   "outputs": [],
   "source": []
  }
 ],
 "metadata": {
  "kernelspec": {
   "display_name": "Python 3 (ipykernel)",
   "language": "python",
   "name": "python3"
  },
  "language_info": {
   "codemirror_mode": {
    "name": "ipython",
    "version": 3
   },
   "file_extension": ".py",
   "mimetype": "text/x-python",
   "name": "python",
   "nbconvert_exporter": "python",
   "pygments_lexer": "ipython3",
   "version": "3.8.13"
  }
 },
 "nbformat": 4,
 "nbformat_minor": 5
}
