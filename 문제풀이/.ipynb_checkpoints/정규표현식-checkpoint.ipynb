{
 "cells": [
  {
   "cell_type": "code",
   "execution_count": 1,
   "id": "bf8a7cf2",
   "metadata": {},
   "outputs": [],
   "source": [
    "import re"
   ]
  },
  {
   "cell_type": "code",
   "execution_count": 49,
   "id": "6fc0540f",
   "metadata": {},
   "outputs": [],
   "source": [
    "string1 =  \"apple@banana.com , apple@apple.com\"\n",
    "string2 = \"apple banana \" \n",
    "string3 = \"apple____apple__apple\""
   ]
  },
  {
   "cell_type": "markdown",
   "id": "08c34096",
   "metadata": {},
   "source": [
    "### re.match ( 문자열의 딱  처음부터 검색함.)"
   ]
  },
  {
   "cell_type": "code",
   "execution_count": 28,
   "id": "5b32861c",
   "metadata": {},
   "outputs": [],
   "source": [
    "# 중간부터하면 못찾음. \n",
    "re.match('banana',string1) # re.match(패턴 , '문자열 ')"
   ]
  },
  {
   "cell_type": "markdown",
   "id": "4bd5f08c",
   "metadata": {},
   "source": [
    "### re.findall , 문자열 찾아서 리스트로 반환해줌 .  코테에서는 이거쓰면된다."
   ]
  },
  {
   "cell_type": "code",
   "execution_count": 29,
   "id": "60c50bea",
   "metadata": {},
   "outputs": [
    {
     "data": {
      "text/plain": [
       "['apple', 'apple', 'apple']"
      ]
     },
     "execution_count": 29,
     "metadata": {},
     "output_type": "execute_result"
    }
   ],
   "source": [
    "re.findall('apple',string1)"
   ]
  },
  {
   "cell_type": "markdown",
   "id": "ed777ff8",
   "metadata": {},
   "source": [
    "### re.search"
   ]
  },
  {
   "cell_type": "code",
   "execution_count": 31,
   "id": "d6e21f97",
   "metadata": {},
   "outputs": [
    {
     "data": {
      "text/plain": [
       "<re.Match object; span=(6, 12), match='banana'>"
      ]
     },
     "execution_count": 31,
     "metadata": {},
     "output_type": "execute_result"
    }
   ],
   "source": [
    "re.search('banana',string1) # 처음 찾은 위치를 반환해준다"
   ]
  },
  {
   "cell_type": "code",
   "execution_count": 34,
   "id": "23d89722",
   "metadata": {},
   "outputs": [
    {
     "data": {
      "text/plain": [
       "(6, 12)"
      ]
     },
     "execution_count": 34,
     "metadata": {},
     "output_type": "execute_result"
    }
   ],
   "source": [
    "# span 접근하려면 요렇게\n",
    "re.search('banana',string1).span()"
   ]
  },
  {
   "cell_type": "markdown",
   "id": "c9e9ff75",
   "metadata": {},
   "source": [
    "### 자주쓰는 것들"
   ]
  },
  {
   "cell_type": "markdown",
   "id": "19f38d3f",
   "metadata": {},
   "source": [
    "### 1. 문자열 , [a-zA-Z] "
   ]
  },
  {
   "cell_type": "code",
   "execution_count": 37,
   "id": "68d871df",
   "metadata": {},
   "outputs": [
    {
     "data": {
      "text/plain": [
       "['apple@banana', 'apple@apple']"
      ]
     },
     "execution_count": 37,
     "metadata": {},
     "output_type": "execute_result"
    }
   ],
   "source": [
    "re.findall('[a-zA-Z]*@[a-zA-Z]*',string1)"
   ]
  },
  {
   "cell_type": "markdown",
   "id": "8de219a0",
   "metadata": {},
   "source": [
    "### \\s = 공백 , \\S 는 공백아님. "
   ]
  },
  {
   "cell_type": "code",
   "execution_count": 41,
   "id": "2741d41f",
   "metadata": {},
   "outputs": [
    {
     "data": {
      "text/plain": [
       "['apple@banana.com', 'apple@apple.com']"
      ]
     },
     "execution_count": 41,
     "metadata": {},
     "output_type": "execute_result"
    }
   ],
   "source": [
    "re.findall('\\S*@\\S*\\.\\S*',string1)"
   ]
  },
  {
   "cell_type": "markdown",
   "id": "a42c52ea",
   "metadata": {},
   "source": [
    "### . 이 모든 문자 , . 진짜 쓰려면 \\."
   ]
  },
  {
   "cell_type": "markdown",
   "id": "c25bb9e1",
   "metadata": {},
   "source": [
    "### * 은 0개이상임 1개이상하려면 + 써야함"
   ]
  },
  {
   "cell_type": "markdown",
   "id": "6f66e214",
   "metadata": {},
   "source": [
    "### 특수문자 [^a-zA-Z0-9]"
   ]
  },
  {
   "cell_type": "code",
   "execution_count": 44,
   "id": "ef4f0d8e",
   "metadata": {},
   "outputs": [
    {
     "data": {
      "text/plain": [
       "['@', '.', ',', '@', '.']"
      ]
     },
     "execution_count": 44,
     "metadata": {},
     "output_type": "execute_result"
    }
   ],
   "source": [
    "# 이런식으로하면 대충 다 잡음 \n",
    "re.findall('[^a-zA-Z0-9\\s]',string1)"
   ]
  },
  {
   "cell_type": "markdown",
   "id": "4bb6619d",
   "metadata": {},
   "source": [
    "## $ 종료라는 뜻"
   ]
  },
  {
   "cell_type": "code",
   "execution_count": 51,
   "id": "1ebcbfc5",
   "metadata": {},
   "outputs": [],
   "source": [
    "# 이런 스트링에서 findall 쓰면\n",
    "string3 = \"apple____apple__apple\""
   ]
  },
  {
   "cell_type": "code",
   "execution_count": 64,
   "id": "f405aa0c",
   "metadata": {},
   "outputs": [
    {
     "data": {
      "text/plain": [
       "['apple____apple__apple']"
      ]
     },
     "execution_count": 64,
     "metadata": {},
     "output_type": "execute_result"
    }
   ],
   "source": [
    "re.findall('apple[\\S]+apple',string3)"
   ]
  },
  {
   "cell_type": "markdown",
   "id": "f3787248",
   "metadata": {},
   "source": [
    "## {1,3} - 1번이랑 3번이하"
   ]
  },
  {
   "cell_type": "markdown",
   "id": "29efbddc",
   "metadata": {},
   "source": [
    "## (a|b|c) a거나 b거나 c"
   ]
  },
  {
   "cell_type": "markdown",
   "id": "2e4c3757",
   "metadata": {},
   "source": [
    "# 참고"
   ]
  },
  {
   "cell_type": "code",
   "execution_count": 46,
   "id": "ccfe61a3",
   "metadata": {},
   "outputs": [
    {
     "data": {
      "text/plain": [
       "'/^[a-zA-Z0-9._%+-]+@[a-zA-Z0-9.-]+\\\\.[a-zA-Z]{2,4}$/'"
      ]
     },
     "execution_count": 46,
     "metadata": {},
     "output_type": "execute_result"
    }
   ],
   "source": [
    "# 이메일 \n",
    "\"/^[a-zA-Z0-9._%+-]+@[a-zA-Z0-9.-]+\\.[a-zA-Z]{2,4}$/\""
   ]
  },
  {
   "cell_type": "code",
   "execution_count": 48,
   "id": "29af6359",
   "metadata": {},
   "outputs": [
    {
     "data": {
      "text/plain": [
       "'/^(070|02|031|032|033|041|042|043|051|052|053|054|055|061|062|063|064)-\\\\d{3,4}-\\\\d{4}$/u'"
      ]
     },
     "execution_count": 48,
     "metadata": {},
     "output_type": "execute_result"
    }
   ],
   "source": [
    "# 집전화\n",
    "\"/^(070|02|031|032|033|041|042|043|051|052|053|054|055|061|062|063|064)-\\d{3,4}-\\d{4}$/u\""
   ]
  },
  {
   "cell_type": "code",
   "execution_count": null,
   "id": "8cf71195",
   "metadata": {},
   "outputs": [],
   "source": []
  }
 ],
 "metadata": {
  "kernelspec": {
   "display_name": "Python 3 (ipykernel)",
   "language": "python",
   "name": "python3"
  },
  "language_info": {
   "codemirror_mode": {
    "name": "ipython",
    "version": 3
   },
   "file_extension": ".py",
   "mimetype": "text/x-python",
   "name": "python",
   "nbconvert_exporter": "python",
   "pygments_lexer": "ipython3",
   "version": "3.8.13"
  }
 },
 "nbformat": 4,
 "nbformat_minor": 5
}
