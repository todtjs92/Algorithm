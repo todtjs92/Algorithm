{
 "cells": [
  {
   "cell_type": "code",
   "execution_count": 21,
   "id": "1f040c38",
   "metadata": {},
   "outputs": [],
   "source": [
    "import heapq"
   ]
  },
  {
   "cell_type": "code",
   "execution_count": 22,
   "id": "2919ea35",
   "metadata": {},
   "outputs": [],
   "source": [
    "heap_list= []"
   ]
  },
  {
   "cell_type": "code",
   "execution_count": 23,
   "id": "162e856d",
   "metadata": {},
   "outputs": [],
   "source": [
    "s= [1,6,-3,2,3,4,-4]"
   ]
  },
  {
   "cell_type": "code",
   "execution_count": 24,
   "id": "2986e1cb",
   "metadata": {},
   "outputs": [],
   "source": [
    "for ss in s:\n",
    "    heapq.heappush(heap_list,-ss)"
   ]
  },
  {
   "cell_type": "code",
   "execution_count": 25,
   "id": "dd095f68",
   "metadata": {},
   "outputs": [
    {
     "data": {
      "text/plain": [
       "6"
      ]
     },
     "execution_count": 25,
     "metadata": {},
     "output_type": "execute_result"
    }
   ],
   "source": [
    "-heapq.heappop(heap_list)"
   ]
  },
  {
   "cell_type": "code",
   "execution_count": null,
   "id": "8e3092db",
   "metadata": {},
   "outputs": [],
   "source": [
    "10 2\n",
    "-5 8 -3 -3 -2 3 5 9 7 -4\n",
    "\n",
    "1 1\n",
    "1\n",
    "\n",
    "2 1\n",
    "2 -4\n",
    "\n",
    "2 2\n",
    "4 -5\n",
    "\n"
   ]
  },
  {
   "cell_type": "code",
   "execution_count": 14,
   "id": "5c607a92",
   "metadata": {},
   "outputs": [],
   "source": [
    "import heapq"
   ]
  },
  {
   "cell_type": "code",
   "execution_count": 8,
   "id": "53ff32af",
   "metadata": {},
   "outputs": [
    {
     "name": "stdout",
     "output_type": "stream",
     "text": [
      "10 2\n"
     ]
    }
   ],
   "source": [
    "length , k = map(int,(input().split()))"
   ]
  },
  {
   "cell_type": "code",
   "execution_count": 10,
   "id": "a0829590",
   "metadata": {},
   "outputs": [
    {
     "name": "stdout",
     "output_type": "stream",
     "text": [
      "-5 8 -3 -3 -2 3 5 9 7 -4\n"
     ]
    }
   ],
   "source": [
    "numbers = list(map(int,(input().split())))"
   ]
  },
  {
   "cell_type": "code",
   "execution_count": 62,
   "id": "e86f4830",
   "metadata": {},
   "outputs": [],
   "source": [
    "heap_list = []"
   ]
  },
  {
   "cell_type": "code",
   "execution_count": 70,
   "id": "4ddd60e2",
   "metadata": {},
   "outputs": [
    {
     "name": "stdout",
     "output_type": "stream",
     "text": [
      "2 2\n",
      "2 -4\n",
      "-2\n"
     ]
    }
   ],
   "source": [
    "import heapq\n",
    "length , k = map(int,(input().split()))\n",
    "numbers = list(map(int,(input().split())))\n",
    "heap_list = []\n",
    "temp_sum = sum(numbers[0:k])\n",
    "heapq.heappush(heap_list, -temp_sum)\n",
    "if k ==1:\n",
    "    print(max(numbers))\n",
    "else:\n",
    "    for left_pointer in range(1,length-k+1):\n",
    "        left_value = numbers[left_pointer-1]\n",
    "        right_value = numbers[left_pointer+k-1] \n",
    "        temp_sum += ( -left_value + right_value)\n",
    "        heapq.heappush(heap_list, -temp_sum)\n",
    "    print(-heapq.heappop(heap_list))"
   ]
  }
 ],
 "metadata": {
  "kernelspec": {
   "display_name": "Python 3 (ipykernel)",
   "language": "python",
   "name": "python3"
  },
  "language_info": {
   "codemirror_mode": {
    "name": "ipython",
    "version": 3
   },
   "file_extension": ".py",
   "mimetype": "text/x-python",
   "name": "python",
   "nbconvert_exporter": "python",
   "pygments_lexer": "ipython3",
   "version": "3.8.13"
  }
 },
 "nbformat": 4,
 "nbformat_minor": 5
}
