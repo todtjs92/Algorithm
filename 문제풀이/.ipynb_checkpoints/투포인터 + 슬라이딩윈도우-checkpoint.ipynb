{
 "cells": [
  {
   "cell_type": "markdown",
   "id": "2a019290",
   "metadata": {},
   "source": [
    "## 빗물양  "
   ]
  },
  {
   "cell_type": "code",
   "execution_count": 23,
   "id": "ad56bde4",
   "metadata": {},
   "outputs": [],
   "source": [
    "input_ = [0,1,0,2,1,0,1,3,2,1,2,1]"
   ]
  },
  {
   "cell_type": "markdown",
   "id": "3819b36b",
   "metadata": {},
   "source": [
    "# 문제2"
   ]
  },
  {
   "cell_type": "code",
   "execution_count": 25,
   "id": "09cdca73",
   "metadata": {},
   "outputs": [],
   "source": [
    "# 리스트를 오름차순으로 정렬한다.\n",
    "# 포인터 left는 리스트의 시작점을, 포인터 right는 리스트의 끝점을 가리킨다.\n",
    "# left와 right가 만날 때 까지(즉, 모든 경우를 확인할 때 까지) 다음을 반복한다.\n",
    "# 3-1. A[left]와 A[right]의 합이 타겟 값(S)과 같다면 조건을 만족하므로 출력하고, left를 1 증가, right를 1 감소시킨다.\n",
    "# 3-2. A[left]와 A[right]의 합이 타겟 값(S)보다 작다면 left를 1 증가시킨다.\n",
    "# 3-3. A[left]와 A[right]의 합이 타겟 값(S)보다 크다면 right를 1 감소시킨다."
   ]
  },
  {
   "cell_type": "code",
   "execution_count": 50,
   "id": "fe351fd4",
   "metadata": {},
   "outputs": [],
   "source": [
    "# Q. 정렬된 리스트 A와 타겟 값 S가 주어졌을 때, 두 수의 합이 S가 되는 순서쌍을 모두 구하여라.\n",
    "A = [1, 3, 5, 6, 9, 11, 12, 16, 17, 19, 22, 25, 28]\n",
    "S = 27 "
   ]
  },
  {
   "cell_type": "code",
   "execution_count": 51,
   "id": "4fe3a4f0",
   "metadata": {},
   "outputs": [],
   "source": [
    "left =0\n",
    "right = len(A)-1"
   ]
  },
  {
   "cell_type": "code",
   "execution_count": 52,
   "id": "4407ddfc",
   "metadata": {},
   "outputs": [
    {
     "data": {
      "text/plain": [
       "0"
      ]
     },
     "execution_count": 52,
     "metadata": {},
     "output_type": "execute_result"
    }
   ],
   "source": [
    "left"
   ]
  },
  {
   "cell_type": "code",
   "execution_count": 53,
   "id": "d899e8a6",
   "metadata": {},
   "outputs": [
    {
     "data": {
      "text/plain": [
       "12"
      ]
     },
     "execution_count": 53,
     "metadata": {},
     "output_type": "execute_result"
    }
   ],
   "source": [
    "right"
   ]
  },
  {
   "cell_type": "code",
   "execution_count": 54,
   "id": "afdaef63",
   "metadata": {},
   "outputs": [
    {
     "data": {
      "text/plain": [
       "0"
      ]
     },
     "execution_count": 54,
     "metadata": {},
     "output_type": "execute_result"
    }
   ],
   "source": [
    "left"
   ]
  },
  {
   "cell_type": "code",
   "execution_count": 55,
   "id": "36dcc897",
   "metadata": {},
   "outputs": [
    {
     "data": {
      "text/plain": [
       "12"
      ]
     },
     "execution_count": 55,
     "metadata": {},
     "output_type": "execute_result"
    }
   ],
   "source": [
    "right"
   ]
  },
  {
   "cell_type": "code",
   "execution_count": 56,
   "id": "c6954612",
   "metadata": {},
   "outputs": [],
   "source": [
    "answer =[]\n",
    "while left != right:\n",
    "    if A[left] + A[right] == S:\n",
    "        answer.append([A[left],A[right]])\n",
    "        left +=1\n",
    "        right -=1\n",
    "    elif A[left] + A[right] < S:\n",
    "        left +=1\n",
    "    elif A[left] + A[right] > S:\n",
    "        right -=1"
   ]
  },
  {
   "cell_type": "code",
   "execution_count": 57,
   "id": "b435650b",
   "metadata": {},
   "outputs": [
    {
     "data": {
      "text/plain": [
       "[[5, 22], [11, 16]]"
      ]
     },
     "execution_count": 57,
     "metadata": {},
     "output_type": "execute_result"
    }
   ],
   "source": [
    "answer"
   ]
  },
  {
   "cell_type": "code",
   "execution_count": null,
   "id": "7417c06e",
   "metadata": {},
   "outputs": [],
   "source": []
  },
  {
   "cell_type": "code",
   "execution_count": null,
   "id": "1876393a",
   "metadata": {},
   "outputs": [],
   "source": []
  },
  {
   "cell_type": "code",
   "execution_count": null,
   "id": "20d70c8e",
   "metadata": {},
   "outputs": [],
   "source": []
  },
  {
   "cell_type": "code",
   "execution_count": null,
   "id": "b23d2d14",
   "metadata": {},
   "outputs": [],
   "source": []
  },
  {
   "cell_type": "markdown",
   "id": "708e14ac",
   "metadata": {},
   "source": [
    "## 주어진 슬라이딩 윈도우에서 최대값 구하기"
   ]
  },
  {
   "cell_type": "code",
   "execution_count": 15,
   "id": "8a2d8ab1",
   "metadata": {},
   "outputs": [],
   "source": [
    "nums = [1,3,-1,-3,5,3,6,7]\n",
    "k = 3"
   ]
  },
  {
   "cell_type": "code",
   "execution_count": 16,
   "id": "8c454d66",
   "metadata": {},
   "outputs": [],
   "source": [
    "import collections"
   ]
  },
  {
   "cell_type": "markdown",
   "id": "3913ed24",
   "metadata": {},
   "source": [
    "### 이게 더빠르다고??"
   ]
  },
  {
   "cell_type": "markdown",
   "id": "0f0c45cc",
   "metadata": {},
   "source": [
    "### 끝까지 돌긴 돌아야는데 매번 sum을 안하도록 해야할듯. 전체에대해\n",
    "### 앞뒤만 비교해서 처음 sum에서 체크하도록"
   ]
  },
  {
   "cell_type": "code",
   "execution_count": 25,
   "id": "fdfb5e15",
   "metadata": {},
   "outputs": [],
   "source": [
    "def func(nums,k):\n",
    "    max_ = -1e10\n",
    "    for i in range(len(nums)-k+1):\n",
    "       \n",
    "        if i ==0:\n",
    "            init_sum = sum(nums[:k])\n",
    "            max_ = max(max_,init_sum)\n",
    "            continue\n",
    "            \n",
    "        start = nums[i-1]\n",
    "        end   = nums[i+k-1]\n",
    "        \n",
    "        init_sum += (end-start)\n",
    "        max_ = max(max_,init_sum)\n",
    "        print(max_)\n",
    "    \n",
    "    return max_"
   ]
  },
  {
   "cell_type": "code",
   "execution_count": 26,
   "id": "79c94752",
   "metadata": {},
   "outputs": [
    {
     "name": "stdout",
     "output_type": "stream",
     "text": [
      "3\n",
      "3\n",
      "5\n",
      "14\n",
      "16\n"
     ]
    },
    {
     "data": {
      "text/plain": [
       "16"
      ]
     },
     "execution_count": 26,
     "metadata": {},
     "output_type": "execute_result"
    }
   ],
   "source": [
    "func(nums,k)"
   ]
  },
  {
   "cell_type": "code",
   "execution_count": null,
   "id": "57769448",
   "metadata": {},
   "outputs": [],
   "source": []
  },
  {
   "cell_type": "code",
   "execution_count": null,
   "id": "4ea3041a",
   "metadata": {},
   "outputs": [],
   "source": [
    "def maxSliding(nums,k):\n",
    "    results=[]\n",
    "    window = collections.deque()\n",
    "    current_max = float('-inf')\n",
    "    \n",
    "    # window 3 안되면 넘기는 코드\n",
    "    \n",
    "    for i , v in enumerate(nums):\n",
    "        window.append(v)\n",
    "        \n",
    "        if i < k-1 :\n",
    "            continue\n",
    "            \n",
    "        \n",
    "        if current_max == float('-inf'):\n",
    "            current_max = max(window)\n",
    "        \n",
    "        elif v > current_max:\n",
    "            current_max = v\n",
    "            \n",
    "        \n",
    "    "
   ]
  },
  {
   "cell_type": "markdown",
   "id": "3334e2f4",
   "metadata": {},
   "source": [
    "# 묹제2"
   ]
  },
  {
   "cell_type": "markdown",
   "id": "0dab1a93",
   "metadata": {},
   "source": [
    "S에서 T 포함된 최소  윈도우 찾ㅈ기"
   ]
  },
  {
   "cell_type": "code",
   "execution_count": null,
   "id": "8ce809e9",
   "metadata": {},
   "outputs": [],
   "source": [
    "# 1 0부터 처음 끝까지 찾을떄까지 right 이동시키고\n",
    "# 2 처음 찾았으면 왼쪾 이동시키는 방식 다시 잃을때까지 .근데 미리 카운터에 체크를 해두면서 변화만 주는 방식임 . \n",
    "# 오른쪽 증가 왼쪽 줄이고 다 줄었으면 오른쪽 다시 늘이고 왼쪽 줄이고 방식. "
   ]
  },
  {
   "cell_type": "code",
   "execution_count": 57,
   "id": "4129f26d",
   "metadata": {},
   "outputs": [],
   "source": [
    "s = 'ADOBECODEBANC'\n",
    "t  = 'ABC'"
   ]
  },
  {
   "cell_type": "code",
   "execution_count": 58,
   "id": "df9facb0",
   "metadata": {},
   "outputs": [],
   "source": [
    "# 투포인터 , 윈도우\n",
    "# 1. 길이 3부터 시작해서 탐색하는 방법 정도???"
   ]
  },
  {
   "cell_type": "code",
   "execution_count": 59,
   "id": "306959b3",
   "metadata": {},
   "outputs": [],
   "source": [
    "need = collections.Counter(T)"
   ]
  },
  {
   "cell_type": "code",
   "execution_count": 60,
   "id": "c32090bb",
   "metadata": {},
   "outputs": [
    {
     "data": {
      "text/plain": [
       "Counter({'A': 1, 'B': 1, 'C': 1})"
      ]
     },
     "execution_count": 60,
     "metadata": {},
     "output_type": "execute_result"
    }
   ],
   "source": [
    "need"
   ]
  },
  {
   "cell_type": "code",
   "execution_count": 62,
   "id": "a108319f",
   "metadata": {},
   "outputs": [],
   "source": [
    "missing  =len(t)\n",
    "left = start =end =  0"
   ]
  },
  {
   "cell_type": "code",
   "execution_count": 65,
   "id": "bb397a74",
   "metadata": {},
   "outputs": [
    {
     "data": {
      "text/plain": [
       "3"
      ]
     },
     "execution_count": 65,
     "metadata": {},
     "output_type": "execute_result"
    }
   ],
   "source": [
    "missing"
   ]
  },
  {
   "cell_type": "code",
   "execution_count": 66,
   "id": "fbc5c1eb",
   "metadata": {},
   "outputs": [
    {
     "data": {
      "text/plain": [
       "True"
      ]
     },
     "execution_count": 66,
     "metadata": {},
     "output_type": "execute_result"
    }
   ],
   "source": [
    "need[char] >0"
   ]
  },
  {
   "cell_type": "code",
   "execution_count": 63,
   "id": "6aa7f180",
   "metadata": {},
   "outputs": [
    {
     "name": "stdout",
     "output_type": "stream",
     "text": [
      "1 A\n"
     ]
    }
   ],
   "source": [
    "for right , char in enumerate(s,1):  # 1, A\n",
    "    missing -= need[char] >0 # True로 바꿔서 1씩 바꾸게 하는건가 본데 미싱에서 하나찾았으니까\n",
    "    need[char] -= 1 # \n",
    "    \n",
    "    # right로 다 포함되있는데 까지 갔으면 \n",
    "    if missing == 0:\n",
    "        while left < right and need[s[left]] < 0 : # 다른게 들어오면 0으로 잡히는구나 오호...\n",
    "            need[s[left]]\n",
    "        \n",
    "    "
   ]
  },
  {
   "cell_type": "code",
   "execution_count": 71,
   "id": "bf7d0d04",
   "metadata": {},
   "outputs": [
    {
     "data": {
      "text/plain": [
       "Counter({'A': 1, 'B': 1, 'C': 1})"
      ]
     },
     "execution_count": 71,
     "metadata": {},
     "output_type": "execute_result"
    }
   ],
   "source": [
    "need"
   ]
  },
  {
   "cell_type": "code",
   "execution_count": 55,
   "id": "275657ab",
   "metadata": {},
   "outputs": [],
   "source": [
    "def minWindow(s,t):\n",
    "    need = collections.Counter(t)\n",
    "    missing  =len(t)\n",
    "    left = start =end =  0\n",
    "    \n",
    "    # 오른쪽 포인터 이동\n",
    "    for right , char in enumerate(s,1): # 이러면 인덱스 1부터 시작이구나 1, A\n",
    "        print(missing,'앞')\n",
    "        missing -= need[char] > 0\n",
    "        print(missing,'뒤')\n",
    "        \n",
    "        need[char] -= 1\n",
    "        \n",
    "        if missing ==0:\n",
    "            while left < right and need[s[left]] < 0: # \n",
    "                need[s[left]] += 1\n",
    "                left +=1\n",
    "                \n",
    "            \n",
    "            \n",
    "            if not end or right - left <= end-start:\n",
    "                start, end = left, right\n",
    "      \n",
    "            need[s[left]] +=1\n",
    "            missing +=1\n",
    "            left +=1\n",
    "    \n",
    "    return s[start:end]"
   ]
  },
  {
   "cell_type": "code",
   "execution_count": 56,
   "id": "831e4230",
   "metadata": {},
   "outputs": [
    {
     "name": "stdout",
     "output_type": "stream",
     "text": [
      "3 앞\n",
      "2 뒤\n",
      "2 앞\n",
      "2 뒤\n",
      "2 앞\n",
      "2 뒤\n",
      "2 앞\n",
      "1 뒤\n",
      "1 앞\n",
      "1 뒤\n",
      "1 앞\n",
      "0 뒤\n",
      "1 앞\n",
      "1 뒤\n",
      "1 앞\n",
      "1 뒤\n",
      "1 앞\n",
      "1 뒤\n",
      "1 앞\n",
      "1 뒤\n",
      "1 앞\n",
      "0 뒤\n",
      "1 앞\n",
      "1 뒤\n",
      "1 앞\n",
      "0 뒤\n"
     ]
    },
    {
     "data": {
      "text/plain": [
       "'BANC'"
      ]
     },
     "execution_count": 56,
     "metadata": {},
     "output_type": "execute_result"
    }
   ],
   "source": [
    "minWindow(s,t)"
   ]
  },
  {
   "cell_type": "markdown",
   "id": "42b6300d",
   "metadata": {},
   "source": [
    "## 재풀이"
   ]
  },
  {
   "cell_type": "code",
   "execution_count": 44,
   "id": "e426fa2b",
   "metadata": {},
   "outputs": [],
   "source": [
    "from collections import Counter"
   ]
  },
  {
   "cell_type": "code",
   "execution_count": 46,
   "id": "96954045",
   "metadata": {},
   "outputs": [],
   "source": [
    "s = 'ADOBECODEBANC'\n",
    "t  = 'ABC'"
   ]
  },
  {
   "cell_type": "code",
   "execution_count": 47,
   "id": "2e34bdc5",
   "metadata": {},
   "outputs": [],
   "source": [
    "len_by_ch = Counter(t)\n",
    "len_t = len(t)"
   ]
  },
  {
   "cell_type": "code",
   "execution_count": 48,
   "id": "3fbb8e07",
   "metadata": {},
   "outputs": [
    {
     "data": {
      "text/plain": [
       "Counter({'A': 1, 'B': 1, 'C': 1})"
      ]
     },
     "execution_count": 48,
     "metadata": {},
     "output_type": "execute_result"
    }
   ],
   "source": [
    "len_by_ch"
   ]
  },
  {
   "cell_type": "code",
   "execution_count": 49,
   "id": "be5ed21a",
   "metadata": {},
   "outputs": [],
   "source": [
    "for right in range(len(s)):\n",
    "    try:\n",
    "        # t의 문자열에 존재하는 문자라면\n",
    "        if len_by_ch[s[right]] > 0:\n",
    "            # 하당하는 t를 구성하는 문자의 카운터를 1 감소 시키고\n",
    "            len_by_ch[s[right]] -= 1\n",
    "            # 전체 t의 길이도 1 감소 시킨다.\n",
    "            len_t -= 1\n",
    "        if len_t == 0:\n",
    "            break\n",
    "    except KeyError:\n",
    "        pass"
   ]
  },
  {
   "cell_type": "code",
   "execution_count": 50,
   "id": "795bc6a4",
   "metadata": {},
   "outputs": [
    {
     "data": {
      "text/plain": [
       "5"
      ]
     },
     "execution_count": 50,
     "metadata": {},
     "output_type": "execute_result"
    }
   ],
   "source": [
    "right"
   ]
  },
  {
   "cell_type": "code",
   "execution_count": 51,
   "id": "24844586",
   "metadata": {},
   "outputs": [],
   "source": [
    "for left in range(0, right - len_t):\n",
    "        try:\n",
    "            if len_by_ch[s[left]] == 0:\n",
    "                break\n",
    "        except KeyError:\n",
    "            pass"
   ]
  },
  {
   "cell_type": "code",
   "execution_count": 52,
   "id": "5204c8ea",
   "metadata": {},
   "outputs": [
    {
     "data": {
      "text/plain": [
       "0"
      ]
     },
     "execution_count": 52,
     "metadata": {},
     "output_type": "execute_result"
    }
   ],
   "source": [
    "left"
   ]
  },
  {
   "cell_type": "code",
   "execution_count": 53,
   "id": "15fd24ba",
   "metadata": {},
   "outputs": [
    {
     "data": {
      "text/plain": [
       "'ADOBEC'"
      ]
     },
     "execution_count": 53,
     "metadata": {},
     "output_type": "execute_result"
    }
   ],
   "source": [
    "s[left:right + 1]"
   ]
  },
  {
   "cell_type": "code",
   "execution_count": null,
   "id": "13021fff",
   "metadata": {},
   "outputs": [],
   "source": []
  },
  {
   "cell_type": "code",
   "execution_count": null,
   "id": "05f30236",
   "metadata": {},
   "outputs": [],
   "source": [
    "from collections import Counter\n",
    "\n",
    "\n",
    "def solution(s, t):\n",
    "    \"\"\"\n",
    "    오른쪽으로 윈도우를 늘려가며 모든 t를 포함하는 포인트 right를 찾고\n",
    "    왼쪽에서부터 윈도우를 줄여가며 t의 요소중 하나라도 포함하지 않는 포인트 left를 찾아서\n",
    "    right - left + 1을 리턴해주면 된다.\n",
    "\n",
    "    :param s: 전체 문자열\n",
    "    :param t: 찾아야 할 문자들이 포함된 문자열\n",
    "    :return: 모든 t를 포함하는 s의 부분 리스트 중 최단 리스트의 길이\n",
    "    \"\"\"\n",
    "    # 길이가 t인 윈도우가 인덱스 0 ~ t-1에 걸친 상태 부터 시작한다.\n",
    "    # 모든 t의 요소가 포함되었는지 확인하기 위해\n",
    "    #       1. 인덱스를 늘려가면서 어떤 문자가 빠지는지 확인하기 위해 문자별로 카운팅을 해놓고\n",
    "    #       2. 필요로 하는 모든 문자가 빠졌는지 확인하기 위해 t의 전체 길이(len_t)를 파악한다.\n",
    "    #       * 카운트가 아직 남은 문자에 한해서만 len_t를 1씩 차감한다. (t = 'aabc'인 경우\n",
    "    #         윈도우를 늘여가면서 a 두개를 포함한 상태에 다시 a가 나와도 len_t가 줄어들면 안되기\n",
    "    #         때문이다.\n",
    "    len_by_ch = Counter(t)\n",
    "    len_t = len(t)\n",
    "    # t의 모든 문자를 s가 포함하게 될 때까지 right 포인트를 늘여간다.\n",
    "    for right in range(len(s)):\n",
    "        try:\n",
    "            # t의 문자열에 존재하는 문자라면\n",
    "            if len_by_ch[s[right]] > 0:\n",
    "                # 하당하는 t를 구성하는 문자의 카운터를 1 감소 시키고\n",
    "                len_by_ch[s[right]] -= 1\n",
    "                # 전체 t의 길이도 1 감소 시킨다.\n",
    "                len_t -= 1\n",
    "            if len_t == 0:\n",
    "                break\n",
    "        except KeyError:\n",
    "            pass\n",
    "\n",
    "    for left in range(0, right - len_t):\n",
    "        try:\n",
    "            if len_by_ch[s[left]] == 0:\n",
    "                break\n",
    "        except KeyError:\n",
    "            pass\n",
    "\n",
    "    return s[left:right + 1]\n",
    "\n",
    "\n",
    "s = 'ADOBECODEBANC'\n",
    "t = 'ABC'\n",
    "print(solution(s, t))"
   ]
  },
  {
   "cell_type": "code",
   "execution_count": null,
   "id": "e6e96cc1",
   "metadata": {},
   "outputs": [],
   "source": []
  },
  {
   "cell_type": "code",
   "execution_count": 9,
   "id": "6e392508",
   "metadata": {},
   "outputs": [
    {
     "name": "stdout",
     "output_type": "stream",
     "text": [
      "1 A\n",
      "2 D\n",
      "3 O\n",
      "4 B\n",
      "5 E\n",
      "6 C\n",
      "7 O\n",
      "8 D\n",
      "9 E\n",
      "10 B\n",
      "11 A\n",
      "12 N\n",
      "13 C\n"
     ]
    }
   ],
   "source": [
    "for x,y in enumerate(S,1):\n",
    "    print(x,y)"
   ]
  },
  {
   "cell_type": "markdown",
   "id": "3a06e2bf",
   "metadata": {},
   "source": [
    "## 백준 게으른 백곰"
   ]
  },
  {
   "cell_type": "code",
   "execution_count": 27,
   "id": "0de38c6c",
   "metadata": {},
   "outputs": [
    {
     "name": "stdout",
     "output_type": "stream",
     "text": [
      "4 3\n"
     ]
    }
   ],
   "source": [
    "N , K = map(int,  input().split(' ') )"
   ]
  },
  {
   "cell_type": "code",
   "execution_count": 28,
   "id": "1ca7e3c3",
   "metadata": {},
   "outputs": [
    {
     "name": "stdout",
     "output_type": "stream",
     "text": [
      "4 7\n",
      "10 15\n",
      "2 2\n",
      "5 1\n"
     ]
    }
   ],
   "source": [
    "map_ = [0 for x in range(100001)]\n",
    "for _ in range(N):\n",
    "    a,b  = map(int,  input().split(' ') )\n",
    "    map_[b] = a\n",
    "    \n",
    "    "
   ]
  },
  {
   "cell_type": "code",
   "execution_count": 29,
   "id": "ef479107",
   "metadata": {},
   "outputs": [],
   "source": [
    "window_width = 2*K +1"
   ]
  },
  {
   "cell_type": "code",
   "execution_count": 30,
   "id": "a323ad9c",
   "metadata": {},
   "outputs": [],
   "source": [
    "window_sum = sum(map_[0:window_width])\n",
    "    "
   ]
  },
  {
   "cell_type": "code",
   "execution_count": 31,
   "id": "c126b5ed",
   "metadata": {},
   "outputs": [
    {
     "data": {
      "text/plain": [
       "7"
      ]
     },
     "execution_count": 31,
     "metadata": {},
     "output_type": "execute_result"
    }
   ],
   "source": [
    "window_sum"
   ]
  },
  {
   "cell_type": "code",
   "execution_count": 32,
   "id": "f1bc3bdc",
   "metadata": {},
   "outputs": [],
   "source": [
    "answer = window_sum"
   ]
  },
  {
   "cell_type": "code",
   "execution_count": 34,
   "id": "34b6f458",
   "metadata": {},
   "outputs": [
    {
     "name": "stdout",
     "output_type": "stream",
     "text": [
      "4 3\n",
      "4 7\n",
      "10 15\n",
      "2 2\n",
      "5 1\n",
      "11\n"
     ]
    }
   ],
   "source": [
    "N , K = map(int,  input().split(' ') )\n",
    "map_ = [0 for x in range(1000001)]\n",
    "for _ in range(N):\n",
    "    a,b  = map(int,  input().split(' ') )\n",
    "    map_[b] = a\n",
    "window_width = 2*K +1\n",
    "window_sum = sum(map_[0:window_width])\n",
    "answer = window_sum\n",
    "for j in range(100001 - window_width):\n",
    "    window_sum =window_sum - map_[j] + map_[j+window_width]\n",
    "    answer = max(answer , window_sum)\n",
    "print(answer)"
   ]
  },
  {
   "cell_type": "code",
   "execution_count": 42,
   "id": "89d3a478",
   "metadata": {},
   "outputs": [
    {
     "name": "stdout",
     "output_type": "stream",
     "text": [
      "4 3\n",
      "4 7\n",
      "10 15\n",
      "2 2\n",
      "5 1\n",
      "11\n"
     ]
    }
   ],
   "source": [
    "N , K = map(int,  input().split() )\n",
    "map_ = [0 for x in range(1000001)]\n",
    "for _ in range(N):\n",
    "    a,b  = map(int,  input().split() )\n",
    "    map_[b] = a\n",
    "window_width = 2*K +1\n",
    "window_sum = sum(map_[0:window_width])\n",
    "answer = window_sum\n",
    "for j in range(1000001 - window_width):\n",
    "    window_sum += ( - map_[j] + map_[j+window_width] )\n",
    "    answer = max(answer , window_sum)\n",
    "print(answer)"
   ]
  },
  {
   "cell_type": "code",
   "execution_count": 40,
   "id": "0372ab44",
   "metadata": {},
   "outputs": [
    {
     "name": "stdout",
     "output_type": "stream",
     "text": [
      "4 3\n",
      "4 7\n",
      "10 15\n",
      "2 2\n",
      "5 1\n",
      "11\n"
     ]
    }
   ],
   "source": [
    "n,k = map(int,input().split())\n",
    "arr = [list(map(int,input().split())) for _ in range(n)]\n",
    "ice = [0] * 1000001\n",
    "for i in range(n):\n",
    "    ice[arr[i][1]] = arr[i][0]\n",
    "\n",
    "next_ = 2*k +1\n",
    "window = sum(ice[:next_])\n",
    "answer = window\n",
    "\n",
    "for i in range(next_, 1000001):\n",
    "    window += (ice[i]- ice[i-next_])\n",
    "    answer = max(answer, window)\n",
    "print(answer)"
   ]
  },
  {
   "cell_type": "markdown",
   "id": "8a82f3a6",
   "metadata": {},
   "source": [
    "# answer\n"
   ]
  },
  {
   "cell_type": "code",
   "execution_count": 37,
   "id": "2714b2c6",
   "metadata": {},
   "outputs": [],
   "source": [
    "for j in range(100001 - window_width):\n",
    "    window_sum =window_sum - map_[j] + map_[j+window_width]\n",
    "    answer = max(answer , window_sum)\n",
    "    \n",
    "    "
   ]
  },
  {
   "cell_type": "code",
   "execution_count": 38,
   "id": "51f882b9",
   "metadata": {},
   "outputs": [
    {
     "data": {
      "text/plain": [
       "11"
      ]
     },
     "execution_count": 38,
     "metadata": {},
     "output_type": "execute_result"
    }
   ],
   "source": [
    "answer"
   ]
  },
  {
   "cell_type": "code",
   "execution_count": null,
   "id": "e7f6edb8",
   "metadata": {},
   "outputs": [],
   "source": []
  },
  {
   "cell_type": "code",
   "execution_count": 17,
   "id": "55226218",
   "metadata": {},
   "outputs": [
    {
     "data": {
      "text/plain": [
       "7"
      ]
     },
     "execution_count": 17,
     "metadata": {},
     "output_type": "execute_result"
    }
   ],
   "source": [
    "max_val"
   ]
  },
  {
   "cell_type": "code",
   "execution_count": null,
   "id": "e239b5c1",
   "metadata": {},
   "outputs": [],
   "source": [
    "4 3\n",
    "4 7\n",
    "10 15\n",
    "2 2\n",
    "5 1"
   ]
  },
  {
   "cell_type": "markdown",
   "id": "5ddf2436",
   "metadata": {},
   "source": [
    "### 합 = k "
   ]
  },
  {
   "cell_type": "code",
   "execution_count": null,
   "id": "ea4effd5",
   "metadata": {},
   "outputs": [],
   "source": [
    "5 8\n",
    "1 3 4 4 8"
   ]
  },
  {
   "cell_type": "code",
   "execution_count": null,
   "id": "74923fe5",
   "metadata": {},
   "outputs": [],
   "source": []
  },
  {
   "cell_type": "code",
   "execution_count": 2,
   "id": "eadaf74e",
   "metadata": {},
   "outputs": [
    {
     "name": "stdout",
     "output_type": "stream",
     "text": [
      "5 8\n"
     ]
    }
   ],
   "source": [
    "_ , k = list(map(int,input().split()))"
   ]
  },
  {
   "cell_type": "code",
   "execution_count": 3,
   "id": "13f50a2c",
   "metadata": {},
   "outputs": [
    {
     "name": "stdout",
     "output_type": "stream",
     "text": [
      "1 3 4 4 8\n"
     ]
    }
   ],
   "source": [
    "number = list(map(int,input().split()))"
   ]
  },
  {
   "cell_type": "code",
   "execution_count": null,
   "id": "4c7118e7",
   "metadata": {},
   "outputs": [],
   "source": [
    "# 포인터를 어디에다 두는게 좋을까??\n",
    "1. 0,0 으로 시작\n",
    "2. 오른쪽 포인터 넓혀 가면서 같거나 더 커지는 부분 찾기. \n",
    "3. 만약 오른쪽 넓혀서 k 보다 커졋다면 왼쪽을 줄여버리기 (언제까지 같아질때까지)\n",
    "4. 만약 k보다 작았다면 오른쪽 다시 넓히기 \n",
    "5. 마지막도달할때 예외 처리해주기 . "
   ]
  },
  {
   "cell_type": "code",
   "execution_count": 72,
   "id": "13bd28ef",
   "metadata": {},
   "outputs": [
    {
     "name": "stdout",
     "output_type": "stream",
     "text": [
      "5 8\n",
      "1 3 4 4 8\n"
     ]
    }
   ],
   "source": [
    "_ , k = list(map(int,input().split()))\n",
    "number = list(map(int,input().split()))"
   ]
  },
  {
   "cell_type": "code",
   "execution_count": null,
   "id": "1641b040",
   "metadata": {},
   "outputs": [],
   "source": [
    "1 1\n",
    "1"
   ]
  },
  {
   "cell_type": "code",
   "execution_count": null,
   "id": "e30219b8",
   "metadata": {},
   "outputs": [],
   "source": [
    "10 9\n",
    "1 4 2 6 8 9 5 4 2 3 1 4 2 3 1 2 3 4"
   ]
  },
  {
   "cell_type": "code",
   "execution_count": null,
   "id": "7428a27d",
   "metadata": {},
   "outputs": [],
   "source": [
    "9 , 5 4,   4 2 3,  4 2 3,  3 1 2 3"
   ]
  },
  {
   "cell_type": "code",
   "execution_count": 54,
   "id": "e4d2b8d5",
   "metadata": {},
   "outputs": [],
   "source": [
    "def get_sum(left_pointer, right_pointer):\n",
    "    if left_pointer == right_pointer:\n",
    "        temp_sum = number[left_pointer]\n",
    "    else:\n",
    "        temp_sum = sum(number[left_pointer:right_pointer+1])\n",
    "    return temp_sum\n",
    "        "
   ]
  },
  {
   "cell_type": "code",
   "execution_count": 55,
   "id": "d7adc8f9",
   "metadata": {},
   "outputs": [
    {
     "data": {
      "text/plain": [
       "9"
      ]
     },
     "execution_count": 55,
     "metadata": {},
     "output_type": "execute_result"
    }
   ],
   "source": [
    "k"
   ]
  },
  {
   "cell_type": "code",
   "execution_count": null,
   "id": "706987b8",
   "metadata": {},
   "outputs": [],
   "source": [
    "1 4 2 6 8 9 5 4 2 3 1 4 2 3 1 2 3 4"
   ]
  },
  {
   "cell_type": "code",
   "execution_count": 59,
   "id": "0fd8091d",
   "metadata": {},
   "outputs": [
    {
     "name": "stdout",
     "output_type": "stream",
     "text": [
      "5 5\n",
      "6 7\n",
      "13 16\n",
      "15 17\n"
     ]
    }
   ],
   "source": [
    "while right_pointer < N:\n",
    "    temp_sum  = get_sum(left_pointer, right_pointer)\n",
    "    if temp_sum == k:\n",
    "        print(left_pointer, right_pointer)\n",
    "        answer +=1\n",
    "    elif temp_sum >k:\n",
    "        while left_pointer <= right_pointer:\n",
    "            left_pointer+=1\n",
    "            temp_sum = get_sum(left_pointer,right_pointer)\n",
    "            if temp_sum == k:\n",
    "                print(left_pointer, right_pointer)\n",
    "                answer +=1\n",
    "    right_pointer += 1\n",
    "            \n",
    "            \n",
    "    \n",
    "    "
   ]
  },
  {
   "cell_type": "code",
   "execution_count": 57,
   "id": "a6e420da",
   "metadata": {},
   "outputs": [
    {
     "data": {
      "text/plain": [
       "4"
      ]
     },
     "execution_count": 57,
     "metadata": {},
     "output_type": "execute_result"
    }
   ],
   "source": [
    "answer"
   ]
  },
  {
   "cell_type": "code",
   "execution_count": 75,
   "id": "a834c57c",
   "metadata": {},
   "outputs": [],
   "source": [
    "left_pointer = 0 \n",
    "right_pointer = 0\n",
    "answer = 0\n",
    "temp_sum = 0 \n",
    "N = len(number)"
   ]
  },
  {
   "cell_type": "code",
   "execution_count": null,
   "id": "be757c77",
   "metadata": {},
   "outputs": [],
   "source": [
    "1 4 2 6 8 9 5 4 2 3 1 4 2 3 1 2 3 4"
   ]
  },
  {
   "cell_type": "code",
   "execution_count": 76,
   "id": "c5452f51",
   "metadata": {},
   "outputs": [
    {
     "name": "stdout",
     "output_type": "stream",
     "text": [
      "0 2\n",
      "2 3\n",
      "4 4\n"
     ]
    }
   ],
   "source": [
    "while right_pointer < N:\n",
    "    temp_sum  = get_sum(left_pointer, right_pointer)\n",
    "    if temp_sum == k:\n",
    "        print(left_pointer, right_pointer)\n",
    "        answer +=1\n",
    "        if left_pointer < right_pointer:\n",
    "            left_pointer+=1\n",
    "            \n",
    "            \n",
    "            #print(left_pointer, right_pointer)\n",
    "            \n",
    "    elif temp_sum >k:\n",
    "        while left_pointer <= right_pointer:\n",
    "            left_pointer+=1\n",
    "            #print(left_pointer, right_pointer)\n",
    "            temp_sum = get_sum(left_pointer,right_pointer)\n",
    "            if temp_sum == k:\n",
    "                answer +=1\n",
    "                print(left_pointer, right_pointer)\n",
    "            elif temp_sum < k:\n",
    "                break\n",
    "            \n",
    "    right_pointer += 1"
   ]
  },
  {
   "cell_type": "code",
   "execution_count": 77,
   "id": "8dc6449e",
   "metadata": {},
   "outputs": [
    {
     "data": {
      "text/plain": [
       "3"
      ]
     },
     "execution_count": 77,
     "metadata": {},
     "output_type": "execute_result"
    }
   ],
   "source": [
    "answer"
   ]
  },
  {
   "cell_type": "code",
   "execution_count": null,
   "id": "331bd160",
   "metadata": {},
   "outputs": [],
   "source": [
    "이거 지금 길이 1일떄랑 N보다 클떄 인덱스 나가는 오류있음. 그냥 첨부터하자 ."
   ]
  },
  {
   "cell_type": "code",
   "execution_count": null,
   "id": "f7dc877c",
   "metadata": {},
   "outputs": [],
   "source": [
    "_ , k = list(map(int,input().split()))\n",
    "number = list(map(int,input().split()))\n",
    "\n",
    "left_pointer = 0 \n",
    "right_pointer = 0\n",
    "answer = 0\n",
    "temp_sum = 0 \n",
    "N = len(number)\n",
    "\n",
    "while right_pointer < N:\n",
    "    if temp_sum == k:\n",
    "        answer +=1\n",
    "        if left_pointer < right_pointer:\n",
    "            temp_sum -= number[left_pointer]\n",
    "            left_pointer+=1\n",
    "            \n",
    "            \n",
    "    elif temp_sum >k:\n",
    "        while left_pointer <= right_pointer:\n",
    "            temp_sum -= number[left_pointer]\n",
    "            left_pointer+=1\n",
    "            if temp_sum == k:\n",
    "                answer +=1\n",
    "            elif temp_sum < k:\n",
    "                break\n",
    "    right_pointer += 1\n",
    "    temp_sum += number[right_pointer]"
   ]
  },
  {
   "cell_type": "code",
   "execution_count": 14,
   "id": "d0381d0b",
   "metadata": {},
   "outputs": [
    {
     "name": "stdout",
     "output_type": "stream",
     "text": [
      "5 8\n",
      "1 3 4 4 8\n"
     ]
    }
   ],
   "source": [
    "_ , k = list(map(int,input().split()))\n",
    "number = list(map(int,input().split()))\n",
    "\n",
    "left_pointer = 0 \n",
    "right_pointer = 0\n",
    "answer = 0\n",
    "temp_sum = number[0]\n",
    "N = len(number)"
   ]
  },
  {
   "cell_type": "code",
   "execution_count": null,
   "id": "50ed3a69",
   "metadata": {},
   "outputs": [],
   "source": [
    "5 8\n",
    "\n",
    "1 3 4 4 8"
   ]
  },
  {
   "cell_type": "code",
   "execution_count": null,
   "id": "7b1841e8",
   "metadata": {},
   "outputs": [],
   "source": [
    "6 3 4 1 5"
   ]
  },
  {
   "cell_type": "code",
   "execution_count": null,
   "id": "83664d56",
   "metadata": {},
   "outputs": [],
   "source": [
    "6으로 시작\n",
    "\n",
    "9로 시작 "
   ]
  },
  {
   "cell_type": "code",
   "execution_count": null,
   "id": "3ebc350f",
   "metadata": {},
   "outputs": [],
   "source": [
    "0 9\n",
    "1 4 2 6 8 9 5 4 2 3 1 4 2 3 1 2 3 4"
   ]
  },
  {
   "cell_type": "markdown",
   "id": "3df31561",
   "metadata": {},
   "source": [
    "# 답"
   ]
  },
  {
   "cell_type": "code",
   "execution_count": 22,
   "id": "8483a09d",
   "metadata": {},
   "outputs": [
    {
     "name": "stdout",
     "output_type": "stream",
     "text": [
      "0 9\n",
      "1 4 2 6 8 9 5 4 2 3 1 4 2 3 1 2 3 4\n"
     ]
    }
   ],
   "source": [
    "_ , k = list(map(int,input().split()))\n",
    "number = list(map(int,input().split()))\n",
    "\n",
    "left_pointer = 0 \n",
    "right_pointer = 0\n",
    "answer = 0\n",
    "temp_sum = number[0]\n",
    "N = len(number)"
   ]
  },
  {
   "cell_type": "code",
   "execution_count": 23,
   "id": "1b11be4c",
   "metadata": {},
   "outputs": [
    {
     "name": "stdout",
     "output_type": "stream",
     "text": [
      "0 0\n",
      "1\n",
      "0 1\n",
      "5\n",
      "0 2\n",
      "7\n",
      "0 3\n",
      "13\n",
      "1 3\n",
      "12\n",
      "2 3\n",
      "8\n",
      "2 4\n",
      "16\n",
      "3 4\n",
      "14\n",
      "4 4\n",
      "8\n",
      "4 5\n",
      "17\n",
      "5 5\n",
      "9\n",
      "5 6\n",
      "14\n",
      "6 6\n",
      "5\n",
      "6 7\n",
      "9\n",
      "6 8\n",
      "11\n",
      "7 8\n",
      "6\n",
      "7 9\n",
      "9\n",
      "7 10\n",
      "10\n",
      "8 10\n",
      "6\n",
      "8 11\n",
      "10\n",
      "9 11\n",
      "8\n",
      "9 12\n",
      "10\n",
      "10 12\n",
      "7\n",
      "10 13\n",
      "10\n",
      "11 13\n",
      "9\n",
      "11 14\n",
      "10\n",
      "12 14\n",
      "6\n",
      "12 15\n",
      "8\n",
      "12 16\n",
      "11\n",
      "13 16\n",
      "9\n",
      "13 17\n",
      "13\n",
      "14 17\n",
      "10\n",
      "15 17\n",
      "9\n"
     ]
    }
   ],
   "source": [
    "while right_pointer < N:\n",
    "#     print(left_pointer,right_pointer)\n",
    "#     print(temp_sum)\n",
    "    if temp_sum == k:\n",
    "        answer +=1\n",
    "    \n",
    "#     elif temp_sum < k:\n",
    "#         right_pointer +=1\n",
    "#         temp_sum += number[right_pointer]\n",
    "#         con\n",
    "    elif temp_sum > k:\n",
    "        if left_pointer != right_pointer:\n",
    "            temp_sum -= number[left_pointer]\n",
    "            left_pointer += 1\n",
    "            continue\n",
    "    right_pointer +=1\n",
    "    if right_pointer != N:\n",
    "        temp_sum += number[right_pointer]\n",
    "print(answer)"
   ]
  },
  {
   "cell_type": "code",
   "execution_count": 24,
   "id": "d672fc9d",
   "metadata": {},
   "outputs": [
    {
     "data": {
      "text/plain": [
       "6"
      ]
     },
     "execution_count": 24,
     "metadata": {},
     "output_type": "execute_result"
    }
   ],
   "source": [
    "answer"
   ]
  },
  {
   "cell_type": "code",
   "execution_count": null,
   "id": "3dfeb0c3",
   "metadata": {},
   "outputs": [],
   "source": [
    "1. 한칸 움직일때마다 temp_sum 체크하도록 작성 .\n",
    "같을떄도 \n",
    "왼쪾 옮기도록 (( 대신 right보다 클수는 없음 . ))\n",
    "temp_sum 이 작을떄\n",
    "   라이트 한칸만 움직임.\n",
    "temp_sum 이 클때\n",
    "    왼쪽 하나움직임. ( 대신 right보다 클수는 없음 . )"
   ]
  },
  {
   "cell_type": "markdown",
   "id": "875a97de",
   "metadata": {},
   "source": [
    "## 투포인터 이번엔 연속 x"
   ]
  },
  {
   "cell_type": "code",
   "execution_count": 1,
   "id": "14959bdd",
   "metadata": {},
   "outputs": [
    {
     "ename": "SyntaxError",
     "evalue": "invalid syntax (1856704995.py, line 1)",
     "output_type": "error",
     "traceback": [
      "\u001b[0;36m  Input \u001b[0;32mIn [1]\u001b[0;36m\u001b[0m\n\u001b[0;31m    5 8\u001b[0m\n\u001b[0m      ^\u001b[0m\n\u001b[0;31mSyntaxError\u001b[0m\u001b[0;31m:\u001b[0m invalid syntax\n"
     ]
    }
   ],
   "source": [
    "5 8\n",
    "1 3 5 7 8"
   ]
  },
  {
   "cell_type": "code",
   "execution_count": null,
   "id": "654bc378",
   "metadata": {},
   "outputs": [],
   "source": [
    "_ , k = list(map(int,input().split()))\n",
    "numbers = list(map(int,input().split()))\n",
    "numbers = sorted(numbers)\n",
    "left = 0\n",
    "right = len(numbers) -1 \n",
    "count = 0\n",
    "while left != right:\n",
    "    sum_ = numbers[left] + numbers[right]\n",
    "    if sum_ == k:\n",
    "        count += 1 \n",
    "    \n",
    "    if sum_ <= k:\n",
    "        left +=1 \n",
    "    \n",
    "    elif sum_ > k: \n",
    "        right -= 1\n",
    "        "
   ]
  },
  {
   "cell_type": "code",
   "execution_count": 4,
   "id": "b17f23eb",
   "metadata": {},
   "outputs": [
    {
     "name": "stdout",
     "output_type": "stream",
     "text": [
      "1 3 5 7 8\n"
     ]
    }
   ],
   "source": [
    "numbers = list(map(int,input().split()))\n",
    "numbers = sorted(numbers)"
   ]
  },
  {
   "cell_type": "code",
   "execution_count": 7,
   "id": "e0e98723",
   "metadata": {},
   "outputs": [],
   "source": [
    "left = 0\n",
    "right = len(numbers) -1 "
   ]
  },
  {
   "cell_type": "code",
   "execution_count": 8,
   "id": "1c9b5cc9",
   "metadata": {},
   "outputs": [],
   "source": [
    "count = 0\n",
    "while left != right:\n",
    "    sum_ = numbers[left] + numbers[right]\n",
    "    if sum_ == k:\n",
    "        count += 1 \n",
    "    \n",
    "    if sum_ <= k:\n",
    "        left +=1 \n",
    "    \n",
    "    elif sum_ > k: \n",
    "        right -= 1\n",
    "        "
   ]
  },
  {
   "cell_type": "code",
   "execution_count": 9,
   "id": "9d51c164",
   "metadata": {},
   "outputs": [
    {
     "data": {
      "text/plain": [
       "2"
      ]
     },
     "execution_count": 9,
     "metadata": {},
     "output_type": "execute_result"
    }
   ],
   "source": [
    "count"
   ]
  },
  {
   "cell_type": "code",
   "execution_count": null,
   "id": "13e16c12",
   "metadata": {},
   "outputs": [],
   "source": []
  }
 ],
 "metadata": {
  "kernelspec": {
   "display_name": "Python 3 (ipykernel)",
   "language": "python",
   "name": "python3"
  },
  "language_info": {
   "codemirror_mode": {
    "name": "ipython",
    "version": 3
   },
   "file_extension": ".py",
   "mimetype": "text/x-python",
   "name": "python",
   "nbconvert_exporter": "python",
   "pygments_lexer": "ipython3",
   "version": "3.8.13"
  }
 },
 "nbformat": 4,
 "nbformat_minor": 5
}
