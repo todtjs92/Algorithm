{
 "cells": [
  {
   "cell_type": "code",
   "execution_count": 69,
   "id": "b70505cd",
   "metadata": {},
   "outputs": [],
   "source": [
    "orders =[\"ABCFG\", \"AC\", \"CDE\", \"ACDE\", \"BCFG\", \"ACDEH\"]"
   ]
  },
  {
   "cell_type": "code",
   "execution_count": 70,
   "id": "e18057fe",
   "metadata": {},
   "outputs": [],
   "source": [
    "courses = [2,3,4]"
   ]
  },
  {
   "cell_type": "code",
   "execution_count": 8,
   "id": "19c93ae2",
   "metadata": {},
   "outputs": [],
   "source": [
    "orders  = [\"ABCDE\", \"AB\", \"CD\", \"ADE\", \"XYZ\", \"XYZ\", \"ACD\"]"
   ]
  },
  {
   "cell_type": "code",
   "execution_count": 9,
   "id": "1c596507",
   "metadata": {},
   "outputs": [],
   "source": [
    "courses = [2,3,5]"
   ]
  },
  {
   "cell_type": "code",
   "execution_count": 76,
   "id": "e1b41f78",
   "metadata": {},
   "outputs": [],
   "source": [
    "orders = [\"XYZ\", \"XWY\", \"WXA\"]\n",
    "courses = [2,3,4]"
   ]
  },
  {
   "cell_type": "code",
   "execution_count": null,
   "id": "a4c4086a",
   "metadata": {},
   "outputs": [],
   "source": [
    "from collections import Counter\n",
    "from itertools import combinations"
   ]
  },
  {
   "cell_type": "code",
   "execution_count": 77,
   "id": "166f90a4",
   "metadata": {},
   "outputs": [],
   "source": [
    "from collections import Counter"
   ]
  },
  {
   "cell_type": "code",
   "execution_count": 78,
   "id": "6f542440",
   "metadata": {},
   "outputs": [],
   "source": [
    "from itertools import combinations"
   ]
  },
  {
   "cell_type": "code",
   "execution_count": 79,
   "id": "e50f08aa",
   "metadata": {},
   "outputs": [],
   "source": [
    "courses = courses[::-1]"
   ]
  },
  {
   "cell_type": "code",
   "execution_count": 81,
   "id": "378f945f",
   "metadata": {},
   "outputs": [],
   "source": [
    "result= []\n",
    "for course in courses:\n",
    "    order_combination = []\n",
    "    for order in orders:\n",
    "        if len(order) < course:\n",
    "            continue\n",
    "        \n",
    "        temp = list(combinations(sorted(order),course))\n",
    "        order_combination += temp\n",
    "    counting = Counter(order_combination) \n",
    "        \n",
    "    if len(counting) == 0:\n",
    "        continue\n",
    "    max_ = max(counting.values())\n",
    "    if max_ <= 1 :\n",
    "        continue\n",
    "    for k in counting.keys():\n",
    "        if counting[k] == max_:\n",
    "            string = \"\".join(k)\n",
    "            result.append(string)\n",
    "    \n",
    "    result =sorted(result)\n",
    "    \n",
    "        \n",
    "    \n",
    "    \n",
    "            \n",
    "            \n",
    "            "
   ]
  },
  {
   "cell_type": "code",
   "execution_count": 82,
   "id": "fa4ddc48",
   "metadata": {},
   "outputs": [
    {
     "data": {
      "text/plain": [
       "['WX', 'XY']"
      ]
     },
     "execution_count": 82,
     "metadata": {},
     "output_type": "execute_result"
    }
   ],
   "source": [
    "result"
   ]
  },
  {
   "cell_type": "code",
   "execution_count": null,
   "id": "6be8b6a3",
   "metadata": {},
   "outputs": [],
   "source": []
  },
  {
   "cell_type": "code",
   "execution_count": 57,
   "id": "46426f5c",
   "metadata": {},
   "outputs": [
    {
     "data": {
      "text/plain": [
       "dict_keys([('A', 'B'), ('A', 'C'), ('A', 'D'), ('A', 'E'), ('B', 'C'), ('B', 'D'), ('B', 'E'), ('C', 'D'), ('C', 'E'), ('D', 'E'), ('X', 'Y'), ('X', 'Z'), ('Y', 'Z')])"
      ]
     },
     "execution_count": 57,
     "metadata": {},
     "output_type": "execute_result"
    }
   ],
   "source": [
    "counting.keys()"
   ]
  },
  {
   "cell_type": "code",
   "execution_count": 54,
   "id": "afd43117",
   "metadata": {},
   "outputs": [
    {
     "data": {
      "text/plain": [
       "dict_values([2, 2, 3, 2, 1, 1, 1, 3, 1, 2, 2, 2, 2])"
      ]
     },
     "execution_count": 54,
     "metadata": {},
     "output_type": "execute_result"
    }
   ],
   "source": [
    "max(counting.values())"
   ]
  },
  {
   "cell_type": "code",
   "execution_count": 55,
   "id": "d5516ecb",
   "metadata": {},
   "outputs": [
    {
     "data": {
      "text/plain": [
       "Counter({('A', 'B'): 2,\n",
       "         ('A', 'C'): 2,\n",
       "         ('A', 'D'): 3,\n",
       "         ('A', 'E'): 2,\n",
       "         ('B', 'C'): 1,\n",
       "         ('B', 'D'): 1,\n",
       "         ('B', 'E'): 1,\n",
       "         ('C', 'D'): 3,\n",
       "         ('C', 'E'): 1,\n",
       "         ('D', 'E'): 2,\n",
       "         ('X', 'Y'): 2,\n",
       "         ('X', 'Z'): 2,\n",
       "         ('Y', 'Z'): 2})"
      ]
     },
     "execution_count": 55,
     "metadata": {},
     "output_type": "execute_result"
    }
   ],
   "source": [
    "counting"
   ]
  },
  {
   "cell_type": "code",
   "execution_count": 52,
   "id": "b7da988e",
   "metadata": {},
   "outputs": [
    {
     "data": {
      "text/plain": [
       "('Y', 'Z')"
      ]
     },
     "execution_count": 52,
     "metadata": {},
     "output_type": "execute_result"
    }
   ],
   "source": [
    "max(counting)"
   ]
  },
  {
   "cell_type": "code",
   "execution_count": 49,
   "id": "ab9c6b1d",
   "metadata": {},
   "outputs": [
    {
     "data": {
      "text/plain": [
       "[('A', 'B'),\n",
       " ('A', 'C'),\n",
       " ('A', 'D'),\n",
       " ('A', 'E'),\n",
       " ('B', 'C'),\n",
       " ('B', 'D'),\n",
       " ('B', 'E'),\n",
       " ('C', 'D'),\n",
       " ('C', 'E'),\n",
       " ('D', 'E'),\n",
       " ('A', 'B'),\n",
       " ('C', 'D'),\n",
       " ('A', 'D'),\n",
       " ('A', 'E'),\n",
       " ('D', 'E'),\n",
       " ('X', 'Y'),\n",
       " ('X', 'Z'),\n",
       " ('Y', 'Z'),\n",
       " ('X', 'Y'),\n",
       " ('X', 'Z'),\n",
       " ('Y', 'Z'),\n",
       " ('A', 'C'),\n",
       " ('A', 'D'),\n",
       " ('C', 'D')]"
      ]
     },
     "execution_count": 49,
     "metadata": {},
     "output_type": "execute_result"
    }
   ],
   "source": [
    "order_combination"
   ]
  },
  {
   "cell_type": "code",
   "execution_count": 50,
   "id": "d152fbb0",
   "metadata": {},
   "outputs": [
    {
     "data": {
      "text/plain": [
       "Counter({('A', 'B'): 2,\n",
       "         ('A', 'C'): 2,\n",
       "         ('A', 'D'): 3,\n",
       "         ('A', 'E'): 2,\n",
       "         ('B', 'C'): 1,\n",
       "         ('B', 'D'): 1,\n",
       "         ('B', 'E'): 1,\n",
       "         ('C', 'D'): 3,\n",
       "         ('C', 'E'): 1,\n",
       "         ('D', 'E'): 2,\n",
       "         ('X', 'Y'): 2,\n",
       "         ('X', 'Z'): 2,\n",
       "         ('Y', 'Z'): 2})"
      ]
     },
     "execution_count": 50,
     "metadata": {},
     "output_type": "execute_result"
    }
   ],
   "source": [
    "counting"
   ]
  },
  {
   "cell_type": "code",
   "execution_count": null,
   "id": "8c24362e",
   "metadata": {},
   "outputs": [],
   "source": []
  },
  {
   "cell_type": "code",
   "execution_count": 47,
   "id": "fc1eb17a",
   "metadata": {},
   "outputs": [
    {
     "data": {
      "text/plain": [
       "Counter({('A', 'C'): 1, ('A', 'D'): 1, ('C', 'D'): 1})"
      ]
     },
     "execution_count": 47,
     "metadata": {},
     "output_type": "execute_result"
    }
   ],
   "source": [
    "counting"
   ]
  },
  {
   "cell_type": "code",
   "execution_count": 45,
   "id": "e95fe7dc",
   "metadata": {},
   "outputs": [
    {
     "data": {
      "text/plain": [
       "Counter({('A', 'C'): 1, ('A', 'D'): 1, ('C', 'D'): 1})"
      ]
     },
     "execution_count": 45,
     "metadata": {},
     "output_type": "execute_result"
    }
   ],
   "source": [
    "Counter(coure_list)"
   ]
  },
  {
   "cell_type": "code",
   "execution_count": 40,
   "id": "48f115f0",
   "metadata": {},
   "outputs": [
    {
     "data": {
      "text/plain": [
       "{('A', 'C'): 1, ('A', 'D'): 1, ('C', 'D'): 1}"
      ]
     },
     "execution_count": 40,
     "metadata": {},
     "output_type": "execute_result"
    }
   ],
   "source": [
    "coure_dict"
   ]
  },
  {
   "cell_type": "code",
   "execution_count": null,
   "id": "97fb820f",
   "metadata": {},
   "outputs": [],
   "source": []
  },
  {
   "cell_type": "code",
   "execution_count": null,
   "id": "f4146512",
   "metadata": {},
   "outputs": [],
   "source": []
  },
  {
   "cell_type": "code",
   "execution_count": 33,
   "id": "6c49d733",
   "metadata": {},
   "outputs": [
    {
     "data": {
      "text/plain": [
       "[('A', 'B'),\n",
       " ('A', 'C'),\n",
       " ('A', 'D'),\n",
       " ('A', 'E'),\n",
       " ('B', 'C'),\n",
       " ('B', 'D'),\n",
       " ('B', 'E'),\n",
       " ('C', 'D'),\n",
       " ('C', 'E'),\n",
       " ('D', 'E')]"
      ]
     },
     "execution_count": 33,
     "metadata": {},
     "output_type": "execute_result"
    }
   ],
   "source": [
    "coure_list[0]"
   ]
  },
  {
   "cell_type": "code",
   "execution_count": 34,
   "id": "9f63a044",
   "metadata": {},
   "outputs": [
    {
     "data": {
      "text/plain": [
       "[('A', 'B')]"
      ]
     },
     "execution_count": 34,
     "metadata": {},
     "output_type": "execute_result"
    }
   ],
   "source": [
    "coure_list[1]"
   ]
  },
  {
   "cell_type": "code",
   "execution_count": 32,
   "id": "fb5773d8",
   "metadata": {},
   "outputs": [
    {
     "data": {
      "text/plain": [
       "[[('A', 'B'),\n",
       "  ('A', 'C'),\n",
       "  ('A', 'D'),\n",
       "  ('A', 'E'),\n",
       "  ('B', 'C'),\n",
       "  ('B', 'D'),\n",
       "  ('B', 'E'),\n",
       "  ('C', 'D'),\n",
       "  ('C', 'E'),\n",
       "  ('D', 'E')],\n",
       " [('A', 'B')],\n",
       " [('C', 'D')],\n",
       " [('A', 'D'), ('A', 'E'), ('D', 'E')],\n",
       " [('X', 'Y'), ('X', 'Z'), ('Y', 'Z')],\n",
       " [('X', 'Y'), ('X', 'Z'), ('Y', 'Z')],\n",
       " [('A', 'C'), ('A', 'D'), ('C', 'D')]]"
      ]
     },
     "execution_count": 32,
     "metadata": {},
     "output_type": "execute_result"
    }
   ],
   "source": [
    "`a\n",
    "coure_"
   ]
  },
  {
   "cell_type": "code",
   "execution_count": 35,
   "id": "861c82f8",
   "metadata": {},
   "outputs": [
    {
     "data": {
      "text/plain": [
       "Counter({('A', 'B'): 1,\n",
       "         ('A', 'C'): 1,\n",
       "         ('A', 'D'): 1,\n",
       "         ('A', 'E'): 1,\n",
       "         ('B', 'C'): 1,\n",
       "         ('B', 'D'): 1,\n",
       "         ('B', 'E'): 1,\n",
       "         ('C', 'D'): 1,\n",
       "         ('C', 'E'): 1,\n",
       "         ('D', 'E'): 1})"
      ]
     },
     "execution_count": 35,
     "metadata": {},
     "output_type": "execute_result"
    }
   ],
   "source": [
    "Counter(coure_list[0])"
   ]
  },
  {
   "cell_type": "code",
   "execution_count": null,
   "id": "4354ebc2",
   "metadata": {},
   "outputs": [],
   "source": [
    "Counter(coure_list[0]).update()"
   ]
  },
  {
   "cell_type": "code",
   "execution_count": 26,
   "id": "8f2aa59c",
   "metadata": {},
   "outputs": [
    {
     "data": {
      "text/plain": [
       "[[('A', 'B', 'C', 'D', 'E')]]"
      ]
     },
     "execution_count": 26,
     "metadata": {},
     "output_type": "execute_result"
    }
   ],
   "source": [
    "coure_list"
   ]
  },
  {
   "cell_type": "code",
   "execution_count": null,
   "id": "d4c0c005",
   "metadata": {},
   "outputs": [],
   "source": []
  },
  {
   "cell_type": "code",
   "execution_count": null,
   "id": "86831d12",
   "metadata": {},
   "outputs": [],
   "source": []
  }
 ],
 "metadata": {
  "kernelspec": {
   "display_name": "Python 3 (ipykernel)",
   "language": "python",
   "name": "python3"
  },
  "language_info": {
   "codemirror_mode": {
    "name": "ipython",
    "version": 3
   },
   "file_extension": ".py",
   "mimetype": "text/x-python",
   "name": "python",
   "nbconvert_exporter": "python",
   "pygments_lexer": "ipython3",
   "version": "3.8.13"
  }
 },
 "nbformat": 4,
 "nbformat_minor": 5
}
