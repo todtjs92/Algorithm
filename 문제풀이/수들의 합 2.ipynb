{
 "cells": [
  {
   "cell_type": "code",
   "execution_count": null,
   "id": "76d9f97d",
   "metadata": {},
   "outputs": [],
   "source": [
    "10 5\n",
    "1 2 3 4 2 5 3 1 1 2"
   ]
  },
  {
   "cell_type": "code",
   "execution_count": 1,
   "id": "bf6334f1",
   "metadata": {},
   "outputs": [],
   "source": [
    "# 10이되면 자동체크\n",
    "# 10보다 클떄까지 오른쪽 포인터 이동 \n",
    "# 크면 10보다 작아질떄까지 왼쪽포인터 이동 \n",
    "# 마지막 처리 작을떄 클떄 같을떄\n",
    "1 2 3 4 2 5 3 1 1 2 3 \n",
    "1 2 3 4 2 5 3 1 1 2 5 \n",
    "1 2 3 4 2 5 3 1 1 2 1\n",
    "# 길이 짧을떄 \n",
    "1 1 \n",
    "4 6\n",
    "4 8\n",
    "10\n",
    "# 마지막 도달 = 왼쪽 포인터 그냥끝까지오게하면 될듯. 둘다 0되면 "
   ]
  },
  {
   "cell_type": "code",
   "execution_count": 2,
   "id": "08581252",
   "metadata": {},
   "outputs": [
    {
     "name": "stdout",
     "output_type": "stream",
     "text": [
      "10 5\n"
     ]
    }
   ],
   "source": [
    "length , k = list(map(int,input().split()))"
   ]
  },
  {
   "cell_type": "code",
   "execution_count": 3,
   "id": "a4f73582",
   "metadata": {},
   "outputs": [],
   "source": [
    "left_pointer = 0\n",
    "right_pointer = 0"
   ]
  },
  {
   "cell_type": "code",
   "execution_count": 4,
   "id": "5ecf51fa",
   "metadata": {},
   "outputs": [
    {
     "name": "stdout",
     "output_type": "stream",
     "text": [
      "1 2 3 4 2 5 3 1 1 2 3 \n"
     ]
    }
   ],
   "source": [
    "numbers = list(map(int,input().split()))"
   ]
  },
  {
   "cell_type": "code",
   "execution_count": 5,
   "id": "8c689d8f",
   "metadata": {},
   "outputs": [
    {
     "data": {
      "text/plain": [
       "[1, 2, 3, 4, 2, 5, 3, 1, 1, 2, 3]"
      ]
     },
     "execution_count": 5,
     "metadata": {},
     "output_type": "execute_result"
    }
   ],
   "source": [
    "numbers"
   ]
  },
  {
   "cell_type": "code",
   "execution_count": 6,
   "id": "4096c6f0",
   "metadata": {},
   "outputs": [
    {
     "data": {
      "text/plain": [
       "[1, 2, 3, 4, 2, 5, 3, 1, 1, 2, 3]"
      ]
     },
     "execution_count": 6,
     "metadata": {},
     "output_type": "execute_result"
    }
   ],
   "source": [
    "numbers[0:11]"
   ]
  },
  {
   "cell_type": "code",
   "execution_count": null,
   "id": "6eec6ca0",
   "metadata": {},
   "outputs": [],
   "source": [
    "length , k = list(map(int,input().split()))"
   ]
  },
  {
   "cell_type": "code",
   "execution_count": null,
   "id": "336b8c6c",
   "metadata": {},
   "outputs": [],
   "source": [
    "numbers = list(map(int,input().split()))"
   ]
  },
  {
   "cell_type": "markdown",
   "id": "45095051",
   "metadata": {},
   "source": [
    "### make 10"
   ]
  },
  {
   "cell_type": "code",
   "execution_count": null,
   "id": "10efcbca",
   "metadata": {},
   "outputs": [],
   "source": [
    "10 5\n",
    "1 2 3 4 2 5 3 1 1 2"
   ]
  },
  {
   "cell_type": "code",
   "execution_count": 23,
   "id": "bb748eff",
   "metadata": {},
   "outputs": [
    {
     "name": "stdout",
     "output_type": "stream",
     "text": [
      "12 1\n",
      "1 1 9 1 2 1 1 1 1 1 3 4\n",
      "8\n"
     ]
    }
   ],
   "source": [
    "length , k = list(map(int,input().split()))\n",
    "numbers = list(map(int,input().split()))\n",
    "result = 0\n",
    "temp_sum =0\n",
    "left_pointer =0\n",
    "right_pointer = 0\n",
    "while left_pointer != length and right_pointer != length :\n",
    "    #print(left_pointer ,right_pointer )\n",
    "    temp_sum = sum(numbers[left_pointer:right_pointer+1])\n",
    "    if temp_sum == k:\n",
    "        result +=1\n",
    "    \n",
    "    if temp_sum <=k :\n",
    "        right_pointer += 1\n",
    "    elif temp_sum > k and left_pointer == right_pointer:\n",
    "        right_pointer += 1\n",
    "    \n",
    "    elif temp_sum > k and left_pointer < right_pointer:\n",
    "        left_pointer +=1\n",
    "print(result)        \n",
    "        \n",
    "    "
   ]
  },
  {
   "cell_type": "markdown",
   "id": "02582d9c",
   "metadata": {},
   "source": [
    "## result"
   ]
  },
  {
   "cell_type": "code",
   "execution_count": null,
   "id": "7657741f",
   "metadata": {},
   "outputs": [],
   "source": []
  },
  {
   "cell_type": "code",
   "execution_count": null,
   "id": "b111807f",
   "metadata": {},
   "outputs": [],
   "source": []
  },
  {
   "cell_type": "code",
   "execution_count": null,
   "id": "9f8ba7ef",
   "metadata": {},
   "outputs": [],
   "source": []
  }
 ],
 "metadata": {
  "kernelspec": {
   "display_name": "Python 3 (ipykernel)",
   "language": "python",
   "name": "python3"
  },
  "language_info": {
   "codemirror_mode": {
    "name": "ipython",
    "version": 3
   },
   "file_extension": ".py",
   "mimetype": "text/x-python",
   "name": "python",
   "nbconvert_exporter": "python",
   "pygments_lexer": "ipython3",
   "version": "3.8.13"
  }
 },
 "nbformat": 4,
 "nbformat_minor": 5
}
