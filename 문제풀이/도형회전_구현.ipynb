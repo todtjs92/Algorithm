{
 "cells": [
  {
   "cell_type": "code",
   "execution_count": 1,
   "id": "3dafccb4",
   "metadata": {},
   "outputs": [],
   "source": [
    "map_ =  [[0 for y in range(3)] for x in range(3)]"
   ]
  },
  {
   "cell_type": "code",
   "execution_count": 4,
   "id": "6e1a59e8",
   "metadata": {},
   "outputs": [],
   "source": [
    "map_[0][2]=3\n",
    "map_[1][1]=2\n",
    "map_[2][2]=8\n"
   ]
  },
  {
   "cell_type": "code",
   "execution_count": 6,
   "id": "5c134547",
   "metadata": {},
   "outputs": [
    {
     "name": "stdout",
     "output_type": "stream",
     "text": [
      "[[0, 0, 3], [0, 2, 0], [0, 0, 8]]\n"
     ]
    }
   ],
   "source": [
    "print(map_)"
   ]
  },
  {
   "cell_type": "code",
   "execution_count": 8,
   "id": "c664aa76",
   "metadata": {},
   "outputs": [],
   "source": [
    "# 시계방향 90도 돌리는 함수  = rotate"
   ]
  },
  {
   "cell_type": "code",
   "execution_count": 9,
   "id": "56278dc9",
   "metadata": {},
   "outputs": [],
   "source": [
    "def rotate_90(m):\n",
    "    N = len(m)\n",
    "    ret = [[0] * N for _ in range(N)] # 같은크기의 [[0,0,0],[0,0,0],[0,0,0]] 부터 생성 \n",
    "\n",
    "    for r in range(N):\n",
    "        for c in range(N):\n",
    "            ret[c][N-1-r] = m[r][c] # 걍 그대로 박는 방식이구나 이건 걍 규칙이네\n",
    "    return ret"
   ]
  },
  {
   "cell_type": "code",
   "execution_count": 15,
   "id": "6928be23",
   "metadata": {},
   "outputs": [],
   "source": [
    "def rotate_180(m):\n",
    "    N = len(m)\n",
    "    ret = [[0] * N for _ in range(N)] # 같은크기의 [[0,0,0],[0,0,0],[0,0,0]] 부터 생성 \n",
    "\n",
    "    for r in range(N):\n",
    "        for c in range(N):\n",
    "            ret[N-1-r][N-1-c] = m[r][c] # 걍 그대로 박는 방식이구나 이건 걍 규칙이네\n",
    "    return ret"
   ]
  },
  {
   "cell_type": "code",
   "execution_count": 16,
   "id": "341786e2",
   "metadata": {},
   "outputs": [
    {
     "data": {
      "text/plain": [
       "[[8, 0, 0], [0, 2, 0], [3, 0, 0]]"
      ]
     },
     "execution_count": 16,
     "metadata": {},
     "output_type": "execute_result"
    }
   ],
   "source": [
    "rotate_180(map_)"
   ]
  },
  {
   "cell_type": "code",
   "execution_count": 17,
   "id": "cdee666b",
   "metadata": {},
   "outputs": [
    {
     "data": {
      "text/plain": [
       "[[0, 0, 0], [0, 2, 0], [8, 0, 3]]"
      ]
     },
     "execution_count": 17,
     "metadata": {},
     "output_type": "execute_result"
    }
   ],
   "source": [
    "rotate_90(map_)"
   ]
  },
  {
   "cell_type": "code",
   "execution_count": null,
   "id": "6f9a01ce",
   "metadata": {},
   "outputs": [],
   "source": []
  }
 ],
 "metadata": {
  "kernelspec": {
   "display_name": "Python 3 (ipykernel)",
   "language": "python",
   "name": "python3"
  },
  "language_info": {
   "codemirror_mode": {
    "name": "ipython",
    "version": 3
   },
   "file_extension": ".py",
   "mimetype": "text/x-python",
   "name": "python",
   "nbconvert_exporter": "python",
   "pygments_lexer": "ipython3",
   "version": "3.9.7"
  }
 },
 "nbformat": 4,
 "nbformat_minor": 5
}
