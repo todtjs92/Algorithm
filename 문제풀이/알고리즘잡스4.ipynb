{
 "cells": [
  {
   "cell_type": "markdown",
   "id": "f4447a2c",
   "metadata": {},
   "source": [
    "# stack 간단구현"
   ]
  },
  {
   "cell_type": "code",
   "execution_count": 4,
   "id": "21d5d841",
   "metadata": {},
   "outputs": [],
   "source": [
    "class stack:\n",
    "    def __init__(self,size):\n",
    "        self.stack=[]\n",
    "        self.size = size\n",
    "    def push(self, value):\n",
    "        if len(self.stack) ==  self.size:\n",
    "            print('Overflow')\n",
    "            return \n",
    "        else:\n",
    "            self.stack.append(value)\n",
    "    \n",
    "    def pop(self):\n",
    "        if len(self.stack) == 0:\n",
    "            print('Underflow')\n",
    "            return\n",
    "        else:\n",
    "            self.stack.pop()\n",
    "    \n",
    "    def Top(self):\n",
    "        if len(self.stack) == 0:\n",
    "            print(\"NULL\")\n",
    "            return\n",
    "        else:\n",
    "            print(self.stack[-1])\n",
    "            return\n",
    "            \n",
    "        \n",
    "        \n",
    "        "
   ]
  },
  {
   "cell_type": "code",
   "execution_count": 7,
   "id": "d1f0fe02",
   "metadata": {},
   "outputs": [
    {
     "name": "stdout",
     "output_type": "stream",
     "text": [
      "4 10\n"
     ]
    }
   ],
   "source": [
    "size , N = map(int,input().split())"
   ]
  },
  {
   "cell_type": "code",
   "execution_count": null,
   "id": "27803567",
   "metadata": {},
   "outputs": [],
   "source": [
    "stack_ = stack(size)\n",
    "for _ in range(N):\n",
    "    command = input()\n",
    "    command_li = command.split()\n",
    "    if command_li[0] =='1':\n",
    "        value = int(command_li[1])\n",
    "        stack_.push(value)\n",
    "    \n",
    "    elif command_li[0] =='2':\n",
    "        stack_.pop()\n",
    "    \n",
    "    else:\n",
    "        stack_.Top()"
   ]
  },
  {
   "cell_type": "markdown",
   "id": "60394775",
   "metadata": {},
   "source": [
    "# 괄호"
   ]
  },
  {
   "cell_type": "code",
   "execution_count": 12,
   "id": "79740ce1",
   "metadata": {},
   "outputs": [
    {
     "name": "stdout",
     "output_type": "stream",
     "text": [
      "(())())\n"
     ]
    }
   ],
   "source": [
    "string = input()"
   ]
  },
  {
   "cell_type": "code",
   "execution_count": 29,
   "id": "dea07dba",
   "metadata": {},
   "outputs": [
    {
     "name": "stdout",
     "output_type": "stream",
     "text": [
      "()()((()))\n",
      "[]\n",
      "YES\n"
     ]
    }
   ],
   "source": [
    "def solution():\n",
    "    string = input()\n",
    "    stack  = []\n",
    "    count = 0\n",
    "    \n",
    "    if string[0] == ')' or string[-1] == '(':\n",
    "        print(\"NO\")\n",
    "        return\n",
    "    \n",
    "    for i in string:\n",
    "        if i =='(':\n",
    "            stack.append(i)\n",
    "        else:\n",
    "            try:\n",
    "                stack.pop()\n",
    "            except:\n",
    "                print(\"NO\")\n",
    "                return\n",
    "    if stack  :\n",
    "        print(\"NO\")\n",
    "    else:\n",
    "        print(\"YES\")\n",
    "    \n",
    "    return\n",
    "solution()"
   ]
  },
  {
   "cell_type": "code",
   "execution_count": 20,
   "id": "12680ee9",
   "metadata": {},
   "outputs": [
    {
     "name": "stdout",
     "output_type": "stream",
     "text": [
      "a\n"
     ]
    }
   ],
   "source": [
    "if [3] :\n",
    "    print('a')"
   ]
  },
  {
   "cell_type": "markdown",
   "id": "3d41d664",
   "metadata": {},
   "source": [
    "# 원형큐"
   ]
  },
  {
   "cell_type": "code",
   "execution_count": 30,
   "id": "3c41080f",
   "metadata": {},
   "outputs": [],
   "source": [
    "MAX_QSIZE = 10\n",
    "class CircularQueue:\n",
    "    def __init__(self ,MAX_QSIZE ):\n",
    "        # front , rear pointer\n",
    "        self.front  = 0\n",
    "        self.rear   = 0\n",
    "        self.MAX_QSIZE= MAX_QSIZE\n",
    "        self.items  = [0] * self.MAX_QSIZE\n",
    "        \n",
    "    def isEmpty(self):    \n",
    "        return self.front == self.rear\n",
    "\n",
    "    def  isFull(self):\n",
    "        return self.front == (self.rear+1) % self.MAX_QSIZE\n",
    "    \n",
    "    \n",
    "    def Push(self, item):\n",
    "        if not self.isFull():\n",
    "            self.rear = (self.rear  +1) % self.MAX_QSIZE\n",
    "            self.items[self.rear] = item\n",
    "        else:\n",
    "            print(\"overflow\",end=\"\")\n",
    "            self.display()\n",
    "            raise Exception(\"Overflow\")\n",
    "        \n",
    "    def Front(self):\n",
    "        if not self.isEmpty():\n",
    "            self.front = (self.front+1)% self.MAX_QSIZE\n",
    "            \n",
    "            return self.items[self.front]\n",
    "    \n",
    "    def Pop(self):\n",
    "        if not self.isEmpty():\n",
    "            self.front = (self.front+1)% self.MAX_QSIZE\n",
    "            self.items[self.front] = 0\n",
    "        else:\n",
    "            print(\"underflow\",end=\"\")\n",
    "            raise Exception(\"Underflow\")\n",
    "                 "
   ]
  },
  {
   "cell_type": "code",
   "execution_count": 44,
   "id": "fc9ad0e0",
   "metadata": {},
   "outputs": [],
   "source": [
    "q = CircularQueue(4)"
   ]
  },
  {
   "cell_type": "code",
   "execution_count": 45,
   "id": "82bb2bab",
   "metadata": {},
   "outputs": [
    {
     "data": {
      "text/plain": [
       "[0, 0, 0, 0]"
      ]
     },
     "execution_count": 45,
     "metadata": {},
     "output_type": "execute_result"
    }
   ],
   "source": [
    "q.items"
   ]
  },
  {
   "cell_type": "code",
   "execution_count": 46,
   "id": "df9231f2",
   "metadata": {},
   "outputs": [
    {
     "data": {
      "text/plain": [
       "[0, 1, 0, 0]"
      ]
     },
     "execution_count": 46,
     "metadata": {},
     "output_type": "execute_result"
    }
   ],
   "source": [
    "q.Push(1)\n",
    "q.items"
   ]
  },
  {
   "cell_type": "code",
   "execution_count": 47,
   "id": "a125d096",
   "metadata": {},
   "outputs": [
    {
     "data": {
      "text/plain": [
       "[0, 1, 2, 0]"
      ]
     },
     "execution_count": 47,
     "metadata": {},
     "output_type": "execute_result"
    }
   ],
   "source": [
    "q.Push(2)\n",
    "q.items"
   ]
  },
  {
   "cell_type": "code",
   "execution_count": 48,
   "id": "853e543a",
   "metadata": {},
   "outputs": [
    {
     "data": {
      "text/plain": [
       "[0, 1, 2, 3]"
      ]
     },
     "execution_count": 48,
     "metadata": {},
     "output_type": "execute_result"
    }
   ],
   "source": [
    "q.Push(3)\n",
    "q.items"
   ]
  },
  {
   "cell_type": "code",
   "execution_count": 49,
   "id": "0cd91912",
   "metadata": {},
   "outputs": [
    {
     "data": {
      "text/plain": [
       "1"
      ]
     },
     "execution_count": 49,
     "metadata": {},
     "output_type": "execute_result"
    }
   ],
   "source": [
    "q.Front()"
   ]
  },
  {
   "cell_type": "code",
   "execution_count": 50,
   "id": "eb7209f2",
   "metadata": {},
   "outputs": [
    {
     "data": {
      "text/plain": [
       "[0, 1, 0, 3]"
      ]
     },
     "execution_count": 50,
     "metadata": {},
     "output_type": "execute_result"
    }
   ],
   "source": [
    "q.Pop()\n",
    "q.items"
   ]
  },
  {
   "cell_type": "code",
   "execution_count": 38,
   "id": "00de6299",
   "metadata": {},
   "outputs": [],
   "source": [
    "q.Pop()"
   ]
  },
  {
   "cell_type": "code",
   "execution_count": 39,
   "id": "a7ab5377",
   "metadata": {},
   "outputs": [],
   "source": [
    "q.Front()"
   ]
  },
  {
   "cell_type": "code",
   "execution_count": 40,
   "id": "435d8b91",
   "metadata": {},
   "outputs": [
    {
     "data": {
      "text/plain": [
       "[0, 1, 0, 0]"
      ]
     },
     "execution_count": 40,
     "metadata": {},
     "output_type": "execute_result"
    }
   ],
   "source": [
    "q.items"
   ]
  },
  {
   "cell_type": "markdown",
   "id": "3604192a",
   "metadata": {},
   "source": [
    "# 접시"
   ]
  },
  {
   "cell_type": "code",
   "execution_count": 67,
   "id": "423ff74c",
   "metadata": {},
   "outputs": [
    {
     "name": "stdout",
     "output_type": "stream",
     "text": [
      "bacd\n"
     ]
    }
   ],
   "source": [
    "dishes = input()\n",
    "push_order =  [ord(x) for x in sorted(dishes)]\n",
    "pop_order = [ord(x) for x in dishes]\n"
   ]
  },
  {
   "cell_type": "code",
   "execution_count": 68,
   "id": "8c4aa1d9",
   "metadata": {},
   "outputs": [
    {
     "data": {
      "text/plain": [
       "[97, 98, 99, 100]"
      ]
     },
     "execution_count": 68,
     "metadata": {},
     "output_type": "execute_result"
    }
   ],
   "source": [
    "push_order"
   ]
  },
  {
   "cell_type": "code",
   "execution_count": 69,
   "id": "2dbc1642",
   "metadata": {},
   "outputs": [
    {
     "data": {
      "text/plain": [
       "[98, 97, 99, 100]"
      ]
     },
     "execution_count": 69,
     "metadata": {},
     "output_type": "execute_result"
    }
   ],
   "source": [
    "pop_order"
   ]
  },
  {
   "cell_type": "code",
   "execution_count": null,
   "id": "deeb9f70",
   "metadata": {},
   "outputs": [],
   "source": [
    "# 1. min 값을 설정해주고  pop_order에 대해 for 문이 도는데 도중에 담값이 더크다면 i i+1 i까지 다빼뻐리고 다음값을 min 으로 바꿔줌\n",
    "# 2. 1이 안되면 안되는거임"
   ]
  },
  {
   "cell_type": "code",
   "execution_count": 71,
   "id": "72d83c39",
   "metadata": {},
   "outputs": [
    {
     "ename": "SyntaxError",
     "evalue": "invalid syntax (13571333.py, line 1)",
     "output_type": "error",
     "traceback": [
      "\u001b[0;36m  File \u001b[0;32m\"/var/folders/kr/z0vkrxjj5bq7lqpnzwpy9s_c0000gn/T/ipykernel_3010/13571333.py\"\u001b[0;36m, line \u001b[0;32m1\u001b[0m\n\u001b[0;31m    for i in range(len(pop_order):\u001b[0m\n\u001b[0m                                 ^\u001b[0m\n\u001b[0;31mSyntaxError\u001b[0m\u001b[0;31m:\u001b[0m invalid syntax\n"
     ]
    }
   ],
   "source": [
    "min_num = min(pop_order)\n",
    "for i in range(len(pop_order)-1):\n",
    "    if pop_order[i]  <= pop_order[i+1]:\n",
    "        \n",
    "    \n",
    "               \n",
    "    "
   ]
  },
  {
   "cell_type": "code",
   "execution_count": null,
   "id": "b98b811a",
   "metadata": {},
   "outputs": [],
   "source": []
  },
  {
   "cell_type": "code",
   "execution_count": 64,
   "id": "e26f0673",
   "metadata": {},
   "outputs": [
    {
     "data": {
      "text/plain": [
       "'A'"
      ]
     },
     "execution_count": 64,
     "metadata": {},
     "output_type": "execute_result"
    }
   ],
   "source": [
    "chr(65)"
   ]
  },
  {
   "cell_type": "code",
   "execution_count": 65,
   "id": "84706a22",
   "metadata": {},
   "outputs": [
    {
     "data": {
      "text/plain": [
       "97"
      ]
     },
     "execution_count": 65,
     "metadata": {},
     "output_type": "execute_result"
    }
   ],
   "source": [
    "ord('a')"
   ]
  },
  {
   "cell_type": "code",
   "execution_count": 66,
   "id": "199564f4",
   "metadata": {},
   "outputs": [
    {
     "data": {
      "text/plain": [
       "98"
      ]
     },
     "execution_count": 66,
     "metadata": {},
     "output_type": "execute_result"
    }
   ],
   "source": [
    "ord('b')"
   ]
  },
  {
   "cell_type": "markdown",
   "id": "537b5b57",
   "metadata": {},
   "source": [
    "# test"
   ]
  },
  {
   "cell_type": "markdown",
   "id": "9f5ed661",
   "metadata": {},
   "source": [
    "# 순열 구하기"
   ]
  },
  {
   "cell_type": "code",
   "execution_count": 1,
   "id": "dd8e0744",
   "metadata": {},
   "outputs": [],
   "source": [
    "import itertools"
   ]
  },
  {
   "cell_type": "code",
   "execution_count": 2,
   "id": "68c74af1",
   "metadata": {},
   "outputs": [
    {
     "name": "stdout",
     "output_type": "stream",
     "text": [
      "4  2\n"
     ]
    }
   ],
   "source": [
    "n,m = list(map(int,input().split()))"
   ]
  },
  {
   "cell_type": "code",
   "execution_count": 9,
   "id": "2ca1e10d",
   "metadata": {},
   "outputs": [],
   "source": [
    "alphabet_list = [ chr(97+x) for x in range(n)]"
   ]
  },
  {
   "cell_type": "code",
   "execution_count": null,
   "id": "249d2779",
   "metadata": {},
   "outputs": [],
   "source": [
    "itertools.permutations"
   ]
  },
  {
   "cell_type": "code",
   "execution_count": 17,
   "id": "32e11c75",
   "metadata": {},
   "outputs": [],
   "source": [
    "result_list = list(itertools.permutations(alphabet_list,m))"
   ]
  },
  {
   "cell_type": "code",
   "execution_count": 20,
   "id": "9ad302a7",
   "metadata": {},
   "outputs": [
    {
     "name": "stdout",
     "output_type": "stream",
     "text": [
      "ab\n",
      "ac\n",
      "ad\n",
      "ba\n",
      "bc\n",
      "bd\n",
      "ca\n",
      "cb\n",
      "cd\n",
      "da\n",
      "db\n",
      "dc\n"
     ]
    }
   ],
   "source": [
    "for i in result_list:\n",
    "    string = ''\n",
    "    for j in range(len(i)):\n",
    "        string+=i[j]\n",
    "    print(string)\n"
   ]
  },
  {
   "cell_type": "markdown",
   "id": "99ecbb1e",
   "metadata": {},
   "source": [
    "# division"
   ]
  },
  {
   "cell_type": "code",
   "execution_count": 21,
   "id": "ca06bc3b",
   "metadata": {},
   "outputs": [
    {
     "name": "stdout",
     "output_type": "stream",
     "text": [
      "5\n"
     ]
    }
   ],
   "source": [
    "N = int(input())"
   ]
  },
  {
   "cell_type": "code",
   "execution_count": 22,
   "id": "fd0c8c34",
   "metadata": {},
   "outputs": [],
   "source": [
    "result = [0 for _ in range(30)]\n",
    "count = 0"
   ]
  },
  {
   "cell_type": "code",
   "execution_count": 26,
   "id": "ecb53271",
   "metadata": {},
   "outputs": [],
   "source": [
    "def recursive(cum_sum ,index):\n",
    "    if cum_sum == N:\n",
    "        for i in range(index):\n",
    "            if i <= index-2:\n",
    "                print(result[i],end ='+')\n",
    "            else:\n",
    "                print(result[i], end = '')\n",
    "        print('')\n",
    "        global count\n",
    "        count +=1\n",
    "    else:\n",
    "        max_ = 0\n",
    "        if index ==0:\n",
    "            max_ = N-1\n",
    "        else:\n",
    "            max_ = N- cum_sum\n",
    "    \n",
    "        for i in range(max_, 0, -1):\n",
    "            result[index] = i\n",
    "            if index > 0 and result[index-1] < result[index]:\n",
    "                continue\n",
    "            \n",
    "            recursive(cum_sum+i, index+1)"
   ]
  },
  {
   "cell_type": "code",
   "execution_count": 27,
   "id": "4a3b599c",
   "metadata": {},
   "outputs": [
    {
     "name": "stdout",
     "output_type": "stream",
     "text": [
      "4+1\n",
      "3+2\n",
      "3+1+1\n",
      "2+2+1\n",
      "2+1+1+1\n",
      "1+1+1+1+1\n",
      "6\n"
     ]
    }
   ],
   "source": [
    "recursive(0, 0)\n",
    "print(count)"
   ]
  },
  {
   "cell_type": "markdown",
   "id": "e312a86b",
   "metadata": {},
   "source": [
    "# 접시"
   ]
  },
  {
   "cell_type": "code",
   "execution_count": 104,
   "id": "46dbb6e7",
   "metadata": {},
   "outputs": [],
   "source": [
    "# 넣을때는 순서대로 들어가야됨"
   ]
  },
  {
   "cell_type": "code",
   "execution_count": 119,
   "id": "adfe4af9",
   "metadata": {},
   "outputs": [],
   "source": [
    "string = 'cbad'\n",
    "string_sort = sorted(string)\n",
    "result_list =[]"
   ]
  },
  {
   "cell_type": "markdown",
   "id": "6b5ff68e",
   "metadata": {},
   "source": [
    "# agd 반례,  중간부분 틀림"
   ]
  },
  {
   "cell_type": "markdown",
   "id": "c556368d",
   "metadata": {},
   "source": [
    "# 80"
   ]
  },
  {
   "cell_type": "code",
   "execution_count": null,
   "id": "39193493",
   "metadata": {},
   "outputs": [],
   "source": [
    "string = input()\n",
    "string_sort = sorted(string)\n",
    "result_list =[]\n",
    "while string:\n",
    "    if len(string)==1:\n",
    "        result_list.append('push')\n",
    "        result_list.append('pop')\n",
    "        break\n",
    "    \n",
    "    temp = ''\n",
    "    min_  = string_sort[0]\n",
    "    \n",
    "    for i in range(len(string)):\n",
    "        if i == len(string)-1:\n",
    "            temp+=string[i]\n",
    "            continue\n",
    "            \n",
    "        if string[i] > string[i+1]:\n",
    "            temp+= string[i]\n",
    "        else:\n",
    "            if string[i] == min_:\n",
    "                temp+=string[i]\n",
    "                break\n",
    "            else:\n",
    "                print('impossible')\n",
    "                string=''\n",
    "                result_list=[]\n",
    "                break\n",
    " \n",
    "    temp_len = len(temp)\n",
    "    for i in range(temp_len):\n",
    "        result_list.append('push')\n",
    "    for i in range(temp_len):\n",
    "        result_list.append('pop')\n",
    "    \n",
    "    string_sort= string_sort[temp_len:]\n",
    "    string = string[temp_len:]\n",
    "\n",
    "answer = '\\n'.join(result_list)\n",
    "print(answer)\n",
    "            \n",
    "        \n",
    "    "
   ]
  },
  {
   "cell_type": "markdown",
   "id": "5e242433",
   "metadata": {},
   "source": [
    "# 90"
   ]
  },
  {
   "cell_type": "code",
   "execution_count": 136,
   "id": "2e80ff42",
   "metadata": {},
   "outputs": [
    {
     "name": "stdout",
     "output_type": "stream",
     "text": [
      "afcb\n",
      "push\n",
      "pop\n",
      "push\n",
      "push\n",
      "push\n",
      "pop\n",
      "pop\n",
      "pop\n"
     ]
    }
   ],
   "source": [
    "string = input()\n",
    "string_sort = sorted(string)\n",
    "result_list =[]\n",
    "while string:\n",
    "    \n",
    "    if len(string)==1:\n",
    "        result_list.append('push')\n",
    "        result_list.append('pop')\n",
    "        break\n",
    "    \n",
    "    temp = ''\n",
    "    min_  = string_sort[0]\n",
    "    #  min  = d  ,gd\n",
    "    for i in range(len(string)):\n",
    "        if i == (len(string)-1):\n",
    "            if string[i] != min_:\n",
    "                print('impossible')\n",
    "                string=''\n",
    "                result_list=[]\n",
    "                temp=''\n",
    "                break\n",
    "            else:\n",
    "                temp+=string[i]\n",
    "                continue\n",
    "        else:\n",
    "            if string[i] > string[i+1]:\n",
    "                temp+= string[i]\n",
    "            else:\n",
    "                if string[i] == min_:\n",
    "                    temp+=string[i]\n",
    "                    break\n",
    "                else:\n",
    "                    print('impossible')\n",
    "                    string=''\n",
    "                    result_list=[]\n",
    "                    break\n",
    "    \n",
    "    temp_len = len(temp)\n",
    "    for i in range(temp_len):\n",
    "        result_list.append('push')\n",
    "    for i in range(temp_len):\n",
    "        result_list.append('pop')\n",
    "    \n",
    "    string_sort= string_sort[temp_len:]\n",
    "    string = string[temp_len:]\n",
    "\n",
    "answer = '\\n'.join(result_list)\n",
    "print(answer)\n",
    "            "
   ]
  },
  {
   "cell_type": "code",
   "execution_count": null,
   "id": "7303232e",
   "metadata": {},
   "outputs": [],
   "source": []
  },
  {
   "cell_type": "markdown",
   "id": "240b6152",
   "metadata": {},
   "source": [
    "# 괄호의 값"
   ]
  },
  {
   "cell_type": "code",
   "execution_count": 118,
   "id": "8fa178da",
   "metadata": {},
   "outputs": [],
   "source": [
    "# 1. 옳바른 괄호의 값기준으로 나눔\n",
    "\n",
    "# 2. 기준별로 점수 걍 더하면 긑"
   ]
  },
  {
   "cell_type": "code",
   "execution_count": null,
   "id": "f518ebf3",
   "metadata": {},
   "outputs": [],
   "source": [
    "(()[[]])([])"
   ]
  },
  {
   "cell_type": "code",
   "execution_count": null,
   "id": "b903b049",
   "metadata": {},
   "outputs": [],
   "source": []
  },
  {
   "cell_type": "code",
   "execution_count": null,
   "id": "e863b3cd",
   "metadata": {},
   "outputs": [],
   "source": [
    "# 1. def recursive (곱할점수 ,string)\n",
    "# 2. []  나 ()  만나면 return\n",
    "# 3. 만약 남는 괄호가 있을 경우 아웃  , check  = 0 이런식으로"
   ]
  },
  {
   "cell_type": "code",
   "execution_count": 137,
   "id": "fb9b36eb",
   "metadata": {},
   "outputs": [],
   "source": [
    "multiply =1\n",
    "string ='(()[[]])([])'"
   ]
  },
  {
   "cell_type": "code",
   "execution_count": null,
   "id": "2e30281b",
   "metadata": {},
   "outputs": [],
   "source": [
    "while string:\n",
    "    recursive(multiply,string)\n",
    "    "
   ]
  },
  {
   "cell_type": "code",
   "execution_count": null,
   "id": "3aa94658",
   "metadata": {},
   "outputs": [],
   "source": [
    "def recursive(multiply,string):\n",
    "    if string =='[]':\n",
    "        value  = 3\n",
    "        return\n",
    "    elif string == '()':\n",
    "        value  = 2\n",
    "        return\n",
    "    \n",
    "    stack = []\n",
    "    \n",
    "    start = string[0]\n",
    "    \n",
    "    for i in string:\n",
    "        if i == '(':\n",
    "            stack.append(i)\n",
    "            \n",
    "        elif i == '[':\n",
    "            stack.append(i)\n",
    "        \n",
    "        elif i == ')':\n",
    "            if len(stack) ==0:\n",
    "                print(0)\n",
    "                return \n",
    "            else:\n",
    "                stack.pop()\n",
    "                \n",
    "        elif i  ==  ']':\n",
    "            if  len(stack)==0:\n",
    "                print(0)\n",
    "                return\n",
    "            else:\n",
    "                stack.pop()\n",
    "    if stack:\n",
    "        if start  == '(':\n",
    "            multiply= multiply*2\n",
    "            recursive(multiply,string)\n",
    "        elif start == '[':\n",
    "            multiply = multiply*3\n",
    "            recursive(multiply,string)\n",
    "        \n",
    "                \n",
    "        \n",
    "        "
   ]
  }
 ],
 "metadata": {
  "kernelspec": {
   "display_name": "Python 3 (ipykernel)",
   "language": "python",
   "name": "python3"
  },
  "language_info": {
   "codemirror_mode": {
    "name": "ipython",
    "version": 3
   },
   "file_extension": ".py",
   "mimetype": "text/x-python",
   "name": "python",
   "nbconvert_exporter": "python",
   "pygments_lexer": "ipython3",
   "version": "3.9.7"
  }
 },
 "nbformat": 4,
 "nbformat_minor": 5
}
