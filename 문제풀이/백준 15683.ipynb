{
 "cells": [
  {
   "cell_type": "code",
   "execution_count": null,
   "id": "b53bb2cb",
   "metadata": {},
   "outputs": [],
   "source": [
    "## 아니네 모든 경우 다 재줘야하네\n",
    "## 카메라랑 , 벽 빼줘야함\n",
    "## 겹쳐있는거 태케로 만들어주면 좋음"
   ]
  },
  {
   "cell_type": "code",
   "execution_count": 7,
   "id": "cc03889a",
   "metadata": {},
   "outputs": [
    {
     "ename": "SyntaxError",
     "evalue": "invalid syntax (3849059855.py, line 1)",
     "output_type": "error",
     "traceback": [
      "\u001b[0;36m  Input \u001b[0;32mIn [7]\u001b[0;36m\u001b[0m\n\u001b[0;31m    4 6\u001b[0m\n\u001b[0m      ^\u001b[0m\n\u001b[0;31mSyntaxError\u001b[0m\u001b[0;31m:\u001b[0m invalid syntax\n"
     ]
    }
   ],
   "source": [
    "6 6\n",
    "0 0 0 0 0 0\n",
    "0 2 0 0 0 0\n",
    "0 0 0 0 6 0\n",
    "0 6 0 0 2 0\n",
    "0 0 0 0 0 0\n",
    "0 0 0 0 0 5"
   ]
  },
  {
   "cell_type": "code",
   "execution_count": 147,
   "id": "18e604b4",
   "metadata": {},
   "outputs": [],
   "source": [
    "def cctv_1(i,j,direction):\n",
    "    if direction == 0:\n",
    "        direction0(i,j)\n",
    "    elif direction == 1:\n",
    "        direction1(i,j)\n",
    "    elif direction == 2:\n",
    "        direction2(i,j)\n",
    "    elif direction == 3:\n",
    "        direction3(i,j)\n",
    "    \n",
    "def cctv_2(i,j,direction):\n",
    "    if direction == 0:\n",
    "        direction0(i,j)\n",
    "        direction2(i,j)\n",
    "    elif direction == 1:\n",
    "        direction1(i,j)\n",
    "        direction3(i,j)\n",
    "    elif direction == 2:\n",
    "        direction0(i,j)\n",
    "        direction2(i,j)\n",
    "    elif direction == 3:\n",
    "        direction1(i,j)\n",
    "        direction3(i,j) \n",
    "def cctv_3(i,j,direction):\n",
    "    if direction == 0:\n",
    "        direction0(i,j)\n",
    "        direction1(i,j)\n",
    "    elif direction == 1:\n",
    "        direction1(i,j)\n",
    "        direction2(i,j)\n",
    "    elif direction == 2:\n",
    "        direction2(i,j)\n",
    "        direction3(i,j)\n",
    "    elif direction == 3:\n",
    "        direction3(i,j)\n",
    "        direction0(i,j)\n",
    "def cctv_4(i,j,direction):\n",
    "    if direction == 0:\n",
    "        direction0(i,j)\n",
    "        direction1(i,j)\n",
    "        direction2(i,j)\n",
    "    elif direction == 1:\n",
    "        direction1(i,j)\n",
    "        direction2(i,j)\n",
    "        direction3(i,j)\n",
    "    elif direction == 2:\n",
    "        direction0(i,j)\n",
    "        direction2(i,j)\n",
    "        direction3(i,j)\n",
    "    elif direction == 3:\n",
    "        direction0(i,j)\n",
    "        direction1(i,j)\n",
    "        direction3(i,j)\n",
    "def direction0(i,j):\n",
    "    for jj in range(j+1,sero):\n",
    "        if map_copy[i][jj] == 0 or map_copy[i][jj] == '#' :\n",
    "            map_copy[i][jj] = '#'\n",
    "        else:\n",
    "            return\n",
    "def direction1(i,j):\n",
    "    for ii in range(i+1,garo):\n",
    "        if map_copy[ii][j] == 0 or map_copy[ii][j] == '#':\n",
    "            map_copy[ii][j] = '#'\n",
    "        else:\n",
    "            return\n",
    "def direction2(i,j):\n",
    "    for jj in range(j-1,-1,-1):\n",
    "        if map_copy[i][jj] == 0 or map_copy[i][jj] == '#' :\n",
    "            map_copy[i][jj] = '#'\n",
    "        else:\n",
    "            return\n",
    "def direction3(i,j):\n",
    "    for ii in range(i-1,-1,-1):\n",
    "        if map_copy[ii][j] == 0 or map_copy[ii][j] == '#':\n",
    "            map_copy[ii][j] = '#'\n",
    "        else:\n",
    "            return"
   ]
  },
  {
   "cell_type": "code",
   "execution_count": 153,
   "id": "cfb65040",
   "metadata": {},
   "outputs": [],
   "source": [
    "def get_cctv_list(map_):\n",
    "    cctv_list= []\n",
    "    for i in range(garo):\n",
    "        for j in range(sero):\n",
    "            is_cctv = map_[i][j]\n",
    "            if is_cctv == 0 or is_cctv == 6:\n",
    "                continue\n",
    "            else:\n",
    "                cctv_list.append([i,j,is_cctv])\n",
    "    return cctv_list\n",
    "            "
   ]
  },
  {
   "cell_type": "code",
   "execution_count": null,
   "id": "478cfe64",
   "metadata": {},
   "outputs": [],
   "source": [
    "3 7\n",
    "4 0 0 0 0 0 0\n",
    "0 0 0 2 0 0 0\n",
    "0 0 0 0 0 0 4"
   ]
  },
  {
   "cell_type": "code",
   "execution_count": 179,
   "id": "8ea8f360",
   "metadata": {},
   "outputs": [
    {
     "name": "stdout",
     "output_type": "stream",
     "text": [
      "3 7\n"
     ]
    }
   ],
   "source": [
    "garo , sero = list(map(int, input().split(\" \")))"
   ]
  },
  {
   "cell_type": "code",
   "execution_count": 180,
   "id": "30a65f4e",
   "metadata": {},
   "outputs": [
    {
     "name": "stdout",
     "output_type": "stream",
     "text": [
      "4 0 0 0 0 0 0\n",
      "0 0 0 2 0 0 0\n",
      "0 0 0 0 0 0 4\n"
     ]
    }
   ],
   "source": [
    "map_ = []\n",
    "for _ in range(garo):\n",
    "    temp = list(map(int, input().split(\" \")))\n",
    "    map_.append(temp)\n",
    "    "
   ]
  },
  {
   "cell_type": "code",
   "execution_count": 172,
   "id": "37a228a4",
   "metadata": {},
   "outputs": [],
   "source": [
    "#map_ 을 카피해서 넣어줘야겠네 \n",
    "# 방향부터 정해주자 ."
   ]
  },
  {
   "cell_type": "code",
   "execution_count": 181,
   "id": "84aec0cd",
   "metadata": {},
   "outputs": [],
   "source": [
    "import copy "
   ]
  },
  {
   "cell_type": "code",
   "execution_count": 182,
   "id": "4b55750b",
   "metadata": {},
   "outputs": [],
   "source": [
    "from itertools import product"
   ]
  },
  {
   "cell_type": "code",
   "execution_count": 183,
   "id": "bcf76216",
   "metadata": {},
   "outputs": [],
   "source": [
    "cctv_list = get_cctv_list(map_)"
   ]
  },
  {
   "cell_type": "code",
   "execution_count": 184,
   "id": "5bfc3055",
   "metadata": {},
   "outputs": [
    {
     "data": {
      "text/plain": [
       "[[0, 0, 4], [1, 3, 2], [2, 6, 4]]"
      ]
     },
     "execution_count": 184,
     "metadata": {},
     "output_type": "execute_result"
    }
   ],
   "source": [
    "cctv_list"
   ]
  },
  {
   "cell_type": "code",
   "execution_count": 185,
   "id": "17f8c3a3",
   "metadata": {},
   "outputs": [],
   "source": [
    "try_list = list(product([0,1,2,3],repeat= len(cctv_list)))"
   ]
  },
  {
   "cell_type": "code",
   "execution_count": 186,
   "id": "911d9ae7",
   "metadata": {},
   "outputs": [
    {
     "name": "stdout",
     "output_type": "stream",
     "text": [
      "0\n"
     ]
    }
   ],
   "source": [
    "min_ = 100000\n",
    "for try_ in try_list:\n",
    "    map_copy = copy.deepcopy(map_)\n",
    "    \n",
    "    for loc, direction in zip(cctv_list , try_):\n",
    "        i,j ,cctv = loc\n",
    "        if cctv == 1:\n",
    "            cctv_1(i,j,direction)\n",
    "        elif cctv == 2:\n",
    "            cctv_2(i,j,direction)\n",
    "        elif cctv == 3:\n",
    "            cctv_3(i,j,direction)\n",
    "        elif cctv == 4:\n",
    "            cctv_4(i,j,direction)\n",
    "        elif cctv == 5:\n",
    "            cctv_5(i,j,direction)\n",
    "        \n",
    "    temp_sum = sum([sum([1 for x in list_ if x == 0]) for list_ in map_copy ])\n",
    "    min_ = min(min_,temp_sum)\n",
    "print(min_)\n",
    "    \n",
    "\n",
    "    \n",
    "    \n",
    "    "
   ]
  },
  {
   "cell_type": "code",
   "execution_count": null,
   "id": "de71fa59",
   "metadata": {},
   "outputs": [],
   "source": []
  },
  {
   "cell_type": "code",
   "execution_count": 192,
   "id": "1ffc7070",
   "metadata": {},
   "outputs": [
    {
     "name": "stdout",
     "output_type": "stream",
     "text": [
      "1 1\n",
      "0\n",
      "1\n"
     ]
    }
   ],
   "source": [
    "def cctv_1(i,j,direction):\n",
    "    if direction == 0:\n",
    "        direction0(i,j)\n",
    "    elif direction == 1:\n",
    "        direction1(i,j)\n",
    "    elif direction == 2:\n",
    "        direction2(i,j)\n",
    "    elif direction == 3:\n",
    "        direction3(i,j)\n",
    "    \n",
    "def cctv_2(i,j,direction):\n",
    "    if direction == 0:\n",
    "        direction0(i,j)\n",
    "        direction2(i,j)\n",
    "    elif direction == 1:\n",
    "        direction1(i,j)\n",
    "        direction3(i,j)\n",
    "    elif direction == 2:\n",
    "        direction0(i,j)\n",
    "        direction2(i,j)\n",
    "    elif direction == 3:\n",
    "        direction1(i,j)\n",
    "        direction3(i,j) \n",
    "def cctv_3(i,j,direction):\n",
    "    if direction == 0:\n",
    "        direction0(i,j)\n",
    "        direction1(i,j)\n",
    "    elif direction == 1:\n",
    "        direction1(i,j)\n",
    "        direction2(i,j)\n",
    "    elif direction == 2:\n",
    "        direction2(i,j)\n",
    "        direction3(i,j)\n",
    "    elif direction == 3:\n",
    "        direction3(i,j)\n",
    "        direction0(i,j)\n",
    "def cctv_4(i,j,direction):\n",
    "    if direction == 0:\n",
    "        direction0(i,j)\n",
    "        direction1(i,j)\n",
    "        direction2(i,j)\n",
    "    elif direction == 1:\n",
    "        direction1(i,j)\n",
    "        direction2(i,j)\n",
    "        direction3(i,j)\n",
    "    elif direction == 2:\n",
    "        direction0(i,j)\n",
    "        direction2(i,j)\n",
    "        direction3(i,j)\n",
    "    elif direction == 3:\n",
    "        direction0(i,j)\n",
    "        direction1(i,j)\n",
    "        direction3(i,j)\n",
    "def direction0(i,j):\n",
    "    for jj in range(j+1,sero):\n",
    "        if map_copy[i][jj] == 0 or map_copy[i][jj] == '#' :\n",
    "            map_copy[i][jj] = '#'\n",
    "        else:\n",
    "            return\n",
    "def direction1(i,j):\n",
    "    for ii in range(i+1,garo):\n",
    "        if map_copy[ii][j] == 0 or map_copy[ii][j] == '#':\n",
    "            map_copy[ii][j] = '#'\n",
    "        else:\n",
    "            return\n",
    "def direction2(i,j):\n",
    "    for jj in range(j-1,-1,-1):\n",
    "        if map_copy[i][jj] == 0 or map_copy[i][jj] == '#' :\n",
    "            map_copy[i][jj] = '#'\n",
    "        else:\n",
    "            return\n",
    "def direction3(i,j):\n",
    "    for ii in range(i-1,-1,-1):\n",
    "        if map_copy[ii][j] == 0 or map_copy[ii][j] == '#':\n",
    "            map_copy[ii][j] = '#'\n",
    "        else:\n",
    "            return\n",
    "def get_cctv_list(map_):\n",
    "    cctv_list= []\n",
    "    for i in range(garo):\n",
    "        for j in range(sero):\n",
    "            is_cctv = map_[i][j]\n",
    "            if is_cctv == 0 or is_cctv == 6:\n",
    "                continue\n",
    "            else:\n",
    "                cctv_list.append([i,j,is_cctv])\n",
    "    return cctv_list\n",
    "import copy \n",
    "from itertools import product\n",
    "\n",
    "garo , sero = list(map(int, input().split(\" \")))\n",
    "map_ = []\n",
    "for _ in range(garo):\n",
    "    temp = list(map(int, input().split(\" \")))\n",
    "    map_.append(temp)\n",
    "cctv_list = get_cctv_list(map_)\n",
    "try_list = list(product([0,1,2,3],repeat= len(cctv_list)))\n",
    "min_ = 100000\n",
    "for try_ in try_list:\n",
    "    map_copy = copy.deepcopy(map_)\n",
    "    \n",
    "    for loc, direction in zip(cctv_list , try_):\n",
    "        i,j ,cctv = loc\n",
    "        if cctv == 1:\n",
    "            cctv_1(i,j,direction)\n",
    "        elif cctv == 2:\n",
    "            cctv_2(i,j,direction)\n",
    "        elif cctv == 3:\n",
    "            cctv_3(i,j,direction)\n",
    "        elif cctv == 4:\n",
    "            cctv_4(i,j,direction)\n",
    "        elif cctv == 5:\n",
    "            cctv_5(i,j,direction)\n",
    "        \n",
    "    temp_sum = sum([sum([1 for x in list_ if x == 0]) for list_ in map_copy ])\n",
    "    min_ = min(min_,temp_sum)\n",
    "print(min_)"
   ]
  },
  {
   "cell_type": "code",
   "execution_count": null,
   "id": "03cc4894",
   "metadata": {},
   "outputs": [],
   "source": [
    "3 3\n",
    "\n",
    "6 6 6\n",
    "\n",
    "6 6 6\n",
    "\n",
    "0 6 6"
   ]
  },
  {
   "cell_type": "code",
   "execution_count": null,
   "id": "2e635568",
   "metadata": {},
   "outputs": [],
   "source": [
    "4 6\n",
    "0 0 0 0 0 0\n",
    "0 0 0 0 0 0\n",
    "0 0 1 0 6 0\n",
    "0 0 0 0 0 0"
   ]
  }
 ],
 "metadata": {
  "kernelspec": {
   "display_name": "Python 3 (ipykernel)",
   "language": "python",
   "name": "python3"
  },
  "language_info": {
   "codemirror_mode": {
    "name": "ipython",
    "version": 3
   },
   "file_extension": ".py",
   "mimetype": "text/x-python",
   "name": "python",
   "nbconvert_exporter": "python",
   "pygments_lexer": "ipython3",
   "version": "3.8.13"
  }
 },
 "nbformat": 4,
 "nbformat_minor": 5
}
