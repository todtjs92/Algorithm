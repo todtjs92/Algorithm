{
 "cells": [
  {
   "cell_type": "markdown",
   "id": "52378f00",
   "metadata": {},
   "source": [
    "### 1.\n"
   ]
  },
  {
   "cell_type": "code",
   "execution_count": null,
   "id": "e1252d10",
   "metadata": {},
   "outputs": [],
   "source": [
    "# [[0,0,30],[30,0,0]]\n",
    "# [[10,10,10],[20,5,5],[10,10,10]]"
   ]
  },
  {
   "cell_type": "code",
   "execution_count": 35,
   "id": "20ad6a29",
   "metadata": {},
   "outputs": [],
   "source": [
    "def check(a_list,b_list):\n",
    "    # check min\n",
    "    min_a = min(a_list)\n",
    "    min_b = min(b_list)\n",
    "    \n",
    "    count = 0\n",
    "    for a in range(3):\n",
    "        if a_list[a] == min_a:\n",
    "            count +=1\n",
    "            min_a_index = a\n",
    "            if count == 2:\n",
    "                return False\n",
    "            \n",
    "    count = 0\n",
    "    for b in range(3):\n",
    "        if b_list[b] == min_b:\n",
    "            count +=1\n",
    "            min_b_index = b\n",
    "            if count == 2:\n",
    "                return False\n",
    "    \n",
    "        \n",
    "    if min_a_index == min_b_index:\n",
    "        return False\n",
    "    \n",
    "    a_get_value, a_give_value = min_a , a_list[min_b_index]\n",
    "    b_get_value , b_give_value = min_b , b_list[min_a_index]\n",
    "    \n",
    "    if  a_give_value <= a_get_value + 1:\n",
    "        return False\n",
    "    if  b_give_value <= b_get_value + 1:\n",
    "        return False\n",
    "      \n",
    "        \n",
    "    return min_a + min_b + 2\n",
    "    "
   ]
  },
  {
   "cell_type": "code",
   "execution_count": 39,
   "id": "ba1e3547",
   "metadata": {},
   "outputs": [],
   "source": [
    "cards = [[10,5,15],[5,15,10],[10,11,9]]"
   ]
  },
  {
   "cell_type": "code",
   "execution_count": null,
   "id": "f8a33f06",
   "metadata": {},
   "outputs": [],
   "source": [
    "for card_a in range(len(cards)-1):\n",
    "    if check_list[card_a] == False:\n",
    "        \n",
    "        \n",
    "    "
   ]
  },
  {
   "cell_type": "code",
   "execution_count": null,
   "id": "e0a39288",
   "metadata": {},
   "outputs": [],
   "source": []
  },
  {
   "cell_type": "code",
   "execution_count": 38,
   "id": "a54af866",
   "metadata": {},
   "outputs": [
    {
     "ename": "NameError",
     "evalue": "name 'cards' is not defined",
     "output_type": "error",
     "traceback": [
      "\u001b[0;31m---------------------------------------------------------------------------\u001b[0m",
      "\u001b[0;31mNameError\u001b[0m                                 Traceback (most recent call last)",
      "Input \u001b[0;32mIn [38]\u001b[0m, in \u001b[0;36m<cell line: 1>\u001b[0;34m()\u001b[0m\n\u001b[0;32m----> 1\u001b[0m check_list \u001b[38;5;241m=\u001b[39m [\u001b[38;5;28;01mFalse\u001b[39;00m \u001b[38;5;28;01mfor\u001b[39;00m x \u001b[38;5;129;01min\u001b[39;00m \u001b[38;5;28mrange\u001b[39m(\u001b[38;5;28mlen\u001b[39m(\u001b[43mcards\u001b[49m))]\n",
      "\u001b[0;31mNameError\u001b[0m: name 'cards' is not defined"
     ]
    }
   ],
   "source": [
    "check_list = [False for x in range(len(cards))]"
   ]
  },
  {
   "cell_type": "code",
   "execution_count": null,
   "id": "a10bf8af",
   "metadata": {},
   "outputs": [],
   "source": []
  },
  {
   "cell_type": "markdown",
   "id": "89420e87",
   "metadata": {},
   "source": [
    "### 2"
   ]
  },
  {
   "cell_type": "code",
   "execution_count": 30,
   "id": "d69dde3b",
   "metadata": {},
   "outputs": [],
   "source": [
    "from collections import deque"
   ]
  },
  {
   "cell_type": "code",
   "execution_count": 56,
   "id": "3a3fcde1",
   "metadata": {},
   "outputs": [
    {
     "name": "stdout",
     "output_type": "stream",
     "text": [
      "4\n"
     ]
    }
   ],
   "source": [
    "N = int(input())"
   ]
  },
  {
   "cell_type": "code",
   "execution_count": 57,
   "id": "af1e67cd",
   "metadata": {},
   "outputs": [],
   "source": [
    "front= []"
   ]
  },
  {
   "cell_type": "code",
   "execution_count": 58,
   "id": "771bbe9d",
   "metadata": {},
   "outputs": [],
   "source": [
    "queries = [[0,1],\n",
    "           [0,2],\n",
    "           [0,3],\n",
    "           [3,4],\n",
    "           [1,5],\n",
    "           [1,6],\n",
    "           [2,7],\n",
    "           [3,8],\n",
    "           [1,9],\n",
    "           [-1,-1],\n",
    "           [-1,-1],\n",
    "           [-1,-1],\n",
    "           [-1,-1],\n",
    "           [-1,-1],\n",
    "           [-1,-1],\n",
    "           [-1,-1],\n",
    "           [-1,-1],\n",
    "           [-1,-1],\n",
    "           [1,10],\n",
    "           [1,11],\n",
    "           [-1,-1],\n",
    "           [3,12],\n",
    "           [-1,-1],\n",
    "           [-1,-1],\n",
    "          ]"
   ]
  },
  {
   "cell_type": "code",
   "execution_count": 95,
   "id": "b0a97d93",
   "metadata": {},
   "outputs": [],
   "source": [
    "queue_list = [deque() for x in range(N)]"
   ]
  },
  {
   "cell_type": "code",
   "execution_count": 96,
   "id": "f736c70f",
   "metadata": {},
   "outputs": [],
   "source": [
    "result = []"
   ]
  },
  {
   "cell_type": "code",
   "execution_count": 97,
   "id": "f135263d",
   "metadata": {},
   "outputs": [],
   "source": [
    "pointer =0"
   ]
  },
  {
   "cell_type": "code",
   "execution_count": 98,
   "id": "f16e401e",
   "metadata": {},
   "outputs": [],
   "source": [
    "for query in queries:\n",
    "    location , number = query\n",
    "    if location == -1:\n",
    "        front_number = front.pop()\n",
    "        result.append(front_number)\n",
    "        \n",
    "        for i in range(N):\n",
    "            pointer = (pointer+i) % N \n",
    "            if len(queue_list[pointer]) != 0:\n",
    "                break\n",
    "        if len(queue_list[pointer]) !=0:\n",
    "            poped_number = queue_list[pointer].popleft()\n",
    "            front.append(poped_number)\n",
    "            pointer = (pointer+1) % 4 \n",
    "        \n",
    "    else:\n",
    "        if len(front) == 0:\n",
    "            front.append(number)\n",
    "        else:\n",
    "            queue_list[location].append(number)"
   ]
  },
  {
   "cell_type": "code",
   "execution_count": 99,
   "id": "8ad40c23",
   "metadata": {},
   "outputs": [
    {
     "data": {
      "text/plain": [
       "[1, 2, 5, 7, 4, 3, 6, 8, 9, 10, 11, 12]"
      ]
     },
     "execution_count": 99,
     "metadata": {},
     "output_type": "execute_result"
    }
   ],
   "source": [
    "result"
   ]
  },
  {
   "cell_type": "code",
   "execution_count": null,
   "id": "86571d57",
   "metadata": {},
   "outputs": [],
   "source": [
    "     "
   ]
  }
 ],
 "metadata": {
  "kernelspec": {
   "display_name": "Python 3 (ipykernel)",
   "language": "python",
   "name": "python3"
  },
  "language_info": {
   "codemirror_mode": {
    "name": "ipython",
    "version": 3
   },
   "file_extension": ".py",
   "mimetype": "text/x-python",
   "name": "python",
   "nbconvert_exporter": "python",
   "pygments_lexer": "ipython3",
   "version": "3.8.13"
  }
 },
 "nbformat": 4,
 "nbformat_minor": 5
}
