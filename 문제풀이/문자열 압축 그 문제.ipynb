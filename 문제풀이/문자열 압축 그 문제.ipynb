{
 "cells": [
  {
   "cell_type": "code",
   "execution_count": null,
   "id": "660f67b9",
   "metadata": {},
   "outputs": [],
   "source": [
    "def solution(s):\n",
    "    \n",
    "    min_ = 10000000\n",
    "    for i in range(1,len(s)+1): # 길이\n",
    "        prev = ''\n",
    "        count = 0\n",
    "        temp = ''\n",
    "        check = 0\n",
    "        for j in range(0,len(s),i): # j 는 포인터\n",
    "            # 체크\n",
    "            if  j+i > len(s):# 길이 넘는지 체크\n",
    "                if count ==1:\n",
    "                    temp = temp  + prev\n",
    "                else:\n",
    "                    temp = temp + str(count) + prev\n",
    "                temp = temp + s[j:]\n",
    "                check =1 \n",
    "                break\n",
    "            \n",
    "            \n",
    "            if prev != s[j:j+i]:\n",
    "                if prev != '':\n",
    "                    if count ==1 :\n",
    "                        temp += prev\n",
    "                    else:\n",
    "                        temp = temp + str(count) + prev\n",
    "                        count = 1\n",
    "                if prev == '':\n",
    "                    count =1\n",
    "                    prev = s[j:j+i]\n",
    "            else:\n",
    "                count += 1\n",
    "\n",
    "            prev = s[j:j+i]\n",
    "        # ded , count= 1\n",
    "        if check ==0 :\n",
    "            if count ==1:\n",
    "                temp += prev\n",
    "            else:\n",
    "                temp = temp + str(count) + prev\n",
    "                count = 1\n",
    "        min_ = min(len(temp),min_)\n",
    "        \n",
    "    answer = min_\n",
    "    return answer\n",
    "        \n"
   ]
  }
 ],
 "metadata": {
  "kernelspec": {
   "display_name": "Python 3 (ipykernel)",
   "language": "python",
   "name": "python3"
  },
  "language_info": {
   "codemirror_mode": {
    "name": "ipython",
    "version": 3
   },
   "file_extension": ".py",
   "mimetype": "text/x-python",
   "name": "python",
   "nbconvert_exporter": "python",
   "pygments_lexer": "ipython3",
   "version": "3.8.13"
  }
 },
 "nbformat": 4,
 "nbformat_minor": 5
}
