{
 "cells": [
  {
   "cell_type": "markdown",
   "id": "51708083",
   "metadata": {},
   "source": [
    "### 순열"
   ]
  },
  {
   "cell_type": "code",
   "execution_count": null,
   "id": "20775baf",
   "metadata": {},
   "outputs": [],
   "source": [
    "a,b = list(map(int,input().split()))\n",
    "words = []\n",
    "for i in range(a):\n",
    "    words.append(chr(97+i))\n",
    "temp = [None for x in range(b)]\n",
    "N =b\n",
    "\n",
    "def recursive(current ,temp , N ):\n",
    "    \n",
    "    if current >= N:\n",
    "        result = ''.join(temp)\n",
    "        print(result)\n",
    "        return\n",
    "\n",
    "    else:\n",
    "        for i in words:\n",
    "            if i not in temp:\n",
    "                temp[current] =  i\n",
    "                recursive(current+1,temp,N)\n",
    "                temp[current] = 0\n",
    "\n",
    "recursive(0,temp,N)"
   ]
  },
  {
   "cell_type": "code",
   "execution_count": 45,
   "id": "8bf853fa",
   "metadata": {},
   "outputs": [],
   "source": [
    "numbers= [1,2,3,4,5]"
   ]
  },
  {
   "cell_type": "code",
   "execution_count": 46,
   "id": "09f4dfd3",
   "metadata": {},
   "outputs": [],
   "source": [
    "check = [False for x in range(len(numbers)) ]"
   ]
  },
  {
   "cell_type": "code",
   "execution_count": 47,
   "id": "d83b01cc",
   "metadata": {},
   "outputs": [],
   "source": [
    "def recursive(temp_list,n):\n",
    "    if len(temp_list) == n:\n",
    "        print(temp_list)\n",
    "        return \n",
    "    for i in range(len(numbers)):\n",
    "        if check[i] != True:\n",
    "            check[i] = True\n",
    "            \n",
    "            recursive(temp_list + [numbers[i]],n)\n",
    "            check[i] = False"
   ]
  },
  {
   "cell_type": "code",
   "execution_count": 48,
   "id": "dcb427de",
   "metadata": {},
   "outputs": [
    {
     "name": "stdout",
     "output_type": "stream",
     "text": [
      "[1]\n",
      "[2]\n",
      "[3]\n",
      "[4]\n",
      "[5]\n"
     ]
    }
   ],
   "source": [
    "recursive([],1)"
   ]
  },
  {
   "cell_type": "code",
   "execution_count": null,
   "id": "bb085d21",
   "metadata": {},
   "outputs": [],
   "source": []
  },
  {
   "cell_type": "code",
   "execution_count": 2,
   "id": "52d6d7dd",
   "metadata": {},
   "outputs": [],
   "source": [
    "a = [1,2,3,4]"
   ]
  },
  {
   "cell_type": "code",
   "execution_count": 3,
   "id": "789dd9ed",
   "metadata": {},
   "outputs": [
    {
     "data": {
      "text/plain": [
       "[1, 2, 3, 4]"
      ]
     },
     "execution_count": 3,
     "metadata": {},
     "output_type": "execute_result"
    }
   ],
   "source": [
    "a"
   ]
  },
  {
   "cell_type": "code",
   "execution_count": null,
   "id": "897463f1",
   "metadata": {},
   "outputs": [],
   "source": [
    "##1. 나왔지는지를 체크할수있는 로직이 있어야함 . \n",
    "## 2. 체크해서 안나오는애들을 순회해야함 . \n",
    "## 3. 중단을 언제해야하냐 길이가 완성되면 \n",
    "## 4. 재귀가 어디를쳐야하는지를 체크 . \n",
    "### 5. 한번 다 돈거를 나중에 다시 돌아줘야한다 .풀어줘야함 락을. "
   ]
  },
  {
   "cell_type": "markdown",
   "id": "cb4bfdef",
   "metadata": {},
   "source": [
    "### 조합"
   ]
  },
  {
   "cell_type": "code",
   "execution_count": null,
   "id": "1ada4c11",
   "metadata": {},
   "outputs": [],
   "source": [
    "[1,2,3]\n",
    "[1,2,4]\n",
    "[1,2,5]\n",
    "[1,3,4]\n",
    "[1,3,5]\n",
    "[1,4,5]\n",
    "[2,3,4]"
   ]
  },
  {
   "cell_type": "code",
   "execution_count": null,
   "id": "958ca779",
   "metadata": {},
   "outputs": [],
   "source": [
    "## 이거는 지워줄 필요는 없고 \n",
    "## 순서대로 돌아주기만 하면된다 . \n",
    "## 각각의 recursion에서 for pointer를 넘겨야겠따"
   ]
  },
  {
   "cell_type": "code",
   "execution_count": 1,
   "id": "13f3298e",
   "metadata": {},
   "outputs": [],
   "source": [
    "numbers = [1,2,3,4,5]"
   ]
  },
  {
   "cell_type": "code",
   "execution_count": 4,
   "id": "6aff6963",
   "metadata": {},
   "outputs": [],
   "source": [
    "def recursion(list_ ,pointer ,  n ):\n",
    "    \n",
    "    if len(list_) == n:\n",
    "        print(list_)\n",
    "        return\n",
    "    \n",
    "    for i in range(pointer, len(numbers)):\n",
    "        recursion(list_ + [numbers[i]],i+1 , n)\n",
    "        "
   ]
  },
  {
   "cell_type": "code",
   "execution_count": 9,
   "id": "93493d50",
   "metadata": {},
   "outputs": [
    {
     "name": "stdout",
     "output_type": "stream",
     "text": [
      "[1, 2, 3, 4]\n",
      "[1, 2, 3, 5]\n",
      "[1, 2, 4, 5]\n",
      "[1, 3, 4, 5]\n",
      "[2, 3, 4, 5]\n"
     ]
    }
   ],
   "source": [
    "recursion([],0,4)"
   ]
  },
  {
   "cell_type": "code",
   "execution_count": null,
   "id": "6145e792",
   "metadata": {},
   "outputs": [],
   "source": []
  }
 ],
 "metadata": {
  "kernelspec": {
   "display_name": "Python 3 (ipykernel)",
   "language": "python",
   "name": "python3"
  },
  "language_info": {
   "codemirror_mode": {
    "name": "ipython",
    "version": 3
   },
   "file_extension": ".py",
   "mimetype": "text/x-python",
   "name": "python",
   "nbconvert_exporter": "python",
   "pygments_lexer": "ipython3",
   "version": "3.8.13"
  }
 },
 "nbformat": 4,
 "nbformat_minor": 5
}
