{
 "cells": [
  {
   "cell_type": "markdown",
   "id": "fdbd20e0",
   "metadata": {},
   "source": [
    "# 틀림 ;;"
   ]
  },
  {
   "cell_type": "code",
   "execution_count": null,
   "id": "af7ac132",
   "metadata": {},
   "outputs": [],
   "source": [
    "3\n",
    "3\n",
    "10 7 6\n",
    "3\n",
    "3 5 9\n",
    "5\n",
    "1 1 3 1 2"
   ]
  },
  {
   "cell_type": "code",
   "execution_count": 123,
   "id": "15d70e94",
   "metadata": {},
   "outputs": [],
   "source": [
    "def getmax(numberlist,arraylength):\n",
    "    max_lists = []\n",
    "    max_ = 0\n",
    "    max_index = -1 \n",
    "    for index in range(len(numberlist)):\n",
    "        if numberlist[index] >= max_:\n",
    "            max_ = numberlist[index]\n",
    "            max_index = index\n",
    "            max_lists.append([max_,max_index])\n",
    "            max_ = 0\n",
    "    max_ = 0\n",
    "    previous_maxindex= 0 \n",
    "    result = 0 \n",
    "    for max_list in max_lists:\n",
    "        max_temp , max_index = max_list[0] ,max_list[1]\n",
    "\n",
    "        if max_temp < max_ : \n",
    "\n",
    "            sum_part = sum(numberlist[previous_maxindex:max_index])\n",
    "            sum_max  = max_ * (max_index - previous_maxindex)\n",
    "            sum_temp = sum_max - sum_part\n",
    "            result += sum_temp\n",
    "            max_ = 0\n",
    "            previous_maxindex = max_index\n",
    "\n",
    "\n",
    "        else:\n",
    "            max_ = max_temp\n",
    "    print(max_lists)\n",
    "    if numberlist[previous_maxindex] <  numberlist[arraylength-1]:\n",
    "        sum_part = sum(numberlist[previous_maxindex:])\n",
    "        sum_max = max_ * (arraylength - previous_maxindex)\n",
    "        sum_temp = sum_max - sum_part\n",
    "        result += sum_temp\n",
    "    print(result)\n",
    "    return"
   ]
  },
  {
   "cell_type": "code",
   "execution_count": null,
   "id": "9e60554e",
   "metadata": {},
   "outputs": [],
   "source": [
    "1 1 5 1 2 4 9 2 4 6 3 5"
   ]
  },
  {
   "cell_type": "code",
   "execution_count": 125,
   "id": "dae63514",
   "metadata": {},
   "outputs": [
    {
     "name": "stdout",
     "output_type": "stream",
     "text": [
      "1\n",
      "12\n",
      "1 1 5 1 2 4 9 2 4 6 3 5\n",
      "[[1, 0], [1, 1], [5, 2], [1, 3], [2, 4], [4, 5], [9, 6], [2, 7], [4, 8], [6, 9], [3, 10], [5, 11]]\n",
      "36\n"
     ]
    }
   ],
   "source": [
    "totalnumber = int(input())\n",
    "for tn in range(totalnumber):\n",
    "    arraylength = int(input())\n",
    "    numberlist= list(map(int,input().split(' ')))\n",
    "    getmax(numberlist,arraylength)"
   ]
  },
  {
   "cell_type": "code",
   "execution_count": 122,
   "id": "72aeaba7",
   "metadata": {},
   "outputs": [
    {
     "data": {
      "text/plain": [
       "[[2, 0], [1, 1]]"
      ]
     },
     "execution_count": 122,
     "metadata": {},
     "output_type": "execute_result"
    }
   ],
   "source": [
    "max_lists"
   ]
  },
  {
   "cell_type": "code",
   "execution_count": null,
   "id": "17e24715",
   "metadata": {},
   "outputs": [],
   "source": [
    "8 8 4 8 7 5 4 2 2"
   ]
  },
  {
   "cell_type": "code",
   "execution_count": null,
   "id": "a439bd3c",
   "metadata": {},
   "outputs": [],
   "source": [
    "3\n",
    "3\n",
    "10 7 6\n",
    "3\n",
    "3 5 9\n",
    "5\n",
    "1 1 3 1 2"
   ]
  },
  {
   "cell_type": "code",
   "execution_count": 41,
   "id": "215c636c",
   "metadata": {},
   "outputs": [],
   "source": [
    "arraylength = len([1,1,5,1,2,4,9,2,4,6,3,5])"
   ]
  },
  {
   "cell_type": "code",
   "execution_count": 42,
   "id": "a6c5ae6c",
   "metadata": {},
   "outputs": [
    {
     "data": {
      "text/plain": [
       "12"
      ]
     },
     "execution_count": 42,
     "metadata": {},
     "output_type": "execute_result"
    }
   ],
   "source": [
    "arraylength"
   ]
  },
  {
   "cell_type": "code",
   "execution_count": null,
   "id": "8a4c85fe",
   "metadata": {},
   "outputs": [],
   "source": [
    "[3,5,9]\n",
    "[1,1,5,1,2,4,9,2,4,6,3,5,4,3,2,1]\n",
    "[2,1]\n",
    "[1]"
   ]
  },
  {
   "cell_type": "code",
   "execution_count": null,
   "id": "fef40abc",
   "metadata": {},
   "outputs": [],
   "source": [
    "# [[max값,[그 전 value] ],]\n",
    "# [[max값,index]]"
   ]
  },
  {
   "cell_type": "code",
   "execution_count": null,
   "id": "9815373d",
   "metadata": {},
   "outputs": [],
   "source": [
    "[[3,0],[5,1],[9,2]]"
   ]
  },
  {
   "cell_type": "code",
   "execution_count": 88,
   "id": "035b2387",
   "metadata": {},
   "outputs": [],
   "source": [
    "numberlist = [2,1]\n",
    "arraylength = len(numberlist)"
   ]
  },
  {
   "cell_type": "code",
   "execution_count": 89,
   "id": "12a73dbb",
   "metadata": {},
   "outputs": [],
   "source": [
    "max_lists = []\n",
    "max_ = 0\n",
    "max_index = -1 \n",
    "for index in range(len(numberlist)):\n",
    "    if numberlist[index] >= max_:\n",
    "        max_ = numberlist[index]\n",
    "        max_index = index\n",
    "        max_lists.append([max_,max_index])\n",
    "        max_ = 0\n",
    "max_ = 0\n",
    "previous_maxindex= 0 \n",
    "result = 0 \n",
    "for max_list in max_lists:\n",
    "    max_temp , max_index = max_list[0] ,max_list[1]\n",
    "    \n",
    "    if max_temp < max_ : \n",
    "        \n",
    "        sum_part = sum(numberlist[previous_maxindex:max_index])\n",
    "        sum_max  = max_ * (max_index - previous_maxindex)\n",
    "        sum_temp = sum_max - sum_part\n",
    "        result += sum_temp\n",
    "        max_ = 0\n",
    "        previous_maxindex = max_index\n",
    "        \n",
    "        \n",
    "    else:\n",
    "        max_ = max_temp\n",
    "if max_ != 0:\n",
    "    sum_part = sum(numberlist[previous_maxindex:])\n",
    "    sum_max = max_ * (arraylength - previous_maxindex)\n",
    "    sum_temp = sum_max - sum_part\n",
    "    result += sum_temp"
   ]
  },
  {
   "cell_type": "code",
   "execution_count": 90,
   "id": "f6b95e0c",
   "metadata": {},
   "outputs": [],
   "source": [
    "sum_part = sum(numberlist[previous_maxindex:])\n",
    "sum_max = max_ * (arraylength - previous_maxindex)\n",
    "sum_temp = sum_max - sum_part\n",
    "result += sum_temp"
   ]
  },
  {
   "cell_type": "code",
   "execution_count": 82,
   "id": "da6a0e0a",
   "metadata": {},
   "outputs": [
    {
     "data": {
      "text/plain": [
       "[[2, 0], [1, 1]]"
      ]
     },
     "execution_count": 82,
     "metadata": {},
     "output_type": "execute_result"
    }
   ],
   "source": [
    "max_lists"
   ]
  },
  {
   "cell_type": "code",
   "execution_count": 81,
   "id": "f3fd6582",
   "metadata": {},
   "outputs": [
    {
     "data": {
      "text/plain": [
       "1"
      ]
     },
     "execution_count": 81,
     "metadata": {},
     "output_type": "execute_result"
    }
   ],
   "source": [
    "previous_maxindex"
   ]
  },
  {
   "cell_type": "code",
   "execution_count": 84,
   "id": "114af201",
   "metadata": {},
   "outputs": [
    {
     "data": {
      "text/plain": [
       "1"
      ]
     },
     "execution_count": 84,
     "metadata": {},
     "output_type": "execute_result"
    }
   ],
   "source": [
    "sum_part"
   ]
  },
  {
   "cell_type": "code",
   "execution_count": 85,
   "id": "1962ebbd",
   "metadata": {},
   "outputs": [
    {
     "data": {
      "text/plain": [
       "0"
      ]
     },
     "execution_count": 85,
     "metadata": {},
     "output_type": "execute_result"
    }
   ],
   "source": [
    "sum_max"
   ]
  },
  {
   "cell_type": "code",
   "execution_count": 86,
   "id": "a6dceb32",
   "metadata": {},
   "outputs": [
    {
     "data": {
      "text/plain": [
       "-1"
      ]
     },
     "execution_count": 86,
     "metadata": {},
     "output_type": "execute_result"
    }
   ],
   "source": [
    "sum_temp"
   ]
  },
  {
   "cell_type": "code",
   "execution_count": 87,
   "id": "08ebb090",
   "metadata": {},
   "outputs": [
    {
     "data": {
      "text/plain": [
       "0"
      ]
     },
     "execution_count": 87,
     "metadata": {},
     "output_type": "execute_result"
    }
   ],
   "source": [
    "max_"
   ]
  },
  {
   "cell_type": "code",
   "execution_count": 83,
   "id": "a22fcb58",
   "metadata": {},
   "outputs": [
    {
     "name": "stdout",
     "output_type": "stream",
     "text": [
      "-1\n"
     ]
    }
   ],
   "source": [
    "\n",
    "sum_part = sum(numberlist[previous_maxindex:])\n",
    "sum_max = max_ * (arraylength - previous_maxindex)\n",
    "sum_temp = sum_max - sum_part\n",
    "result += sum_temp\n",
    "print(result)    \n"
   ]
  },
  {
   "cell_type": "code",
   "execution_count": null,
   "id": "e29bdef6",
   "metadata": {},
   "outputs": [],
   "source": []
  },
  {
   "cell_type": "code",
   "execution_count": 30,
   "id": "2e0b3762",
   "metadata": {},
   "outputs": [
    {
     "data": {
      "text/plain": [
       "[[1, 0],\n",
       " [1, 1],\n",
       " [5, 2],\n",
       " [1, 3],\n",
       " [2, 4],\n",
       " [4, 5],\n",
       " [9, 6],\n",
       " [2, 7],\n",
       " [4, 8],\n",
       " [6, 9],\n",
       " [3, 10],\n",
       " [5, 11]]"
      ]
     },
     "execution_count": 30,
     "metadata": {},
     "output_type": "execute_result"
    }
   ],
   "source": [
    "max_lists"
   ]
  },
  {
   "cell_type": "code",
   "execution_count": 33,
   "id": "e0d9491c",
   "metadata": {},
   "outputs": [
    {
     "data": {
      "text/plain": [
       "10"
      ]
     },
     "execution_count": 33,
     "metadata": {},
     "output_type": "execute_result"
    }
   ],
   "source": [
    "previous_maxindex"
   ]
  },
  {
   "cell_type": "code",
   "execution_count": 35,
   "id": "fa1ce669",
   "metadata": {},
   "outputs": [
    {
     "data": {
      "text/plain": [
       "11"
      ]
     },
     "execution_count": 35,
     "metadata": {},
     "output_type": "execute_result"
    }
   ],
   "source": [
    "max_index"
   ]
  },
  {
   "cell_type": "code",
   "execution_count": 43,
   "id": "e3fed772",
   "metadata": {},
   "outputs": [
    {
     "name": "stdout",
     "output_type": "stream",
     "text": [
      "8\n",
      "20\n",
      "6\n",
      "8\n"
     ]
    }
   ],
   "source": [
    "max_ = 0\n",
    "previous_maxindex= 0 \n",
    "result = 0 \n",
    "for max_list in max_lists:\n",
    "    max_temp , max_index = max_list[0] ,max_list[1]\n",
    "    \n",
    "    if max_temp < max_ : \n",
    "        \n",
    "        sum_part = sum(numberlist[previous_maxindex:max_index])\n",
    "        sum_max  = max_ * (max_index - previous_maxindex)\n",
    "        sum_temp = sum_max - sum_part\n",
    "        print(sum_temp)\n",
    "        result += sum_temp\n",
    "        max_ = 0\n",
    "        previous_maxindex = max_index\n",
    "        \n",
    "        \n",
    "    else:\n",
    "        max_ = max_temp\n",
    "\n",
    "sum_part = sum(numberlist[previous_maxindex:])\n",
    "print(sum_part)\n",
    "sum_max = max_ * (arraylength - previous_maxindex)\n",
    "sum_temp = sum_max - sum_part\n",
    "result += sum_temp"
   ]
  },
  {
   "cell_type": "code",
   "execution_count": 44,
   "id": "5295d45f",
   "metadata": {},
   "outputs": [
    {
     "data": {
      "text/plain": [
       "36"
      ]
     },
     "execution_count": 44,
     "metadata": {},
     "output_type": "execute_result"
    }
   ],
   "source": [
    "result"
   ]
  },
  {
   "cell_type": "code",
   "execution_count": null,
   "id": "7587f15a",
   "metadata": {},
   "outputs": [],
   "source": []
  }
 ],
 "metadata": {
  "kernelspec": {
   "display_name": "Python 3 (ipykernel)",
   "language": "python",
   "name": "python3"
  },
  "language_info": {
   "codemirror_mode": {
    "name": "ipython",
    "version": 3
   },
   "file_extension": ".py",
   "mimetype": "text/x-python",
   "name": "python",
   "nbconvert_exporter": "python",
   "pygments_lexer": "ipython3",
   "version": "3.8.13"
  }
 },
 "nbformat": 4,
 "nbformat_minor": 5
}
