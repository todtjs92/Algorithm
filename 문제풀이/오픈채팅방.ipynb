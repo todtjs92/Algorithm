{
 "cells": [
  {
   "cell_type": "code",
   "execution_count": 5,
   "id": "e131a755",
   "metadata": {},
   "outputs": [],
   "source": [
    "record = [\"Enter uid1234 Muzi\", \"Enter uid4567 Prodo\",\"Leave uid1234\",\"Enter uid1234 Prodo\",\"Change uid4567 Ryan\"]"
   ]
  },
  {
   "cell_type": "code",
   "execution_count": 6,
   "id": "54573c54",
   "metadata": {},
   "outputs": [],
   "source": [
    "result = [\"Prodo님이 들어왔습니다.\", \"Ryan님이 들어왔습니다.\", \"Prodo님이 나갔습니다.\", \"Prodo님이 들어왔습니다.\"]"
   ]
  },
  {
   "cell_type": "code",
   "execution_count": 7,
   "id": "ca5f704d",
   "metadata": {},
   "outputs": [],
   "source": [
    "user_dict = {}"
   ]
  },
  {
   "cell_type": "code",
   "execution_count": 8,
   "id": "30a2ceca",
   "metadata": {},
   "outputs": [],
   "source": [
    "answer = []"
   ]
  },
  {
   "cell_type": "code",
   "execution_count": 9,
   "id": "e4987c5c",
   "metadata": {},
   "outputs": [],
   "source": [
    "for r in record:\n",
    "    token = r.split()\n",
    "    if len(token) == 3:\n",
    "        command , user_id , nickname = token\n",
    "        user_dict[user_id] = nickname\n",
    "\n",
    "for r in record:\n",
    "    token = r.split()\n",
    "    user_id = token[1]\n",
    "    nick_name = user_dict[user_id]\n",
    "    if token[0] == \"Enter\":\n",
    "        answer.append(f\"{nick_name}님이 들어왔습니다.\")\n",
    "        \n",
    "    \n",
    "    elif token[0] == \"Leave\":\n",
    "        answer.append(f\"{nick_name}님이 나갔습니다.\")\n",
    "        \n",
    "        \n",
    "        "
   ]
  },
  {
   "cell_type": "code",
   "execution_count": 10,
   "id": "2d3492c6",
   "metadata": {},
   "outputs": [
    {
     "data": {
      "text/plain": [
       "['Prodo님이 들어왔습니다.', 'Ryan님이 들어왔습니다.', 'Prodo님이 나갔습니다.', 'Prodo님이 들어왔습니다.']"
      ]
     },
     "execution_count": 10,
     "metadata": {},
     "output_type": "execute_result"
    }
   ],
   "source": [
    "answer"
   ]
  },
  {
   "cell_type": "code",
   "execution_count": null,
   "id": "58e8cc4c",
   "metadata": {},
   "outputs": [],
   "source": []
  }
 ],
 "metadata": {
  "kernelspec": {
   "display_name": "Python 3 (ipykernel)",
   "language": "python",
   "name": "python3"
  },
  "language_info": {
   "codemirror_mode": {
    "name": "ipython",
    "version": 3
   },
   "file_extension": ".py",
   "mimetype": "text/x-python",
   "name": "python",
   "nbconvert_exporter": "python",
   "pygments_lexer": "ipython3",
   "version": "3.8.13"
  }
 },
 "nbformat": 4,
 "nbformat_minor": 5
}
