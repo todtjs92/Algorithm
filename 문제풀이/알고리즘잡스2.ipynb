{
 "cells": [
  {
   "cell_type": "markdown",
   "id": "c68c3466",
   "metadata": {},
   "source": [
    "# attackrange"
   ]
  },
  {
   "cell_type": "code",
   "execution_count": 8,
   "id": "9f6cb6fc",
   "metadata": {},
   "outputs": [
    {
     "name": "stdout",
     "output_type": "stream",
     "text": [
      "6\n",
      "2 3 3\n",
      "3 2 1 2 3 0 \n",
      "2 1 x 1 2 3 \n",
      "3 2 1 2 3 0 \n",
      "0 3 2 3 0 0 \n",
      "0 0 3 0 0 0 \n",
      "0 0 0 0 0 0 \n"
     ]
    }
   ],
   "source": [
    "from collections import deque\n",
    "\n",
    "def solution():\n",
    "    N = int(input())\n",
    "    x_ ,y_ ,max_ = list(map(int, input().split(\" \")))\n",
    "    x_ = x_ -1\n",
    "    y_ = y_ -1\n",
    "    map_ = [[0 for _ in range(N)] for __ in range(N)]\n",
    "    dx = [0,0,1,-1]\n",
    "    dy = [-1,1,0,0]\n",
    "    q = deque()\n",
    "    q.append([x_,y_])\n",
    "    \n",
    "    while q:\n",
    "        x_loc ,y_loc  =q.popleft()\n",
    "        if map_[x_loc][y_loc] == max_:\n",
    "            continue\n",
    "        for i in range(4):\n",
    "            x_next = x_loc  + dx[i]\n",
    "            y_next = y_loc  + dy[i]\n",
    "            if x_next >=0  and x_next < N and y_next >=0 and y_next < N and map_[x_next][y_next]  ==0 :\n",
    "                q.append([x_next,y_next])\n",
    "                map_[x_next][y_next] = map_[x_loc][y_loc] + 1\n",
    "        \n",
    "    \n",
    "    map_[x_][y_] = \"x\"\n",
    "    for i in range(N):\n",
    "        for j in range(N):\n",
    "            print(map_[i][j],end=\" \")\n",
    "        print()\n",
    "solution()\n",
    "        \n",
    "        \n",
    "    "
   ]
  },
  {
   "cell_type": "markdown",
   "id": "7dffb72d",
   "metadata": {},
   "source": [
    "# bingo"
   ]
  },
  {
   "cell_type": "code",
   "execution_count": 9,
   "id": "7c80f7b3",
   "metadata": {},
   "outputs": [],
   "source": [
    "def solution():\n",
    "    \n",
    "    # 빙고판 만드는 부분  \n",
    "    \n",
    "    map_ = [ [0 for y in range(5)] for x in range(5)]\n",
    "    for i in range(5):\n",
    "        a,b,c,d,e = list(map(int,input().split()))\n",
    "        map_[i][0] = a\n",
    "        map_[i][1] = b\n",
    "        map_[i][2] = c\n",
    "        map_[i][3] = d\n",
    "        map_[i][4] = e\n",
    "        \n",
    "    # 사회자가 부르는 것들 speak_li 에 담음.\n",
    "    \n",
    "    speak_li = []\n",
    "    for i in range(5):\n",
    "        temp = list(map(int,input().split()))\n",
    "        speak_li +=temp\n",
    "        \n",
    "    bingo = 0\n",
    "    bingo_i=[]\n",
    "    bingo_j=[]\n",
    "    \n",
    "    for speak in range(len(speak_li)):\n",
    "        if bingo >=3:\n",
    "            print(speak) # 다음으로 넘어가서 프린트라 +1안해도됨\n",
    "            break\n",
    "        \n",
    "        \n",
    "        for i in range(5):\n",
    "            for j in range(5):\n",
    "                \n",
    "                # 부른거 위치 찾는 부분\n",
    "                if map_[i][j] == speak_li[speak]:\n",
    "                    map_[i][j] = \"X\"\n",
    "                    \n",
    "                    \n",
    "                    # 대각선 체크부분 우대각\n",
    "                    if i == j:\n",
    "                        for k in range(5):\n",
    "                            if map_[k][k] == \"X\":\n",
    "                                if k ==4:\n",
    "                                    bingo+=1\n",
    "                                \n",
    "                            else:\n",
    "                                break\n",
    "                    \n",
    "                    # 대각선 체크부분 좌대각\n",
    "                    \n",
    "                    if i+j ==4:\n",
    "                        for k in range(5):\n",
    "                            if map_[k][4-k]== \"X\":\n",
    "                                if k == 4:\n",
    "                                    bingo +=1\n",
    "                                \n",
    "                            \n",
    "                            else:\n",
    "                                break\n",
    "                    \n",
    "                    #  \n",
    "                    \n",
    "                    if i not in bingo_i:\n",
    "                        for k in range(5):\n",
    "                            if map_[i][k] ==\"X\":\n",
    "                                if k == 4:\n",
    "                                    bingo +=1\n",
    "                                    bingo_i.append(i)\n",
    "                            else:\n",
    "                                break\n",
    "                                \n",
    "                    if j not in bingo_j:\n",
    "                        for k in range(5):\n",
    "                            if map_[k][j] == \"X\":\n",
    "                                if k == 4:\n",
    "                                    bingo +=1\n",
    "                                    bingo_j.append(j)\n",
    "                            else:\n",
    "                                break\n"
   ]
  },
  {
   "cell_type": "markdown",
   "id": "f7d3c895",
   "metadata": {},
   "source": [
    "# baseball game"
   ]
  },
  {
   "cell_type": "code",
   "execution_count": 1,
   "id": "99f4d3e8",
   "metadata": {},
   "outputs": [],
   "source": [
    "import itertools"
   ]
  },
  {
   "cell_type": "code",
   "execution_count": 30,
   "id": "fd7a5e54",
   "metadata": {},
   "outputs": [],
   "source": [
    "import itertools\n",
    "def solution():\n",
    "    \n",
    "    def func_strike(a,b):\n",
    "        count  =  0\n",
    "        \n",
    "        a = str(a)\n",
    "        b = str(b)\n",
    "        \n",
    "        if a[0] == b[0]:\n",
    "            count+=1\n",
    "        if a[1] == b[1]:\n",
    "            count +=1\n",
    "        if a[2] == b[2]:\n",
    "            count +=1\n",
    "        \n",
    "        \n",
    "        return count\n",
    "        \n",
    "            \n",
    "        \n",
    "    def func_ball(a,b):\n",
    "        count  = 0\n",
    "        a = str(a)\n",
    "        b = str(b)\n",
    "        \n",
    "        if a[0] != b[0] and a[0]  in b:\n",
    "            count +=1\n",
    "        \n",
    "        if a[1] != b[1] and a[1] in b:\n",
    "            count +=1\n",
    "        \n",
    "        if a[2] != b[2] and a[2] in b:\n",
    "            count +=1\n",
    "       \n",
    "        return count\n",
    "        \n",
    "        \n",
    "    N = int(input())\n",
    "    throw_li = []\n",
    "    strike_li = []\n",
    "    ball_li = []\n",
    "    possible_numbers_li = list(itertools.permutations([1,2,3,4,5,6,7,8,9],3))\n",
    "    for _ in range(N):\n",
    "        throw , strike, ball =map(int,input().split())\n",
    "        throw_li.append(throw)\n",
    "        strike_li.append(strike)\n",
    "        ball_li.append(ball)\n",
    "    \n",
    "    \n",
    "    answer = len(possible_numbers_li)\n",
    "    \n",
    "    for pos_num in possible_numbers_li:\n",
    "        \n",
    "        pos_num_ = str(pos_num[0]) + str(pos_num[1]) + str(pos_num[2])\n",
    "        pos_num_ = int(pos_num_)\n",
    "        \n",
    "        for  n in range(N):\n",
    "            strike_count = func_strike(pos_num_,throw_li[n])\n",
    "            if strike_count != strike_li[n]:\n",
    "                answer -=1\n",
    "                break\n",
    "            \n",
    "            ball_count =  func_ball(pos_num_,throw_li[n])\n",
    "            \n",
    "            if ball_count != ball_li[n]:\n",
    "                answer -= 1\n",
    "                break\n",
    "    \n",
    "    print(answer)\n",
    "                \n",
    "    "
   ]
  },
  {
   "cell_type": "code",
   "execution_count": 31,
   "id": "f9c4a82f",
   "metadata": {},
   "outputs": [
    {
     "name": "stdout",
     "output_type": "stream",
     "text": [
      "4\n",
      "123 1 1\n",
      "356 1 0\n",
      "327 2 0\n",
      "489 0 1\n",
      "2\n"
     ]
    }
   ],
   "source": [
    "solution()"
   ]
  },
  {
   "cell_type": "markdown",
   "id": "0a546223",
   "metadata": {},
   "source": [
    "# Tetris"
   ]
  },
  {
   "cell_type": "code",
   "execution_count": 1,
   "id": "82ab6d0c",
   "metadata": {},
   "outputs": [
    {
     "name": "stdout",
     "output_type": "stream",
     "text": [
      "6 7\n",
      "0 0 0 0 0 0\n",
      "0 0 0 0 0 0\n",
      "1 1 1 0 0 1\n",
      "1 1 1 0 0 1\n",
      "1 1 1 0 1 1\n",
      "1 1 1 0 1 1\n",
      "1 1 1 0 1 1\n",
      "4 3\n"
     ]
    }
   ],
   "source": [
    "def solution():\n",
    "    len_j  , len_i = list(map(int,input().split()))\n",
    "    map_ = []\n",
    "    for i in range(len_i):\n",
    "        temp = list(map(int,input().split()))\n",
    "        map_.append(temp)\n",
    "        \n",
    "    for j in range(len_j):\n",
    "        for i in range(len_i -1):\n",
    "            if map_[i][j] ==1 and map_[i+1][j] == 0:\n",
    "                print(0,0,sep=\" \")\n",
    "                return\n",
    "            \n",
    "            \n",
    "            \n",
    "            \n",
    "        \n",
    "    possible_li =[]\n",
    "    for j  in range(len_j):\n",
    "        for i in range(len_i):\n",
    "\n",
    "            if map_[i][j] ==1:\n",
    "                if  i !=0:\n",
    "                    possible_li.append([i-1,j])\n",
    "                    break\n",
    "            elif map_[i][j] ==0 and  i == (len_i -1 ):\n",
    "                possible_li.append([i,j])\n",
    "                break\n",
    "\n",
    "    result = []\n",
    "    for pl in possible_li:\n",
    "        count = 0\n",
    "        i =  pl[0]\n",
    "        j =  pl[1]\n",
    "\n",
    "        if i <=2:\n",
    "            continue\n",
    "\n",
    "        if j ==0 :\n",
    "            for ii in range(i,-1,-1):\n",
    "                if map_[ii][j+1] ==1:\n",
    "                    count+=1\n",
    "                else:\n",
    "                    break\n",
    "\n",
    "\n",
    "\n",
    "        elif j == (len_j -1):\n",
    "            for ii in range(i,-1,-1):\n",
    "                if map_[ii][j-1] ==1:\n",
    "                    count +=1\n",
    "                else:\n",
    "                    break\n",
    "        else:\n",
    "            for ii in range(i,-1,-1):\n",
    "                if map_[ii][j-1] == 1 and map_[ii][j+1] :\n",
    "                    count +=1\n",
    "                else:\n",
    "                    break\n",
    "\n",
    "        if count>4:\n",
    "            count =4\n",
    "\n",
    "        if  count !=0:\n",
    "            result.append([j+1 , count])\n",
    "\n",
    "    result = sorted(result , key= lambda x: x[1],reverse=True)\n",
    "    if len(result) ==0:\n",
    "        print(0,0, sep=' ')\n",
    "    else:\n",
    "        print(result[0][0],result[0][1],sep=' ')\n",
    "    \n",
    "    return"
   ]
  },
  {
   "cell_type": "markdown",
   "id": "7aa1391c",
   "metadata": {},
   "source": [
    "# len_j  , len_i = list(map(int,input().split()))"
   ]
  },
  {
   "cell_type": "code",
   "execution_count": 5,
   "id": "2e4335ce",
   "metadata": {
    "scrolled": true
   },
   "outputs": [
    {
     "name": "stdout",
     "output_type": "stream",
     "text": [
      "0 0 0 0 0 0\n",
      "0 0 0 0 0 0\n",
      "1 1 1 0 0 1\n",
      "1 1 1 0 0 1\n",
      "1 1 1 0 1 1\n",
      "1 1 1 0 1 1\n",
      "1 1 1 0 1 1\n"
     ]
    }
   ],
   "source": [
    "map_ = []\n",
    "for i in range(len_i):\n",
    "    temp = list(map(int,input().split()))\n",
    "    map_.append(temp)\n",
    "    "
   ]
  },
  {
   "cell_type": "code",
   "execution_count": 6,
   "id": "d40f1cf4",
   "metadata": {},
   "outputs": [
    {
     "data": {
      "text/plain": [
       "[[0, 0, 0, 0, 0, 0],\n",
       " [0, 0, 0, 0, 0, 0],\n",
       " [1, 1, 1, 0, 0, 1],\n",
       " [1, 1, 1, 0, 0, 1],\n",
       " [1, 1, 1, 0, 1, 1],\n",
       " [1, 1, 1, 0, 1, 1],\n",
       " [1, 1, 1, 0, 1, 1]]"
      ]
     },
     "execution_count": 6,
     "metadata": {},
     "output_type": "execute_result"
    }
   ],
   "source": [
    "map_"
   ]
  },
  {
   "cell_type": "code",
   "execution_count": null,
   "id": "6008bf44",
   "metadata": {},
   "outputs": [],
   "source": [
    "# logic\n",
    "# 1. j 에 대해 돌면서 가장 바닥 부분 체크 #     #1최초로 1인부분 에서 #2 위  #3 가장위면 제외  4 혹은 len이 끝에 도달했을떄\n",
    "# 2. 바닥부분이 1자가 들어올수가 있는 부분인지 체크, 양옆이 1이어야함 . 현재 0인위치중에서 # 1. 0인지체크 2. 양옆 1인지체크 3. 맨끝일경우 에외처리\n",
    "# 3. 들어올수 있따면 위로 올라가면서 길이 체크   # 1.맨끝에 도달했을떄 체크해주기\n",
    "# 4. 체크한거바탕으로  [인덱스,길이] 담아서  append 후 정렬 -> 정렬후  젤 긴거 뽑기. # \n",
    "# 5. "
   ]
  },
  {
   "cell_type": "code",
   "execution_count": 9,
   "id": "754772cf",
   "metadata": {},
   "outputs": [],
   "source": [
    "possible_li =[]\n",
    "for j  in range(len_j):\n",
    "    for i in range(len_i):\n",
    "        \n",
    "        if map_[i][j] ==1:\n",
    "            if  i !=0:\n",
    "                possible_li.append([i-1,j])\n",
    "                break\n",
    "        elif map_[i][j] ==0 and  i == (len_i -1 ):\n",
    "            possible_li.append([i,j])\n",
    "            break\n",
    "            \n",
    "            "
   ]
  },
  {
   "cell_type": "code",
   "execution_count": 11,
   "id": "7170caa8",
   "metadata": {},
   "outputs": [],
   "source": [
    "result = []\n",
    "for pl in possible_li:\n",
    "    count = 0\n",
    "    i =  pl[0]\n",
    "    j =  pl[1]\n",
    "    \n",
    "    if i <=2:\n",
    "        continue\n",
    "    \n",
    "    if j ==0 :\n",
    "        for ii in range(i,-1,-1):\n",
    "            if map_[ii][j+1] ==1:\n",
    "                count+=1\n",
    "            else:\n",
    "                break\n",
    "    \n",
    "                \n",
    "        \n",
    "    elif j == (len_j -1):\n",
    "        for ii in range(i,-1,-1):\n",
    "            if map_[ii][j-1] ==1:\n",
    "                count +=1\n",
    "            else:\n",
    "                break\n",
    "    else:\n",
    "        for ii in range(i,-1,-1):\n",
    "            if map_[ii][j-1] == 1 and map_[ii][j+1] :\n",
    "                count +=1\n",
    "            else:\n",
    "                break\n",
    "                \n",
    "    \n",
    "    if  count !=0:\n",
    "        result.append([j+1 , count])\n",
    "    \n",
    "        \n",
    "    "
   ]
  },
  {
   "cell_type": "code",
   "execution_count": 14,
   "id": "5ec8b9c8",
   "metadata": {},
   "outputs": [],
   "source": [
    "result = sorted(result , key= lambda x: x[1],reverse=True)"
   ]
  },
  {
   "cell_type": "code",
   "execution_count": 17,
   "id": "a8c7eb06",
   "metadata": {},
   "outputs": [
    {
     "name": "stdout",
     "output_type": "stream",
     "text": [
      "4 3\n"
     ]
    }
   ],
   "source": [
    "if len(result) ==0:\n",
    "    print(0,0, sep=' ')\n",
    "else:\n",
    "    print(result[0][0],result[0][1],sep=' ')"
   ]
  },
  {
   "cell_type": "code",
   "execution_count": null,
   "id": "eb2e7eb0",
   "metadata": {},
   "outputs": [],
   "source": []
  }
 ],
 "metadata": {
  "kernelspec": {
   "display_name": "Python 3 (ipykernel)",
   "language": "python",
   "name": "python3"
  },
  "language_info": {
   "codemirror_mode": {
    "name": "ipython",
    "version": 3
   },
   "file_extension": ".py",
   "mimetype": "text/x-python",
   "name": "python",
   "nbconvert_exporter": "python",
   "pygments_lexer": "ipython3",
   "version": "3.9.7"
  }
 },
 "nbformat": 4,
 "nbformat_minor": 5
}
