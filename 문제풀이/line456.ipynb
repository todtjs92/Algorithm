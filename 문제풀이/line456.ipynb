{
 "cells": [
  {
   "cell_type": "markdown",
   "id": "c0bf6a96",
   "metadata": {},
   "source": [
    "# 4"
   ]
  },
  {
   "cell_type": "markdown",
   "id": "01487192",
   "metadata": {},
   "source": [
    "### ??"
   ]
  },
  {
   "cell_type": "code",
   "execution_count": null,
   "id": "06c0d2bf",
   "metadata": {},
   "outputs": [],
   "source": [
    "[3,1,2,4] -> [4,2,2,2] # 3번 "
   ]
  },
  {
   "cell_type": "code",
   "execution_count": null,
   "id": "9cb63a46",
   "metadata": {},
   "outputs": [],
   "source": [
    "[1,3,5,4,2] -> [7,1,5,1,1]"
   ]
  },
  {
   "cell_type": "code",
   "execution_count": null,
   "id": "a8b5bc34",
   "metadata": {},
   "outputs": [],
   "source": [
    "1 2 3 8 1"
   ]
  },
  {
   "cell_type": "markdown",
   "id": "18451811",
   "metadata": {},
   "source": [
    "# 5"
   ]
  },
  {
   "cell_type": "code",
   "execution_count": 2,
   "id": "2ed139de",
   "metadata": {},
   "outputs": [],
   "source": [
    "abilities = [2,8,3,6,1,9,1,9]\n",
    "k = 2\n",
    "# 21"
   ]
  },
  {
   "cell_type": "code",
   "execution_count": 5,
   "id": "96fb7373",
   "metadata": {},
   "outputs": [],
   "source": [
    "abilites = sorted(abilities,reverse=True)"
   ]
  },
  {
   "cell_type": "code",
   "execution_count": 6,
   "id": "c8050525",
   "metadata": {},
   "outputs": [
    {
     "data": {
      "text/plain": [
       "[9, 9, 8, 6, 3, 2, 1, 1]"
      ]
     },
     "execution_count": 6,
     "metadata": {},
     "output_type": "execute_result"
    }
   ],
   "source": [
    "abilites"
   ]
  },
  {
   "cell_type": "code",
   "execution_count": 22,
   "id": "648f1809",
   "metadata": {},
   "outputs": [],
   "source": [
    "abilities = [7,6,8,9,10]\n",
    "k = 1 \n",
    "# "
   ]
  },
  {
   "cell_type": "code",
   "execution_count": null,
   "id": "31254e26",
   "metadata": {},
   "outputs": [],
   "source": [
    "# 우선권 써야하는 경우 . \n",
    "1. 2개씩 짝 지어놓고 차가 가장 큰 경우 2케이스에 쓰며뇜"
   ]
  },
  {
   "cell_type": "markdown",
   "id": "f97f6495",
   "metadata": {},
   "source": [
    "### 풀이"
   ]
  },
  {
   "cell_type": "code",
   "execution_count": 23,
   "id": "d917d9c0",
   "metadata": {},
   "outputs": [],
   "source": [
    "abilities = sorted(abilities,reverse=True)"
   ]
  },
  {
   "cell_type": "code",
   "execution_count": 24,
   "id": "8bcbb251",
   "metadata": {},
   "outputs": [],
   "source": [
    "abil_li = []"
   ]
  },
  {
   "cell_type": "code",
   "execution_count": 25,
   "id": "81ba5f49",
   "metadata": {},
   "outputs": [],
   "source": [
    "diff_li = []"
   ]
  },
  {
   "cell_type": "code",
   "execution_count": 26,
   "id": "eb4c6f3a",
   "metadata": {},
   "outputs": [],
   "source": [
    "temp = []\n",
    "count = 0\n",
    "for i in abilities:\n",
    "    temp.append(i)\n",
    "    count +=1 \n",
    "    if count ==2:\n",
    "        abil_li.append(temp)\n",
    "        diff_li.append(temp[0] - temp[1])\n",
    "        temp = []\n",
    "        count = 0\n",
    "if temp:\n",
    "    abil_li.append(temp)\n",
    "    diff_li.append(temp[0])\n",
    "    "
   ]
  },
  {
   "cell_type": "code",
   "execution_count": 27,
   "id": "64d4fd2c",
   "metadata": {},
   "outputs": [
    {
     "data": {
      "text/plain": [
       "[[10, 9], [8, 7], [6]]"
      ]
     },
     "execution_count": 27,
     "metadata": {},
     "output_type": "execute_result"
    }
   ],
   "source": [
    "abil_li"
   ]
  },
  {
   "cell_type": "code",
   "execution_count": 28,
   "id": "b4b45f42",
   "metadata": {},
   "outputs": [
    {
     "data": {
      "text/plain": [
       "[1, 1, 6]"
      ]
     },
     "execution_count": 28,
     "metadata": {},
     "output_type": "execute_result"
    }
   ],
   "source": [
    "diff_li"
   ]
  },
  {
   "cell_type": "code",
   "execution_count": 34,
   "id": "1ca92ef0",
   "metadata": {},
   "outputs": [
    {
     "data": {
      "text/plain": [
       "[0, 1]"
      ]
     },
     "execution_count": 34,
     "metadata": {},
     "output_type": "execute_result"
    }
   ],
   "source": [
    "list(filter(lambda x : diff_li[x] == 1, range(3)))"
   ]
  },
  {
   "cell_type": "markdown",
   "id": "e4db05a3",
   "metadata": {},
   "source": [
    "# 6번"
   ]
  },
  {
   "cell_type": "code",
   "execution_count": 35,
   "id": "ea42e876",
   "metadata": {},
   "outputs": [],
   "source": [
    "import timeit"
   ]
  },
  {
   "cell_type": "code",
   "execution_count": 36,
   "id": "e3336a23",
   "metadata": {},
   "outputs": [
    {
     "name": "stdout",
     "output_type": "stream",
     "text": [
      "0.1148587919997226\n"
     ]
    }
   ],
   "source": [
    "t1 = timeit.timeit(lambda: \"-\".join(map(str, range(100))), number=10000)\n",
    "print(t1)"
   ]
  },
  {
   "cell_type": "code",
   "execution_count": 45,
   "id": "bc5a84c3",
   "metadata": {},
   "outputs": [],
   "source": [
    "nums1 = list(range(10000))\n",
    "nums2 = [x % 73 for x in range(3000)]"
   ]
  },
  {
   "cell_type": "code",
   "execution_count": null,
   "id": "4ce7d895",
   "metadata": {},
   "outputs": [],
   "source": [
    "true_li = [False for x in range(len(nums1))]"
   ]
  },
  {
   "cell_type": "code",
   "execution_count": 38,
   "id": "da5cc5be",
   "metadata": {},
   "outputs": [
    {
     "name": "stdout",
     "output_type": "stream",
     "text": [
      "a\n",
      "CPU times: user 638 µs, sys: 1.35 ms, total: 1.99 ms\n",
      "Wall time: 1.83 ms\n"
     ]
    }
   ],
   "source": [
    "%%time\n",
    "print('a')"
   ]
  },
  {
   "cell_type": "code",
   "execution_count": 40,
   "id": "a49b37d1",
   "metadata": {},
   "outputs": [
    {
     "name": "stdout",
     "output_type": "stream",
     "text": [
      "CPU times: user 4 µs, sys: 1 µs, total: 5 µs\n",
      "Wall time: 13.1 µs\n",
      "a\n"
     ]
    }
   ],
   "source": [
    "%time\n",
    "print('a')"
   ]
  },
  {
   "cell_type": "code",
   "execution_count": null,
   "id": "2b5f99a9",
   "metadata": {},
   "outputs": [],
   "source": []
  }
 ],
 "metadata": {
  "kernelspec": {
   "display_name": "Python 3 (ipykernel)",
   "language": "python",
   "name": "python3"
  },
  "language_info": {
   "codemirror_mode": {
    "name": "ipython",
    "version": 3
   },
   "file_extension": ".py",
   "mimetype": "text/x-python",
   "name": "python",
   "nbconvert_exporter": "python",
   "pygments_lexer": "ipython3",
   "version": "3.8.13"
  }
 },
 "nbformat": 4,
 "nbformat_minor": 5
}
