{
 "cells": [
  {
   "cell_type": "markdown",
   "id": "c0bf6a96",
   "metadata": {},
   "source": [
    "# 4"
   ]
  },
  {
   "cell_type": "markdown",
   "id": "01487192",
   "metadata": {},
   "source": [
    "### ??"
   ]
  },
  {
   "cell_type": "code",
   "execution_count": null,
   "id": "06c0d2bf",
   "metadata": {},
   "outputs": [],
   "source": [
    "[3,1,2,4] -> [4,2,2,2] # 3번 "
   ]
  },
  {
   "cell_type": "code",
   "execution_count": null,
   "id": "9cb63a46",
   "metadata": {},
   "outputs": [],
   "source": [
    "[1,3,5,4,2] -> [7,1,5,1,1]"
   ]
  },
  {
   "cell_type": "code",
   "execution_count": null,
   "id": "a8b5bc34",
   "metadata": {},
   "outputs": [],
   "source": [
    "1 2 3 8 1"
   ]
  },
  {
   "cell_type": "markdown",
   "id": "18451811",
   "metadata": {},
   "source": [
    "# 5"
   ]
  },
  {
   "cell_type": "code",
   "execution_count": 2,
   "id": "2ed139de",
   "metadata": {},
   "outputs": [],
   "source": [
    "abilities = [2,8,3,6,1,9,1,9]\n",
    "k = 2\n",
    "# 21"
   ]
  },
  {
   "cell_type": "code",
   "execution_count": 5,
   "id": "96fb7373",
   "metadata": {},
   "outputs": [],
   "source": [
    "abilites = sorted(abilities,reverse=True)"
   ]
  },
  {
   "cell_type": "code",
   "execution_count": 6,
   "id": "c8050525",
   "metadata": {},
   "outputs": [
    {
     "data": {
      "text/plain": [
       "[9, 9, 8, 6, 3, 2, 1, 1]"
      ]
     },
     "execution_count": 6,
     "metadata": {},
     "output_type": "execute_result"
    }
   ],
   "source": [
    "abilites"
   ]
  },
  {
   "cell_type": "code",
   "execution_count": 22,
   "id": "648f1809",
   "metadata": {},
   "outputs": [],
   "source": [
    "abilities = [7,6,8,9,10]\n",
    "k = 1 \n",
    "# "
   ]
  },
  {
   "cell_type": "code",
   "execution_count": null,
   "id": "31254e26",
   "metadata": {},
   "outputs": [],
   "source": [
    "# 우선권 써야하는 경우 . \n",
    "1. 2개씩 짝 지어놓고 차가 가장 큰 경우 2케이스에 쓰며뇜"
   ]
  },
  {
   "cell_type": "markdown",
   "id": "f97f6495",
   "metadata": {},
   "source": [
    "### 풀이"
   ]
  },
  {
   "cell_type": "code",
   "execution_count": 23,
   "id": "d917d9c0",
   "metadata": {},
   "outputs": [],
   "source": [
    "abilities = sorted(abilities,reverse=True)"
   ]
  },
  {
   "cell_type": "code",
   "execution_count": 24,
   "id": "8bcbb251",
   "metadata": {},
   "outputs": [],
   "source": [
    "abil_li = []"
   ]
  },
  {
   "cell_type": "code",
   "execution_count": 25,
   "id": "81ba5f49",
   "metadata": {},
   "outputs": [],
   "source": [
    "diff_li = []"
   ]
  },
  {
   "cell_type": "code",
   "execution_count": 26,
   "id": "eb4c6f3a",
   "metadata": {},
   "outputs": [],
   "source": [
    "temp = []\n",
    "count = 0\n",
    "for i in abilities:\n",
    "    temp.append(i)\n",
    "    count +=1 \n",
    "    if count ==2:\n",
    "        abil_li.append(temp)\n",
    "        diff_li.append(temp[0] - temp[1])\n",
    "        temp = []\n",
    "        count = 0\n",
    "if temp:\n",
    "    abil_li.append(temp)\n",
    "    diff_li.append(temp[0])\n",
    "    "
   ]
  },
  {
   "cell_type": "code",
   "execution_count": 27,
   "id": "64d4fd2c",
   "metadata": {},
   "outputs": [
    {
     "data": {
      "text/plain": [
       "[[10, 9], [8, 7], [6]]"
      ]
     },
     "execution_count": 27,
     "metadata": {},
     "output_type": "execute_result"
    }
   ],
   "source": [
    "abil_li"
   ]
  },
  {
   "cell_type": "code",
   "execution_count": 28,
   "id": "b4b45f42",
   "metadata": {},
   "outputs": [
    {
     "data": {
      "text/plain": [
       "[1, 1, 6]"
      ]
     },
     "execution_count": 28,
     "metadata": {},
     "output_type": "execute_result"
    }
   ],
   "source": [
    "diff_li"
   ]
  },
  {
   "cell_type": "code",
   "execution_count": 34,
   "id": "1ca92ef0",
   "metadata": {},
   "outputs": [
    {
     "data": {
      "text/plain": [
       "[0, 1]"
      ]
     },
     "execution_count": 34,
     "metadata": {},
     "output_type": "execute_result"
    }
   ],
   "source": [
    "list(filter(lambda x : diff_li[x] == 1, range(3)))"
   ]
  },
  {
   "cell_type": "markdown",
   "id": "e4db05a3",
   "metadata": {},
   "source": [
    "# 6번"
   ]
  },
  {
   "cell_type": "code",
   "execution_count": 52,
   "id": "2b5f99a9",
   "metadata": {},
   "outputs": [],
   "source": [
    "req_id = [\"William\",\"Andy\",\"Rohan\",\"Rohan\",\"Louis\",\"Andy\"]\n",
    "req_info = [\n",
    "    [1,7,20],\n",
    "    [0,10,10],\n",
    "    [1,10,40],\n",
    "    [1,4,25],\n",
    "    [0,5,11],\n",
    "    [0,20,30]\n",
    "]"
   ]
  },
  {
   "cell_type": "code",
   "execution_count": null,
   "id": "1f0ed48b",
   "metadata": {},
   "outputs": [],
   "source": [
    "# result = ['Andy +11 -240', \n",
    "# \"Louis 0 0\" ,            \n",
    "# \"Rohan -4 + 100\"\n",
    "# \"William\" -7 +140\n",
    "#]"
   ]
  },
  {
   "cell_type": "code",
   "execution_count": null,
   "id": "0137b66e",
   "metadata": {},
   "outputs": [],
   "source": [
    "# 구매자가 올리면 가격이 낮은순으로 팝해서 본다 . \n",
    "# 만일 가격이 높으면 그대로 스탑. - 힙상용 . \n",
    "# 다음으로 넘어감 . 비교해서 작은값만큼 구매를 한다 . 누적해서 보여줘야하기 때문에 그냥 dict써도 될듯 이건 "
   ]
  },
  {
   "cell_type": "code",
   "execution_count": 6,
   "id": "459d185f",
   "metadata": {},
   "outputs": [],
   "source": [
    "from collections import deque"
   ]
  },
  {
   "cell_type": "code",
   "execution_count": 15,
   "id": "a56aa69b",
   "metadata": {},
   "outputs": [],
   "source": [
    "# deque 는 deque를 그냥 선언해서 쓴느데\n",
    "a = deque()"
   ]
  },
  {
   "cell_type": "code",
   "execution_count": 13,
   "id": "1744746e",
   "metadata": {},
   "outputs": [],
   "source": [
    "a.append(3)"
   ]
  },
  {
   "cell_type": "code",
   "execution_count": 14,
   "id": "0e37be6e",
   "metadata": {},
   "outputs": [
    {
     "data": {
      "text/plain": [
       "deque([3])"
      ]
     },
     "execution_count": 14,
     "metadata": {},
     "output_type": "execute_result"
    }
   ],
   "source": [
    "a"
   ]
  },
  {
   "cell_type": "code",
   "execution_count": 64,
   "id": "174beae5",
   "metadata": {},
   "outputs": [],
   "source": [
    "import heapq"
   ]
  },
  {
   "cell_type": "code",
   "execution_count": 74,
   "id": "3b7f17e7",
   "metadata": {},
   "outputs": [],
   "source": [
    "# 힙큐는 list를 힙으로 사용 \n",
    "sell_queue = []"
   ]
  },
  {
   "cell_type": "code",
   "execution_count": 75,
   "id": "bd39fbf9",
   "metadata": {},
   "outputs": [],
   "source": [
    "from collections import defaultdict"
   ]
  },
  {
   "cell_type": "code",
   "execution_count": 76,
   "id": "c9a7e337",
   "metadata": {},
   "outputs": [],
   "source": [
    "amount_info = defaultdict(int)\n",
    "money_info = defaultdict(int)"
   ]
  },
  {
   "cell_type": "code",
   "execution_count": 77,
   "id": "5e502617",
   "metadata": {},
   "outputs": [],
   "source": [
    "for req , user in zip(req_info, req_id):\n",
    "    command , amount , price = req\n",
    "    if command ==1: # 판매\n",
    "        heapq.heappush(sell_queue,[price,amount,user])\n",
    "    else: # 구매\n",
    "        while amount > 0 :\n",
    "            lowest_sellprc = heapq.nsmallest(1, sell_queue )\n",
    "            if lowest_sellprc == []  : \n",
    "                break\n",
    "            if lowest_sellprc[0][0] > price:\n",
    "                break\n",
    "                \n",
    "            else:\n",
    "                sell_prc ,sell_amount, sell_user = heapq.heappop(sell_queue)\n",
    "                \n",
    "                if amount >= sell_amount:\n",
    "                    amount_info[user] += sell_amount\n",
    "                    money_info [user] += sell_prc * sell_amount\n",
    "                    amount_info[sell_user] -= sell_amount\n",
    "                    money_info[sell_user] -= sell_prc * sell_amount\n",
    "                    amount -= sell_amount\n",
    "                    \n",
    "                else: # amount < sell_amount:\n",
    "                    amount_info[user] += amount\n",
    "                    money_info [user] += sell_prc * amount\n",
    "                    amount_info[sell_user] -= amount\n",
    "                    money_info[sell_user] -= sell_prc * amount\n",
    "                    amount = 0 \n",
    "                    heapq.heappush(sell_queue, [sell_prc,sell_amount - amount , sell_user] )\n",
    "                    \n",
    "                        \n",
    "                        \n",
    "                    \n",
    "            \n",
    "        \n",
    "        "
   ]
  },
  {
   "cell_type": "code",
   "execution_count": 78,
   "id": "65f5e242",
   "metadata": {},
   "outputs": [
    {
     "data": {
      "text/plain": [
       "defaultdict(int, {'Andy': 11, 'William': -7, 'Rohan': -4})"
      ]
     },
     "execution_count": 78,
     "metadata": {},
     "output_type": "execute_result"
    }
   ],
   "source": [
    "amount_info"
   ]
  },
  {
   "cell_type": "code",
   "execution_count": 79,
   "id": "9f4a80eb",
   "metadata": {},
   "outputs": [
    {
     "data": {
      "text/plain": [
       "defaultdict(int, {'Andy': 240, 'William': -140, 'Rohan': -100})"
      ]
     },
     "execution_count": 79,
     "metadata": {},
     "output_type": "execute_result"
    }
   ],
   "source": [
    "money_info"
   ]
  },
  {
   "cell_type": "code",
   "execution_count": null,
   "id": "ef61aed5",
   "metadata": {},
   "outputs": [],
   "source": []
  }
 ],
 "metadata": {
  "kernelspec": {
   "display_name": "Python 3 (ipykernel)",
   "language": "python",
   "name": "python3"
  },
  "language_info": {
   "codemirror_mode": {
    "name": "ipython",
    "version": 3
   },
   "file_extension": ".py",
   "mimetype": "text/x-python",
   "name": "python",
   "nbconvert_exporter": "python",
   "pygments_lexer": "ipython3",
   "version": "3.8.13"
  }
 },
 "nbformat": 4,
 "nbformat_minor": 5
}
