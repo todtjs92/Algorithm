{
 "cells": [
  {
   "cell_type": "code",
   "execution_count": 1,
   "id": "9db15eac",
   "metadata": {},
   "outputs": [],
   "source": [
    "players = [\"mumu\", \"soe\", \"poe\", \"kai\", \"mine\"]"
   ]
  },
  {
   "cell_type": "code",
   "execution_count": 2,
   "id": "08eca529",
   "metadata": {},
   "outputs": [],
   "source": [
    "callings = [\"kai\", \"kai\", \"mine\", \"mine\"]"
   ]
  },
  {
   "cell_type": "code",
   "execution_count": 6,
   "id": "40c9ab2c",
   "metadata": {},
   "outputs": [],
   "source": [
    "player_location_index = {}"
   ]
  },
  {
   "cell_type": "code",
   "execution_count": 7,
   "id": "b2809ef3",
   "metadata": {},
   "outputs": [],
   "source": [
    "player_location_reverse_index = {}"
   ]
  },
  {
   "cell_type": "code",
   "execution_count": 8,
   "id": "16bc7bcd",
   "metadata": {},
   "outputs": [],
   "source": [
    "for index, player in enumerate(players):\n",
    "    player_location_index[player] = index\n",
    "    player_location_reverse_index[index] = player\n",
    "    \n",
    "    "
   ]
  },
  {
   "cell_type": "code",
   "execution_count": 9,
   "id": "717891e9",
   "metadata": {},
   "outputs": [
    {
     "data": {
      "text/plain": [
       "{'mumu': 0, 'soe': 1, 'poe': 2, 'kai': 3, 'mine': 4}"
      ]
     },
     "execution_count": 9,
     "metadata": {},
     "output_type": "execute_result"
    }
   ],
   "source": [
    "player_location_index"
   ]
  },
  {
   "cell_type": "code",
   "execution_count": 10,
   "id": "35caeea2",
   "metadata": {},
   "outputs": [
    {
     "data": {
      "text/plain": [
       "{0: 'mumu', 1: 'soe', 2: 'poe', 3: 'kai', 4: 'mine'}"
      ]
     },
     "execution_count": 10,
     "metadata": {},
     "output_type": "execute_result"
    }
   ],
   "source": [
    "player_location_reverse_index"
   ]
  },
  {
   "cell_type": "code",
   "execution_count": 11,
   "id": "932b44a3",
   "metadata": {},
   "outputs": [],
   "source": [
    "for player in callings:\n",
    "    player_location = player_location_index[player] \n",
    "    passed_player_location = player_location - 1    \n",
    "    passed_player = player_location_reverse_index[passed_player_location]  \n",
    "    \n",
    "    player_location_index[player] = passed_player_location\n",
    "    player_location_index[passed_player] = player_location\n",
    "    \n",
    "    player_location_reverse_index[player_location] = passed_player\n",
    "    player_location_reverse_index[passed_player_location] = player\n",
    "    "
   ]
  },
  {
   "cell_type": "code",
   "execution_count": 12,
   "id": "2fdf12a7",
   "metadata": {},
   "outputs": [
    {
     "data": {
      "text/plain": [
       "{0: 'mumu', 1: 'kai', 2: 'mine', 3: 'soe', 4: 'poe'}"
      ]
     },
     "execution_count": 12,
     "metadata": {},
     "output_type": "execute_result"
    }
   ],
   "source": [
    "player_location_reverse_index"
   ]
  },
  {
   "cell_type": "code",
   "execution_count": 19,
   "id": "5e99a665",
   "metadata": {},
   "outputs": [],
   "source": [
    "answer = list(player_location_reverse_index.values())"
   ]
  },
  {
   "cell_type": "code",
   "execution_count": 18,
   "id": "90336752",
   "metadata": {},
   "outputs": [
    {
     "data": {
      "text/plain": [
       "['mumu', 'kai', 'mine', 'soe', 'poe']"
      ]
     },
     "execution_count": 18,
     "metadata": {},
     "output_type": "execute_result"
    }
   ],
   "source": [
    "result"
   ]
  }
 ],
 "metadata": {
  "kernelspec": {
   "display_name": "Python 3 (ipykernel)",
   "language": "python",
   "name": "python3"
  },
  "language_info": {
   "codemirror_mode": {
    "name": "ipython",
    "version": 3
   },
   "file_extension": ".py",
   "mimetype": "text/x-python",
   "name": "python",
   "nbconvert_exporter": "python",
   "pygments_lexer": "ipython3",
   "version": "3.8.13"
  }
 },
 "nbformat": 4,
 "nbformat_minor": 5
}
