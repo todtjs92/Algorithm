{
 "cells": [
  {
   "cell_type": "code",
   "execution_count": 3,
   "id": "735e65c5",
   "metadata": {},
   "outputs": [
    {
     "name": "stdout",
     "output_type": "stream",
     "text": [
      "5 5\n"
     ]
    }
   ],
   "source": [
    "garo, sero =  map(int,input().split())\n"
   ]
  },
  {
   "cell_type": "code",
   "execution_count": 4,
   "id": "9f694d9e",
   "metadata": {},
   "outputs": [
    {
     "name": "stdout",
     "output_type": "stream",
     "text": [
      "10 25 7 8 13\n",
      "68 24 -78 63 32\n",
      "12 -69 100 -29 -25\n",
      "-16 -22 -57 -33 99\n",
      "7 -76 -11 77 15\n"
     ]
    }
   ],
   "source": [
    "N = garo -1\n",
    "M = sero -1\n",
    "start_i, start_j = 0,0\n",
    "map_ = [list(map(int,input().split())) for x in range(sero)]"
   ]
  },
  {
   "cell_type": "code",
   "execution_count": 5,
   "id": "a2b32846",
   "metadata": {},
   "outputs": [],
   "source": [
    "result = []\n",
    "trace_route =[]"
   ]
  },
  {
   "cell_type": "code",
   "execution_count": 6,
   "id": "527c471d",
   "metadata": {},
   "outputs": [],
   "source": [
    "\n",
    "def bfs(i,j,trace_route):\n",
    "    print(i,j,trace_route)\n",
    "    if i == N and j == M:\n",
    "        temp = 0\n",
    "        for t_i, t_j in trace_route:\n",
    "            temp += map_[t_i][t_j]\n",
    "        result += [temp]\n",
    "        return\n",
    "    for i in range(3):\n",
    "        if  i >=0 and i <= N and j >= 0 and j+1 <= M and [i,j+1] not in trace_route :\n",
    "            bfs(i,j+1,trace_route + [[i,j+1]])\n",
    "        if  i >=0 and i <= N and j-1 >= 0 and j <= M and [i,j-1] not in trace_route :\n",
    "            bfs(i,j-1,trace_route + [[i,j-1]])\n",
    "        if  i >=0 and i+1 <= N and j >= 0 and j <= M and [i+1,j] not in trace_route  :\n",
    "            bfs(i+1,j,trace_route + [[i+1,j]])"
   ]
  },
  {
   "cell_type": "code",
   "execution_count": null,
   "id": "99d5ae1f",
   "metadata": {},
   "outputs": [],
   "source": []
  }
 ],
 "metadata": {
  "kernelspec": {
   "display_name": "Python 3 (ipykernel)",
   "language": "python",
   "name": "python3"
  },
  "language_info": {
   "codemirror_mode": {
    "name": "ipython",
    "version": 3
   },
   "file_extension": ".py",
   "mimetype": "text/x-python",
   "name": "python",
   "nbconvert_exporter": "python",
   "pygments_lexer": "ipython3",
   "version": "3.8.13"
  }
 },
 "nbformat": 4,
 "nbformat_minor": 5
}
