{
 "cells": [
  {
   "cell_type": "code",
   "execution_count": 4,
   "id": "f0f82267",
   "metadata": {},
   "outputs": [],
   "source": [
    "# https://livlikwav.github.io/python/python-mutable-and-namespace/"
   ]
  },
  {
   "cell_type": "markdown",
   "id": "eea62a33",
   "metadata": {},
   "source": [
    "# immutable"
   ]
  },
  {
   "cell_type": "code",
   "execution_count": 5,
   "id": "f5b0c7f1",
   "metadata": {},
   "outputs": [],
   "source": [
    "a =1"
   ]
  },
  {
   "cell_type": "code",
   "execution_count": 2,
   "id": "d8ac3fff",
   "metadata": {},
   "outputs": [],
   "source": [
    "def func():\n",
    "    print(a)"
   ]
  },
  {
   "cell_type": "code",
   "execution_count": 11,
   "id": "68328644",
   "metadata": {},
   "outputs": [
    {
     "name": "stdout",
     "output_type": "stream",
     "text": [
      "1\n"
     ]
    }
   ],
   "source": [
    "# 1. local\n",
    "# 2. enclosed\n",
    "# 3. global\n",
    "# 4. built_in \n",
    "# 순으로 값을 찾아서 출력해줌. 따라서 됨.\n",
    "func()"
   ]
  },
  {
   "cell_type": "code",
   "execution_count": 12,
   "id": "95b8636b",
   "metadata": {},
   "outputs": [],
   "source": [
    "def func():\n",
    "    b= a+1\n",
    "    print(b)"
   ]
  },
  {
   "cell_type": "code",
   "execution_count": 14,
   "id": "f50d96fd",
   "metadata": {},
   "outputs": [
    {
     "name": "stdout",
     "output_type": "stream",
     "text": [
      "2\n"
     ]
    }
   ],
   "source": [
    "# 값을 변경하는건 아니므로 됨이것도\n",
    "func()"
   ]
  },
  {
   "cell_type": "code",
   "execution_count": 21,
   "id": "0c27eb54",
   "metadata": {},
   "outputs": [],
   "source": [
    "def func():\n",
    "    a= a+1\n",
    "    print(a)"
   ]
  },
  {
   "cell_type": "code",
   "execution_count": 22,
   "id": "64ce7c11",
   "metadata": {},
   "outputs": [
    {
     "ename": "UnboundLocalError",
     "evalue": "local variable 'a' referenced before assignment",
     "output_type": "error",
     "traceback": [
      "\u001b[0;31m---------------------------------------------------------------------------\u001b[0m",
      "\u001b[0;31mUnboundLocalError\u001b[0m                         Traceback (most recent call last)",
      "Input \u001b[0;32mIn [22]\u001b[0m, in \u001b[0;36m<cell line: 2>\u001b[0;34m()\u001b[0m\n\u001b[1;32m      1\u001b[0m \u001b[38;5;66;03m# immutable을 변경하려햇으므로 안됨.\u001b[39;00m\n\u001b[0;32m----> 2\u001b[0m \u001b[43mfunc\u001b[49m\u001b[43m(\u001b[49m\u001b[43m)\u001b[49m\n",
      "Input \u001b[0;32mIn [21]\u001b[0m, in \u001b[0;36mfunc\u001b[0;34m()\u001b[0m\n\u001b[1;32m      1\u001b[0m \u001b[38;5;28;01mdef\u001b[39;00m \u001b[38;5;21mfunc\u001b[39m():\n\u001b[0;32m----> 2\u001b[0m     a\u001b[38;5;241m=\u001b[39m \u001b[43ma\u001b[49m\u001b[38;5;241m+\u001b[39m\u001b[38;5;241m1\u001b[39m\n\u001b[1;32m      3\u001b[0m     \u001b[38;5;28mprint\u001b[39m(a)\n",
      "\u001b[0;31mUnboundLocalError\u001b[0m: local variable 'a' referenced before assignment"
     ]
    }
   ],
   "source": [
    "# immutable을 변경하려햇으므로 안됨.\n",
    "func()"
   ]
  },
  {
   "cell_type": "code",
   "execution_count": 27,
   "id": "d8f33924",
   "metadata": {},
   "outputs": [],
   "source": [
    "a=1"
   ]
  },
  {
   "cell_type": "code",
   "execution_count": 28,
   "id": "e04d7b92",
   "metadata": {},
   "outputs": [],
   "source": [
    "def func():\n",
    "    global a\n",
    "    a= a+1\n",
    "    print(a)\n",
    "# global"
   ]
  },
  {
   "cell_type": "code",
   "execution_count": 29,
   "id": "a622a89c",
   "metadata": {},
   "outputs": [
    {
     "name": "stdout",
     "output_type": "stream",
     "text": [
      "2\n"
     ]
    }
   ],
   "source": [
    "# global로 선언해서 고쳐주면 됨. \n",
    "func()"
   ]
  },
  {
   "cell_type": "code",
   "execution_count": 31,
   "id": "60b255ef",
   "metadata": {},
   "outputs": [],
   "source": [
    "x=1"
   ]
  },
  {
   "cell_type": "code",
   "execution_count": 32,
   "id": "93381d1e",
   "metadata": {},
   "outputs": [],
   "source": [
    "def func(x):\n",
    "    if x==2:\n",
    "        print(x)\n",
    "        return\n",
    "    func(x+1)"
   ]
  },
  {
   "cell_type": "code",
   "execution_count": 33,
   "id": "3a2b217e",
   "metadata": {},
   "outputs": [
    {
     "name": "stdout",
     "output_type": "stream",
     "text": [
      "2\n"
     ]
    }
   ],
   "source": [
    "func(x)"
   ]
  },
  {
   "cell_type": "code",
   "execution_count": 1,
   "id": "23001c17",
   "metadata": {},
   "outputs": [],
   "source": [
    "string = ''"
   ]
  },
  {
   "cell_type": "code",
   "execution_count": 2,
   "id": "0e71d624",
   "metadata": {},
   "outputs": [],
   "source": [
    "# 넘겨주면서 그 전으로 돌아옴. "
   ]
  },
  {
   "cell_type": "code",
   "execution_count": 2,
   "id": "a714a677",
   "metadata": {},
   "outputs": [],
   "source": [
    "def test(string): # 0 에서 멈춤 # 00에서 멈춤 끝\n",
    "    if len(string) >= 2:\n",
    "        print(string)\n",
    "        return\n",
    "    \n",
    "    for i in range(4):\n",
    "        string = string + str(i)\n",
    "        test(string)"
   ]
  },
  {
   "cell_type": "code",
   "execution_count": 3,
   "id": "46dfd269",
   "metadata": {},
   "outputs": [
    {
     "name": "stdout",
     "output_type": "stream",
     "text": [
      "00\n",
      "001\n",
      "0012\n",
      "00123\n",
      "01\n",
      "012\n",
      "0123\n"
     ]
    }
   ],
   "source": [
    "test(string)"
   ]
  },
  {
   "cell_type": "markdown",
   "id": "f69e3fb0",
   "metadata": {},
   "source": [
    "# 요거는?"
   ]
  },
  {
   "cell_type": "code",
   "execution_count": 52,
   "id": "2862ed4a",
   "metadata": {},
   "outputs": [],
   "source": [
    "string = ''"
   ]
  },
  {
   "cell_type": "code",
   "execution_count": 53,
   "id": "ac4ce262",
   "metadata": {},
   "outputs": [],
   "source": [
    "def test(string): # 0 에서 멈춤 # 00에서 멈춤 끝\n",
    "    if len(string) >= 2:\n",
    "        print(string)\n",
    "        return\n",
    "    \n",
    "    for i in range(4):\n",
    "        test(string + str(i))"
   ]
  },
  {
   "cell_type": "code",
   "execution_count": 54,
   "id": "72573d14",
   "metadata": {},
   "outputs": [
    {
     "name": "stdout",
     "output_type": "stream",
     "text": [
      "00\n",
      "01\n",
      "02\n",
      "03\n",
      "10\n",
      "11\n",
      "12\n",
      "13\n",
      "20\n",
      "21\n",
      "22\n",
      "23\n",
      "30\n",
      "31\n",
      "32\n",
      "33\n"
     ]
    }
   ],
   "source": [
    "test(string)"
   ]
  },
  {
   "cell_type": "markdown",
   "id": "1ca2a9c2",
   "metadata": {},
   "source": [
    "# mutable"
   ]
  },
  {
   "cell_type": "code",
   "execution_count": 4,
   "id": "c09f34cc",
   "metadata": {},
   "outputs": [],
   "source": [
    "# 다른건 똑같구"
   ]
  },
  {
   "cell_type": "code",
   "execution_count": 5,
   "id": "5e1c73ca",
   "metadata": {},
   "outputs": [],
   "source": [
    "list_=['a']"
   ]
  },
  {
   "cell_type": "code",
   "execution_count": 6,
   "id": "e9ff9d2f",
   "metadata": {},
   "outputs": [],
   "source": [
    "def func():\n",
    "    print(list_)\n",
    "    return"
   ]
  },
  {
   "cell_type": "code",
   "execution_count": 7,
   "id": "c1bb3bad",
   "metadata": {},
   "outputs": [
    {
     "name": "stdout",
     "output_type": "stream",
     "text": [
      "['a']\n"
     ]
    }
   ],
   "source": [
    "func()"
   ]
  },
  {
   "cell_type": "code",
   "execution_count": 8,
   "id": "f72ab0ba",
   "metadata": {},
   "outputs": [],
   "source": [
    "# 이게 다른점"
   ]
  },
  {
   "cell_type": "code",
   "execution_count": 9,
   "id": "81716986",
   "metadata": {},
   "outputs": [],
   "source": [
    "def func():\n",
    "    list_[0] = 'b'\n",
    "    return"
   ]
  },
  {
   "cell_type": "code",
   "execution_count": 10,
   "id": "30536aa9",
   "metadata": {},
   "outputs": [],
   "source": [
    "func()"
   ]
  },
  {
   "cell_type": "code",
   "execution_count": 11,
   "id": "e4867e10",
   "metadata": {},
   "outputs": [
    {
     "data": {
      "text/plain": [
       "['b']"
      ]
     },
     "execution_count": 11,
     "metadata": {},
     "output_type": "execute_result"
    }
   ],
   "source": [
    "list_"
   ]
  },
  {
   "cell_type": "markdown",
   "id": "480cce79",
   "metadata": {},
   "source": [
    "# global 선언안해도 바뀐다"
   ]
  },
  {
   "cell_type": "code",
   "execution_count": 77,
   "id": "2db61bd0",
   "metadata": {},
   "outputs": [],
   "source": [
    "func()"
   ]
  },
  {
   "cell_type": "code",
   "execution_count": 78,
   "id": "8e8dde0a",
   "metadata": {},
   "outputs": [
    {
     "data": {
      "text/plain": [
       "['b']"
      ]
     },
     "execution_count": 78,
     "metadata": {},
     "output_type": "execute_result"
    }
   ],
   "source": [
    "list_"
   ]
  },
  {
   "cell_type": "code",
   "execution_count": null,
   "id": "7ee30fed",
   "metadata": {},
   "outputs": [],
   "source": []
  },
  {
   "cell_type": "code",
   "execution_count": null,
   "id": "093b3a41",
   "metadata": {},
   "outputs": [],
   "source": []
  },
  {
   "cell_type": "code",
   "execution_count": 29,
   "id": "b979d4a8",
   "metadata": {},
   "outputs": [],
   "source": [
    "list_ = []"
   ]
  },
  {
   "cell_type": "code",
   "execution_count": 30,
   "id": "c711e3c3",
   "metadata": {},
   "outputs": [],
   "source": [
    "list_ = []\n",
    "def test(list_):  # 0더하고 멈춤. # 00에서멈춤\n",
    "    if len(list_) >= 2:\n",
    "        print(list_)\n",
    "        return\n",
    "    \n",
    "    for i in range(4):\n",
    "        \n",
    "        test(list_+[i])"
   ]
  },
  {
   "cell_type": "code",
   "execution_count": 31,
   "id": "eb53d3cc",
   "metadata": {},
   "outputs": [
    {
     "name": "stdout",
     "output_type": "stream",
     "text": [
      "[0, 0]\n",
      "[0, 1]\n",
      "[0, 2]\n",
      "[0, 3]\n",
      "[1, 0]\n",
      "[1, 1]\n",
      "[1, 2]\n",
      "[1, 3]\n",
      "[2, 0]\n",
      "[2, 1]\n",
      "[2, 2]\n",
      "[2, 3]\n",
      "[3, 0]\n",
      "[3, 1]\n",
      "[3, 2]\n",
      "[3, 3]\n"
     ]
    }
   ],
   "source": [
    "test(list_)"
   ]
  },
  {
   "cell_type": "code",
   "execution_count": 32,
   "id": "dd766a9a",
   "metadata": {},
   "outputs": [
    {
     "name": "stdout",
     "output_type": "stream",
     "text": [
      "5 5\n",
      "[144, 153, 251, 319, 275, 267, 70, 79, 177, 245, 239, 217, 132, 141, 239, 117, 95, 117, 89, 98, 170, 148, 170, 151, 180, 64, 73, 171, 239, 195, 187, -10, -1, 97, 165, 159, 137, 52, 61, 159, 33, 11, 33, 14, 43, 37, 15, 37, 9, 18, 109, 118, 216, 284, 240, 232, 35, 44, 142, 210, 109, 87, 109, 90, 119, 113, 91, 113, 85, 94, 204, 182, 97, 106, 204, 87, 96, 194, 262, 218, 158, 136, 158, 139, 168, 162, 140, 162, 134, 143, 253, 231, 146, 155, 253, 210, 13, 22, 120, 188, 70, 48, 70, 51, 80, 74, 52, 74, 46, 55, 165, 143, 58, 67, 165, 122, -75, -66, 32, 100, 53, 62, 160, 228, 184, 120, 98, 120, 101, 130, 124, 102, 124, 96, 105, 215, 193, 108, 117, 215, 172, -25, -16, 82, 150, 103, 112, 210, 278, 234, 99, 108, 206, 274, 230, 222, 25, 34, 132, 200, 194, 172, 87, 96, 194, 72, 50, 72, 44, 53, 125, 103, 125, 106, 135, 19, 28, 126, 194, 150, 142, -55, -46, 52, 120, 114, 92, 7, 16, 114, -12, -34, -12, -31, -2, -8, -30, -8, -36, -27, 64, 73, 171, 239, 195, 187, -10, -1, 97, 165, 64, 42, 64, 45, 74, 68, 46, 68, 40, 49, 159, 137, 52, 61, 159, 42, 51, 149, 217, 173, 113, 91, 113, 94, 123, 117, 95, 117, 89, 98, 208, 186, 101, 110, 208, 165, -32, -23, 75, 143, 34, 12, 34, 15, 44, 38, 16, 38, 10, 19, 129, 107, 22, 31, 129, 86, -111, -102, -4, 64, 17, 26, 124, 192, 148, -44, -35, 63, 131, 87, 27, 5, 27, 8, 37, 31, 9, 31, 3, 12, 122, 100, 15, 24, 122, 79, -118, -109, -11, 57, 28, 37, 135, 203, 159, 151, -46, -37, 61, 129, 123, 101, 16, 25, 123, 1, -21, 1, -27, -18, 54, 32, 54, 35, 64, -52, -43, 55, 123, 79, 71, -126, -117, -19, 49, 43, 21, -64, -55, 43, -83, -105, -83, -102, -73, -79, -101, -79, -107, -98, -7, 2, 100, 168, 124, 116, -81, -72, 26, 94, -7, -29, -7, -26, 3, -3, -25, -3, -31, -22, 88, 66, -19, -10, 88, 129, 107, 129, 110, 139, 133, 111, 133, 105, 114, 224, 202, 117, 126, 224, 181, -16, -7, 91, 159, 112, 121, 219, 287, 243, 51, 60, 158, 226, 182, 122, 100, 122, 103, 132, 126, 104, 126, 98, 107, 217, 195, 110, 119, 217, 174, -23, -14, 84, 152, 88, 97, 195, 263, 219, 211, 14, 23, 121, 189, 88, 66, 88, 69, 98, 92, 70, 92, 64, 73, 183, 161, 76, 85, 183, 97, 106, 204, 272, 228, 220, 23, 32, 130, 198, 192, 170, 85, 94, 192, 66, 44, 66, 47, 76, 70, 48, 70, 42, 51, 85, 94, 192, 260, 216, 208, 11, 20, 118, 186, 180, 158, 73, 82, 180, 58, 36, 58, 30, 39, 111, 89, 111, 92, 121, 51, 29, 51, 32, 61, 55, 33, 55, 27, 36, 146, 124, 39, 48, 146, 103, -94, -85, 13, 81, 34, 43, 141, 209, 165, -27, -18, 80, 148, 104, 44, 22, 44, 25, 54, 48, 26, 48, 20, 29, 139, 117, 32, 41, 139, 96, -101, -92, 6, 74, 10, 19, 117, 185, 141, 133, -64, -55, 43, 111, 10, -12, 10, -9, 20, 14, -8, 14, -14, -5, 105, 83, -2, 7, 105, 99, 108, 206, 274, 230, 222, 25, 34, 132, 200, 194, 172, 87, 96, 194, 72, 50, 72, 44, 53, 125, 103, 125, 106, 135, 19, 28, 126, 194, 150, 142, -55, -46, 52, 120, 114, 92, 7, 16, 114, -12, -34, -12, -31, -2, -8, -30, -8, -36, -27, 94, 72, 94, 75, 104, 98, 76, 98, 70, 79, 189, 167, 82, 91, 189, 146, -51, -42, 56, 124, 77, 86, 184, 252, 208, 16, 25, 123, 191, 147, 87, 65, 87, 68, 97, 91, 69, 91, 63, 72, 182, 160, 75, 84, 182, 139, -58, -49, 49, 117, 53, 62, 160, 228, 184, 176, -21, -12, 86, 154, 53, 31, 53, 34, 63, 57, 35, 57, 29, 38, 148, 126, 41, 50, 148, 62, 71, 169, 237, 193, 185, -12, -3, 95, 163, 157, 135, 50, 59, 157, 31, 9, 31, 12, 41, 35, 13, 35, 7, 16, 50, 59, 157, 225, 181, 173, -24, -15, 83, 151, 145, 123, 38, 47, 145, 23, 1, 23, -5, 4, 76, 54, 76, 57, 86]\n"
     ]
    }
   ],
   "source": [
    "garo, sero =  map(int,input().split())\n",
    "N = garo -1\n",
    "M = sero -1\n",
    "start_i, start_j = 0,0\n",
    "map_ = [[10, 25, 7 ,8 ,13],[68 ,24 ,-78, 63, 32],[12 ,-69, 100, -29, -25],[-16 ,-22 ,-57, -33, 99],[7 ,-76, -11, 77 ,15]]\n",
    "result = []\n",
    "visited = set()\n",
    "\n",
    "def bfs(i,j,trace_route):\n",
    "    global result\n",
    "    if i == N and j == M:\n",
    "        temp = 0\n",
    "        for t_i, t_j in trace_route:\n",
    "            temp += map_[t_i][t_j]\n",
    "        result += [temp]\n",
    "        return\n",
    "    for di, dj in [(0,1),(0,-1),(1,0)]:\n",
    "        ni, nj = i+di, j+dj\n",
    "        if ni >=0 and ni <= N and nj >= 0 and nj <= M and (ni,nj) not in visited:\n",
    "            visited.add((ni,nj))\n",
    "            bfs(ni, nj, trace_route + [(ni,nj)])\n",
    "            visited.remove((ni,nj))\n",
    "\n",
    "bfs(0,0,[(0,0)])\n",
    "print(result)"
   ]
  },
  {
   "cell_type": "code",
   "execution_count": 34,
   "id": "03e6cd74",
   "metadata": {},
   "outputs": [
    {
     "data": {
      "text/plain": [
       "319"
      ]
     },
     "execution_count": 34,
     "metadata": {},
     "output_type": "execute_result"
    }
   ],
   "source": [
    "max(result)"
   ]
  },
  {
   "cell_type": "code",
   "execution_count": null,
   "id": "afad4ca1",
   "metadata": {},
   "outputs": [],
   "source": []
  }
 ],
 "metadata": {
  "kernelspec": {
   "display_name": "Python 3 (ipykernel)",
   "language": "python",
   "name": "python3"
  },
  "language_info": {
   "codemirror_mode": {
    "name": "ipython",
    "version": 3
   },
   "file_extension": ".py",
   "mimetype": "text/x-python",
   "name": "python",
   "nbconvert_exporter": "python",
   "pygments_lexer": "ipython3",
   "version": "3.8.13"
  }
 },
 "nbformat": 4,
 "nbformat_minor": 5
}
