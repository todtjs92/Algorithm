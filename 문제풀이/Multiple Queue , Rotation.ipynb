{
 "cells": [
  {
   "cell_type": "markdown",
   "id": "a80d50b7",
   "metadata": {},
   "source": [
    "## Multiple Queue"
   ]
  },
  {
   "cell_type": "code",
   "execution_count": 36,
   "id": "1fefd48f",
   "metadata": {},
   "outputs": [
    {
     "name": "stdout",
     "output_type": "stream",
     "text": [
      "4\n"
     ]
    }
   ],
   "source": [
    "n =int(input())"
   ]
  },
  {
   "cell_type": "code",
   "execution_count": 37,
   "id": "093a935d",
   "metadata": {},
   "outputs": [],
   "source": [
    "queries = [[0,1],[0,2],[0,3],[3,4],[1,5],[1,6],[2,7],[3,8],[1,9],[-1,-1],[-1,-1],[-1,-1],[-1,-1],\n",
    "           [-1,-1],[-1,-1],[-1,-1],[-1,-1],[-1,-1],[1,10],[1,11],[-1,-1],[3,12],[-1,-1],[-1,-1]\n",
    "          ]\n"
   ]
  },
  {
   "cell_type": "code",
   "execution_count": 43,
   "id": "5755b766",
   "metadata": {},
   "outputs": [],
   "source": [
    "def func(n,queries):\n",
    "    result = []\n",
    "    front = []\n",
    "    pop_loc = 0\n",
    "    queues = [[] for _ in range(n)]\n",
    "    for q in queries:\n",
    "        # pop\n",
    "        if q[0] == -1:\n",
    "            pop_to_result = front.pop()\n",
    "            result.append(pop_to_result)\n",
    "\n",
    "            pop_to_front = queues[pop_loc].pop(0)\n",
    "            front.append(pop_to_front)\n",
    "\n",
    "            count = 0 \n",
    "            while count < n:\n",
    "                pop_loc +=1\n",
    "                pop_loc = pop_loc % n\n",
    "                count +=1\n",
    "                \n",
    "                if queues[pop_loc]:\n",
    "                    break\n",
    "            \n",
    "            if count == n:\n",
    "                print(queues)\n",
    "                return result\n",
    "            else:\n",
    "                continue\n",
    "                \n",
    "        # push\n",
    "        else:\n",
    "            loc, item = q[0], q[1]\n",
    "            if not front:\n",
    "                front.append(item)\n",
    "\n",
    "            else:\n",
    "                queues[loc].append(item)\n",
    "\n",
    "\n",
    "\n",
    "\n"
   ]
  },
  {
   "cell_type": "code",
   "execution_count": 44,
   "id": "289cd4bb",
   "metadata": {},
   "outputs": [
    {
     "name": "stdout",
     "output_type": "stream",
     "text": [
      "[[], [], [], []]\n"
     ]
    }
   ],
   "source": [
    "result = func(n,queries)"
   ]
  },
  {
   "cell_type": "code",
   "execution_count": 45,
   "id": "705508a1",
   "metadata": {},
   "outputs": [
    {
     "data": {
      "text/plain": [
       "[1, 2, 5, 7, 4, 3, 6, 8]"
      ]
     },
     "execution_count": 45,
     "metadata": {},
     "output_type": "execute_result"
    }
   ],
   "source": [
    "result"
   ]
  },
  {
   "cell_type": "code",
   "execution_count": null,
   "id": "94ef7082",
   "metadata": {},
   "outputs": [],
   "source": []
  },
  {
   "cell_type": "code",
   "execution_count": 11,
   "id": "adb12bad",
   "metadata": {},
   "outputs": [],
   "source": [
    "queues = [[] for _ in range(n)]"
   ]
  },
  {
   "cell_type": "code",
   "execution_count": 13,
   "id": "00defd3f",
   "metadata": {},
   "outputs": [],
   "source": [
    "result = []"
   ]
  },
  {
   "cell_type": "code",
   "execution_count": 14,
   "id": "358f23a3",
   "metadata": {},
   "outputs": [],
   "source": [
    "pop_loc = 0"
   ]
  },
  {
   "cell_type": "code",
   "execution_count": null,
   "id": "f1eb6bec",
   "metadata": {},
   "outputs": [],
   "source": [
    "for q in queries:\n",
    "    \n",
    "    \n",
    "    # pop\n",
    "    if q[0] == -1:\n",
    "        pop_to_result = front.pop()\n",
    "        result.append(pop_to_result)\n",
    "        \n",
    "        pop_to_front = queues[pop_loc].pop(0)\n",
    "        front.append(pop_to_front)\n",
    "        \n",
    "        count = 0 \n",
    "        while queues[pop_loc]:\n",
    "            pop_loc +=1\n",
    "            pop_loc =pop_loc%4\n",
    "            count +=1\n",
    "            if count == n:\n",
    "                return \n",
    "   \n",
    "    # push\n",
    "    else:\n",
    "        loc, item = q[0], q[1]\n",
    "        if not front:\n",
    "            front.append(loc)\n",
    "            \n",
    "        else:\n",
    "            queues[loc].append(item)\n",
    "            \n",
    "        \n",
    "        \n",
    "        "
   ]
  },
  {
   "cell_type": "markdown",
   "id": "22ee8999",
   "metadata": {},
   "source": [
    "## Rotatition"
   ]
  },
  {
   "cell_type": "code",
   "execution_count": 16,
   "id": "829d1533",
   "metadata": {},
   "outputs": [],
   "source": [
    "grid = [[0,1,2,3,4,5,6,7],\n",
    "       [8,9,10,11,12,13,14,15],\n",
    "       [16,17,18,19,20,21,22,23],\n",
    "       [24,25,26,27,28,29,30,31],\n",
    "       [32,33,34,35,36,37,38,39]]"
   ]
  },
  {
   "cell_type": "code",
   "execution_count": 17,
   "id": "461e49be",
   "metadata": {},
   "outputs": [],
   "source": [
    "queries = [[1,2,5,7,-1],\n",
    "          [2,1,4,8,1],\n",
    "          [1,1,5,8,-1],\n",
    "          [2,2,4,7,1]]"
   ]
  },
  {
   "cell_type": "code",
   "execution_count": 18,
   "id": "269a6e6a",
   "metadata": {},
   "outputs": [],
   "source": [
    "def rotate_left(grid_):\n",
    "    garo = len(grid_)\n",
    "    sero = len(grid_[0])\n",
    "    start_loc_i = garo -1\n",
    "    start_loc_j = sero -1 \n",
    "    loc_i , loc_j = start_loc_i , start_loc_j\n",
    "    \n",
    "    while loc_j >= 0:\n",
    "        temp = []\n",
    "        \n",
    "        \n",
    "        while loc_i >= 0 and loc_j >= 0 and loc_i < garo and loc_j < sero :\n",
    "            \n",
    "            temp.append(grid_[loc_i][loc_j])\n",
    "            loc_i +=1\n",
    "            loc_j -=1\n",
    "        \n",
    "        temp = temp[::-1]\n",
    "        count = 0\n",
    "        loc_i , loc_j = start_loc_i , start_loc_j\n",
    "        \n",
    "        while loc_i >= 0 and loc_j >= 0 and loc_i < garo and loc_j < sero :\n",
    "            grid_[loc_i][loc_j] = temp[count]\n",
    "            loc_i +=1\n",
    "            loc_j -=1\n",
    "            count+=1\n",
    "        \n",
    "        \n",
    "        if start_loc_i != 0:\n",
    "            start_loc_i = start_loc_i -1\n",
    "        else:\n",
    "            start_loc_j = start_loc_j -1\n",
    "        \n",
    "        loc_i, loc_j = start_loc_i , start_loc_j\n",
    "        \n",
    "    return grid_"
   ]
  },
  {
   "cell_type": "code",
   "execution_count": 19,
   "id": "86184708",
   "metadata": {},
   "outputs": [],
   "source": [
    "def rotate_right(grid_):\n",
    "    garo = len(grid_)\n",
    "    sero = len(grid_[0])\n",
    "    start_loc_i = garo-1\n",
    "    start_loc_j = 0\n",
    "    loc_i, loc_j = start_loc_i , start_loc_j\n",
    "    \n",
    "    \n",
    "    while loc_j != sero:\n",
    "        temp = []\n",
    "        \n",
    "        \n",
    "        while loc_i >= 0 and loc_j >= 0 and loc_i < garo and loc_j < sero :\n",
    "            \n",
    "            temp.append(grid_[loc_i][loc_j])\n",
    "            loc_i +=1\n",
    "            loc_j +=1\n",
    "        \n",
    "        temp = temp[::-1]\n",
    "        \n",
    "        count = 0\n",
    "        loc_i, loc_j = start_loc_i , start_loc_j\n",
    "        \n",
    "        while loc_i >= 0 and loc_j >= 0 and loc_i < garo and loc_j < sero :\n",
    "            \n",
    "            grid_[loc_i][loc_j] = temp[count]\n",
    "            loc_i +=1\n",
    "            loc_j +=1\n",
    "            count+=1\n",
    "        \n",
    "        if start_loc_i != 0:\n",
    "            start_loc_i = start_loc_i -1\n",
    "        else:\n",
    "            start_loc_j = start_loc_j +1\n",
    "        \n",
    "        loc_i, loc_j = start_loc_i , start_loc_j\n",
    "        \n",
    "    \n",
    "    return grid_\n",
    "        "
   ]
  },
  {
   "cell_type": "code",
   "execution_count": 20,
   "id": "94db75ca",
   "metadata": {},
   "outputs": [],
   "source": [
    "def index_fix(list_):\n",
    "    list_[0] = list_[0] -1\n",
    "    list_[1] = list_[1] -1\n",
    "    list_[2] = list_[2] -1\n",
    "    list_[3] = list_[3] -1\n",
    "    return list_"
   ]
  },
  {
   "cell_type": "code",
   "execution_count": 21,
   "id": "82d45d5c",
   "metadata": {},
   "outputs": [
    {
     "data": {
      "text/plain": [
       "[[0, 1, 2, 3, 4, 5, 6, 7],\n",
       " [8, 9, 10, 11, 12, 13, 14, 15],\n",
       " [16, 17, 18, 19, 20, 21, 22, 23],\n",
       " [24, 25, 26, 27, 28, 29, 30, 31],\n",
       " [32, 33, 34, 35, 36, 37, 38, 39]]"
      ]
     },
     "execution_count": 21,
     "metadata": {},
     "output_type": "execute_result"
    }
   ],
   "source": [
    "grid"
   ]
  },
  {
   "cell_type": "code",
   "execution_count": 22,
   "id": "f216d579",
   "metadata": {},
   "outputs": [
    {
     "name": "stdout",
     "output_type": "stream",
     "text": [
      "[[0, 1, 9, 17, 25, 33, 34, 7], [8, 2, 10, 18, 26, 27, 35, 15], [16, 3, 11, 19, 20, 28, 36, 23], [24, 4, 12, 13, 21, 29, 37, 31], [32, 5, 6, 14, 22, 30, 38, 39]]\n",
      "[[0, 1, 9, 17, 25, 33, 34, 7], [12, 13, 21, 29, 37, 31, 23, 15], [4, 3, 11, 19, 20, 28, 36, 35], [24, 16, 8, 2, 10, 18, 26, 27], [32, 5, 6, 14, 22, 30, 38, 39]]\n",
      "[[0, 12, 4, 24, 32, 5, 6, 14], [1, 13, 3, 16, 8, 2, 10, 22], [9, 21, 11, 19, 20, 28, 18, 30], [17, 29, 37, 31, 23, 36, 26, 38], [25, 33, 34, 7, 15, 35, 27, 39]]\n",
      "[[0, 12, 4, 24, 32, 5, 6, 14], [1, 31, 23, 36, 26, 18, 10, 22], [9, 37, 11, 19, 20, 28, 2, 30], [17, 29, 21, 13, 3, 16, 8, 38], [25, 33, 34, 7, 15, 35, 27, 39]]\n"
     ]
    }
   ],
   "source": [
    "for q in queries:\n",
    "    \n",
    "    start_i, start_j , end_i , end_j , command = index_fix(q)\n",
    "    target_grid = [row[start_j:end_j+1] for row in grid[start_i:end_i+1]]\n",
    "    \n",
    "    if command == 1:\n",
    "        result_grid = rotate_right(target_grid)\n",
    "        for ii in range(start_i,end_i+1):\n",
    "            for jj in range(start_j, end_j+1):\n",
    "                grid[ii][jj] = result_grid[ii - start_i][jj - start_j]\n",
    "            \n",
    "        \n",
    "    \n",
    "    elif command == -1:\n",
    "        result_grid = rotate_left(target_grid)\n",
    "        for ii in range(start_i,end_i+1):\n",
    "            for jj in range(start_j, end_j+1):\n",
    "                grid[ii][jj] = result_grid[ii - start_i][jj - start_j]\n",
    "        \n",
    "    print(grid)"
   ]
  },
  {
   "cell_type": "code",
   "execution_count": null,
   "id": "1e135b7f",
   "metadata": {},
   "outputs": [],
   "source": []
  },
  {
   "cell_type": "code",
   "execution_count": null,
   "id": "58ae4bca",
   "metadata": {},
   "outputs": [],
   "source": []
  }
 ],
 "metadata": {
  "kernelspec": {
   "display_name": "Python 3 (ipykernel)",
   "language": "python",
   "name": "python3"
  },
  "language_info": {
   "codemirror_mode": {
    "name": "ipython",
    "version": 3
   },
   "file_extension": ".py",
   "mimetype": "text/x-python",
   "name": "python",
   "nbconvert_exporter": "python",
   "pygments_lexer": "ipython3",
   "version": "3.8.13"
  }
 },
 "nbformat": 4,
 "nbformat_minor": 5
}
