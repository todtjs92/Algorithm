{
 "cells": [
  {
   "cell_type": "code",
   "execution_count": 25,
   "id": "fe16b66e",
   "metadata": {},
   "outputs": [],
   "source": [
    "import copy"
   ]
  },
  {
   "cell_type": "code",
   "execution_count": 26,
   "id": "25a9405a",
   "metadata": {},
   "outputs": [],
   "source": [
    "n = 8 # 개수\n",
    "k = 2 # 포인터\n",
    "cmd = [\"D 2\",\"C\",\"U 3\",\"C\",\"D 4\",\"C\",\"U 2\",\"Z\",\"Z\",\"U 1\",\"C\"]"
   ]
  },
  {
   "cell_type": "markdown",
   "id": "b912595b",
   "metadata": {},
   "source": [
    "# 기존"
   ]
  },
  {
   "cell_type": "code",
   "execution_count": 36,
   "id": "e6118e5b",
   "metadata": {},
   "outputs": [
    {
     "name": "stdout",
     "output_type": "stream",
     "text": [
      "[0, 1, 2, 3, 4, 5, 6, 7] K =  4\n",
      "[0, 1, 2, 3, 5, 6, 7] K =  4\n",
      "[0, 1, 2, 3, 5, 6, 7] K =  1\n",
      "[0, 2, 3, 5, 6, 7] K =  1\n",
      "[0, 2, 3, 5, 6, 7] K =  5\n",
      "[0, 2, 3, 5, 6] K =  5\n",
      "[0, 2, 3, 5, 6] K =  3\n",
      "[0, 2, 3, 5, 6, 7] K =  3\n",
      "[0, 1, 2, 3, 5, 6, 7] K =  3\n",
      "[0, 1, 2, 3, 5, 6, 7] K =  2\n",
      "[0, 1, 3, 5, 6, 7] K =  2\n"
     ]
    }
   ],
   "source": [
    "name = list(range(n))\n",
    "name_copy = copy.copy(name)\n",
    "rm_li=  []\n",
    "ox = ['O' for x in range(n)]\n",
    "for _ in cmd:\n",
    "    split  = _.split(' ')\n",
    "    \n",
    "    if len(split) ==2:\n",
    "        if split[0] == 'D':\n",
    "            k += int(split[1])\n",
    "        elif split[0] == 'U':\n",
    "            k -= int(split[1])\n",
    "    else:\n",
    "        if split[0] == 'C':\n",
    "            rm_li.append([k,name_copy[k]])\n",
    "            ox[name_copy[k]]='X'\n",
    "            if k  == len(name_copy):\n",
    "                name_copy.pop(k)\n",
    "                k = k-1\n",
    "            else:\n",
    "                name_copy.pop(k)\n",
    "                \n",
    "        \n",
    "        elif split[0] =='Z':\n",
    "            pointer, name = rm_li.pop()\n",
    "            ox[name] = 'O'\n",
    "            name_copy.insert(name,name)\n",
    "    print(name_copy ,'K = ',k)\n",
    "answer = ''.join(ox)\n",
    "    \n",
    "            \n",
    "            \n",
    "            \n",
    "            \n",
    "    \n",
    "        \n",
    "    "
   ]
  },
  {
   "cell_type": "code",
   "execution_count": 34,
   "id": "c8798b1a",
   "metadata": {},
   "outputs": [
    {
     "data": {
      "text/plain": [
       "'OOXOXOOO'"
      ]
     },
     "execution_count": 34,
     "metadata": {},
     "output_type": "execute_result"
    }
   ],
   "source": [
    "answer"
   ]
  },
  {
   "cell_type": "code",
   "execution_count": null,
   "id": "15931658",
   "metadata": {},
   "outputs": [],
   "source": []
  }
 ],
 "metadata": {
  "kernelspec": {
   "display_name": "Python 3 (ipykernel)",
   "language": "python",
   "name": "python3"
  },
  "language_info": {
   "codemirror_mode": {
    "name": "ipython",
    "version": 3
   },
   "file_extension": ".py",
   "mimetype": "text/x-python",
   "name": "python",
   "nbconvert_exporter": "python",
   "pygments_lexer": "ipython3",
   "version": "3.9.7"
  }
 },
 "nbformat": 4,
 "nbformat_minor": 5
}
