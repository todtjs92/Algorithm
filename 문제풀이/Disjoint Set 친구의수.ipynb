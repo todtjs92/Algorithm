{
 "cells": [
  {
   "cell_type": "code",
   "execution_count": null,
   "id": "3ed8aa9c",
   "metadata": {},
   "outputs": [],
   "source": [
    "7 10\n",
    "1 1\n",
    "0 1 2\n",
    "1 1\n",
    "0 3 4\n",
    "1 3\n",
    "0 2 4\n",
    "1 1\n",
    "1 5 # 1 \n",
    "0 5 5\n",
    "1 5 # 1"
   ]
  },
  {
   "cell_type": "markdown",
   "id": "9f650041",
   "metadata": {},
   "source": [
    "### 2트"
   ]
  },
  {
   "cell_type": "code",
   "execution_count": null,
   "id": "e3158f41",
   "metadata": {},
   "outputs": [],
   "source": [
    "## 1. 가장상위노드가 같으면 같은 친구임. \n",
    "## 2. 가장 상위노드를 업데이트칠수 있게하자 . \n",
    "## 3. 숫자 작으면 상위로 하지 그냥 ."
   ]
  },
  {
   "cell_type": "code",
   "execution_count": 2,
   "id": "b0261cb9",
   "metadata": {},
   "outputs": [],
   "source": [
    "### 1. 상위 노드 표시할수있는 리스트 하나 []\n",
    "### 2. 상위 노드 찾을때까지 올라타야할거같은데 . 상위노드가 자기 자신이면 걔는 극상. \n",
    "### 3. test case 찢어져 있는 경우 . , 모두 친구, 12 34 23친구되는 경우 브릿지 체크 \n",
    "### 4. parents 중복일때 제외해줘야함 "
   ]
  },
  {
   "cell_type": "code",
   "execution_count": null,
   "id": "21207116",
   "metadata": {},
   "outputs": [],
   "source": [
    "def find_top(x):\n",
    "    \n",
    "        \n",
    "    top = top_list[x]\n",
    "    if top == x:\n",
    "        return top\n",
    "    \n",
    "    return find_top(top)\n",
    "\n",
    "n , queries = list(map(int,input().split()))\n",
    "top_list = [x for x in range(n)]\n",
    "numbers = [1 for x in range(n)]\n",
    "for _ in range(queries):\n",
    "    ## todo make 1 \n",
    "    tokens = list(map(int,input().split()))\n",
    "    \n",
    "    if len(tokens) == 2:\n",
    "        _, target = tokens\n",
    "        target -= 1\n",
    "        top_target = find_top(target)\n",
    "        print(numbers[top_target])\n",
    "    else:\n",
    "        _, a, b  = tokens\n",
    "        a-= 1\n",
    "        b-= 1\n",
    "        \n",
    "       \n",
    "            \n",
    "        top_a = find_top(a)\n",
    "        top_b = find_top(b)\n",
    "        \n",
    "        if top_a >= top_b:\n",
    "            \n",
    "            top_list[b] = top_a\n",
    "            top_list[a] = top_a\n",
    "        else:\n",
    "            top_list[a] = top_b\n",
    "            top_list[b] = top_b\n",
    "            \n",
    "        \n",
    "        sum_ = numbers[top_b] + numbers[top_a]\n",
    "        numbers[top_a] = sum_\n",
    "        numbers[top_b] = sum_"
   ]
  },
  {
   "cell_type": "code",
   "execution_count": null,
   "id": "d89d48d3",
   "metadata": {},
   "outputs": [],
   "source": [
    "1 2"
   ]
  },
  {
   "cell_type": "code",
   "execution_count": 99,
   "id": "a8a9e2f2",
   "metadata": {},
   "outputs": [
    {
     "name": "stdout",
     "output_type": "stream",
     "text": [
      "7 10\n"
     ]
    }
   ],
   "source": [
    "n , queries = list(map(int,input().split()))"
   ]
  },
  {
   "cell_type": "code",
   "execution_count": 100,
   "id": "d7319f9e",
   "metadata": {},
   "outputs": [],
   "source": [
    "top_list = [x for x in range(n)]"
   ]
  },
  {
   "cell_type": "code",
   "execution_count": 101,
   "id": "e5549fe1",
   "metadata": {},
   "outputs": [
    {
     "data": {
      "text/plain": [
       "[0, 1, 2, 3, 4, 5, 6]"
      ]
     },
     "execution_count": 101,
     "metadata": {},
     "output_type": "execute_result"
    }
   ],
   "source": [
    "top_list"
   ]
  },
  {
   "cell_type": "code",
   "execution_count": 102,
   "id": "f6e95772",
   "metadata": {},
   "outputs": [],
   "source": [
    "def find_top(x):\n",
    "    \n",
    "        \n",
    "    top = top_list[x]\n",
    "    if top == x:\n",
    "        return top\n",
    "    \n",
    "    return find_top(top)\n",
    "    "
   ]
  },
  {
   "cell_type": "code",
   "execution_count": 103,
   "id": "4d6d05df",
   "metadata": {},
   "outputs": [],
   "source": [
    "numbers = [1 for x in range(n)]"
   ]
  },
  {
   "cell_type": "code",
   "execution_count": 104,
   "id": "168bda1e",
   "metadata": {},
   "outputs": [],
   "source": [
    "# numbers를 최신화할떄 top의 값으로 업뎃쳐주면 되구나"
   ]
  },
  {
   "cell_type": "code",
   "execution_count": 105,
   "id": "2cbee419",
   "metadata": {},
   "outputs": [
    {
     "data": {
      "text/plain": [
       "[1, 2, 4, 4, 2, 1, 1]"
      ]
     },
     "execution_count": 105,
     "metadata": {},
     "output_type": "execute_result"
    }
   ],
   "source": [
    "[1, 2, 4, 4, 2, 1, 1]"
   ]
  },
  {
   "cell_type": "code",
   "execution_count": 106,
   "id": "27143c78",
   "metadata": {},
   "outputs": [
    {
     "data": {
      "text/plain": [
       "[0, 1, 2, 3, 4, 5, 6]"
      ]
     },
     "execution_count": 106,
     "metadata": {},
     "output_type": "execute_result"
    }
   ],
   "source": [
    "top_list"
   ]
  },
  {
   "cell_type": "markdown",
   "id": "39edceb1",
   "metadata": {},
   "source": [
    "### 변했을때 아래가 변하지못함 이러니까 , 상위노드가 변했을경우 아래도 변해야함. 걍 n으로 밑까지 다 흩는 방법이있음. \n",
    "### 근데 그러면 오래걸릴듯. 미리 키 같이 걸린 dict 만들어둬야할듯 ."
   ]
  },
  {
   "cell_type": "markdown",
   "id": "59f09285",
   "metadata": {},
   "source": [
    "### numbers를 미리 세두니까 top_list 를 굳이 항상 최신화 하지 않아도 되구나, 하지만 numbers는 미리 계산해둬야 O(1) 가능 ."
   ]
  },
  {
   "cell_type": "code",
   "execution_count": null,
   "id": "ac874558",
   "metadata": {},
   "outputs": [],
   "source": []
  },
  {
   "cell_type": "code",
   "execution_count": 107,
   "id": "9f0a3af7",
   "metadata": {},
   "outputs": [],
   "source": [
    "### 셀떄도 문제 리스트로 하니까"
   ]
  },
  {
   "cell_type": "code",
   "execution_count": 108,
   "id": "bc91ee12",
   "metadata": {},
   "outputs": [
    {
     "name": "stdout",
     "output_type": "stream",
     "text": [
      "1 1\n",
      "1\n",
      "0 1 2\n",
      "1 1\n",
      "2\n",
      "0 3 4\n",
      "1 3\n",
      "2\n",
      "0 2 4\n",
      "1 1\n",
      "4\n",
      "1 5\n",
      "1\n",
      "0 5 5\n",
      "1 5\n",
      "1\n"
     ]
    }
   ],
   "source": [
    "for _ in range(queries):\n",
    "    ## todo make 1 \n",
    "    tokens = list(map(int,input().split()))\n",
    "    \n",
    "    if len(tokens) == 2:\n",
    "        _, target = tokens\n",
    "        top_target = find_top(target)\n",
    "        print(numbers[top_target])\n",
    "    else:\n",
    "        _, a, b  = tokens\n",
    "        a-= 1\n",
    "        b-= 1\n",
    "        \n",
    "       \n",
    "            \n",
    "        top_a = find_top(a)\n",
    "        top_b = find_top(b)\n",
    "        \n",
    "        if top_a >= top_b:\n",
    "            \n",
    "            top_list[b] = top_a\n",
    "            top_list[a] = top_a\n",
    "        else:\n",
    "            top_list[a] = top_b\n",
    "            top_list[b] = top_b\n",
    "            \n",
    "        \n",
    "        sum_ = numbers[top_b] + numbers[top_a]\n",
    "        numbers[top_a] = sum_\n",
    "        numbers[top_b] = sum_\n",
    "\n",
    "        \n",
    "        "
   ]
  },
  {
   "cell_type": "code",
   "execution_count": 69,
   "id": "1a656ad1",
   "metadata": {},
   "outputs": [],
   "source": [
    "top_b"
   ]
  },
  {
   "cell_type": "code",
   "execution_count": null,
   "id": "a43ebe31",
   "metadata": {},
   "outputs": [],
   "source": [
    "7 10\n",
    "1 1\n",
    "0 1 2\n",
    "1 1\n",
    "0 3 4\n",
    "1 3\n",
    "0 2 4\n",
    "1 1\n",
    "1 5 \n",
    "0 5 5\n",
    "1 5 "
   ]
  },
  {
   "cell_type": "code",
   "execution_count": null,
   "id": "96b32b40",
   "metadata": {},
   "outputs": [],
   "source": []
  },
  {
   "cell_type": "markdown",
   "id": "7c99951e",
   "metadata": {},
   "source": [
    "## 풀이"
   ]
  },
  {
   "cell_type": "code",
   "execution_count": 3,
   "id": "a06d6745",
   "metadata": {},
   "outputs": [
    {
     "name": "stdout",
     "output_type": "stream",
     "text": [
      "7 10\n",
      "1 1\n",
      "[0, 1, 2, 3, 4, 5, 6, 7]\n",
      "[0, 1, 2, 3, 4, 5, 6, 7]\n",
      "0 1 2\n",
      "1 1\n",
      "[0, 2, 2, 3, 4, 5, 6, 7]\n",
      "[0, 2, 2, 3, 4, 5, 6, 7]\n",
      "0 3 4\n",
      "1 3\n",
      "[0, 2, 2, 4, 4, 5, 6, 7]\n",
      "[0, 2, 2, 4, 4, 5, 6, 7]\n",
      "0 2 4\n",
      "1 1\n",
      "[0, 2, 4, 4, 4, 5, 6, 7]\n",
      "[0, 4, 4, 4, 4, 5, 6, 7]\n",
      "xczvax\n"
     ]
    },
    {
     "ename": "ValueError",
     "evalue": "invalid literal for int() with base 10: 'xczvax'",
     "output_type": "error",
     "traceback": [
      "\u001b[0;31m---------------------------------------------------------------------------\u001b[0m",
      "\u001b[0;31mValueError\u001b[0m                                Traceback (most recent call last)",
      "Input \u001b[0;32mIn [3]\u001b[0m, in \u001b[0;36m<cell line: 20>\u001b[0;34m()\u001b[0m\n\u001b[1;32m     18\u001b[0m     \u001b[38;5;28;01mreturn\u001b[39;00m\n\u001b[1;32m     20\u001b[0m \u001b[38;5;28;01mfor\u001b[39;00m _ \u001b[38;5;129;01min\u001b[39;00m \u001b[38;5;28mrange\u001b[39m(command):\n\u001b[0;32m---> 21\u001b[0m     string \u001b[38;5;241m=\u001b[39m \u001b[38;5;28;43mlist\u001b[39;49m\u001b[43m(\u001b[49m\u001b[43m \u001b[49m\u001b[38;5;28;43mmap\u001b[39;49m\u001b[43m(\u001b[49m\u001b[38;5;28;43mint\u001b[39;49m\u001b[43m,\u001b[49m\u001b[43m \u001b[49m\u001b[38;5;28;43minput\u001b[39;49m\u001b[43m(\u001b[49m\u001b[43m)\u001b[49m\u001b[38;5;241;43m.\u001b[39;49m\u001b[43msplit\u001b[49m\u001b[43m(\u001b[49m\u001b[43m)\u001b[49m\u001b[43m)\u001b[49m\u001b[43m)\u001b[49m\n\u001b[1;32m     22\u001b[0m     \u001b[38;5;28;01mif\u001b[39;00m string[\u001b[38;5;241m0\u001b[39m] \u001b[38;5;241m==\u001b[39m \u001b[38;5;241m0\u001b[39m:\n\u001b[1;32m     23\u001b[0m         a,b \u001b[38;5;241m=\u001b[39m string[\u001b[38;5;241m1\u001b[39m] , string[\u001b[38;5;241m2\u001b[39m]\n",
      "\u001b[0;31mValueError\u001b[0m: invalid literal for int() with base 10: 'xczvax'"
     ]
    }
   ],
   "source": [
    "people , command = list(map(int,input().split()))\n",
    "parents = [x for x in range(people + 1)]\n",
    "number = [1 for x in range(people + 1)]\n",
    "def find_parent(target):\n",
    "    if target == parents[target]:\n",
    "        return target\n",
    "    \n",
    "    parents[target] = find_parent(parents[target])\n",
    "    return parents[target]\n",
    "    \n",
    "def union(a,b):\n",
    "    parent_a = find_parent(a)\n",
    "    parent_b = find_parent(b)\n",
    "    if parent_a == parent_b:\n",
    "        return\n",
    "    parents[parent_a] = parent_b\n",
    "    number[parent_b] = number[parent_a] + number[parent_b]\n",
    "    return\n",
    "  \n",
    "for _ in range(command):\n",
    "    string = list( map(int, input().split()))\n",
    "    if string[0] == 0:\n",
    "        a,b = string[1] , string[2]\n",
    "        union(a,b)\n",
    "        \n",
    "    else:\n",
    "        target= string[1]\n",
    "        print(parents)\n",
    "        root = find_parent(target)\n",
    "        friends = number[root]\n",
    "        print(parents)\n",
    "   "
   ]
  },
  {
   "cell_type": "code",
   "execution_count": null,
   "id": "0ac3af87",
   "metadata": {},
   "outputs": [],
   "source": []
  },
  {
   "cell_type": "code",
   "execution_count": 26,
   "id": "e8298aa4",
   "metadata": {},
   "outputs": [
    {
     "name": "stdout",
     "output_type": "stream",
     "text": [
      "7 10\n"
     ]
    }
   ],
   "source": [
    "people , command = list(map(int,input().split()))"
   ]
  },
  {
   "cell_type": "code",
   "execution_count": 27,
   "id": "973eba24",
   "metadata": {},
   "outputs": [],
   "source": [
    "parents = [x for x in range(people + 1)]\n",
    "number = [1 for x in range(people + 1)]"
   ]
  },
  {
   "cell_type": "code",
   "execution_count": 28,
   "id": "c120198e",
   "metadata": {},
   "outputs": [],
   "source": [
    "def find_parent(target):\n",
    "    if target == parents[target]:\n",
    "        return target\n",
    "    \n",
    "    parents[target] = find_parent(parents[target])\n",
    "    return parents[target]\n",
    "        \n",
    "    "
   ]
  },
  {
   "cell_type": "code",
   "execution_count": 29,
   "id": "daacca82",
   "metadata": {},
   "outputs": [],
   "source": [
    "def union(a,b):\n",
    "    parent_a = find_parent(a)\n",
    "    parent_b = find_parent(b)\n",
    "    if parent_a == parent_b:\n",
    "        return\n",
    "    parents[parent_a] = parent_b\n",
    "    number[parent_b] = number[parent_a] + number[parent_b]\n",
    "    return"
   ]
  },
  {
   "cell_type": "code",
   "execution_count": 30,
   "id": "91d49224",
   "metadata": {},
   "outputs": [
    {
     "name": "stdout",
     "output_type": "stream",
     "text": [
      "1 1\n",
      "1\n",
      "0 1 2\n",
      "[0, 2, 2, 3, 4, 5, 6, 7]\n",
      "1 1\n",
      "2\n",
      "0 3 4\n",
      "[0, 2, 2, 4, 4, 5, 6, 7]\n",
      "1 3\n",
      "2\n",
      "0 2 4\n",
      "[0, 2, 4, 4, 4, 5, 6, 7]\n",
      "1 1\n",
      "4\n",
      "1 5\n",
      "1\n",
      "0 5 5\n",
      "[0, 4, 4, 4, 4, 5, 6, 7]\n",
      "1 5\n",
      "1\n"
     ]
    }
   ],
   "source": [
    "for _ in range(command):\n",
    "    string = list( map(int, input().split()))\n",
    "    if string[0] == 0:\n",
    "        a,b = string[1] , string[2]\n",
    "        union(a,b)\n",
    "        print(parents)\n",
    "    else:\n",
    "        target= string[1]\n",
    "        root = find_parent(target)\n",
    "        friends = number[root]\n",
    "        print(friends)\n",
    "    "
   ]
  },
  {
   "cell_type": "code",
   "execution_count": null,
   "id": "2db1d08f",
   "metadata": {},
   "outputs": [],
   "source": [
    "7 10\n",
    "1 1\n",
    "0 1 2\n",
    "1 1\n",
    "0 3 4\n",
    "1 3\n",
    "0 2 4\n",
    "1 1\n",
    "1 5\n",
    "0 5 5\n",
    "1 5"
   ]
  },
  {
   "cell_type": "code",
   "execution_count": null,
   "id": "42076b19",
   "metadata": {},
   "outputs": [],
   "source": [
    "# Root node를 찾아주는 함수\n",
    "def find(x):\n",
    "    if x == parent[x]:\n",
    "        return x\n",
    "    else:\n",
    "        root_x = find(parent[x])\n",
    "        parent[x] = root_x\n",
    "        return parent[x]\n",
    "\n",
    "# y의 Root 노드가 x의 Root 노드와 같지 않으면 \n",
    "# y의 Root 노드가 x의 Root 노드의 자식이 되도록 하는 함수\n",
    "def union(x,y):\n",
    "    root_x = find(x)\n",
    "    root_y = find(y)\n",
    "\n",
    "    if root_x!=root_y:\n",
    "        parent[root_y] = root_x\n",
    "        number[root_x] +=number[root_y]"
   ]
  },
  {
   "cell_type": "code",
   "execution_count": null,
   "id": "dee04d87",
   "metadata": {},
   "outputs": [],
   "source": [
    "test_cases = int(input()) # 10 \n",
    "\n",
    "for _ in range(test_cases):\n",
    "    parent = dict()\n",
    "    number = dict()\n",
    "\n",
    "    f = int(input())\n",
    "\n",
    "    for _ in range(f):\n",
    "        x,y = input().split(\" \")\n",
    "        \n",
    "        if x not in parent:\n",
    "            parent[x] = x\n",
    "            number[x] = 1\n",
    "        if y not in parent:\n",
    "            parent[y] = y\n",
    "            number[y] = 1\n",
    "        \n",
    "        union (x,y)\n",
    "        print(number[find(x)])\n",
    "        print()"
   ]
  },
  {
   "cell_type": "markdown",
   "id": "c29dc0d0",
   "metadata": {},
   "source": [
    "## connected component"
   ]
  },
  {
   "cell_type": "code",
   "execution_count": null,
   "id": "9088f41d",
   "metadata": {},
   "outputs": [],
   "source": [
    "5 4\n",
    "1 2\n",
    "3 4\n",
    "3 5\n",
    "4 5"
   ]
  },
  {
   "cell_type": "code",
   "execution_count": null,
   "id": "252e1fa8",
   "metadata": {},
   "outputs": [],
   "source": [
    "[1,2,2,4,4]"
   ]
  },
  {
   "cell_type": "code",
   "execution_count": null,
   "id": "f181dc77",
   "metadata": {},
   "outputs": [],
   "source": [
    "def find_parent(target):\n",
    "    if target == parents[target]:\n",
    "        return target\n",
    "    \n",
    "    parents[target] = find_parent(parents[target])\n",
    "    return parents[target]"
   ]
  },
  {
   "cell_type": "code",
   "execution_count": 3,
   "id": "da71389d",
   "metadata": {
    "scrolled": true
   },
   "outputs": [
    {
     "name": "stdout",
     "output_type": "stream",
     "text": [
      "5 6\n",
      "1 2\n",
      "0 x\n",
      "1 x\n",
      "0 1 root\n",
      "[0, 0, 2, 3, 4]\n",
      "1 5\n",
      "0 x\n",
      "4 x\n",
      "0 4 root\n",
      "[0, 0, 2, 3, 0]\n",
      "2 4\n",
      "1 x\n",
      "0 x\n",
      "3 x\n",
      "0 3 root\n",
      "[0, 0, 2, 0, 0]\n",
      "3 4\n",
      "2 x\n",
      "3 x\n",
      "0 x\n",
      "2 0 root\n",
      "[2, 0, 2, 0, 0]\n",
      "3 5\n",
      "2 x\n",
      "4 x\n",
      "0 x\n",
      "2 x\n",
      "2 2 root\n",
      "[2, 0, 2, 0, 2]\n",
      "4 5\n",
      "3 x\n",
      "0 x\n",
      "2 x\n",
      "4 x\n",
      "2 x\n",
      "2 2 root\n",
      "[2, 0, 2, 2, 2]\n"
     ]
    }
   ],
   "source": [
    "node , edge = list(map(int,input().split()))\n",
    "root_list = [x for x in range(node)]\n",
    "\n",
    "\n",
    "def find_root(x):\n",
    "    print(x,'x')\n",
    "    if x == root_list[x]:\n",
    "        return x\n",
    "    \n",
    "    root_x = find_root(root_list[x])\n",
    "    root_list[x] = root_x\n",
    "    return root_x\n",
    "        \n",
    "        \n",
    "    \n",
    "\n",
    "for _ in range(edge):\n",
    "    a,b = list(map(int,input().split()))\n",
    "    a = a- 1\n",
    "    b = b -1 \n",
    "    root_a = find_root(a)\n",
    "    root_b = find_root(b)\n",
    "    print(root_a, root_b,'root')\n",
    "    if root_a != root_b:\n",
    "        \n",
    "        root_list[b] = root_a # 이거 root_b로 하면됨 왜 잘못생각했는지 체크 \n",
    "    print(root_list)"
   ]
  },
  {
   "cell_type": "code",
   "execution_count": null,
   "id": "3b2578fa",
   "metadata": {},
   "outputs": [],
   "source": [
    "5 6\n",
    "1 2\n",
    "1 5\n",
    "2 4\n",
    "3 4\n",
    "3 5\n",
    "4 5"
   ]
  }
 ],
 "metadata": {
  "kernelspec": {
   "display_name": "Python 3 (ipykernel)",
   "language": "python",
   "name": "python3"
  },
  "language_info": {
   "codemirror_mode": {
    "name": "ipython",
    "version": 3
   },
   "file_extension": ".py",
   "mimetype": "text/x-python",
   "name": "python",
   "nbconvert_exporter": "python",
   "pygments_lexer": "ipython3",
   "version": "3.8.13"
  }
 },
 "nbformat": 4,
 "nbformat_minor": 5
}
