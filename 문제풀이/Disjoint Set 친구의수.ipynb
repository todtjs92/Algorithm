{
 "cells": [
  {
   "cell_type": "code",
   "execution_count": null,
   "id": "3ed8aa9c",
   "metadata": {},
   "outputs": [],
   "source": [
    "7 10\n",
    "1 1\n",
    "0 1 2\n",
    "1 1\n",
    "0 3 4\n",
    "1 3\n",
    "0 2 4\n",
    "1 1\n",
    "1 5 # 1 \n",
    "0 5 5\n",
    "1 5 # 1"
   ]
  },
  {
   "cell_type": "markdown",
   "id": "7c99951e",
   "metadata": {},
   "source": [
    "## 풀이"
   ]
  },
  {
   "cell_type": "code",
   "execution_count": 3,
   "id": "a06d6745",
   "metadata": {},
   "outputs": [
    {
     "name": "stdout",
     "output_type": "stream",
     "text": [
      "7 10\n",
      "1 1\n",
      "[0, 1, 2, 3, 4, 5, 6, 7]\n",
      "[0, 1, 2, 3, 4, 5, 6, 7]\n",
      "0 1 2\n",
      "1 1\n",
      "[0, 2, 2, 3, 4, 5, 6, 7]\n",
      "[0, 2, 2, 3, 4, 5, 6, 7]\n",
      "0 3 4\n",
      "1 3\n",
      "[0, 2, 2, 4, 4, 5, 6, 7]\n",
      "[0, 2, 2, 4, 4, 5, 6, 7]\n",
      "0 2 4\n",
      "1 1\n",
      "[0, 2, 4, 4, 4, 5, 6, 7]\n",
      "[0, 4, 4, 4, 4, 5, 6, 7]\n",
      "xczvax\n"
     ]
    },
    {
     "ename": "ValueError",
     "evalue": "invalid literal for int() with base 10: 'xczvax'",
     "output_type": "error",
     "traceback": [
      "\u001b[0;31m---------------------------------------------------------------------------\u001b[0m",
      "\u001b[0;31mValueError\u001b[0m                                Traceback (most recent call last)",
      "Input \u001b[0;32mIn [3]\u001b[0m, in \u001b[0;36m<cell line: 20>\u001b[0;34m()\u001b[0m\n\u001b[1;32m     18\u001b[0m     \u001b[38;5;28;01mreturn\u001b[39;00m\n\u001b[1;32m     20\u001b[0m \u001b[38;5;28;01mfor\u001b[39;00m _ \u001b[38;5;129;01min\u001b[39;00m \u001b[38;5;28mrange\u001b[39m(command):\n\u001b[0;32m---> 21\u001b[0m     string \u001b[38;5;241m=\u001b[39m \u001b[38;5;28;43mlist\u001b[39;49m\u001b[43m(\u001b[49m\u001b[43m \u001b[49m\u001b[38;5;28;43mmap\u001b[39;49m\u001b[43m(\u001b[49m\u001b[38;5;28;43mint\u001b[39;49m\u001b[43m,\u001b[49m\u001b[43m \u001b[49m\u001b[38;5;28;43minput\u001b[39;49m\u001b[43m(\u001b[49m\u001b[43m)\u001b[49m\u001b[38;5;241;43m.\u001b[39;49m\u001b[43msplit\u001b[49m\u001b[43m(\u001b[49m\u001b[43m)\u001b[49m\u001b[43m)\u001b[49m\u001b[43m)\u001b[49m\n\u001b[1;32m     22\u001b[0m     \u001b[38;5;28;01mif\u001b[39;00m string[\u001b[38;5;241m0\u001b[39m] \u001b[38;5;241m==\u001b[39m \u001b[38;5;241m0\u001b[39m:\n\u001b[1;32m     23\u001b[0m         a,b \u001b[38;5;241m=\u001b[39m string[\u001b[38;5;241m1\u001b[39m] , string[\u001b[38;5;241m2\u001b[39m]\n",
      "\u001b[0;31mValueError\u001b[0m: invalid literal for int() with base 10: 'xczvax'"
     ]
    }
   ],
   "source": [
    "people , command = list(map(int,input().split()))\n",
    "parents = [x for x in range(people + 1)]\n",
    "number = [1 for x in range(people + 1)]\n",
    "def find_parent(target):\n",
    "    if target == parents[target]:\n",
    "        return target\n",
    "    \n",
    "    parents[target] = find_parent(parents[target])\n",
    "    return parents[target]\n",
    "    \n",
    "def union(a,b):\n",
    "    parent_a = find_parent(a)\n",
    "    parent_b = find_parent(b)\n",
    "    if parent_a == parent_b:\n",
    "        return\n",
    "    parents[parent_a] = parent_b\n",
    "    number[parent_b] = number[parent_a] + number[parent_b]\n",
    "    return\n",
    "  \n",
    "for _ in range(command):\n",
    "    string = list( map(int, input().split()))\n",
    "    if string[0] == 0:\n",
    "        a,b = string[1] , string[2]\n",
    "        union(a,b)\n",
    "        \n",
    "    else:\n",
    "        target= string[1]\n",
    "        print(parents)\n",
    "        root = find_parent(target)\n",
    "        friends = number[root]\n",
    "        print(parents)\n",
    "   "
   ]
  },
  {
   "cell_type": "code",
   "execution_count": null,
   "id": "0ac3af87",
   "metadata": {},
   "outputs": [],
   "source": []
  },
  {
   "cell_type": "code",
   "execution_count": 26,
   "id": "e8298aa4",
   "metadata": {},
   "outputs": [
    {
     "name": "stdout",
     "output_type": "stream",
     "text": [
      "7 10\n"
     ]
    }
   ],
   "source": [
    "people , command = list(map(int,input().split()))"
   ]
  },
  {
   "cell_type": "code",
   "execution_count": 27,
   "id": "973eba24",
   "metadata": {},
   "outputs": [],
   "source": [
    "parents = [x for x in range(people + 1)]\n",
    "number = [1 for x in range(people + 1)]"
   ]
  },
  {
   "cell_type": "code",
   "execution_count": 28,
   "id": "c120198e",
   "metadata": {},
   "outputs": [],
   "source": [
    "def find_parent(target):\n",
    "    if target == parents[target]:\n",
    "        return target\n",
    "    \n",
    "    parents[target] = find_parent(parents[target])\n",
    "    return parents[target]\n",
    "        \n",
    "    "
   ]
  },
  {
   "cell_type": "code",
   "execution_count": 29,
   "id": "daacca82",
   "metadata": {},
   "outputs": [],
   "source": [
    "def union(a,b):\n",
    "    parent_a = find_parent(a)\n",
    "    parent_b = find_parent(b)\n",
    "    if parent_a == parent_b:\n",
    "        return\n",
    "    parents[parent_a] = parent_b\n",
    "    number[parent_b] = number[parent_a] + number[parent_b]\n",
    "    return"
   ]
  },
  {
   "cell_type": "code",
   "execution_count": 30,
   "id": "91d49224",
   "metadata": {},
   "outputs": [
    {
     "name": "stdout",
     "output_type": "stream",
     "text": [
      "1 1\n",
      "1\n",
      "0 1 2\n",
      "[0, 2, 2, 3, 4, 5, 6, 7]\n",
      "1 1\n",
      "2\n",
      "0 3 4\n",
      "[0, 2, 2, 4, 4, 5, 6, 7]\n",
      "1 3\n",
      "2\n",
      "0 2 4\n",
      "[0, 2, 4, 4, 4, 5, 6, 7]\n",
      "1 1\n",
      "4\n",
      "1 5\n",
      "1\n",
      "0 5 5\n",
      "[0, 4, 4, 4, 4, 5, 6, 7]\n",
      "1 5\n",
      "1\n"
     ]
    }
   ],
   "source": [
    "for _ in range(command):\n",
    "    string = list( map(int, input().split()))\n",
    "    if string[0] == 0:\n",
    "        a,b = string[1] , string[2]\n",
    "        union(a,b)\n",
    "        print(parents)\n",
    "    else:\n",
    "        target= string[1]\n",
    "        root = find_parent(target)\n",
    "        friends = number[root]\n",
    "        print(friends)\n",
    "    "
   ]
  },
  {
   "cell_type": "code",
   "execution_count": null,
   "id": "2db1d08f",
   "metadata": {},
   "outputs": [],
   "source": [
    "7 10\n",
    "1 1\n",
    "0 1 2\n",
    "1 1\n",
    "0 3 4\n",
    "1 3\n",
    "0 2 4\n",
    "1 1\n",
    "1 5\n",
    "0 5 5\n",
    "1 5"
   ]
  },
  {
   "cell_type": "code",
   "execution_count": null,
   "id": "42076b19",
   "metadata": {},
   "outputs": [],
   "source": [
    "# Root node를 찾아주는 함수\n",
    "def find(x):\n",
    "    if x == parent[x]:\n",
    "        return x\n",
    "    else:\n",
    "        root_x = find(parent[x])\n",
    "        parent[x] = root_x\n",
    "        return parent[x]\n",
    "\n",
    "# y의 Root 노드가 x의 Root 노드와 같지 않으면 \n",
    "# y의 Root 노드가 x의 Root 노드의 자식이 되도록 하는 함수\n",
    "def union(x,y):\n",
    "    root_x = find(x)\n",
    "    root_y = find(y)\n",
    "\n",
    "    if root_x!=root_y:\n",
    "        parent[root_y] = root_x\n",
    "        number[root_x] +=number[root_y]"
   ]
  },
  {
   "cell_type": "code",
   "execution_count": null,
   "id": "dee04d87",
   "metadata": {},
   "outputs": [],
   "source": [
    "test_cases = int(input()) # 10 \n",
    "\n",
    "for _ in range(test_cases):\n",
    "    parent = dict()\n",
    "    number = dict()\n",
    "\n",
    "    f = int(input())\n",
    "\n",
    "    for _ in range(f):\n",
    "        x,y = input().split(\" \")\n",
    "        \n",
    "        if x not in parent:\n",
    "            parent[x] = x\n",
    "            number[x] = 1\n",
    "        if y not in parent:\n",
    "            parent[y] = y\n",
    "            number[y] = 1\n",
    "        \n",
    "        union (x,y)\n",
    "        print(number[find(x)])\n",
    "        print()"
   ]
  },
  {
   "cell_type": "markdown",
   "id": "c29dc0d0",
   "metadata": {},
   "source": [
    "## connected component"
   ]
  },
  {
   "cell_type": "code",
   "execution_count": null,
   "id": "9088f41d",
   "metadata": {},
   "outputs": [],
   "source": [
    "5 4\n",
    "1 2\n",
    "3 4\n",
    "3 5\n",
    "4 5"
   ]
  },
  {
   "cell_type": "code",
   "execution_count": null,
   "id": "252e1fa8",
   "metadata": {},
   "outputs": [],
   "source": [
    "[1,2,2,4,4]"
   ]
  },
  {
   "cell_type": "code",
   "execution_count": null,
   "id": "f181dc77",
   "metadata": {},
   "outputs": [],
   "source": [
    "def find_parent(target):\n",
    "    if target == parents[target]:\n",
    "        return target\n",
    "    \n",
    "    parents[target] = find_parent(parents[target])\n",
    "    return parents[target]"
   ]
  },
  {
   "cell_type": "code",
   "execution_count": 3,
   "id": "da71389d",
   "metadata": {
    "scrolled": true
   },
   "outputs": [
    {
     "name": "stdout",
     "output_type": "stream",
     "text": [
      "5 6\n",
      "1 2\n",
      "0 x\n",
      "1 x\n",
      "0 1 root\n",
      "[0, 0, 2, 3, 4]\n",
      "1 5\n",
      "0 x\n",
      "4 x\n",
      "0 4 root\n",
      "[0, 0, 2, 3, 0]\n",
      "2 4\n",
      "1 x\n",
      "0 x\n",
      "3 x\n",
      "0 3 root\n",
      "[0, 0, 2, 0, 0]\n",
      "3 4\n",
      "2 x\n",
      "3 x\n",
      "0 x\n",
      "2 0 root\n",
      "[2, 0, 2, 0, 0]\n",
      "3 5\n",
      "2 x\n",
      "4 x\n",
      "0 x\n",
      "2 x\n",
      "2 2 root\n",
      "[2, 0, 2, 0, 2]\n",
      "4 5\n",
      "3 x\n",
      "0 x\n",
      "2 x\n",
      "4 x\n",
      "2 x\n",
      "2 2 root\n",
      "[2, 0, 2, 2, 2]\n"
     ]
    }
   ],
   "source": [
    "node , edge = list(map(int,input().split()))\n",
    "root_list = [x for x in range(node)]\n",
    "\n",
    "\n",
    "def find_root(x):\n",
    "    print(x,'x')\n",
    "    if x == root_list[x]:\n",
    "        return x\n",
    "    \n",
    "    root_x = find_root(root_list[x])\n",
    "    root_list[x] = root_x\n",
    "    return root_x\n",
    "        \n",
    "        \n",
    "    \n",
    "\n",
    "for _ in range(edge):\n",
    "    a,b = list(map(int,input().split()))\n",
    "    a = a- 1\n",
    "    b = b -1 \n",
    "    root_a = find_root(a)\n",
    "    root_b = find_root(b)\n",
    "    print(root_a, root_b,'root')\n",
    "    if root_a != root_b:\n",
    "        \n",
    "        root_list[b] = root_a # 이거 root_b로 하면됨 왜 잘못생각했는지 체크 \n",
    "    print(root_list)"
   ]
  },
  {
   "cell_type": "code",
   "execution_count": null,
   "id": "3b2578fa",
   "metadata": {},
   "outputs": [],
   "source": [
    "5 6\n",
    "1 2\n",
    "1 5\n",
    "2 4\n",
    "3 4\n",
    "3 5\n",
    "4 5"
   ]
  }
 ],
 "metadata": {
  "kernelspec": {
   "display_name": "Python 3 (ipykernel)",
   "language": "python",
   "name": "python3"
  },
  "language_info": {
   "codemirror_mode": {
    "name": "ipython",
    "version": 3
   },
   "file_extension": ".py",
   "mimetype": "text/x-python",
   "name": "python",
   "nbconvert_exporter": "python",
   "pygments_lexer": "ipython3",
   "version": "3.8.13"
  }
 },
 "nbformat": 4,
 "nbformat_minor": 5
}
