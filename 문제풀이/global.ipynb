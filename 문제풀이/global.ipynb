{
 "cells": [
  {
   "cell_type": "code",
   "execution_count": 4,
   "id": "f0f82267",
   "metadata": {},
   "outputs": [],
   "source": [
    "# https://livlikwav.github.io/python/python-mutable-and-namespace/"
   ]
  },
  {
   "cell_type": "markdown",
   "id": "eea62a33",
   "metadata": {},
   "source": [
    "# immutable"
   ]
  },
  {
   "cell_type": "code",
   "execution_count": 5,
   "id": "f5b0c7f1",
   "metadata": {},
   "outputs": [],
   "source": [
    "a =1"
   ]
  },
  {
   "cell_type": "code",
   "execution_count": 2,
   "id": "d8ac3fff",
   "metadata": {},
   "outputs": [],
   "source": [
    "def func():\n",
    "    print(a)"
   ]
  },
  {
   "cell_type": "code",
   "execution_count": 11,
   "id": "68328644",
   "metadata": {},
   "outputs": [
    {
     "name": "stdout",
     "output_type": "stream",
     "text": [
      "1\n"
     ]
    }
   ],
   "source": [
    "# 1. local\n",
    "# 2. enclosed\n",
    "# 3. global\n",
    "# 4. built_in \n",
    "# 순으로 값을 찾아서 출력해줌. 따라서 됨.\n",
    "func()"
   ]
  },
  {
   "cell_type": "code",
   "execution_count": 12,
   "id": "95b8636b",
   "metadata": {},
   "outputs": [],
   "source": [
    "def func():\n",
    "    b= a+1\n",
    "    print(b)"
   ]
  },
  {
   "cell_type": "code",
   "execution_count": 14,
   "id": "f50d96fd",
   "metadata": {},
   "outputs": [
    {
     "name": "stdout",
     "output_type": "stream",
     "text": [
      "2\n"
     ]
    }
   ],
   "source": [
    "# 값을 변경하는건 아니므로 됨이것도\n",
    "func()"
   ]
  },
  {
   "cell_type": "code",
   "execution_count": 21,
   "id": "0c27eb54",
   "metadata": {},
   "outputs": [],
   "source": [
    "def func():\n",
    "    a= a+1\n",
    "    print(a)"
   ]
  },
  {
   "cell_type": "code",
   "execution_count": 22,
   "id": "64ce7c11",
   "metadata": {},
   "outputs": [
    {
     "ename": "UnboundLocalError",
     "evalue": "local variable 'a' referenced before assignment",
     "output_type": "error",
     "traceback": [
      "\u001b[0;31m---------------------------------------------------------------------------\u001b[0m",
      "\u001b[0;31mUnboundLocalError\u001b[0m                         Traceback (most recent call last)",
      "Input \u001b[0;32mIn [22]\u001b[0m, in \u001b[0;36m<cell line: 2>\u001b[0;34m()\u001b[0m\n\u001b[1;32m      1\u001b[0m \u001b[38;5;66;03m# immutable을 변경하려햇으므로 안됨.\u001b[39;00m\n\u001b[0;32m----> 2\u001b[0m \u001b[43mfunc\u001b[49m\u001b[43m(\u001b[49m\u001b[43m)\u001b[49m\n",
      "Input \u001b[0;32mIn [21]\u001b[0m, in \u001b[0;36mfunc\u001b[0;34m()\u001b[0m\n\u001b[1;32m      1\u001b[0m \u001b[38;5;28;01mdef\u001b[39;00m \u001b[38;5;21mfunc\u001b[39m():\n\u001b[0;32m----> 2\u001b[0m     a\u001b[38;5;241m=\u001b[39m \u001b[43ma\u001b[49m\u001b[38;5;241m+\u001b[39m\u001b[38;5;241m1\u001b[39m\n\u001b[1;32m      3\u001b[0m     \u001b[38;5;28mprint\u001b[39m(a)\n",
      "\u001b[0;31mUnboundLocalError\u001b[0m: local variable 'a' referenced before assignment"
     ]
    }
   ],
   "source": [
    "# immutable을 변경하려햇으므로 안됨.\n",
    "func()"
   ]
  },
  {
   "cell_type": "code",
   "execution_count": 27,
   "id": "d8f33924",
   "metadata": {},
   "outputs": [],
   "source": [
    "a=1"
   ]
  },
  {
   "cell_type": "code",
   "execution_count": 28,
   "id": "e04d7b92",
   "metadata": {},
   "outputs": [],
   "source": [
    "def func():\n",
    "    global a\n",
    "    a= a+1\n",
    "    print(a)\n",
    "# global"
   ]
  },
  {
   "cell_type": "code",
   "execution_count": 29,
   "id": "a622a89c",
   "metadata": {},
   "outputs": [
    {
     "name": "stdout",
     "output_type": "stream",
     "text": [
      "2\n"
     ]
    }
   ],
   "source": [
    "# global로 선언해서 고쳐주면 됨. \n",
    "func()"
   ]
  },
  {
   "cell_type": "code",
   "execution_count": 31,
   "id": "60b255ef",
   "metadata": {},
   "outputs": [],
   "source": [
    "x=1"
   ]
  },
  {
   "cell_type": "code",
   "execution_count": 32,
   "id": "93381d1e",
   "metadata": {},
   "outputs": [],
   "source": [
    "def func(x):\n",
    "    if x==2:\n",
    "        print(x)\n",
    "        return\n",
    "    func(x+1)"
   ]
  },
  {
   "cell_type": "code",
   "execution_count": 33,
   "id": "3a2b217e",
   "metadata": {},
   "outputs": [
    {
     "name": "stdout",
     "output_type": "stream",
     "text": [
      "2\n"
     ]
    }
   ],
   "source": [
    "func(x)"
   ]
  },
  {
   "cell_type": "code",
   "execution_count": 1,
   "id": "23001c17",
   "metadata": {},
   "outputs": [],
   "source": [
    "string = ''"
   ]
  },
  {
   "cell_type": "code",
   "execution_count": 2,
   "id": "0e71d624",
   "metadata": {},
   "outputs": [],
   "source": [
    "# 넘겨주면서 그 전으로 돌아옴. "
   ]
  },
  {
   "cell_type": "code",
   "execution_count": 3,
   "id": "a714a677",
   "metadata": {},
   "outputs": [],
   "source": [
    "def test(string): # 0 에서 멈춤 # 00에서 멈춤 끝\n",
    "    if len(string) >= 2:\n",
    "        print(string)\n",
    "        return\n",
    "    \n",
    "    for i in range(4):\n",
    "        string = string + str(i)\n",
    "        test(string)"
   ]
  },
  {
   "cell_type": "code",
   "execution_count": 4,
   "id": "46dfd269",
   "metadata": {},
   "outputs": [
    {
     "name": "stdout",
     "output_type": "stream",
     "text": [
      "00\n",
      "001\n",
      "0012\n",
      "00123\n",
      "01\n",
      "012\n",
      "0123\n"
     ]
    }
   ],
   "source": [
    "test(string)"
   ]
  },
  {
   "cell_type": "markdown",
   "id": "f69e3fb0",
   "metadata": {},
   "source": [
    "# 요거는?"
   ]
  },
  {
   "cell_type": "code",
   "execution_count": 52,
   "id": "2862ed4a",
   "metadata": {},
   "outputs": [],
   "source": [
    "string = ''"
   ]
  },
  {
   "cell_type": "code",
   "execution_count": 53,
   "id": "ac4ce262",
   "metadata": {},
   "outputs": [],
   "source": [
    "def test(string): # 0 에서 멈춤 # 00에서 멈춤 끝\n",
    "    if len(string) >= 2:\n",
    "        print(string)\n",
    "        return\n",
    "    \n",
    "    for i in range(4):\n",
    "        test(string + str(i))"
   ]
  },
  {
   "cell_type": "code",
   "execution_count": 54,
   "id": "72573d14",
   "metadata": {},
   "outputs": [
    {
     "name": "stdout",
     "output_type": "stream",
     "text": [
      "00\n",
      "01\n",
      "02\n",
      "03\n",
      "10\n",
      "11\n",
      "12\n",
      "13\n",
      "20\n",
      "21\n",
      "22\n",
      "23\n",
      "30\n",
      "31\n",
      "32\n",
      "33\n"
     ]
    }
   ],
   "source": [
    "test(string)"
   ]
  },
  {
   "cell_type": "markdown",
   "id": "1ca2a9c2",
   "metadata": {},
   "source": [
    "# immutable"
   ]
  },
  {
   "cell_type": "code",
   "execution_count": 72,
   "id": "c09f34cc",
   "metadata": {},
   "outputs": [],
   "source": [
    "# 다른건 똑같구"
   ]
  },
  {
   "cell_type": "code",
   "execution_count": 69,
   "id": "5e1c73ca",
   "metadata": {},
   "outputs": [],
   "source": [
    "list_=['a']"
   ]
  },
  {
   "cell_type": "code",
   "execution_count": 70,
   "id": "e9ff9d2f",
   "metadata": {},
   "outputs": [],
   "source": [
    "def func():\n",
    "    print(list_)\n",
    "    return"
   ]
  },
  {
   "cell_type": "code",
   "execution_count": 71,
   "id": "c1bb3bad",
   "metadata": {},
   "outputs": [
    {
     "name": "stdout",
     "output_type": "stream",
     "text": [
      "['a']\n"
     ]
    }
   ],
   "source": [
    "func()"
   ]
  },
  {
   "cell_type": "code",
   "execution_count": 75,
   "id": "f72ab0ba",
   "metadata": {},
   "outputs": [],
   "source": [
    "# 이게 다른점"
   ]
  },
  {
   "cell_type": "code",
   "execution_count": 76,
   "id": "81716986",
   "metadata": {},
   "outputs": [],
   "source": [
    "def func():\n",
    "    list_[0] = 'b'\n",
    "    return"
   ]
  },
  {
   "cell_type": "markdown",
   "id": "480cce79",
   "metadata": {},
   "source": [
    "# global 선언안해도 바뀐다"
   ]
  },
  {
   "cell_type": "code",
   "execution_count": 77,
   "id": "2db61bd0",
   "metadata": {},
   "outputs": [],
   "source": [
    "func()"
   ]
  },
  {
   "cell_type": "code",
   "execution_count": 78,
   "id": "8e8dde0a",
   "metadata": {},
   "outputs": [
    {
     "data": {
      "text/plain": [
       "['b']"
      ]
     },
     "execution_count": 78,
     "metadata": {},
     "output_type": "execute_result"
    }
   ],
   "source": [
    "list_"
   ]
  },
  {
   "cell_type": "code",
   "execution_count": null,
   "id": "7ee30fed",
   "metadata": {},
   "outputs": [],
   "source": []
  },
  {
   "cell_type": "code",
   "execution_count": null,
   "id": "093b3a41",
   "metadata": {},
   "outputs": [],
   "source": []
  },
  {
   "cell_type": "code",
   "execution_count": 64,
   "id": "b979d4a8",
   "metadata": {},
   "outputs": [],
   "source": [
    "list_ = []"
   ]
  },
  {
   "cell_type": "code",
   "execution_count": 65,
   "id": "c711e3c3",
   "metadata": {},
   "outputs": [],
   "source": [
    "def test(list_):  # 0더하고 멈춤. # 00에서멈춤\n",
    "    if len(list_) >= 2:\n",
    "        print(list_)\n",
    "        return\n",
    "    \n",
    "    for i in range(4):\n",
    "        \n",
    "        test(list_+[i])"
   ]
  },
  {
   "cell_type": "code",
   "execution_count": 66,
   "id": "eb53d3cc",
   "metadata": {},
   "outputs": [
    {
     "name": "stdout",
     "output_type": "stream",
     "text": [
      "[0, 0]\n",
      "[0, 1]\n",
      "[0, 2]\n",
      "[0, 3]\n",
      "[1, 0]\n",
      "[1, 1]\n",
      "[1, 2]\n",
      "[1, 3]\n",
      "[2, 0]\n",
      "[2, 1]\n",
      "[2, 2]\n",
      "[2, 3]\n",
      "[3, 0]\n",
      "[3, 1]\n",
      "[3, 2]\n",
      "[3, 3]\n"
     ]
    }
   ],
   "source": [
    "test(list_)"
   ]
  },
  {
   "cell_type": "code",
   "execution_count": null,
   "id": "dd766a9a",
   "metadata": {},
   "outputs": [],
   "source": []
  }
 ],
 "metadata": {
  "kernelspec": {
   "display_name": "Python 3 (ipykernel)",
   "language": "python",
   "name": "python3"
  },
  "language_info": {
   "codemirror_mode": {
    "name": "ipython",
    "version": 3
   },
   "file_extension": ".py",
   "mimetype": "text/x-python",
   "name": "python",
   "nbconvert_exporter": "python",
   "pygments_lexer": "ipython3",
   "version": "3.8.13"
  }
 },
 "nbformat": 4,
 "nbformat_minor": 5
}
