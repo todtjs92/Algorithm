{
 "cells": [
  {
   "cell_type": "code",
   "execution_count": 3,
   "id": "0981b4cc",
   "metadata": {},
   "outputs": [],
   "source": [
    "play_time = \"02:03:55\"\n",
    "adv_time = \"00:14:15\"\n",
    "logs = [\"01:20:15-01:45:14\", \"00:40:31-01:00:00\", \"00:25:50-00:48:29\", \"01:30:59-01:53:29\", \"01:37:44-02:02:30\"]"
   ]
  },
  {
   "cell_type": "code",
   "execution_count": 4,
   "id": "c2af716b",
   "metadata": {},
   "outputs": [],
   "source": [
    "# 1. 시간 => 숫자 만드는 함수\n",
    "# 2. 숫자 -> 시간 만드는 함수 \n",
    "# 3걸쳐있는 것 체크 = 끝 숫자 앞 , 앞 앞 등 비교해서 구할수가 있음. \n",
    "# 1개에 대하여 3번 코드 완성 후에 여러개 로 확장 .  "
   ]
  },
  {
   "cell_type": "code",
   "execution_count": null,
   "id": "1476191d",
   "metadata": {},
   "outputs": [],
   "source": [
    "#아에 하나의 리스트로 표현해보기?? 이러면 크기몇이지 3600 * 100 36만이면 할만한듯??"
   ]
  },
  {
   "cell_type": "code",
   "execution_count": null,
   "id": "f3630191",
   "metadata": {},
   "outputs": [],
   "source": [
    "# 만들고 최대 구간합 찾으면 끝"
   ]
  },
  {
   "cell_type": "code",
   "execution_count": 25,
   "id": "80c57526",
   "metadata": {},
   "outputs": [],
   "source": [
    "play_number = time_to_number(play_time)"
   ]
  },
  {
   "cell_type": "code",
   "execution_count": 26,
   "id": "cc1cbf15",
   "metadata": {},
   "outputs": [
    {
     "data": {
      "text/plain": [
       "7435"
      ]
     },
     "execution_count": 26,
     "metadata": {},
     "output_type": "execute_result"
    }
   ],
   "source": [
    "play_number"
   ]
  },
  {
   "cell_type": "code",
   "execution_count": 27,
   "id": "4875c00b",
   "metadata": {},
   "outputs": [],
   "source": [
    "play_time_list= [0 for x in range(play_number)]"
   ]
  },
  {
   "cell_type": "code",
   "execution_count": null,
   "id": "d51f43a7",
   "metadata": {},
   "outputs": [],
   "source": [
    "'01:20:15'"
   ]
  },
  {
   "cell_type": "code",
   "execution_count": 10,
   "id": "b7be0b5a",
   "metadata": {},
   "outputs": [],
   "source": [
    "def time_to_number(time):\n",
    "    hour, minute, second = list(map(int,time.split(':')))\n",
    "    number = hour * 3600 + minute * 60 + second\n",
    "    return number"
   ]
  },
  {
   "cell_type": "code",
   "execution_count": 11,
   "id": "289ac26d",
   "metadata": {},
   "outputs": [
    {
     "data": {
      "text/plain": [
       "4815"
      ]
     },
     "execution_count": 11,
     "metadata": {},
     "output_type": "execute_result"
    }
   ],
   "source": [
    "time_to_number('01:20:15')"
   ]
  },
  {
   "cell_type": "code",
   "execution_count": 12,
   "id": "88a63dd1",
   "metadata": {},
   "outputs": [],
   "source": [
    "def number_to_time(number):\n",
    "    hour = number // 3600\n",
    "    left = number % 3600\n",
    "    minute = left // 60\n",
    "    left = left % 60\n",
    "    time = str(hour) + ':' + str(minute) + ':' + str(left)\n",
    "    return time"
   ]
  },
  {
   "cell_type": "code",
   "execution_count": 28,
   "id": "b7cbba17",
   "metadata": {},
   "outputs": [
    {
     "name": "stdout",
     "output_type": "stream",
     "text": [
      "4815 6314\n",
      "2431 3600\n",
      "1550 2909\n",
      "5459 6809\n",
      "5864 7350\n"
     ]
    }
   ],
   "source": [
    "for log in logs:\n",
    "    start_time , end_time = log.split('-')\n",
    "    start_number = time_to_number(start_time)\n",
    "    end_number = time_to_number(end_time)\n",
    "    print(start_number, end_number)\n",
    "    temp = play_time_list[start_number:end_number+1] \n",
    "    play_time_list[start_number:end_number+1] = [x+1 for x in temp]"
   ]
  },
  {
   "cell_type": "markdown",
   "id": "01bd624d",
   "metadata": {},
   "source": [
    "### 여기에 구간합 슬라이딩윈도우로 풀기"
   ]
  },
  {
   "cell_type": "code",
   "execution_count": 31,
   "id": "0854eb43",
   "metadata": {},
   "outputs": [],
   "source": [
    "adv_time = \"00:14:15\"\n",
    "adv_number = time_to_number(adv_time)"
   ]
  },
  {
   "cell_type": "code",
   "execution_count": null,
   "id": "62093713",
   "metadata": {},
   "outputs": [],
   "source": [
    "# 1. 전체 재생시간에서\n",
    "# 2. 슬라이딩 윈도 이동해가면서 맥스 구하기"
   ]
  },
  {
   "cell_type": "code",
   "execution_count": null,
   "id": "18ee5772",
   "metadata": {},
   "outputs": [],
   "source": [
    "1 1 1 1 1 1 1 "
   ]
  },
  {
   "cell_type": "code",
   "execution_count": null,
   "id": "8e9de9f9",
   "metadata": {},
   "outputs": [],
   "source": [
    "3"
   ]
  },
  {
   "cell_type": "code",
   "execution_count": null,
   "id": "0b21b981",
   "metadata": {},
   "outputs": [],
   "source": [
    "2 2 2"
   ]
  },
  {
   "cell_type": "code",
   "execution_count": 36,
   "id": "e5b3e93e",
   "metadata": {},
   "outputs": [],
   "source": [
    "max_ = 0\n",
    "max_start =0\n",
    "temp_sum = sum(play_time_list[0:adv_number])\n",
    "for i in range(play_number - adv_number ):\n",
    "    temp_sum -= play_time_list[i]\n",
    "    temp_sum += play_time_list[i+ adv_number]\n",
    "    if temp_sum > max_:\n",
    "        max_start = i\n",
    "        max_ = temp_sum\n",
    "    \n",
    "    # adv_number 더한거에서 하나빼기 까지 \n",
    "    "
   ]
  },
  {
   "cell_type": "code",
   "execution_count": 39,
   "id": "2e67bae4",
   "metadata": {},
   "outputs": [
    {
     "data": {
      "text/plain": [
       "5459"
      ]
     },
     "execution_count": 39,
     "metadata": {},
     "output_type": "execute_result"
    }
   ],
   "source": [
    "max_start"
   ]
  },
  {
   "cell_type": "code",
   "execution_count": 40,
   "id": "98d6daf9",
   "metadata": {},
   "outputs": [
    {
     "data": {
      "text/plain": [
       "'1:30:59'"
      ]
     },
     "execution_count": 40,
     "metadata": {},
     "output_type": "execute_result"
    }
   ],
   "source": [
    "number_to_time(max_start)"
   ]
  },
  {
   "cell_type": "code",
   "execution_count": 37,
   "id": "3d0ab77b",
   "metadata": {},
   "outputs": [
    {
     "data": {
      "text/plain": [
       "2161"
      ]
     },
     "execution_count": 37,
     "metadata": {},
     "output_type": "execute_result"
    }
   ],
   "source": [
    "max_"
   ]
  },
  {
   "cell_type": "code",
   "execution_count": 33,
   "id": "d53bbaf4",
   "metadata": {},
   "outputs": [
    {
     "data": {
      "text/plain": [
       "7435"
      ]
     },
     "execution_count": 33,
     "metadata": {},
     "output_type": "execute_result"
    }
   ],
   "source": [
    "play_number"
   ]
  },
  {
   "cell_type": "code",
   "execution_count": 41,
   "id": "58ce1bb6",
   "metadata": {},
   "outputs": [],
   "source": [
    "# 정리"
   ]
  },
  {
   "cell_type": "code",
   "execution_count": 130,
   "id": "817b7cb7",
   "metadata": {},
   "outputs": [],
   "source": [
    "def time_to_number(time):\n",
    "    hour, minute, second = list(map(int,time.split(':')))\n",
    "    number = hour * 3600 + minute * 60 + second\n",
    "    return number\n",
    "def number_to_time(number):\n",
    "    hour = number // 3600\n",
    "    left = number % 3600\n",
    "    minute = left // 60\n",
    "    left = left % 60\n",
    "    hour = str(hour)\n",
    "    minute = str(minute)\n",
    "    left = str(left)\n",
    "    \n",
    "    if len(hour) < 2:\n",
    "        hour = '0' + hour\n",
    "    if len(minute) < 2:\n",
    "        minute = '0' + minute\n",
    "    if len(left) < 2:\n",
    "        left = '0'+ left\n",
    "    time = hour + ':' + minute + ':' + left\n",
    "    return time"
   ]
  },
  {
   "cell_type": "code",
   "execution_count": 131,
   "id": "d3946f77",
   "metadata": {},
   "outputs": [],
   "source": [
    "play_time = \"02:03:55\"\n",
    "adv_time = \"00:14:15\"\n",
    "logs = [\"01:20:15-01:45:14\", \"00:40:31-01:00:00\", \"00:25:50-00:48:29\", \"01:30:59-01:53:29\", \"01:37:44-02:02:30\"]"
   ]
  },
  {
   "cell_type": "code",
   "execution_count": 132,
   "id": "6c09465e",
   "metadata": {},
   "outputs": [],
   "source": [
    "play_time = \"99:59:59\"\n",
    "adv_time = \"25:00:00\"\n",
    "logs = [\"69:59:59-89:59:59\", \"01:00:00-21:00:00\", \"79:59:59-99:59:59\", \"11:00:00-31:00:00\"]"
   ]
  },
  {
   "cell_type": "code",
   "execution_count": 133,
   "id": "0b98f0d6",
   "metadata": {},
   "outputs": [],
   "source": [
    "play_number = time_to_number(play_time)\n",
    "play_time_list= [0 for x in range(play_number+1)]\n",
    "for log in logs:\n",
    "    start_time , end_time = log.split('-')\n",
    "    start_number = time_to_number(start_time)\n",
    "    end_number = time_to_number(end_time)\n",
    "    temp = play_time_list[start_number:end_number+1] \n",
    "    play_time_list[start_number:end_number+1] = [x+1 for x in temp]\n",
    "adv_number = time_to_number(adv_time) +1\n",
    "\n",
    "max_ = 0\n",
    "max_start =0\n",
    "temp_sum = sum(play_time_list[0:adv_number])\n",
    "for i in range(play_number - adv_number ):\n",
    "    temp_sum -= play_time_list[i]\n",
    "    temp_sum += play_time_list[i+ adv_number]\n",
    "    if temp_sum > max_:\n",
    "        max_start = i+1\n",
    "        max_ = temp_sum\n",
    "        \n",
    "answer = number_to_time(max_start)"
   ]
  },
  {
   "cell_type": "code",
   "execution_count": 129,
   "id": "2c456233",
   "metadata": {},
   "outputs": [
    {
     "data": {
      "text/plain": [
       "'01:00:00'"
      ]
     },
     "execution_count": 129,
     "metadata": {},
     "output_type": "execute_result"
    }
   ],
   "source": [
    "answer"
   ]
  },
  {
   "cell_type": "code",
   "execution_count": null,
   "id": "916f1cc5",
   "metadata": {},
   "outputs": [],
   "source": []
  }
 ],
 "metadata": {
  "kernelspec": {
   "display_name": "Python 3 (ipykernel)",
   "language": "python",
   "name": "python3"
  },
  "language_info": {
   "codemirror_mode": {
    "name": "ipython",
    "version": 3
   },
   "file_extension": ".py",
   "mimetype": "text/x-python",
   "name": "python",
   "nbconvert_exporter": "python",
   "pygments_lexer": "ipython3",
   "version": "3.8.13"
  }
 },
 "nbformat": 4,
 "nbformat_minor": 5
}
