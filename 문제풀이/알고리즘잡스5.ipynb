{
 "cells": [
  {
   "cell_type": "markdown",
   "id": "754eb6c5",
   "metadata": {},
   "source": [
    "# 트리의 높이"
   ]
  },
  {
   "cell_type": "code",
   "execution_count": null,
   "id": "6c5ef274",
   "metadata": {},
   "outputs": [],
   "source": [
    "8 0\n",
    "0 1\n",
    "0 2\n",
    "1 3\n",
    "1 4\n",
    "1 5\n",
    "6 2\n",
    "6 7"
   ]
  },
  {
   "cell_type": "code",
   "execution_count": 4,
   "id": "9947687b",
   "metadata": {},
   "outputs": [
    {
     "name": "stdout",
     "output_type": "stream",
     "text": [
      "8 0\n",
      "0 1\n",
      "0 2\n",
      "1 3\n",
      "1 4\n",
      "1 5\n",
      "6 2\n",
      "6 7\n"
     ]
    }
   ],
   "source": [
    "from collections import defaultdict\n",
    "\n",
    "numbers_of_nodes , root_node = list(map(int , input().split() ))\n",
    "map_ = defaultdict(dict)\n",
    "for _ in range(numbers_of_nodes-1):\n",
    "    up, down  = list( map(int , input().split() ))\n",
    "    if up not in map_:\n",
    "        map_[up] = []\n",
    "    if down not in map_:\n",
    "        map_[down] = []\n",
    "    map_[down].append(up)\n",
    "    map_[up].append(down)"
   ]
  },
  {
   "cell_type": "code",
   "execution_count": 5,
   "id": "c5db7dc7",
   "metadata": {},
   "outputs": [
    {
     "name": "stdout",
     "output_type": "stream",
     "text": [
      "3\n"
     ]
    }
   ],
   "source": [
    "from collections import defaultdict\n",
    "\n",
    "numbers_of_nodes , root_node = list(map(int , input().split() ))\n",
    "map_ = defaultdict(dict)\n",
    "for _ in range(numbers_of_nodes-1):\n",
    "    up, down  = list( map(int , input().split() ))\n",
    "    if up not in map_:\n",
    "        map_[up] = []\n",
    "    if down not in map_:\n",
    "        map_[down] = []\n",
    "    map_[down].append(up)\n",
    "    map_[up].append(down)\n",
    "    \n",
    "visited = [False for _ in range(numbers_of_nodes)]\n",
    "max_=  0\n",
    "\n",
    "\n",
    "def dfs(count ,  q):\n",
    "    global max_\n",
    "    while q:\n",
    "        go = q.pop()\n",
    "        if visited[go] ==True:\n",
    "            continue\n",
    "        visited[go] = True\n",
    "        dfs(count+1, map_[go])\n",
    "    max_ = max(max_,count)\n",
    "\n",
    "dfs(0, [root_node])\n",
    "print(max_-1)"
   ]
  },
  {
   "cell_type": "code",
   "execution_count": null,
   "id": "bf0da8b6",
   "metadata": {},
   "outputs": [],
   "source": []
  },
  {
   "cell_type": "code",
   "execution_count": null,
   "id": "d148bd9b",
   "metadata": {},
   "outputs": [],
   "source": [
    "def dfs(count , x, q):\n",
    "    global max_\n",
    "    if map_[x]['down']==[]:\n",
    "        max_ = max(max_,count)\n",
    "        return\n",
    "    while q:\n",
    "        go = q.pop()\n",
    "        dfs(count+1, go, map_[go]['down'])\n",
    "             "
   ]
  },
  {
   "cell_type": "markdown",
   "id": "d428294b",
   "metadata": {},
   "source": []
  },
  {
   "cell_type": "markdown",
   "id": "14e1e9dd",
   "metadata": {},
   "source": [
    "### 트리 거리"
   ]
  },
  {
   "cell_type": "code",
   "execution_count": null,
   "id": "3c390f1a",
   "metadata": {},
   "outputs": [],
   "source": [
    "# 1 트리만들기 부터\n",
    "# 2 같은 조상 만나면 분기 \n",
    "# [1,3]\n",
    "# [3,5]\n",
    "# [3,10]\n",
    "# 스몰트리 . #근데 이건 상관없곘따. "
   ]
  },
  {
   "cell_type": "code",
   "execution_count": 42,
   "id": "2a49d01e",
   "metadata": {},
   "outputs": [
    {
     "name": "stdout",
     "output_type": "stream",
     "text": [
      "2 0 1\n",
      "0 1\n",
      "1\n"
     ]
    }
   ],
   "source": [
    "from collections import defaultdict\n",
    "\n",
    "numbers_of_nodes , node_a ,node_b = list(map(int , input().split() ))\n",
    "a,b = node_a , node_b\n",
    "map_ = defaultdict(int)\n",
    "for _ in range(numbers_of_nodes-1):\n",
    "    up, down  = list( map(int , input().split() ))\n",
    "    if up not in map_:\n",
    "        map_[up] = -1\n",
    "    if down not in map_:\n",
    "        map_[down] = -1\n",
    "    map_[down] = up\n",
    "ancestor_a = [node_a]\n",
    "ancestor_b = [node_b]\n",
    "x = node_a\n",
    "while map_[x] != -1:\n",
    "    \n",
    "    x = map_[x]\n",
    "    ancestor_a.append(x)\n",
    "    \n",
    "x = node_b\n",
    "while map_[x] != -1:\n",
    "    \n",
    "    x = map_[x]\n",
    "    ancestor_b.append(x)\n",
    "\n",
    "common = list(set(ancestor_a) & set(ancestor_b))\n",
    "min_ = len(ancestor_a)\n",
    "for i in common:\n",
    "    loc = ancestor_a.index(i)\n",
    "    min_ = min(min_ , loc)\n",
    "near_ancestor = ancestor_a[min_]\n",
    "count_a = 0\n",
    "while node_a != near_ancestor: \n",
    "    node_a = map_[node_a]\n",
    "    count_a+=1\n",
    "    \n",
    "count_b = 0\n",
    "while node_b != common_ancestor: \n",
    "    node_b = map_[node_b]\n",
    "    count_b+=1\n",
    "    \n",
    "print(count_a + count_b)"
   ]
  },
  {
   "cell_type": "markdown",
   "id": "6ef8ceec",
   "metadata": {},
   "source": [
    "## 전위 , 후위"
   ]
  },
  {
   "cell_type": "code",
   "execution_count": null,
   "id": "bd2f5437",
   "metadata": {},
   "outputs": [],
   "source": [
    "6\n",
    "0 1 2\n",
    "1 3 4\n",
    "2 -1 5\n",
    "3 -1 -1\n",
    "4 -1 -1\n",
    "5 -1 -1"
   ]
  },
  {
   "cell_type": "code",
   "execution_count": 30,
   "id": "d6adbad3",
   "metadata": {},
   "outputs": [
    {
     "name": "stdout",
     "output_type": "stream",
     "text": [
      "12\n"
     ]
    }
   ],
   "source": [
    "num_nodes = int(input())"
   ]
  },
  {
   "cell_type": "code",
   "execution_count": 31,
   "id": "fc223a0e",
   "metadata": {},
   "outputs": [
    {
     "name": "stdout",
     "output_type": "stream",
     "text": [
      "0 1 2\n",
      "1 3 4\n",
      "3 7 8\n",
      "4 9 10\n",
      "5 11 -1\n",
      "2 5 6\n",
      "6 -1 -1\n",
      "7 -1 -1\n",
      "8 -1 -1\n",
      "9 -1 -1\n",
      "10 -1 -1\n",
      "11 -1 -1\n"
     ]
    }
   ],
   "source": [
    "map_ = dict()\n",
    "for _ in range(num_nodes):\n",
    "    root, left , right = list(map(int,input().split()))\n",
    "    if root not in map_:\n",
    "        map_[root] = {}\n",
    "        map_[root]['left'] = left\n",
    "        map_[root]['right'] = right\n",
    "    \n",
    "    else:\n",
    "        map_[root]['left'] = left\n",
    "        map_[root]['right'] = right\n",
    "        "
   ]
  },
  {
   "cell_type": "code",
   "execution_count": 32,
   "id": "4a5c64db",
   "metadata": {},
   "outputs": [
    {
     "data": {
      "text/plain": [
       "{0: {'left': 1, 'right': 2},\n",
       " 1: {'left': 3, 'right': 4},\n",
       " 3: {'left': 7, 'right': 8},\n",
       " 4: {'left': 9, 'right': 10},\n",
       " 5: {'left': 11, 'right': -1},\n",
       " 2: {'left': 5, 'right': 6},\n",
       " 6: {'left': -1, 'right': -1},\n",
       " 7: {'left': -1, 'right': -1},\n",
       " 8: {'left': -1, 'right': -1},\n",
       " 9: {'left': -1, 'right': -1},\n",
       " 10: {'left': -1, 'right': -1},\n",
       " 11: {'left': -1, 'right': -1}}"
      ]
     },
     "execution_count": 32,
     "metadata": {},
     "output_type": "execute_result"
    }
   ],
   "source": [
    "map_"
   ]
  },
  {
   "cell_type": "code",
   "execution_count": 33,
   "id": "0ef3769a",
   "metadata": {},
   "outputs": [],
   "source": [
    "result = []"
   ]
  },
  {
   "cell_type": "code",
   "execution_count": 34,
   "id": "67768a82",
   "metadata": {},
   "outputs": [],
   "source": [
    "# 1. root , left , right 출력하는데 , -1이 아니면 다음 루트로 이동해가면서 재귀 . \n",
    "# 2. "
   ]
  },
  {
   "cell_type": "code",
   "execution_count": 35,
   "id": "2d640c4f",
   "metadata": {},
   "outputs": [],
   "source": [
    "# root만 출력하는게 핵심. "
   ]
  },
  {
   "cell_type": "code",
   "execution_count": 14,
   "id": "def36830",
   "metadata": {},
   "outputs": [],
   "source": [
    "def front(root):\n",
    "    global result\n",
    "    tree_dict = map_[root]\n",
    "    \n",
    "    left = map_[root]['left']\n",
    "    right = map_[root]['right']\n",
    "    result.append(root)\n",
    "    \n",
    "    if left == -1 and right == -1:\n",
    "        return\n",
    "    \n",
    "    if left != -1:\n",
    "        front(left)\n",
    "        \n",
    "    if right != -1:\n",
    "        front(right)\n",
    "    "
   ]
  },
  {
   "cell_type": "code",
   "execution_count": null,
   "id": "fb77b6b6",
   "metadata": {},
   "outputs": [],
   "source": [
    "# 함수가 끝날떄 root를 result 에 넣어주기 . "
   ]
  },
  {
   "cell_type": "code",
   "execution_count": 36,
   "id": "81ceab0c",
   "metadata": {},
   "outputs": [],
   "source": [
    "result= []"
   ]
  },
  {
   "cell_type": "code",
   "execution_count": 37,
   "id": "05ce5281",
   "metadata": {},
   "outputs": [],
   "source": [
    "def rear(root):\n",
    "    global result\n",
    "    tree_dict = map_[root]\n",
    "    left = map_[root]['left']\n",
    "    right = map_[root]['right']\n",
    "    \n",
    "    if left == -1 and right == -1:\n",
    "        result.append(root)\n",
    "        return\n",
    "    \n",
    "    if left != -1:\n",
    "        rear(left)\n",
    "    \n",
    "    if right != -1:\n",
    "        rear(right)\n",
    "    \n",
    "    result.append(root)\n",
    "    return \n",
    "    \n",
    "    "
   ]
  },
  {
   "cell_type": "code",
   "execution_count": 38,
   "id": "936d7b65",
   "metadata": {},
   "outputs": [],
   "source": [
    "rear(0)"
   ]
  },
  {
   "cell_type": "code",
   "execution_count": 39,
   "id": "be0c399d",
   "metadata": {},
   "outputs": [
    {
     "data": {
      "text/plain": [
       "[7, 8, 3, 9, 10, 4, 1, 11, 5, 6, 2, 0]"
      ]
     },
     "execution_count": 39,
     "metadata": {},
     "output_type": "execute_result"
    }
   ],
   "source": [
    "result"
   ]
  },
  {
   "cell_type": "code",
   "execution_count": 52,
   "id": "a0a78ba7",
   "metadata": {},
   "outputs": [],
   "source": [
    "result= []"
   ]
  },
  {
   "cell_type": "code",
   "execution_count": 55,
   "id": "3ee29366",
   "metadata": {},
   "outputs": [
    {
     "data": {
      "text/plain": [
       "[]"
      ]
     },
     "execution_count": 55,
     "metadata": {},
     "output_type": "execute_result"
    }
   ],
   "source": [
    "result"
   ]
  },
  {
   "cell_type": "code",
   "execution_count": 56,
   "id": "f8f5e966",
   "metadata": {},
   "outputs": [],
   "source": [
    "def middle(root):\n",
    "    global result\n",
    "    tree_dict = map_[root]\n",
    "    left = map_[root]['left']\n",
    "    right = map_[root]['right']\n",
    "    if left == -1 and right == -1:\n",
    "        result.append(root)\n",
    "        return\n",
    "    \n",
    "    if left != -1:\n",
    "        middle(left)\n",
    "    \n",
    "    result.append(root)\n",
    "    \n",
    "    if right != -1:\n",
    "        middle(right)\n",
    "    \n",
    "    \n",
    "    \n",
    "    \n",
    "    "
   ]
  },
  {
   "cell_type": "code",
   "execution_count": 57,
   "id": "cb40ffc5",
   "metadata": {},
   "outputs": [],
   "source": [
    "middle(0)"
   ]
  },
  {
   "cell_type": "code",
   "execution_count": 58,
   "id": "7b0da9d8",
   "metadata": {},
   "outputs": [
    {
     "data": {
      "text/plain": [
       "[7, 3, 8, 1, 9, 4, 10, 0, 11, 5, 2, 6]"
      ]
     },
     "execution_count": 58,
     "metadata": {},
     "output_type": "execute_result"
    }
   ],
   "source": [
    "result"
   ]
  },
  {
   "cell_type": "code",
   "execution_count": null,
   "id": "86686ceb",
   "metadata": {},
   "outputs": [],
   "source": []
  },
  {
   "cell_type": "code",
   "execution_count": null,
   "id": "cab39528",
   "metadata": {},
   "outputs": [],
   "source": [
    "def jeonwi(nownode):\n",
    "\n",
    "    tree_dict= map_[nownode]\n",
    "    left = tree_dict['left']\n",
    "    right = tree_dict['right']\n",
    "    \n",
    "    if left == '-1' and right == '-1':\n",
    "        jeonwi_result.append(nownode)\n",
    "        return \n",
    "\n",
    "    jeonwi_result.append(nownode)\n",
    "    \n",
    "    if left  != '-1':\n",
    "        jeonwi(left)\n",
    "    if right != '-1':\n",
    "        jeonwi(right)"
   ]
  },
  {
   "cell_type": "code",
   "execution_count": null,
   "id": "d626387f",
   "metadata": {},
   "outputs": [],
   "source": []
  },
  {
   "cell_type": "code",
   "execution_count": null,
   "id": "0f2d3c6f",
   "metadata": {},
   "outputs": [],
   "source": []
  },
  {
   "cell_type": "code",
   "execution_count": null,
   "id": "c97701c0",
   "metadata": {},
   "outputs": [],
   "source": []
  }
 ],
 "metadata": {
  "kernelspec": {
   "display_name": "Python 3 (ipykernel)",
   "language": "python",
   "name": "python3"
  },
  "language_info": {
   "codemirror_mode": {
    "name": "ipython",
    "version": 3
   },
   "file_extension": ".py",
   "mimetype": "text/x-python",
   "name": "python",
   "nbconvert_exporter": "python",
   "pygments_lexer": "ipython3",
   "version": "3.8.13"
  }
 },
 "nbformat": 4,
 "nbformat_minor": 5
}
