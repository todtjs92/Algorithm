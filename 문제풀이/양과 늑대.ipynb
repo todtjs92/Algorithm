{
 "cells": [
  {
   "cell_type": "code",
   "execution_count": 17,
   "id": "02662fd6",
   "metadata": {},
   "outputs": [],
   "source": [
    "from collections import defaultdict, deque  \n",
    "from copy import deepcopy"
   ]
  },
  {
   "cell_type": "code",
   "execution_count": 18,
   "id": "d52dec6f",
   "metadata": {},
   "outputs": [],
   "source": [
    "info = [0,0,1,1,1,0,1,0,1,0,1,1]\n",
    "edges = [[0,1],[1,2],[1,4],[0,8],[8,7],[9,10],[9,11],[4,3],[6,5],[4,6],[8,9]]"
   ]
  },
  {
   "cell_type": "markdown",
   "id": "55deea01",
   "metadata": {},
   "source": [
    "## 그래프 생성부터"
   ]
  },
  {
   "cell_type": "code",
   "execution_count": 19,
   "id": "41fe000b",
   "metadata": {},
   "outputs": [],
   "source": [
    "is_wolf = list()\n",
    "num2edges = defaultdict(list)\n",
    "max_sheep = 0"
   ]
  },
  {
   "cell_type": "code",
   "execution_count": 20,
   "id": "a06ba455",
   "metadata": {},
   "outputs": [],
   "source": [
    "is_wolf = info "
   ]
  },
  {
   "cell_type": "code",
   "execution_count": 21,
   "id": "ff5b18c4",
   "metadata": {},
   "outputs": [
    {
     "data": {
      "text/plain": [
       "[0, 0, 1, 1, 1, 0, 1, 0, 1, 0, 1, 1]"
      ]
     },
     "execution_count": 21,
     "metadata": {},
     "output_type": "execute_result"
    }
   ],
   "source": [
    "is_wolf"
   ]
  },
  {
   "cell_type": "code",
   "execution_count": 22,
   "id": "58815497",
   "metadata": {},
   "outputs": [],
   "source": [
    "used = [False] * len(is_wolf)"
   ]
  },
  {
   "cell_type": "code",
   "execution_count": 23,
   "id": "7759ddf9",
   "metadata": {},
   "outputs": [],
   "source": [
    "for e_from, e_to in edges:\n",
    "    num2edges[e_from].append(e_to) # 연결된 엣지 리스트에 추가\n",
    "\n"
   ]
  },
  {
   "cell_type": "code",
   "execution_count": 24,
   "id": "a109d2f1",
   "metadata": {},
   "outputs": [
    {
     "data": {
      "text/plain": [
       "defaultdict(list,\n",
       "            {0: [1, 8], 1: [2, 4], 8: [7, 9], 9: [10, 11], 4: [3, 6], 6: [5]})"
      ]
     },
     "execution_count": 24,
     "metadata": {},
     "output_type": "execute_result"
    }
   ],
   "source": [
    "num2edges"
   ]
  },
  {
   "cell_type": "code",
   "execution_count": 27,
   "id": "dd2e4197",
   "metadata": {},
   "outputs": [],
   "source": [
    "from collections import defaultdict, deque  #\n",
    "from copy import deepcopy\n",
    " \n",
    "is_wolf = list()\n",
    "num2edges = defaultdict(list)\n",
    "max_sheep = 0\n",
    " \n",
    "def solution(info, edges):\n",
    "    global is_wolf, num2edges, max_sheep\n",
    "    is_wolf = info \n",
    "    used = [False] * len(is_wolf) \n",
    " \n",
    "    for e_from, e_to in edges:\n",
    "        num2edges[e_from].append(e_to) \n",
    " \n",
    "    # start\n",
    "    find_max_recursive(0, used, 0, 0, [])\n",
    "    return max_sheep\n"
   ]
  },
  {
   "cell_type": "code",
   "execution_count": 28,
   "id": "b5142ccf",
   "metadata": {},
   "outputs": [],
   "source": [
    "def find_max_recursive(current_loc, used, nsheep, nwolf, can_go):\n",
    "    global max_sheep\n",
    " \n",
    "    if used[current_loc]:\n",
    "        return  \n",
    "    used[current_loc] = True  \n",
    " \n",
    "    if is_wolf[current_loc]:  \n",
    "        nwolf += 1\n",
    "    else:\n",
    "        nsheep += 1  \n",
    "        max_sheep = max(max_sheep, nsheep)  \n",
    " \n",
    "    if nsheep <= nwolf:\n",
    "        return  \n",
    " \n",
    "    can_go.extend(num2edges[current_loc])  \n",
    "    for next_loc in can_go:\n",
    "        find_max_recursive(next_loc, deepcopy(used), nsheep, nwolf,\n",
    "                           can_go=[loc for loc in can_go if loc != next_loc and not used[loc]])"
   ]
  },
  {
   "cell_type": "code",
   "execution_count": null,
   "id": "bbc1165a",
   "metadata": {},
   "outputs": [],
   "source": []
  }
 ],
 "metadata": {
  "kernelspec": {
   "display_name": "Python 3 (ipykernel)",
   "language": "python",
   "name": "python3"
  },
  "language_info": {
   "codemirror_mode": {
    "name": "ipython",
    "version": 3
   },
   "file_extension": ".py",
   "mimetype": "text/x-python",
   "name": "python",
   "nbconvert_exporter": "python",
   "pygments_lexer": "ipython3",
   "version": "3.9.7"
  }
 },
 "nbformat": 4,
 "nbformat_minor": 5
}
