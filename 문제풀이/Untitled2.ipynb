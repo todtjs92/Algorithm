{
 "cells": [
  {
   "cell_type": "code",
   "execution_count": 13,
   "id": "b1ea5113",
   "metadata": {},
   "outputs": [],
   "source": [
    "def solution(today, terms, privacies):\n",
    "    # 28 다음 1로 그냥 박아도 되겠는데?\n",
    "    # 기한 구해가지고 그냥 비교하면 됨. \n",
    "    # 하루전까지가 가능기간임. \n",
    "    # 비교할라면 연 월, 일 구별해서 놔야할듯.\n",
    "    \n",
    "    # 1. today . 기준으로 스플릿, list로 담아둠. \n",
    "    # 2. terms는 스플릿 후 에 dict에다가 \n",
    "    # 3. privacies도 정리하고 바로 날짜 list로 , 아니다 그냥 연월일로 두는게 나을거같은데, . \n",
    "    answer = []\n",
    "    term_dict= {}\n",
    "    month_list = [x for x in range(12)]\n",
    "    today = today[0:4] + today[5:7] + today[8:]\n",
    "    \n",
    "    for term in terms:\n",
    "        a,b = term.split(' ')\n",
    "        term_dict[a] = int(b)\n",
    "    count = 1\n",
    "    for private in privacies:\n",
    "        dates , term  = private.split(\" \")\n",
    "        year , month , day = map(int,dates.split('.'))\n",
    "        mov_month = term_dict[term]\n",
    "        \n",
    "        if day == 1:\n",
    "            new_day = 28\n",
    "            month_adj = -1\n",
    "        else:\n",
    "            new_day = day - 1\n",
    "            month_adj = 0\n",
    "        \n",
    "        new_month = month + mov_month + month_adj\n",
    "        if new_month > 12:\n",
    "            new_year = year + 1 \n",
    "        else:\n",
    "            new_year = year\n",
    "        new_month = month_list[ new_month % 12 ] \n",
    "        \n",
    "        # make string\n",
    "        year_string= str(new_year)\n",
    "        \n",
    "        if new_month < 10 :\n",
    "            month_string = '0' + str(new_month)\n",
    "        else:\n",
    "            month_string = str(new_month)\n",
    "            \n",
    "        if new_day < 10:\n",
    "            day_string = '0' + str(new_day)\n",
    "        else:\n",
    "            day_string = str(new_day)\n",
    "            \n",
    "        final_string = year_string + month_string + day_string\n",
    "        \n",
    "        if today > final_string:\n",
    "            answer.append(count)\n",
    "        count += 1\n",
    "    \n",
    "\n",
    "    return answer"
   ]
  },
  {
   "cell_type": "code",
   "execution_count": 18,
   "id": "46075041",
   "metadata": {},
   "outputs": [],
   "source": [
    "def solution(today, terms, privacies):\n",
    "    # 28 다음 1로 그냥 박아도 되겠는데?\n",
    "    # 기한 구해가지고 그냥 비교하면 됨. \n",
    "    # 하루전까지가 가능기간임. \n",
    "    # 비교할라면 연 월, 일 구별해서 놔야할듯.\n",
    "    \n",
    "    # 1. today . 기준으로 스플릿, list로 담아둠. \n",
    "    # 2. terms는 스플릿 후 에 dict에다가 \n",
    "    # 3. privacies도 정리하고 바로 날짜 list로 , 아니다 그냥 연월일로 두는게 나을거같은데, . \n",
    "    answer = []\n",
    "    term_dict= {}\n",
    "    month_list = [x for x in range(12)]\n",
    "    today = today[0:4] + today[5:7] + today[8:]\n",
    "    \n",
    "    for term in terms:\n",
    "        a,b = term.split(' ')\n",
    "        term_dict[a] = int(b)\n",
    "    count = 1\n",
    "    for private in privacies:\n",
    "        dates , term  = private.split(\" \")\n",
    "        \n",
    "        year , month , day = map(int,dates.split('.'))\n",
    "        mov_month = term_dict[term]\n",
    "        \n",
    "        if day == 1:\n",
    "            new_day = 28\n",
    "            month_adj = -1\n",
    "        else:\n",
    "            new_day = day - 1\n",
    "            month_adj = 0\n",
    "        \n",
    "        new_month = month + mov_month + month_adj\n",
    "        mok = new_month // 12 \n",
    "        namuji = new_month % 12 \n",
    "        \n",
    "        new_year += mok\n",
    "        \n",
    "        new_month = month_list[ new_month % 12 ] \n",
    "        \n",
    "        # make string\n",
    "        year_string= str(new_year)\n",
    "        \n",
    "        if new_month < 10 :\n",
    "            month_string = '0' + str(new_month)\n",
    "        else:\n",
    "            month_string = str(new_month)\n",
    "            \n",
    "        if new_day < 10:\n",
    "            day_string = '0' + str(new_day)\n",
    "        else:\n",
    "            day_string = str(new_day)\n",
    "            \n",
    "        final_string = year_string + month_string + day_string\n",
    "        \n",
    "        if today > final_string:\n",
    "            answer.append(count)\n",
    "        count += 1\n",
    "    \n",
    "\n",
    "    return answer"
   ]
  },
  {
   "cell_type": "code",
   "execution_count": 75,
   "id": "964eeac2",
   "metadata": {},
   "outputs": [],
   "source": [
    "today = \"2022.05.19\""
   ]
  },
  {
   "cell_type": "code",
   "execution_count": 76,
   "id": "50206caf",
   "metadata": {},
   "outputs": [],
   "source": [
    "terms = [\"A 6\", \"B 12\", \"C 3\"]"
   ]
  },
  {
   "cell_type": "code",
   "execution_count": 77,
   "id": "6b1bf85a",
   "metadata": {},
   "outputs": [],
   "source": [
    "privacies = [\"2021.05.02 A\", \"2021.07.01 B\", \"2022.02.19 C\", \"2022.02.20 C\"]"
   ]
  },
  {
   "cell_type": "code",
   "execution_count": 87,
   "id": "5f654bb0",
   "metadata": {},
   "outputs": [],
   "source": [
    "today = \"2020.12.28\"\n",
    "terms = [\"B 24\"]\n",
    "privacies = [\"2020.01.01 B\"]"
   ]
  },
  {
   "cell_type": "code",
   "execution_count": 88,
   "id": "01325b3a",
   "metadata": {},
   "outputs": [
    {
     "name": "stdout",
     "output_type": "stream",
     "text": [
      "24\n",
      "20221228\n"
     ]
    },
    {
     "data": {
      "text/plain": [
       "[]"
      ]
     },
     "execution_count": 88,
     "metadata": {},
     "output_type": "execute_result"
    }
   ],
   "source": [
    "solution(today, terms ,privacies)"
   ]
  },
  {
   "cell_type": "code",
   "execution_count": 83,
   "id": "58a7f866",
   "metadata": {},
   "outputs": [],
   "source": [
    "def solution(today, terms, privacies):\n",
    "    answer = []\n",
    "    term_dict= {}\n",
    "    month_list = [x for x in range(12)]\n",
    "    month_list[0] += 12\n",
    "    \n",
    "    today = today[0:4] + today[5:7] + today[8:]\n",
    "    \n",
    "    for term in terms:\n",
    "        a,b = term.split(' ')\n",
    "        term_dict[a] = int(b)\n",
    "    count = 1\n",
    "    for private in privacies:\n",
    "        dates , term  = private.split(\" \")\n",
    "        \n",
    "        year , month , day = map(int,dates.split('.'))\n",
    "        mov_month = term_dict[term]\n",
    "        \n",
    "        if day == 1:\n",
    "            new_day = 28\n",
    "            month_adj = -1\n",
    "           \n",
    "        else:\n",
    "            new_day = day - 1\n",
    "            month_adj = 0\n",
    "        \n",
    "       \n",
    "        new_month = month + mov_month + month_adj\n",
    "        print(new_month)\n",
    "        mok = new_month // 12 \n",
    "        namuji = new_month % 12 \n",
    "        \n",
    "        if new_month >= 12 and month == 1:\n",
    "            new_year = year +  mok  - 1\n",
    "        new_year = year +  mok \n",
    "\n",
    "        new_month = month_list[ namuji ] \n",
    "        \n",
    "        # make string\n",
    "        year_string= str(new_year)\n",
    "        \n",
    "        if new_month < 10 :\n",
    "            month_string = '0' + str(new_month)\n",
    "        else:\n",
    "            month_string = str(new_month)\n",
    "            \n",
    "        if new_day < 10:\n",
    "            day_string = '0' + str(new_day)\n",
    "        else:\n",
    "            day_string = str(new_day)\n",
    "            \n",
    "        final_string = year_string + month_string + day_string\n",
    "        print(final_string)\n",
    "        if today > final_string:\n",
    "            answer.append(count)\n",
    "        count += 1\n",
    "    \n",
    "\n",
    "    return answer"
   ]
  },
  {
   "cell_type": "code",
   "execution_count": 57,
   "id": "23dd8c36",
   "metadata": {},
   "outputs": [
    {
     "data": {
      "text/plain": [
       "('2020.01.02', ['A', 1], ['2020.01.02 A'])"
      ]
     },
     "execution_count": 57,
     "metadata": {},
     "output_type": "execute_result"
    }
   ],
   "source": [
    "\"2020.01.02\", [\"A\", 1], [\"2020.01.02 A\"]"
   ]
  },
  {
   "cell_type": "code",
   "execution_count": null,
   "id": "d9f4e411",
   "metadata": {},
   "outputs": [],
   "source": []
  }
 ],
 "metadata": {
  "kernelspec": {
   "display_name": "Python 3 (ipykernel)",
   "language": "python",
   "name": "python3"
  },
  "language_info": {
   "codemirror_mode": {
    "name": "ipython",
    "version": 3
   },
   "file_extension": ".py",
   "mimetype": "text/x-python",
   "name": "python",
   "nbconvert_exporter": "python",
   "pygments_lexer": "ipython3",
   "version": "3.8.13"
  }
 },
 "nbformat": 4,
 "nbformat_minor": 5
}
