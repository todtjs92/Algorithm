{
 "cells": [
  {
   "cell_type": "code",
   "execution_count": 4,
   "id": "319686e2",
   "metadata": {},
   "outputs": [],
   "source": [
    "import re\n",
    "from collections import defaultdict"
   ]
  },
  {
   "cell_type": "code",
   "execution_count": 46,
   "id": "2c81a6ca",
   "metadata": {},
   "outputs": [],
   "source": [
    "def solution(str1, str2):\n",
    "    str1_set = defaultdict(int)\n",
    "    str2_set = defaultdict(int)\n",
    "    str1 = str1.lower()\n",
    "    str2 = str2.lower()\n",
    "\n",
    "    for s in range(len(str1)-1):\n",
    "        temp = str1[s:s+2]\n",
    "        if re.findall(\"[^a-z]\",temp) :\n",
    "            continue\n",
    "\n",
    "        if temp in str1_set:\n",
    "            str1_set[temp] += 1\n",
    "        else:\n",
    "            str1_set[temp] = 1 \n",
    "\n",
    "    for s in range(len(str2)-1):\n",
    "        temp = str2[s:s+2]\n",
    "        if re.findall(\"[^a-z]\",temp) :\n",
    "            continue\n",
    "\n",
    "        if temp in str2_set:\n",
    "            str2_set[temp] += 1\n",
    "        else:\n",
    "            str2_set[temp] = 1  \n",
    "    \n",
    "    set1 = set(str1_set.keys())\n",
    "    set2 = set(str2_set.keys())\n",
    "    set_inner = set1 & set2\n",
    "    set_outer = set1 | set2\n",
    "    if set_outer ==set():\n",
    "        return 65536\n",
    "    inner_count = 0\n",
    "    outer_count = 0\n",
    "    for elem in set_inner:\n",
    "        inner_count += min( str1_set[elem], str2_set[elem] )\n",
    "    for elem in set_outer:    \n",
    "        outer_count += max(str1_set[elem], str2_set[elem] )\n",
    "    answer = int(inner_count * 65536 / outer_count)\n",
    "    return answer"
   ]
  },
  {
   "cell_type": "code",
   "execution_count": 47,
   "id": "089db788",
   "metadata": {},
   "outputs": [
    {
     "name": "stdout",
     "output_type": "stream",
     "text": [
      "set()\n",
      "set()\n"
     ]
    },
    {
     "data": {
      "text/plain": [
       "65536"
      ]
     },
     "execution_count": 47,
     "metadata": {},
     "output_type": "execute_result"
    }
   ],
   "source": [
    "solution(\"E=M*C^2\",\"e=m*c^2\" )"
   ]
  },
  {
   "cell_type": "code",
   "execution_count": null,
   "id": "88b81a27",
   "metadata": {},
   "outputs": [],
   "source": []
  },
  {
   "cell_type": "markdown",
   "id": "220ed4e1",
   "metadata": {},
   "source": [
    "### 2개로 다 쪼갬"
   ]
  },
  {
   "cell_type": "code",
   "execution_count": 5,
   "id": "148b525d",
   "metadata": {},
   "outputs": [],
   "source": [
    "str1 = \"FRANCE\"\n",
    "str2 = \"french\""
   ]
  },
  {
   "cell_type": "code",
   "execution_count": null,
   "id": "65491319",
   "metadata": {},
   "outputs": [],
   "source": [
    "# dict써서 비교"
   ]
  },
  {
   "cell_type": "code",
   "execution_count": 12,
   "id": "a2257f54",
   "metadata": {},
   "outputs": [],
   "source": [
    "from collections import defaultdict"
   ]
  },
  {
   "cell_type": "code",
   "execution_count": 13,
   "id": "1f66783c",
   "metadata": {},
   "outputs": [],
   "source": [
    "str1_set = defaultdict(int)\n",
    "str2_set = defaultdict(int)"
   ]
  },
  {
   "cell_type": "code",
   "execution_count": 14,
   "id": "2029dc22",
   "metadata": {},
   "outputs": [],
   "source": [
    "str1 = str1.lower()\n",
    "str2 = str2.lower()\n",
    "\n",
    "for s in range(len(str1)-1):\n",
    "    temp = str1[s:s+2]\n",
    "    if re.findall(\"[^a-z]\",temp) :\n",
    "        continue\n",
    "    \n",
    "    if temp in str1_set:\n",
    "        str1_set[temp] += 1\n",
    "    else:\n",
    "        str1_set[temp] = 1 \n",
    "\n",
    "for s in range(len(str2)-1):\n",
    "    temp = str2[s:s+2]\n",
    "    if re.findall(\"[^a-z]\",temp) :\n",
    "        continue\n",
    "    \n",
    "    if temp in str2_set:\n",
    "        str2_set[temp] += 1\n",
    "    else:\n",
    "        str2_set[temp] = 1  \n",
    "    "
   ]
  },
  {
   "cell_type": "code",
   "execution_count": 20,
   "id": "a9b74956",
   "metadata": {},
   "outputs": [
    {
     "data": {
      "text/plain": [
       "dict_keys(['fr', 'ra', 'an', 'nc', 'ce'])"
      ]
     },
     "execution_count": 20,
     "metadata": {},
     "output_type": "execute_result"
    }
   ],
   "source": [
    "str1_set.keys()"
   ]
  },
  {
   "cell_type": "code",
   "execution_count": 21,
   "id": "9baced09",
   "metadata": {},
   "outputs": [],
   "source": [
    "set1 = set(str1_set.keys())\n",
    "set2 = set(str2_set.keys())"
   ]
  },
  {
   "cell_type": "code",
   "execution_count": 23,
   "id": "53cf8abc",
   "metadata": {},
   "outputs": [],
   "source": [
    "set_inner = set1 & set2"
   ]
  },
  {
   "cell_type": "code",
   "execution_count": 24,
   "id": "0b05fedd",
   "metadata": {},
   "outputs": [],
   "source": [
    "set_outer = set1 | set2"
   ]
  },
  {
   "cell_type": "code",
   "execution_count": null,
   "id": "d21590aa",
   "metadata": {},
   "outputs": [],
   "source": [
    "if set_outer ==False:\n",
    "    return 65536"
   ]
  },
  {
   "cell_type": "code",
   "execution_count": 29,
   "id": "01e0830f",
   "metadata": {},
   "outputs": [],
   "source": [
    "inner_count = 0\n",
    "outer_count = 0\n",
    "for elem in set_inner:\n",
    "    inner_count += min( str1_set[elem], str2_set[elem] )\n",
    "for elem in set_outer:    \n",
    "    outer_count += max(str1_set[elem], str2_set[elem] )"
   ]
  },
  {
   "cell_type": "code",
   "execution_count": 31,
   "id": "0ef55d34",
   "metadata": {},
   "outputs": [],
   "source": [
    "answer = int(inner_count * 65536 / outer_count)"
   ]
  },
  {
   "cell_type": "code",
   "execution_count": 32,
   "id": "577d85c3",
   "metadata": {},
   "outputs": [
    {
     "data": {
      "text/plain": [
       "16384"
      ]
     },
     "execution_count": 32,
     "metadata": {},
     "output_type": "execute_result"
    }
   ],
   "source": [
    "answer"
   ]
  },
  {
   "cell_type": "code",
   "execution_count": 15,
   "id": "73051da2",
   "metadata": {},
   "outputs": [
    {
     "data": {
      "text/plain": [
       "defaultdict(int, {'fr': 1, 'ra': 1, 'an': 1, 'nc': 1, 'ce': 1})"
      ]
     },
     "execution_count": 15,
     "metadata": {},
     "output_type": "execute_result"
    }
   ],
   "source": [
    "str1_set"
   ]
  },
  {
   "cell_type": "code",
   "execution_count": 16,
   "id": "e6fbe787",
   "metadata": {},
   "outputs": [
    {
     "data": {
      "text/plain": [
       "defaultdict(int, {'fr': 1, 're': 1, 'en': 1, 'nc': 1, 'ch': 1})"
      ]
     },
     "execution_count": 16,
     "metadata": {},
     "output_type": "execute_result"
    }
   ],
   "source": [
    "str2_set"
   ]
  },
  {
   "cell_type": "code",
   "execution_count": 9,
   "id": "c9e422bc",
   "metadata": {},
   "outputs": [
    {
     "data": {
      "text/plain": [
       "['!']"
      ]
     },
     "execution_count": 9,
     "metadata": {},
     "output_type": "execute_result"
    }
   ],
   "source": [
    "re.findall(\"[^a-z]\",'a!')"
   ]
  },
  {
   "cell_type": "code",
   "execution_count": null,
   "id": "20bb2b7f",
   "metadata": {},
   "outputs": [],
   "source": [
    "import re\n",
    "import itertools\n",
    "import collections\n",
    "def remover(lists):\n",
    "  for i in range(len(lists)-1,-1,-1):\n",
    "    if bool(re.search('[^a-z]',lists[i]))==True:\n",
    "      lists.pop(i)\n",
    "  return lists\n",
    "def pairwise(string):\n",
    "  empty =[]\n",
    "  for i in range(0,len(string)-1):\n",
    "    empty.append(string[i:i+2])\n",
    "  return empty\n",
    "def solution(str1, str2):\n",
    "    str1= str1.lower()\n",
    "    str2 = str2.lower()\n",
    "    str1_list = pairwise(str1)\n",
    "    str2_list = pairwise(str2)\n",
    "    str1_list  = remover(str1_list)\n",
    "    str2_list  = remover(str2_list)\n",
    "    inter = list( (  collections.Counter(str1_list) & collections.Counter(str2_list)  ).elements() )\n",
    "    outer = list( (  collections.Counter(str1_list) | collections.Counter(str2_list)  ).elements() )\n",
    "    if len(outer) ==0:\n",
    "        return 65536\n",
    "    else:\n",
    "        answer = int ( len(inter)/len(outer) * 65536 )\n",
    "    return answer"
   ]
  }
 ],
 "metadata": {
  "kernelspec": {
   "display_name": "Python 3 (ipykernel)",
   "language": "python",
   "name": "python3"
  },
  "language_info": {
   "codemirror_mode": {
    "name": "ipython",
    "version": 3
   },
   "file_extension": ".py",
   "mimetype": "text/x-python",
   "name": "python",
   "nbconvert_exporter": "python",
   "pygments_lexer": "ipython3",
   "version": "3.8.13"
  }
 },
 "nbformat": 4,
 "nbformat_minor": 5
}
