{
 "cells": [
  {
   "cell_type": "code",
   "execution_count": 1,
   "id": "44e8b828",
   "metadata": {},
   "outputs": [],
   "source": [
    "n = 8"
   ]
  },
  {
   "cell_type": "code",
   "execution_count": 2,
   "id": "52ff2ff2",
   "metadata": {},
   "outputs": [],
   "source": [
    "map_ = [[0 for y in range(N)] for x in range(N)]"
   ]
  },
  {
   "cell_type": "code",
   "execution_count": null,
   "id": "51e19e5e",
   "metadata": {},
   "outputs": [],
   "source": [
    "import sys\n",
    "\n",
    "def logic(n):\n",
    "    if n ==N:\n",
    "        global count\n",
    "        \n",
    "        count +=1\n",
    "    else:\n",
    "        for i in range(N):\n",
    "            if  visited[i]:\n",
    "                continue\n",
    "            \n",
    "            board[n] =  i\n",
    "            \n",
    "            if check(n):\n",
    "                visited[i] =True\n",
    "                logic(n+1)\n",
    "                visited[i] =  False\n",
    "\n",
    "def check(n):\n",
    "    for i in range(n):\n",
    "        if (board[n]== board[i]) or (n-i == abs(board[n] - board[i])):\n",
    "            return False\n",
    "    \n",
    "    return True\n",
    "\n",
    "if __name__ =='__main__':\n",
    "    N  = 4\n",
    "    count =  0\n",
    "    board = [0 for _ in range(N)]\n",
    "    visited = [False for _ in range(N)]\n",
    "    \n",
    "    logic(0)\n",
    "    print(count)"
   ]
  }
 ],
 "metadata": {
  "kernelspec": {
   "display_name": "Python 3 (ipykernel)",
   "language": "python",
   "name": "python3"
  },
  "language_info": {
   "codemirror_mode": {
    "name": "ipython",
    "version": 3
   },
   "file_extension": ".py",
   "mimetype": "text/x-python",
   "name": "python",
   "nbconvert_exporter": "python",
   "pygments_lexer": "ipython3",
   "version": "3.9.7"
  }
 },
 "nbformat": 4,
 "nbformat_minor": 5
}
